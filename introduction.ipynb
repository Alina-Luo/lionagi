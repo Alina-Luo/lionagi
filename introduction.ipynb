{
 "cells": [
  {
   "cell_type": "code",
   "execution_count": 1,
   "metadata": {},
   "outputs": [],
   "source": [
    "import lionagi as li\n",
    "import numpy as np"
   ]
  },
  {
   "cell_type": "markdown",
   "metadata": {},
   "source": [
    "### Special returns"
   ]
  },
  {
   "cell_type": "code",
   "execution_count": 2,
   "metadata": {},
   "outputs": [
    {
     "name": "stdout",
     "output_type": "stream",
     "text": [
      "[1, 4, 9, 16, 25]\n",
      "[1, 8, 81, 1024, 15625]\n",
      "[[1, 1, 1, 1, 1], [4, 8, 16, 32, 64], [9, 27, 81, 243, 729], [16, 64, 256, 1024, 4096], [25, 125, 625, 3125, 15625]]\n"
     ]
    }
   ],
   "source": [
    "a = [1,2,3,4,5]\n",
    "f1 = lambda x: x**2\n",
    "f2 = lambda x: x**3\n",
    "f3 = lambda x: x**4\n",
    "f4 = lambda x: x**5\n",
    "f5 = lambda x: x**6\n",
    "f = [f1,f2,f3,f4,f5]\n",
    "\n",
    "# list return, accepts a list as input, \n",
    "# return a list of each function applied to the input\n",
    "print(li.l_return(a,f1))\n",
    "\n",
    "# map return, accepts a list and a list of function of same length as input, \n",
    "# return a list of elementwise-mapped list\n",
    "print(li.m_return(a,f))\n",
    "\n",
    "# explode return, accepts a list and a list of function of any length, \n",
    "# return a list of lists, each inner list is the result of applying each function to the input\n",
    "print(li.e_return(a,f))"
   ]
  },
  {
   "cell_type": "code",
   "execution_count": 3,
   "metadata": {},
   "outputs": [
    {
     "data": {
      "text/plain": [
       "(5, 5)"
      ]
     },
     "execution_count": 3,
     "metadata": {},
     "output_type": "execute_result"
    }
   ],
   "source": [
    "# compatible with numpy\n",
    "np.array(li.e_return(a,f)).shape"
   ]
  },
  {
   "cell_type": "markdown",
   "metadata": {},
   "source": [
    "### Flatten nested list/dict"
   ]
  },
  {
   "cell_type": "code",
   "execution_count": 4,
   "metadata": {},
   "outputs": [
    {
     "data": {
      "text/plain": [
       "(25,)"
      ]
     },
     "execution_count": 4,
     "metadata": {},
     "output_type": "execute_result"
    }
   ],
   "source": [
    "# flatten any kinds of nested list and make it 1d\n",
    "np.array(li.flatten_list(li.e_return(a,f))).shape"
   ]
  },
  {
   "cell_type": "code",
   "execution_count": 5,
   "metadata": {},
   "outputs": [
    {
     "data": {
      "text/plain": [
       "{'aa': 1, 'bb_cc': 2, 'bb_dd': 3, 'ee_ff': 4, 'ee_gg_hh': 5, 'ee_gg_ii': 6}"
      ]
     },
     "execution_count": 5,
     "metadata": {},
     "output_type": "execute_result"
    }
   ],
   "source": [
    "a = {\n",
    "    'aa': 1,\n",
    "    'bb': {\n",
    "        'cc': 2,\n",
    "        'dd': 3\n",
    "        },\n",
    "    'ee': {\n",
    "        'ff': 4,\n",
    "        'gg': {\n",
    "            'hh': 5,\n",
    "            'ii': 6\n",
    "            }\n",
    "        }   \n",
    "    }\n",
    "\n",
    "# flatten dict to get all nested dict outside return as an unnested dict, preserve parent-child relationship, and key order\n",
    "li.flatten_dict(a)"
   ]
  },
  {
   "cell_type": "code",
   "execution_count": 6,
   "metadata": {},
   "outputs": [
    {
     "data": {
      "text/plain": [
       "{'aa': 1, 'bb.cc': 2, 'bb.dd': 3, 'ee.ff': 4, 'ee.gg.hh': 5, 'ee.gg.ii': 6}"
      ]
     },
     "execution_count": 6,
     "metadata": {},
     "output_type": "execute_result"
    }
   ],
   "source": [
    "li.flatten_dict(a, separator='.') # change separator"
   ]
  },
  {
   "cell_type": "markdown",
   "metadata": {},
   "source": [
    "### type conversion"
   ]
  },
  {
   "cell_type": "code",
   "execution_count": 7,
   "metadata": {},
   "outputs": [
    {
     "data": {
      "text/plain": [
       "12"
      ]
     },
     "execution_count": 7,
     "metadata": {},
     "output_type": "execute_result"
    }
   ],
   "source": [
    "# keep all numeric from a string return as a int\n",
    "li.str_to_num('1d2')"
   ]
  },
  {
   "cell_type": "code",
   "execution_count": 8,
   "metadata": {},
   "outputs": [
    {
     "data": {
      "text/plain": [
       "'Number 1223 greater than upper bound 100'"
      ]
     },
     "execution_count": 8,
     "metadata": {},
     "output_type": "execute_result"
    }
   ],
   "source": [
    "# can set upper bound and lower bound\n",
    "li.str_to_num(_str='1d2sh23', upper_bound=100, lower_bound=0)"
   ]
  },
  {
   "cell_type": "markdown",
   "metadata": {},
   "source": [
    "### Others"
   ]
  },
  {
   "cell_type": "code",
   "execution_count": 9,
   "metadata": {},
   "outputs": [
    {
     "data": {
      "text/plain": [
       "[{'aa': 1,\n",
       "  'bb': {'cc': 2, 'dd': 3},\n",
       "  'ee': {'ff': 4, 'gg': {'hh': 5, 'ii': 6}}},\n",
       " {'aa': 1,\n",
       "  'bb': {'cc': 2, 'dd': 3},\n",
       "  'ee': {'ff': 4, 'gg': {'hh': 5, 'ii': 6}}},\n",
       " {'aa': 1,\n",
       "  'bb': {'cc': 2, 'dd': 3},\n",
       "  'ee': {'ff': 4, 'gg': {'hh': 5, 'ii': 6}}}]"
      ]
     },
     "execution_count": 9,
     "metadata": {},
     "output_type": "execute_result"
    }
   ],
   "source": [
    "# create deep copies of any object\n",
    "li.create_copies(a,3)"
   ]
  },
  {
   "cell_type": "code",
   "execution_count": 10,
   "metadata": {},
   "outputs": [
    {
     "data": {
      "text/plain": [
       "{'aa': 1, 'bb_cc': 2, 'bb_dd': 3, 'ee_ff': 4, 'ee_gg_hh': 5, 'ee_gg_ii': 6}"
      ]
     },
     "execution_count": 10,
     "metadata": {},
     "output_type": "execute_result"
    }
   ],
   "source": [
    "# hold_call is a delayed function call with exception handling\n",
    "li.hold_call(a, li.flatten_dict, hold=5)"
   ]
  },
  {
   "cell_type": "code",
   "execution_count": 11,
   "metadata": {},
   "outputs": [
    {
     "data": {
      "text/plain": [
       "[{'aa': 1, 'bb_cc': 2, 'bb_dd': 3, 'ee_ff': 4, 'ee_gg_hh': 5, 'ee_gg_ii': 6},\n",
       " {'aa': 1, 'bb_cc': 2, 'bb_dd': 3, 'ee_ff': 4, 'ee_gg_hh': 5, 'ee_gg_ii': 6},\n",
       " {'aa': 1, 'bb_cc': 2, 'bb_dd': 3, 'ee_ff': 4, 'ee_gg_hh': 5, 'ee_gg_ii': 6}]"
      ]
     },
     "execution_count": 11,
     "metadata": {},
     "output_type": "execute_result"
    }
   ],
   "source": [
    "f = lambda x: li.hold_call(x, li.flatten_dict, hold=5)\n",
    "\n",
    "# can use l_return like this\n",
    "li.l_return(li.create_copies(a,3),f)"
   ]
  },
  {
   "cell_type": "code",
   "execution_count": 13,
   "metadata": {},
   "outputs": [
    {
     "name": "stdout",
     "output_type": "stream",
     "text": [
      "exception ignored Error: test\n"
     ]
    }
   ],
   "source": [
    "def ff(x):\n",
    "    raise Exception('test')\n",
    "\n",
    "li.hold_call(a, ff, hold=1, ignore=True, msg='exception ignored ')"
   ]
  },
  {
   "cell_type": "code",
   "execution_count": 12,
   "metadata": {},
   "outputs": [
    {
     "ename": "Exception",
     "evalue": "Error: test",
     "output_type": "error",
     "traceback": [
      "\u001b[0;31m---------------------------------------------------------------------------\u001b[0m",
      "\u001b[0;31mException\u001b[0m                                 Traceback (most recent call last)",
      "File \u001b[0;32m~/Documents/GitHub/lionagi/lionagi/utils/return_utils.py:119\u001b[0m, in \u001b[0;36mhold_call\u001b[0;34m(x, f, hold, msg, ignore, **kwags)\u001b[0m\n\u001b[1;32m    118\u001b[0m     time\u001b[39m.\u001b[39msleep(hold)\n\u001b[0;32m--> 119\u001b[0m     \u001b[39mreturn\u001b[39;00m f(x, \u001b[39m*\u001b[39;49m\u001b[39m*\u001b[39;49mkwags)\n\u001b[1;32m    120\u001b[0m \u001b[39mexcept\u001b[39;00m \u001b[39mException\u001b[39;00m \u001b[39mas\u001b[39;00m e:\n",
      "\u001b[1;32m/Users/lion/Documents/GitHub/lionagi/test.ipynb Cell 16\u001b[0m line \u001b[0;36m2\n\u001b[1;32m      <a href='vscode-notebook-cell:/Users/lion/Documents/GitHub/lionagi/test.ipynb#X21sZmlsZQ%3D%3D?line=0'>1</a>\u001b[0m \u001b[39mdef\u001b[39;00m \u001b[39mff\u001b[39m(x):\n\u001b[0;32m----> <a href='vscode-notebook-cell:/Users/lion/Documents/GitHub/lionagi/test.ipynb#X21sZmlsZQ%3D%3D?line=1'>2</a>\u001b[0m     \u001b[39mraise\u001b[39;00m \u001b[39mException\u001b[39;00m(\u001b[39m'\u001b[39m\u001b[39mtest\u001b[39m\u001b[39m'\u001b[39m)\n",
      "\u001b[0;31mException\u001b[0m: test",
      "\nDuring handling of the above exception, another exception occurred:\n",
      "\u001b[0;31mException\u001b[0m                                 Traceback (most recent call last)",
      "\u001b[1;32m/Users/lion/Documents/GitHub/lionagi/test.ipynb Cell 16\u001b[0m line \u001b[0;36m4\n\u001b[1;32m      <a href='vscode-notebook-cell:/Users/lion/Documents/GitHub/lionagi/test.ipynb#X21sZmlsZQ%3D%3D?line=0'>1</a>\u001b[0m \u001b[39mdef\u001b[39;00m \u001b[39mff\u001b[39m(x):\n\u001b[1;32m      <a href='vscode-notebook-cell:/Users/lion/Documents/GitHub/lionagi/test.ipynb#X21sZmlsZQ%3D%3D?line=1'>2</a>\u001b[0m     \u001b[39mraise\u001b[39;00m \u001b[39mException\u001b[39;00m(\u001b[39m'\u001b[39m\u001b[39mtest\u001b[39m\u001b[39m'\u001b[39m)\n\u001b[0;32m----> <a href='vscode-notebook-cell:/Users/lion/Documents/GitHub/lionagi/test.ipynb#X21sZmlsZQ%3D%3D?line=3'>4</a>\u001b[0m li\u001b[39m.\u001b[39;49mhold_call(a, ff, hold\u001b[39m=\u001b[39;49m\u001b[39m1\u001b[39;49m, ignore\u001b[39m=\u001b[39;49m\u001b[39mFalse\u001b[39;49;00m)\n",
      "File \u001b[0;32m~/Documents/GitHub/lionagi/lionagi/utils/return_utils.py:127\u001b[0m, in \u001b[0;36mhold_call\u001b[0;34m(x, f, hold, msg, ignore, **kwags)\u001b[0m\n\u001b[1;32m    125\u001b[0m     \u001b[39mreturn\u001b[39;00m \u001b[39mNone\u001b[39;00m\n\u001b[1;32m    126\u001b[0m \u001b[39melse\u001b[39;00m:\n\u001b[0;32m--> 127\u001b[0m     \u001b[39mraise\u001b[39;00m \u001b[39mException\u001b[39;00m(msg)\n",
      "\u001b[0;31mException\u001b[0m: Error: test"
     ]
    }
   ],
   "source": [
    "li.hold_call(a, ff, hold=1, ignore=False)"
   ]
  }
 ],
 "metadata": {
  "kernelspec": {
   "display_name": "lionagi",
   "language": "python",
   "name": "python3"
  },
  "language_info": {
   "codemirror_mode": {
    "name": "ipython",
    "version": 3
   },
   "file_extension": ".py",
   "mimetype": "text/x-python",
   "name": "python",
   "nbconvert_exporter": "python",
   "pygments_lexer": "ipython3",
   "version": "3.11.5"
  }
 },
 "nbformat": 4,
 "nbformat_minor": 2
}
