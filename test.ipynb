{
 "cells": [
  {
   "cell_type": "code",
   "execution_count": 1,
   "metadata": {},
   "outputs": [],
   "source": [
    "import lionagi as li"
   ]
  },
  {
   "cell_type": "code",
   "execution_count": 8,
   "metadata": {},
   "outputs": [
    {
     "name": "stdout",
     "output_type": "stream",
     "text": [
      "[1, 4, 9, 16, 25]\n",
      "[[1], [8], [81], [1024], [15625]]\n",
      "[[[1], [1], [1], [1], [1]], [[4], [8], [16], [32], [64]], [[9], [27], [81], [243], [729]], [[16], [64], [256], [1024], [4096]], [[25], [125], [625], [3125], [15625]]]\n"
     ]
    }
   ],
   "source": [
    "a = [1,2,3,4,5]\n",
    "f1 = lambda x: x**2\n",
    "f2 = lambda x: x**3\n",
    "f3 = lambda x: x**4\n",
    "f4 = lambda x: x**5\n",
    "f5 = lambda x: x**6\n",
    "f = [f1,f2,f3,f4,f5]\n",
    "\n",
    "print(li.l_return(a,f1))\n",
    "print(li.m_return(a,f))\n",
    "print(li.e_return(a,f))"
   ]
  },
  {
   "cell_type": "code",
   "execution_count": 9,
   "metadata": {},
   "outputs": [
    {
     "data": {
      "text/plain": [
       "5"
      ]
     },
     "execution_count": 9,
     "metadata": {},
     "output_type": "execute_result"
    }
   ],
   "source": [
    "len(li.e_return(a,f))"
   ]
  },
  {
   "cell_type": "code",
   "execution_count": 11,
   "metadata": {},
   "outputs": [
    {
     "data": {
      "text/plain": [
       "25"
      ]
     },
     "execution_count": 11,
     "metadata": {},
     "output_type": "execute_result"
    }
   ],
   "source": [
    "len(li.flatten_list(li.e_return(a,f)))"
   ]
  },
  {
   "cell_type": "code",
   "execution_count": null,
   "metadata": {},
   "outputs": [],
   "source": []
  }
 ],
 "metadata": {
  "kernelspec": {
   "display_name": "lionagi",
   "language": "python",
   "name": "python3"
  },
  "language_info": {
   "codemirror_mode": {
    "name": "ipython",
    "version": 3
   },
   "file_extension": ".py",
   "mimetype": "text/x-python",
   "name": "python",
   "nbconvert_exporter": "python",
   "pygments_lexer": "ipython3",
   "version": "3.11.5"
  }
 },
 "nbformat": 4,
 "nbformat_minor": 2
}
