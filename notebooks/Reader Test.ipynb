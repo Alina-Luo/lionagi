{
 "cells": [
  {
   "cell_type": "markdown",
   "metadata": {},
   "source": [
    "# Reader"
   ]
  },
  {
   "cell_type": "code",
   "execution_count": null,
   "metadata": {},
   "outputs": [],
   "source": [
    "from lionagi.loader import ReaderType, load\n",
    "\n",
    "file = \"txt_examples/essay.txt\"\n",
    "file_path = \"txt_examples\""
   ]
  },
  {
   "cell_type": "code",
   "execution_count": null,
   "metadata": {},
   "outputs": [],
   "source": [
    "# print('Types:', list(ReaderType))"
   ]
  },
  {
   "cell_type": "markdown",
   "metadata": {},
   "source": [
    "## ReaderType.LANGCHAIN"
   ]
  },
  {
   "cell_type": "code",
   "execution_count": null,
   "metadata": {},
   "outputs": [],
   "source": [
    "'''\n",
    "load(reader: Union[str, Callable],\n",
    "    reader_type=ReaderType.LLAMAINDEX,\n",
    "    reader_args=[],\n",
    "    reader_kwargs={},\n",
    "    load_args=[],\n",
    "    load_kwargs={},\n",
    "    to_datanode: Union[bool, Callable] = True)\n",
    "\n",
    "<===>\n",
    "\n",
    "loader = <langchain_loader>(*reader_args, **reader_kwargs)\n",
    "docs = loader.load()\n",
    "''';"
   ]
  },
  {
   "cell_type": "markdown",
   "metadata": {},
   "source": [
    "### reader: str, to_datanode=True"
   ]
  },
  {
   "cell_type": "code",
   "execution_count": null,
   "metadata": {},
   "outputs": [],
   "source": [
    "# dnodes1 = load('TextLoader', reader_type='langchain', reader_args=[file])\n",
    "# dnodes1"
   ]
  },
  {
   "cell_type": "markdown",
   "metadata": {},
   "source": [
    "### reader: str, to_datanode=False"
   ]
  },
  {
   "cell_type": "code",
   "execution_count": null,
   "metadata": {},
   "outputs": [],
   "source": [
    "# dnodes2 = load('TextLoader', reader_type='langchain', reader_args=[file], to_datanode=False)\n",
    "# dnodes2"
   ]
  },
  {
   "cell_type": "markdown",
   "metadata": {},
   "source": [
    "### reader: Callable"
   ]
  },
  {
   "cell_type": "code",
   "execution_count": null,
   "metadata": {},
   "outputs": [],
   "source": [
    "# from langchain.document_loaders import TextLoader\n",
    "# dnodes3 = load(TextLoader, reader_type=ReaderType.LANGCHAIN, reader_args=[file])\n",
    "# dnodes3"
   ]
  },
  {
   "cell_type": "markdown",
   "metadata": {},
   "source": [
    "# ReaderType.LLAMAINDEX"
   ]
  },
  {
   "cell_type": "code",
   "execution_count": null,
   "metadata": {},
   "outputs": [],
   "source": [
    "'''\n",
    "load(reader: Union[str, Callable],\n",
    "    reader_type=ReaderType.LLAMAINDEX,\n",
    "    reader_args=[],\n",
    "    reader_kwargs={},\n",
    "    load_args=[],\n",
    "    load_kwargs={},\n",
    "    to_datanode: Union[bool, Callable] = True)\n",
    "\n",
    "<===>\n",
    "\n",
    "loader = <llama_index_reader>(*reader_args, **reader_kwargs)\n",
    "docs = loader.load_data(*load_args, **load_kwargs)\n",
    "''';"
   ]
  },
  {
   "cell_type": "markdown",
   "metadata": {},
   "source": [
    "### reader: str, to_datanode=True"
   ]
  },
  {
   "cell_type": "code",
   "execution_count": null,
   "metadata": {},
   "outputs": [],
   "source": [
    "# dnodes4 = load('SimpleDirectoryReader', reader_args=[file_path])\n",
    "# dnodes4"
   ]
  },
  {
   "cell_type": "markdown",
   "metadata": {},
   "source": [
    "### reader: str, to_datanode=False"
   ]
  },
  {
   "cell_type": "code",
   "execution_count": null,
   "metadata": {},
   "outputs": [],
   "source": [
    "dnodes5 = load('SimpleDirectoryReader', reader_type = 'llama_index', reader_args=[file_path], to_datanode=False)\n",
    "dnodes5"
   ]
  },
  {
   "cell_type": "markdown",
   "metadata": {},
   "source": [
    "### reader: Callable"
   ]
  },
  {
   "cell_type": "code",
   "execution_count": null,
   "metadata": {},
   "outputs": [],
   "source": [
    "# from llama_index import SimpleDirectoryReader\n",
    "# dnodes6 = load(SimpleDirectoryReader, reader_args=[file_path])\n",
    "# dnodes6"
   ]
  },
  {
   "cell_type": "markdown",
   "metadata": {},
   "source": [
    "# ReaderType.SELFDEFINED"
   ]
  },
  {
   "cell_type": "markdown",
   "metadata": {},
   "source": [
    "## Self defined reader class\n",
    "\n",
    "must contain function: load()"
   ]
  },
  {
   "cell_type": "code",
   "execution_count": null,
   "metadata": {},
   "outputs": [],
   "source": [
    "class demo_reader:\n",
    "    def __init__(self, file):\n",
    "        self.file = file\n",
    "    \n",
    "    def load(self):\n",
    "        with open(self.file) as f:\n",
    "            return f.read()"
   ]
  },
  {
   "cell_type": "code",
   "execution_count": null,
   "metadata": {},
   "outputs": [],
   "source": [
    "# dnodes7 = load(demo_reader, 'self_defined', reader_args=[file], to_datanode=False)\n",
    "# dnodes7"
   ]
  },
  {
   "cell_type": "markdown",
   "metadata": {},
   "source": [
    "## with self_defined to_datanode function"
   ]
  },
  {
   "cell_type": "code",
   "execution_count": null,
   "metadata": {},
   "outputs": [],
   "source": [
    "from lionagi.schema.base_schema import DataNode\n",
    "def to_datanode(content):\n",
    "    return DataNode(content=content)"
   ]
  },
  {
   "cell_type": "code",
   "execution_count": null,
   "metadata": {},
   "outputs": [],
   "source": [
    "# dnodes8 = load(demo_reader, reader_type='self_defined', reader_args=[file], to_datanode=to_datanode)\n",
    "# dnodes8[:20]"
   ]
  },
  {
   "cell_type": "code",
   "execution_count": null,
   "metadata": {},
   "outputs": [],
   "source": []
  }
 ],
 "metadata": {
  "kernelspec": {
   "display_name": ".venv",
   "language": "python",
   "name": "python3"
  },
  "language_info": {
   "codemirror_mode": {
    "name": "ipython",
    "version": 3
   },
   "file_extension": ".py",
   "mimetype": "text/x-python",
   "name": "python",
   "nbconvert_exporter": "python",
   "pygments_lexer": "ipython3",
   "version": "3.10.6"
  }
 },
 "nbformat": 4,
 "nbformat_minor": 2
}
