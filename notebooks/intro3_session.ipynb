{
 "cells": [
  {
   "cell_type": "markdown",
   "metadata": {},
   "source": [
    "# LionAGI introduction 3 - LLM sessions"
   ]
  },
  {
   "cell_type": "code",
   "execution_count": 1,
   "metadata": {},
   "outputs": [],
   "source": [
    "import lionagi as li"
   ]
  },
  {
   "cell_type": "code",
   "execution_count": 2,
   "metadata": {},
   "outputs": [],
   "source": [
    "from timeit import default_timer as timer\n",
    "start = timer()"
   ]
  },
  {
   "cell_type": "code",
   "execution_count": 3,
   "metadata": {},
   "outputs": [],
   "source": [
    "system = \"\"\"\n",
    "You are a helpful assistant. You are asked to perform as a calculator. Return as an integer.\n",
    "\"\"\"\n",
    "\n",
    "calculator = li.Session(system=system)"
   ]
  },
  {
   "cell_type": "code",
   "execution_count": 4,
   "metadata": {},
   "outputs": [],
   "source": [
    "a = -3\n",
    "b = 4\n",
    "\n",
    "context = {\n",
    "    \"number1\": a,\n",
    "    \"number2\": b,\n",
    "}\n",
    "\n",
    "instruct1 = {\n",
    "    \"sum the absolute values\": \"provided with 2 numbers, return the sum of their absolute values\",}\n",
    "\n",
    "instruct2 = {\n",
    "    \"multiplication\": \"provided with 2 numbers, return their multiplication\",}\n",
    "\n",
    "instruct3 = {\n",
    "    \"case positive\": \"if the result from previous step is positive, times 2 to the previous step's result\",\n",
    "    \"case negative\": \"elif the result from previous step is negative, plus 2 to the previous step's result\",\n",
    "    \"case zero\": \"elif the result from previous step is zero, return the previous step's result\",}\n"
   ]
  },
  {
   "cell_type": "code",
   "execution_count": 5,
   "metadata": {},
   "outputs": [
    {
     "data": {
      "text/plain": [
       "'7'"
      ]
     },
     "execution_count": 5,
     "metadata": {},
     "output_type": "execute_result"
    }
   ],
   "source": [
    "calculator.initiate(instruction=instruct1, context=context, model=\"gpt-3.5-turbo\")"
   ]
  },
  {
   "cell_type": "code",
   "execution_count": 6,
   "metadata": {},
   "outputs": [
    {
     "name": "stdout",
     "output_type": "stream",
     "text": [
      "Given -3 and 4, the sum of absolute values is 7\n",
      "Since the step 1 result is positive, the second step result is 14\n"
     ]
    }
   ],
   "source": [
    "cal1 = calculator.initiate(instruction=instruct1, context=context, model=\"gpt-3.5-turbo\")\n",
    "cal2 = calculator.followup(instruction=instruct3, model=\"gpt-4\", temperature=0.5)\n",
    "\n",
    "print(f\"Given {a} and {b}, the sum of absolute values is {cal1}\")\n",
    "print(f\"Since the step 1 result is {'positive' if int(cal1)>0 else 'negative'}, the second step result is {cal2}\")"
   ]
  },
  {
   "cell_type": "code",
   "execution_count": 7,
   "metadata": {},
   "outputs": [
    {
     "name": "stdout",
     "output_type": "stream",
     "text": [
      "Given -3 and 4, the multiplication product is -12\n",
      "Since the step 1 result is negative, the second step result is -10\n"
     ]
    }
   ],
   "source": [
    "cal1 = calculator.initiate(instruction=instruct2, context=context, model=\"gpt-3.5-turbo\")\n",
    "cal2 = calculator.followup(instruction=instruct3, model=\"gpt-4\", temperature=0.5, n=3)\n",
    "\n",
    "print(f\"Given {a} and {b}, the multiplication product is {cal1}\")\n",
    "print(f\"Since the step 1 result is {'positive' if int(cal1)>0 else 'negative'}, the second step result is {cal2}\")"
   ]
  },
  {
   "cell_type": "code",
   "execution_count": 8,
   "metadata": {},
   "outputs": [
    {
     "data": {
      "text/plain": [
       "'-10'"
      ]
     },
     "execution_count": 8,
     "metadata": {},
     "output_type": "execute_result"
    }
   ],
   "source": [
    "intruct4 = {\"string to number\": \"return as a number by itself\",}\n",
    "\n",
    "calculator.followup(instruction=intruct4, model=\"gpt-4\", temperature=0.5, n=3)"
   ]
  },
  {
   "cell_type": "code",
   "execution_count": 9,
   "metadata": {},
   "outputs": [],
   "source": [
    "#### ok now let's see how we can make it more interesting\n",
    "import numpy as np\n",
    "num_iterations = 5\n",
    "\n",
    "ints1 = np.random.randint(-10, 10, size=num_iterations)\n",
    "ints2 = np.random.randint(0, 10, size=num_iterations)\n",
    "cases = np.random.randint(0,2, size=num_iterations)\n",
    "# let's define a simple parser function\n",
    "\n",
    "f = lambda i: {\"number1\": str(ints1[i]), \"number2\": str(ints2[i]), \"case_\": str(cases[i])}\n",
    "contexts = li.l_call(range(num_iterations), f)"
   ]
  },
  {
   "cell_type": "code",
   "execution_count": 10,
   "metadata": {},
   "outputs": [],
   "source": [
    "system = \"\"\"\n",
    "You are a helpful assistant. You are asked to perform as a calculator. Return as an integer.\n",
    "\"\"\"\n",
    "\n",
    "context = {\n",
    "    \"number1\": a,\n",
    "    \"number2\": b,\n",
    "}\n",
    "\n",
    "instruct1 = {\n",
    "    \"sum the absolute values\": \"provided with 2 numbers, return the sum of their absolute values. i.e. |x|+|y|\",}\n",
    "\n",
    "instruct2 = {\n",
    "    \"diff the absolute values\": \"provided with 2 numbers, return the difference of absolute values. i.e. |x|-|y|\",}\n",
    "\n",
    "instruct3 = {\n",
    "    \"if previous response is positive\": \"times 2. i.e. *2\", # case 1\n",
    "    \"else\": \"plus 2. i.e. +2\",                              # case 2\n",
    "}"
   ]
  },
  {
   "cell_type": "code",
   "execution_count": 11,
   "metadata": {},
   "outputs": [],
   "source": [
    "async def calculator_workflow(context_):\n",
    "    calculator = li.Session(system=system, api_service=li.async_api_service)\n",
    "    context = context_.copy()\n",
    "    case = int(context.pop(\"case_\"))\n",
    "    \n",
    "    if case == 0:\n",
    "        await calculator.ainitiate(instruction=instruct1, context=context, model=\"gpt-4\", temperature=0.5)\n",
    "    elif case == 1:\n",
    "        await calculator.ainitiate(instruction=instruct2, context=context, model=\"gpt-4\", temperature=0.5)\n",
    "    \n",
    "    await calculator.afollowup(instruction=instruct3, model=\"gpt-4\", temperature=0.3)\n",
    "    return li.l_call(calculator.conversation.responses, lambda i: i['content'])"
   ]
  },
  {
   "cell_type": "code",
   "execution_count": 12,
   "metadata": {},
   "outputs": [
    {
     "name": "stdout",
     "output_type": "stream",
     "text": [
      "num_workload: 5\n",
      "run clock time: 3.00 seconds\n"
     ]
    }
   ],
   "source": [
    "start1 = timer()\n",
    "\n",
    "outs = await li.al_call(contexts, calculator_workflow)\n",
    "\n",
    "elapsed_time = timer() - start1\n",
    "print(f\"num_workload: {num_iterations}\")\n",
    "print(f\"run clock time: {elapsed_time:0.2f} seconds\")"
   ]
  },
  {
   "cell_type": "code",
   "execution_count": 13,
   "metadata": {},
   "outputs": [
    {
     "name": "stdout",
     "output_type": "stream",
     "text": [
      "Inputs: -2, 5, case: 0\n",
      "\n",
      "Outputs: ['7', '14']\n",
      "------\n",
      "\n",
      "Inputs: 1, 9, case: 0\n",
      "\n",
      "Outputs: ['10', '20']\n",
      "------\n",
      "\n",
      "Inputs: 0, 0, case: 0\n",
      "\n",
      "Outputs: ['0', '2']\n",
      "------\n",
      "\n",
      "Inputs: 0, 4, case: 1\n",
      "\n",
      "Outputs: ['-4', '-2']\n",
      "------\n",
      "\n",
      "Inputs: 3, 8, case: 0\n",
      "\n",
      "Outputs: ['11', '22']\n",
      "------\n",
      "\n"
     ]
    }
   ],
   "source": [
    "for idx, out in enumerate(outs):\n",
    "    print(f\"Inputs: {ints1[idx]}, {ints2[idx]}, case: {cases[idx]}\\n\")\n",
    "    print(f\"Outputs: {out}\")\n",
    "    print(\"------\\n\")"
   ]
  },
  {
   "cell_type": "code",
   "execution_count": 14,
   "metadata": {},
   "outputs": [],
   "source": [
    "elapsed_time = timer() - start"
   ]
  },
  {
   "cell_type": "code",
   "execution_count": 15,
   "metadata": {},
   "outputs": [
    {
     "name": "stdout",
     "output_type": "stream",
     "text": [
      "Notebook total runtime 11.20 seconds\n"
     ]
    }
   ],
   "source": [
    "print(f\"Notebook total runtime {elapsed_time:0.2f} seconds\")"
   ]
  }
 ],
 "metadata": {
  "kernelspec": {
   "display_name": "metal",
   "language": "python",
   "name": "python3"
  },
  "language_info": {
   "codemirror_mode": {
    "name": "ipython",
    "version": 3
   },
   "file_extension": ".py",
   "mimetype": "text/x-python",
   "name": "python",
   "nbconvert_exporter": "python",
   "pygments_lexer": "ipython3",
   "version": "3.11.5"
  }
 },
 "nbformat": 4,
 "nbformat_minor": 2
}
