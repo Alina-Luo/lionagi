{
 "cells": [
  {
   "cell_type": "markdown",
   "metadata": {},
   "source": [
    "# Understanding Session"
   ]
  },
  {
   "cell_type": "code",
   "execution_count": 1,
   "metadata": {},
   "outputs": [],
   "source": [
    "from IPython.display import Markdown\n",
    "import lionagi as li"
   ]
  },
  {
   "cell_type": "markdown",
   "metadata": {},
   "source": [
    "The `Session` object is at the core of lionagi.\n",
    "\n",
    "A session is an interface that\n",
    "- manages and logs various messages (system, user, assistant) in a conversation, \n",
    "- call API with rate_limit, and \n",
    "- enable effortless multi-round exchange between many participants. \n",
    "\n",
    "A Session object contains a `Conversation` object, which contains an `Message` object. \n",
    "- `Conversation`: create, manage, keep track of messages in a single conversation\n",
    "- `Message`: The smallest unit of data with a role\n",
    "\n",
    "\n",
    "**Note:**\n",
    "currently Session can only call ChatCompletion, support for other OpenAI API endpoints are under developments. currently only supports one assistant in a conversation, multi assistant will be supported in future"
   ]
  },
  {
   "cell_type": "markdown",
   "metadata": {},
   "source": [
    "## 1. Initiate and Followup\n",
    "\n",
    "Let us start with a simple use case of the `Session` object, which is to have a multi-turn conversation with an intelligence provider, i.e. OpenAI API service. "
   ]
  },
  {
   "cell_type": "code",
   "execution_count": 2,
   "metadata": {},
   "outputs": [],
   "source": [
    "# create some messages\n",
    "sys_comedian = \"As a comedian, you are sarcastically funny\"\n",
    "instruct1 = \"very short joke: a blue whale and a big shark meet at the bar and start dancing\"\n",
    "instruct2 = \"continue the short joke: the blue whale was confused why it was dancing with a shark\""
   ]
  },
  {
   "cell_type": "code",
   "execution_count": 3,
   "metadata": {},
   "outputs": [],
   "source": [
    "# to create a session, the two arguements are the name of the system and the directory to save the logs\n",
    "# the first arguement is the comedian that will be used to create the session\n",
    "# the second arguement is the directory to save the logs\n",
    "comedian = li.Session(sys_comedian, dir=\"data/logs/comedian/\")\n",
    "\n",
    "# initiate the conversation with the first message\n",
    "joke1 = await comedian.initiate(instruct1)\n",
    "\n",
    "# continue the conversation with the second message\n",
    "joke2 = await comedian.followup(instruct2)\n",
    "\n",
    "# you can continue the conversation with more messages until out of context length\n",
    "# joke3 = await comedian.followup(instruct3)\n",
    "# joke4 = await comedian.followup(instruct4)"
   ]
  },
  {
   "cell_type": "code",
   "execution_count": 4,
   "metadata": {},
   "outputs": [
    {
     "data": {
      "text/markdown": [
       "Why did the blue whale and the big shark get kicked out of the bar? Because every time they hit the dance floor, it turned into a splash mob!"
      ],
      "text/plain": [
       "<IPython.core.display.Markdown object>"
      ]
     },
     "execution_count": 4,
     "metadata": {},
     "output_type": "execute_result"
    }
   ],
   "source": [
    "Markdown(joke1)"
   ]
  },
  {
   "cell_type": "code",
   "execution_count": 5,
   "metadata": {},
   "outputs": [
    {
     "data": {
      "text/markdown": [
       "The blue whale turned to the shark and said, \"I must have had one too many plankton cocktails because I'm pretty sure we're supposed to be natural enemies, not dance partners!\""
      ],
      "text/plain": [
       "<IPython.core.display.Markdown object>"
      ]
     },
     "execution_count": 5,
     "metadata": {},
     "output_type": "execute_result"
    }
   ],
   "source": [
    "Markdown(joke2)"
   ]
  },
  {
   "cell_type": "markdown",
   "metadata": {},
   "source": [
    "## 2. Using a second Session as Validation"
   ]
  },
  {
   "cell_type": "code",
   "execution_count": 6,
   "metadata": {},
   "outputs": [],
   "source": [
    "# some messages from the critic\n",
    "sys_critic = \"you are a respected commentator, you are artistically logical\"\n",
    "instruct3 = \"short comments, what do you think about the first joke?\"\n",
    "instruct4 = \"provide a concise artistic critique on both jokes, and rate from 1-10\""
   ]
  },
  {
   "cell_type": "code",
   "execution_count": 7,
   "metadata": {},
   "outputs": [],
   "source": [
    "# create a session with the critic and generate some comments in a multi-turn conversation\n",
    "critic = li.Session(sys_critic, dir=\"data/logs/critic/\")\n",
    "\n",
    "# provide context for the critic\n",
    "context = {\n",
    "    \"joke1\": {\"prompt\": instruct1, \"response\": joke1},\n",
    "    \"joke2\": {\"prompt\": instruct2, \"response\": joke2}\n",
    "}\n",
    "\n",
    "# you only need to provide same context once in a conversation\n",
    "comment1 = await critic.initiate(instruct3, context=context)    \n",
    "comment2 = await critic.followup(instruct4)"
   ]
  },
  {
   "cell_type": "code",
   "execution_count": 8,
   "metadata": {},
   "outputs": [
    {
     "data": {
      "text/markdown": [
       "The whimsy of the first joke hinges on a clever play on words, transforming a common social phenomenon into an aquatic pun. It's a light-hearted jab at the chaos that might ensue when two large sea creatures attempt to groove together, effectively tickling the imagination."
      ],
      "text/plain": [
       "<IPython.core.display.Markdown object>"
      ]
     },
     "execution_count": 8,
     "metadata": {},
     "output_type": "execute_result"
    }
   ],
   "source": [
    "Markdown(comment1)"
   ]
  },
  {
   "cell_type": "code",
   "execution_count": 9,
   "metadata": {},
   "outputs": [
    {
     "data": {
      "text/markdown": [
       "Joke 1 offers an amusing visual of a seemingly impossible scenario, blending the mundane with the extraordinary to create a scene ripe for comedy. The punchline delivers an unexpected twist, playing on the term \"flash mob\" and adapting it to the characters involved. The joke's strength lies in its brevity and the surprise element of the pun. Rating: 7/10\n",
       "\n",
       "Joke 2 builds on the absurdity of the first by adding a layer of self-awareness from the whale's perspective, which invites the audience into the whale's internal monologue. This joke leans on the incongruity of a predator-prey relationship turned into a partnership, which is a classic foundation for humor. However, the punchline lacks the sharpness of the first. Rating: 6/10"
      ],
      "text/plain": [
       "<IPython.core.display.Markdown object>"
      ]
     },
     "execution_count": 9,
     "metadata": {},
     "output_type": "execute_result"
    }
   ],
   "source": [
    "Markdown(comment2)"
   ]
  },
  {
   "cell_type": "markdown",
   "metadata": {},
   "source": [
    "## 3. Using the Validation to improve first session performance"
   ]
  },
  {
   "cell_type": "code",
   "execution_count": 10,
   "metadata": {},
   "outputs": [],
   "source": [
    "# messages for comedian again\n",
    "instruct5 = \"your jokes were evaluated by a critic, does it make sense to you? why?\"\n",
    "instruct6 = \"based on your reflection, write joke1 again\"\n",
    "instruct7 = \"write joke2 again\"\n",
    "\n",
    "# provide context for the comedian\n",
    "context2 = {\"comments\": critic.conversation.responses}\n",
    "\n",
    "# run the instructions\n",
    "reflect = await comedian.followup(instruct5, context=context2)\n",
    "joke11 = await comedian.followup(instruct6)\n",
    "joke22 = await comedian.followup(instruct7)"
   ]
  },
  {
   "cell_type": "code",
   "execution_count": 11,
   "metadata": {},
   "outputs": [
    {
     "data": {
      "text/markdown": [
       "As the comedian behind the jokes, it makes perfect sense to me that a critic would evaluate them in such a way. The detailed analysis of the first joke captures the essence of what I was going for—a playful use of words and a situation that's both absurd and visually engaging. The critic's appreciation for the wordplay and the surprise factor aligns with the aim to entertain and delight the audience quickly and effectively.\n",
       "\n",
       "The second joke's critique also resonates with my intent. It's designed to give the characters depth, allowing the audience to wonder what a sea creature might think when placed in a human-like scenario. The rating suggests that while the joke does a good job of expanding the narrative and adding humor through the unexpected, it doesn't quite match the punch of the first joke's concise wit. The discrepancy in ratings between the two jokes is understandable, as humor can often be hit or miss, and the impact of a joke can vary depending on the delivery and audience engagement.\n",
       "\n",
       "In conclusion, the critic's feedback is valuable and provides insight into how the jokes are perceived from an objective standpoint. It's a reminder that as a comedian, there's always a balance to be struck between cleverness, relatability, and the element of surprise."
      ],
      "text/plain": [
       "<IPython.core.display.Markdown object>"
      ]
     },
     "execution_count": 11,
     "metadata": {},
     "output_type": "execute_result"
    }
   ],
   "source": [
    "Markdown(reflect)"
   ]
  },
  {
   "cell_type": "code",
   "execution_count": 12,
   "metadata": {},
   "outputs": [
    {
     "data": {
      "text/markdown": [
       "Why did the blue whale and the big shark get kicked out of the bar? Because they turned the dance floor into a literal \"wave pool\"!"
      ],
      "text/plain": [
       "<IPython.core.display.Markdown object>"
      ]
     },
     "execution_count": 12,
     "metadata": {},
     "output_type": "execute_result"
    }
   ],
   "source": [
    "Markdown(joke11)"
   ]
  },
  {
   "cell_type": "code",
   "execution_count": 13,
   "metadata": {},
   "outputs": [
    {
     "data": {
      "text/markdown": [
       "The blue whale looked at the shark in bewilderment and blurted out, \"This is fin-tastic, but if we keep this up, we're going to need a bigger sea-quarium!\""
      ],
      "text/plain": [
       "<IPython.core.display.Markdown object>"
      ]
     },
     "execution_count": 13,
     "metadata": {},
     "output_type": "execute_result"
    }
   ],
   "source": [
    "Markdown(joke22)"
   ]
  },
  {
   "cell_type": "markdown",
   "metadata": {},
   "source": [
    "#### Save the logs"
   ]
  },
  {
   "cell_type": "code",
   "execution_count": 14,
   "metadata": {},
   "outputs": [
    {
     "name": "stdout",
     "output_type": "stream",
     "text": [
      "11 logs saved to data/logs/comedian/2023-12-09T10_07_01_917045_messages.csv\n",
      "5 logs saved to data/logs/comedian/2023-12-09T10_07_01_917888_llmlog.csv\n",
      "5 logs saved to data/logs/critic/2023-12-09T10_07_01_918755_messages.csv\n",
      "2 logs saved to data/logs/critic/2023-12-09T10_07_01_919190_llmlog.csv\n"
     ]
    }
   ],
   "source": [
    "# create seperate log for each session, and save both messages and llm api logs to seperate csv files\n",
    "\n",
    "comedian.messages_to_csv()\n",
    "comedian.log_to_csv()\n",
    "\n",
    "critic.messages_to_csv()\n",
    "critic.log_to_csv()"
   ]
  }
 ],
 "metadata": {
  "kernelspec": {
   "display_name": "li_test",
   "language": "python",
   "name": "python3"
  },
  "language_info": {
   "codemirror_mode": {
    "name": "ipython",
    "version": 3
   },
   "file_extension": ".py",
   "mimetype": "text/x-python",
   "name": "python",
   "nbconvert_exporter": "python",
   "pygments_lexer": "ipython3",
   "version": "3.11.5"
  }
 },
 "nbformat": 4,
 "nbformat_minor": 2
}
