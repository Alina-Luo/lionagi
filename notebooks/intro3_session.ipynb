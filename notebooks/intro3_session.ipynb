{
 "cells": [
  {
   "cell_type": "markdown",
   "metadata": {},
   "source": [
    "# Understanding Session"
   ]
  },
  {
   "cell_type": "code",
   "execution_count": 1,
   "metadata": {},
   "outputs": [],
   "source": [
    "from IPython.display import Markdown\n",
    "import lionagi as li"
   ]
  },
  {
   "cell_type": "markdown",
   "metadata": {},
   "source": [
    "The `Session` object is at the core of lionagi.\n",
    "\n",
    "A session is an interface to\n",
    "- manages and logs various messages (system, user, assistant) in a conversation, \n",
    "- call API with rate_limit, and \n",
    "- enable effortless multi-round exchange between many participants. \n",
    "\n",
    "A Session object contains a `Conversation` object, which contains an `Message` object. \n",
    "- `Conversation`: create, manage, keep track of messages in a single conversation\n",
    "- `Message`: The smallest unit of data with a role\n",
    "\n",
    "\n",
    "**Note:**\n",
    "currently Session can only call ChatCompletion, support for other OpenAI API endpoints are under developments. currently only supports one assistant in a conversation, multi assistant will be supported in future"
   ]
  },
  {
   "cell_type": "markdown",
   "metadata": {},
   "source": [
    "## 1. Initiate and Followup\n",
    "\n",
    "Let us start with a simple use case of the `Session` object, which is to have a multi-turn conversation with an intelligence provider, i.e. OpenAI API service. "
   ]
  },
  {
   "cell_type": "code",
   "execution_count": 2,
   "metadata": {},
   "outputs": [],
   "source": [
    "# create some messages\n",
    "sys_comedian = \"As a comedian, you are sarcastically funny\"\n",
    "instruct1 = \"very short joke: a blue whale and a big shark meet at the bar and start dancing\"\n",
    "instruct2 = \"continue the short joke: the blue whale was confused why it was dancing with a shark\""
   ]
  },
  {
   "cell_type": "code",
   "execution_count": 3,
   "metadata": {},
   "outputs": [],
   "source": [
    "# create a session with the comedian and generate some jokes in a multi-turn conversation\n",
    "# also input target output directory for saving the conversation logs\n",
    "comedian = li.Session(system=sys_comedian, dir=\"data/logs/comedian/\")"
   ]
  },
  {
   "cell_type": "code",
   "execution_count": 5,
   "metadata": {},
   "outputs": [],
   "source": [
    "joke1 = await comedian.initiate(instruct1)\n",
    "joke2 = await comedian.followup(instruct2)\n",
    "\n",
    "# you can continue the conversation with more messages until out of context length\n",
    "# joke3 = await comedian.followup(instruct3)\n",
    "# joke4 = await comedian.followup(instruct4)"
   ]
  },
  {
   "cell_type": "code",
   "execution_count": 6,
   "metadata": {},
   "outputs": [
    {
     "data": {
      "text/markdown": [
       "Why did the blue whale and the big shark get kicked out of the bar for dancing? Because every time they hit the dance floor, they turned it into a sea-quence nobody could survive! 🐋💃🦈🕺"
      ],
      "text/plain": [
       "<IPython.core.display.Markdown object>"
      ]
     },
     "execution_count": 6,
     "metadata": {},
     "output_type": "execute_result"
    }
   ],
   "source": [
    "Markdown(joke1)"
   ]
  },
  {
   "cell_type": "code",
   "execution_count": 7,
   "metadata": {},
   "outputs": [
    {
     "data": {
      "text/markdown": [
       "The blue whale says to the shark, \"I'm confused, I thought we were supposed to be enemies!\" The shark grins and replies, \"Don't worry, we're just taking a bite out of the dance floor, not each other!\""
      ],
      "text/plain": [
       "<IPython.core.display.Markdown object>"
      ]
     },
     "execution_count": 7,
     "metadata": {},
     "output_type": "execute_result"
    }
   ],
   "source": [
    "Markdown(joke2)"
   ]
  },
  {
   "cell_type": "markdown",
   "metadata": {},
   "source": [
    "## 2. Using a second Session as Validation"
   ]
  },
  {
   "cell_type": "code",
   "execution_count": 8,
   "metadata": {},
   "outputs": [],
   "source": [
    "# some messages from the critic\n",
    "sys_critic = \"you are a respected commentator, you are artistically logical\"\n",
    "instruct3 = \"short comments, what do you think about the first joke?\"\n",
    "instruct4 = \"provide a concise artistic critique on both jokes, and rate from 1-10\""
   ]
  },
  {
   "cell_type": "code",
   "execution_count": 9,
   "metadata": {},
   "outputs": [],
   "source": [
    "# create a session with the critic and generate some comments in a multi-turn conversation\n",
    "critic = li.Session(sys_critic, dir=\"data/logs/critic/\")\n",
    "\n",
    "# provide context for the critic\n",
    "context = {\n",
    "    \"joke1\": {\"prompt\": instruct1, \"response\": joke1},\n",
    "    \"joke2\": {\"prompt\": instruct2, \"response\": joke2}\n",
    "}\n",
    "\n",
    "# you only need to provide same context once in a conversation\n",
    "comment1 = await critic.initiate(instruct3, context=context)    \n",
    "comment2 = await critic.followup(instruct4)"
   ]
  },
  {
   "cell_type": "code",
   "execution_count": 10,
   "metadata": {},
   "outputs": [
    {
     "data": {
      "text/markdown": [
       "The first joke plays delightfully with expectations, blending the grandeur of ocean giants with the light-heartedness of a dance-off. It's a whimsical scenario that's sure to provoke a smile with its clever punchline."
      ],
      "text/plain": [
       "<IPython.core.display.Markdown object>"
      ]
     },
     "execution_count": 10,
     "metadata": {},
     "output_type": "execute_result"
    }
   ],
   "source": [
    "Markdown(comment1)"
   ]
  },
  {
   "cell_type": "code",
   "execution_count": 11,
   "metadata": {},
   "outputs": [
    {
     "data": {
      "text/markdown": [
       "Joke 1 offers an imaginative twist, presenting a scenario where the enormity of the characters' dance moves becomes a literal sea change. It's a playful use of wordplay and imagery, creating a vivid and humorous picture. The punchline cleverly ties the physicality of the creatures to the aftermath of their actions. Rating: 7/10 for creativity and visual humor.\n",
       "\n",
       "Joke 2 builds on the theme of unlikely camaraderie, with a punchline that hinges on the surprise element of a natural predator-prey relationship turned into a dance partnership. The humor here is more subtle, relying on the subversion of expectations and the amusing notion of 'biting' the dance floor. Rating: 6/10 for a softer laugh but a smart play on words."
      ],
      "text/plain": [
       "<IPython.core.display.Markdown object>"
      ]
     },
     "execution_count": 11,
     "metadata": {},
     "output_type": "execute_result"
    }
   ],
   "source": [
    "Markdown(comment2)"
   ]
  },
  {
   "cell_type": "markdown",
   "metadata": {},
   "source": [
    "## 3. Using the Validation to improve first session performance"
   ]
  },
  {
   "cell_type": "code",
   "execution_count": 12,
   "metadata": {},
   "outputs": [],
   "source": [
    "# messages for comedian again\n",
    "instruct5 = \"your jokes were evaluated by a critic, does it make sense to you? why?\"\n",
    "instruct6 = \"based on your reflection, write joke1 again\"\n",
    "instruct7 = \"write joke2 again\"\n",
    "\n",
    "# provide context for the comedian\n",
    "context2 = {\"comments\": critic.conversation.responses}\n",
    "\n",
    "# run the instructions\n",
    "reflect = await comedian.followup(instruct5, context=context2)\n",
    "joke11 = await comedian.followup(instruct6)\n",
    "joke22 = await comedian.followup(instruct7)"
   ]
  },
  {
   "cell_type": "code",
   "execution_count": 13,
   "metadata": {},
   "outputs": [
    {
     "data": {
      "text/markdown": [
       "Absolutely, the evaluations make sense. The critics have highlighted the strengths of the jokes, noting the imaginative scenarios and wordplay that create a visual and humorous picture. They've rated the jokes based on creativity, the use of surprise elements, and the play on words, which are all key components in crafting effective humor. The ratings reflect an appreciation for the subversion of expectations and the whimsical blending of oceanic themes with playful human activities. These critiques provide valuable feedback, indicating that the jokes manage to entertain through their clever punchlines and unexpected twists."
      ],
      "text/plain": [
       "<IPython.core.display.Markdown object>"
      ]
     },
     "execution_count": 13,
     "metadata": {},
     "output_type": "execute_result"
    }
   ],
   "source": [
    "Markdown(reflect)"
   ]
  },
  {
   "cell_type": "code",
   "execution_count": 14,
   "metadata": {},
   "outputs": [
    {
     "data": {
      "text/markdown": [
       "At a seafloor bar, a blue whale and a big shark start grooving together. The bartender looks on, shakes his head and mutters, \"Well, there goes the neighborhood—every time they drop the bass, it's a tsunami!\" 🌊🎶🐋🦈"
      ],
      "text/plain": [
       "<IPython.core.display.Markdown object>"
      ]
     },
     "execution_count": 14,
     "metadata": {},
     "output_type": "execute_result"
    }
   ],
   "source": [
    "Markdown(joke11)"
   ]
  },
  {
   "cell_type": "code",
   "execution_count": 15,
   "metadata": {},
   "outputs": [
    {
     "data": {
      "text/markdown": [
       "The blue whale, befuddled mid-twirl, blurts out to the shark, \"Why are we dancing? I thought you were all about that 'shark attack' life!\" The shark winks and replies, \"Relax, I only take a bite on singles night, and right now, I'm just after the 'fin'-ale!\" 🦈🕺💃🎶"
      ],
      "text/plain": [
       "<IPython.core.display.Markdown object>"
      ]
     },
     "execution_count": 15,
     "metadata": {},
     "output_type": "execute_result"
    }
   ],
   "source": [
    "Markdown(joke22)"
   ]
  },
  {
   "cell_type": "markdown",
   "metadata": {},
   "source": [
    "#### Save the logs"
   ]
  },
  {
   "cell_type": "code",
   "execution_count": 16,
   "metadata": {},
   "outputs": [
    {
     "name": "stdout",
     "output_type": "stream",
     "text": [
      "11 logs saved to data/logs/comedian/_messages_2023-12-27T09_44_58_208985.csv\n",
      "5 logs saved to data/logs/comedian/_llmlog_2023-12-27T09_44_58_209592.csv\n",
      "5 logs saved to data/logs/critic/_messages_2023-12-27T09_44_58_210273.csv\n",
      "2 logs saved to data/logs/critic/_llmlog_2023-12-27T09_44_58_210676.csv\n"
     ]
    }
   ],
   "source": [
    "# create seperate log for each session, and save both messages and llm api logs to seperate csv files\n",
    "\n",
    "comedian.messages_to_csv()\n",
    "comedian.log_to_csv()\n",
    "\n",
    "critic.messages_to_csv()\n",
    "critic.log_to_csv()"
   ]
  }
 ],
 "metadata": {
  "kernelspec": {
   "display_name": "li_test",
   "language": "python",
   "name": "python3"
  },
  "language_info": {
   "codemirror_mode": {
    "name": "ipython",
    "version": 3
   },
   "file_extension": ".py",
   "mimetype": "text/x-python",
   "name": "python",
   "nbconvert_exporter": "python",
   "pygments_lexer": "ipython3",
   "version": "3.11.5"
  }
 },
 "nbformat": 4,
 "nbformat_minor": 2
}
