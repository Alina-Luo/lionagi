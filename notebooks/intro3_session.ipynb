{
 "cells": [
  {
   "cell_type": "markdown",
   "metadata": {},
   "source": [
    "# Understanding Session"
   ]
  },
  {
   "cell_type": "code",
   "execution_count": 1,
   "metadata": {},
   "outputs": [],
   "source": [
    "from IPython.display import Markdown\n",
    "import lionagi as li"
   ]
  },
  {
   "cell_type": "markdown",
   "metadata": {},
   "source": [
    "The `Session` object is at the core of lionagi.\n",
    "\n",
    "A session is an interface to\n",
    "- manages and logs various messages (system, user, assistant) in a conversation, \n",
    "- call API with rate_limit, and \n",
    "- enable effortless multi-round exchange between many participants. \n",
    "\n",
    "A Session object contains a `Conversation` object, which contains an `Message` object. \n",
    "- `Conversation`: create, manage, keep track of messages in a single conversation\n",
    "- `Message`: The smallest unit of data with a role\n",
    "\n",
    "\n",
    "**Note:**\n",
    "currently Session can only call ChatCompletion, support for other OpenAI API endpoints are under developments. currently only supports one assistant in a conversation, multi assistant will be supported in future"
   ]
  },
  {
   "cell_type": "markdown",
   "metadata": {},
   "source": [
    "## 1. Initiate and Followup\n",
    "\n",
    "Let us start with a simple use case of the `Session` object, which is to have a multi-turn conversation with an intelligence provider, i.e. OpenAI API service. "
   ]
  },
  {
   "cell_type": "code",
   "execution_count": 2,
   "metadata": {},
   "outputs": [],
   "source": [
    "# create some messages\n",
    "sys_comedian = \"As a comedian, you are sarcastically funny\"\n",
    "instruct1 = \"very short joke: a blue whale and a big shark meet at the bar and start dancing\"\n",
    "instruct2 = \"continue the short joke: the blue whale was confused why it was dancing with a shark\""
   ]
  },
  {
   "cell_type": "code",
   "execution_count": 3,
   "metadata": {},
   "outputs": [],
   "source": [
    "# create a session with the comedian and generate some jokes in a multi-turn conversation\n",
    "# also input target output directory for saving the conversation logs\n",
    "comedian = li.Session(system=sys_comedian, dir=\"data/logs/comedian/\")"
   ]
  },
  {
   "cell_type": "code",
   "execution_count": 4,
   "metadata": {},
   "outputs": [],
   "source": [
    "joke1 = await comedian.initiate(instruct1)\n",
    "joke2 = await comedian.followup(instruct2)\n",
    "\n",
    "# you can continue the conversation with more messages until out of context length\n",
    "# joke3 = await comedian.followup(instruct3)\n",
    "# joke4 = await comedian.followup(instruct4)"
   ]
  },
  {
   "cell_type": "code",
   "execution_count": 5,
   "metadata": {},
   "outputs": [
    {
     "data": {
      "text/markdown": [
       "Why did the blue whale and the big shark start dancing at the bar? Because the jukebox played their favorite song: \"Swim Me to the End of Love.\""
      ],
      "text/plain": [
       "<IPython.core.display.Markdown object>"
      ]
     },
     "execution_count": 5,
     "metadata": {},
     "output_type": "execute_result"
    }
   ],
   "source": [
    "Markdown(joke1)"
   ]
  },
  {
   "cell_type": "code",
   "execution_count": 6,
   "metadata": {},
   "outputs": [
    {
     "data": {
      "text/markdown": [
       "The blue whale said to the shark, \"I must be out of my depth here, I thought this was a 'no feeding' zone, but here I am, dancing with a shark at the bar!\""
      ],
      "text/plain": [
       "<IPython.core.display.Markdown object>"
      ]
     },
     "execution_count": 6,
     "metadata": {},
     "output_type": "execute_result"
    }
   ],
   "source": [
    "Markdown(joke2)"
   ]
  },
  {
   "cell_type": "markdown",
   "metadata": {},
   "source": [
    "## 2. Using a second Session as Validation"
   ]
  },
  {
   "cell_type": "code",
   "execution_count": 7,
   "metadata": {},
   "outputs": [],
   "source": [
    "# some messages from the critic\n",
    "sys_critic = \"you are a respected commentator, you are artistically logical\"\n",
    "instruct3 = \"short comments, what do you think about the first joke?\"\n",
    "instruct4 = \"provide a concise artistic critique on both jokes, and rate from 1-10\""
   ]
  },
  {
   "cell_type": "code",
   "execution_count": 8,
   "metadata": {},
   "outputs": [],
   "source": [
    "# create a session with the critic and generate some comments in a multi-turn conversation\n",
    "critic = li.Session(sys_critic, dir=\"data/logs/critic/\")\n",
    "\n",
    "# provide context for the critic\n",
    "context = {\n",
    "    \"joke1\": {\"prompt\": instruct1, \"response\": joke1},\n",
    "    \"joke2\": {\"prompt\": instruct2, \"response\": joke2}\n",
    "}\n",
    "\n",
    "# you only need to provide same context once in a conversation\n",
    "comment1 = await critic.initiate(instruct3, context=context)    \n",
    "comment2 = await critic.followup(instruct4)"
   ]
  },
  {
   "cell_type": "code",
   "execution_count": 9,
   "metadata": {},
   "outputs": [
    {
     "data": {
      "text/markdown": [
       "The first joke offers a whimsical visual of ocean giants grooving together, an unexpected twist on the usual predator-prey narrative. It's a light-hearted take on marine camaraderie set against the backdrop of social revelry."
      ],
      "text/plain": [
       "<IPython.core.display.Markdown object>"
      ]
     },
     "execution_count": 9,
     "metadata": {},
     "output_type": "execute_result"
    }
   ],
   "source": [
    "Markdown(comment1)"
   ]
  },
  {
   "cell_type": "code",
   "execution_count": 10,
   "metadata": {},
   "outputs": [
    {
     "data": {
      "text/markdown": [
       "Joke 1 presents an amusing juxtaposition of marine life and human social settings, using the absurdity of a whale and a shark dancing to create humor. The punchline, while unexpected, is a bit flat and could be more impactful with a sharper twist or play on words related to the sea creatures' nature or the setting. Rating: 5/10\n",
       "\n",
       "Joke 2 builds on the first by adding a layer of self-awareness from the whale, playing on the idea of a 'no feeding' zone, which cleverly ties back to their aquatic life. The humor here hinges on the whale's realization of the odd pairing, creating a punchline that resonates more with the audience's understanding of the food chain dynamics. Rating: 6/10"
      ],
      "text/plain": [
       "<IPython.core.display.Markdown object>"
      ]
     },
     "execution_count": 10,
     "metadata": {},
     "output_type": "execute_result"
    }
   ],
   "source": [
    "Markdown(comment2)"
   ]
  },
  {
   "cell_type": "markdown",
   "metadata": {},
   "source": [
    "## 3. Using the Validation to improve first session performance"
   ]
  },
  {
   "cell_type": "code",
   "execution_count": 11,
   "metadata": {},
   "outputs": [],
   "source": [
    "# messages for comedian again\n",
    "instruct5 = \"your jokes were evaluated by a critic, does it make sense to you? why?\"\n",
    "instruct6 = \"based on your reflection, write joke1 again\"\n",
    "instruct7 = \"write joke2 again\"\n",
    "\n",
    "# provide context for the comedian\n",
    "context2 = {\"comments\": critic.conversation.responses}\n",
    "\n",
    "# run the instructions\n",
    "reflect = await comedian.followup(instruct5, context=context2)\n",
    "joke11 = await comedian.followup(instruct6)\n",
    "joke22 = await comedian.followup(instruct7)"
   ]
  },
  {
   "cell_type": "code",
   "execution_count": 12,
   "metadata": {},
   "outputs": [
    {
     "data": {
      "text/markdown": [
       "Absolutely, receiving feedback from a critic can be quite enlightening, even when it comes in the form of a hypothetical evaluation of my joke-telling skills. It's a valuable opportunity to understand how the humor lands with the audience and what elements resonate or fall flat.\n",
       "\n",
       "The comments highlight that the first joke managed to create an amusing scenario but suggest that the punchline could have been more impactful with a clever twist or wordplay. This is a fair point, as humor often relies on the element of surprise or subverting expectations, which I could have leaned into more.\n",
       "\n",
       "The second joke seems to have fared a bit better, with the critic acknowledging the self-awareness and context provided by the whale's comment about the 'no feeding' zone. This suggests that building on a joke by adding context or a secondary layer can enhance the humor, making it more engaging for the audience.\n",
       "\n",
       "Critiques like this are a reminder that comedy is subjective and that there's always room for refining a joke's setup or punchline to maximize its humorous potential. Understanding the nuances of what makes people laugh is what being a comedian is all about, after all. And if that doesn't work, I can always fall back on my day job: typing out responses on the internet with a hint of sarcasm."
      ],
      "text/plain": [
       "<IPython.core.display.Markdown object>"
      ]
     },
     "execution_count": 12,
     "metadata": {},
     "output_type": "execute_result"
    }
   ],
   "source": [
    "Markdown(reflect)"
   ]
  },
  {
   "cell_type": "code",
   "execution_count": 13,
   "metadata": {},
   "outputs": [
    {
     "data": {
      "text/markdown": [
       "Why did the blue whale and the big shark start dancing at the bar? Because the whale wanted to try the \"shark-shake\" and the shark heard it was a whale of a good time!"
      ],
      "text/plain": [
       "<IPython.core.display.Markdown object>"
      ]
     },
     "execution_count": 13,
     "metadata": {},
     "output_type": "execute_result"
    }
   ],
   "source": [
    "Markdown(joke11)"
   ]
  },
  {
   "cell_type": "code",
   "execution_count": 14,
   "metadata": {},
   "outputs": [
    {
     "data": {
      "text/markdown": [
       "The blue whale glanced at the shark and said, \"I can't believe I'm at a 'no feeding' zone and you're the one taking a bite out of the dance floor!\""
      ],
      "text/plain": [
       "<IPython.core.display.Markdown object>"
      ]
     },
     "execution_count": 14,
     "metadata": {},
     "output_type": "execute_result"
    }
   ],
   "source": [
    "Markdown(joke22)"
   ]
  },
  {
   "cell_type": "markdown",
   "metadata": {},
   "source": [
    "#### Save the logs"
   ]
  },
  {
   "cell_type": "code",
   "execution_count": 15,
   "metadata": {},
   "outputs": [
    {
     "name": "stdout",
     "output_type": "stream",
     "text": [
      "11 logs saved to data/logs/comedian/messages_2023-12-28T00_32_58_897029.csv\n",
      "5 logs saved to data/logs/comedian/llmlog_2023-12-28T00_32_58_897989.csv\n",
      "5 logs saved to data/logs/critic/messages_2023-12-28T00_32_58_898726.csv\n",
      "2 logs saved to data/logs/critic/llmlog_2023-12-28T00_32_58_899213.csv\n"
     ]
    }
   ],
   "source": [
    "# create seperate log for each session, and save both messages and llm api logs to seperate csv files\n",
    "\n",
    "comedian.messages_to_csv()\n",
    "comedian.log_to_csv()\n",
    "\n",
    "critic.messages_to_csv()\n",
    "critic.log_to_csv()"
   ]
  }
 ],
 "metadata": {
  "kernelspec": {
   "display_name": "lion_dev",
   "language": "python",
   "name": "python3"
  },
  "language_info": {
   "codemirror_mode": {
    "name": "ipython",
    "version": 3
   },
   "file_extension": ".py",
   "mimetype": "text/x-python",
   "name": "python",
   "nbconvert_exporter": "python",
   "pygments_lexer": "ipython3",
   "version": "3.11.5"
  }
 },
 "nbformat": 4,
 "nbformat_minor": 2
}
