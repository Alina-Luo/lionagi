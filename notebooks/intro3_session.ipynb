{
 "cells": [
  {
   "cell_type": "markdown",
   "metadata": {},
   "source": [
    "# LionAGI introduction 3 - LLM sessions"
   ]
  },
  {
   "cell_type": "code",
   "execution_count": 1,
   "metadata": {},
   "outputs": [],
   "source": [
    "import lionagi as li"
   ]
  },
  {
   "cell_type": "code",
   "execution_count": 2,
   "metadata": {},
   "outputs": [],
   "source": [
    "system = \"\"\"\n",
    "You are a helpful assistant. You are asked to perform as a calculator. Return as an integer.\n",
    "\"\"\"\n",
    "\n",
    "calculator = li.Session(system=system)"
   ]
  },
  {
   "cell_type": "code",
   "execution_count": 3,
   "metadata": {},
   "outputs": [],
   "source": [
    "a = -3\n",
    "b = 4\n",
    "\n",
    "context = {\n",
    "    \"number1\": a,\n",
    "    \"number2\": b,\n",
    "}\n",
    "\n",
    "instruct1 = {\n",
    "    \"sum the absolute values\": \"provided with 2 numbers, return the sum of their absolute values\",}\n",
    "\n",
    "instruct2 = {\n",
    "    \"multiplication\": \"provided with 2 numbers, return their multiplication\",}\n",
    "\n",
    "instruct3 = {\n",
    "    \"case positive\": \"if the result from previous step is positive, times 2 to the previous step's result\",\n",
    "    \"case negative\": \"elif the result from previous step is negative, plus 2 to the previous step's result\",\n",
    "    \"case zero\": \"elif the result from previous step is zero, return the previous step's result\",}\n"
   ]
  },
  {
   "cell_type": "code",
   "execution_count": 4,
   "metadata": {},
   "outputs": [
    {
     "data": {
      "text/plain": [
       "'7'"
      ]
     },
     "execution_count": 4,
     "metadata": {},
     "output_type": "execute_result"
    }
   ],
   "source": [
    "await calculator.initiate(instruction=instruct1, context=context, model=\"gpt-3.5-turbo\")"
   ]
  },
  {
   "cell_type": "code",
   "execution_count": 5,
   "metadata": {},
   "outputs": [
    {
     "name": "stdout",
     "output_type": "stream",
     "text": [
      "Given -3 and 4, the sum of absolute values is 7\n",
      "Since the step 1 result is positive, the second step result is 14\n"
     ]
    }
   ],
   "source": [
    "cal1 = await calculator.initiate(instruction=instruct1, context=context, model=\"gpt-3.5-turbo\")\n",
    "cal2 = await calculator.followup(instruction=instruct3, model=\"gpt-4\", temperature=0.5)\n",
    "\n",
    "print(f\"Given {a} and {b}, the sum of absolute values is {cal1}\")\n",
    "print(f\"Since the step 1 result is {'positive' if int(cal1)>0 else 'negative'}, the second step result is {cal2}\")"
   ]
  },
  {
   "cell_type": "code",
   "execution_count": 6,
   "metadata": {},
   "outputs": [
    {
     "name": "stdout",
     "output_type": "stream",
     "text": [
      "Given -3 and 4, the multiplication product is -12\n",
      "Since the step 1 result is negative, the second step result is -10\n"
     ]
    }
   ],
   "source": [
    "cal1 = await calculator.initiate(instruction=instruct2, context=context, model=\"gpt-3.5-turbo\")\n",
    "cal2 = await calculator.followup(instruction=instruct3, model=\"gpt-4\", temperature=0.5, n=3)\n",
    "\n",
    "print(f\"Given {a} and {b}, the multiplication product is {cal1}\")\n",
    "print(f\"Since the step 1 result is {'positive' if int(cal1)>0 else 'negative'}, the second step result is {cal2}\")"
   ]
  },
  {
   "cell_type": "code",
   "execution_count": 7,
   "metadata": {},
   "outputs": [],
   "source": [
    "# since the result from a llm is not always reliable, \n",
    "# we can add another layer of llm trying to validate it to reduce eror rate\n",
    "\n",
    "intruct4 = {\"string to number\": \"return as a number by itself\",}\n",
    "\n",
    "cal4 = await calculator.followup(instruction=intruct4, model=\"gpt-4\", temperature=0.5, n=3)\n"
   ]
  },
  {
   "cell_type": "code",
   "execution_count": 8,
   "metadata": {},
   "outputs": [
    {
     "data": {
      "text/plain": [
       "'-10'"
      ]
     },
     "execution_count": 8,
     "metadata": {},
     "output_type": "execute_result"
    }
   ],
   "source": [
    "cal4"
   ]
  },
  {
   "cell_type": "code",
   "execution_count": 9,
   "metadata": {},
   "outputs": [
    {
     "data": {
      "text/plain": [
       "'12'"
      ]
     },
     "execution_count": 9,
     "metadata": {},
     "output_type": "execute_result"
    }
   ],
   "source": [
    "a = 3\n",
    "b = 4\n",
    "\n",
    "context = {\n",
    "    \"number1\": a,\n",
    "    \"number2\": b,\n",
    "}\n",
    "\n",
    "await calculator.initiate(instruction=instruct2, context=context, model=\"gpt-3.5-turbo\")"
   ]
  },
  {
   "cell_type": "code",
   "execution_count": 10,
   "metadata": {},
   "outputs": [
    {
     "data": {
      "text/plain": [
       "'24'"
      ]
     },
     "execution_count": 10,
     "metadata": {},
     "output_type": "execute_result"
    }
   ],
   "source": [
    "await calculator.followup(instruction=instruct3, model=\"gpt-3.5-turbo\")"
   ]
  },
  {
   "cell_type": "code",
   "execution_count": 11,
   "metadata": {},
   "outputs": [],
   "source": [
    "#### ok now let's see how we can make it more interesting\n",
    "import numpy as np\n",
    "\n",
    "ints1 = np.random.randint(-10, 10, size=5)\n",
    "ints2 = np.random.randint(0, 10, size=5)\n",
    "cases = np.random.randint(0,2, size=5)\n",
    "# let's define a simple parser function\n",
    "\n",
    "f = lambda i: {\"number1\": str(ints1[i]), \"number2\": str(ints2[i]), \"case_\": str(cases[i])}\n",
    "contexts = li.l_return(range(5), f)"
   ]
  },
  {
   "cell_type": "code",
   "execution_count": 12,
   "metadata": {},
   "outputs": [],
   "source": [
    "system = \"\"\"\n",
    "You are a helpful assistant. You are asked to perform as a calculator. Return as an integer.\n",
    "\"\"\"\n",
    "\n",
    "context = {\n",
    "    \"number1\": a,\n",
    "    \"number2\": b,\n",
    "}\n",
    "\n",
    "instruct1 = {\n",
    "    \"sum the absolute values\": \"provided with 2 numbers, return the sum of their absolute values. i.e. |x|+|y|\",}\n",
    "\n",
    "instruct2 = {\n",
    "    \"diff the absolute values\": \"provided with 2 numbers, return the difference of absolute values. i.e. |x|-|y|\",}\n",
    "\n",
    "instruct3 = {\n",
    "    \"if previous response is positive\": \"times 2. i.e. *2\", # case 1\n",
    "    \"else\": \"plus 2. i.e. +2\",                              # case 2\n",
    "}"
   ]
  },
  {
   "cell_type": "code",
   "execution_count": 19,
   "metadata": {},
   "outputs": [],
   "source": [
    "async def calculator_workflow(context_):\n",
    "    calculator = li.Session(system=system)\n",
    "    context = context_.copy()\n",
    "    case = int(context.pop(\"case_\"))\n",
    "    \n",
    "    if case == 0:\n",
    "        await calculator.initiate(instruction=instruct1, context=context, model=\"gpt-4\", temperature=0.5)\n",
    "    elif case == 1:\n",
    "        await calculator.initiate(instruction=instruct2, context=context, model=\"gpt-4\", temperature=0.5)\n",
    "    \n",
    "    await calculator.followup(instruction=instruct3, model=\"gpt-4\", temperature=0.3)\n",
    "    return li.l_return(calculator.conversation.responses, lambda i: i['content'])"
   ]
  },
  {
   "cell_type": "code",
   "execution_count": 20,
   "metadata": {},
   "outputs": [],
   "source": [
    "outs = await li.async_l_return(contexts, calculator_workflow)"
   ]
  },
  {
   "cell_type": "code",
   "execution_count": 21,
   "metadata": {},
   "outputs": [
    {
     "name": "stdout",
     "output_type": "stream",
     "text": [
      "Inputs: -9, 0, case: 1\n",
      "Outputs: ['9', '18']\n",
      "------\n",
      "Inputs: -2, 0, case: 0\n",
      "Outputs: ['2', '4']\n",
      "------\n",
      "Inputs: -1, 5, case: 0\n",
      "Outputs: ['6', '12']\n",
      "------\n",
      "Inputs: 7, 8, case: 1\n",
      "Outputs: ['-1', '1']\n",
      "------\n",
      "Inputs: 0, 6, case: 1\n",
      "Outputs: ['-6', '-4']\n",
      "------\n"
     ]
    }
   ],
   "source": [
    "for idx, out in enumerate(outs):\n",
    "    print(f\"Inputs: {ints1[idx]}, {ints2[idx]}, case: {cases[idx]}\")\n",
    "    print(f\"Outputs: {out}\")\n",
    "    print(\"------\")"
   ]
  }
 ],
 "metadata": {
  "kernelspec": {
   "display_name": "metal",
   "language": "python",
   "name": "python3"
  },
  "language_info": {
   "codemirror_mode": {
    "name": "ipython",
    "version": 3
   },
   "file_extension": ".py",
   "mimetype": "text/x-python",
   "name": "python",
   "nbconvert_exporter": "python",
   "pygments_lexer": "ipython3",
   "version": "3.11.5"
  }
 },
 "nbformat": 4,
 "nbformat_minor": 2
}
