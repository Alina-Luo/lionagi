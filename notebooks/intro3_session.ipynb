{
 "cells": [
  {
   "cell_type": "markdown",
   "metadata": {},
   "source": [
    "# Understanding Session"
   ]
  },
  {
   "cell_type": "code",
   "execution_count": 1,
   "metadata": {},
   "outputs": [],
   "source": [
    "from IPython.display import Markdown\n",
    "import lionagi as li"
   ]
  },
  {
   "cell_type": "markdown",
   "metadata": {},
   "source": [
    "The `Session` object is at the core of lionagi.\n",
    "\n",
    "A session is an interface to\n",
    "- manages and logs various messages (system, user, assistant) in a conversation, \n",
    "- call API with rate_limit, and \n",
    "- enable effortless multi-round exchange between many participants. \n",
    "\n",
    "A Session object contains a `Conversation` object, which contains an `Message` object. \n",
    "- `Conversation`: create, manage, keep track of messages in a single conversation\n",
    "- `Message`: The smallest unit of data with a role\n",
    "\n",
    "\n",
    "**Note:**\n",
    "currently Session can only call ChatCompletion, support for other OpenAI API endpoints are under developments. currently only supports one assistant in a conversation, multi assistant will be supported in future"
   ]
  },
  {
   "cell_type": "markdown",
   "metadata": {},
   "source": [
    "## 1. Initiate and Followup\n",
    "\n",
    "Let us start with a simple use case of the `Session` object, which is to have a multi-turn conversation with an intelligence provider, i.e. OpenAI API service. "
   ]
  },
  {
   "cell_type": "code",
   "execution_count": 2,
   "metadata": {},
   "outputs": [],
   "source": [
    "# create some messages\n",
    "sys_comedian = \"As a comedian, you are sarcastically funny\"\n",
    "instruct1 = \"very short joke: a blue whale and a big shark meet at the bar and start dancing\"\n",
    "instruct2 = \"continue the short joke: the blue whale was confused why it was dancing with a shark\""
   ]
  },
  {
   "cell_type": "code",
   "execution_count": 3,
   "metadata": {},
   "outputs": [],
   "source": [
    "# create a session with the comedian and generate some jokes in a multi-turn conversation\n",
    "# also input target output directory for saving the conversation logs\n",
    "comedian = li.Session(sys_comedian, dir=\"data/logs/comedian/\")\n",
    "\n",
    "joke1 = await comedian.initiate(instruct1)\n",
    "joke2 = await comedian.followup(instruct2)\n",
    "\n",
    "# you can continue the conversation with more messages until out of context length\n",
    "# joke3 = await comedian.followup(instruct3)\n",
    "# joke4 = await comedian.followup(instruct4)"
   ]
  },
  {
   "cell_type": "code",
   "execution_count": 4,
   "metadata": {},
   "outputs": [
    {
     "data": {
      "text/markdown": [
       "So a blue whale and a big shark meet at a bar, right? They hit the dance floor, and the whale says, \"Let's show 'em how to really make waves!\" The shark replies, \"Sure, but no fin-flapping, I just ironed my skin!\""
      ],
      "text/plain": [
       "<IPython.core.display.Markdown object>"
      ]
     },
     "execution_count": 4,
     "metadata": {},
     "output_type": "execute_result"
    }
   ],
   "source": [
    "Markdown(joke1)"
   ]
  },
  {
   "cell_type": "code",
   "execution_count": 5,
   "metadata": {},
   "outputs": [
    {
     "data": {
      "text/markdown": [
       "The blue whale leans in and whispers, \"I'm a little confused, aren't we supposed to be natural enemies?\" The shark grins, \"Only when the cameras are rolling. Off-screen, I'm just a big fish who can't resist a good krill-and-chill!\""
      ],
      "text/plain": [
       "<IPython.core.display.Markdown object>"
      ]
     },
     "execution_count": 5,
     "metadata": {},
     "output_type": "execute_result"
    }
   ],
   "source": [
    "Markdown(joke2)"
   ]
  },
  {
   "cell_type": "markdown",
   "metadata": {},
   "source": [
    "## 2. Using a second Session as Validation"
   ]
  },
  {
   "cell_type": "code",
   "execution_count": 6,
   "metadata": {},
   "outputs": [],
   "source": [
    "# some messages from the critic\n",
    "sys_critic = \"you are a respected commentator, you are artistically logical\"\n",
    "instruct3 = \"short comments, what do you think about the first joke?\"\n",
    "instruct4 = \"provide a concise artistic critique on both jokes, and rate from 1-10\""
   ]
  },
  {
   "cell_type": "code",
   "execution_count": 7,
   "metadata": {},
   "outputs": [],
   "source": [
    "# create a session with the critic and generate some comments in a multi-turn conversation\n",
    "critic = li.Session(sys_critic, dir=\"data/logs/critic/\")\n",
    "\n",
    "# provide context for the critic\n",
    "context = {\n",
    "    \"joke1\": {\"prompt\": instruct1, \"response\": joke1},\n",
    "    \"joke2\": {\"prompt\": instruct2, \"response\": joke2}\n",
    "}\n",
    "\n",
    "# you only need to provide same context once in a conversation\n",
    "comment1 = await critic.initiate(instruct3, context=context)    \n",
    "comment2 = await critic.followup(instruct4)"
   ]
  },
  {
   "cell_type": "code",
   "execution_count": 8,
   "metadata": {},
   "outputs": [
    {
     "data": {
      "text/markdown": [
       "The interplay of the unexpected—predatory marine creatures socializing playfully in a human setting—makes for a whimsical and light-hearted jest, though the punchline might benefit from a sharper twist to elevate the humor."
      ],
      "text/plain": [
       "<IPython.core.display.Markdown object>"
      ]
     },
     "execution_count": 8,
     "metadata": {},
     "output_type": "execute_result"
    }
   ],
   "source": [
    "Markdown(comment1)"
   ]
  },
  {
   "cell_type": "code",
   "execution_count": 9,
   "metadata": {},
   "outputs": [
    {
     "data": {
      "text/markdown": [
       "Joke 1 utilizes the absurdity of marine giants engaging in human activities, blending oceanic wordplay with a hint of anthropomorphism. The humor is gentle, yet it lacks an incisive punchline that could elevate the amusement. Rating: 5/10.\n",
       "\n",
       "Joke 2 builds on the first by adding a layer of meta-humor—acknowledging the typical roles expected of these creatures in nature documentaries. The shark's line delivers a cheeky nod to behind-the-scenes reality versus public persona. Rating: 6/10 for the more developed concept and clever twist."
      ],
      "text/plain": [
       "<IPython.core.display.Markdown object>"
      ]
     },
     "execution_count": 9,
     "metadata": {},
     "output_type": "execute_result"
    }
   ],
   "source": [
    "Markdown(comment2)"
   ]
  },
  {
   "cell_type": "markdown",
   "metadata": {},
   "source": [
    "## 3. Using the Validation to improve first session performance"
   ]
  },
  {
   "cell_type": "code",
   "execution_count": 10,
   "metadata": {},
   "outputs": [],
   "source": [
    "# messages for comedian again\n",
    "instruct5 = \"your jokes were evaluated by a critic, does it make sense to you? why?\"\n",
    "instruct6 = \"based on your reflection, write joke1 again\"\n",
    "instruct7 = \"write joke2 again\"\n",
    "\n",
    "# provide context for the comedian\n",
    "context2 = {\"comments\": critic.conversation.responses}\n",
    "\n",
    "# run the instructions\n",
    "reflect = await comedian.followup(instruct5, context=context2)\n",
    "joke11 = await comedian.followup(instruct6)\n",
    "joke22 = await comedian.followup(instruct7)"
   ]
  },
  {
   "cell_type": "code",
   "execution_count": 11,
   "metadata": {},
   "outputs": [
    {
     "data": {
      "text/markdown": [
       "Oh, absolutely, the critique makes perfect sense. In the complex world of humor, it's all about the delivery and the punch. The critic's point of view suggests that while the scenarios were amusing and the characters engaging, the punchlines could have been sharpened for a more impactful laugh. It's like serving a shark a seal-shaped cake—it’s amusing but would be better if it had some real bite to it.\n",
       "\n",
       "It's crucial to remember that comedy is subjective, and what tickles one person's funny bone might just swim right past another's. Ratings like 5/10 and 6/10? Those are numbers I can work with! I mean, at least they didn't rate the jokes \"watered down,\" right? But hey, even if they did, I'd just wave it off. Comedy is an ocean, and I'm just here to keep swimming!"
      ],
      "text/plain": [
       "<IPython.core.display.Markdown object>"
      ]
     },
     "execution_count": 11,
     "metadata": {},
     "output_type": "execute_result"
    }
   ],
   "source": [
    "Markdown(reflect)"
   ]
  },
  {
   "cell_type": "code",
   "execution_count": 12,
   "metadata": {},
   "outputs": [
    {
     "data": {
      "text/markdown": [
       "So a blue whale and a big shark belly up to the bar and start busting moves on the dance floor. The DJ drops the beat, and the whale says, \"Watch out, I've been known to bring the house down with my moves!\" The shark winks and replies, \"Yeah, and I'm known for my killer moves, but tonight I'm just here to take a bite out of the dance floor!\""
      ],
      "text/plain": [
       "<IPython.core.display.Markdown object>"
      ]
     },
     "execution_count": 12,
     "metadata": {},
     "output_type": "execute_result"
    }
   ],
   "source": [
    "Markdown(joke11)"
   ]
  },
  {
   "cell_type": "code",
   "execution_count": 13,
   "metadata": {},
   "outputs": [
    {
     "data": {
      "text/markdown": [
       "The blue whale, a little puzzled, leans in and says, \"Isn't it weird for a whale and a shark to be dancing together?\" The shark flashes a toothy grin and replies, \"Only if we were in a nature documentary. Here, we're just two sea-lings looking to have a whale of a time without any fishy business!\""
      ],
      "text/plain": [
       "<IPython.core.display.Markdown object>"
      ]
     },
     "execution_count": 13,
     "metadata": {},
     "output_type": "execute_result"
    }
   ],
   "source": [
    "Markdown(joke22)"
   ]
  },
  {
   "cell_type": "markdown",
   "metadata": {},
   "source": [
    "#### Save the logs"
   ]
  },
  {
   "cell_type": "code",
   "execution_count": 14,
   "metadata": {},
   "outputs": [
    {
     "name": "stdout",
     "output_type": "stream",
     "text": [
      "11 logs saved to data/logs/comedian/_messages_2023-12-17T20_44_11_937182.csv\n",
      "5 logs saved to data/logs/comedian/_llmlog_2023-12-17T20_44_11_937781.csv\n",
      "5 logs saved to data/logs/critic/_messages_2023-12-17T20_44_11_938869.csv\n",
      "2 logs saved to data/logs/critic/_llmlog_2023-12-17T20_44_11_939154.csv\n"
     ]
    }
   ],
   "source": [
    "# create seperate log for each session, and save both messages and llm api logs to seperate csv files\n",
    "\n",
    "comedian.messages_to_csv()\n",
    "comedian.log_to_csv()\n",
    "\n",
    "critic.messages_to_csv()\n",
    "critic.log_to_csv()"
   ]
  }
 ],
 "metadata": {
  "kernelspec": {
   "display_name": "li_test",
   "language": "python",
   "name": "python3"
  },
  "language_info": {
   "codemirror_mode": {
    "name": "ipython",
    "version": 3
   },
   "file_extension": ".py",
   "mimetype": "text/x-python",
   "name": "python",
   "nbconvert_exporter": "python",
   "pygments_lexer": "ipython3",
   "version": "3.11.5"
  }
 },
 "nbformat": 4,
 "nbformat_minor": 2
}
