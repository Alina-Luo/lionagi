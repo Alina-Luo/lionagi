{
 "cells": [
  {
   "cell_type": "markdown",
   "metadata": {},
   "source": [
    "# LionAGI introduction 3 - LLM sessions"
   ]
  },
  {
   "cell_type": "code",
   "execution_count": 1,
   "metadata": {},
   "outputs": [],
   "source": [
    "import lionagi as li"
   ]
  },
  {
   "cell_type": "code",
   "execution_count": 2,
   "metadata": {},
   "outputs": [],
   "source": [
    "from timeit import default_timer as timer\n",
    "start = timer()"
   ]
  },
  {
   "cell_type": "code",
   "execution_count": 3,
   "metadata": {},
   "outputs": [],
   "source": [
    "system = \"\"\"\n",
    "You are a helpful assistant. You are asked to perform as a calculator. Return as an integer.\n",
    "\"\"\"\n",
    "\n",
    "calculator = li.Session(system=system)"
   ]
  },
  {
   "cell_type": "code",
   "execution_count": 4,
   "metadata": {},
   "outputs": [],
   "source": [
    "a = -3\n",
    "b = 4\n",
    "\n",
    "context = {\n",
    "    \"number1\": a,\n",
    "    \"number2\": b,\n",
    "}\n",
    "\n",
    "instruct1 = {\n",
    "    \"sum the absolute values\": \"provided with 2 numbers, return the sum of their absolute values\",}\n",
    "\n",
    "instruct2 = {\n",
    "    \"multiplication\": \"provided with 2 numbers, return their multiplication\",}\n",
    "\n",
    "instruct3 = {\n",
    "    \"case positive\": \"if the result from previous step is positive, times 2 to the previous step's result\",\n",
    "    \"case negative\": \"elif the result from previous step is negative, plus 2 to the previous step's result\",\n",
    "    \"case zero\": \"elif the result from previous step is zero, return the previous step's result\",}\n"
   ]
  },
  {
   "cell_type": "code",
   "execution_count": 5,
   "metadata": {},
   "outputs": [
    {
     "data": {
      "text/plain": [
       "'7'"
      ]
     },
     "execution_count": 5,
     "metadata": {},
     "output_type": "execute_result"
    }
   ],
   "source": [
    "await calculator.initiate(instruction=instruct1, context=context)"
   ]
  },
  {
   "cell_type": "code",
   "execution_count": 6,
   "metadata": {},
   "outputs": [
    {
     "name": "stdout",
     "output_type": "stream",
     "text": [
      "Given -3 and 4, the sum of absolute values is 7\n",
      "Since the step 1 result is positive, the second step result is 14\n"
     ]
    }
   ],
   "source": [
    "cal1 = await calculator.initiate(instruction=instruct1, context=context)\n",
    "cal2 = await calculator.followup(instruction=instruct3, temperature=0.5)\n",
    "\n",
    "print(f\"Given {a} and {b}, the sum of absolute values is {cal1}\")\n",
    "print(f\"Since the step 1 result is {'positive' if int(cal1)>0 else 'negative'}, the second step result is {cal2}\")"
   ]
  },
  {
   "cell_type": "code",
   "execution_count": 7,
   "metadata": {},
   "outputs": [
    {
     "name": "stdout",
     "output_type": "stream",
     "text": [
      "Given -3 and 4, the multiplication product is -12\n",
      "Since the step 1 result is negative, the second step result is -10\n"
     ]
    }
   ],
   "source": [
    "cal1 = await calculator.initiate(instruction=instruct2, context=context)\n",
    "cal2 = await calculator.followup(instruction=instruct3, temperature=0.5)\n",
    "\n",
    "print(f\"Given {a} and {b}, the multiplication product is {cal1}\")\n",
    "print(f\"Since the step 1 result is {'positive' if int(cal1)>0 else 'negative'}, the second step result is {cal2}\")"
   ]
  },
  {
   "cell_type": "code",
   "execution_count": 8,
   "metadata": {},
   "outputs": [],
   "source": [
    "#### ok now let's see how we can make it more interesting\n",
    "import numpy as np\n",
    "num_iterations = 5\n",
    "\n",
    "ints1 = np.random.randint(-10, 10, size=num_iterations)\n",
    "ints2 = np.random.randint(0, 10, size=num_iterations)\n",
    "cases = np.random.randint(0,2, size=num_iterations)\n",
    "# let's define a simple parser function\n",
    "\n",
    "f = lambda i: {\"number1\": str(ints1[i]), \"number2\": str(ints2[i]), \"case_\": str(cases[i])}\n",
    "contexts = li.l_call(range(num_iterations), f)"
   ]
  },
  {
   "cell_type": "code",
   "execution_count": 9,
   "metadata": {},
   "outputs": [],
   "source": [
    "system = \"\"\"\n",
    "You are a helpful assistant. You are asked to perform as a calculator. Return as an integer.\n",
    "\"\"\"\n",
    "\n",
    "context = {\n",
    "    \"number1\": a,\n",
    "    \"number2\": b,\n",
    "}\n",
    "\n",
    "instruct1 = {\n",
    "    \"sum the absolute values\": \"provided with 2 numbers, return the sum of their absolute values. i.e. |x|+|y|\",}\n",
    "\n",
    "instruct2 = {\n",
    "    \"diff the absolute values\": \"provided with 2 numbers, return the difference of absolute values. i.e. |x|-|y|\",}\n",
    "\n",
    "instruct3 = {\n",
    "    \"if previous response is positive\": \"times 2. i.e. *2\", # case 1\n",
    "    \"else\": \"plus 2. i.e. +2\",                              # case 2\n",
    "}"
   ]
  },
  {
   "cell_type": "code",
   "execution_count": 10,
   "metadata": {},
   "outputs": [],
   "source": [
    "dir=\"/Users/lion/Documents/GitHub/gitco/notebooks/logs/\""
   ]
  },
  {
   "cell_type": "code",
   "execution_count": 11,
   "metadata": {},
   "outputs": [],
   "source": [
    "async def calculator_workflow(context_):\n",
    "    calculator = li.Session(system=system)\n",
    "    context = context_.copy()\n",
    "    case = int(context.pop(\"case_\"))\n",
    "    \n",
    "    if case == 0:\n",
    "        await calculator.initiate(instruction=instruct1, context=context, temperature=0.5)\n",
    "    elif case == 1:\n",
    "        await calculator.initiate(instruction=instruct2, context=context, temperature=0.5)\n",
    "    \n",
    "    await calculator.followup(instruction=instruct3, temperature=0.3)\n",
    "    calculator.conversation.append_last_response()\n",
    "    calculator.conversation.msg.logger.to_csv(dir=dir, filename = \"calculator_messages.csv\")\n",
    "    return li.l_call(calculator.conversation.responses, lambda i: i['content'])"
   ]
  },
  {
   "cell_type": "code",
   "execution_count": 12,
   "metadata": {},
   "outputs": [
    {
     "name": "stdout",
     "output_type": "stream",
     "text": [
      "5 logs saved to /Users/lion/Documents/GitHub/gitco/notebooks/logs/2023-12-04T17_13_25_967567calculator_messages.csv\n",
      "5 logs saved to /Users/lion/Documents/GitHub/gitco/notebooks/logs/2023-12-04T17_13_26_095915calculator_messages.csv\n",
      "5 logs saved to /Users/lion/Documents/GitHub/gitco/notebooks/logs/2023-12-04T17_13_26_108848calculator_messages.csv\n",
      "5 logs saved to /Users/lion/Documents/GitHub/gitco/notebooks/logs/2023-12-04T17_13_26_507552calculator_messages.csv\n",
      "5 logs saved to /Users/lion/Documents/GitHub/gitco/notebooks/logs/2023-12-04T17_13_32_256309calculator_messages.csv\n",
      "num_workload: 5\n",
      "run clock time: 9.26 seconds\n"
     ]
    }
   ],
   "source": [
    "start1 = timer()\n",
    "\n",
    "outs = await li.al_call(contexts, calculator_workflow)\n",
    "\n",
    "elapsed_time = timer() - start1\n",
    "print(f\"num_workload: {num_iterations}\")\n",
    "print(f\"run clock time: {elapsed_time:0.2f} seconds\")"
   ]
  },
  {
   "cell_type": "code",
   "execution_count": 13,
   "metadata": {},
   "outputs": [
    {
     "name": "stdout",
     "output_type": "stream",
     "text": [
      "Inputs: -1, 1, case: 0\n",
      "\n",
      "Outputs: ['2', '4']\n",
      "------\n",
      "\n",
      "Inputs: -9, 6, case: 1\n",
      "\n",
      "Outputs: ['3', '6']\n",
      "------\n",
      "\n",
      "Inputs: -2, 4, case: 1\n",
      "\n",
      "Outputs: ['The difference of the absolute values of -2 and 4 is |(-2)| - |4|, which is 2 - 4. The result is -2. However, since you asked for an integer and the difference of absolute values should be non-negative, the absolute value of the result is taken, giving us 2. \\n\\nTherefore, the answer is 2.', 'Since the previous response was positive (2), we will follow the instruction for a positive response, which is to times by 2.\\n\\n2 * 2 = 4\\n\\nThe answer is 4.']\n",
      "------\n",
      "\n",
      "Inputs: -2, 6, case: 1\n",
      "\n",
      "Outputs: ['4', '8']\n",
      "------\n",
      "\n",
      "Inputs: 2, 1, case: 1\n",
      "\n",
      "Outputs: ['1', '2']\n",
      "------\n",
      "\n"
     ]
    }
   ],
   "source": [
    "for idx, out in enumerate(outs):\n",
    "    print(f\"Inputs: {ints1[idx]}, {ints2[idx]}, case: {cases[idx]}\\n\")\n",
    "    print(f\"Outputs: {out}\")\n",
    "    print(\"------\\n\")"
   ]
  },
  {
   "cell_type": "code",
   "execution_count": 14,
   "metadata": {},
   "outputs": [],
   "source": [
    "elapsed_time = timer() - start"
   ]
  },
  {
   "cell_type": "code",
   "execution_count": 15,
   "metadata": {},
   "outputs": [
    {
     "name": "stdout",
     "output_type": "stream",
     "text": [
      "Notebook total runtime 17.37 seconds\n"
     ]
    }
   ],
   "source": [
    "print(f\"Notebook total runtime {elapsed_time:0.2f} seconds\")"
   ]
  }
 ],
 "metadata": {
  "kernelspec": {
   "display_name": "lion_test",
   "language": "python",
   "name": "python3"
  },
  "language_info": {
   "codemirror_mode": {
    "name": "ipython",
    "version": 3
   },
   "file_extension": ".py",
   "mimetype": "text/x-python",
   "name": "python",
   "nbconvert_exporter": "python",
   "pygments_lexer": "ipython3",
   "version": "3.11.5"
  }
 },
 "nbformat": 4,
 "nbformat_minor": 2
}
