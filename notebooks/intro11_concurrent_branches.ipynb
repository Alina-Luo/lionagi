{
 "cells": [
  {
   "cell_type": "markdown",
   "metadata": {},
   "source": [
    "# LionAGI - Introduction 11 : Concurrent Branches"
   ]
  },
  {
   "cell_type": "code",
   "execution_count": 1,
   "metadata": {},
   "outputs": [],
   "source": [
    "import lionagi as li"
   ]
  },
  {
   "cell_type": "code",
   "execution_count": 2,
   "metadata": {},
   "outputs": [],
   "source": [
    "def multiply(number1:float, number2:float):\n",
    "    '''\n",
    "    Perform multiplication on two numbers.\n",
    "\n",
    "    Args:\n",
    "        number1: First number to multiply.\n",
    "        number2: Second number to multiply.\n",
    "    \n",
    "    Returns:\n",
    "        The product of number1 and number2.\n",
    "\n",
    "    '''\n",
    "    return number1*number2\n",
    "\n",
    "tool_mul = li.func_to_tool(multiply)"
   ]
  },
  {
   "cell_type": "code",
   "execution_count": 3,
   "metadata": {},
   "outputs": [],
   "source": [
    "def add(number1:float, number2:float):\n",
    "    '''\n",
    "    Add up two numbers.\n",
    "\n",
    "    Args:\n",
    "        number1: First number to add.\n",
    "        number2: Second number to add.\n",
    "    \n",
    "    Returns:\n",
    "        The sum of number1 and number2.\n",
    "\n",
    "    '''\n",
    "    return number1+number2\n",
    "\n",
    "tool_add = li.func_to_tool(add)"
   ]
  },
  {
   "cell_type": "code",
   "execution_count": 4,
   "metadata": {},
   "outputs": [],
   "source": [
    "session = li.Session()\n",
    "session.new_branch('calc_mul')\n",
    "session.new_branch('calc_add')"
   ]
  },
  {
   "cell_type": "code",
   "execution_count": 5,
   "metadata": {},
   "outputs": [],
   "source": [
    "session.branches['calc_mul'].register_tools(tool_mul)\n",
    "session.branches['calc_add'].register_tools(tool_add)"
   ]
  },
  {
   "cell_type": "code",
   "execution_count": 6,
   "metadata": {},
   "outputs": [],
   "source": [
    "task = \"Think step by step, understand the following basic math question and provide parameters for function calling.\"\n",
    "\n",
    "# when using respond_mode as json to enforce output format, you need to provide specifying details in instruction\n",
    "json_format = {\"number1\": \"x\", \"number2\": \"y\"}\n",
    "\n",
    "instruct = {\"Task\": task, \"json_format\": json_format}\n",
    "\n",
    "question1 = \"There are [basketball, football, backpack, water bottle, strawberry, tennis ball, rockets]. each comes in four different colors, what is the number of unique kinds of ball?\"\n",
    "question2 = \"There are three fruits in total, each with 2 different colors, how many unique kinds of fruits are there?\"\n",
    "\n",
    "context1 = {\"Question1\": question1, \"question2\": question2}\n",
    "\n",
    "question3 = \"There are two cards facing up and three facing down, how many cards are there in total?\"\n",
    "context2 = {\"Question3\": question3}\n",
    "\n",
    "contexts = {'calc_mul': context1, 'calc_add': context2}\n",
    "\n",
    "session.default_branch.llmconfig.update({\n",
    "    \"temperature\":0.35,\n",
    "    \"tool_choice\": \"auto\", \n",
    "    \"response_format\": {'type':'json_object'}\n",
    "})"
   ]
  },
  {
   "cell_type": "code",
   "execution_count": 7,
   "metadata": {},
   "outputs": [
    {
     "data": {
      "text/plain": [
       "[None, None]"
      ]
     },
     "execution_count": 7,
     "metadata": {},
     "output_type": "execute_result"
    }
   ],
   "source": [
    "async def calculate(name):\n",
    "    await session.chat(instruction=instruct, context=contexts[name], to_=name, tools=True)\n",
    "\n",
    "await li.alcall(['calc_mul', 'calc_add'], calculate)"
   ]
  },
  {
   "cell_type": "code",
   "execution_count": 8,
   "metadata": {},
   "outputs": [
    {
     "data": {
      "text/html": [
       "<div>\n",
       "<style scoped>\n",
       "    .dataframe tbody tr th:only-of-type {\n",
       "        vertical-align: middle;\n",
       "    }\n",
       "\n",
       "    .dataframe tbody tr th {\n",
       "        vertical-align: top;\n",
       "    }\n",
       "\n",
       "    .dataframe thead th {\n",
       "        text-align: right;\n",
       "    }\n",
       "</style>\n",
       "<table border=\"1\" class=\"dataframe\">\n",
       "  <thead>\n",
       "    <tr style=\"text-align: right;\">\n",
       "      <th></th>\n",
       "      <th>node_id</th>\n",
       "      <th>role</th>\n",
       "      <th>sender</th>\n",
       "      <th>timestamp</th>\n",
       "      <th>content</th>\n",
       "    </tr>\n",
       "  </thead>\n",
       "  <tbody>\n",
       "    <tr>\n",
       "      <th>0</th>\n",
       "      <td>80368d3acbc0e1cc61d1300f62051fa5</td>\n",
       "      <td>user</td>\n",
       "      <td>user</td>\n",
       "      <td>2024-02-03 01:16:21.609017</td>\n",
       "      <td>{\"instruction\": {\"Task\": \"Think step by step, ...</td>\n",
       "    </tr>\n",
       "    <tr>\n",
       "      <th>1</th>\n",
       "      <td>ab1b46453220d87faeba61772d620a07</td>\n",
       "      <td>assistant</td>\n",
       "      <td>action_request</td>\n",
       "      <td>2024-02-03 01:16:26.511631</td>\n",
       "      <td>{\"action_list\": [{\"recipient_name\": \"functions...</td>\n",
       "    </tr>\n",
       "    <tr>\n",
       "      <th>2</th>\n",
       "      <td>93e77da3da185de78f2bb0a40fcd11ab</td>\n",
       "      <td>assistant</td>\n",
       "      <td>action_response</td>\n",
       "      <td>2024-02-03 01:16:26.513599</td>\n",
       "      <td>{\"action_response\": {\"function\": \"multiply\", \"...</td>\n",
       "    </tr>\n",
       "    <tr>\n",
       "      <th>3</th>\n",
       "      <td>b763bebb67e8d4f46d8fa1dcfd15d853</td>\n",
       "      <td>assistant</td>\n",
       "      <td>action_response</td>\n",
       "      <td>2024-02-03 01:16:26.515066</td>\n",
       "      <td>{\"action_response\": {\"function\": \"multiply\", \"...</td>\n",
       "    </tr>\n",
       "  </tbody>\n",
       "</table>\n",
       "</div>"
      ],
      "text/plain": [
       "                            node_id       role           sender  \\\n",
       "0  80368d3acbc0e1cc61d1300f62051fa5       user             user   \n",
       "1  ab1b46453220d87faeba61772d620a07  assistant   action_request   \n",
       "2  93e77da3da185de78f2bb0a40fcd11ab  assistant  action_response   \n",
       "3  b763bebb67e8d4f46d8fa1dcfd15d853  assistant  action_response   \n",
       "\n",
       "                   timestamp  \\\n",
       "0 2024-02-03 01:16:21.609017   \n",
       "1 2024-02-03 01:16:26.511631   \n",
       "2 2024-02-03 01:16:26.513599   \n",
       "3 2024-02-03 01:16:26.515066   \n",
       "\n",
       "                                             content  \n",
       "0  {\"instruction\": {\"Task\": \"Think step by step, ...  \n",
       "1  {\"action_list\": [{\"recipient_name\": \"functions...  \n",
       "2  {\"action_response\": {\"function\": \"multiply\", \"...  \n",
       "3  {\"action_response\": {\"function\": \"multiply\", \"...  "
      ]
     },
     "execution_count": 8,
     "metadata": {},
     "output_type": "execute_result"
    }
   ],
   "source": [
    "session.branches['calc_mul'].messages"
   ]
  },
  {
   "cell_type": "code",
   "execution_count": 9,
   "metadata": {},
   "outputs": [
    {
     "data": {
      "text/html": [
       "<div>\n",
       "<style scoped>\n",
       "    .dataframe tbody tr th:only-of-type {\n",
       "        vertical-align: middle;\n",
       "    }\n",
       "\n",
       "    .dataframe tbody tr th {\n",
       "        vertical-align: top;\n",
       "    }\n",
       "\n",
       "    .dataframe thead th {\n",
       "        text-align: right;\n",
       "    }\n",
       "</style>\n",
       "<table border=\"1\" class=\"dataframe\">\n",
       "  <thead>\n",
       "    <tr style=\"text-align: right;\">\n",
       "      <th></th>\n",
       "      <th>node_id</th>\n",
       "      <th>role</th>\n",
       "      <th>sender</th>\n",
       "      <th>timestamp</th>\n",
       "      <th>content</th>\n",
       "    </tr>\n",
       "  </thead>\n",
       "  <tbody>\n",
       "    <tr>\n",
       "      <th>0</th>\n",
       "      <td>9d16f509b50618273928a4fb0b3f31e3</td>\n",
       "      <td>user</td>\n",
       "      <td>user</td>\n",
       "      <td>2024-02-03 01:16:21.959169</td>\n",
       "      <td>{\"instruction\": {\"Task\": \"Think step by step, ...</td>\n",
       "    </tr>\n",
       "    <tr>\n",
       "      <th>1</th>\n",
       "      <td>8179a4b8f2bc7634bf080f72fe07f2e4</td>\n",
       "      <td>assistant</td>\n",
       "      <td>action_request</td>\n",
       "      <td>2024-02-03 01:16:25.211032</td>\n",
       "      <td>{\"action_list\": [{\"recipient_name\": \"functions...</td>\n",
       "    </tr>\n",
       "    <tr>\n",
       "      <th>2</th>\n",
       "      <td>6cccc8dca7e038dcba25da7eef022dd9</td>\n",
       "      <td>assistant</td>\n",
       "      <td>action_response</td>\n",
       "      <td>2024-02-03 01:16:25.213402</td>\n",
       "      <td>{\"action_response\": {\"function\": \"add\", \"argum...</td>\n",
       "    </tr>\n",
       "  </tbody>\n",
       "</table>\n",
       "</div>"
      ],
      "text/plain": [
       "                            node_id       role           sender  \\\n",
       "0  9d16f509b50618273928a4fb0b3f31e3       user             user   \n",
       "1  8179a4b8f2bc7634bf080f72fe07f2e4  assistant   action_request   \n",
       "2  6cccc8dca7e038dcba25da7eef022dd9  assistant  action_response   \n",
       "\n",
       "                   timestamp  \\\n",
       "0 2024-02-03 01:16:21.959169   \n",
       "1 2024-02-03 01:16:25.211032   \n",
       "2 2024-02-03 01:16:25.213402   \n",
       "\n",
       "                                             content  \n",
       "0  {\"instruction\": {\"Task\": \"Think step by step, ...  \n",
       "1  {\"action_list\": [{\"recipient_name\": \"functions...  \n",
       "2  {\"action_response\": {\"function\": \"add\", \"argum...  "
      ]
     },
     "execution_count": 9,
     "metadata": {},
     "output_type": "execute_result"
    }
   ],
   "source": [
    "session.branches['calc_add'].messages"
   ]
  },
  {
   "cell_type": "markdown",
   "metadata": {},
   "source": [
    "# Branch Info Exchange"
   ]
  },
  {
   "cell_type": "markdown",
   "metadata": {},
   "source": [
    "Each branch can make requests to send messages, tool, service, or llmconfig to another branch."
   ]
  },
  {
   "cell_type": "code",
   "execution_count": 10,
   "metadata": {},
   "outputs": [],
   "source": [
    "# suppose branch 'calc_add' request to send its last action response to branch 'calc_mul'\n",
    "# and branch 'calc_mul' request to senf its tool 'multiply' to branch 'calc_add'\n",
    "\n",
    "message_request = session.branches['calc_add'].messages.iloc[[-1]]\n",
    "tool_request = session.branches['calc_mul'].tool_manager.registry['multiply']\n",
    "\n",
    "session.branches['calc_add'].send('calc_mul', title='messages', package=message_request)\n",
    "session.branches['calc_mul'].send('calc_add', title='tool', package=tool_request)"
   ]
  },
  {
   "cell_type": "markdown",
   "metadata": {},
   "source": [
    "`title` is restricted to one of the following type:\n",
    "\n",
    "- `RequestTitle.MESSAGES` or 'messages'\n",
    "- `RequestTitle.TOOL` or 'tool'\n",
    "- `RequestTitle.SERVICE` or 'service'\n",
    "- `RequestTitle.LLMCONFIG` or 'llmconfig'"
   ]
  },
  {
   "cell_type": "markdown",
   "metadata": {},
   "source": [
    "After requests are mades, there are three steps to complete the delivery process:\n",
    "- collect all requests from branches if any\n",
    "- send all requests to target branches\n",
    "- branch decide to receive requests"
   ]
  },
  {
   "cell_type": "markdown",
   "metadata": {},
   "source": [
    "All requests waiting to be collected are in each branch's `pending_outs`, and all requests waiting to be received are in each branch's `pending_ins`.\n",
    "\n",
    "Each branch can make a receiving decision based on the sender and the request type.\n",
    "\n",
    "``` python\n",
    "receive(self, from_name, messages=True, tool=True, service=True, llmconfig=True):\n",
    "\n",
    "    from_name (str): The name of the sender whose packages are to be processed.\n",
    "    messages (bool, optional): If True, processes 'messages' requests.\n",
    "    tool (bool, optional): If True, processes 'tool' requests.\n",
    "    service (bool, optional): If True, processes 'service' requests.\n",
    "    llmconfig (bool, optional): If True, processes 'llmconfig' requests.\n",
    "```"
   ]
  },
  {
   "cell_type": "code",
   "execution_count": 11,
   "metadata": {},
   "outputs": [],
   "source": [
    "# step by step process\n",
    "session.collect()\n",
    "session.send()\n",
    "\n",
    "session.branches['calc_mul'].receive('calc_add')\n",
    "session.branches['calc_add'].receive('calc_mul')\n",
    "\n",
    "# equivalent one step shortcut\n",
    "# session.collect_send_all(receive_all=True)"
   ]
  },
  {
   "cell_type": "code",
   "execution_count": 12,
   "metadata": {},
   "outputs": [
    {
     "data": {
      "text/html": [
       "<div>\n",
       "<style scoped>\n",
       "    .dataframe tbody tr th:only-of-type {\n",
       "        vertical-align: middle;\n",
       "    }\n",
       "\n",
       "    .dataframe tbody tr th {\n",
       "        vertical-align: top;\n",
       "    }\n",
       "\n",
       "    .dataframe thead th {\n",
       "        text-align: right;\n",
       "    }\n",
       "</style>\n",
       "<table border=\"1\" class=\"dataframe\">\n",
       "  <thead>\n",
       "    <tr style=\"text-align: right;\">\n",
       "      <th></th>\n",
       "      <th>node_id</th>\n",
       "      <th>role</th>\n",
       "      <th>sender</th>\n",
       "      <th>timestamp</th>\n",
       "      <th>content</th>\n",
       "    </tr>\n",
       "  </thead>\n",
       "  <tbody>\n",
       "    <tr>\n",
       "      <th>0</th>\n",
       "      <td>80368d3acbc0e1cc61d1300f62051fa5</td>\n",
       "      <td>user</td>\n",
       "      <td>user</td>\n",
       "      <td>2024-02-03 01:16:21.609017</td>\n",
       "      <td>{\"instruction\": {\"Task\": \"Think step by step, ...</td>\n",
       "    </tr>\n",
       "    <tr>\n",
       "      <th>1</th>\n",
       "      <td>ab1b46453220d87faeba61772d620a07</td>\n",
       "      <td>assistant</td>\n",
       "      <td>action_request</td>\n",
       "      <td>2024-02-03 01:16:26.511631</td>\n",
       "      <td>{\"action_list\": [{\"recipient_name\": \"functions...</td>\n",
       "    </tr>\n",
       "    <tr>\n",
       "      <th>2</th>\n",
       "      <td>93e77da3da185de78f2bb0a40fcd11ab</td>\n",
       "      <td>assistant</td>\n",
       "      <td>action_response</td>\n",
       "      <td>2024-02-03 01:16:26.513599</td>\n",
       "      <td>{\"action_response\": {\"function\": \"multiply\", \"...</td>\n",
       "    </tr>\n",
       "    <tr>\n",
       "      <th>3</th>\n",
       "      <td>b763bebb67e8d4f46d8fa1dcfd15d853</td>\n",
       "      <td>assistant</td>\n",
       "      <td>action_response</td>\n",
       "      <td>2024-02-03 01:16:26.515066</td>\n",
       "      <td>{\"action_response\": {\"function\": \"multiply\", \"...</td>\n",
       "    </tr>\n",
       "    <tr>\n",
       "      <th>4</th>\n",
       "      <td>6cccc8dca7e038dcba25da7eef022dd9</td>\n",
       "      <td>assistant</td>\n",
       "      <td>action_response</td>\n",
       "      <td>2024-02-03 01:16:25.213402</td>\n",
       "      <td>{\"action_response\": {\"function\": \"add\", \"argum...</td>\n",
       "    </tr>\n",
       "  </tbody>\n",
       "</table>\n",
       "</div>"
      ],
      "text/plain": [
       "                            node_id       role           sender  \\\n",
       "0  80368d3acbc0e1cc61d1300f62051fa5       user             user   \n",
       "1  ab1b46453220d87faeba61772d620a07  assistant   action_request   \n",
       "2  93e77da3da185de78f2bb0a40fcd11ab  assistant  action_response   \n",
       "3  b763bebb67e8d4f46d8fa1dcfd15d853  assistant  action_response   \n",
       "4  6cccc8dca7e038dcba25da7eef022dd9  assistant  action_response   \n",
       "\n",
       "                   timestamp  \\\n",
       "0 2024-02-03 01:16:21.609017   \n",
       "1 2024-02-03 01:16:26.511631   \n",
       "2 2024-02-03 01:16:26.513599   \n",
       "3 2024-02-03 01:16:26.515066   \n",
       "4 2024-02-03 01:16:25.213402   \n",
       "\n",
       "                                             content  \n",
       "0  {\"instruction\": {\"Task\": \"Think step by step, ...  \n",
       "1  {\"action_list\": [{\"recipient_name\": \"functions...  \n",
       "2  {\"action_response\": {\"function\": \"multiply\", \"...  \n",
       "3  {\"action_response\": {\"function\": \"multiply\", \"...  \n",
       "4  {\"action_response\": {\"function\": \"add\", \"argum...  "
      ]
     },
     "execution_count": 12,
     "metadata": {},
     "output_type": "execute_result"
    }
   ],
   "source": [
    "session.branches['calc_mul'].messages"
   ]
  },
  {
   "cell_type": "code",
   "execution_count": 13,
   "metadata": {},
   "outputs": [
    {
     "data": {
      "text/plain": [
       "{'add': Tool({\"node_id\":\"c4a1abefbf44ca51f08439ab8bbd37c7\",\"metadata\":{},\"label\":null,\"related_nodes\":[],\"content\":null,\"func\":\"add\",\"parser\":null,\"schema_\":{\"type\":\"function\",\"function\":{\"name\":\"add\",\"description\":\"Add up two numbers.\",\"parameters\":{\"type\":\"object\",\"properties\":{\"number1\":{\"type\":\"number\",\"description\":\"First number to add.\"},\"number2\":{\"type\":\"number\",\"description\":\"Second number to add.\"}},\"required\":[\"number1\",\"number2\"]}}}}),\n",
       " 'multiply': Tool({\"node_id\":\"7c402d6c64ec91b5c46ddcb4479f524a\",\"metadata\":{},\"label\":null,\"related_nodes\":[],\"content\":null,\"func\":\"multiply\",\"parser\":null,\"schema_\":{\"type\":\"function\",\"function\":{\"name\":\"multiply\",\"description\":\"Perform multiplication on two numbers.\",\"parameters\":{\"type\":\"object\",\"properties\":{\"number1\":{\"type\":\"number\",\"description\":\"First number to multiply.\"},\"number2\":{\"type\":\"number\",\"description\":\"Second number to multiply.\"}},\"required\":[\"number1\",\"number2\"]}}}})}"
      ]
     },
     "execution_count": 13,
     "metadata": {},
     "output_type": "execute_result"
    }
   ],
   "source": [
    "session.branches['calc_add'].tool_manager.registry"
   ]
  }
 ],
 "metadata": {
  "kernelspec": {
   "display_name": ".venv",
   "language": "python",
   "name": "python3"
  },
  "language_info": {
   "codemirror_mode": {
    "name": "ipython",
    "version": 3
   },
   "file_extension": ".py",
   "mimetype": "text/x-python",
   "name": "python",
   "nbconvert_exporter": "python",
   "pygments_lexer": "ipython3",
   "version": "3.10.6"
  }
 },
 "nbformat": 4,
 "nbformat_minor": 2
}
