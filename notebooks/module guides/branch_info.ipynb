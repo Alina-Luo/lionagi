{
 "cells": [
  {
   "cell_type": "markdown",
   "metadata": {},
   "source": [
    "# Branch Info, Filter, and Edit"
   ]
  },
  {
   "cell_type": "code",
   "execution_count": 1,
   "metadata": {},
   "outputs": [
    {
     "data": {
      "text/plain": [
       "'To solve the provided math questions, we need to identify the number of unique kinds of each item mentioned and then calculate the total based on the given conditions. Let\\'s break down the tasks step by step:\\n\\n### Question 1 Analysis:\\n- The question lists several items: basketball, football, backpack, water bottle, strawberry, tennis ball, rockets.\\n- We need to identify the number of unique kinds of balls.\\n- Balls mentioned: basketball, football, tennis ball.\\n- Each comes in four different colors.\\n\\nTo calculate the total number of unique kinds of balls considering the colors, we\\'ll use the multiplication method. We have 3 kinds of balls, and each type comes in 4 different colors.\\n\\n### Calculation for Question 1:\\n- Total kinds of balls = Number of balls * Number of colors each = 3 * 4\\n\\n### Question 2 Analysis:\\n- It mentions three fruits in total, each with 2 different colors.\\n- We need to calculate the total number of unique kinds of fruits considering the colors.\\n\\n### Calculation for Question 2:\\n- Total kinds of fruits = Number of fruits * Number of colors each = 3 * 2\\n\\nNow, let\\'s provide the parameters for function calling to calculate these totals using the multiplication method.\\n\\n### Parameters for Function Calling:\\n\\n```json\\n{\\n  \"tool_uses\": [\\n    {\\n      \"recipient_name\": \"functions.multiply\",\\n      \"parameters\": {\\n        \"number1\": 3,\\n        \"number2\": 4\\n      }\\n    },\\n    {\\n      \"recipient_name\": \"functions.multiply\",\\n      \"parameters\": {\\n        \"number1\": 3,\\n        \"number2\": 2\\n      }\\n    }\\n  ]\\n}\\n```\\n\\nThis setup will calculate the total number of unique kinds of balls considering their colors for Question 1, and the total number of unique kinds of fruits considering their colors for Question 2, by performing the multiplication operation for each scenario.'"
      ]
     },
     "execution_count": 1,
     "metadata": {},
     "output_type": "execute_result"
    }
   ],
   "source": [
    "import lionagi as li\n",
    "\n",
    "def multiply(number1:float, number2:float):\n",
    "    '''\n",
    "    Perform multiplication on two numbers.\n",
    "\n",
    "    Args:\n",
    "        number1: First number to multiply.\n",
    "        number2: Second number to multiply.\n",
    "    \n",
    "    Returns:\n",
    "        The product of number1 and number2.\n",
    "\n",
    "    '''\n",
    "    return number1*number2\n",
    "\n",
    "tool_mul = li.func_to_tool(multiply)\n",
    "\n",
    "# and now some messages\n",
    "system = \"you are asked to perform as a function picker and parameter provider\"\n",
    "task = \"Think step by step, understand the following basic math question and provide parameters for function calling.\"\n",
    "\n",
    "\n",
    "question = \"There are [basketball, football, backpack, water bottle, strawberry, tennis ball, rockets]. each comes in four different colors, what is the number of unique kinds of ball?\"\n",
    "question2 = \"There are three fruits in total, each with 2 different colors, how many unique kinds of fruits are there?\"\n",
    "\n",
    "context1 = {\"Question1\": question, \"question2\": question2}\n",
    "\n",
    "# by_default, tools are not used, you need to specify \n",
    "# tools = True, allows all tools to be available to use\n",
    "# tools = schema / Tool Object let you to specify which tools are allowed to use\n",
    "\n",
    "session = li.Session(system=system)\n",
    "session.register_tools(tool_mul)\n",
    "\n",
    "await session.chat(instruction=task, context=context1, tools=True)"
   ]
  },
  {
   "cell_type": "code",
   "execution_count": 2,
   "metadata": {},
   "outputs": [
    {
     "data": {
      "text/html": [
       "<div>\n",
       "<style scoped>\n",
       "    .dataframe tbody tr th:only-of-type {\n",
       "        vertical-align: middle;\n",
       "    }\n",
       "\n",
       "    .dataframe tbody tr th {\n",
       "        vertical-align: top;\n",
       "    }\n",
       "\n",
       "    .dataframe thead th {\n",
       "        text-align: right;\n",
       "    }\n",
       "</style>\n",
       "<table border=\"1\" class=\"dataframe\">\n",
       "  <thead>\n",
       "    <tr style=\"text-align: right;\">\n",
       "      <th></th>\n",
       "      <th>node_id</th>\n",
       "      <th>timestamp</th>\n",
       "      <th>role</th>\n",
       "      <th>sender</th>\n",
       "      <th>content</th>\n",
       "    </tr>\n",
       "  </thead>\n",
       "  <tbody>\n",
       "    <tr>\n",
       "      <th>0</th>\n",
       "      <td>0097f063045d84f15ab854b7870dcf1c</td>\n",
       "      <td>2024-02-27T18_07_52_662707</td>\n",
       "      <td>system</td>\n",
       "      <td>system</td>\n",
       "      <td>{\"system_info\": \"you are asked to perform as a...</td>\n",
       "    </tr>\n",
       "    <tr>\n",
       "      <th>1</th>\n",
       "      <td>7c25868bc54eb5cce0db1dcf9fd57090</td>\n",
       "      <td>2024-02-27T18_07_52_663234</td>\n",
       "      <td>user</td>\n",
       "      <td>user</td>\n",
       "      <td>{\"instruction\": \"Think step by step, understan...</td>\n",
       "    </tr>\n",
       "    <tr>\n",
       "      <th>2</th>\n",
       "      <td>ebab4b0edf43ca2588398665ef13be6d</td>\n",
       "      <td>2024-02-27T18_08_08_064432</td>\n",
       "      <td>assistant</td>\n",
       "      <td>assistant</td>\n",
       "      <td>{\"response\": \"To solve the provided math quest...</td>\n",
       "    </tr>\n",
       "  </tbody>\n",
       "</table>\n",
       "</div>"
      ],
      "text/plain": [
       "                            node_id                   timestamp       role  \\\n",
       "0  0097f063045d84f15ab854b7870dcf1c  2024-02-27T18_07_52_662707     system   \n",
       "1  7c25868bc54eb5cce0db1dcf9fd57090  2024-02-27T18_07_52_663234       user   \n",
       "2  ebab4b0edf43ca2588398665ef13be6d  2024-02-27T18_08_08_064432  assistant   \n",
       "\n",
       "      sender                                            content  \n",
       "0     system  {\"system_info\": \"you are asked to perform as a...  \n",
       "1       user  {\"instruction\": \"Think step by step, understan...  \n",
       "2  assistant  {\"response\": \"To solve the provided math quest...  "
      ]
     },
     "execution_count": 2,
     "metadata": {},
     "output_type": "execute_result"
    }
   ],
   "source": [
    "branch = session.default_branch\n",
    "session.messages"
   ]
  },
  {
   "cell_type": "markdown",
   "metadata": {},
   "source": [
    "### Info"
   ]
  },
  {
   "cell_type": "code",
   "execution_count": 3,
   "metadata": {},
   "outputs": [
    {
     "data": {
      "text/plain": [
       "<bound method Branch.messages_describe of Branch({'node_id': '6df5274df4a615ee38e76ab463a7e267', 'timestamp': '2024-02-27T18_07_52_661534', 'meta': {}, 'content': None, 'related_nodes': [], 'label': None, 'name': 'main', 'dir': None, 'messages':                             node_id                   timestamp       role  \\\n",
       "0  0097f063045d84f15ab854b7870dcf1c  2024-02-27T18_07_52_662707     system   \n",
       "1  7c25868bc54eb5cce0db1dcf9fd57090  2024-02-27T18_07_52_663234       user   \n",
       "2  ebab4b0edf43ca2588398665ef13be6d  2024-02-27T18_08_08_064432  assistant   \n",
       "\n",
       "      sender                                            content  \n",
       "0     system  {\"system_info\": \"you are asked to perform as a...  \n",
       "1       user  {\"instruction\": \"Think step by step, understan...  \n",
       "2  assistant  {\"response\": \"To solve the provided math quest...  , 'datalogger': <lionagi.core.schema.data_logger.DataLogger object at 0x114b02ed0>, 'branch_name': None, 'sender': 'system', 'tool_manager': <lionagi.core.action.tool_manager.ToolManager object at 0x105efc210>, 'service': <lionagi.integrations.provider.oai.OpenAIService object at 0x1268b97d0>, 'llmconfig': {'model': 'gpt-4-turbo-preview', 'frequency_penalty': 0, 'max_tokens': None, 'n': 1, 'presence_penalty': 0, 'response_format': {'type': 'text'}, 'seed': None, 'stop': None, 'stream': False, 'temperature': 0.7, 'top_p': 1, 'tools': None, 'tool_choice': 'none', 'user': None}, 'status_tracker': {'num_tasks_started': 0, 'num_tasks_in_progress': 0, 'num_tasks_succeeded': 1, 'num_tasks_failed': 0, 'num_rate_limit_errors': 0, 'num_api_errors': 0, 'num_other_errors': 0}, 'pending_ins': {}, 'pending_outs': deque([])})>"
      ]
     },
     "execution_count": 3,
     "metadata": {},
     "output_type": "execute_result"
    }
   ],
   "source": [
    "# complete version\n",
    "branch.messages_describe"
   ]
  },
  {
   "cell_type": "code",
   "execution_count": 4,
   "metadata": {},
   "outputs": [
    {
     "data": {
      "text/plain": [
       "{'system': 1, 'user': 1, 'assistant': 1, 'total': 3}"
      ]
     },
     "execution_count": 4,
     "metadata": {},
     "output_type": "execute_result"
    }
   ],
   "source": [
    "branch.info"
   ]
  },
  {
   "cell_type": "code",
   "execution_count": 5,
   "metadata": {},
   "outputs": [
    {
     "data": {
      "text/html": [
       "<div>\n",
       "<style scoped>\n",
       "    .dataframe tbody tr th:only-of-type {\n",
       "        vertical-align: middle;\n",
       "    }\n",
       "\n",
       "    .dataframe tbody tr th {\n",
       "        vertical-align: top;\n",
       "    }\n",
       "\n",
       "    .dataframe thead th {\n",
       "        text-align: right;\n",
       "    }\n",
       "</style>\n",
       "<table border=\"1\" class=\"dataframe\">\n",
       "  <thead>\n",
       "    <tr style=\"text-align: right;\">\n",
       "      <th></th>\n",
       "      <th>node_id</th>\n",
       "      <th>timestamp</th>\n",
       "      <th>role</th>\n",
       "      <th>sender</th>\n",
       "      <th>content</th>\n",
       "    </tr>\n",
       "  </thead>\n",
       "  <tbody>\n",
       "    <tr>\n",
       "      <th>2</th>\n",
       "      <td>ebab4b0edf43ca2588398665ef13be6d</td>\n",
       "      <td>2024-02-27T18_08_08_064432</td>\n",
       "      <td>assistant</td>\n",
       "      <td>assistant</td>\n",
       "      <td>{\"response\": \"To solve the provided math quest...</td>\n",
       "    </tr>\n",
       "  </tbody>\n",
       "</table>\n",
       "</div>"
      ],
      "text/plain": [
       "                            node_id                   timestamp       role  \\\n",
       "2  ebab4b0edf43ca2588398665ef13be6d  2024-02-27T18_08_08_064432  assistant   \n",
       "\n",
       "      sender                                            content  \n",
       "2  assistant  {\"response\": \"To solve the provided math quest...  "
      ]
     },
     "execution_count": 5,
     "metadata": {},
     "output_type": "execute_result"
    }
   ],
   "source": [
    "branch.last_response"
   ]
  },
  {
   "cell_type": "code",
   "execution_count": 6,
   "metadata": {},
   "outputs": [
    {
     "data": {
      "text/html": [
       "<div>\n",
       "<style scoped>\n",
       "    .dataframe tbody tr th:only-of-type {\n",
       "        vertical-align: middle;\n",
       "    }\n",
       "\n",
       "    .dataframe tbody tr th {\n",
       "        vertical-align: top;\n",
       "    }\n",
       "\n",
       "    .dataframe thead th {\n",
       "        text-align: right;\n",
       "    }\n",
       "</style>\n",
       "<table border=\"1\" class=\"dataframe\">\n",
       "  <thead>\n",
       "    <tr style=\"text-align: right;\">\n",
       "      <th></th>\n",
       "      <th>node_id</th>\n",
       "      <th>timestamp</th>\n",
       "      <th>role</th>\n",
       "      <th>sender</th>\n",
       "      <th>content</th>\n",
       "    </tr>\n",
       "  </thead>\n",
       "  <tbody>\n",
       "    <tr>\n",
       "      <th>2</th>\n",
       "      <td>ebab4b0edf43ca2588398665ef13be6d</td>\n",
       "      <td>2024-02-27T18_08_08_064432</td>\n",
       "      <td>assistant</td>\n",
       "      <td>assistant</td>\n",
       "      <td>{\"response\": \"To solve the provided math quest...</td>\n",
       "    </tr>\n",
       "  </tbody>\n",
       "</table>\n",
       "</div>"
      ],
      "text/plain": [
       "                            node_id                   timestamp       role  \\\n",
       "2  ebab4b0edf43ca2588398665ef13be6d  2024-02-27T18_08_08_064432  assistant   \n",
       "\n",
       "      sender                                            content  \n",
       "2  assistant  {\"response\": \"To solve the provided math quest...  "
      ]
     },
     "execution_count": 6,
     "metadata": {},
     "output_type": "execute_result"
    }
   ],
   "source": [
    "# search_keywords(keywords=None, case_sensitive=False)\n",
    "branch.search_keywords('multiply')"
   ]
  },
  {
   "cell_type": "markdown",
   "metadata": {},
   "source": [
    "### Edit"
   ]
  },
  {
   "cell_type": "code",
   "execution_count": 7,
   "metadata": {},
   "outputs": [],
   "source": [
    "# change_first_system_message(system=None, sender=None)\n",
    "branch.change_first_system_message(system='Updated System')"
   ]
  },
  {
   "cell_type": "code",
   "execution_count": 8,
   "metadata": {},
   "outputs": [],
   "source": [
    "# add_message(system=None, instruction=None, context=None, response=None, sender=None)\n",
    "# system, instruction, response: only choose one\n",
    "branch.add_message(instruction='a new instruction added')"
   ]
  },
  {
   "cell_type": "code",
   "execution_count": 9,
   "metadata": {},
   "outputs": [],
   "source": [
    "# replace_keyword(keyword, replacement, case_sensitive=False)\n",
    "branch.replace_keyword('function', 'func')"
   ]
  },
  {
   "cell_type": "code",
   "execution_count": 10,
   "metadata": {},
   "outputs": [],
   "source": [
    "# rollback(steps)\n",
    "branch.rollback(4)"
   ]
  }
 ],
 "metadata": {
  "kernelspec": {
   "display_name": ".venv",
   "language": "python",
   "name": "python3"
  },
  "language_info": {
   "codemirror_mode": {
    "name": "ipython",
    "version": 3
   },
   "file_extension": ".py",
   "mimetype": "text/x-python",
   "name": "python",
   "nbconvert_exporter": "python",
   "pygments_lexer": "ipython3",
   "version": "3.11.6"
  }
 },
 "nbformat": 4,
 "nbformat_minor": 2
}
