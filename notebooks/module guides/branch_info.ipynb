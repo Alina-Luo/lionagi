{
 "cells": [
  {
   "cell_type": "markdown",
   "metadata": {},
   "source": [
    "# Branch Info, Filter, and Edit"
   ]
  },
  {
   "cell_type": "code",
   "execution_count": 1,
   "metadata": {},
   "outputs": [],
   "source": [
    "from IPython.display import Markdown\n",
    "from lionagi import Session"
   ]
  },
  {
   "cell_type": "code",
   "execution_count": 2,
   "metadata": {},
   "outputs": [],
   "source": [
    "def multiply(number1: float, number2: float):\n",
    "    \"\"\"\n",
    "    Perform multiplication on two numbers.\n",
    "\n",
    "    Args:\n",
    "        number1: First number to multiply.\n",
    "        number2: Second number to multiply.\n",
    "\n",
    "    Returns:\n",
    "        The product of number1 and number2.\n",
    "\n",
    "    \"\"\"\n",
    "    return number1 * number2\n",
    "\n",
    "\n",
    "# and now some messages\n",
    "system = \"you are asked to perform as a function picker and parameter provider\"\n",
    "task = \"Think step by step, understand the following basic math question and provide parameters for function calling.\"\n",
    "\n",
    "\n",
    "question = \"There are [basketball, football, backpack, water bottle, strawberry, tennis ball, rockets]. each comes in four different colors, what is the number of unique kinds of ball?\"\n",
    "question2 = \"There are three fruits in total, each with 2 different colors, how many unique kinds of fruits are there?\"\n",
    "\n",
    "context1 = {\"Question1\": question, \"question2\": question2}\n",
    "\n",
    "# by_default, tools are not used, you need to specify\n",
    "# tools = True, allows all tools to be available to use\n",
    "# tools = schema / Tool Object let you to specify which tools are allowed to use"
   ]
  },
  {
   "cell_type": "code",
   "execution_count": 3,
   "metadata": {},
   "outputs": [],
   "source": [
    "session = Session(system=system, tools=multiply)\n",
    "out = await session.chat(instruction=task, context=context1, tools=True)"
   ]
  },
  {
   "cell_type": "code",
   "execution_count": 4,
   "metadata": {},
   "outputs": [
    {
     "data": {
      "text/plain": [
       "''"
      ]
     },
     "execution_count": 4,
     "metadata": {},
     "output_type": "execute_result"
    }
   ],
   "source": [
    "out"
   ]
  },
  {
   "cell_type": "code",
   "execution_count": 5,
   "metadata": {},
   "outputs": [
    {
     "data": {
      "text/html": [
       "<div>\n",
       "<style scoped>\n",
       "    .dataframe tbody tr th:only-of-type {\n",
       "        vertical-align: middle;\n",
       "    }\n",
       "\n",
       "    .dataframe tbody tr th {\n",
       "        vertical-align: top;\n",
       "    }\n",
       "\n",
       "    .dataframe thead th {\n",
       "        text-align: right;\n",
       "    }\n",
       "</style>\n",
       "<table border=\"1\" class=\"dataframe\">\n",
       "  <thead>\n",
       "    <tr style=\"text-align: right;\">\n",
       "      <th></th>\n",
       "      <th>node_id</th>\n",
       "      <th>timestamp</th>\n",
       "      <th>role</th>\n",
       "      <th>sender</th>\n",
       "      <th>recipient</th>\n",
       "      <th>content</th>\n",
       "    </tr>\n",
       "  </thead>\n",
       "  <tbody>\n",
       "    <tr>\n",
       "      <th>0</th>\n",
       "      <td>912e68e04e0b1859218ae89a3da1417f</td>\n",
       "      <td>2024-04-21T00:09:21.962222+00:00</td>\n",
       "      <td>system</td>\n",
       "      <td>system</td>\n",
       "      <td>assistant</td>\n",
       "      <td>{\"system_info\": \"you are asked to perform as a...</td>\n",
       "    </tr>\n",
       "    <tr>\n",
       "      <th>1</th>\n",
       "      <td>e38eeafbc4713f1989ce1333d086669d</td>\n",
       "      <td>2024-04-21T00:09:21.962926+00:00</td>\n",
       "      <td>user</td>\n",
       "      <td>user</td>\n",
       "      <td>main</td>\n",
       "      <td>{\"instruction\": \"Think step by step, understan...</td>\n",
       "    </tr>\n",
       "    <tr>\n",
       "      <th>2</th>\n",
       "      <td>80ed0839d27e53e89812b94aae553c71</td>\n",
       "      <td>2024-04-21T00:09:24.210235+00:00</td>\n",
       "      <td>assistant</td>\n",
       "      <td>action_request</td>\n",
       "      <td>action</td>\n",
       "      <td>{\"action_request\": [{\"action\": \"action_multipl...</td>\n",
       "    </tr>\n",
       "    <tr>\n",
       "      <th>3</th>\n",
       "      <td>599cc5db77cb17ad5e0ef6894c704d30</td>\n",
       "      <td>2024-04-21T00:09:24.211597+00:00</td>\n",
       "      <td>assistant</td>\n",
       "      <td>action_response</td>\n",
       "      <td>main</td>\n",
       "      <td>{\"action_response\": {\"function\": \"multiply\", \"...</td>\n",
       "    </tr>\n",
       "    <tr>\n",
       "      <th>4</th>\n",
       "      <td>0f47d10645eedc7c97a6add5d131c7ea</td>\n",
       "      <td>2024-04-21T00:09:24.212047+00:00</td>\n",
       "      <td>assistant</td>\n",
       "      <td>action_response</td>\n",
       "      <td>main</td>\n",
       "      <td>{\"action_response\": {\"function\": \"multiply\", \"...</td>\n",
       "    </tr>\n",
       "  </tbody>\n",
       "</table>\n",
       "</div>"
      ],
      "text/plain": [
       "                            node_id                         timestamp  \\\n",
       "0  912e68e04e0b1859218ae89a3da1417f  2024-04-21T00:09:21.962222+00:00   \n",
       "1  e38eeafbc4713f1989ce1333d086669d  2024-04-21T00:09:21.962926+00:00   \n",
       "2  80ed0839d27e53e89812b94aae553c71  2024-04-21T00:09:24.210235+00:00   \n",
       "3  599cc5db77cb17ad5e0ef6894c704d30  2024-04-21T00:09:24.211597+00:00   \n",
       "4  0f47d10645eedc7c97a6add5d131c7ea  2024-04-21T00:09:24.212047+00:00   \n",
       "\n",
       "        role           sender  recipient  \\\n",
       "0     system           system  assistant   \n",
       "1       user             user       main   \n",
       "2  assistant   action_request     action   \n",
       "3  assistant  action_response       main   \n",
       "4  assistant  action_response       main   \n",
       "\n",
       "                                             content  \n",
       "0  {\"system_info\": \"you are asked to perform as a...  \n",
       "1  {\"instruction\": \"Think step by step, understan...  \n",
       "2  {\"action_request\": [{\"action\": \"action_multipl...  \n",
       "3  {\"action_response\": {\"function\": \"multiply\", \"...  \n",
       "4  {\"action_response\": {\"function\": \"multiply\", \"...  "
      ]
     },
     "execution_count": 5,
     "metadata": {},
     "output_type": "execute_result"
    }
   ],
   "source": [
    "branch = session.default_branch\n",
    "branch.messages"
   ]
  },
  {
   "cell_type": "code",
   "execution_count": 6,
   "metadata": {},
   "outputs": [],
   "source": [
    "tool_manager = branch.tool_manager"
   ]
  },
  {
   "cell_type": "code",
   "execution_count": 7,
   "metadata": {},
   "outputs": [
    {
     "data": {
      "text/plain": [
       "True"
      ]
     },
     "execution_count": 7,
     "metadata": {},
     "output_type": "execute_result"
    }
   ],
   "source": [
    "tool_manager.name_existed(\"multiply\")"
   ]
  },
  {
   "cell_type": "markdown",
   "metadata": {},
   "source": [
    "### Messages"
   ]
  },
  {
   "cell_type": "code",
   "execution_count": 8,
   "metadata": {},
   "outputs": [],
   "source": [
    "# getting specific messages from a branch\n",
    "\n",
    "# # outputs a pd.df\n",
    "\n",
    "# branch.chat_messages\n",
    "# branch.chat_messages_with_sender\n",
    "# branch.first_system\n",
    "# branch.last_message\n",
    "# branch.last_response\n",
    "# branch.action_request\n",
    "# branch.action_response\n",
    "# branch.responses\n",
    "# branch.assistant_responses\n",
    "\n",
    "# # outputs a dict\n",
    "\n",
    "# branch.last_message_content\n",
    "# branch.last_response_content\n",
    "# branch.info\n",
    "# branch.sender_info\n",
    "# branch.describe"
   ]
  },
  {
   "cell_type": "code",
   "execution_count": 9,
   "metadata": {},
   "outputs": [
    {
     "data": {
      "text/plain": [
       "{'assistant': 3, 'system': 1, 'user': 1, 'total': 5}"
      ]
     },
     "execution_count": 9,
     "metadata": {},
     "output_type": "execute_result"
    }
   ],
   "source": [
    "branch.info"
   ]
  },
  {
   "cell_type": "code",
   "execution_count": 10,
   "metadata": {},
   "outputs": [
    {
     "data": {
      "text/html": [
       "<div>\n",
       "<style scoped>\n",
       "    .dataframe tbody tr th:only-of-type {\n",
       "        vertical-align: middle;\n",
       "    }\n",
       "\n",
       "    .dataframe tbody tr th {\n",
       "        vertical-align: top;\n",
       "    }\n",
       "\n",
       "    .dataframe thead th {\n",
       "        text-align: right;\n",
       "    }\n",
       "</style>\n",
       "<table border=\"1\" class=\"dataframe\">\n",
       "  <thead>\n",
       "    <tr style=\"text-align: right;\">\n",
       "      <th></th>\n",
       "      <th>node_id</th>\n",
       "      <th>timestamp</th>\n",
       "      <th>role</th>\n",
       "      <th>sender</th>\n",
       "      <th>recipient</th>\n",
       "      <th>content</th>\n",
       "    </tr>\n",
       "  </thead>\n",
       "  <tbody>\n",
       "    <tr>\n",
       "      <th>4</th>\n",
       "      <td>0f47d10645eedc7c97a6add5d131c7ea</td>\n",
       "      <td>2024-04-21T00:09:24.212047+00:00</td>\n",
       "      <td>assistant</td>\n",
       "      <td>action_response</td>\n",
       "      <td>main</td>\n",
       "      <td>{\"action_response\": {\"function\": \"multiply\", \"...</td>\n",
       "    </tr>\n",
       "  </tbody>\n",
       "</table>\n",
       "</div>"
      ],
      "text/plain": [
       "                            node_id                         timestamp  \\\n",
       "4  0f47d10645eedc7c97a6add5d131c7ea  2024-04-21T00:09:24.212047+00:00   \n",
       "\n",
       "        role           sender recipient  \\\n",
       "4  assistant  action_response      main   \n",
       "\n",
       "                                             content  \n",
       "4  {\"action_response\": {\"function\": \"multiply\", \"...  "
      ]
     },
     "execution_count": 10,
     "metadata": {},
     "output_type": "execute_result"
    }
   ],
   "source": [
    "branch.last_response"
   ]
  },
  {
   "cell_type": "code",
   "execution_count": 11,
   "metadata": {},
   "outputs": [
    {
     "data": {
      "text/html": [
       "<div>\n",
       "<style scoped>\n",
       "    .dataframe tbody tr th:only-of-type {\n",
       "        vertical-align: middle;\n",
       "    }\n",
       "\n",
       "    .dataframe tbody tr th {\n",
       "        vertical-align: top;\n",
       "    }\n",
       "\n",
       "    .dataframe thead th {\n",
       "        text-align: right;\n",
       "    }\n",
       "</style>\n",
       "<table border=\"1\" class=\"dataframe\">\n",
       "  <thead>\n",
       "    <tr style=\"text-align: right;\">\n",
       "      <th></th>\n",
       "      <th>node_id</th>\n",
       "      <th>timestamp</th>\n",
       "      <th>role</th>\n",
       "      <th>sender</th>\n",
       "      <th>recipient</th>\n",
       "      <th>content</th>\n",
       "    </tr>\n",
       "  </thead>\n",
       "  <tbody>\n",
       "    <tr>\n",
       "      <th>2</th>\n",
       "      <td>80ed0839d27e53e89812b94aae553c71</td>\n",
       "      <td>2024-04-21T00:09:24.210235+00:00</td>\n",
       "      <td>assistant</td>\n",
       "      <td>action_request</td>\n",
       "      <td>action</td>\n",
       "      <td>{\"action_request\": [{\"action\": \"action_multipl...</td>\n",
       "    </tr>\n",
       "    <tr>\n",
       "      <th>3</th>\n",
       "      <td>599cc5db77cb17ad5e0ef6894c704d30</td>\n",
       "      <td>2024-04-21T00:09:24.211597+00:00</td>\n",
       "      <td>assistant</td>\n",
       "      <td>action_response</td>\n",
       "      <td>main</td>\n",
       "      <td>{\"action_response\": {\"function\": \"multiply\", \"...</td>\n",
       "    </tr>\n",
       "    <tr>\n",
       "      <th>4</th>\n",
       "      <td>0f47d10645eedc7c97a6add5d131c7ea</td>\n",
       "      <td>2024-04-21T00:09:24.212047+00:00</td>\n",
       "      <td>assistant</td>\n",
       "      <td>action_response</td>\n",
       "      <td>main</td>\n",
       "      <td>{\"action_response\": {\"function\": \"multiply\", \"...</td>\n",
       "    </tr>\n",
       "  </tbody>\n",
       "</table>\n",
       "</div>"
      ],
      "text/plain": [
       "                            node_id                         timestamp  \\\n",
       "2  80ed0839d27e53e89812b94aae553c71  2024-04-21T00:09:24.210235+00:00   \n",
       "3  599cc5db77cb17ad5e0ef6894c704d30  2024-04-21T00:09:24.211597+00:00   \n",
       "4  0f47d10645eedc7c97a6add5d131c7ea  2024-04-21T00:09:24.212047+00:00   \n",
       "\n",
       "        role           sender recipient  \\\n",
       "2  assistant   action_request    action   \n",
       "3  assistant  action_response      main   \n",
       "4  assistant  action_response      main   \n",
       "\n",
       "                                             content  \n",
       "2  {\"action_request\": [{\"action\": \"action_multipl...  \n",
       "3  {\"action_response\": {\"function\": \"multiply\", \"...  \n",
       "4  {\"action_response\": {\"function\": \"multiply\", \"...  "
      ]
     },
     "execution_count": 11,
     "metadata": {},
     "output_type": "execute_result"
    }
   ],
   "source": [
    "# search_keywords(keywords=None, case_sensitive=False)\n",
    "branch.search_keywords(\"multiply\")"
   ]
  },
  {
   "cell_type": "markdown",
   "metadata": {},
   "source": [
    "### Edit"
   ]
  },
  {
   "cell_type": "code",
   "execution_count": 12,
   "metadata": {},
   "outputs": [],
   "source": [
    "# change_first_system_message(system=None, sender=None)\n",
    "branch.change_first_system_message(system=\"Updated System\")"
   ]
  },
  {
   "cell_type": "code",
   "execution_count": 13,
   "metadata": {},
   "outputs": [],
   "source": [
    "# add_message(system=None, instruction=None, context=None, response=None, sender=None)\n",
    "# system, instruction, response: only choose one\n",
    "branch.add_message(instruction=\"a new instruction added\")"
   ]
  },
  {
   "cell_type": "code",
   "execution_count": 14,
   "metadata": {},
   "outputs": [],
   "source": [
    "# replace_keyword(keyword, replacement, case_sensitive=False)\n",
    "branch.replace_keyword(\"function\", \"func\")"
   ]
  },
  {
   "cell_type": "code",
   "execution_count": 15,
   "metadata": {},
   "outputs": [],
   "source": [
    "# rollback(steps)\n",
    "branch.rollback(4)"
   ]
  }
 ],
 "metadata": {
  "kernelspec": {
   "display_name": ".venv",
   "language": "python",
   "name": "python3"
  },
  "language_info": {
   "codemirror_mode": {
    "name": "ipython",
    "version": 3
   },
   "file_extension": ".py",
   "mimetype": "text/x-python",
   "name": "python",
   "nbconvert_exporter": "python",
   "pygments_lexer": "ipython3",
   "version": "3.11.6"
  }
 },
 "nbformat": 4,
 "nbformat_minor": 2
}
