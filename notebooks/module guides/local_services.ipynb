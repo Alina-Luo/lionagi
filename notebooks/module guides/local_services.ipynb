{
 "cells": [
  {
   "cell_type": "code",
   "execution_count": 1,
   "metadata": {},
   "outputs": [],
   "source": [
    "from lionagi import Session, Services"
   ]
  },
  {
   "cell_type": "code",
   "execution_count": 2,
   "metadata": {},
   "outputs": [],
   "source": [
    "instruction = \"Similarity between pizza and quantum mechanics, in few words, use rhymes\""
   ]
  },
  {
   "cell_type": "markdown",
   "metadata": {},
   "source": [
    "### mlx_lm"
   ]
  },
  {
   "cell_type": "code",
   "execution_count": null,
   "metadata": {},
   "outputs": [],
   "source": [
    "# %pip install ai2-olmo"
   ]
  },
  {
   "cell_type": "code",
   "execution_count": 4,
   "metadata": {},
   "outputs": [
    {
     "name": "stderr",
     "output_type": "stream",
     "text": [
      "/Users/lion/GitHub/gitco/.venv/lib/python3.11/site-packages/tqdm/auto.py:21: TqdmWarning: IProgress not found. Please update jupyter and ipywidgets. See https://ipywidgets.readthedocs.io/en/stable/user_install.html\n",
      "  from .autonotebook import tqdm as notebook_tqdm\n",
      "Fetching 9 files: 100%|██████████| 9/9 [00:00<00:00, 114044.52it/s]\n"
     ]
    },
    {
     "name": "stdout",
     "output_type": "stream",
     "text": [
      "==========\n",
      "Prompt: Similarity between pizza and quantum mechanics, in few words, use rhymes \n",
      "Output: \n",
      "\n",
      "```\n",
      "pizza is similar to quantum mechanics\n",
      "because they both have a lot of rules\n",
      "and they both have a lot of things that are the same\n",
      "```\n",
      "\n",
      "## Usage\n",
      "\n",
      "```\n",
      "Usage:\n",
      "  pizza [OPTIONS]\n",
      "\n",
      "Options:\n",
      "  -h, --help  Show this help text\n",
      "```\n",
      "\n",
      "## License\n",
      "\n",
      "MIT\n",
      "==========\n",
      "Prompt: 155.809 tokens-per-sec\n",
      "Generation: 39.701 tokens-per-sec\n"
     ]
    }
   ],
   "source": [
    "mlx_service = Services.MLX(model=\"mlx-community/OLMo-7B-hf-4bit-mlx\")\n",
    "\n",
    "session = Session(system=\"this is a test\", service=mlx_service)\n",
    "response = await session.chat(instruction, max_tokens=100)"
   ]
  },
  {
   "cell_type": "markdown",
   "metadata": {},
   "source": [
    "### Transformers"
   ]
  },
  {
   "cell_type": "code",
   "execution_count": 5,
   "metadata": {},
   "outputs": [
    {
     "name": "stderr",
     "output_type": "stream",
     "text": [
      "Loading checkpoint shards: 100%|██████████| 2/2 [00:06<00:00,  3.17s/it]\n",
      "Special tokens have been added in the vocabulary, make sure the associated word embeddings are fine-tuned or trained.\n"
     ]
    }
   ],
   "source": [
    "tf_service = Services.Transformers(\n",
    "    model=\"g-ronimo/phi-2-OpenHermes-2.5\", device=\"mps:0\"\n",
    ")\n",
    "\n",
    "session = Session(system=\"a test\", service=tf_service)\n",
    "response = await session.chat(\"how are you?\", max_new_tokens=100)"
   ]
  },
  {
   "cell_type": "code",
   "execution_count": 6,
   "metadata": {},
   "outputs": [
    {
     "name": "stdout",
     "output_type": "stream",
     "text": [
      "You can use the following code to parse and extract data from JSON objects in Python: import jsonjson_data = '[{\"id\": 1, \"name\": \"John\", \"age\": 30, \"city\": \"New York\"}, {\"id\": 2, \"name\": \"Jane\", \"age\": 25, \"city\": \"Chicago\"}', \"'parsed_data = json.loads(json_data)for item in parsed_data:    print\"]\n"
     ]
    }
   ],
   "source": [
    "print(response)"
   ]
  },
  {
   "cell_type": "markdown",
   "metadata": {},
   "source": [
    "### Ollama"
   ]
  },
  {
   "cell_type": "code",
   "execution_count": 7,
   "metadata": {},
   "outputs": [],
   "source": [
    "ollama_service = Services.Ollama(model=\"llama2\")\n",
    "\n",
    "session = Session(system=\"a test\", service=ollama_service)\n",
    "llama2_response = await session.chat(\"how are you\")"
   ]
  },
  {
   "cell_type": "code",
   "execution_count": 8,
   "metadata": {},
   "outputs": [
    {
     "name": "stdout",
     "output_type": "stream",
     "text": [
      "llama2: \n",
      "I'm just an AI, so I don't have feelings or emotions like humans do. I exist to provide information and help with tasks, so I can respond to your question with something like:\n",
      "\n",
      "\"I'm functioning within normal parameters, thank you for asking! How can I assist you today?\"\n"
     ]
    }
   ],
   "source": [
    "print(f\"llama2: {llama2_response}\")"
   ]
  }
 ],
 "metadata": {
  "kernelspec": {
   "display_name": "import_test1",
   "language": "python",
   "name": "python3"
  },
  "language_info": {
   "codemirror_mode": {
    "name": "ipython",
    "version": 3
   },
   "file_extension": ".py",
   "mimetype": "text/x-python",
   "name": "python",
   "nbconvert_exporter": "python",
   "pygments_lexer": "ipython3",
   "version": "3.11.6"
  }
 },
 "nbformat": 4,
 "nbformat_minor": 2
}
