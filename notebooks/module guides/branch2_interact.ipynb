{
 "cells": [
  {
   "cell_type": "markdown",
   "metadata": {},
   "source": [
    "continue with the comedian example"
   ]
  },
  {
   "cell_type": "code",
   "execution_count": 1,
   "metadata": {},
   "outputs": [],
   "source": [
    "import lionagi as li\n",
    "\n",
    "from IPython.display import Markdown"
   ]
  },
  {
   "cell_type": "code",
   "execution_count": 2,
   "metadata": {},
   "outputs": [],
   "source": [
    "# create some messages\n",
    "sys_comedian = \"As a comedian, you are sarcastically funny\"\n",
    "instruct1 = (\n",
    "    \"very short joke: a blue whale and a big shark meet at the bar and start dancing\"\n",
    ")\n",
    "instruct2 = \"continue the joke: and then they stopped\""
   ]
  },
  {
   "cell_type": "code",
   "execution_count": 3,
   "metadata": {},
   "outputs": [],
   "source": [
    "# start a LLM session and have consecutive chats with it\n",
    "comedian = li.Branch(system=sys_comedian)\n",
    "\n",
    "joke1 = await comedian.chat(instruction=instruct1)\n",
    "joke2 = await comedian.chat(instruction=instruct2)"
   ]
  },
  {
   "cell_type": "code",
   "execution_count": 4,
   "metadata": {},
   "outputs": [
    {
     "data": {
      "text/markdown": [
       "And the bartender says, \"Great, now I have to mop the ceiling!\""
      ],
      "text/plain": [
       "<IPython.core.display.Markdown object>"
      ]
     },
     "execution_count": 4,
     "metadata": {},
     "output_type": "execute_result"
    }
   ],
   "source": [
    "Markdown(joke1)"
   ]
  },
  {
   "cell_type": "code",
   "execution_count": 5,
   "metadata": {},
   "outputs": [
    {
     "data": {
      "text/markdown": [
       "And then they stopped, looked around, and realized they were at a sushi bar. The shark said, \"Well, this just got awkward.\""
      ],
      "text/plain": [
       "<IPython.core.display.Markdown object>"
      ]
     },
     "execution_count": 5,
     "metadata": {},
     "output_type": "execute_result"
    }
   ],
   "source": [
    "Markdown(joke2)"
   ]
  },
  {
   "cell_type": "markdown",
   "metadata": {},
   "source": [
    "Now add another session to critique the comedian's work"
   ]
  },
  {
   "cell_type": "code",
   "execution_count": 6,
   "metadata": {},
   "outputs": [],
   "source": [
    "# some messages for the critic\n",
    "sys_critic = \"you are a respected commentator, you are artistically logical\"\n",
    "instruct3 = \"short comments, what do you think about the first joke?\"\n",
    "instruct4 = \"provide a concise artistic critique on both jokes, and rate from 1-10\""
   ]
  },
  {
   "cell_type": "code",
   "execution_count": 7,
   "metadata": {},
   "outputs": [],
   "source": [
    "# create a session with the critic and generate some comments in a multi-turn conversation\n",
    "critic = li.Branch(sys_critic)\n",
    "\n",
    "# provide context for the critic, context needs to be string or string mappings/iterables\n",
    "context = {\n",
    "    \"joke1\": {\"prompt\": instruct1, \"response\": joke1},\n",
    "    \"joke2\": {\"prompt\": instruct2, \"response\": joke2},\n",
    "}\n",
    "\n",
    "# you only need to provide same context once in a conversation\n",
    "comment1 = await critic.chat(instruct3, context=context)\n",
    "comment2 = await critic.chat(instruct4)"
   ]
  },
  {
   "cell_type": "code",
   "execution_count": 8,
   "metadata": {},
   "outputs": [
    {
     "data": {
      "text/markdown": [
       "The first joke is delightfully absurd, playing on the sheer size of the creatures to create a whimsical image. The punchline is unexpected and adds a humorous twist."
      ],
      "text/plain": [
       "<IPython.core.display.Markdown object>"
      ]
     },
     "execution_count": 8,
     "metadata": {},
     "output_type": "execute_result"
    }
   ],
   "source": [
    "Markdown(comment1)"
   ]
  },
  {
   "cell_type": "code",
   "execution_count": 9,
   "metadata": {},
   "outputs": [
    {
     "data": {
      "text/markdown": [
       "**Joke 1:**\n",
       "*Artistic Critique:* The joke leverages the incongruity of massive sea creatures in a bar setting, creating a surreal and amusing visual. The punchline cleverly subverts expectations by introducing an exaggerated consequence.\n",
       "*Rating:* 7/10\n",
       "\n",
       "**Joke 2:**\n",
       "*Artistic Critique:* This joke builds on the initial absurdity and adds a layer of situational irony with the sushi bar setting. The shark's comment introduces a witty, self-aware twist that enhances the humor.\n",
       "*Rating:* 8/10"
      ],
      "text/plain": [
       "<IPython.core.display.Markdown object>"
      ]
     },
     "execution_count": 9,
     "metadata": {},
     "output_type": "execute_result"
    }
   ],
   "source": [
    "Markdown(comment2)"
   ]
  },
  {
   "cell_type": "markdown",
   "metadata": {},
   "source": [
    "now add the feedback back to comedian session to improve "
   ]
  },
  {
   "cell_type": "code",
   "execution_count": 10,
   "metadata": {},
   "outputs": [],
   "source": [
    "# messages for comedian again\n",
    "instruct5 = \"your jokes were evaluated by a critic, does it make sense to you? why?\"\n",
    "instruct6 = \"basing on your reflection, write joke1 again\"\n",
    "instruct7 = \"write joke2 again\"\n",
    "\n",
    "# let us provide critic's feedback to comedian\n",
    "context2 = [i.response for i in critic.assistant_responses]"
   ]
  },
  {
   "cell_type": "code",
   "execution_count": 11,
   "metadata": {},
   "outputs": [],
   "source": [
    "# run the instructions\n",
    "reflect = await comedian.chat(instruct5, context=context2)\n",
    "joke11 = await comedian.chat(instruct6)\n",
    "joke22 = await comedian.chat(instruct7)"
   ]
  },
  {
   "cell_type": "code",
   "execution_count": 12,
   "metadata": {},
   "outputs": [
    {
     "data": {
      "text/markdown": [
       "Yes, the critiques make sense to me. Here's why:\n",
       "\n",
       "**Joke 1:**\n",
       "- **Artistic Critique:** The critic appreciates the absurdity of placing massive sea creatures in a bar, which is inherently funny because it's so out of place. The punchline, involving the bartender having to mop the ceiling, adds an unexpected and exaggerated consequence that enhances the humor.\n",
       "- **Rating:** 7/10 is a fair rating because the joke is amusing and clever, but it might not be the funniest joke ever told. It gets points for creativity and surprise.\n",
       "\n",
       "**Joke 2:**\n",
       "- **Artistic Critique:** The critic notes that this joke builds on the initial absurdity by adding situational irony. The setting of a sushi bar is particularly clever because it introduces a layer of dark humor and self-awareness. The shark's comment about the awkwardness is a witty twist that makes the joke even funnier.\n",
       "- **Rating:** 8/10 is a solid rating because the joke not only maintains the humor of the first but also adds depth with its clever twist. It’s slightly funnier and more sophisticated, hence the higher score.\n",
       "\n",
       "Overall, the critiques highlight the strengths of each joke and explain the reasoning behind the ratings, which seem appropriate given the humor and creativity involved."
      ],
      "text/plain": [
       "<IPython.core.display.Markdown object>"
      ]
     },
     "execution_count": 12,
     "metadata": {},
     "output_type": "execute_result"
    }
   ],
   "source": [
    "Markdown(reflect)"
   ]
  },
  {
   "cell_type": "code",
   "execution_count": 13,
   "metadata": {},
   "outputs": [
    {
     "data": {
      "text/markdown": [
       "Sure, here's Joke 1 again, incorporating the elements highlighted in the critique:\n",
       "\n",
       "A blue whale and a big shark meet at a bar and start dancing. The bartender looks up and says, \"Great, now I have to mop the ceiling!\""
      ],
      "text/plain": [
       "<IPython.core.display.Markdown object>"
      ]
     },
     "execution_count": 13,
     "metadata": {},
     "output_type": "execute_result"
    }
   ],
   "source": [
    "Markdown(joke11)"
   ]
  },
  {
   "cell_type": "code",
   "execution_count": 14,
   "metadata": {},
   "outputs": [
    {
     "data": {
      "text/markdown": [
       "Absolutely, here's Joke 2 again, incorporating the elements highlighted in the critique:\n",
       "\n",
       "A blue whale and a big shark meet at a bar and start dancing. Then they stopped, looked around, and realized they were at a sushi bar. The shark said, \"Well, this just got awkward.\""
      ],
      "text/plain": [
       "<IPython.core.display.Markdown object>"
      ]
     },
     "execution_count": 14,
     "metadata": {},
     "output_type": "execute_result"
    }
   ],
   "source": [
    "Markdown(joke22)"
   ]
  },
  {
   "cell_type": "code",
   "execution_count": 15,
   "metadata": {},
   "outputs": [
    {
     "data": {
      "text/html": [
       "<div>\n",
       "<style scoped>\n",
       "    .dataframe tbody tr th:only-of-type {\n",
       "        vertical-align: middle;\n",
       "    }\n",
       "\n",
       "    .dataframe tbody tr th {\n",
       "        vertical-align: top;\n",
       "    }\n",
       "\n",
       "    .dataframe thead th {\n",
       "        text-align: right;\n",
       "    }\n",
       "</style>\n",
       "<table border=\"1\" class=\"dataframe\">\n",
       "  <thead>\n",
       "    <tr style=\"text-align: right;\">\n",
       "      <th></th>\n",
       "      <th>ln_id</th>\n",
       "      <th>message_type</th>\n",
       "      <th>timestamp</th>\n",
       "      <th>role</th>\n",
       "      <th>content</th>\n",
       "      <th>metadata</th>\n",
       "      <th>sender</th>\n",
       "      <th>recipient</th>\n",
       "    </tr>\n",
       "  </thead>\n",
       "  <tbody>\n",
       "    <tr>\n",
       "      <th>0</th>\n",
       "      <td>d3f0436f4a46d5688dca9c6036f162fe</td>\n",
       "      <td>System</td>\n",
       "      <td>2024-05-28T16:48:39.412617</td>\n",
       "      <td>system</td>\n",
       "      <td>{'system_info': 'As a comedian, you are sarcas...</td>\n",
       "      <td>{'last_updated': {'recipient': '2024-05-28T16:...</td>\n",
       "      <td>system</td>\n",
       "      <td>0b1ff00d792a38614b3aafd073d4736a</td>\n",
       "    </tr>\n",
       "    <tr>\n",
       "      <th>1</th>\n",
       "      <td>14063e69f3edae66cea507742dfc9d6c</td>\n",
       "      <td>Instruction</td>\n",
       "      <td>2024-05-28T16:48:39.413418</td>\n",
       "      <td>user</td>\n",
       "      <td>{'instruction': 'very short joke: a blue whale...</td>\n",
       "      <td>{'last_updated': {'sender': '2024-05-28T16:48:...</td>\n",
       "      <td>user</td>\n",
       "      <td>0b1ff00d792a38614b3aafd073d4736a</td>\n",
       "    </tr>\n",
       "    <tr>\n",
       "      <th>2</th>\n",
       "      <td>2a4f5ce9ae21d5a4926ab5a2af22613c</td>\n",
       "      <td>AssistantResponse</td>\n",
       "      <td>2024-05-28T16:48:40.212212</td>\n",
       "      <td>assistant</td>\n",
       "      <td>{'assistant_response': 'And the bartender says...</td>\n",
       "      <td>{'last_updated': {'sender': '2024-05-28T16:48:...</td>\n",
       "      <td>0b1ff00d792a38614b3aafd073d4736a</td>\n",
       "      <td>user</td>\n",
       "    </tr>\n",
       "    <tr>\n",
       "      <th>3</th>\n",
       "      <td>fcaf4f25f99c3136180b9dc92e1fc741</td>\n",
       "      <td>Instruction</td>\n",
       "      <td>2024-05-28T16:48:40.213408</td>\n",
       "      <td>user</td>\n",
       "      <td>{'instruction': 'continue the joke: and then t...</td>\n",
       "      <td>{'last_updated': {'sender': '2024-05-28T16:48:...</td>\n",
       "      <td>user</td>\n",
       "      <td>0b1ff00d792a38614b3aafd073d4736a</td>\n",
       "    </tr>\n",
       "    <tr>\n",
       "      <th>4</th>\n",
       "      <td>2985119d4cc8f5cdbd5b8e782e42f76c</td>\n",
       "      <td>AssistantResponse</td>\n",
       "      <td>2024-05-28T16:48:41.205664</td>\n",
       "      <td>assistant</td>\n",
       "      <td>{'assistant_response': 'And then they stopped,...</td>\n",
       "      <td>{'last_updated': {'sender': '2024-05-28T16:48:...</td>\n",
       "      <td>0b1ff00d792a38614b3aafd073d4736a</td>\n",
       "      <td>user</td>\n",
       "    </tr>\n",
       "    <tr>\n",
       "      <th>5</th>\n",
       "      <td>524fb5459242da6d2841feb739718992</td>\n",
       "      <td>Instruction</td>\n",
       "      <td>2024-05-28T16:48:44.673483</td>\n",
       "      <td>user</td>\n",
       "      <td>{'instruction': 'your jokes were evaluated by ...</td>\n",
       "      <td>{'last_updated': {'sender': '2024-05-28T16:48:...</td>\n",
       "      <td>user</td>\n",
       "      <td>0b1ff00d792a38614b3aafd073d4736a</td>\n",
       "    </tr>\n",
       "    <tr>\n",
       "      <th>6</th>\n",
       "      <td>8e4087a5b4de80407f664755d40c1c13</td>\n",
       "      <td>AssistantResponse</td>\n",
       "      <td>2024-05-28T16:48:50.790756</td>\n",
       "      <td>assistant</td>\n",
       "      <td>{'assistant_response': 'Yes, the critiques mak...</td>\n",
       "      <td>{'last_updated': {'sender': '2024-05-28T16:48:...</td>\n",
       "      <td>0b1ff00d792a38614b3aafd073d4736a</td>\n",
       "      <td>user</td>\n",
       "    </tr>\n",
       "    <tr>\n",
       "      <th>7</th>\n",
       "      <td>0928196d9826f32573e362134ce80a88</td>\n",
       "      <td>Instruction</td>\n",
       "      <td>2024-05-28T16:48:50.791454</td>\n",
       "      <td>user</td>\n",
       "      <td>{'instruction': 'basing on your reflection, wr...</td>\n",
       "      <td>{'last_updated': {'sender': '2024-05-28T16:48:...</td>\n",
       "      <td>user</td>\n",
       "      <td>0b1ff00d792a38614b3aafd073d4736a</td>\n",
       "    </tr>\n",
       "    <tr>\n",
       "      <th>8</th>\n",
       "      <td>f9ddda7097a2afb47e1bbc2abdda62a4</td>\n",
       "      <td>AssistantResponse</td>\n",
       "      <td>2024-05-28T16:48:51.917983</td>\n",
       "      <td>assistant</td>\n",
       "      <td>{'assistant_response': 'Sure, here's Joke 1 ag...</td>\n",
       "      <td>{'last_updated': {'sender': '2024-05-28T16:48:...</td>\n",
       "      <td>0b1ff00d792a38614b3aafd073d4736a</td>\n",
       "      <td>user</td>\n",
       "    </tr>\n",
       "    <tr>\n",
       "      <th>9</th>\n",
       "      <td>06c7dbc85c05bccd26950661f9dc0fb2</td>\n",
       "      <td>Instruction</td>\n",
       "      <td>2024-05-28T16:48:51.919013</td>\n",
       "      <td>user</td>\n",
       "      <td>{'instruction': 'write joke2 again'}</td>\n",
       "      <td>{'last_updated': {'sender': '2024-05-28T16:48:...</td>\n",
       "      <td>user</td>\n",
       "      <td>0b1ff00d792a38614b3aafd073d4736a</td>\n",
       "    </tr>\n",
       "    <tr>\n",
       "      <th>10</th>\n",
       "      <td>f350396a3252e583ba2103c9adf45fbd</td>\n",
       "      <td>AssistantResponse</td>\n",
       "      <td>2024-05-28T16:48:53.752772</td>\n",
       "      <td>assistant</td>\n",
       "      <td>{'assistant_response': 'Absolutely, here's Jok...</td>\n",
       "      <td>{'last_updated': {'sender': '2024-05-28T16:48:...</td>\n",
       "      <td>0b1ff00d792a38614b3aafd073d4736a</td>\n",
       "      <td>user</td>\n",
       "    </tr>\n",
       "  </tbody>\n",
       "</table>\n",
       "</div>"
      ],
      "text/plain": [
       "                               ln_id       message_type  \\\n",
       "0   d3f0436f4a46d5688dca9c6036f162fe             System   \n",
       "1   14063e69f3edae66cea507742dfc9d6c        Instruction   \n",
       "2   2a4f5ce9ae21d5a4926ab5a2af22613c  AssistantResponse   \n",
       "3   fcaf4f25f99c3136180b9dc92e1fc741        Instruction   \n",
       "4   2985119d4cc8f5cdbd5b8e782e42f76c  AssistantResponse   \n",
       "5   524fb5459242da6d2841feb739718992        Instruction   \n",
       "6   8e4087a5b4de80407f664755d40c1c13  AssistantResponse   \n",
       "7   0928196d9826f32573e362134ce80a88        Instruction   \n",
       "8   f9ddda7097a2afb47e1bbc2abdda62a4  AssistantResponse   \n",
       "9   06c7dbc85c05bccd26950661f9dc0fb2        Instruction   \n",
       "10  f350396a3252e583ba2103c9adf45fbd  AssistantResponse   \n",
       "\n",
       "                     timestamp       role  \\\n",
       "0   2024-05-28T16:48:39.412617     system   \n",
       "1   2024-05-28T16:48:39.413418       user   \n",
       "2   2024-05-28T16:48:40.212212  assistant   \n",
       "3   2024-05-28T16:48:40.213408       user   \n",
       "4   2024-05-28T16:48:41.205664  assistant   \n",
       "5   2024-05-28T16:48:44.673483       user   \n",
       "6   2024-05-28T16:48:50.790756  assistant   \n",
       "7   2024-05-28T16:48:50.791454       user   \n",
       "8   2024-05-28T16:48:51.917983  assistant   \n",
       "9   2024-05-28T16:48:51.919013       user   \n",
       "10  2024-05-28T16:48:53.752772  assistant   \n",
       "\n",
       "                                              content  \\\n",
       "0   {'system_info': 'As a comedian, you are sarcas...   \n",
       "1   {'instruction': 'very short joke: a blue whale...   \n",
       "2   {'assistant_response': 'And the bartender says...   \n",
       "3   {'instruction': 'continue the joke: and then t...   \n",
       "4   {'assistant_response': 'And then they stopped,...   \n",
       "5   {'instruction': 'your jokes were evaluated by ...   \n",
       "6   {'assistant_response': 'Yes, the critiques mak...   \n",
       "7   {'instruction': 'basing on your reflection, wr...   \n",
       "8   {'assistant_response': 'Sure, here's Joke 1 ag...   \n",
       "9                {'instruction': 'write joke2 again'}   \n",
       "10  {'assistant_response': 'Absolutely, here's Jok...   \n",
       "\n",
       "                                             metadata  \\\n",
       "0   {'last_updated': {'recipient': '2024-05-28T16:...   \n",
       "1   {'last_updated': {'sender': '2024-05-28T16:48:...   \n",
       "2   {'last_updated': {'sender': '2024-05-28T16:48:...   \n",
       "3   {'last_updated': {'sender': '2024-05-28T16:48:...   \n",
       "4   {'last_updated': {'sender': '2024-05-28T16:48:...   \n",
       "5   {'last_updated': {'sender': '2024-05-28T16:48:...   \n",
       "6   {'last_updated': {'sender': '2024-05-28T16:48:...   \n",
       "7   {'last_updated': {'sender': '2024-05-28T16:48:...   \n",
       "8   {'last_updated': {'sender': '2024-05-28T16:48:...   \n",
       "9   {'last_updated': {'sender': '2024-05-28T16:48:...   \n",
       "10  {'last_updated': {'sender': '2024-05-28T16:48:...   \n",
       "\n",
       "                              sender                         recipient  \n",
       "0                             system  0b1ff00d792a38614b3aafd073d4736a  \n",
       "1                               user  0b1ff00d792a38614b3aafd073d4736a  \n",
       "2   0b1ff00d792a38614b3aafd073d4736a                              user  \n",
       "3                               user  0b1ff00d792a38614b3aafd073d4736a  \n",
       "4   0b1ff00d792a38614b3aafd073d4736a                              user  \n",
       "5                               user  0b1ff00d792a38614b3aafd073d4736a  \n",
       "6   0b1ff00d792a38614b3aafd073d4736a                              user  \n",
       "7                               user  0b1ff00d792a38614b3aafd073d4736a  \n",
       "8   0b1ff00d792a38614b3aafd073d4736a                              user  \n",
       "9                               user  0b1ff00d792a38614b3aafd073d4736a  \n",
       "10  0b1ff00d792a38614b3aafd073d4736a                              user  "
      ]
     },
     "execution_count": 15,
     "metadata": {},
     "output_type": "execute_result"
    }
   ],
   "source": [
    "df_comedian = comedian.to_df()\n",
    "df_comedian"
   ]
  },
  {
   "cell_type": "code",
   "execution_count": 16,
   "metadata": {},
   "outputs": [
    {
     "data": {
      "text/html": [
       "<div>\n",
       "<style scoped>\n",
       "    .dataframe tbody tr th:only-of-type {\n",
       "        vertical-align: middle;\n",
       "    }\n",
       "\n",
       "    .dataframe tbody tr th {\n",
       "        vertical-align: top;\n",
       "    }\n",
       "\n",
       "    .dataframe thead th {\n",
       "        text-align: right;\n",
       "    }\n",
       "</style>\n",
       "<table border=\"1\" class=\"dataframe\">\n",
       "  <thead>\n",
       "    <tr style=\"text-align: right;\">\n",
       "      <th></th>\n",
       "      <th>ln_id</th>\n",
       "      <th>message_type</th>\n",
       "      <th>timestamp</th>\n",
       "      <th>role</th>\n",
       "      <th>content</th>\n",
       "      <th>metadata</th>\n",
       "      <th>sender</th>\n",
       "      <th>recipient</th>\n",
       "    </tr>\n",
       "  </thead>\n",
       "  <tbody>\n",
       "    <tr>\n",
       "      <th>0</th>\n",
       "      <td>fc0fd29e7597d30d04bf118da78a0895</td>\n",
       "      <td>System</td>\n",
       "      <td>2024-05-28T16:48:41.225863</td>\n",
       "      <td>system</td>\n",
       "      <td>{'system_info': 'you are a respected commentat...</td>\n",
       "      <td>{'last_updated': {'recipient': '2024-05-28T16:...</td>\n",
       "      <td>system</td>\n",
       "      <td>5983cca07a0fdb273bb0204e0b0bebba</td>\n",
       "    </tr>\n",
       "    <tr>\n",
       "      <th>1</th>\n",
       "      <td>ca7c819094af58f26ccaa94f7556f2c1</td>\n",
       "      <td>Instruction</td>\n",
       "      <td>2024-05-28T16:48:41.226429</td>\n",
       "      <td>user</td>\n",
       "      <td>{'instruction': 'short comments, what do you t...</td>\n",
       "      <td>{'last_updated': {'sender': '2024-05-28T16:48:...</td>\n",
       "      <td>user</td>\n",
       "      <td>5983cca07a0fdb273bb0204e0b0bebba</td>\n",
       "    </tr>\n",
       "    <tr>\n",
       "      <th>2</th>\n",
       "      <td>43dfa62d78120f722416c619b5ed743b</td>\n",
       "      <td>AssistantResponse</td>\n",
       "      <td>2024-05-28T16:48:42.170415</td>\n",
       "      <td>assistant</td>\n",
       "      <td>{'assistant_response': 'The first joke is deli...</td>\n",
       "      <td>{'last_updated': {'sender': '2024-05-28T16:48:...</td>\n",
       "      <td>5983cca07a0fdb273bb0204e0b0bebba</td>\n",
       "      <td>user</td>\n",
       "    </tr>\n",
       "    <tr>\n",
       "      <th>3</th>\n",
       "      <td>673e5c46665854113503af329abdc59a</td>\n",
       "      <td>Instruction</td>\n",
       "      <td>2024-05-28T16:48:42.173826</td>\n",
       "      <td>user</td>\n",
       "      <td>{'instruction': 'provide a concise artistic cr...</td>\n",
       "      <td>{'last_updated': {'sender': '2024-05-28T16:48:...</td>\n",
       "      <td>user</td>\n",
       "      <td>5983cca07a0fdb273bb0204e0b0bebba</td>\n",
       "    </tr>\n",
       "    <tr>\n",
       "      <th>4</th>\n",
       "      <td>8cf38e0eb78b2046690e1ea3cc0123f1</td>\n",
       "      <td>AssistantResponse</td>\n",
       "      <td>2024-05-28T16:48:44.655007</td>\n",
       "      <td>assistant</td>\n",
       "      <td>{'assistant_response': '**Joke 1:**\n",
       "*Artistic ...</td>\n",
       "      <td>{'last_updated': {'sender': '2024-05-28T16:48:...</td>\n",
       "      <td>5983cca07a0fdb273bb0204e0b0bebba</td>\n",
       "      <td>user</td>\n",
       "    </tr>\n",
       "  </tbody>\n",
       "</table>\n",
       "</div>"
      ],
      "text/plain": [
       "                              ln_id       message_type  \\\n",
       "0  fc0fd29e7597d30d04bf118da78a0895             System   \n",
       "1  ca7c819094af58f26ccaa94f7556f2c1        Instruction   \n",
       "2  43dfa62d78120f722416c619b5ed743b  AssistantResponse   \n",
       "3  673e5c46665854113503af329abdc59a        Instruction   \n",
       "4  8cf38e0eb78b2046690e1ea3cc0123f1  AssistantResponse   \n",
       "\n",
       "                    timestamp       role  \\\n",
       "0  2024-05-28T16:48:41.225863     system   \n",
       "1  2024-05-28T16:48:41.226429       user   \n",
       "2  2024-05-28T16:48:42.170415  assistant   \n",
       "3  2024-05-28T16:48:42.173826       user   \n",
       "4  2024-05-28T16:48:44.655007  assistant   \n",
       "\n",
       "                                             content  \\\n",
       "0  {'system_info': 'you are a respected commentat...   \n",
       "1  {'instruction': 'short comments, what do you t...   \n",
       "2  {'assistant_response': 'The first joke is deli...   \n",
       "3  {'instruction': 'provide a concise artistic cr...   \n",
       "4  {'assistant_response': '**Joke 1:**\n",
       "*Artistic ...   \n",
       "\n",
       "                                            metadata  \\\n",
       "0  {'last_updated': {'recipient': '2024-05-28T16:...   \n",
       "1  {'last_updated': {'sender': '2024-05-28T16:48:...   \n",
       "2  {'last_updated': {'sender': '2024-05-28T16:48:...   \n",
       "3  {'last_updated': {'sender': '2024-05-28T16:48:...   \n",
       "4  {'last_updated': {'sender': '2024-05-28T16:48:...   \n",
       "\n",
       "                             sender                         recipient  \n",
       "0                            system  5983cca07a0fdb273bb0204e0b0bebba  \n",
       "1                              user  5983cca07a0fdb273bb0204e0b0bebba  \n",
       "2  5983cca07a0fdb273bb0204e0b0bebba                              user  \n",
       "3                              user  5983cca07a0fdb273bb0204e0b0bebba  \n",
       "4  5983cca07a0fdb273bb0204e0b0bebba                              user  "
      ]
     },
     "execution_count": 16,
     "metadata": {},
     "output_type": "execute_result"
    }
   ],
   "source": [
    "df_critic = critic.to_df()\n",
    "df_critic"
   ]
  },
  {
   "cell_type": "code",
   "execution_count": 17,
   "metadata": {},
   "outputs": [],
   "source": [
    "df_comedian.to_csv(\"comedian.csv\", index=False)\n",
    "df_critic.to_csv(\"critic.csv\", index=False)"
   ]
  }
 ],
 "metadata": {
  "kernelspec": {
   "display_name": "lion_dev",
   "language": "python",
   "name": "python3"
  },
  "language_info": {
   "codemirror_mode": {
    "name": "ipython",
    "version": 3
   },
   "file_extension": ".py",
   "mimetype": "text/x-python",
   "name": "python",
   "nbconvert_exporter": "python",
   "pygments_lexer": "ipython3",
   "version": "3.12.1"
  }
 },
 "nbformat": 4,
 "nbformat_minor": 2
}
