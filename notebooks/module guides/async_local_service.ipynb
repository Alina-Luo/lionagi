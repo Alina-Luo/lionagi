{
 "cells": [
  {
   "cell_type": "markdown",
   "metadata": {},
   "source": [
    "## More Lions is All You Need\n",
    "\n",
    "running scoring and voting using `llama3` model via `ollama` service"
   ]
  },
  {
   "cell_type": "code",
   "execution_count": 1,
   "metadata": {},
   "outputs": [],
   "source": [
    "system = \"you are a helpful assistant.\"\n",
    "instruct = \"think step by step, concisely yet comprehensively explain the balance sheet. return around 100 words\""
   ]
  },
  {
   "cell_type": "markdown",
   "metadata": {},
   "source": [
    "The goal is to find the best answer from 5 generations of the same questions"
   ]
  },
  {
   "cell_type": "code",
   "execution_count": 2,
   "metadata": {},
   "outputs": [],
   "source": [
    "import lionagi as li"
   ]
  },
  {
   "cell_type": "code",
   "execution_count": 3,
   "metadata": {},
   "outputs": [],
   "source": [
    "durations = []\n",
    "\n",
    "async def explain():\n",
    "    \n",
    "    imodel = li.iModel(model=\"llama3\", provider=\"ollama\")\n",
    "    branch = li.Branch(system=system, imodel=imodel)\n",
    "    \n",
    "    await branch.chat(instruction=instruct)\n",
    "    return branch"
   ]
  },
  {
   "cell_type": "code",
   "execution_count": 4,
   "metadata": {},
   "outputs": [
    {
     "name": "stdout",
     "output_type": "stream",
     "text": [
      "Report No.1 finished.\n",
      "Report No.2 finished.\n",
      "Report No.3 finished.\n",
      "Report No.4 finished.\n",
      "Report No.5 finished.\n"
     ]
    }
   ],
   "source": [
    "# write reports\n",
    "\n",
    "reports = []\n",
    "for i in range(5):\n",
    "    writer = await explain()\n",
    "    report = writer.last_response.response\n",
    "    reports.append(report)\n",
    "    print(f\"Report No.{i+1} finished.\")"
   ]
  },
  {
   "cell_type": "markdown",
   "metadata": {},
   "source": [
    "### Get a group of critics"
   ]
  },
  {
   "cell_type": "code",
   "execution_count": 5,
   "metadata": {},
   "outputs": [],
   "source": [
    "system = \"\"\"\n",
    "    as a highly critical professor, score an answer, only return a \n",
    "    positive integer\n",
    "\"\"\"\n",
    "\n",
    "instruction = \"\"\"\n",
    "    meticulously and critically give an integer score between 0-10 on the \n",
    "    following explaination of balance sheet.\n",
    "\"\"\""
   ]
  },
  {
   "cell_type": "code",
   "execution_count": 6,
   "metadata": {},
   "outputs": [],
   "source": [
    "import numpy as np\n",
    "from lionagi.libs import to_num\n",
    "\n",
    "async def score(context):\n",
    "    imodel = li.iModel(model=\"llama3\", provider=\"ollama\")\n",
    "    branch = li.Branch(system=system, imodel=imodel)\n",
    "    out_ = await branch.chat(instruction=instruction, context=context)\n",
    "    \n",
    "    # let's convert the output to a number\n",
    "    try:\n",
    "        out_ = to_num(out_)\n",
    "    except:\n",
    "        out_ = -1\n",
    "    return out_"
   ]
  },
  {
   "cell_type": "code",
   "execution_count": 7,
   "metadata": {},
   "outputs": [],
   "source": [
    "async def group_score(context):\n",
    "    outs = []\n",
    "    for _ in range(5):\n",
    "        out_ = await score(context)\n",
    "        outs.append(out_)\n",
    "    \n",
    "    outs = [i for i in outs if i != -1]\n",
    "    return np.mean(outs)"
   ]
  },
  {
   "cell_type": "code",
   "execution_count": 8,
   "metadata": {},
   "outputs": [
    {
     "name": "stdout",
     "output_type": "stream",
     "text": [
      "Report: No.1, Score: 7.6\n",
      "Report: No.2, Score: 7.0\n",
      "Report: No.3, Score: 7.6\n",
      "Report: No.4, Score: 5.4\n",
      "Report: No.5, Score: 7.4\n"
     ]
    }
   ],
   "source": [
    "scores = []\n",
    "\n",
    "# run scoring\n",
    "for idx, i in enumerate(reports):\n",
    "    score_ = await group_score(i)    \n",
    "    scores.append((score_, i))\n",
    "    print(f\"Report: No.{idx + 1}, Score: {score_}\")"
   ]
  },
  {
   "cell_type": "markdown",
   "metadata": {},
   "source": [
    "### Reports"
   ]
  },
  {
   "cell_type": "code",
   "execution_count": 9,
   "metadata": {},
   "outputs": [],
   "source": [
    "# rank scores\n",
    "scores = sorted(scores, key=lambda x: x[0], reverse=True)"
   ]
  },
  {
   "cell_type": "code",
   "execution_count": 10,
   "metadata": {},
   "outputs": [],
   "source": [
    "from IPython.display import display, Markdown"
   ]
  },
  {
   "cell_type": "code",
   "execution_count": 11,
   "metadata": {},
   "outputs": [
    {
     "name": "stdout",
     "output_type": "stream",
     "text": [
      "Score: 7.6\n"
     ]
    },
    {
     "data": {
      "text/markdown": [
       "**Report:**\n",
       "\n",
       "Here's a concise and comprehensive explanation of the balance sheet:\n",
       "\n",
       "The Balance Sheet is a financial statement that presents a company's financial position at a specific point in time. It's divided into three main sections: Assets, Liabilities, and Equity.\n",
       "\n",
       "**Assets**: What the company owns (e.g., cash, inventory, property).\n",
       "\n",
       "* Current assets: Expected to be converted or used within 1 year (e.g., accounts receivable).\n",
       "* Non-current assets: Long-term investments (e.g., property, equipment).\n",
       "\n",
       "**Liabilities**: What the company owes to others (e.g., loans, accounts payable).\n",
       "\n",
       "* Current liabilities: Expected to be paid within 1 year (e.g., taxes owed).\n",
       "* Non-current liabilities: Longer-term debts (e.g., long-term loans).\n",
       "\n",
       "**Equity**: The company's net worth, representing shareholders' stake.\n",
       "\n",
       "By subtracting Liabilities from Assets, the Balance Sheet shows the company's Net Worth or Shareholders' Equity. This fundamental financial statement provides a snapshot of a company's financial health!"
      ],
      "text/plain": [
       "<IPython.core.display.Markdown object>"
      ]
     },
     "metadata": {},
     "output_type": "display_data"
    }
   ],
   "source": [
    "score, report = scores[0]\n",
    "\n",
    "print(f\"Score: {score}\")\n",
    "display(Markdown(f\"**Report:**\\n\\n{report}\") )"
   ]
  },
  {
   "cell_type": "code",
   "execution_count": 12,
   "metadata": {},
   "outputs": [
    {
     "name": "stdout",
     "output_type": "stream",
     "text": [
      "Score: 7.6\n"
     ]
    },
    {
     "data": {
      "text/markdown": [
       "**Report:**\n",
       "\n",
       "Here's a concise explanation of a balance sheet:\n",
       "\n",
       "A balance sheet is a snapshot of a company's financial position at a specific point in time. It lists its assets (what it owns), liabilities (what it owes), and equity (ownership interest). Assets are categorized into current (easily convertible to cash) and non-current (long-term investments). Liabilities include short-term debts and long-term obligations. Equity is comprised of common stock, retained earnings, and other capital accounts. The balance sheet equation: Assets = Liabilities + Equity ensures that the company's value is accurately represented."
      ],
      "text/plain": [
       "<IPython.core.display.Markdown object>"
      ]
     },
     "metadata": {},
     "output_type": "display_data"
    }
   ],
   "source": [
    "score, report = scores[1]\n",
    "\n",
    "print(f\"Score: {score}\")\n",
    "display(Markdown(f\"**Report:**\\n\\n{report}\") )"
   ]
  },
  {
   "cell_type": "code",
   "execution_count": 13,
   "metadata": {},
   "outputs": [
    {
     "name": "stdout",
     "output_type": "stream",
     "text": [
      "Score: 7.4\n"
     ]
    },
    {
     "data": {
      "text/markdown": [
       "**Report:**\n",
       "\n",
       "Here's a concise explanation of a balance sheet:\n",
       "\n",
       "**What is it?**\n",
       "A balance sheet is a financial statement that shows a company's financial position at a specific point in time.\n",
       "\n",
       "**Key components:**\n",
       "\n",
       "1. **Assets**: What a company owns, such as cash, accounts receivable, inventory, property, and equipment.\n",
       "2. **Liabilities**: What a company owes, including accounts payable, loans, and taxes owed.\n",
       "3. **Equity**: The company's net worth, representing the amount of ownership interest.\n",
       "\n",
       "**Balance:**\n",
       "The total value of assets equals the total value of liabilities plus equity. This ensures the statement is \"in balance.\"\n",
       "\n",
       "**Why important?**\n",
       "A balance sheet helps investors, creditors, and management understand a company's financial health, liquidity, and solvency. It's essential for making informed business decisions."
      ],
      "text/plain": [
       "<IPython.core.display.Markdown object>"
      ]
     },
     "metadata": {},
     "output_type": "display_data"
    }
   ],
   "source": [
    "score, report = scores[2]\n",
    "\n",
    "print(f\"Score: {score}\")\n",
    "display(Markdown(f\"**Report:**\\n\\n{report}\") )"
   ]
  },
  {
   "cell_type": "code",
   "execution_count": 14,
   "metadata": {},
   "outputs": [
    {
     "name": "stdout",
     "output_type": "stream",
     "text": [
      "Score: 7.0\n"
     ]
    },
    {
     "data": {
      "text/markdown": [
       "**Report:**\n",
       "\n",
       "Here's a concise explanation of a balance sheet:\n",
       "\n",
       "A balance sheet is a financial statement that shows a company's financial position at a specific point in time. It's divided into three main sections: Assets, Liabilities, and Equity.\n",
       "\n",
       "**Assets**: What the company owns or has control over (e.g., cash, accounts receivable, inventory, property).\n",
       "\n",
       "**Liabilities**: What the company owes to others (e.g., accounts payable, loans, taxes owed).\n",
       "\n",
       "**Equity**: The ownership interest in the business (e.g., common stock, retained earnings). The total value of assets must equal the total value of liabilities and equity. This ensures the balance sheet is, well, balanced!"
      ],
      "text/plain": [
       "<IPython.core.display.Markdown object>"
      ]
     },
     "metadata": {},
     "output_type": "display_data"
    }
   ],
   "source": [
    "score, report = scores[3]\n",
    "\n",
    "print(f\"Score: {score}\")\n",
    "display(Markdown(f\"**Report:**\\n\\n{report}\") )"
   ]
  },
  {
   "cell_type": "code",
   "execution_count": 15,
   "metadata": {},
   "outputs": [
    {
     "name": "stdout",
     "output_type": "stream",
     "text": [
      "Score: 5.4\n"
     ]
    },
    {
     "data": {
      "text/markdown": [
       "**Report:**\n",
       "\n",
       "Here's a concise explanation of a balance sheet:\n",
       "\n",
       "**What is it?**\n",
       "A balance sheet is a financial statement that presents a company's financial position at a specific point in time.\n",
       "\n",
       "**Components:**\n",
       "\n",
       "1. **Assets**: What the company owns (e.g., cash, accounts receivable, inventory, property).\n",
       "2. **Liabilities**: What the company owes to others (e.g., accounts payable, loans, taxes).\n",
       "3. **Equity**: The company's net worth, equal to assets minus liabilities.\n",
       "\n",
       "**Relationship:**\n",
       "Assets = Liabilities + Equity\n",
       "\n",
       "In essence, a balance sheet shows what a company has (assets), what it owes (liabilities), and what remains after settling debts (equity)."
      ],
      "text/plain": [
       "<IPython.core.display.Markdown object>"
      ]
     },
     "metadata": {},
     "output_type": "display_data"
    }
   ],
   "source": [
    "score, report = scores[4]\n",
    "\n",
    "print(f\"Score: {score}\")\n",
    "display(Markdown(f\"**Report:**\\n\\n{report}\") )"
   ]
  }
 ],
 "metadata": {
  "kernelspec": {
   "display_name": "import_test1",
   "language": "python",
   "name": "python3"
  },
  "language_info": {
   "codemirror_mode": {
    "name": "ipython",
    "version": 3
   },
   "file_extension": ".py",
   "mimetype": "text/x-python",
   "name": "python",
   "nbconvert_exporter": "python",
   "pygments_lexer": "ipython3",
   "version": "3.12.1"
  }
 },
 "nbformat": 4,
 "nbformat_minor": 2
}
