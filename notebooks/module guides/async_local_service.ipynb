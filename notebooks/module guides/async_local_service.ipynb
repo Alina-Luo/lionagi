{
 "cells": [
  {
   "cell_type": "markdown",
   "metadata": {},
   "source": [
    "## More Lions is All You Need\n",
    "\n",
    "running scoring and voting using `llama2` model via `ollama` service"
   ]
  },
  {
   "cell_type": "code",
   "execution_count": 1,
   "metadata": {},
   "outputs": [],
   "source": [
    "from IPython.display import Markdown\n",
    "from timeit import default_timer as timer"
   ]
  },
  {
   "cell_type": "code",
   "execution_count": 2,
   "metadata": {},
   "outputs": [],
   "source": [
    "system = \"you are a helpful assistant.\"\n",
    "instruct = \"think step by step, concisely yet comprehensively explain the balance sheet. return around 200 words\""
   ]
  },
  {
   "cell_type": "markdown",
   "metadata": {},
   "source": [
    "The goal is to find the best answer from 5 generations of the same questions"
   ]
  },
  {
   "cell_type": "code",
   "execution_count": 3,
   "metadata": {},
   "outputs": [],
   "source": [
    "from lionagi import Services, Session\n",
    "from lionagi.libs import func_call"
   ]
  },
  {
   "cell_type": "code",
   "execution_count": 4,
   "metadata": {},
   "outputs": [],
   "source": [
    "durations = []\n",
    "\n",
    "\n",
    "async def explain(i):\n",
    "    service = Services.Ollama(model=\"llama2\")\n",
    "    session = Session(system=system, service=service)\n",
    "\n",
    "    # use timed call to get the runtime of the given function\n",
    "    _, time_ = await func_call.tcall(\n",
    "        func=session.chat, instruction=instruct, timing=True\n",
    "    )\n",
    "\n",
    "    durations.append(time_)\n",
    "    return session"
   ]
  },
  {
   "cell_type": "code",
   "execution_count": 5,
   "metadata": {},
   "outputs": [],
   "source": [
    "start_time = timer()"
   ]
  },
  {
   "cell_type": "code",
   "execution_count": 6,
   "metadata": {},
   "outputs": [],
   "source": [
    "writer_sessions = await func_call.alcall([i for i in range(5)], explain)"
   ]
  },
  {
   "cell_type": "code",
   "execution_count": 7,
   "metadata": {},
   "outputs": [
    {
     "name": "stdout",
     "output_type": "stream",
     "text": [
      "\n",
      "Clock time: 48.51 seconds\n"
     ]
    }
   ],
   "source": [
    "run_time = timer() - start_time\n",
    "print(f\"\\nClock time: {run_time:.2f} seconds\")"
   ]
  },
  {
   "cell_type": "code",
   "execution_count": 8,
   "metadata": {},
   "outputs": [
    {
     "name": "stdout",
     "output_type": "stream",
     "text": [
      "\n",
      "Average runtime: 36.24 seconds\n",
      "\n",
      "Total runtime: 181.21 seconds\n",
      "\n",
      "Total number of runs: 5\n",
      "\n"
     ]
    }
   ],
   "source": [
    "import numpy as np\n",
    "\n",
    "run_describe = f\"\"\"\n",
    "Average runtime: {np.average(durations):.2f} seconds\\n\n",
    "Total runtime: {np.sum(durations):.2f} seconds\\n\n",
    "Total number of runs: {len(durations)}\n",
    "\"\"\"\n",
    "print(run_describe)"
   ]
  },
  {
   "cell_type": "code",
   "execution_count": 9,
   "metadata": {},
   "outputs": [
    {
     "name": "stdout",
     "output_type": "stream",
     "text": [
      "speed up  3.74\n"
     ]
    }
   ],
   "source": [
    "print(f\"speed up { np.sum(durations) / float(run_time): .02f}\")"
   ]
  },
  {
   "cell_type": "markdown",
   "metadata": {},
   "source": [
    "### Get a group of critics"
   ]
  },
  {
   "cell_type": "code",
   "execution_count": 10,
   "metadata": {},
   "outputs": [],
   "source": [
    "system = \"\"\"\n",
    "    as a highly critical professor, score an answer, only return a \n",
    "    positive integer\n",
    "\"\"\"\n",
    "\n",
    "instruction = \"\"\"\n",
    "    meticulously and critically give a score between 0-10 on the \n",
    "    following explaination of balance sheet.\n",
    "\"\"\""
   ]
  },
  {
   "cell_type": "code",
   "execution_count": 11,
   "metadata": {},
   "outputs": [],
   "source": [
    "durations = []\n",
    "results = []\n",
    "\n",
    "\n",
    "async def score(context):\n",
    "    service = Services.Ollama(model=\"llama2\")\n",
    "\n",
    "    # set up a function for one scorer to evaluate\n",
    "    async def _inner(i):\n",
    "        session = Session(system=system, service=service)\n",
    "\n",
    "        out_, time_ = await func_call.tcall(\n",
    "            func=session.chat, instruction=instruction, context=context, timing=True\n",
    "        )\n",
    "\n",
    "        durations.append(time_)\n",
    "        return out_\n",
    "\n",
    "    scores = await func_call.alcall(\n",
    "        [i for i in range(4)], _inner\n",
    "    )  # run 5 scorers in parallel\n",
    "\n",
    "    # map the context with scores,\n",
    "    out = {\"context\": context, \"scores\": scores}\n",
    "\n",
    "    results.append(out)\n",
    "\n",
    "    return (scores, context)"
   ]
  },
  {
   "cell_type": "code",
   "execution_count": 12,
   "metadata": {},
   "outputs": [],
   "source": [
    "# get the responses from all previous sessions\n",
    "\n",
    "responses = func_call.lcall(\n",
    "    writer_sessions, lambda s: s.last_response_content[\"response\"]\n",
    ")"
   ]
  },
  {
   "cell_type": "markdown",
   "metadata": {},
   "source": [
    "this is 15 runs in total across all responses,\n",
    "so will be pretty slow\n",
    "\n",
    "to speed up, reduce the number of responses\n"
   ]
  },
  {
   "cell_type": "code",
   "execution_count": 13,
   "metadata": {},
   "outputs": [],
   "source": [
    "start_time = timer()"
   ]
  },
  {
   "cell_type": "code",
   "execution_count": 14,
   "metadata": {},
   "outputs": [],
   "source": [
    "outputs = await func_call.alcall(responses, score)"
   ]
  },
  {
   "cell_type": "code",
   "execution_count": 15,
   "metadata": {},
   "outputs": [
    {
     "name": "stdout",
     "output_type": "stream",
     "text": [
      "\n",
      "Clock time: 160.83 seconds\n"
     ]
    }
   ],
   "source": [
    "run_time = timer() - start_time\n",
    "print(f\"\\nClock time: {run_time:.2f} seconds\")"
   ]
  },
  {
   "cell_type": "code",
   "execution_count": 16,
   "metadata": {},
   "outputs": [],
   "source": [
    "scores = [o[0] for o in outputs]\n",
    "contexts = [o[1] for o in outputs]"
   ]
  },
  {
   "cell_type": "code",
   "execution_count": 17,
   "metadata": {},
   "outputs": [
    {
     "name": "stdout",
     "output_type": "stream",
     "text": [
      "\n",
      "Average runtime: 108.72 seconds\n",
      "\n",
      "Total runtime: 2174.49 seconds\n",
      "\n",
      "Total number of runs: 20\n",
      "\n"
     ]
    }
   ],
   "source": [
    "run_time = f\"\"\"\n",
    "Average runtime: {np.average(durations):.2f} seconds\\n\n",
    "Total runtime: {np.sum(durations):.2f} seconds\\n\n",
    "Total number of runs: {len(durations)}\n",
    "\"\"\"\n",
    "print(run_time)"
   ]
  },
  {
   "cell_type": "code",
   "execution_count": 18,
   "metadata": {},
   "outputs": [
    {
     "name": "stdout",
     "output_type": "stream",
     "text": [
      "[8.0, 8.0, 6.25, 8.5, 8.25]\n"
     ]
    }
   ],
   "source": [
    "import lionagi.libs.ln_convert as convert\n",
    "\n",
    "avgs = []\n",
    "for i in scores:\n",
    "    z = []\n",
    "    for j in i:\n",
    "        try:\n",
    "            a = convert.to_num(j)\n",
    "            z.append(a)\n",
    "        except:\n",
    "            pass\n",
    "    avgs.append(np.average(z))\n",
    "\n",
    "print(avgs)"
   ]
  },
  {
   "cell_type": "code",
   "execution_count": 19,
   "metadata": {},
   "outputs": [],
   "source": [
    "high_index = np.where(np.array(avgs) == max(avgs))\n",
    "low_index = np.where(np.array(avgs) == min(avgs))"
   ]
  },
  {
   "cell_type": "code",
   "execution_count": 20,
   "metadata": {},
   "outputs": [
    {
     "data": {
      "text/plain": [
       "(array([3]),)"
      ]
     },
     "execution_count": 20,
     "metadata": {},
     "output_type": "execute_result"
    }
   ],
   "source": [
    "high_index"
   ]
  },
  {
   "cell_type": "code",
   "execution_count": 21,
   "metadata": {},
   "outputs": [
    {
     "data": {
      "text/plain": [
       "(array([2]),)"
      ]
     },
     "execution_count": 21,
     "metadata": {},
     "output_type": "execute_result"
    }
   ],
   "source": [
    "low_index"
   ]
  },
  {
   "cell_type": "markdown",
   "metadata": {},
   "source": [
    "### High Score"
   ]
  },
  {
   "cell_type": "code",
   "execution_count": 24,
   "metadata": {},
   "outputs": [
    {
     "name": "stdout",
     "output_type": "stream",
     "text": [
      "High score: 8.5\n"
     ]
    },
    {
     "data": {
      "text/markdown": [
       "\n",
       "As a helpful assistant, I'd be delighted to explain the balance sheet in a clear and concise manner! Here's a step-by-step guide:\n",
       "\n",
       "1. What is a Balance Sheet?\n",
       "A balance sheet is a financial statement that provides a snapshot of a company's financial position at a specific point in time, usually at the end of an accounting period (e.g., quarterly or annually). It lists the company's assets, liabilities, and equity.\n",
       "2. Assets: Definition & Classification\n",
       "Assets are resources owned or controlled by the company that have economic value. Common asset categories include:\n",
       "\t* Current Assets: Cash, accounts receivable, inventory, prepaid expenses, etc., which are expected to be converted into cash within one year or less.\n",
       "\t* Non-Current Assets: Property, plant, and equipment (PPE), investments, and other assets that are not expected to be converted into cash within the next year.\n",
       "3. Liabilities: Definition & Classification\n",
       "Liabilities are debts or obligations owed by the company to external parties. Common liability categories include:\n",
       "\t* Current Liabilities: Accounts payable, taxes payable, and other debts that are expected to be paid within one year or less.\n",
       "\t* Non-Current Liabilities: Long-term loans, mortgages, and other liabilities that are not expected to be paid within the next year.\n",
       "4. Equity: Definition & Classification\n",
       "Equity represents the ownership interest in the company. Common equity categories include:\n",
       "\t* Common Stock: Shares held by shareholders, which represent ownership in the company.\n",
       "\t* Retained Earnings: Profits reinvested in the business, increasing the owner's equity.\n",
       "5. Balance Sheet Accounts\n",
       "The balance sheet typically includes several accounts, including:\n",
       "\t* Assets: Cash, receivables, inventory, prepaid expenses, property, plant, and equipment (PPE), investments, etc.\n",
       "\t* Liabilities: Accounts payable, taxes payable, long-term loans, mortgages, etc.\n",
       "\t* Equity: Common stock, retained earnings, etc.\n",
       "6. Balance Sheet Analysis\n",
       "Analyzing the balance sheet helps understand a company's financial position and performance. Key metrics include:\n",
       "\t* Liquidity Ratios: Examining the ability to pay short-term debts (e.g., current ratio) or generate cash from assets (e.g., cash conversion cycle).\n",
       "\t* Profitability Ratios: Assessing the company's ability to generate profits (e.g., return on assets, return on equity).\n",
       "\t* Solvency Ratios: Evaluating the company's ability to meet its long-term obligations (e.g., debt-to-equity ratio, interest coverage ratio).\n",
       "7. Interpretation & Use Cases\n",
       "Interpreting the balance sheet helps investors, creditors, and other stakeholders evaluate a company's financial health and make informed decisions. For example, a high level of assets compared to liabilities may indicate a strong financial position, while a low profit margin may suggest inefficiencies in operations.\n",
       "\n",
       "In conclusion, the balance sheet is a crucial financial statement that provides insights into a company's financial position and performance. By understanding the different account categories, analyzing key metrics, and interpreting the results, stakeholders can make informed decisions and evaluate a company's financial health."
      ],
      "text/plain": [
       "<IPython.core.display.Markdown object>"
      ]
     },
     "execution_count": 24,
     "metadata": {},
     "output_type": "execute_result"
    }
   ],
   "source": [
    "print(f\"High score: {max(avgs)}\")\n",
    "Markdown(contexts[3])"
   ]
  },
  {
   "cell_type": "markdown",
   "metadata": {},
   "source": [
    "### Low score"
   ]
  },
  {
   "cell_type": "code",
   "execution_count": 23,
   "metadata": {},
   "outputs": [
    {
     "name": "stdout",
     "output_type": "stream",
     "text": [
      "Low score: 6.25\n"
     ]
    },
    {
     "data": {
      "text/markdown": [
       "\n",
       "As a helpful assistant, I'd be delighted to explain the balance sheet in a clear and concise manner! Here it goes:\n",
       "\n",
       "The balance sheet is a financial statement that presents the financial position of a company at a specific point in time. It provides a snapshot of the company's assets, liabilities, and equity. The balance sheet is organized into two sides: the asset side and the liability side.\n",
       "\n",
       "On the asset side, you'll find the following categories:\n",
       "\n",
       "1. Current Assets: These are assets that can be converted into cash within a year or less. Examples include cash, accounts receivable, inventory, and prepaid expenses.\n",
       "2. Non-Current Assets: These are assets that cannot be converted into cash within a year. Examples include property, plant, and equipment (PPE), investments, and intangible assets like patents and trademarks.\n",
       "\n",
       "On the liability side, you'll find the following categories:\n",
       "\n",
       "1. Current Liabilities: These are liabilities that must be paid within a year or less. Examples include accounts payable, accrued expenses, and short-term loans.\n",
       "2. Non-Current Liabilities: These are liabilities that cannot be paid within a year. Examples include long-term loans, mortgages, and pension obligations.\n",
       "3. Equity: This represents the ownership interest in the company. It includes shareholders' equity, which is the residual interest after deducting total liabilities from total assets.\n",
       "\n",
       "In summary, the balance sheet provides a snapshot of a company's financial position by listing its assets, liabilities, and equity. It helps investors, creditors, and other stakeholders evaluate the company's financial health and make informed decisions."
      ],
      "text/plain": [
       "<IPython.core.display.Markdown object>"
      ]
     },
     "execution_count": 23,
     "metadata": {},
     "output_type": "execute_result"
    }
   ],
   "source": [
    "print(f\"Low score: {min(avgs)}\")\n",
    "Markdown(contexts[2])"
   ]
  },
  {
   "cell_type": "markdown",
   "metadata": {},
   "source": [
    "### Others"
   ]
  },
  {
   "cell_type": "code",
   "execution_count": 25,
   "metadata": {},
   "outputs": [
    {
     "name": "stdout",
     "output_type": "stream",
     "text": [
      "High score: 8.0\n"
     ]
    },
    {
     "data": {
      "text/markdown": [
       "\n",
       "As a helpful assistant, I'd be happy to explain the balance sheet in a clear and concise manner! Here it goes:\n",
       "\n",
       "The balance sheet is a financial statement that provides a snapshot of a company's financial position at a particular point in time. It lists the company's assets, liabilities, and equity, and helps to understand how well-positioned the company is financially.\n",
       "\n",
       "Assets: These are the things that the company owns or has control over, such as cash, inventory, property, plant, and equipment. The balance sheet lists the value of these assets and how they are classified into different categories.\n",
       "\n",
       "Liabilities: These are the debts or obligations that the company owes to others, such as loans, accounts payable, and taxes payable. The balance sheet lists the amount of each liability and when it is due.\n",
       "\n",
       "Equity: This represents the ownership interest in the company, including shareholder equity and retained earnings. Equity shows the amount of money that would be left over for shareholders if the company were to liquidate its assets and pay off its liabilities.\n",
       "\n",
       "When looking at a balance sheet, it's important to consider the following:\n",
       "\n",
       "1. Assets must equal Liabilities plus Equity (known as the accounting equation).\n",
       "2. The balance sheet should be organized into different sections, such as current assets, non-current assets, current liabilities, and non-current liabilities.\n",
       "3. The values of assets and liabilities should be accurately stated based on their fair market value.\n",
       "4. The equity section should include the number of shares outstanding and the par value of each share.\n",
       "\n",
       "By understanding these concepts, you can use the balance sheet to evaluate a company's financial health and make informed investment decisions."
      ],
      "text/plain": [
       "<IPython.core.display.Markdown object>"
      ]
     },
     "execution_count": 25,
     "metadata": {},
     "output_type": "execute_result"
    }
   ],
   "source": [
    "print(f\"High score: {avgs[0]}\")\n",
    "Markdown(contexts[0])"
   ]
  },
  {
   "cell_type": "code",
   "execution_count": 26,
   "metadata": {},
   "outputs": [
    {
     "name": "stdout",
     "output_type": "stream",
     "text": [
      "High score: 8.0\n"
     ]
    },
    {
     "data": {
      "text/markdown": [
       "\n",
       "As a helpful assistant, I'd be delighted to explain the balance sheet in a clear and concise manner! Here it goes:\n",
       "\n",
       "The balance sheet is a financial statement that presents the financial position of a company at a specific point in time. It provides a snapshot of the company's assets, liabilities, and equity. The balance sheet is organized into two sides: the asset side and the liability side.\n",
       "\n",
       "On the asset side, you'll find the following categories:\n",
       "\n",
       "1. Current Assets: These are assets that can be converted into cash within a year or less. Examples include cash, accounts receivable, inventory, and prepaid expenses.\n",
       "2. Non-Current Assets: These are assets that cannot be converted into cash within a year. Examples include property, plant, and equipment (PPE), investments, and intangible assets like patents and trademarks.\n",
       "\n",
       "On the liability side, you'll find the following categories:\n",
       "\n",
       "1. Current Liabilities: These are liabilities that must be paid within a year or less. Examples include accounts payable, accrued expenses, and short-term loans.\n",
       "2. Non-Current Liabilities: These are liabilities that cannot be paid within a year. Examples include long-term loans, mortgages, and pension obligations.\n",
       "3. Equity: This represents the ownership interest in the company. It includes shareholders' equity, which is the residual interest after deducting total liabilities from total assets.\n",
       "\n",
       "In summary, the balance sheet provides a snapshot of a company's financial position by listing its assets, liabilities, and equity. It helps investors, creditors, and other stakeholders evaluate the company's financial health and make informed decisions."
      ],
      "text/plain": [
       "<IPython.core.display.Markdown object>"
      ]
     },
     "execution_count": 26,
     "metadata": {},
     "output_type": "execute_result"
    }
   ],
   "source": [
    "print(f\"High score: {avgs[1]}\")\n",
    "Markdown(contexts[2])"
   ]
  },
  {
   "cell_type": "code",
   "execution_count": 27,
   "metadata": {},
   "outputs": [
    {
     "name": "stdout",
     "output_type": "stream",
     "text": [
      "High score: 8.25\n"
     ]
    },
    {
     "data": {
      "text/markdown": [
       "\n",
       "As a helpful assistant, I'd be delighted to explain the balance sheet in a clear and concise manner! Here's a step-by-step guide:\n",
       "\n",
       "1. What is a Balance Sheet?\n",
       "A balance sheet is a financial statement that provides a snapshot of a company's financial position at a specific point in time, usually at the end of an accounting period (e.g., quarterly or annually). It lists the company's assets, liabilities, and equity.\n",
       "2. Assets: Definition & Classification\n",
       "Assets are resources owned or controlled by the company that have economic value. Common asset categories include:\n",
       "\t* Current Assets: Cash, accounts receivable, inventory, prepaid expenses, etc., which are expected to be converted into cash within one year or less.\n",
       "\t* Non-Current Assets: Property, plant, and equipment (PPE), investments, and other assets that are not expected to be converted into cash within the next year.\n",
       "3. Liabilities: Definition & Classification\n",
       "Liabilities are debts or obligations owed by the company to external parties. Common liability categories include:\n",
       "\t* Current Liabilities: Accounts payable, taxes payable, and other debts that are expected to be paid within one year or less.\n",
       "\t* Non-Current Liabilities: Long-term loans, mortgages, and other liabilities that are not expected to be paid within the next year.\n",
       "4. Equity: Definition & Classification\n",
       "Equity represents the ownership interest in the company. Common equity categories include:\n",
       "\t* Common Stock: Shares held by shareholders, which represent ownership in the company.\n",
       "\t* Retained Earnings: Profits reinvested in the business, increasing the owner's equity.\n",
       "5. Balance Sheet Accounts\n",
       "The balance sheet typically includes several accounts, including:\n",
       "\t* Assets: Cash, receivables, inventory, prepaid expenses, property, plant, and equipment (PPE), investments, etc.\n",
       "\t* Liabilities: Accounts payable, taxes payable, long-term loans, mortgages, etc.\n",
       "\t* Equity: Common stock, retained earnings, etc.\n",
       "6. Balance Sheet Analysis\n",
       "Analyzing the balance sheet helps understand a company's financial position and performance. Key metrics include:\n",
       "\t* Liquidity Ratios: Examining the ability to pay short-term debts (e.g., current ratio) or generate cash from assets (e.g., cash conversion cycle).\n",
       "\t* Profitability Ratios: Assessing the company's ability to generate profits (e.g., return on assets, return on equity).\n",
       "\t* Solvency Ratios: Evaluating the company's ability to meet its long-term obligations (e.g., debt-to-equity ratio, interest coverage ratio).\n",
       "7. Interpretation & Use Cases\n",
       "Interpreting the balance sheet helps investors, creditors, and other stakeholders evaluate a company's financial health and make informed decisions. For example, a high level of assets compared to liabilities may indicate a strong financial position, while a low profit margin may suggest inefficiencies in operations.\n",
       "\n",
       "In conclusion, the balance sheet is a crucial financial statement that provides insights into a company's financial position and performance. By understanding the different account categories, analyzing key metrics, and interpreting the results, stakeholders can make informed decisions and evaluate a company's financial health."
      ],
      "text/plain": [
       "<IPython.core.display.Markdown object>"
      ]
     },
     "execution_count": 27,
     "metadata": {},
     "output_type": "execute_result"
    }
   ],
   "source": [
    "print(f\"High score: {avgs[4]}\")\n",
    "Markdown(contexts[3])"
   ]
  }
 ],
 "metadata": {
  "kernelspec": {
   "display_name": "import_test1",
   "language": "python",
   "name": "python3"
  },
  "language_info": {
   "codemirror_mode": {
    "name": "ipython",
    "version": 3
   },
   "file_extension": ".py",
   "mimetype": "text/x-python",
   "name": "python",
   "nbconvert_exporter": "python",
   "pygments_lexer": "ipython3",
   "version": "3.11.6"
  }
 },
 "nbformat": 4,
 "nbformat_minor": 2
}
