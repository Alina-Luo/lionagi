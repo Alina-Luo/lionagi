{
 "cells": [
  {
   "cell_type": "markdown",
   "metadata": {},
   "source": [
    "## More Lions is All You Need\n",
    "\n",
    "running scoring and voting using `llama2` model via `ollama` service"
   ]
  },
  {
   "cell_type": "code",
   "execution_count": 1,
   "metadata": {},
   "outputs": [],
   "source": [
    "from IPython.display import Markdown\n",
    "from timeit import default_timer as timer"
   ]
  },
  {
   "cell_type": "code",
   "execution_count": 2,
   "metadata": {},
   "outputs": [],
   "source": [
    "system = \"you are a helpful assistant.\"\n",
    "instruct = \"think step by step, concisely yet comprehensively explain the balance sheet. return around 200 words\""
   ]
  },
  {
   "cell_type": "markdown",
   "metadata": {},
   "source": [
    "The goal is to find the best answer from 5 generations of the same questions"
   ]
  },
  {
   "cell_type": "code",
   "execution_count": 3,
   "metadata": {},
   "outputs": [],
   "source": [
    "import lionagi as li\n",
    "\n",
    "durations = []\n",
    "\n",
    "async def explain(i):\n",
    "    service = li.Services.Ollama(model='llama2')\n",
    "    session = li.Session(system=system, service=service)\n",
    "\n",
    "    # use timed call to get the runtime of the given function\n",
    "    _, time_ = await li.tcall(\n",
    "        func=session.chat, instruction=instruct, timing=True\n",
    "    )\n",
    "    \n",
    "    durations.append(time_)\n",
    "    return session"
   ]
  },
  {
   "cell_type": "code",
   "execution_count": 4,
   "metadata": {},
   "outputs": [],
   "source": [
    "start_time = timer()"
   ]
  },
  {
   "cell_type": "code",
   "execution_count": 5,
   "metadata": {},
   "outputs": [],
   "source": [
    "writer_sessions = await li.alcall([i for i in range(5)], explain)"
   ]
  },
  {
   "cell_type": "code",
   "execution_count": 6,
   "metadata": {},
   "outputs": [
    {
     "name": "stdout",
     "output_type": "stream",
     "text": [
      "\n",
      "Clock time: 42.93 seconds\n"
     ]
    }
   ],
   "source": [
    "run_time = timer() - start_time\n",
    "print(f\"\\nClock time: {run_time:.2f} seconds\")"
   ]
  },
  {
   "cell_type": "code",
   "execution_count": 7,
   "metadata": {},
   "outputs": [
    {
     "name": "stdout",
     "output_type": "stream",
     "text": [
      "\n",
      "Average runtime: 30.89 seconds\n",
      "\n",
      "Total runtime: 154.44 seconds\n",
      "\n",
      "Total number of runs: 5\n",
      "\n"
     ]
    }
   ],
   "source": [
    "import numpy as np\n",
    "\n",
    "run_describe = f\"\"\"\n",
    "Average runtime: {np.average(durations):.2f} seconds\\n\n",
    "Total runtime: {np.sum(durations):.2f} seconds\\n\n",
    "Total number of runs: {len(durations)}\n",
    "\"\"\"\n",
    "print(run_describe)"
   ]
  },
  {
   "cell_type": "code",
   "execution_count": 8,
   "metadata": {},
   "outputs": [
    {
     "name": "stdout",
     "output_type": "stream",
     "text": [
      "speed up  3.60\n"
     ]
    }
   ],
   "source": [
    "print(f\"speed up { np.sum(durations) / float(run_time): .02f}\")"
   ]
  },
  {
   "cell_type": "markdown",
   "metadata": {},
   "source": [
    "### Get a group of critics"
   ]
  },
  {
   "cell_type": "code",
   "execution_count": 9,
   "metadata": {},
   "outputs": [],
   "source": [
    "system = \"\"\"\n",
    "    as a highly critical professor, score an answer, only return a \n",
    "    positive integer\n",
    "\"\"\"\n",
    "\n",
    "instruction = \"\"\"\n",
    "    meticulously and critically give a score between 0-10 on the \n",
    "    following explaination of balance sheet.\n",
    "\"\"\""
   ]
  },
  {
   "cell_type": "code",
   "execution_count": 10,
   "metadata": {},
   "outputs": [],
   "source": [
    "durations = []\n",
    "results = []\n",
    "\n",
    "async def score(context):\n",
    "    service = li.Services.Ollama(model='llama2')\n",
    "    \n",
    "    # set up a function for one scorer to evaluate\n",
    "    async def _inner(i):\n",
    "        session = li.Session(system=system, service=service)\n",
    "        \n",
    "        out_, time_ = await li.tcall(\n",
    "            func=session.chat, instruction=instruction, context=context, timing=True)\n",
    "        \n",
    "        durations.append(time_)\n",
    "        return out_\n",
    "        \n",
    "    scores = await li.alcall([i for i in range(5)], _inner)        # run 5 scorers in parallel \n",
    "    \n",
    "    # map the context with scores,\n",
    "    out = {\n",
    "        \"context\": context,\n",
    "        \"scores\": scores\n",
    "    }\n",
    "    \n",
    "    results.append(out)\n",
    "    \n",
    "    return (scores, context)"
   ]
  },
  {
   "cell_type": "code",
   "execution_count": 11,
   "metadata": {},
   "outputs": [],
   "source": [
    "# get the responses from all previous sessions\n",
    "\n",
    "responses = li.lcall(writer_sessions, lambda s: s.last_response_content['response'])"
   ]
  },
  {
   "cell_type": "markdown",
   "metadata": {},
   "source": [
    "this is 25 runs in total across all responses,\n",
    "so will be pretty slow\n",
    "\n",
    "to speed up, reduce the number of responses\n"
   ]
  },
  {
   "cell_type": "code",
   "execution_count": 12,
   "metadata": {},
   "outputs": [],
   "source": [
    "start_time = timer()"
   ]
  },
  {
   "cell_type": "code",
   "execution_count": 13,
   "metadata": {},
   "outputs": [],
   "source": [
    "outputs = await li.alcall(responses, score)"
   ]
  },
  {
   "cell_type": "code",
   "execution_count": 14,
   "metadata": {},
   "outputs": [
    {
     "name": "stdout",
     "output_type": "stream",
     "text": [
      "\n",
      "Clock time: 191.95 seconds\n"
     ]
    }
   ],
   "source": [
    "run_time = timer() - start_time\n",
    "print(f\"\\nClock time: {run_time:.2f} seconds\")"
   ]
  },
  {
   "cell_type": "code",
   "execution_count": 15,
   "metadata": {},
   "outputs": [],
   "source": [
    "scores = [o[0] for o in outputs]\n",
    "contexts = [o[1] for o in outputs]"
   ]
  },
  {
   "cell_type": "code",
   "execution_count": 16,
   "metadata": {},
   "outputs": [
    {
     "name": "stdout",
     "output_type": "stream",
     "text": [
      "\n",
      "Average runtime: 135.40 seconds\n",
      "\n",
      "Total runtime: 3384.90 seconds\n",
      "\n",
      "Total number of runs: 25\n",
      "\n"
     ]
    }
   ],
   "source": [
    "run_time = f\"\"\"\n",
    "Average runtime: {np.average(durations):.2f} seconds\\n\n",
    "Total runtime: {np.sum(durations):.2f} seconds\\n\n",
    "Total number of runs: {len(durations)}\n",
    "\"\"\"\n",
    "print(run_time)"
   ]
  },
  {
   "cell_type": "code",
   "execution_count": 17,
   "metadata": {},
   "outputs": [
    {
     "name": "stdout",
     "output_type": "stream",
     "text": [
      "[8.0, 8.0, 6.2, 8.4, 8.0]\n"
     ]
    }
   ],
   "source": [
    "avgs = []\n",
    "for i in scores:\n",
    "    z = []\n",
    "    for j in i:\n",
    "        try:\n",
    "            a = li.str_to_num(j)\n",
    "            z.append(a)\n",
    "        except:\n",
    "            pass\n",
    "    avgs.append(np.average(z))\n",
    "\n",
    "print(avgs)"
   ]
  },
  {
   "cell_type": "code",
   "execution_count": 18,
   "metadata": {},
   "outputs": [],
   "source": [
    "high_index = np.where(np.array(avgs) == max(avgs))\n",
    "low_index = np.where(np.array(avgs) == min(avgs))"
   ]
  },
  {
   "cell_type": "code",
   "execution_count": 19,
   "metadata": {},
   "outputs": [
    {
     "data": {
      "text/plain": [
       "(array([3]),)"
      ]
     },
     "execution_count": 19,
     "metadata": {},
     "output_type": "execute_result"
    }
   ],
   "source": [
    "high_index"
   ]
  },
  {
   "cell_type": "code",
   "execution_count": 20,
   "metadata": {},
   "outputs": [
    {
     "data": {
      "text/plain": [
       "(array([2]),)"
      ]
     },
     "execution_count": 20,
     "metadata": {},
     "output_type": "execute_result"
    }
   ],
   "source": [
    "low_index"
   ]
  },
  {
   "cell_type": "markdown",
   "metadata": {},
   "source": [
    "### High Score"
   ]
  },
  {
   "cell_type": "code",
   "execution_count": 21,
   "metadata": {},
   "outputs": [
    {
     "name": "stdout",
     "output_type": "stream",
     "text": [
      "High score: 8.4\n"
     ]
    },
    {
     "data": {
      "text/markdown": [
       "\n",
       "As a helpful assistant, I'd be happy to explain the balance sheet in a clear and concise manner!\n",
       "\n",
       "The balance sheet is a financial statement that provides a snapshot of a company's assets, liabilities, and equity at a specific point in time. It is used to understand the financial position of a company and make informed decisions about its operations.\n",
       "\n",
       "Here are the key components of a balance sheet:\n",
       "\n",
       "1. Assets: These are the resources that a company owns or controls, such as cash, accounts receivable, inventory, property, plant, and equipment.\n",
       "2. Liabilities: These are the debts or obligations that a company owes to others, such as loans, accounts payable, and taxes owed.\n",
       "3. Equity: This represents the ownership interest in a company, including shares of stock held by shareholders and retained earnings.\n",
       "4. Net worth: This is the difference between a company's assets and liabilities, and represents the true value of the company.\n",
       "5. Current ratio: This is a measure of a company's ability to pay its short-term debts, calculated by dividing current assets by current liabilities.\n",
       "6. Debt-to-equity ratio: This measures a company's level of debt relative to its equity, and can help investors assess the level of risk in investing in a company.\n",
       "7. Return on equity (ROE): This measures a company's net income as a percentage of its shareholders' equity, and helps investors evaluate a company's profitability.\n",
       "\n",
       "By analyzing these components, investors and analysts can gain insights into a company's financial health and make informed decisions about investing or lending to the company."
      ],
      "text/plain": [
       "<IPython.core.display.Markdown object>"
      ]
     },
     "execution_count": 21,
     "metadata": {},
     "output_type": "execute_result"
    }
   ],
   "source": [
    "print(f\"High score: {max(avgs)}\")\n",
    "Markdown(contexts[4])"
   ]
  },
  {
   "cell_type": "markdown",
   "metadata": {},
   "source": [
    "### Low score"
   ]
  },
  {
   "cell_type": "code",
   "execution_count": 22,
   "metadata": {},
   "outputs": [
    {
     "name": "stdout",
     "output_type": "stream",
     "text": [
      "Low score: 6.2\n"
     ]
    },
    {
     "data": {
      "text/markdown": [
       "\n",
       "As a helpful assistant, I'd be happy to explain the balance sheet in a clear and concise manner!\n",
       "\n",
       "The balance sheet is a financial statement that provides a snapshot of a company's assets, liabilities, and equity at a specific point in time. It is used to help investors, creditors, and other stakeholders understand a company's financial position and make informed decisions.\n",
       "\n",
       "The balance sheet consists of three main sections:\n",
       "\n",
       "1. Assets: This section lists all the resources that the company owns or controls, such as cash, accounts receivable, inventory, property, plant, and equipment.\n",
       "2. Liabilities: This section lists all the debts and obligations that the company owes to others, such as loans, accounts payable, and taxes owed.\n",
       "3. Equity: This section shows the ownership structure of the company, including the amount of shares issued and outstanding, retained earnings, and any other reserves or funds.\n",
       "\n",
       "The balance sheet is important because it provides a comprehensive picture of a company's financial position at a given time. By analyzing the balance sheet, investors can determine whether a company has sufficient assets to cover its liabilities and ensure that it can meet its financial obligations. Creditors can also use the balance sheet to assess the creditworthiness of a company and make informed lending decisions.\n",
       "\n",
       "In conclusion, the balance sheet is a fundamental financial statement that provides valuable information about a company's financial position. By understanding the balance sheet, investors and creditors can make more informed decisions about investing in or lending to a particular company."
      ],
      "text/plain": [
       "<IPython.core.display.Markdown object>"
      ]
     },
     "execution_count": 22,
     "metadata": {},
     "output_type": "execute_result"
    }
   ],
   "source": [
    "print(f\"Low score: {min(avgs)}\")\n",
    "Markdown(contexts[1])"
   ]
  },
  {
   "cell_type": "markdown",
   "metadata": {},
   "source": [
    "### Others"
   ]
  },
  {
   "cell_type": "code",
   "execution_count": 23,
   "metadata": {},
   "outputs": [
    {
     "name": "stdout",
     "output_type": "stream",
     "text": [
      "High score: 8.0\n"
     ]
    },
    {
     "data": {
      "text/markdown": [
       "\n",
       "As a helpful assistant, I'd be delighted to explain the balance sheet in a clear and concise manner! Here it goes:\n",
       "\n",
       "The balance sheet is a financial statement that provides an overview of a company's assets, liabilities, and equity at a specific point in time. It is a snapshot of the company's financial position, showing how much money the company has (assets) and how much it owes (liabilities) to external parties. The balance sheet is divided into two sides: the asset side and the liability side.\n",
       "\n",
       "On the asset side, the balance sheet lists all the resources owned by the company, such as cash, inventory, property, and equipment. These assets are valued at their original cost or their current market value, whichever is lower. The total value of the asset side should equal the total value of the liability side, which represents the amount owed to external parties.\n",
       "\n",
       "On the liability side, the balance sheet lists all the debts and obligations of the company, including loans, accounts payable, taxes payable, and wages payable. These liabilities are also valued at their original cost or their current market value.\n",
       "\n",
       "The difference between the asset side and the liability side is called equity, which represents the ownership interest in the business. Equity can include shares issued to investors, retained earnings (profits), and other reserves.\n",
       "\n",
       "In summary, the balance sheet provides a comprehensive picture of a company's financial position by listing its assets, liabilities, and equity. It is an essential tool for investors, creditors, and management to evaluate the financial health of a business."
      ],
      "text/plain": [
       "<IPython.core.display.Markdown object>"
      ]
     },
     "execution_count": 23,
     "metadata": {},
     "output_type": "execute_result"
    }
   ],
   "source": [
    "print(f\"High score: {avgs[0]}\")\n",
    "Markdown(contexts[0])"
   ]
  },
  {
   "cell_type": "code",
   "execution_count": 24,
   "metadata": {},
   "outputs": [
    {
     "name": "stdout",
     "output_type": "stream",
     "text": [
      "High score: 6.2\n"
     ]
    },
    {
     "data": {
      "text/markdown": [
       "\n",
       "As a helpful assistant, I'm happy to provide you with a clear and concise explanation of the balance sheet!\n",
       "\n",
       "The balance sheet is a financial statement that provides a snapshot of a company's assets, liabilities, and equity at a specific point in time. It helps investors, creditors, and other stakeholders understand a company's financial position and make informed decisions.\n",
       "\n",
       "Here are the main components of a balance sheet:\n",
       "\n",
       "1. Assets: These are the resources that a company owns or controls, such as cash, inventory, property, equipment, and investments.\n",
       "2. Liabilities: These are the debts or obligations that a company owes to others, such as loans, accounts payable, and taxes owing.\n",
       "3. Equity: This represents the ownership interest in a company, including shareholder equity and retained earnings.\n",
       "\n",
       "The balance sheet is organized into these three main sections, with each section presented in a specific format. The assets are listed first, followed by the liabilities and equity. Within each section, the items are listed in a specific order, such as cash before accounts receivable and inventory before property.\n",
       "\n",
       "When analyzing a balance sheet, investors and creditors typically look at the following ratios:\n",
       "\n",
       "1. Current Ratio: This compares the current assets to current liabilities to determine if the company has enough liquidity to pay its bills.\n",
       "2. Debt-to-Equity Ratio: This measures the proportion of debt to equity in a company's capital structure.\n",
       "3. Return on Equity (ROE): This calculates how well a company is using its equity to generate profits.\n",
       "4. Acid Test Ratio: This measures a company's ability to pay its short-term liabilities with its liquid assets.\n",
       "\n",
       "By analyzing these ratios and reviewing the balance sheet components, investors can gain valuable insights into a company's financial health and make informed investment decisions."
      ],
      "text/plain": [
       "<IPython.core.display.Markdown object>"
      ]
     },
     "execution_count": 24,
     "metadata": {},
     "output_type": "execute_result"
    }
   ],
   "source": [
    "print(f\"High score: {avgs[2]}\")\n",
    "Markdown(contexts[2])"
   ]
  },
  {
   "cell_type": "code",
   "execution_count": 25,
   "metadata": {},
   "outputs": [
    {
     "name": "stdout",
     "output_type": "stream",
     "text": [
      "High score: 8.4\n"
     ]
    },
    {
     "data": {
      "text/markdown": [
       "\n",
       "As a helpful assistant, I'd be delighted to explain the balance sheet in a clear and concise manner!\n",
       "\n",
       "A company's balance sheet is a financial statement that provides a snapshot of its financial position at a specific point in time. It lists the company's assets, liabilities, and equity, which are the three main components of its financial position.\n",
       "\n",
       "Assets: These are the resources owned by the company that have economic value. Examples include cash, inventory, property, plant, and equipment (PP&E), and investments.\n",
       "\n",
       "Liabilities: These are the debts or obligations that the company owes to others. Examples include loans, accounts payable, and taxes payable.\n",
       "\n",
       "Equity: This represents the ownership interest in the company. It includes shares held by shareholders, retained earnings (the company's profits), and other reserves.\n",
       "\n",
       "The balance sheet is important because it helps investors, creditors, and other stakeholders understand a company's financial position and make informed decisions. For example, if a company has a high level of assets relative to its liabilities, it may be considered financially stable. On the other hand, if a company has a high level of liabilities relative to its assets, it may be considered financially leveraged.\n",
       "\n",
       "In conclusion, the balance sheet provides a comprehensive overview of a company's financial position at a given point in time, and is an essential tool for investors, creditors, and other stakeholders to evaluate the company's financial health."
      ],
      "text/plain": [
       "<IPython.core.display.Markdown object>"
      ]
     },
     "execution_count": 25,
     "metadata": {},
     "output_type": "execute_result"
    }
   ],
   "source": [
    "print(f\"High score: {avgs[3]}\")\n",
    "Markdown(contexts[3])"
   ]
  }
 ],
 "metadata": {
  "kernelspec": {
   "display_name": "import_test1",
   "language": "python",
   "name": "python3"
  },
  "language_info": {
   "codemirror_mode": {
    "name": "ipython",
    "version": 3
   },
   "file_extension": ".py",
   "mimetype": "text/x-python",
   "name": "python",
   "nbconvert_exporter": "python",
   "pygments_lexer": "ipython3",
   "version": "3.11.6"
  }
 },
 "nbformat": 4,
 "nbformat_minor": 2
}
