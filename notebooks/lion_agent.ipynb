{
 "cells": [
  {
   "cell_type": "code",
   "execution_count": 1,
   "metadata": {},
   "outputs": [],
   "source": [
    "from lionagi.core.schema import Structure\n",
    "from lionagi.core.messages import System, Instruction\n",
    "from lionagi.core.agent.base_agent import BaseAgent\n",
    "from lionagi.core.branch.executable_branch import ExecutableBranch"
   ]
  },
  {
   "cell_type": "markdown",
   "metadata": {},
   "source": [
    "## Create Graph-based Structure"
   ]
  },
  {
   "cell_type": "code",
   "execution_count": 2,
   "metadata": {},
   "outputs": [],
   "source": [
    "sys_comedian = System(\n",
    "    \"as a comedian, you are sarcastically funny\", recipient=\"comedian\"\n",
    ")\n",
    "instruct1 = Instruction(\n",
    "    \"very short joke: a blue whale and a big shark meet at the bar and start dancing\"\n",
    ")\n",
    "instruct2 = Instruction(\"continue the joke: and then they stopped\")"
   ]
  },
  {
   "cell_type": "code",
   "execution_count": 3,
   "metadata": {},
   "outputs": [],
   "source": [
    "comedian_structure = Structure()\n",
    "comedian_structure.add_node(sys_comedian)\n",
    "comedian_structure.add_node(instruct1)\n",
    "comedian_structure.add_node(instruct2)\n",
    "comedian_structure.add_relationship(sys_comedian, instruct1)\n",
    "comedian_structure.add_relationship(instruct1, instruct2)"
   ]
  },
  {
   "cell_type": "markdown",
   "metadata": {},
   "source": [
    "## Create Critic Agent"
   ]
  },
  {
   "cell_type": "code",
   "execution_count": 4,
   "metadata": {},
   "outputs": [],
   "source": [
    "sys_critic = System(\n",
    "    \"as a commentator, you are artistically logical\", recipient=\"critic\"\n",
    ")\n",
    "instruct3 = Instruction(\"short comments, what do you think about the first joke?\")\n",
    "instruct4 = Instruction(\n",
    "    \"provide a concise artistic critique on both jokes, and rate from 1-10\"\n",
    ")"
   ]
  },
  {
   "cell_type": "code",
   "execution_count": 5,
   "metadata": {},
   "outputs": [],
   "source": [
    "critic_structure = Structure()\n",
    "critic_structure.add_node(sys_critic)\n",
    "critic_structure.add_node(instruct3)\n",
    "critic_structure.add_node(instruct4)\n",
    "critic_structure.add_relationship(sys_critic, instruct3)\n",
    "critic_structure.add_relationship(instruct3, instruct4)"
   ]
  },
  {
   "cell_type": "code",
   "execution_count": 6,
   "metadata": {},
   "outputs": [],
   "source": [
    "## output_parser_func parameter: agent self\n",
    "\n",
    "\n",
    "def critic_output_parser(agent):\n",
    "    return agent.executable.responses\n",
    "\n",
    "\n",
    "critic = BaseAgent(\n",
    "    structure=critic_structure,\n",
    "    executable_class=ExecutableBranch,\n",
    "    output_parser=critic_output_parser,\n",
    "    executable_class_kwargs={\"name\": \"critic\"},\n",
    ")"
   ]
  },
  {
   "cell_type": "markdown",
   "metadata": {},
   "source": [
    "## Added Critic agent into Comedian Structure"
   ]
  },
  {
   "cell_type": "code",
   "execution_count": 7,
   "metadata": {},
   "outputs": [],
   "source": [
    "comedian_structure.add_node(critic)\n",
    "comedian_structure.add_relationship(instruct2, critic)"
   ]
  },
  {
   "cell_type": "code",
   "execution_count": 8,
   "metadata": {},
   "outputs": [],
   "source": [
    "instruct5 = Instruction(\n",
    "    \"your jokes were evaluated by a critic, what do you think of the score(1-10)?\"\n",
    ")\n",
    "instruct6 = Instruction(\"basing on your reflection, write joke1 again\")\n",
    "instruct7 = Instruction(\"write joke2 again\")"
   ]
  },
  {
   "cell_type": "code",
   "execution_count": 9,
   "metadata": {},
   "outputs": [],
   "source": [
    "comedian_structure.add_node(instruct5)\n",
    "comedian_structure.add_node(instruct6)\n",
    "comedian_structure.add_node(instruct7)\n",
    "comedian_structure.add_relationship(critic, instruct5)\n",
    "comedian_structure.add_relationship(instruct5, instruct6)\n",
    "comedian_structure.add_relationship(instruct6, instruct7)"
   ]
  },
  {
   "cell_type": "markdown",
   "metadata": {},
   "source": [
    "## Create Comedian Agent"
   ]
  },
  {
   "cell_type": "code",
   "execution_count": 10,
   "metadata": {},
   "outputs": [],
   "source": [
    "## output_parser_func parameter: agent self\n",
    "\n",
    "\n",
    "def comedian_output_parse(agent):\n",
    "    return agent.executable.responses\n",
    "\n",
    "\n",
    "comedian = BaseAgent(\n",
    "    structure=comedian_structure,\n",
    "    executable_class=ExecutableBranch,\n",
    "    output_parser=comedian_output_parse,\n",
    "    executable_class_kwargs={\"name\": \"comedian\"},\n",
    ")"
   ]
  },
  {
   "cell_type": "markdown",
   "metadata": {},
   "source": [
    "## Execute"
   ]
  },
  {
   "cell_type": "code",
   "execution_count": 11,
   "metadata": {},
   "outputs": [
    {
     "name": "stdout",
     "output_type": "stream",
     "text": [
      "---------------Welcome: comedian------------------\n"
     ]
    },
    {
     "data": {
      "text/markdown": [
       "system: as a comedian, you are sarcastically funny"
      ],
      "text/plain": [
       "<IPython.core.display.Markdown object>"
      ]
     },
     "metadata": {},
     "output_type": "display_data"
    },
    {
     "data": {
      "text/markdown": [
       "user: very short joke: a blue whale and a big shark meet at the bar and start dancing"
      ],
      "text/plain": [
       "<IPython.core.display.Markdown object>"
      ]
     },
     "metadata": {},
     "output_type": "display_data"
    },
    {
     "data": {
      "text/markdown": [
       "comedian: A blue whale and a big shark meet at the bar and start dancing. The bartender says, \"What is this, a joke?\" The whale replies, \"No, it's a large scale production!\""
      ],
      "text/plain": [
       "<IPython.core.display.Markdown object>"
      ]
     },
     "metadata": {},
     "output_type": "display_data"
    },
    {
     "name": "stdout",
     "output_type": "stream",
     "text": [
      "-----------------------------------------------------\n"
     ]
    },
    {
     "data": {
      "text/markdown": [
       "user: continue the joke: and then they stopped"
      ],
      "text/plain": [
       "<IPython.core.display.Markdown object>"
      ]
     },
     "metadata": {},
     "output_type": "display_data"
    },
    {
     "data": {
      "text/markdown": [
       "comedian: And then they stopped, panting. The shark looks around and says, \"Well, that cleared the room faster than a fart in a spacesuit!\" The whale nods, \"Yeah, we really made waves tonight!\""
      ],
      "text/plain": [
       "<IPython.core.display.Markdown object>"
      ]
     },
     "metadata": {},
     "output_type": "display_data"
    },
    {
     "name": "stdout",
     "output_type": "stream",
     "text": [
      "-----------------------------------------------------\n",
      "---------------Welcome: critic------------------\n"
     ]
    },
    {
     "data": {
      "text/markdown": [
       "system: as a commentator, you are artistically logical"
      ],
      "text/plain": [
       "<IPython.core.display.Markdown object>"
      ]
     },
     "metadata": {},
     "output_type": "display_data"
    },
    {
     "data": {
      "text/markdown": [
       "user: short comments, what do you think about the first joke?"
      ],
      "text/plain": [
       "<IPython.core.display.Markdown object>"
      ]
     },
     "metadata": {},
     "output_type": "display_data"
    },
    {
     "data": {
      "text/markdown": [
       "critic: The first joke cleverly plays with the concept of size and expectation, delivering a humorous twist on what could have been a typical bar joke setup. Its charm lies in the unexpected nature of a \"large scale production,\" blending literal and figurative language to craft a moment of surprise and amusement."
      ],
      "text/plain": [
       "<IPython.core.display.Markdown object>"
      ]
     },
     "metadata": {},
     "output_type": "display_data"
    },
    {
     "name": "stdout",
     "output_type": "stream",
     "text": [
      "-----------------------------------------------------\n"
     ]
    },
    {
     "data": {
      "text/markdown": [
       "user: provide a concise artistic critique on both jokes, and rate from 1-10"
      ],
      "text/plain": [
       "<IPython.core.display.Markdown object>"
      ]
     },
     "metadata": {},
     "output_type": "display_data"
    },
    {
     "data": {
      "text/markdown": [
       "critic: The initial joke wittily navigates the realms of expectation and surprise, using the setting of a bar—a common setup for jokes—to introduce an unusual pair, a whale and a shark, only to reveal they're part of a 'large scale production.' This clever play on words, juxtaposing the mundane with the grandiose, earns it a solid 8/10 for its originality and the smile it brings.\n",
       "\n",
       "The follow-up joke extends the narrative with a light-hearted comparison to clearing a room, likening their dance to a 'fart in a spacesuit'—a humorous, albeit less refined, analogy. While it maintains the humorous tone and camaraderie between the whale and the shark, it leans on a more common form of humor that doesn't quite match the cleverness of the first. Thus, it gets a 6/10, still enjoyable but lacking the initial sparkle."
      ],
      "text/plain": [
       "<IPython.core.display.Markdown object>"
      ]
     },
     "metadata": {},
     "output_type": "display_data"
    },
    {
     "name": "stdout",
     "output_type": "stream",
     "text": [
      "-----------------------------------------------------\n"
     ]
    },
    {
     "data": {
      "text/markdown": [
       "user: your jokes were evaluated by a critic, what do you think of the score(1-10)?"
      ],
      "text/plain": [
       "<IPython.core.display.Markdown object>"
      ]
     },
     "metadata": {},
     "output_type": "display_data"
    },
    {
     "data": {
      "text/markdown": [
       "comedian: Oh, darling, if humor were a soup, that critic just called mine a quirky bistro gazpacho with a side of toasted puns. An 8 for the opener? I'll take it with the grace of a swan doing ballet in a kiddie pool. And a 6 for the encore? Well, not every joke can be a Michelin star, but hey, at least it didn't get sent back to the kitchen! So, on a scale from 1 to 10, I'm sitting comfortably at a 'I made someone smirk today,' and in the world of comedy, that's as golden as finding a French fry in your onion rings."
      ],
      "text/plain": [
       "<IPython.core.display.Markdown object>"
      ]
     },
     "metadata": {},
     "output_type": "display_data"
    },
    {
     "name": "stdout",
     "output_type": "stream",
     "text": [
      "-----------------------------------------------------\n"
     ]
    },
    {
     "data": {
      "text/markdown": [
       "user: basing on your reflection, write joke1 again"
      ],
      "text/plain": [
       "<IPython.core.display.Markdown object>"
      ]
     },
     "metadata": {},
     "output_type": "display_data"
    },
    {
     "data": {
      "text/markdown": [
       "comedian: A blue whale and a big shark waltz into a bar, causing quite the stir. The bartender, eyes wide, asks, \"What's the occasion?\" The whale grins and says, \"We're here for the large scale production.\" The bartender, puzzled, looks around the emptying bar and realizes, they're not just making waves, they're the entire ocean in a teacup. \"Well, break a fin,\" he quips, diving into the spectacle."
      ],
      "text/plain": [
       "<IPython.core.display.Markdown object>"
      ]
     },
     "metadata": {},
     "output_type": "display_data"
    },
    {
     "name": "stdout",
     "output_type": "stream",
     "text": [
      "-----------------------------------------------------\n"
     ]
    },
    {
     "data": {
      "text/markdown": [
       "user: write joke2 again"
      ],
      "text/plain": [
       "<IPython.core.display.Markdown object>"
      ]
     },
     "metadata": {},
     "output_type": "display_data"
    },
    {
     "data": {
      "text/markdown": [
       "comedian: After their dance, the bar's as empty as a hermit's address book. The whale, catching his breath, says, \"Looks like we really made a splash.\" The shark, grinning, replies, \"Yeah, we cleared the room faster than a skunk at a garden party.\" They share a laugh, knowing they've just become the most unforgettable act since the bartender tried juggling cocktail shakers."
      ],
      "text/plain": [
       "<IPython.core.display.Markdown object>"
      ]
     },
     "metadata": {},
     "output_type": "display_data"
    },
    {
     "name": "stdout",
     "output_type": "stream",
     "text": [
      "-----------------------------------------------------\n"
     ]
    }
   ],
   "source": [
    "result = await comedian.execute()"
   ]
  },
  {
   "cell_type": "markdown",
   "metadata": {},
   "source": [
    "## Graph"
   ]
  },
  {
   "cell_type": "code",
   "execution_count": 12,
   "metadata": {},
   "outputs": [],
   "source": [
    "# %pip install networkx"
   ]
  },
  {
   "cell_type": "code",
   "execution_count": 13,
   "metadata": {},
   "outputs": [
    {
     "data": {
      "image/png": "[encoded data removed]",
      "text/plain": [
       "<Figure size 640x480 with 1 Axes>"
      ]
     },
     "metadata": {},
     "output_type": "display_data"
    }
   ],
   "source": [
    "import networkx as nx\n",
    "\n",
    "nx.draw(comedian_structure.graph.to_networkx())"
   ]
  },
  {
   "cell_type": "code",
   "execution_count": null,
   "metadata": {},
   "outputs": [],
   "source": []
  }
 ],
 "metadata": {
  "kernelspec": {
   "display_name": ".venv",
   "language": "python",
   "name": "python3"
  },
  "language_info": {
   "codemirror_mode": {
    "name": "ipython",
    "version": 3
   },
   "file_extension": ".py",
   "mimetype": "text/x-python",
   "name": "python",
   "nbconvert_exporter": "python",
   "pygments_lexer": "ipython3",
   "version": "3.11.6"
  }
 },
 "nbformat": 4,
 "nbformat_minor": 2
}
