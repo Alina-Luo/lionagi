{
 "cells": [
  {
   "cell_type": "code",
   "execution_count": 1,
   "metadata": {},
   "outputs": [],
   "source": [
    "from lionagi.core import System, Instruction\n",
    "from lionagi.core.execute.structure_executor import StructureExecutor\n",
    "from lionagi.core.execute.instruction_map_executor import InstructionMapExecutor\n",
    "from lionagi.core.agent.base_agent import BaseAgent\n",
    "\n",
    "from lionagi.core.generic.condition import Condition\n",
    "from lionagi.core import func_to_tool\n",
    "from lionagi.core.generic.action import ActionSelection"
   ]
  },
  {
   "cell_type": "markdown",
   "metadata": {},
   "source": [
    "# Math Problem: Optimizing Spending on Notebooks and Stationery\n",
    "\n",
    "Description:\n",
    "- The task begins with an inital balance, which is to be used primarily for purchasing notebooks. Each notebook costs $8, and the objective is to buy as many notebooks as possible without exceeding the budget.\n",
    "\n",
    "- After purchasing the notebooks, with any leftover balance, we can decided whether or not to spend it on less expensive items. The available choices are pen, $5, and pencil, $2. If we choose to buy additional items, we will aim to maximize the quantity without going over the budget."
   ]
  },
  {
   "cell_type": "markdown",
   "metadata": {},
   "source": [
    "## Prepare Tools and Actions"
   ]
  },
  {
   "cell_type": "code",
   "execution_count": 2,
   "metadata": {},
   "outputs": [],
   "source": [
    "async def multiply(number1: float, number2: float):\n",
    "    \"\"\"\n",
    "    multiplication.\n",
    "\n",
    "    Args:\n",
    "        number1: First number to multiply.\n",
    "        number2: Second number to multiply.\n",
    "\n",
    "    Returns:\n",
    "        The product of number1, number2\n",
    "\n",
    "    \"\"\"\n",
    "    return number1 * number2\n",
    "\n",
    "async def divide(number1: float, number2: float):\n",
    "    \"\"\"\n",
    "    division.\n",
    "\n",
    "    Args:\n",
    "        number1: dividend.\n",
    "        number2: divisor.\n",
    "\n",
    "    Returns:\n",
    "        The quotient of number1/number2\n",
    "\n",
    "    \"\"\"\n",
    "    return number1 / number2\n",
    "\n",
    "\n",
    "async def add(number1: float, number2: float):\n",
    "    \"\"\"\n",
    "    addition\n",
    "\n",
    "    Args:\n",
    "        number1: First number to add.\n",
    "        number2: Second number to add.\n",
    "\n",
    "    Returns:\n",
    "        The sum of number1, number2\n",
    "    \"\"\"\n",
    "    return number1 + number2\n",
    "\n",
    "async def minus(number1: float, number2: float):\n",
    "    \"\"\"\n",
    "    subtraction.\n",
    "\n",
    "\n",
    "    Args:\n",
    "        number1: minuend.\n",
    "        number2: subtrahend.\n",
    "\n",
    "    Returns:\n",
    "        The difference of number1, number2\n",
    "    \"\"\"\n",
    "    return number1 - number2"
   ]
  },
  {
   "cell_type": "code",
   "execution_count": 3,
   "metadata": {},
   "outputs": [],
   "source": [
    "calc_tools = func_to_tool([multiply, divide, add, minus])"
   ]
  },
  {
   "cell_type": "code",
   "execution_count": 4,
   "metadata": {},
   "outputs": [],
   "source": [
    "action = ActionSelection(\n",
    "    action=\"followup\", action_kwargs={\"max_followup\":3, \"temperature\":0.3})"
   ]
  },
  {
   "cell_type": "markdown",
   "metadata": {},
   "source": [
    "# Start Structure"
   ]
  },
  {
   "cell_type": "code",
   "execution_count": 5,
   "metadata": {},
   "outputs": [],
   "source": [
    "shopping = StructureExecutor()\n",
    "\n",
    "system = System(\"You are a financial management assistant tasked with optimizing spending based on the available balance.\")\n",
    "shopping.add_node(system)\n",
    "\n",
    "shopping.add_node(calc_tools[0]) # multiply\n",
    "shopping.add_node(calc_tools[1]) # divide\n",
    "shopping.add_node(calc_tools[2]) # add\n",
    "shopping.add_node(calc_tools[3]) # minus\n",
    "\n",
    "shopping.add_node(action)"
   ]
  },
  {
   "cell_type": "markdown",
   "metadata": {},
   "source": [
    "## Primary Objective"
   ]
  },
  {
   "cell_type": "code",
   "execution_count": 6,
   "metadata": {},
   "outputs": [],
   "source": [
    "# primary goal: buy notebooks\n",
    "instruction1 = Instruction({\"primary goal\": \"You intend primarily for purchasing notebooks as many as possible without exceeding your budget\",\n",
    "                            \"notebook price\": \"$8\",\n",
    "                            \"question\": \"How many books can you purchase and what is the total cost\"})\n",
    "\n",
    "instruction2 = Instruction({\"calculate remaining balance\": \"return the availble balance after buying, please only return a number\"})"
   ]
  },
  {
   "cell_type": "markdown",
   "metadata": {},
   "source": [
    "We use `followup` for both steps\n",
    "\n",
    "We provide multiplication and division tools to calculate the total cost, and addition and subtraction tools to calculate the balance"
   ]
  },
  {
   "cell_type": "code",
   "execution_count": 7,
   "metadata": {},
   "outputs": [],
   "source": [
    "# link instructions\n",
    "shopping.relate_nodes(system, instruction1)\n",
    "shopping.relate_nodes(instruction1, instruction2)\n",
    "\n",
    "# link tools\n",
    "shopping.relate_nodes(instruction1, calc_tools[0])\n",
    "shopping.relate_nodes(instruction1, calc_tools[1])\n",
    "shopping.relate_nodes(instruction2, calc_tools[2])\n",
    "shopping.relate_nodes(instruction2, calc_tools[3])\n",
    "\n",
    "# link action\n",
    "shopping.relate_nodes(instruction1, action)\n",
    "shopping.relate_nodes(instruction2, action)"
   ]
  },
  {
   "cell_type": "markdown",
   "metadata": {},
   "source": [
    "# Continue Purchasing Options"
   ]
  },
  {
   "cell_type": "code",
   "execution_count": 8,
   "metadata": {},
   "outputs": [],
   "source": [
    "# only consider to buy addition items when the remaining balance >= item price\n",
    "\n",
    "class AffordableCondition(Condition):\n",
    "    def __init__(self, price):\n",
    "        super().__init__(source_type=\"executable\")\n",
    "        self.price = price\n",
    "\n",
    "    def get_remaining_balance(self, branch):\n",
    "        remaining_balance = branch.execution_responses[-1]\n",
    "        return int(remaining_balance)\n",
    "\n",
    "    # executable: BranchExecutor\n",
    "    def __call__(self, executable):\n",
    "        balance = self.get_remaining_balance(executable)\n",
    "        return balance >= self.price\n",
    "\n",
    "pencil = AffordableCondition(price=2)\n",
    "pen = AffordableCondition(price=5)"
   ]
  },
  {
   "cell_type": "code",
   "execution_count": 9,
   "metadata": {},
   "outputs": [],
   "source": [
    "instruction3_pencil = Instruction({\"availble choice\": \"spend your remaining balance if possible without exceeding your budget\",\n",
    "                             \"pencil price\": \"$2\",\n",
    "                             \"question\": \"How many pencils can you purchase and what is the total cost\"})\n",
    "\n",
    "instruction3_pen = Instruction({\"availble choice\": \"spend your remaining balance if possible without exceeding your budget\",\n",
    "                             \"pen price\": \"$5\",\n",
    "                             \"question\": \"How many pencils can you purchase and what is the total cost\"})\n",
    "\n",
    "instruction4 = Instruction({\"calculate remaining balance\": \"return the availble balance after buying\"})"
   ]
  },
  {
   "cell_type": "code",
   "execution_count": 10,
   "metadata": {},
   "outputs": [],
   "source": [
    "shopping.add_node(instruction3_pencil)\n",
    "shopping.add_node(instruction3_pen)\n",
    "shopping.add_node(instruction4)"
   ]
  },
  {
   "cell_type": "code",
   "execution_count": 11,
   "metadata": {},
   "outputs": [],
   "source": [
    "# link intructions\n",
    "shopping.relate_nodes(instruction2, instruction3_pencil, condition=pencil)\n",
    "shopping.relate_nodes(instruction2, instruction3_pen, condition=pen)\n",
    "shopping.relate_nodes(instruction3_pencil, instruction4)\n",
    "shopping.relate_nodes(instruction3_pen, instruction4)\n",
    "\n",
    "# link tools\n",
    "shopping.relate_nodes(instruction3_pencil, calc_tools[0])\n",
    "shopping.relate_nodes(instruction3_pencil, calc_tools[1])\n",
    "shopping.relate_nodes(instruction3_pen, calc_tools[0])\n",
    "shopping.relate_nodes(instruction3_pen, calc_tools[1])\n",
    "shopping.relate_nodes(instruction4, calc_tools[2])\n",
    "shopping.relate_nodes(instruction4, calc_tools[3])\n",
    "\n",
    "# link action\n",
    "shopping.relate_nodes(instruction3_pencil, action)\n",
    "shopping.relate_nodes(instruction3_pen, action)\n",
    "shopping.relate_nodes(instruction4, action)"
   ]
  },
  {
   "cell_type": "markdown",
   "metadata": {},
   "source": [
    "# Summary"
   ]
  },
  {
   "cell_type": "code",
   "execution_count": 12,
   "metadata": {},
   "outputs": [],
   "source": [
    "instruction5 = Instruction({\"summary\": \"Provide a summry of items you bought with the remaining balance\"})"
   ]
  },
  {
   "cell_type": "code",
   "execution_count": 13,
   "metadata": {},
   "outputs": [],
   "source": [
    "shopping.add_node(instruction5)\n",
    "\n",
    "shopping.relate_nodes(instruction2, instruction5) # stop shopping after purchasing notebooks\n",
    "shopping.relate_nodes(instruction4, instruction5)"
   ]
  },
  {
   "cell_type": "markdown",
   "metadata": {},
   "source": [
    "# Execute"
   ]
  },
  {
   "cell_type": "code",
   "execution_count": 14,
   "metadata": {},
   "outputs": [],
   "source": [
    "## output_parser parameter: agent self\n",
    "## output_parser return: the expected result that should be returned after execution\n",
    "def output_parser(agent):\n",
    "    ## return list of all purchasing combinations\n",
    "    output = []\n",
    "    for branch in agent.executable.branches.values():\n",
    "        output.append(branch.execution_responses[-1])\n",
    "    return output\n",
    "\n",
    "executable = InstructionMapExecutor()"
   ]
  },
  {
   "cell_type": "code",
   "execution_count": 15,
   "metadata": {},
   "outputs": [],
   "source": [
    "assistant = BaseAgent(structure=shopping, \n",
    "                      executable=executable,\n",
    "                      output_parser=output_parser)"
   ]
  },
  {
   "cell_type": "code",
   "execution_count": 16,
   "metadata": {},
   "outputs": [
    {
     "name": "stdout",
     "output_type": "stream",
     "text": [
      "------------------Welcome: system--------------------\n"
     ]
    },
    {
     "data": {
      "text/markdown": [
       "system: You are a financial management assistant tasked with optimizing spending based on the available balance."
      ],
      "text/plain": [
       "<IPython.core.display.Markdown object>"
      ]
     },
     "metadata": {},
     "output_type": "display_data"
    },
    {
     "data": {
      "text/markdown": [
       "user: {\"primary goal\": \"You intend primarily for purchasing notebooks as many as possible without exceeding your budget\", \"notebook price\": \"$8\", \"question\": \"How many books can you purchase and what is the total cost\"}"
      ],
      "text/plain": [
       "<IPython.core.display.Markdown object>"
      ]
     },
     "metadata": {},
     "output_type": "display_data"
    },
    {
     "data": {
      "text/markdown": [
       "assistant: You can purchase 2 notebooks with a total cost of $16, which is within your budget of $20."
      ],
      "text/plain": [
       "<IPython.core.display.Markdown object>"
      ]
     },
     "metadata": {},
     "output_type": "display_data"
    },
    {
     "name": "stdout",
     "output_type": "stream",
     "text": [
      "-----------------------------------------------------\n"
     ]
    },
    {
     "data": {
      "text/markdown": [
       "user: {\"calculate remaining balance\": \"return the availble balance after buying, please only return a number\"}"
      ],
      "text/plain": [
       "<IPython.core.display.Markdown object>"
      ]
     },
     "metadata": {},
     "output_type": "display_data"
    },
    {
     "data": {
      "text/markdown": [
       "assistant: 4"
      ],
      "text/plain": [
       "<IPython.core.display.Markdown object>"
      ]
     },
     "metadata": {},
     "output_type": "display_data"
    },
    {
     "name": "stdout",
     "output_type": "stream",
     "text": [
      "-----------------------------------------------------\n"
     ]
    },
    {
     "data": {
      "text/markdown": [
       "user: {\"availble choice\": \"spend your remaining balance if possible without exceeding your budget\", \"pencil price\": \"$2\", \"question\": \"How many pencils can you purchase and what is the total cost\"}"
      ],
      "text/plain": [
       "<IPython.core.display.Markdown object>"
      ]
     },
     "metadata": {},
     "output_type": "display_data"
    },
    {
     "data": {
      "text/markdown": [
       "user: {\"summary\": \"Provide a summry of items you bought with the remaining balance\"}"
      ],
      "text/plain": [
       "<IPython.core.display.Markdown object>"
      ]
     },
     "metadata": {},
     "output_type": "display_data"
    },
    {
     "data": {
      "text/markdown": [
       "assistant: You purchased 2 notebooks for a total of $16. The remaining balance is $4."
      ],
      "text/plain": [
       "<IPython.core.display.Markdown object>"
      ]
     },
     "metadata": {},
     "output_type": "display_data"
    },
    {
     "name": "stdout",
     "output_type": "stream",
     "text": [
      "-----------------------------------------------------\n"
     ]
    },
    {
     "data": {
      "text/markdown": [
       "assistant: You can purchase 2 pencils with a total cost of $4, which is within your remaining balance of $4."
      ],
      "text/plain": [
       "<IPython.core.display.Markdown object>"
      ]
     },
     "metadata": {},
     "output_type": "display_data"
    },
    {
     "name": "stdout",
     "output_type": "stream",
     "text": [
      "-----------------------------------------------------\n"
     ]
    },
    {
     "data": {
      "text/markdown": [
       "user: {\"calculate remaining balance\": \"return the availble balance after buying\"}"
      ],
      "text/plain": [
       "<IPython.core.display.Markdown object>"
      ]
     },
     "metadata": {},
     "output_type": "display_data"
    },
    {
     "data": {
      "text/markdown": [
       "assistant: 0"
      ],
      "text/plain": [
       "<IPython.core.display.Markdown object>"
      ]
     },
     "metadata": {},
     "output_type": "display_data"
    },
    {
     "name": "stdout",
     "output_type": "stream",
     "text": [
      "-----------------------------------------------------\n"
     ]
    },
    {
     "data": {
      "text/markdown": [
       "user: {\"summary\": \"Provide a summry of items you bought with the remaining balance\"}"
      ],
      "text/plain": [
       "<IPython.core.display.Markdown object>"
      ]
     },
     "metadata": {},
     "output_type": "display_data"
    },
    {
     "data": {
      "text/markdown": [
       "assistant: With your initial balance, you purchased 2 notebooks for a total of $16, leaving you with $4. You then used this remaining balance to buy 2 pencils for $4, fully utilizing your funds."
      ],
      "text/plain": [
       "<IPython.core.display.Markdown object>"
      ]
     },
     "metadata": {},
     "output_type": "display_data"
    },
    {
     "name": "stdout",
     "output_type": "stream",
     "text": [
      "-----------------------------------------------------\n"
     ]
    }
   ],
   "source": [
    "result = await assistant.execute(context={\"balance\": 20})"
   ]
  },
  {
   "cell_type": "code",
   "execution_count": 17,
   "metadata": {},
   "outputs": [
    {
     "data": {
      "text/plain": [
       "'With your initial balance, you purchased 2 notebooks for a total of $16, leaving you with $4. You then used this remaining balance to buy 2 pencils for $4, fully utilizing your funds.'"
      ]
     },
     "execution_count": 17,
     "metadata": {},
     "output_type": "execute_result"
    }
   ],
   "source": [
    "result[0]"
   ]
  },
  {
   "cell_type": "code",
   "execution_count": 18,
   "metadata": {},
   "outputs": [
    {
     "data": {
      "text/plain": [
       "'You purchased 2 notebooks for a total of $16. The remaining balance is $4.'"
      ]
     },
     "execution_count": 18,
     "metadata": {},
     "output_type": "execute_result"
    }
   ],
   "source": [
    "result[1]"
   ]
  },
  {
   "cell_type": "markdown",
   "metadata": {},
   "source": [
    "# Store Structure"
   ]
  },
  {
   "cell_type": "markdown",
   "metadata": {},
   "source": [
    "### Excel"
   ]
  },
  {
   "cell_type": "code",
   "execution_count": 19,
   "metadata": {},
   "outputs": [],
   "source": [
    "shopping.to_excel(\"shopping\")"
   ]
  },
  {
   "cell_type": "markdown",
   "metadata": {},
   "source": [
    "### Neo4j"
   ]
  },
  {
   "cell_type": "code",
   "execution_count": 20,
   "metadata": {},
   "outputs": [],
   "source": [
    "uri = \"bolt://localhost:7687\"\n",
    "user = \"neo4j\"\n",
    "password = \"12345678\"\n",
    "database = \"neo4j\"\n",
    "\n",
    "from lionagi.integrations.storage.neo4j import Neo4j\n",
    "neo4j = Neo4j(uri, user, password, database)"
   ]
  },
  {
   "cell_type": "code",
   "execution_count": 22,
   "metadata": {},
   "outputs": [],
   "source": [
    "await neo4j.store(shopping, structure_name='shopping')"
   ]
  }
 ],
 "metadata": {
  "kernelspec": {
   "display_name": ".venv",
   "language": "python",
   "name": "python3"
  },
  "language_info": {
   "codemirror_mode": {
    "name": "ipython",
    "version": 3
   },
   "file_extension": ".py",
   "mimetype": "text/x-python",
   "name": "python",
   "nbconvert_exporter": "python",
   "pygments_lexer": "ipython3",
   "version": "3.12.1"
  }
 },
 "nbformat": 4,
 "nbformat_minor": 2
}
