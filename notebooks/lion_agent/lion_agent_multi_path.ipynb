{
 "cells": [
  {
   "cell_type": "code",
   "execution_count": 1,
   "metadata": {},
   "outputs": [],
   "source": [
    "from lionagi.core import System, Instruction\n",
    "from lionagi.core.execute.structure_executor import StructureExecutor\n",
    "from lionagi.core.execute.instruction_map_executor import InstructionMapExecutor\n",
    "from lionagi.core.agent.base_agent import BaseAgent"
   ]
  },
  {
   "cell_type": "code",
   "execution_count": 2,
   "metadata": {},
   "outputs": [],
   "source": [
    "# let us use a simple calculator as an example\n",
    "# in this example, we will have two sets of instructions with different step 1 but same step 2.\n",
    "# given two numbers, the first step would be calculating both sum and diff in parallel\n",
    "# and second step would be choosing between times or plus based on the sign of the first step\n",
    "\n",
    "system = System(\n",
    "    \"You are asked to perform as a calculator. Return only a numeric value, i.e. int or float, no text.\"\n",
    ")\n",
    "\n",
    "instruct1 = Instruction(\n",
    "    instruction={\n",
    "        \"sum the absolute values\": \"provided with 2 numbers, return the sum of their absolute values. i.e. |x|+|y|\",\n",
    "    }\n",
    ")\n",
    "\n",
    "instruct2 = Instruction(\n",
    "    instruction={\n",
    "        \"diff the absolute values\": \"provided with 2 numbers, return the difference of absolute values. i.e. |x|-|y|\",\n",
    "    }\n",
    ")\n",
    "\n",
    "instruct3 = Instruction(\n",
    "    instruction={\n",
    "        \"if previous response is positive\": \"times 2. i.e. *2\",\n",
    "        \"else\": \"plus 2. i.e. +2\",\n",
    "    }\n",
    ")"
   ]
  },
  {
   "cell_type": "code",
   "execution_count": 3,
   "metadata": {},
   "outputs": [],
   "source": [
    "struct_multi = StructureExecutor()\n",
    "struct_multi.add_node(system)\n",
    "struct_multi.add_node(instruct1)\n",
    "struct_multi.add_node(instruct2)\n",
    "struct_multi.add_node(instruct3)\n",
    "\n",
    "struct_multi.relate_nodes(system, instruct1)\n",
    "struct_multi.relate_nodes(system, instruct2)\n",
    "struct_multi.relate_nodes(instruct1, instruct3)\n",
    "struct_multi.relate_nodes(instruct2, instruct3)"
   ]
  },
  {
   "cell_type": "code",
   "execution_count": 4,
   "metadata": {},
   "outputs": [
    {
     "data": {
      "image/png": "[encoded data removed]",
      "text/plain": [
       "<Figure size 640x480 with 1 Axes>"
      ]
     },
     "metadata": {},
     "output_type": "display_data"
    }
   ],
   "source": [
    "import networkx as nx\n",
    "import matplotlib.pyplot as plt\n",
    "\n",
    "g = struct_multi.to_networkx()\n",
    "labels = nx.get_node_attributes(g, \"class_name\")\n",
    "nx.draw(g, labels=labels)"
   ]
  },
  {
   "cell_type": "code",
   "execution_count": 5,
   "metadata": {},
   "outputs": [],
   "source": [
    "## output_parser parameter: agent self\n",
    "## output_parser return: the expected result that should be returned after execution\n",
    "def output_parser(agent):\n",
    "    ## return all message dataframe in all branches\n",
    "    output = []\n",
    "    for branch in agent.executable.branches.values():\n",
    "        output.append(branch.messages)\n",
    "    return output\n",
    "\n",
    "executable = InstructionMapExecutor()"
   ]
  },
  {
   "cell_type": "code",
   "execution_count": 6,
   "metadata": {},
   "outputs": [],
   "source": [
    "calculator = BaseAgent(structure=struct_multi, executable=executable, output_parser=output_parser)"
   ]
  },
  {
   "cell_type": "code",
   "execution_count": 7,
   "metadata": {},
   "outputs": [
    {
     "name": "stdout",
     "output_type": "stream",
     "text": [
      "------------------Welcome: system--------------------\n"
     ]
    },
    {
     "data": {
      "text/markdown": [
       "system: You are asked to perform as a calculator. Return only a numeric value, i.e. int or float, no text."
      ],
      "text/plain": [
       "<IPython.core.display.Markdown object>"
      ]
     },
     "metadata": {},
     "output_type": "display_data"
    },
    {
     "data": {
      "text/markdown": [
       "user: {\"sum the absolute values\": \"provided with 2 numbers, return the sum of their absolute values. i.e. |x|+|y|\"}"
      ],
      "text/plain": [
       "<IPython.core.display.Markdown object>"
      ]
     },
     "metadata": {},
     "output_type": "display_data"
    },
    {
     "data": {
      "text/markdown": [
       "user: {\"diff the absolute values\": \"provided with 2 numbers, return the difference of absolute values. i.e. |x|-|y|\"}"
      ],
      "text/plain": [
       "<IPython.core.display.Markdown object>"
      ]
     },
     "metadata": {},
     "output_type": "display_data"
    },
    {
     "data": {
      "text/markdown": [
       "assistant: 5"
      ],
      "text/plain": [
       "<IPython.core.display.Markdown object>"
      ]
     },
     "metadata": {},
     "output_type": "display_data"
    },
    {
     "name": "stdout",
     "output_type": "stream",
     "text": [
      "-----------------------------------------------------\n"
     ]
    },
    {
     "data": {
      "text/markdown": [
       "assistant: 1"
      ],
      "text/plain": [
       "<IPython.core.display.Markdown object>"
      ]
     },
     "metadata": {},
     "output_type": "display_data"
    },
    {
     "name": "stdout",
     "output_type": "stream",
     "text": [
      "-----------------------------------------------------\n"
     ]
    },
    {
     "data": {
      "text/markdown": [
       "user: {\"if previous response is positive\": \"times 2. i.e. *2\", \"else\": \"plus 2. i.e. +2\"}"
      ],
      "text/plain": [
       "<IPython.core.display.Markdown object>"
      ]
     },
     "metadata": {},
     "output_type": "display_data"
    },
    {
     "data": {
      "text/markdown": [
       "user: {\"if previous response is positive\": \"times 2. i.e. *2\", \"else\": \"plus 2. i.e. +2\"}"
      ],
      "text/plain": [
       "<IPython.core.display.Markdown object>"
      ]
     },
     "metadata": {},
     "output_type": "display_data"
    },
    {
     "data": {
      "text/markdown": [
       "assistant: 2"
      ],
      "text/plain": [
       "<IPython.core.display.Markdown object>"
      ]
     },
     "metadata": {},
     "output_type": "display_data"
    },
    {
     "name": "stdout",
     "output_type": "stream",
     "text": [
      "-----------------------------------------------------\n"
     ]
    },
    {
     "data": {
      "text/markdown": [
       "assistant: 10"
      ],
      "text/plain": [
       "<IPython.core.display.Markdown object>"
      ]
     },
     "metadata": {},
     "output_type": "display_data"
    },
    {
     "name": "stdout",
     "output_type": "stream",
     "text": [
      "-----------------------------------------------------\n"
     ]
    }
   ],
   "source": [
    "result = await calculator.execute(context={\"x\": 2, \"y\": 3})"
   ]
  },
  {
   "cell_type": "code",
   "execution_count": 8,
   "metadata": {},
   "outputs": [
    {
     "data": {
      "text/html": [
       "<div>\n",
       "<style scoped>\n",
       "    .dataframe tbody tr th:only-of-type {\n",
       "        vertical-align: middle;\n",
       "    }\n",
       "\n",
       "    .dataframe tbody tr th {\n",
       "        vertical-align: top;\n",
       "    }\n",
       "\n",
       "    .dataframe thead th {\n",
       "        text-align: right;\n",
       "    }\n",
       "</style>\n",
       "<table border=\"1\" class=\"dataframe\">\n",
       "  <thead>\n",
       "    <tr style=\"text-align: right;\">\n",
       "      <th></th>\n",
       "      <th>node_id</th>\n",
       "      <th>timestamp</th>\n",
       "      <th>role</th>\n",
       "      <th>sender</th>\n",
       "      <th>recipient</th>\n",
       "      <th>content</th>\n",
       "    </tr>\n",
       "  </thead>\n",
       "  <tbody>\n",
       "    <tr>\n",
       "      <th>0</th>\n",
       "      <td>1c6296e1ad5a4a228415cc88613ae381</td>\n",
       "      <td>2024-04-22T02:07:27.750678+00:00</td>\n",
       "      <td>system</td>\n",
       "      <td>system</td>\n",
       "      <td>assistant</td>\n",
       "      <td>{\"system_info\": \"You are asked to perform as a...</td>\n",
       "    </tr>\n",
       "    <tr>\n",
       "      <th>1</th>\n",
       "      <td>84429af397b0c50792a2c6122ff7f5b9</td>\n",
       "      <td>2024-04-22T02:07:27.751005+00:00</td>\n",
       "      <td>user</td>\n",
       "      <td>user</td>\n",
       "      <td>assistant</td>\n",
       "      <td>{\"instruction\": {\"sum the absolute values\": \"p...</td>\n",
       "    </tr>\n",
       "    <tr>\n",
       "      <th>2</th>\n",
       "      <td>7bec339c9a8745391e16fbac2da702b8</td>\n",
       "      <td>2024-04-22T02:07:29.929308+00:00</td>\n",
       "      <td>assistant</td>\n",
       "      <td>assistant</td>\n",
       "      <td>user</td>\n",
       "      <td>{\"response\": \"5\"}</td>\n",
       "    </tr>\n",
       "    <tr>\n",
       "      <th>3</th>\n",
       "      <td>78765b8d4f02b2d6bcb455166ba50e07</td>\n",
       "      <td>2024-04-22T02:07:27.751362+00:00</td>\n",
       "      <td>user</td>\n",
       "      <td>user</td>\n",
       "      <td>assistant</td>\n",
       "      <td>{\"instruction\": {\"if previous response is posi...</td>\n",
       "    </tr>\n",
       "    <tr>\n",
       "      <th>4</th>\n",
       "      <td>a2ecc4a6933d545ef94bd61cd77267cb</td>\n",
       "      <td>2024-04-22T02:07:30.938150+00:00</td>\n",
       "      <td>assistant</td>\n",
       "      <td>assistant</td>\n",
       "      <td>user</td>\n",
       "      <td>{\"response\": \"10\"}</td>\n",
       "    </tr>\n",
       "  </tbody>\n",
       "</table>\n",
       "</div>"
      ],
      "text/plain": [
       "                            node_id                         timestamp  \\\n",
       "0  1c6296e1ad5a4a228415cc88613ae381  2024-04-22T02:07:27.750678+00:00   \n",
       "1  84429af397b0c50792a2c6122ff7f5b9  2024-04-22T02:07:27.751005+00:00   \n",
       "2  7bec339c9a8745391e16fbac2da702b8  2024-04-22T02:07:29.929308+00:00   \n",
       "3  78765b8d4f02b2d6bcb455166ba50e07  2024-04-22T02:07:27.751362+00:00   \n",
       "4  a2ecc4a6933d545ef94bd61cd77267cb  2024-04-22T02:07:30.938150+00:00   \n",
       "\n",
       "        role     sender  recipient  \\\n",
       "0     system     system  assistant   \n",
       "1       user       user  assistant   \n",
       "2  assistant  assistant       user   \n",
       "3       user       user  assistant   \n",
       "4  assistant  assistant       user   \n",
       "\n",
       "                                             content  \n",
       "0  {\"system_info\": \"You are asked to perform as a...  \n",
       "1  {\"instruction\": {\"sum the absolute values\": \"p...  \n",
       "2                                  {\"response\": \"5\"}  \n",
       "3  {\"instruction\": {\"if previous response is posi...  \n",
       "4                                 {\"response\": \"10\"}  "
      ]
     },
     "execution_count": 8,
     "metadata": {},
     "output_type": "execute_result"
    }
   ],
   "source": [
    "result[0]"
   ]
  },
  {
   "cell_type": "code",
   "execution_count": 9,
   "metadata": {},
   "outputs": [
    {
     "data": {
      "text/html": [
       "<div>\n",
       "<style scoped>\n",
       "    .dataframe tbody tr th:only-of-type {\n",
       "        vertical-align: middle;\n",
       "    }\n",
       "\n",
       "    .dataframe tbody tr th {\n",
       "        vertical-align: top;\n",
       "    }\n",
       "\n",
       "    .dataframe thead th {\n",
       "        text-align: right;\n",
       "    }\n",
       "</style>\n",
       "<table border=\"1\" class=\"dataframe\">\n",
       "  <thead>\n",
       "    <tr style=\"text-align: right;\">\n",
       "      <th></th>\n",
       "      <th>node_id</th>\n",
       "      <th>timestamp</th>\n",
       "      <th>role</th>\n",
       "      <th>sender</th>\n",
       "      <th>recipient</th>\n",
       "      <th>content</th>\n",
       "    </tr>\n",
       "  </thead>\n",
       "  <tbody>\n",
       "    <tr>\n",
       "      <th>0</th>\n",
       "      <td>1c6296e1ad5a4a228415cc88613ae381</td>\n",
       "      <td>2024-04-22T02:07:27.750678+00:00</td>\n",
       "      <td>system</td>\n",
       "      <td>system</td>\n",
       "      <td>assistant</td>\n",
       "      <td>{\"system_info\": \"You are asked to perform as a...</td>\n",
       "    </tr>\n",
       "    <tr>\n",
       "      <th>1</th>\n",
       "      <td>371cc8b7eff6daaa40517cfc54912e39</td>\n",
       "      <td>2024-04-22T02:07:27.751098+00:00</td>\n",
       "      <td>user</td>\n",
       "      <td>user</td>\n",
       "      <td>assistant</td>\n",
       "      <td>{\"instruction\": {\"diff the absolute values\": \"...</td>\n",
       "    </tr>\n",
       "    <tr>\n",
       "      <th>2</th>\n",
       "      <td>5950bf473738c35a8501820e97225312</td>\n",
       "      <td>2024-04-22T02:07:29.966995+00:00</td>\n",
       "      <td>assistant</td>\n",
       "      <td>assistant</td>\n",
       "      <td>user</td>\n",
       "      <td>{\"response\": \"1\"}</td>\n",
       "    </tr>\n",
       "    <tr>\n",
       "      <th>3</th>\n",
       "      <td>78765b8d4f02b2d6bcb455166ba50e07</td>\n",
       "      <td>2024-04-22T02:07:27.751362+00:00</td>\n",
       "      <td>user</td>\n",
       "      <td>user</td>\n",
       "      <td>assistant</td>\n",
       "      <td>{\"instruction\": {\"if previous response is posi...</td>\n",
       "    </tr>\n",
       "    <tr>\n",
       "      <th>4</th>\n",
       "      <td>8d5b40cacb7c494766eda6b81fe43581</td>\n",
       "      <td>2024-04-22T02:07:30.776262+00:00</td>\n",
       "      <td>assistant</td>\n",
       "      <td>assistant</td>\n",
       "      <td>user</td>\n",
       "      <td>{\"response\": \"2\"}</td>\n",
       "    </tr>\n",
       "  </tbody>\n",
       "</table>\n",
       "</div>"
      ],
      "text/plain": [
       "                            node_id                         timestamp  \\\n",
       "0  1c6296e1ad5a4a228415cc88613ae381  2024-04-22T02:07:27.750678+00:00   \n",
       "1  371cc8b7eff6daaa40517cfc54912e39  2024-04-22T02:07:27.751098+00:00   \n",
       "2  5950bf473738c35a8501820e97225312  2024-04-22T02:07:29.966995+00:00   \n",
       "3  78765b8d4f02b2d6bcb455166ba50e07  2024-04-22T02:07:27.751362+00:00   \n",
       "4  8d5b40cacb7c494766eda6b81fe43581  2024-04-22T02:07:30.776262+00:00   \n",
       "\n",
       "        role     sender  recipient  \\\n",
       "0     system     system  assistant   \n",
       "1       user       user  assistant   \n",
       "2  assistant  assistant       user   \n",
       "3       user       user  assistant   \n",
       "4  assistant  assistant       user   \n",
       "\n",
       "                                             content  \n",
       "0  {\"system_info\": \"You are asked to perform as a...  \n",
       "1  {\"instruction\": {\"diff the absolute values\": \"...  \n",
       "2                                  {\"response\": \"1\"}  \n",
       "3  {\"instruction\": {\"if previous response is posi...  \n",
       "4                                  {\"response\": \"2\"}  "
      ]
     },
     "execution_count": 9,
     "metadata": {},
     "output_type": "execute_result"
    }
   ],
   "source": [
    "result[1]"
   ]
  },
  {
   "cell_type": "markdown",
   "metadata": {},
   "source": [
    "# Storing Structures\n",
    "\n",
    "We currently support the storage of structures in excel or Neo4j, enabling their reuse in future applications."
   ]
  },
  {
   "cell_type": "markdown",
   "metadata": {},
   "source": [
    "### Excel"
   ]
  },
  {
   "cell_type": "code",
   "execution_count": null,
   "metadata": {},
   "outputs": [],
   "source": [
    "struct_multi.to_excel('math_multi')"
   ]
  },
  {
   "cell_type": "markdown",
   "metadata": {},
   "source": [
    "### Neo4j"
   ]
  },
  {
   "cell_type": "code",
   "execution_count": 10,
   "metadata": {},
   "outputs": [],
   "source": [
    "# initiate Neo4j Driver\n",
    "uri = \"bolt://localhost:7687\"\n",
    "user = \"neo4j\"\n",
    "password = \"12345678\"\n",
    "database = \"neo4j\"\n",
    "\n",
    "from lionagi.integrations.storage.neo4j import Neo4j\n",
    "neo4j = Neo4j(uri, user, password, database)"
   ]
  },
  {
   "cell_type": "code",
   "execution_count": 11,
   "metadata": {},
   "outputs": [],
   "source": [
    "# structure_name is unique\n",
    "\n",
    "await neo4j.store(struct_multi, structure_name='math_multi')"
   ]
  }
 ],
 "metadata": {
  "kernelspec": {
   "display_name": ".venv",
   "language": "python",
   "name": "python3"
  },
  "language_info": {
   "codemirror_mode": {
    "name": "ipython",
    "version": 3
   },
   "file_extension": ".py",
   "mimetype": "text/x-python",
   "name": "python",
   "nbconvert_exporter": "python",
   "pygments_lexer": "ipython3",
   "version": "3.12.1"
  }
 },
 "nbformat": 4,
 "nbformat_minor": 2
}
