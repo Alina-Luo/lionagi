{
 "cells": [
  {
   "cell_type": "code",
   "execution_count": 1,
   "metadata": {},
   "outputs": [],
   "source": [
    "from lionagi.core.message import System, Instruction\n",
    "from lionagi.core.executor.graph_executor import GraphExecutor\n",
    "from lionagi.core.engine.instruction_map_engine import InstructionMapEngine\n",
    "from lionagi.core.agent.base_agent import BaseAgent"
   ]
  },
  {
   "cell_type": "code",
   "execution_count": 2,
   "metadata": {},
   "outputs": [],
   "source": [
    "# let us use a simple calculator as an example\n",
    "# in this example, we will have two sets of instructions with different step 1 but same step 2.\n",
    "# given two numbers, the first step would be calculating both sum and diff in parallel\n",
    "# and second step would be choosing between times or plus based on the sign of the first step\n",
    "\n",
    "system = System(\n",
    "    \"You are asked to perform as a calculator. Return only a numeric value, i.e. int or float, no text.\"\n",
    ")\n",
    "\n",
    "instruct1 = Instruction(\n",
    "    instruction={\n",
    "        \"sum the absolute values\": \"provided with 2 numbers, return the sum of their absolute values. i.e. |x|+|y|\",\n",
    "    }\n",
    ")\n",
    "\n",
    "instruct2 = Instruction(\n",
    "    instruction={\n",
    "        \"diff the absolute values\": \"provided with 2 numbers, return the difference of absolute values. i.e. |x|-|y|\",\n",
    "    }\n",
    ")\n",
    "\n",
    "instruct3 = Instruction(\n",
    "    instruction={\n",
    "        \"if previous response is positive\": \"times 2. i.e. *2\",\n",
    "        \"else\": \"plus 2. i.e. +2\",\n",
    "    }\n",
    ")"
   ]
  },
  {
   "cell_type": "code",
   "execution_count": 3,
   "metadata": {},
   "outputs": [],
   "source": [
    "graph_multi = GraphExecutor()\n",
    "graph_multi.add_node(system)\n",
    "graph_multi.add_node(instruct1)\n",
    "graph_multi.add_node(instruct2)\n",
    "graph_multi.add_node(instruct3)\n",
    "\n",
    "graph_multi.add_edge(system, instruct1)\n",
    "graph_multi.add_edge(system, instruct2)\n",
    "graph_multi.add_edge(instruct1, instruct3)\n",
    "graph_multi.add_edge(instruct2, instruct3)"
   ]
  },
  {
   "cell_type": "code",
   "execution_count": 4,
   "metadata": {},
   "outputs": [
    {
     "data": {
      "image/png": "[encoded data removed]",
      "text/plain": [
       "<Figure size 640x480 with 1 Axes>"
      ]
     },
     "metadata": {},
     "output_type": "display_data"
    }
   ],
   "source": [
    "graph_multi.display()"
   ]
  },
  {
   "cell_type": "code",
   "execution_count": 5,
   "metadata": {},
   "outputs": [],
   "source": [
    "## output_parser parameter: agent self\n",
    "## output_parser return: the expected result that should be returned after execution\n",
    "def output_parser(agent):\n",
    "    ## return all message dataframe in all branches\n",
    "    output = []\n",
    "    for branch in agent.executable.branches.values():\n",
    "        output.append(branch.to_df())\n",
    "    return output\n",
    "\n",
    "\n",
    "executable = InstructionMapEngine()"
   ]
  },
  {
   "cell_type": "code",
   "execution_count": 6,
   "metadata": {},
   "outputs": [],
   "source": [
    "calculator = BaseAgent(\n",
    "    structure=graph_multi, executable=executable, output_parser=output_parser\n",
    ")"
   ]
  },
  {
   "cell_type": "code",
   "execution_count": 7,
   "metadata": {},
   "outputs": [
    {
     "name": "stdout",
     "output_type": "stream",
     "text": [
      "------------------Welcome: system--------------------\n"
     ]
    },
    {
     "data": {
      "text/markdown": [
       "system: You are asked to perform as a calculator. Return only a numeric value, i.e. int or float, no text."
      ],
      "text/plain": [
       "<IPython.core.display.Markdown object>"
      ]
     },
     "metadata": {},
     "output_type": "display_data"
    },
    {
     "data": {
      "text/markdown": [
       "user: {\"sum the absolute values\": \"provided with 2 numbers, return the sum of their absolute values. i.e. |x|+|y|\"}"
      ],
      "text/plain": [
       "<IPython.core.display.Markdown object>"
      ]
     },
     "metadata": {},
     "output_type": "display_data"
    },
    {
     "data": {
      "text/markdown": [
       "user: {\"diff the absolute values\": \"provided with 2 numbers, return the difference of absolute values. i.e. |x|-|y|\"}"
      ],
      "text/plain": [
       "<IPython.core.display.Markdown object>"
      ]
     },
     "metadata": {},
     "output_type": "display_data"
    },
    {
     "data": {
      "text/markdown": [
       "assistant 31b135ce3ab2a50f58ea5aa7a1a4a29e: {\"x\": -3, \"y\": 4}"
      ],
      "text/plain": [
       "<IPython.core.display.Markdown object>"
      ]
     },
     "metadata": {},
     "output_type": "display_data"
    },
    {
     "name": "stdout",
     "output_type": "stream",
     "text": [
      "-----------------------------------------------------\n"
     ]
    },
    {
     "data": {
      "text/markdown": [
       "assistant 18cd4d273cd00bf04334e50a5c8371ef: {\"role\": \"assistant\", \"content\": \"\"}"
      ],
      "text/plain": [
       "<IPython.core.display.Markdown object>"
      ]
     },
     "metadata": {},
     "output_type": "display_data"
    },
    {
     "name": "stdout",
     "output_type": "stream",
     "text": [
      "-----------------------------------------------------\n"
     ]
    },
    {
     "data": {
      "text/markdown": [
       "user: {\"if previous response is positive\": \"times 2. i.e. *2\", \"else\": \"plus 2. i.e. +2\"}"
      ],
      "text/plain": [
       "<IPython.core.display.Markdown object>"
      ]
     },
     "metadata": {},
     "output_type": "display_data"
    },
    {
     "data": {
      "text/markdown": [
       "user: {\"if previous response is positive\": \"times 2. i.e. *2\", \"else\": \"plus 2. i.e. +2\"}"
      ],
      "text/plain": [
       "<IPython.core.display.Markdown object>"
      ]
     },
     "metadata": {},
     "output_type": "display_data"
    },
    {
     "data": {
      "text/markdown": [
       "assistant 31b135ce3ab2a50f58ea5aa7a1a4a29e: 14"
      ],
      "text/plain": [
       "<IPython.core.display.Markdown object>"
      ]
     },
     "metadata": {},
     "output_type": "display_data"
    },
    {
     "name": "stdout",
     "output_type": "stream",
     "text": [
      "-----------------------------------------------------\n"
     ]
    },
    {
     "data": {
      "text/markdown": [
       "assistant 18cd4d273cd00bf04334e50a5c8371ef: Understood. Please provide the two numbers."
      ],
      "text/plain": [
       "<IPython.core.display.Markdown object>"
      ]
     },
     "metadata": {},
     "output_type": "display_data"
    },
    {
     "name": "stdout",
     "output_type": "stream",
     "text": [
      "-----------------------------------------------------\n"
     ]
    }
   ],
   "source": [
    "result = await calculator.execute(context={\"x\": 2, \"y\": 3})"
   ]
  },
  {
   "cell_type": "code",
   "execution_count": 8,
   "metadata": {},
   "outputs": [
    {
     "data": {
      "text/html": [
       "<div>\n",
       "<style scoped>\n",
       "    .dataframe tbody tr th:only-of-type {\n",
       "        vertical-align: middle;\n",
       "    }\n",
       "\n",
       "    .dataframe tbody tr th {\n",
       "        vertical-align: top;\n",
       "    }\n",
       "\n",
       "    .dataframe thead th {\n",
       "        text-align: right;\n",
       "    }\n",
       "</style>\n",
       "<table border=\"1\" class=\"dataframe\">\n",
       "  <thead>\n",
       "    <tr style=\"text-align: right;\">\n",
       "      <th></th>\n",
       "      <th>ln_id</th>\n",
       "      <th>message_type</th>\n",
       "      <th>timestamp</th>\n",
       "      <th>role</th>\n",
       "      <th>content</th>\n",
       "      <th>metadata</th>\n",
       "      <th>sender</th>\n",
       "      <th>recipient</th>\n",
       "    </tr>\n",
       "  </thead>\n",
       "  <tbody>\n",
       "    <tr>\n",
       "      <th>0</th>\n",
       "      <td>0c442a440aa34300b3531ae64790485e</td>\n",
       "      <td>System</td>\n",
       "      <td>2024-05-24T00:41:57.150440</td>\n",
       "      <td>system</td>\n",
       "      <td>{'system_info': 'You are asked to perform as a...</td>\n",
       "      <td>{'last_updated': {'recipient': '2024-05-24T00:...</td>\n",
       "      <td>system</td>\n",
       "      <td>31b135ce3ab2a50f58ea5aa7a1a4a29e</td>\n",
       "    </tr>\n",
       "    <tr>\n",
       "      <th>1</th>\n",
       "      <td>e3e305731eb62712b83902c677648f64</td>\n",
       "      <td>Instruction</td>\n",
       "      <td>2024-05-24T00:42:54.988742</td>\n",
       "      <td>user</td>\n",
       "      <td>{'instruction': {'sum the absolute values': 'p...</td>\n",
       "      <td>{'last_updated': {'sender': '2024-05-24T00:42:...</td>\n",
       "      <td>user</td>\n",
       "      <td>31b135ce3ab2a50f58ea5aa7a1a4a29e</td>\n",
       "    </tr>\n",
       "    <tr>\n",
       "      <th>2</th>\n",
       "      <td>eb47980f40ccf7db5f852086f91280bc</td>\n",
       "      <td>AssistantResponse</td>\n",
       "      <td>2024-05-24T00:42:55.988001</td>\n",
       "      <td>assistant</td>\n",
       "      <td>{'assistant_response': '{\"x\": -3, \"y\": 4}'}</td>\n",
       "      <td>{'last_updated': {'sender': '2024-05-24T00:42:...</td>\n",
       "      <td>31b135ce3ab2a50f58ea5aa7a1a4a29e</td>\n",
       "      <td>user</td>\n",
       "    </tr>\n",
       "    <tr>\n",
       "      <th>3</th>\n",
       "      <td>76cbc80a45e932a57a9213ac3f04be6e</td>\n",
       "      <td>Instruction</td>\n",
       "      <td>2024-05-24T00:42:56.823892</td>\n",
       "      <td>user</td>\n",
       "      <td>{'instruction': {'if previous response is posi...</td>\n",
       "      <td>{'last_updated': {'sender': '2024-05-24T00:42:...</td>\n",
       "      <td>user</td>\n",
       "      <td>31b135ce3ab2a50f58ea5aa7a1a4a29e</td>\n",
       "    </tr>\n",
       "    <tr>\n",
       "      <th>4</th>\n",
       "      <td>837e17defbd0ae22db6654e4c4b69af0</td>\n",
       "      <td>AssistantResponse</td>\n",
       "      <td>2024-05-24T00:42:57.511016</td>\n",
       "      <td>assistant</td>\n",
       "      <td>{'assistant_response': '14'}</td>\n",
       "      <td>{'last_updated': {'sender': '2024-05-24T00:42:...</td>\n",
       "      <td>31b135ce3ab2a50f58ea5aa7a1a4a29e</td>\n",
       "      <td>user</td>\n",
       "    </tr>\n",
       "  </tbody>\n",
       "</table>\n",
       "</div>"
      ],
      "text/plain": [
       "                              ln_id       message_type  \\\n",
       "0  0c442a440aa34300b3531ae64790485e             System   \n",
       "1  e3e305731eb62712b83902c677648f64        Instruction   \n",
       "2  eb47980f40ccf7db5f852086f91280bc  AssistantResponse   \n",
       "3  76cbc80a45e932a57a9213ac3f04be6e        Instruction   \n",
       "4  837e17defbd0ae22db6654e4c4b69af0  AssistantResponse   \n",
       "\n",
       "                    timestamp       role  \\\n",
       "0  2024-05-24T00:41:57.150440     system   \n",
       "1  2024-05-24T00:42:54.988742       user   \n",
       "2  2024-05-24T00:42:55.988001  assistant   \n",
       "3  2024-05-24T00:42:56.823892       user   \n",
       "4  2024-05-24T00:42:57.511016  assistant   \n",
       "\n",
       "                                             content  \\\n",
       "0  {'system_info': 'You are asked to perform as a...   \n",
       "1  {'instruction': {'sum the absolute values': 'p...   \n",
       "2        {'assistant_response': '{\"x\": -3, \"y\": 4}'}   \n",
       "3  {'instruction': {'if previous response is posi...   \n",
       "4                       {'assistant_response': '14'}   \n",
       "\n",
       "                                            metadata  \\\n",
       "0  {'last_updated': {'recipient': '2024-05-24T00:...   \n",
       "1  {'last_updated': {'sender': '2024-05-24T00:42:...   \n",
       "2  {'last_updated': {'sender': '2024-05-24T00:42:...   \n",
       "3  {'last_updated': {'sender': '2024-05-24T00:42:...   \n",
       "4  {'last_updated': {'sender': '2024-05-24T00:42:...   \n",
       "\n",
       "                             sender                         recipient  \n",
       "0                            system  31b135ce3ab2a50f58ea5aa7a1a4a29e  \n",
       "1                              user  31b135ce3ab2a50f58ea5aa7a1a4a29e  \n",
       "2  31b135ce3ab2a50f58ea5aa7a1a4a29e                              user  \n",
       "3                              user  31b135ce3ab2a50f58ea5aa7a1a4a29e  \n",
       "4  31b135ce3ab2a50f58ea5aa7a1a4a29e                              user  "
      ]
     },
     "execution_count": 8,
     "metadata": {},
     "output_type": "execute_result"
    }
   ],
   "source": [
    "result[0]"
   ]
  },
  {
   "cell_type": "code",
   "execution_count": 9,
   "metadata": {},
   "outputs": [
    {
     "data": {
      "text/html": [
       "<div>\n",
       "<style scoped>\n",
       "    .dataframe tbody tr th:only-of-type {\n",
       "        vertical-align: middle;\n",
       "    }\n",
       "\n",
       "    .dataframe tbody tr th {\n",
       "        vertical-align: top;\n",
       "    }\n",
       "\n",
       "    .dataframe thead th {\n",
       "        text-align: right;\n",
       "    }\n",
       "</style>\n",
       "<table border=\"1\" class=\"dataframe\">\n",
       "  <thead>\n",
       "    <tr style=\"text-align: right;\">\n",
       "      <th></th>\n",
       "      <th>ln_id</th>\n",
       "      <th>message_type</th>\n",
       "      <th>timestamp</th>\n",
       "      <th>role</th>\n",
       "      <th>content</th>\n",
       "      <th>metadata</th>\n",
       "      <th>sender</th>\n",
       "      <th>recipient</th>\n",
       "    </tr>\n",
       "  </thead>\n",
       "  <tbody>\n",
       "    <tr>\n",
       "      <th>0</th>\n",
       "      <td>d090ded9d89e75a60ddf3c4db4a2d79f</td>\n",
       "      <td>System</td>\n",
       "      <td>2024-05-24T00:42:54.981206</td>\n",
       "      <td>system</td>\n",
       "      <td>{'system_info': 'You are asked to perform as a...</td>\n",
       "      <td>{'origin_ln_id': '0c442a440aa34300b3531ae64790...</td>\n",
       "      <td>31b135ce3ab2a50f58ea5aa7a1a4a29e</td>\n",
       "      <td>18cd4d273cd00bf04334e50a5c8371ef</td>\n",
       "    </tr>\n",
       "    <tr>\n",
       "      <th>1</th>\n",
       "      <td>fc182cff2a5f67ddf1195c38ee29d35f</td>\n",
       "      <td>Instruction</td>\n",
       "      <td>2024-05-24T00:42:55.214439</td>\n",
       "      <td>user</td>\n",
       "      <td>{'instruction': {'diff the absolute values': '...</td>\n",
       "      <td>{'last_updated': {'sender': '2024-05-24T00:42:...</td>\n",
       "      <td>user</td>\n",
       "      <td>18cd4d273cd00bf04334e50a5c8371ef</td>\n",
       "    </tr>\n",
       "    <tr>\n",
       "      <th>2</th>\n",
       "      <td>b45a0ca7d348f73d6c190123b3567d32</td>\n",
       "      <td>AssistantResponse</td>\n",
       "      <td>2024-05-24T00:42:56.412278</td>\n",
       "      <td>assistant</td>\n",
       "      <td>{'assistant_response': ''}</td>\n",
       "      <td>{'last_updated': {'sender': '2024-05-24T00:42:...</td>\n",
       "      <td>18cd4d273cd00bf04334e50a5c8371ef</td>\n",
       "      <td>user</td>\n",
       "    </tr>\n",
       "    <tr>\n",
       "      <th>3</th>\n",
       "      <td>4c23fbb3ccdd617f1ed36970ba492558</td>\n",
       "      <td>Instruction</td>\n",
       "      <td>2024-05-24T00:42:56.825313</td>\n",
       "      <td>user</td>\n",
       "      <td>{'instruction': {'if previous response is posi...</td>\n",
       "      <td>{'last_updated': {'sender': '2024-05-24T00:42:...</td>\n",
       "      <td>user</td>\n",
       "      <td>18cd4d273cd00bf04334e50a5c8371ef</td>\n",
       "    </tr>\n",
       "    <tr>\n",
       "      <th>4</th>\n",
       "      <td>0abb1ea236bc554fc3f61b1ba585c3cd</td>\n",
       "      <td>AssistantResponse</td>\n",
       "      <td>2024-05-24T00:42:57.512460</td>\n",
       "      <td>assistant</td>\n",
       "      <td>{'assistant_response': 'Understood. Please pro...</td>\n",
       "      <td>{'last_updated': {'sender': '2024-05-24T00:42:...</td>\n",
       "      <td>18cd4d273cd00bf04334e50a5c8371ef</td>\n",
       "      <td>user</td>\n",
       "    </tr>\n",
       "  </tbody>\n",
       "</table>\n",
       "</div>"
      ],
      "text/plain": [
       "                              ln_id       message_type  \\\n",
       "0  d090ded9d89e75a60ddf3c4db4a2d79f             System   \n",
       "1  fc182cff2a5f67ddf1195c38ee29d35f        Instruction   \n",
       "2  b45a0ca7d348f73d6c190123b3567d32  AssistantResponse   \n",
       "3  4c23fbb3ccdd617f1ed36970ba492558        Instruction   \n",
       "4  0abb1ea236bc554fc3f61b1ba585c3cd  AssistantResponse   \n",
       "\n",
       "                    timestamp       role  \\\n",
       "0  2024-05-24T00:42:54.981206     system   \n",
       "1  2024-05-24T00:42:55.214439       user   \n",
       "2  2024-05-24T00:42:56.412278  assistant   \n",
       "3  2024-05-24T00:42:56.825313       user   \n",
       "4  2024-05-24T00:42:57.512460  assistant   \n",
       "\n",
       "                                             content  \\\n",
       "0  {'system_info': 'You are asked to perform as a...   \n",
       "1  {'instruction': {'diff the absolute values': '...   \n",
       "2                         {'assistant_response': ''}   \n",
       "3  {'instruction': {'if previous response is posi...   \n",
       "4  {'assistant_response': 'Understood. Please pro...   \n",
       "\n",
       "                                            metadata  \\\n",
       "0  {'origin_ln_id': '0c442a440aa34300b3531ae64790...   \n",
       "1  {'last_updated': {'sender': '2024-05-24T00:42:...   \n",
       "2  {'last_updated': {'sender': '2024-05-24T00:42:...   \n",
       "3  {'last_updated': {'sender': '2024-05-24T00:42:...   \n",
       "4  {'last_updated': {'sender': '2024-05-24T00:42:...   \n",
       "\n",
       "                             sender                         recipient  \n",
       "0  31b135ce3ab2a50f58ea5aa7a1a4a29e  18cd4d273cd00bf04334e50a5c8371ef  \n",
       "1                              user  18cd4d273cd00bf04334e50a5c8371ef  \n",
       "2  18cd4d273cd00bf04334e50a5c8371ef                              user  \n",
       "3                              user  18cd4d273cd00bf04334e50a5c8371ef  \n",
       "4  18cd4d273cd00bf04334e50a5c8371ef                              user  "
      ]
     },
     "execution_count": 9,
     "metadata": {},
     "output_type": "execute_result"
    }
   ],
   "source": [
    "result[1]"
   ]
  },
  {
   "cell_type": "markdown",
   "metadata": {},
   "source": [
    "# Storing Structures\n",
    "\n",
    "We currently support the storage of structures in Excel and Neo4j, enabling their reuse in future applications."
   ]
  },
  {
   "cell_type": "markdown",
   "metadata": {},
   "source": [
    "### Excel"
   ]
  },
  {
   "cell_type": "code",
   "execution_count": 10,
   "metadata": {},
   "outputs": [],
   "source": [
    "graph_multi.to_excel(\"math_multi\")  # dir = \"structure_storage\" (default)"
   ]
  },
  {
   "cell_type": "markdown",
   "metadata": {},
   "source": [
    "### Neo4j"
   ]
  },
  {
   "cell_type": "code",
   "execution_count": 11,
   "metadata": {},
   "outputs": [],
   "source": [
    "# initiate Neo4j Driver\n",
    "uri = \"bolt://localhost:7687\"\n",
    "user = \"neo4j\"\n",
    "password = \"12345678\"\n",
    "database = \"neo4j\"\n",
    "\n",
    "from lionagi.integrations.storage.neo4j import Neo4j\n",
    "\n",
    "neo4j = Neo4j(uri, user, password, database)"
   ]
  },
  {
   "cell_type": "code",
   "execution_count": 12,
   "metadata": {},
   "outputs": [],
   "source": [
    "# structure_name is unique\n",
    "\n",
    "await neo4j.store(graph_multi, structure_name=\"math_multi\")"
   ]
  }
 ],
 "metadata": {
  "kernelspec": {
   "display_name": ".venv",
   "language": "python",
   "name": "python3"
  },
  "language_info": {
   "codemirror_mode": {
    "name": "ipython",
    "version": 3
   },
   "file_extension": ".py",
   "mimetype": "text/x-python",
   "name": "python",
   "nbconvert_exporter": "python",
   "pygments_lexer": "ipython3",
   "version": "3.10.6"
  }
 },
 "nbformat": 4,
 "nbformat_minor": 2
}
