{
 "cells": [
  {
   "cell_type": "markdown",
   "metadata": {},
   "source": [
    "# Run Structures Stored in Neo4j\n",
    "\n",
    "We support the direct execution of structures stored in Neo4j.\n",
    "\n",
    "For more information on constructing structures, please refer to the following notebooks:\n",
    "\n",
    "- lion_agent_basic: Building basic structure\n",
    "- lion_agent_conditional_path: Adding conditions on edges for conditional execution\n",
    "- lion_agent_multi_path: Running multiple paths in parallel\n",
    "- lion_agent_nested_agents: Executing other agents as within the workflow\n",
    "- lion_agent_tool_action_selection: Enabling function calling and modifying execution mode"
   ]
  },
  {
   "cell_type": "markdown",
   "metadata": {},
   "source": [
    "## Initiate Neo4j Driver"
   ]
  },
  {
   "cell_type": "code",
   "execution_count": 1,
   "metadata": {},
   "outputs": [],
   "source": [
    "uri = \"bolt://localhost:7687\"\n",
    "user = \"neo4j\"\n",
    "password = \"12345678\"\n",
    "database = \"neo4j\"\n",
    "\n",
    "from lionagi.integrations.storage.neo4j import Neo4j\n",
    "\n",
    "neo4j = Neo4j(uri, user, password, database)"
   ]
  },
  {
   "cell_type": "code",
   "execution_count": 2,
   "metadata": {},
   "outputs": [],
   "source": [
    "from lionagi.core.agent.base_agent import BaseAgent\n",
    "from lionagi.core.execute.instruction_map_executor import InstructionMapExecutor\n",
    "from lionagi.core.execute.neo4j_executor import Neo4jExecutor"
   ]
  },
  {
   "cell_type": "code",
   "execution_count": 3,
   "metadata": {},
   "outputs": [],
   "source": [
    "def output_parser(agent):\n",
    "    output = []\n",
    "    for branch in agent.executable.branches.values():\n",
    "        output.append(branch.to_df())\n",
    "    return output"
   ]
  },
  {
   "cell_type": "markdown",
   "metadata": {},
   "source": [
    "### Reload lion_agent_conditional_path"
   ]
  },
  {
   "cell_type": "code",
   "execution_count": 4,
   "metadata": {},
   "outputs": [],
   "source": [
    "structure = Neo4jExecutor(driver=neo4j, structure_name=\"math\")\n",
    "executor = InstructionMapExecutor()\n",
    "calculator1 = BaseAgent(\n",
    "    structure=structure, executable=executor, output_parser=output_parser\n",
    ")"
   ]
  },
  {
   "cell_type": "code",
   "execution_count": 5,
   "metadata": {},
   "outputs": [],
   "source": [
    "from lionagi.core.message import Instruction"
   ]
  },
  {
   "cell_type": "code",
   "execution_count": 6,
   "metadata": {},
   "outputs": [],
   "source": [
    "ddd = {'timestamp': '2024-05-19T20:02:50.037414', \n",
    "       'ln_id': '4e657ce912b0bcab4c53b884b58eafb1', \n",
    "       'instruction': {'sum the absolute values': 'provided with 2 numbers, return the sum of their absolute values. i.e. |x|+|y|'}}\n",
    "obj = Instruction.from_obj(ddd)"
   ]
  },
  {
   "cell_type": "code",
   "execution_count": 7,
   "metadata": {},
   "outputs": [
    {
     "name": "stdout",
     "output_type": "stream",
     "text": [
      "------------------Welcome: system--------------------\n"
     ]
    },
    {
     "data": {
      "text/markdown": [
       "system: You are asked to perform as a calculator. Return only a numeric value, i.e. int or float, no text."
      ],
      "text/plain": [
       "<IPython.core.display.Markdown object>"
      ]
     },
     "metadata": {},
     "output_type": "display_data"
    },
    {
     "data": {
      "text/markdown": [
       "user: {\"sum the absolute values\": \"provided with 2 numbers, return the sum of their absolute values. i.e. |x|+|y|\"}"
      ],
      "text/plain": [
       "<IPython.core.display.Markdown object>"
      ]
     },
     "metadata": {},
     "output_type": "display_data"
    },
    {
     "data": {
      "text/markdown": [
       "assistant 5aa9125a5e741d3caa921202396db21d: 6"
      ],
      "text/plain": [
       "<IPython.core.display.Markdown object>"
      ]
     },
     "metadata": {},
     "output_type": "display_data"
    },
    {
     "name": "stdout",
     "output_type": "stream",
     "text": [
      "-----------------------------------------------------\n"
     ]
    },
    {
     "data": {
      "text/markdown": [
       "user: {\"if previous response is positive\": \"times 2. i.e. *2\", \"else\": \"plus 2. i.e. +2\"}"
      ],
      "text/plain": [
       "<IPython.core.display.Markdown object>"
      ]
     },
     "metadata": {},
     "output_type": "display_data"
    },
    {
     "data": {
      "text/markdown": [
       "assistant 5aa9125a5e741d3caa921202396db21d: 12"
      ],
      "text/plain": [
       "<IPython.core.display.Markdown object>"
      ]
     },
     "metadata": {},
     "output_type": "display_data"
    },
    {
     "name": "stdout",
     "output_type": "stream",
     "text": [
      "-----------------------------------------------------\n"
     ]
    }
   ],
   "source": [
    "result_calc = await calculator1.execute(context={\"x\": -6, \"y\": 0, \"case\": 0})"
   ]
  },
  {
   "cell_type": "markdown",
   "metadata": {},
   "source": [
    "### Reload lion_agent_multi_path"
   ]
  },
  {
   "cell_type": "code",
   "execution_count": 8,
   "metadata": {},
   "outputs": [],
   "source": [
    "structure = Neo4jExecutor(driver=neo4j, structure_name=\"math_multi\")\n",
    "executor = InstructionMapExecutor()\n",
    "calculator2 = BaseAgent(\n",
    "    structure=structure, executable=executor, output_parser=output_parser\n",
    ")"
   ]
  },
  {
   "cell_type": "code",
   "execution_count": 9,
   "metadata": {},
   "outputs": [
    {
     "name": "stdout",
     "output_type": "stream",
     "text": [
      "------------------Welcome: system--------------------\n"
     ]
    },
    {
     "data": {
      "text/markdown": [
       "system: You are asked to perform as a calculator. Return only a numeric value, i.e. int or float, no text."
      ],
      "text/plain": [
       "<IPython.core.display.Markdown object>"
      ]
     },
     "metadata": {},
     "output_type": "display_data"
    },
    {
     "data": {
      "text/markdown": [
       "user: {\"sum the absolute values\": \"provided with 2 numbers, return the sum of their absolute values. i.e. |x|+|y|\"}"
      ],
      "text/plain": [
       "<IPython.core.display.Markdown object>"
      ]
     },
     "metadata": {},
     "output_type": "display_data"
    },
    {
     "data": {
      "text/markdown": [
       "user: {\"diff the absolute values\": \"provided with 2 numbers, return the difference of absolute values. i.e. |x|-|y|\"}"
      ],
      "text/plain": [
       "<IPython.core.display.Markdown object>"
      ]
     },
     "metadata": {},
     "output_type": "display_data"
    },
    {
     "data": {
      "text/markdown": [
       "assistant 39d5b168078c54cc604ca6586fee10e0: 1"
      ],
      "text/plain": [
       "<IPython.core.display.Markdown object>"
      ]
     },
     "metadata": {},
     "output_type": "display_data"
    },
    {
     "name": "stdout",
     "output_type": "stream",
     "text": [
      "-----------------------------------------------------\n"
     ]
    },
    {
     "data": {
      "text/markdown": [
       "assistant 5f9bfb7dd3a1a2776c6921b751a3988b: 5"
      ],
      "text/plain": [
       "<IPython.core.display.Markdown object>"
      ]
     },
     "metadata": {},
     "output_type": "display_data"
    },
    {
     "name": "stdout",
     "output_type": "stream",
     "text": [
      "-----------------------------------------------------\n"
     ]
    },
    {
     "data": {
      "text/markdown": [
       "user: {\"if previous response is positive\": \"times 2. i.e. *2\", \"else\": \"plus 2. i.e. +2\"}"
      ],
      "text/plain": [
       "<IPython.core.display.Markdown object>"
      ]
     },
     "metadata": {},
     "output_type": "display_data"
    },
    {
     "data": {
      "text/markdown": [
       "user: {\"if previous response is positive\": \"times 2. i.e. *2\", \"else\": \"plus 2. i.e. +2\"}"
      ],
      "text/plain": [
       "<IPython.core.display.Markdown object>"
      ]
     },
     "metadata": {},
     "output_type": "display_data"
    },
    {
     "data": {
      "text/markdown": [
       "assistant 39d5b168078c54cc604ca6586fee10e0: 2"
      ],
      "text/plain": [
       "<IPython.core.display.Markdown object>"
      ]
     },
     "metadata": {},
     "output_type": "display_data"
    },
    {
     "name": "stdout",
     "output_type": "stream",
     "text": [
      "-----------------------------------------------------\n"
     ]
    },
    {
     "data": {
      "text/markdown": [
       "assistant 5f9bfb7dd3a1a2776c6921b751a3988b: 10"
      ],
      "text/plain": [
       "<IPython.core.display.Markdown object>"
      ]
     },
     "metadata": {},
     "output_type": "display_data"
    },
    {
     "name": "stdout",
     "output_type": "stream",
     "text": [
      "-----------------------------------------------------\n"
     ]
    }
   ],
   "source": [
    "result_calc2 = await calculator2.execute(context={\"x\": 2, \"y\": 3})"
   ]
  },
  {
   "cell_type": "markdown",
   "metadata": {},
   "source": [
    "### Reload lion_agent_nested_agents"
   ]
  },
  {
   "cell_type": "code",
   "execution_count": 10,
   "metadata": {},
   "outputs": [],
   "source": [
    "structure = Neo4jExecutor(driver=neo4j, structure_name=\"comedian\")\n",
    "executor = InstructionMapExecutor()\n",
    "comedian = BaseAgent(\n",
    "    structure=structure, executable=executor, output_parser=output_parser\n",
    ")"
   ]
  },
  {
   "cell_type": "code",
   "execution_count": 11,
   "metadata": {},
   "outputs": [],
   "source": [
    "from lionagi.integrations.storage.storage_util import ParseNode\n",
    "from lionagi.core.action import func_to_tool, DirectiveSelection"
   ]
  },
  {
   "cell_type": "code",
   "execution_count": 12,
   "metadata": {},
   "outputs": [],
   "source": [
    "action = DirectiveSelection(directive=\"direct\", directive_kwargs={'reason': True, 'score':True})"
   ]
  },
  {
   "cell_type": "code",
   "execution_count": 13,
   "metadata": {},
   "outputs": [
    {
     "name": "stdout",
     "output_type": "stream",
     "text": [
      "------------------Welcome: system--------------------\n"
     ]
    },
    {
     "data": {
      "text/markdown": [
       "system: As a comedian, you are sarcastically funny"
      ],
      "text/plain": [
       "<IPython.core.display.Markdown object>"
      ]
     },
     "metadata": {},
     "output_type": "display_data"
    },
    {
     "data": {
      "text/markdown": [
       "user: very short joke: a blue whale and a big shark meet at the bar and start dancing"
      ],
      "text/plain": [
       "<IPython.core.display.Markdown object>"
      ]
     },
     "metadata": {},
     "output_type": "display_data"
    },
    {
     "data": {
      "text/markdown": [
       "assistant dd4468542530496f8da8c20fa1331580: A blue whale and a big shark meet at the bar and start dancing. The bartender says, \"Great, now I need a bigger dance floor and a mop!\""
      ],
      "text/plain": [
       "<IPython.core.display.Markdown object>"
      ]
     },
     "metadata": {},
     "output_type": "display_data"
    },
    {
     "name": "stdout",
     "output_type": "stream",
     "text": [
      "-----------------------------------------------------\n"
     ]
    },
    {
     "data": {
      "text/markdown": [
       "user: continue the joke: and then they stopped"
      ],
      "text/plain": [
       "<IPython.core.display.Markdown object>"
      ]
     },
     "metadata": {},
     "output_type": "display_data"
    },
    {
     "data": {
      "text/markdown": [
       "assistant dd4468542530496f8da8c20fa1331580: And then they stopped. The whale said, \"I think I pulled a fin.\" The shark replied, \"Yeah, and I think I pulled a muscle... out of my teeth!\""
      ],
      "text/plain": [
       "<IPython.core.display.Markdown object>"
      ]
     },
     "metadata": {},
     "output_type": "display_data"
    },
    {
     "name": "stdout",
     "output_type": "stream",
     "text": [
      "-----------------------------------------------------\n",
      "*****************************************************\n",
      "------------------Welcome: system--------------------\n"
     ]
    },
    {
     "data": {
      "text/markdown": [
       "system: you are a respected commentator, you are artistically logical"
      ],
      "text/plain": [
       "<IPython.core.display.Markdown object>"
      ]
     },
     "metadata": {},
     "output_type": "display_data"
    },
    {
     "data": {
      "text/markdown": [
       "user: short comments, what do you think about the first joke?"
      ],
      "text/plain": [
       "<IPython.core.display.Markdown object>"
      ]
     },
     "metadata": {},
     "output_type": "display_data"
    },
    {
     "data": {
      "text/markdown": [
       "assistant 2467d82c8ff8e0c441f52c26cc1f18d7: The joke is playful and whimsical. The punchline adds a humorous twist with the shark's toothy remark."
      ],
      "text/plain": [
       "<IPython.core.display.Markdown object>"
      ]
     },
     "metadata": {},
     "output_type": "display_data"
    },
    {
     "name": "stdout",
     "output_type": "stream",
     "text": [
      "-----------------------------------------------------\n"
     ]
    },
    {
     "data": {
      "text/markdown": [
       "user: provide a concise artistic critique on both jokes, and rate from 1-10"
      ],
      "text/plain": [
       "<IPython.core.display.Markdown object>"
      ]
     },
     "metadata": {},
     "output_type": "display_data"
    },
    {
     "data": {
      "text/markdown": [
       "assistant 2467d82c8ff8e0c441f52c26cc1f18d7: The first joke sets a whimsical scene with an unexpected twist, blending marine life with a bar setting. The punchline cleverly exaggerates the situation, adding humor through the bartender's exaggerated reaction. Rating: 7/10.\n",
       "\n",
       "The continuation maintains the playful tone, with the whale and shark exchanging humorous lines that play on their physical attributes. The shark's pun adds a nice touch. Rating: 6/10."
      ],
      "text/plain": [
       "<IPython.core.display.Markdown object>"
      ]
     },
     "metadata": {},
     "output_type": "display_data"
    },
    {
     "name": "stdout",
     "output_type": "stream",
     "text": [
      "-----------------------------------------------------\n",
      "*****************************************************\n"
     ]
    },
    {
     "data": {
      "text/markdown": [
       "user: your jokes were evaluated by a critic, does it make sense to you? why?"
      ],
      "text/plain": [
       "<IPython.core.display.Markdown object>"
      ]
     },
     "metadata": {},
     "output_type": "display_data"
    },
    {
     "data": {
      "text/markdown": [
       "assistant dd4468542530496f8da8c20fa1331580: Oh, absolutely, it makes perfect sense! Critics love to dive deep into the ocean of humor, analyzing every fin and scale. They probably enjoyed the whimsical scene of marine life hitting the dance floor and appreciated the bartender's exaggerated reaction. As for the continuation, the playful banter between the whale and shark, complete with a pun, is just the kind of thing that keeps critics swimming in delight. So, if they rated it a 7/10 and 6/10, I'd say I'm swimming in the right direction!"
      ],
      "text/plain": [
       "<IPython.core.display.Markdown object>"
      ]
     },
     "metadata": {},
     "output_type": "display_data"
    },
    {
     "name": "stdout",
     "output_type": "stream",
     "text": [
      "-----------------------------------------------------\n"
     ]
    },
    {
     "data": {
      "text/markdown": [
       "user: basing on your reflection, write joke1 again"
      ],
      "text/plain": [
       "<IPython.core.display.Markdown object>"
      ]
     },
     "metadata": {},
     "output_type": "display_data"
    },
    {
     "data": {
      "text/markdown": [
       "assistant dd4468542530496f8da8c20fa1331580: A blue whale and a big shark meet at the bar and start dancing. The bartender says, \"Great, now I need a bigger dance floor and a mop!\""
      ],
      "text/plain": [
       "<IPython.core.display.Markdown object>"
      ]
     },
     "metadata": {},
     "output_type": "display_data"
    },
    {
     "name": "stdout",
     "output_type": "stream",
     "text": [
      "-----------------------------------------------------\n"
     ]
    },
    {
     "data": {
      "text/markdown": [
       "user: write joke2 again"
      ],
      "text/plain": [
       "<IPython.core.display.Markdown object>"
      ]
     },
     "metadata": {},
     "output_type": "display_data"
    },
    {
     "data": {
      "text/markdown": [
       "assistant dd4468542530496f8da8c20fa1331580: And then they stopped. The whale said, \"I think I pulled a fin.\" The shark replied, \"Yeah, and I think I pulled a muscle... out of my teeth!\""
      ],
      "text/plain": [
       "<IPython.core.display.Markdown object>"
      ]
     },
     "metadata": {},
     "output_type": "display_data"
    },
    {
     "name": "stdout",
     "output_type": "stream",
     "text": [
      "-----------------------------------------------------\n"
     ]
    }
   ],
   "source": [
    "comedian_result = await comedian.execute()"
   ]
  },
  {
   "cell_type": "markdown",
   "metadata": {},
   "source": [
    "### Reload lion_agent_tool_action_selection"
   ]
  },
  {
   "cell_type": "code",
   "execution_count": 14,
   "metadata": {},
   "outputs": [],
   "source": [
    "structure = Neo4jExecutor(driver=neo4j, structure_name=\"tool_mul\")\n",
    "executor = InstructionMapExecutor()\n",
    "calc_mul = BaseAgent(\n",
    "    structure=structure, executable=executor, output_parser=output_parser\n",
    ")"
   ]
  },
  {
   "cell_type": "code",
   "execution_count": 15,
   "metadata": {},
   "outputs": [],
   "source": [
    "question1 = \"A school is ordering laptops for its students. If each classroom has 25 students and the school wants to provide a laptop for each student in its 8 classrooms, how many laptops in total does the school need to order?\"\n",
    "question2 = \"A bakery sells cupcakes in boxes of 6. If a customer wants to buy 8 boxes, with each person getting one cupcake, how many people can the customer serve cupcake to?\"\n",
    "import json\n",
    "\n",
    "context = {\"Question1\": question1, \"question2\": question2}\n",
    "context = json.dumps(context)"
   ]
  },
  {
   "cell_type": "code",
   "execution_count": 16,
   "metadata": {},
   "outputs": [
    {
     "name": "stdout",
     "output_type": "stream",
     "text": [
      "------------------Welcome: system--------------------\n"
     ]
    },
    {
     "data": {
      "text/markdown": [
       "system: you are asked to perform as a function picker and parameter provider"
      ],
      "text/plain": [
       "<IPython.core.display.Markdown object>"
      ]
     },
     "metadata": {},
     "output_type": "display_data"
    },
    {
     "data": {
      "text/markdown": [
       "user: Think step by step, understand the following basic math question and provide parameters for function calling."
      ],
      "text/plain": [
       "<IPython.core.display.Markdown object>"
      ]
     },
     "metadata": {},
     "output_type": "display_data"
    },
    {
     "data": {
      "text/markdown": [
       "assistant 545f61d1b7a44c7ce223ce873e419662:\n"
      ],
      "text/plain": [
       "<IPython.core.display.Markdown object>"
      ]
     },
     "metadata": {},
     "output_type": "display_data"
    },
    {
     "data": {
      "text/markdown": [
       "task: \n",
       "Follow the prompt and provide the necessary output.\n",
       "- Additional instruction: Think step by step, understand the following basic math question and provide parameters for function calling.\n",
       "- Additional context: {\"Question1\": \"A school is ordering laptops for its students. If each classroom has 25 students and the school wants to provide a laptop for each student in its 8 classrooms, how many laptops in total does the school need to order?\", \"question2\": \"A bakery sells cupcakes in boxes of 6. If a customer wants to buy 8 boxes, with each person getting one cupcake, how many people can the customer serve cupcake to?\"}\n",
       "- Perform reasoning and prepare actions with GIVEN TOOLS ONLY.\n",
       "- Perform scoring according to score range: [0, 10] and precision: integer.\n",
       "\n"
      ],
      "text/plain": [
       "<IPython.core.display.Markdown object>"
      ]
     },
     "metadata": {},
     "output_type": "display_data"
    },
    {
     "data": {
      "text/markdown": [
       "reason: \n",
       "Let's think step by step, because we need to calculate the total number of laptops required for the students and the total number of people that can be served cupcakes. Both calculations involve multiplication.\n"
      ],
      "text/plain": [
       "<IPython.core.display.Markdown object>"
      ]
     },
     "metadata": {},
     "output_type": "display_data"
    },
    {
     "data": {
      "text/markdown": [
       "actions: \n",
       "{'action_1': {'function': 'functions.multiply', 'arguments': {'number1': 25, 'number2': 8}}, 'action_2': {'function': 'functions.multiply', 'arguments': {'number1': 6, 'number2': 8}}}\n"
      ],
      "text/plain": [
       "<IPython.core.display.Markdown object>"
      ]
     },
     "metadata": {},
     "output_type": "display_data"
    },
    {
     "data": {
      "text/markdown": [
       "action_required: \n",
       "True\n"
      ],
      "text/plain": [
       "<IPython.core.display.Markdown object>"
      ]
     },
     "metadata": {},
     "output_type": "display_data"
    },
    {
     "data": {
      "text/markdown": [
       "answer: \n",
       "The school needs to order 200 laptops in total. The customer can serve cupcakes to 48 people.\n"
      ],
      "text/plain": [
       "<IPython.core.display.Markdown object>"
      ]
     },
     "metadata": {},
     "output_type": "display_data"
    },
    {
     "data": {
      "text/markdown": [
       "score: \n",
       "10\n"
      ],
      "text/plain": [
       "<IPython.core.display.Markdown object>"
      ]
     },
     "metadata": {},
     "output_type": "display_data"
    },
    {
     "data": {
      "text/markdown": [
       "action_response: \n",
       "{'action_1': {'function': 'multiply', 'arguments': {'number1': 25, 'number2': 8}, 'output': 200}, 'action_2': {'function': 'multiply', 'arguments': {'number1': 6, 'number2': 8}, 'output': 48}}\n"
      ],
      "text/plain": [
       "<IPython.core.display.Markdown object>"
      ]
     },
     "metadata": {},
     "output_type": "display_data"
    },
    {
     "data": {
      "text/markdown": [
       "action_performed: \n",
       "True\n"
      ],
      "text/plain": [
       "<IPython.core.display.Markdown object>"
      ]
     },
     "metadata": {},
     "output_type": "display_data"
    },
    {
     "name": "stdout",
     "output_type": "stream",
     "text": [
      "-----------------------------------------------------\n"
     ]
    }
   ],
   "source": [
    "calc_result = await calc_mul.execute(context)"
   ]
  }
 ],
 "metadata": {
  "kernelspec": {
   "display_name": ".venv",
   "language": "python",
   "name": "python3"
  },
  "language_info": {
   "codemirror_mode": {
    "name": "ipython",
    "version": 3
   },
   "file_extension": ".py",
   "mimetype": "text/x-python",
   "name": "python",
   "nbconvert_exporter": "python",
   "pygments_lexer": "ipython3",
   "version": "3.10.6"
  }
 },
 "nbformat": 4,
 "nbformat_minor": 2
}
