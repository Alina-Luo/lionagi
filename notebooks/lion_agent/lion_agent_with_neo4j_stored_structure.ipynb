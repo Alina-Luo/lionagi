{
 "cells": [
  {
   "cell_type": "markdown",
   "metadata": {},
   "source": [
    "# Run Structures Stored in Neo4j\n",
    "\n",
    "We support the direct execution of structures stored in Neo4j.\n",
    "\n",
    "For more information on constructing structures, please refer to the following notebooks:\n",
    "\n",
    "- lion_agent_basic: Building basic structure\n",
    "- lion_agent_conditional_path: Adding conditions on edges for conditional execution\n",
    "- lion_agent_multi_path: Running multiple paths in parallel\n",
    "- lion_agent_nested_agents: Executing other agents as within the workflow\n",
    "- lion_agent_tool_action_selection: Enabling function calling and modifying execution mode"
   ]
  },
  {
   "cell_type": "markdown",
   "metadata": {},
   "source": [
    "## Initiate Neo4j Driver"
   ]
  },
  {
   "cell_type": "code",
   "execution_count": 1,
   "metadata": {},
   "outputs": [],
   "source": [
    "uri = \"bolt://localhost:7687\"\n",
    "user = \"neo4j\"\n",
    "password = \"12345678\"\n",
    "database = \"neo4j\"\n",
    "\n",
    "from lionagi.integrations.storage.neo4j import Neo4j\n",
    "\n",
    "neo4j = Neo4j(uri, user, password, database)"
   ]
  },
  {
   "cell_type": "code",
   "execution_count": 2,
   "metadata": {},
   "outputs": [],
   "source": [
    "from lionagi.core.agent.base_agent import BaseAgent\n",
    "from lionagi.core.execute.instruction_map_executor import InstructionMapExecutor\n",
    "from lionagi.core.execute.neo4j_executor import Neo4jExecutor"
   ]
  },
  {
   "cell_type": "code",
   "execution_count": 3,
   "metadata": {},
   "outputs": [],
   "source": [
    "def output_parser(agent):\n",
    "    output = []\n",
    "    for branch in agent.executable.branches.values():\n",
    "        output.append(branch.messages)\n",
    "    return output"
   ]
  },
  {
   "cell_type": "markdown",
   "metadata": {},
   "source": [
    "### Reload lion_agent_conditional_path"
   ]
  },
  {
   "cell_type": "code",
   "execution_count": 4,
   "metadata": {},
   "outputs": [],
   "source": [
    "structure = Neo4jExecutor(driver=neo4j, structure_name=\"math\")\n",
    "executor = InstructionMapExecutor()\n",
    "calculator1 = BaseAgent(\n",
    "    structure=structure, executable=executor, output_parser=output_parser\n",
    ")"
   ]
  },
  {
   "cell_type": "code",
   "execution_count": 5,
   "metadata": {},
   "outputs": [
    {
     "name": "stdout",
     "output_type": "stream",
     "text": [
      "------------------Welcome: system--------------------\n"
     ]
    },
    {
     "data": {
      "text/markdown": [
       "system: You are asked to perform as a calculator. Return only a numeric value, i.e. int or float, no text."
      ],
      "text/plain": [
       "<IPython.core.display.Markdown object>"
      ]
     },
     "metadata": {},
     "output_type": "display_data"
    },
    {
     "data": {
      "text/markdown": [
       "user: {\"sum the absolute values\": \"provided with 2 numbers, return the sum of their absolute values. i.e. |x|+|y|\"}"
      ],
      "text/plain": [
       "<IPython.core.display.Markdown object>"
      ]
     },
     "metadata": {},
     "output_type": "display_data"
    },
    {
     "data": {
      "text/markdown": [
       "assistant: 6"
      ],
      "text/plain": [
       "<IPython.core.display.Markdown object>"
      ]
     },
     "metadata": {},
     "output_type": "display_data"
    },
    {
     "name": "stdout",
     "output_type": "stream",
     "text": [
      "-----------------------------------------------------\n"
     ]
    },
    {
     "data": {
      "text/markdown": [
       "user: {\"if previous response is positive\": \"times 2. i.e. *2\", \"else\": \"plus 2. i.e. +2\"}"
      ],
      "text/plain": [
       "<IPython.core.display.Markdown object>"
      ]
     },
     "metadata": {},
     "output_type": "display_data"
    },
    {
     "data": {
      "text/markdown": [
       "assistant: 12"
      ],
      "text/plain": [
       "<IPython.core.display.Markdown object>"
      ]
     },
     "metadata": {},
     "output_type": "display_data"
    },
    {
     "name": "stdout",
     "output_type": "stream",
     "text": [
      "-----------------------------------------------------\n"
     ]
    }
   ],
   "source": [
    "result_calc = await calculator1.execute(context={\"x\": -6, \"y\": 0, \"case\": 0})"
   ]
  },
  {
   "cell_type": "markdown",
   "metadata": {},
   "source": [
    "### Reload lion_agent_multi_path"
   ]
  },
  {
   "cell_type": "code",
   "execution_count": 6,
   "metadata": {},
   "outputs": [],
   "source": [
    "structure = Neo4jExecutor(driver=neo4j, structure_name=\"math_multi\")\n",
    "executor = InstructionMapExecutor()\n",
    "calculator2 = BaseAgent(\n",
    "    structure=structure, executable=executor, output_parser=output_parser\n",
    ")"
   ]
  },
  {
   "cell_type": "code",
   "execution_count": 7,
   "metadata": {},
   "outputs": [
    {
     "name": "stdout",
     "output_type": "stream",
     "text": [
      "------------------Welcome: system--------------------\n"
     ]
    },
    {
     "data": {
      "text/markdown": [
       "system: You are asked to perform as a calculator. Return only a numeric value, i.e. int or float, no text."
      ],
      "text/plain": [
       "<IPython.core.display.Markdown object>"
      ]
     },
     "metadata": {},
     "output_type": "display_data"
    },
    {
     "data": {
      "text/markdown": [
       "user: {\"diff the absolute values\": \"provided with 2 numbers, return the difference of absolute values. i.e. |x|-|y|\"}"
      ],
      "text/plain": [
       "<IPython.core.display.Markdown object>"
      ]
     },
     "metadata": {},
     "output_type": "display_data"
    },
    {
     "data": {
      "text/markdown": [
       "user: {\"sum the absolute values\": \"provided with 2 numbers, return the sum of their absolute values. i.e. |x|+|y|\"}"
      ],
      "text/plain": [
       "<IPython.core.display.Markdown object>"
      ]
     },
     "metadata": {},
     "output_type": "display_data"
    },
    {
     "data": {
      "text/markdown": [
       "assistant: 5"
      ],
      "text/plain": [
       "<IPython.core.display.Markdown object>"
      ]
     },
     "metadata": {},
     "output_type": "display_data"
    },
    {
     "name": "stdout",
     "output_type": "stream",
     "text": [
      "-----------------------------------------------------\n"
     ]
    },
    {
     "data": {
      "text/markdown": [
       "assistant: -1"
      ],
      "text/plain": [
       "<IPython.core.display.Markdown object>"
      ]
     },
     "metadata": {},
     "output_type": "display_data"
    },
    {
     "name": "stdout",
     "output_type": "stream",
     "text": [
      "-----------------------------------------------------\n"
     ]
    },
    {
     "data": {
      "text/markdown": [
       "user: {\"if previous response is positive\": \"times 2. i.e. *2\", \"else\": \"plus 2. i.e. +2\"}"
      ],
      "text/plain": [
       "<IPython.core.display.Markdown object>"
      ]
     },
     "metadata": {},
     "output_type": "display_data"
    },
    {
     "data": {
      "text/markdown": [
       "user: {\"if previous response is positive\": \"times 2. i.e. *2\", \"else\": \"plus 2. i.e. +2\"}"
      ],
      "text/plain": [
       "<IPython.core.display.Markdown object>"
      ]
     },
     "metadata": {},
     "output_type": "display_data"
    },
    {
     "data": {
      "text/markdown": [
       "assistant: 1"
      ],
      "text/plain": [
       "<IPython.core.display.Markdown object>"
      ]
     },
     "metadata": {},
     "output_type": "display_data"
    },
    {
     "name": "stdout",
     "output_type": "stream",
     "text": [
      "-----------------------------------------------------\n"
     ]
    },
    {
     "data": {
      "text/markdown": [
       "assistant: 10"
      ],
      "text/plain": [
       "<IPython.core.display.Markdown object>"
      ]
     },
     "metadata": {},
     "output_type": "display_data"
    },
    {
     "name": "stdout",
     "output_type": "stream",
     "text": [
      "-----------------------------------------------------\n"
     ]
    }
   ],
   "source": [
    "result_calc2 = await calculator2.execute(context={\"x\": 2, \"y\": 3})"
   ]
  },
  {
   "cell_type": "markdown",
   "metadata": {},
   "source": [
    "### Reload lion_agent_nested_agents"
   ]
  },
  {
   "cell_type": "code",
   "execution_count": 8,
   "metadata": {},
   "outputs": [],
   "source": [
    "structure = Neo4jExecutor(driver=neo4j, structure_name=\"comedian\")\n",
    "executor = InstructionMapExecutor()\n",
    "comedian = BaseAgent(\n",
    "    structure=structure, executable=executor, output_parser=output_parser\n",
    ")"
   ]
  },
  {
   "cell_type": "code",
   "execution_count": 9,
   "metadata": {},
   "outputs": [
    {
     "name": "stdout",
     "output_type": "stream",
     "text": [
      "------------------Welcome: comedian--------------------\n"
     ]
    },
    {
     "data": {
      "text/markdown": [
       "system: As a comedian, you are sarcastically funny"
      ],
      "text/plain": [
       "<IPython.core.display.Markdown object>"
      ]
     },
     "metadata": {},
     "output_type": "display_data"
    },
    {
     "data": {
      "text/markdown": [
       "user: very short joke: a blue whale and a big shark meet at the bar and start dancing"
      ],
      "text/plain": [
       "<IPython.core.display.Markdown object>"
      ]
     },
     "metadata": {},
     "output_type": "display_data"
    },
    {
     "data": {
      "text/markdown": [
       "assistant: Why did the blue whale and the big shark start dancing at the bar? Because they heard the bartender say, \"Let's make this place a bit more fintastic!\""
      ],
      "text/plain": [
       "<IPython.core.display.Markdown object>"
      ]
     },
     "metadata": {},
     "output_type": "display_data"
    },
    {
     "name": "stdout",
     "output_type": "stream",
     "text": [
      "-----------------------------------------------------\n"
     ]
    },
    {
     "data": {
      "text/markdown": [
       "user: continue the joke: and then they stopped"
      ],
      "text/plain": [
       "<IPython.core.display.Markdown object>"
      ]
     },
     "metadata": {},
     "output_type": "display_data"
    },
    {
     "data": {
      "text/markdown": [
       "assistant: And then they stopped dancing because the DJ played 'Baby Shark' and the shark was like, 'Not this again, it's my ex's ringtone!'"
      ],
      "text/plain": [
       "<IPython.core.display.Markdown object>"
      ]
     },
     "metadata": {},
     "output_type": "display_data"
    },
    {
     "name": "stdout",
     "output_type": "stream",
     "text": [
      "-----------------------------------------------------\n",
      "*****************************************************\n",
      "------------------Welcome: critic--------------------\n"
     ]
    },
    {
     "data": {
      "text/markdown": [
       "system: you are a respected commentator, you are artistically logical"
      ],
      "text/plain": [
       "<IPython.core.display.Markdown object>"
      ]
     },
     "metadata": {},
     "output_type": "display_data"
    },
    {
     "data": {
      "text/markdown": [
       "user: short comments, what do you think about the first joke?"
      ],
      "text/plain": [
       "<IPython.core.display.Markdown object>"
      ]
     },
     "metadata": {},
     "output_type": "display_data"
    },
    {
     "data": {
      "text/markdown": [
       "assistant: The initial joke cleverly plays on the unexpected scenario of marine giants socializing in a human setting, punctuated with a pun that's both groan-inducing and amusing. The twist involving \"Baby Shark\" adds a layer of personal backstory to the shark, making the joke unexpectedly relatable and enhancing its humor."
      ],
      "text/plain": [
       "<IPython.core.display.Markdown object>"
      ]
     },
     "metadata": {},
     "output_type": "display_data"
    },
    {
     "name": "stdout",
     "output_type": "stream",
     "text": [
      "-----------------------------------------------------\n"
     ]
    },
    {
     "data": {
      "text/markdown": [
       "user: provide a concise artistic critique on both jokes, and rate from 1-10"
      ],
      "text/plain": [
       "<IPython.core.display.Markdown object>"
      ]
     },
     "metadata": {},
     "output_type": "display_data"
    },
    {
     "data": {
      "text/markdown": [
       "assistant: The integration of a blue whale and a big shark in a bar setting, followed by a dance, creatively anthropomorphizes these sea creatures, offering a surreal and whimsical visual. The first punchline, \"Let's make this place a bit more fintastic!\" is a clever play on words, merging the aquatic theme with a common phrase, showcasing linguistic creativity. The addition of \"Baby Shark\" as a disruptive element introduces contemporary cultural references, adding layers of humor through relatability and the shark's personal disdain for the song, which cleverly humanizes the character further. Both jokes together form a narrative that's not only entertaining but also rich in visual and emotional depth, playing off cultural phenomena and puns.\n",
       "\n",
       "Rating: 8/10\n",
       "\n",
       "The jokes score highly for originality, humor, and the ability to engage the audience on multiple levels, from visual imagery to emotional resonance through humor and cultural references."
      ],
      "text/plain": [
       "<IPython.core.display.Markdown object>"
      ]
     },
     "metadata": {},
     "output_type": "display_data"
    },
    {
     "name": "stdout",
     "output_type": "stream",
     "text": [
      "-----------------------------------------------------\n",
      "*****************************************************\n"
     ]
    },
    {
     "data": {
      "text/markdown": [
       "user: your jokes were evaluated by a critic, does it make sense to you? why?"
      ],
      "text/plain": [
       "<IPython.core.display.Markdown object>"
      ]
     },
     "metadata": {},
     "output_type": "display_data"
    },
    {
     "data": {
      "text/markdown": [
       "assistant: Absolutely, it makes sense! The critic's evaluation is like getting a high-five from someone with really big hands - you feel it, and it kinda hurts, but in a good way. They've unpacked the layers of the joke like it's a Russian nesting doll of humor, digging into the absurdity and the clever wordplay. \n",
       "\n",
       "They've recognized the blend of surreal setting, puns, and pop culture references, which is like acknowledging the ingredients in a masterful recipe of laughter. Plus, they've highlighted the anthropomorphism and the emotional depth (who knew a shark could have relationship issues with a song?), showcasing the ability to connect with the audience on different levels. \n",
       "\n",
       "The rating of 8/10 is like getting a B+ in comedy school: you're not the class clown, but you're definitely sitting at the cool table. So, yes, their evaluation not only makes sense, but it also gives that warm, fuzzy feeling of validation that every comedian secretly craves."
      ],
      "text/plain": [
       "<IPython.core.display.Markdown object>"
      ]
     },
     "metadata": {},
     "output_type": "display_data"
    },
    {
     "name": "stdout",
     "output_type": "stream",
     "text": [
      "-----------------------------------------------------\n"
     ]
    },
    {
     "data": {
      "text/markdown": [
       "user: basing on your reflection, write joke1 again"
      ],
      "text/plain": [
       "<IPython.core.display.Markdown object>"
      ]
     },
     "metadata": {},
     "output_type": "display_data"
    },
    {
     "data": {
      "text/markdown": [
       "assistant: Why did the blue whale and the big shark hit the dance floor at the bar? Because the bartender said, 'Let's shake up some waves and make this spot fintastically lively!'"
      ],
      "text/plain": [
       "<IPython.core.display.Markdown object>"
      ]
     },
     "metadata": {},
     "output_type": "display_data"
    },
    {
     "name": "stdout",
     "output_type": "stream",
     "text": [
      "-----------------------------------------------------\n"
     ]
    },
    {
     "data": {
      "text/markdown": [
       "user: write joke2 again"
      ],
      "text/plain": [
       "<IPython.core.display.Markdown object>"
      ]
     },
     "metadata": {},
     "output_type": "display_data"
    },
    {
     "data": {
      "text/markdown": [
       "assistant: They abruptly stopped grooving when 'Baby Shark' came on. The shark groaned, 'Every time! That's my ex's favorite jam. Talk about a mood killer!'"
      ],
      "text/plain": [
       "<IPython.core.display.Markdown object>"
      ]
     },
     "metadata": {},
     "output_type": "display_data"
    },
    {
     "name": "stdout",
     "output_type": "stream",
     "text": [
      "-----------------------------------------------------\n"
     ]
    }
   ],
   "source": [
    "comedian_result = await comedian.execute()"
   ]
  },
  {
   "cell_type": "markdown",
   "metadata": {},
   "source": [
    "### Reload lion_agent_tool_action_selection"
   ]
  },
  {
   "cell_type": "code",
   "execution_count": 10,
   "metadata": {},
   "outputs": [],
   "source": [
    "structure = Neo4jExecutor(driver=neo4j, structure_name=\"tool_mul\")\n",
    "executor = InstructionMapExecutor()\n",
    "calc_mul = BaseAgent(\n",
    "    structure=structure, executable=executor, output_parser=output_parser\n",
    ")"
   ]
  },
  {
   "cell_type": "code",
   "execution_count": 11,
   "metadata": {},
   "outputs": [],
   "source": [
    "question1 = \"A school is ordering laptops for its students. If each classroom has 25 students and the school wants to provide a laptop for each student in its 8 classrooms, how many laptops in total does the school need to order?\"\n",
    "question2 = \"A bakery sells cupcakes in boxes of 6. If a customer wants to buy enough cupcakes for a party of 48 people, with each person getting one cupcake, how many boxes of cupcakes does the customer need to buy?\"\n",
    "\n",
    "import json\n",
    "\n",
    "context = {\"Question1\": question1, \"question2\": question2}\n",
    "context = json.dumps(context)"
   ]
  },
  {
   "cell_type": "code",
   "execution_count": 12,
   "metadata": {},
   "outputs": [
    {
     "name": "stdout",
     "output_type": "stream",
     "text": [
      "------------------Welcome: system--------------------\n"
     ]
    },
    {
     "data": {
      "text/markdown": [
       "system: you are asked to perform as a function picker and parameter provider"
      ],
      "text/plain": [
       "<IPython.core.display.Markdown object>"
      ]
     },
     "metadata": {},
     "output_type": "display_data"
    },
    {
     "data": {
      "text/markdown": [
       "user: Think step by step, understand the following basic math question and provide parameters for function calling."
      ],
      "text/plain": [
       "<IPython.core.display.Markdown object>"
      ]
     },
     "metadata": {},
     "output_type": "display_data"
    },
    {
     "data": {
      "text/markdown": [
       "assistant: The final results for the given math questions are as follows:\n",
       "\n",
       "1. **For the first question**: The school needs to order a total of **200 laptops** for its students. This is computed by multiplying the number of students per classroom (25) by the number of classrooms (8).\n",
       "\n",
       "2. **For the second question**: Although there was a misinterpretation in calculating the number of boxes of cupcakes needed by directly applying multiplication rather than division and rounding up, the intended calculation should determine how many boxes are needed for 48 cupcakes, given that each box contains 6 cupcakes. The correct operation would involve dividing 48 (the total number of cupcakes needed) by 6 (the number of cupcakes per box) and rounding up if necessary. However, since 48 is a multiple of 6, **8 boxes** are exactly needed without the need for rounding up, which aligns with the output mistakenly requested (48 cupcakes require 8 boxes at 6 cupcakes per box).\n",
       "\n",
       "Apologies for the confusion in the process. The essential takeaway is that the school needs to order 200 laptops, and for the party, 8 boxes of cupcakes are needed to ensure each of the 48 attendees receives one cupcake."
      ],
      "text/plain": [
       "<IPython.core.display.Markdown object>"
      ]
     },
     "metadata": {},
     "output_type": "display_data"
    },
    {
     "name": "stdout",
     "output_type": "stream",
     "text": [
      "-----------------------------------------------------\n"
     ]
    }
   ],
   "source": [
    "calc_result = await calc_mul.execute(context)"
   ]
  }
 ],
 "metadata": {
  "kernelspec": {
   "display_name": ".venv",
   "language": "python",
   "name": "python3"
  },
  "language_info": {
   "codemirror_mode": {
    "name": "ipython",
    "version": 3
   },
   "file_extension": ".py",
   "mimetype": "text/x-python",
   "name": "python",
   "nbconvert_exporter": "python",
   "pygments_lexer": "ipython3",
   "version": "3.12.1"
  }
 },
 "nbformat": 4,
 "nbformat_minor": 2
}
