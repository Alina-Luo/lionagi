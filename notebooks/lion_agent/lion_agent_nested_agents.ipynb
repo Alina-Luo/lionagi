{
 "cells": [
  {
   "cell_type": "code",
   "execution_count": 1,
   "metadata": {},
   "outputs": [],
   "source": [
    "from lionagi.core import System, Instruction\n",
    "from lionagi.core.execute.structure_executor import StructureExecutor\n",
    "from lionagi.core.execute.instruction_map_executor import InstructionMapExecutor\n",
    "from lionagi.core.agent.base_agent import BaseAgent"
   ]
  },
  {
   "cell_type": "markdown",
   "metadata": {},
   "source": [
    "### Create Comedian Agent Structure"
   ]
  },
  {
   "cell_type": "code",
   "execution_count": 2,
   "metadata": {},
   "outputs": [],
   "source": [
    "sys_comedian = System(system=\"As a comedian, you are sarcastically funny\", sender=\"comedian\")\n",
    "instruct1 = Instruction(instruction=\"very short joke: a blue whale and a big shark meet at the bar and start dancing\")\n",
    "instruct2 = Instruction(instruction=\"continue the joke: and then they stopped\")"
   ]
  },
  {
   "cell_type": "code",
   "execution_count": 3,
   "metadata": {},
   "outputs": [],
   "source": [
    "struct_comedian = StructureExecutor()\n",
    "struct_comedian.add_node(sys_comedian)\n",
    "struct_comedian.add_node(instruct1)\n",
    "struct_comedian.add_node(instruct2)\n",
    "struct_comedian.relate_nodes(sys_comedian, instruct1)\n",
    "struct_comedian.relate_nodes(instruct1, instruct2)"
   ]
  },
  {
   "cell_type": "markdown",
   "metadata": {},
   "source": [
    "### Create Critic Agent"
   ]
  },
  {
   "cell_type": "code",
   "execution_count": 4,
   "metadata": {},
   "outputs": [],
   "source": [
    "sys_critic = System(system=\"you are a respected commentator, you are artistically logical\", sender=\"critic\")\n",
    "instruct3 = Instruction(instruction=\"short comments, what do you think about the first joke?\")\n",
    "instruct4 = Instruction(instruction=\"provide a concise artistic critique on both jokes, and rate from 1-10\")"
   ]
  },
  {
   "cell_type": "code",
   "execution_count": 5,
   "metadata": {},
   "outputs": [],
   "source": [
    "struct_critic = StructureExecutor()\n",
    "struct_critic.add_node(sys_critic)\n",
    "struct_critic.add_node(instruct3)\n",
    "struct_critic.add_node(instruct4)\n",
    "struct_critic.relate_nodes(sys_critic, instruct3)\n",
    "struct_critic.relate_nodes(instruct3, instruct4)"
   ]
  },
  {
   "cell_type": "code",
   "execution_count": 6,
   "metadata": {},
   "outputs": [],
   "source": [
    "## output_parser_func parameter: agent self\n",
    "def critic_output_parser(agent):\n",
    "    output = []\n",
    "    for branch in agent.executable.branches.values():\n",
    "        output.append(branch.execution_responses)\n",
    "    return output\n",
    "\n",
    "executable_critic = InstructionMapExecutor()"
   ]
  },
  {
   "cell_type": "code",
   "execution_count": 7,
   "metadata": {},
   "outputs": [],
   "source": [
    "critic = BaseAgent(structure=struct_critic, executable=executable_critic, output_parser=critic_output_parser)"
   ]
  },
  {
   "cell_type": "markdown",
   "metadata": {},
   "source": [
    "### Add Critic Agent into Comedian Structure"
   ]
  },
  {
   "cell_type": "code",
   "execution_count": 8,
   "metadata": {},
   "outputs": [],
   "source": [
    "struct_comedian.add_node(critic)\n",
    "struct_comedian.relate_nodes(instruct2, critic)"
   ]
  },
  {
   "cell_type": "code",
   "execution_count": 9,
   "metadata": {},
   "outputs": [],
   "source": [
    "instruct5 = Instruction(instruction=\"your jokes were evaluated by a critic, does it make sense to you? why?\")\n",
    "instruct6 = Instruction(instruction=\"basing on your reflection, write joke1 again\")\n",
    "instruct7 = Instruction(instruction=\"write joke2 again\")"
   ]
  },
  {
   "cell_type": "code",
   "execution_count": 10,
   "metadata": {},
   "outputs": [],
   "source": [
    "struct_comedian.add_node(instruct5)\n",
    "struct_comedian.add_node(instruct6)\n",
    "struct_comedian.add_node(instruct7)\n",
    "struct_comedian.relate_nodes(critic, instruct5)\n",
    "struct_comedian.relate_nodes(instruct5, instruct6)\n",
    "struct_comedian.relate_nodes(instruct6, instruct7)"
   ]
  },
  {
   "cell_type": "code",
   "execution_count": 11,
   "metadata": {},
   "outputs": [
    {
     "data": {
      "image/png": "[encoded data removed]",
      "text/plain": [
       "<Figure size 640x480 with 1 Axes>"
      ]
     },
     "metadata": {},
     "output_type": "display_data"
    }
   ],
   "source": [
    "import networkx as nx\n",
    "import matplotlib.pyplot as plt\n",
    "\n",
    "g = struct_comedian.to_networkx()\n",
    "labels = nx.get_node_attributes(g, 'class_name') \n",
    "nx.draw(g, labels=labels)"
   ]
  },
  {
   "cell_type": "code",
   "execution_count": 12,
   "metadata": {},
   "outputs": [],
   "source": [
    "## output_parser parameter: agent self\n",
    "## output_parser return: the expected result that should be returned after execution\n",
    "def output_parser(agent):\n",
    "    ## return all message dataframe in all branches\n",
    "    output = []\n",
    "    for branch in agent.executable.branches.values():\n",
    "        output.append(branch.messages)\n",
    "    return output\n",
    "\n",
    "executable = InstructionMapExecutor()"
   ]
  },
  {
   "cell_type": "code",
   "execution_count": 13,
   "metadata": {},
   "outputs": [],
   "source": [
    "comedian = BaseAgent(structure=struct_comedian, executable=executable, output_parser=output_parser)"
   ]
  },
  {
   "cell_type": "code",
   "execution_count": 14,
   "metadata": {},
   "outputs": [
    {
     "name": "stdout",
     "output_type": "stream",
     "text": [
      "------------------Welcome: comedian--------------------\n"
     ]
    },
    {
     "data": {
      "text/markdown": [
       "system: As a comedian, you are sarcastically funny"
      ],
      "text/plain": [
       "<IPython.core.display.Markdown object>"
      ]
     },
     "metadata": {},
     "output_type": "display_data"
    },
    {
     "data": {
      "text/markdown": [
       "user: very short joke: a blue whale and a big shark meet at the bar and start dancing"
      ],
      "text/plain": [
       "<IPython.core.display.Markdown object>"
      ]
     },
     "metadata": {},
     "output_type": "display_data"
    },
    {
     "data": {
      "text/markdown": [
       "assistant: Why did the blue whale and the big shark start dancing at the bar? Because the bartender said, \"Let's see some fin-tastic moves!\""
      ],
      "text/plain": [
       "<IPython.core.display.Markdown object>"
      ]
     },
     "metadata": {},
     "output_type": "display_data"
    },
    {
     "name": "stdout",
     "output_type": "stream",
     "text": [
      "-----------------------------------------------------\n"
     ]
    },
    {
     "data": {
      "text/markdown": [
       "user: continue the joke: and then they stopped"
      ],
      "text/plain": [
       "<IPython.core.display.Markdown object>"
      ]
     },
     "metadata": {},
     "output_type": "display_data"
    },
    {
     "data": {
      "text/markdown": [
       "assistant: And then they stopped because someone played 'Baby Shark' on the jukebox and the shark was like, 'Not this again, that's my ex's song!'"
      ],
      "text/plain": [
       "<IPython.core.display.Markdown object>"
      ]
     },
     "metadata": {},
     "output_type": "display_data"
    },
    {
     "name": "stdout",
     "output_type": "stream",
     "text": [
      "-----------------------------------------------------\n",
      "*****************************************************\n",
      "------------------Welcome: critic--------------------\n"
     ]
    },
    {
     "data": {
      "text/markdown": [
       "system: you are a respected commentator, you are artistically logical"
      ],
      "text/plain": [
       "<IPython.core.display.Markdown object>"
      ]
     },
     "metadata": {},
     "output_type": "display_data"
    },
    {
     "data": {
      "text/markdown": [
       "user: short comments, what do you think about the first joke?"
      ],
      "text/plain": [
       "<IPython.core.display.Markdown object>"
      ]
     },
     "metadata": {},
     "output_type": "display_data"
    },
    {
     "data": {
      "text/markdown": [
       "assistant: The initial joke charmingly plays on the whimsy of underwater creatures engaging in human-like revelry, wrapped with a pun that's both groan-worthy and delightful. The punchline swims in the playful intersection of language and aquatic life, showcasing a light-hearted take on bar culture through the lens of the ocean's most formidable inhabitants."
      ],
      "text/plain": [
       "<IPython.core.display.Markdown object>"
      ]
     },
     "metadata": {},
     "output_type": "display_data"
    },
    {
     "name": "stdout",
     "output_type": "stream",
     "text": [
      "-----------------------------------------------------\n"
     ]
    },
    {
     "data": {
      "text/markdown": [
       "user: provide a concise artistic critique on both jokes, and rate from 1-10"
      ],
      "text/plain": [
       "<IPython.core.display.Markdown object>"
      ]
     },
     "metadata": {},
     "output_type": "display_data"
    },
    {
     "data": {
      "text/markdown": [
       "assistant: The first joke, with its clever setup of ocean giants in a bar, brings a refreshing splash of humor through the use of a pun, 'fin-tastic moves,' which is both accessible and amusing, meriting a 7/10 for its playful creativity and unexpectedness. The continuation adds a layer of pop culture reference and personal backstory to the shark, cleverly subverting expectations with a humorous twist on the 'Baby Shark' song. This addition, while building on the original's charm, ventures into more specific humor that might not resonate as universally, earning a 6.5/10 for its inventive yet niche appeal."
      ],
      "text/plain": [
       "<IPython.core.display.Markdown object>"
      ]
     },
     "metadata": {},
     "output_type": "display_data"
    },
    {
     "name": "stdout",
     "output_type": "stream",
     "text": [
      "-----------------------------------------------------\n",
      "*****************************************************\n"
     ]
    },
    {
     "data": {
      "text/markdown": [
       "user: your jokes were evaluated by a critic, does it make sense to you? why?"
      ],
      "text/plain": [
       "<IPython.core.display.Markdown object>"
      ]
     },
     "metadata": {},
     "output_type": "display_data"
    },
    {
     "data": {
      "text/markdown": [
       "assistant: Oh, absolutely, it makes sense! You see, the first part of the joke is like a refreshing dive into a pool on a hot summer day – it's universally refreshing and just what everyone needs. The critic appreciates the leap into the ocean of puns with \"fin-tastic moves,\" which, let's be honest, is the kind of dad joke that even the coolest fish in the sea can't help but chuckle at. Getting a 7/10 is like finding a pearl in an oyster – unexpected but totally a win.\n",
       "\n",
       "Now, the sequel with \"Baby Shark\" – that's where we wade into murkier waters. It's like deciding to wear flip-flops to a formal event. Bold? Yes. For everyone? Maybe not. The critic caught onto that, pointing out how it dives deeper into the reef of specific humor, which might not tickle everyone the same way. A 6.5/10? That's like finding a slightly smaller pearl in your oyster. Still a gem, but you know, not everyone's looking for more pearls.\n",
       "\n",
       "In the grand ocean of comedy, it's all about riding the waves and seeing which ones splash the most. And if you can make a critic smile while navigating through those waters, you're definitely swimming in the right direction."
      ],
      "text/plain": [
       "<IPython.core.display.Markdown object>"
      ]
     },
     "metadata": {},
     "output_type": "display_data"
    },
    {
     "name": "stdout",
     "output_type": "stream",
     "text": [
      "-----------------------------------------------------\n"
     ]
    },
    {
     "data": {
      "text/markdown": [
       "user: basing on your reflection, write joke1 again"
      ],
      "text/plain": [
       "<IPython.core.display.Markdown object>"
      ]
     },
     "metadata": {},
     "output_type": "display_data"
    },
    {
     "data": {
      "text/markdown": [
       "assistant: Why did the blue whale and the big shark start dancing at the bar? Because they heard it was a 'sea-quence' dance, and they thought, 'Water we got to lose?'"
      ],
      "text/plain": [
       "<IPython.core.display.Markdown object>"
      ]
     },
     "metadata": {},
     "output_type": "display_data"
    },
    {
     "name": "stdout",
     "output_type": "stream",
     "text": [
      "-----------------------------------------------------\n"
     ]
    },
    {
     "data": {
      "text/markdown": [
       "user: write joke2 again"
      ],
      "text/plain": [
       "<IPython.core.display.Markdown object>"
      ]
     },
     "metadata": {},
     "output_type": "display_data"
    },
    {
     "data": {
      "text/markdown": [
       "assistant: And then they stopped because the DJ switched to 'Under the Sea,' and the blue whale said, 'This is more my wave,' but the shark mumbled, 'Great, now I’m just a fish out of water.'"
      ],
      "text/plain": [
       "<IPython.core.display.Markdown object>"
      ]
     },
     "metadata": {},
     "output_type": "display_data"
    },
    {
     "name": "stdout",
     "output_type": "stream",
     "text": [
      "-----------------------------------------------------\n"
     ]
    }
   ],
   "source": [
    "result = await comedian.execute()"
   ]
  },
  {
   "cell_type": "markdown",
   "metadata": {},
   "source": [
    "# Storing Structures\n",
    "\n",
    "We currently support the storage of structures in excel or Neo4j, enabling their reuse in future applications.\n",
    "\n",
    "To ensure future direct retrieval, make sure to store all structures created within the nested agents in the same folder or Neo4j database."
   ]
  },
  {
   "cell_type": "markdown",
   "metadata": {},
   "source": [
    "### Excel"
   ]
  },
  {
   "cell_type": "code",
   "execution_count": null,
   "metadata": {},
   "outputs": [],
   "source": [
    "struct_comedian.to_excel('comedian')\n",
    "struct_critic.to_excel('critic')"
   ]
  },
  {
   "cell_type": "markdown",
   "metadata": {},
   "source": [
    "### Neo4j"
   ]
  },
  {
   "cell_type": "code",
   "execution_count": 15,
   "metadata": {},
   "outputs": [],
   "source": [
    "# initiate Neo4j Driver\n",
    "uri = \"bolt://localhost:7687\"\n",
    "user = \"neo4j\"\n",
    "password = \"12345678\"\n",
    "database = \"neo4j\"\n",
    "\n",
    "from lionagi.integrations.storage.neo4j import Neo4j\n",
    "neo4j = Neo4j(uri, user, password, database)"
   ]
  },
  {
   "cell_type": "code",
   "execution_count": 16,
   "metadata": {},
   "outputs": [],
   "source": [
    "# structure_name is unique\n",
    "\n",
    "await neo4j.store(struct_comedian, structure_name='comedian')\n",
    "await neo4j.store(struct_critic, structure_name='critic')"
   ]
  }
 ],
 "metadata": {
  "kernelspec": {
   "display_name": ".venv",
   "language": "python",
   "name": "python3"
  },
  "language_info": {
   "codemirror_mode": {
    "name": "ipython",
    "version": 3
   },
   "file_extension": ".py",
   "mimetype": "text/x-python",
   "name": "python",
   "nbconvert_exporter": "python",
   "pygments_lexer": "ipython3",
   "version": "3.12.1"
  }
 },
 "nbformat": 4,
 "nbformat_minor": 2
}
