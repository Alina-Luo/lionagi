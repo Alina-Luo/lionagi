{
 "cells": [
  {
   "cell_type": "code",
   "execution_count": 1,
   "metadata": {},
   "outputs": [],
   "source": [
    "from lionagi.core.message import System, Instruction\n",
    "from lionagi.core.execute.structure_executor import StructureExecutor\n",
    "from lionagi.core.execute.instruction_map_executor import InstructionMapExecutor\n",
    "from lionagi.core.agent.base_agent import BaseAgent\n",
    "\n",
    "from lionagi.core.action import func_to_tool, DirectiveSelection"
   ]
  },
  {
   "cell_type": "markdown",
   "metadata": {},
   "source": [
    "# Create Nodes"
   ]
  },
  {
   "cell_type": "code",
   "execution_count": 2,
   "metadata": {},
   "outputs": [],
   "source": [
    "sys_mul = System(\"you are asked to perform as a function picker and parameter provider\")\n",
    "instruction = Instruction(\n",
    "    \"Think step by step, understand the following basic math question and provide parameters for function calling.\"\n",
    ")"
   ]
  },
  {
   "cell_type": "markdown",
   "metadata": {},
   "source": [
    "Instruction nodes can link to Tool nodes, specifing the tool or tools to be used in that step"
   ]
  },
  {
   "cell_type": "code",
   "execution_count": 3,
   "metadata": {},
   "outputs": [],
   "source": [
    "def multiply(number1: float, number2: float):\n",
    "    \"\"\"\n",
    "    Perform multiplication on two numbers.\n",
    "\n",
    "    Args:\n",
    "        number1: First number to multiply.\n",
    "        number2: Second number to multiply.\n",
    "\n",
    "    Returns:\n",
    "        The product of number1 and number2.\n",
    "\n",
    "    \"\"\"\n",
    "    return number1 * number2\n",
    "\n",
    "\n",
    "tool_m = func_to_tool(multiply)"
   ]
  },
  {
   "cell_type": "markdown",
   "metadata": {},
   "source": [
    "Each Instruction node can link to an ActionSelection node. The supported actions include `chat`, `followup`, or `ReAct`. If no action is attached, the default execution mode is set to `chat`."
   ]
  },
  {
   "cell_type": "code",
   "execution_count": 4,
   "metadata": {},
   "outputs": [],
   "source": [
    "action = DirectiveSelection(directive=\"direct\", directive_kwargs={'reason': True, 'score':True})"
   ]
  },
  {
   "cell_type": "markdown",
   "metadata": {},
   "source": [
    "# Create Structure"
   ]
  },
  {
   "cell_type": "code",
   "execution_count": 5,
   "metadata": {},
   "outputs": [],
   "source": [
    "struct_mul = StructureExecutor()\n",
    "struct_mul.add_node(sys_mul)\n",
    "struct_mul.add_node(instruction)\n",
    "struct_mul.add_node(tool_m[0])\n",
    "struct_mul.add_node(action)\n",
    "struct_mul.add_edge(sys_mul, instruction)\n",
    "struct_mul.add_edge(instruction, tool_m[0])\n",
    "struct_mul.add_edge(instruction, action)"
   ]
  },
  {
   "cell_type": "code",
   "execution_count": 6,
   "metadata": {},
   "outputs": [
    {
     "data": {
      "image/png": "[encoded data removed]",
      "text/plain": [
       "<Figure size 640x480 with 1 Axes>"
      ]
     },
     "metadata": {},
     "output_type": "display_data"
    }
   ],
   "source": [
    "import networkx as nx\n",
    "import matplotlib.pyplot as plt\n",
    "\n",
    "g = struct_mul.to_networkx()\n",
    "labels = nx.get_node_attributes(g, \"class_name\")\n",
    "nx.draw(g, labels=labels)"
   ]
  },
  {
   "cell_type": "code",
   "execution_count": 7,
   "metadata": {},
   "outputs": [],
   "source": [
    "# output_parser parameter: agent self\n",
    "# output_parser return: the expected result that should be returned after execution\n",
    "def output_parser(agent):\n",
    "    ## return all message dataframe in all branches\n",
    "    output = []\n",
    "    for branch in agent.executable.branches.values():\n",
    "        output.append(branch.to_df())\n",
    "    return output\n",
    "\n",
    "\n",
    "executable = InstructionMapExecutor()"
   ]
  },
  {
   "cell_type": "code",
   "execution_count": 8,
   "metadata": {},
   "outputs": [],
   "source": [
    "calc = BaseAgent(\n",
    "    structure=struct_mul,\n",
    "    executable=executable,\n",
    "    output_parser=output_parser,\n",
    ")"
   ]
  },
  {
   "cell_type": "markdown",
   "metadata": {},
   "source": [
    "# Usage"
   ]
  },
  {
   "cell_type": "code",
   "execution_count": 9,
   "metadata": {},
   "outputs": [],
   "source": [
    "question1 = \"A school is ordering laptops for its students. If each classroom has 25 students and the school wants to provide a laptop for each student in its 8 classrooms, how many laptops in total does the school need to order?\"\n",
    "question2 = \"A bakery sells cupcakes in boxes of 6. If a customer wants to buy 8 boxes, with each person getting one cupcake, how many people can the customer serve cupcake to?\"\n",
    "\n",
    "import json\n",
    "\n",
    "context = {\"Question1\": question1, \"question2\": question2}\n",
    "context = json.dumps(context)"
   ]
  },
  {
   "cell_type": "code",
   "execution_count": 10,
   "metadata": {},
   "outputs": [
    {
     "name": "stdout",
     "output_type": "stream",
     "text": [
      "------------------Welcome: system--------------------\n"
     ]
    },
    {
     "data": {
      "text/markdown": [
       "system: you are asked to perform as a function picker and parameter provider"
      ],
      "text/plain": [
       "<IPython.core.display.Markdown object>"
      ]
     },
     "metadata": {},
     "output_type": "display_data"
    },
    {
     "data": {
      "text/markdown": [
       "user: Think step by step, understand the following basic math question and provide parameters for function calling."
      ],
      "text/plain": [
       "<IPython.core.display.Markdown object>"
      ]
     },
     "metadata": {},
     "output_type": "display_data"
    },
    {
     "data": {
      "text/markdown": [
       "assistant a028bf0a3dee287196f4257dd1f6515d:\n"
      ],
      "text/plain": [
       "<IPython.core.display.Markdown object>"
      ]
     },
     "metadata": {},
     "output_type": "display_data"
    },
    {
     "data": {
      "text/markdown": [
       "task: \n",
       "Follow the prompt and provide the necessary output.\n",
       "- Additional instruction: Think step by step, understand the following basic math question and provide parameters for function calling.\n",
       "- Additional context: {\"Question1\": \"A school is ordering laptops for its students. If each classroom has 25 students and the school wants to provide a laptop for each student in its 8 classrooms, how many laptops in total does the school need to order?\", \"question2\": \"A bakery sells cupcakes in boxes of 6. If a customer wants to buy 8 boxes, with each person getting one cupcake, how many people can the customer serve cupcake to?\"}\n",
       "- Perform reasoning and prepare actions with GIVEN TOOLS ONLY.\n",
       "- Perform scoring according to score range: [0, 10] and precision: integer.\n",
       "\n"
      ],
      "text/plain": [
       "<IPython.core.display.Markdown object>"
      ]
     },
     "metadata": {},
     "output_type": "display_data"
    },
    {
     "data": {
      "text/markdown": [
       "reason: \n",
       "Let's think step by step, because we need to calculate the total number of laptops and the total number of cupcakes required.\n"
      ],
      "text/plain": [
       "<IPython.core.display.Markdown object>"
      ]
     },
     "metadata": {},
     "output_type": "display_data"
    },
    {
     "data": {
      "text/markdown": [
       "actions: \n",
       "{'action_1': {'function': 'functions.multiply', 'arguments': {'number1': 25, 'number2': 8}}, 'action_2': {'function': 'functions.multiply', 'arguments': {'number1': 6, 'number2': 8}}}\n"
      ],
      "text/plain": [
       "<IPython.core.display.Markdown object>"
      ]
     },
     "metadata": {},
     "output_type": "display_data"
    },
    {
     "data": {
      "text/markdown": [
       "action_required: \n",
       "True\n"
      ],
      "text/plain": [
       "<IPython.core.display.Markdown object>"
      ]
     },
     "metadata": {},
     "output_type": "display_data"
    },
    {
     "data": {
      "text/markdown": [
       "answer: \n",
       "The school needs to order 200 laptops, and the customer can serve cupcakes to 48 people.\n"
      ],
      "text/plain": [
       "<IPython.core.display.Markdown object>"
      ]
     },
     "metadata": {},
     "output_type": "display_data"
    },
    {
     "data": {
      "text/markdown": [
       "score: \n",
       "10\n"
      ],
      "text/plain": [
       "<IPython.core.display.Markdown object>"
      ]
     },
     "metadata": {},
     "output_type": "display_data"
    },
    {
     "data": {
      "text/markdown": [
       "action_response: \n",
       "{'action_1': {'function': 'multiply', 'arguments': {'number1': 25, 'number2': 8}, 'output': 200}, 'action_2': {'function': 'multiply', 'arguments': {'number1': 6, 'number2': 8}, 'output': 48}}\n"
      ],
      "text/plain": [
       "<IPython.core.display.Markdown object>"
      ]
     },
     "metadata": {},
     "output_type": "display_data"
    },
    {
     "data": {
      "text/markdown": [
       "action_performed: \n",
       "True\n"
      ],
      "text/plain": [
       "<IPython.core.display.Markdown object>"
      ]
     },
     "metadata": {},
     "output_type": "display_data"
    },
    {
     "name": "stdout",
     "output_type": "stream",
     "text": [
      "-----------------------------------------------------\n"
     ]
    }
   ],
   "source": [
    "calc_result = await calc.execute(context)"
   ]
  },
  {
   "cell_type": "code",
   "execution_count": 11,
   "metadata": {},
   "outputs": [
    {
     "data": {
      "text/html": [
       "<div>\n",
       "<style scoped>\n",
       "    .dataframe tbody tr th:only-of-type {\n",
       "        vertical-align: middle;\n",
       "    }\n",
       "\n",
       "    .dataframe tbody tr th {\n",
       "        vertical-align: top;\n",
       "    }\n",
       "\n",
       "    .dataframe thead th {\n",
       "        text-align: right;\n",
       "    }\n",
       "</style>\n",
       "<table border=\"1\" class=\"dataframe\">\n",
       "  <thead>\n",
       "    <tr style=\"text-align: right;\">\n",
       "      <th></th>\n",
       "      <th>ln_id</th>\n",
       "      <th>message_type</th>\n",
       "      <th>timestamp</th>\n",
       "      <th>role</th>\n",
       "      <th>content</th>\n",
       "      <th>metadata</th>\n",
       "      <th>sender</th>\n",
       "      <th>recipient</th>\n",
       "    </tr>\n",
       "  </thead>\n",
       "  <tbody>\n",
       "    <tr>\n",
       "      <th>0</th>\n",
       "      <td>2bd02ae0f8dd41378fa1b7ad83c3ec1d</td>\n",
       "      <td>System</td>\n",
       "      <td>2024-05-21T19:26:36.903240</td>\n",
       "      <td>system</td>\n",
       "      <td>{'system_info': 'you are asked to perform as a...</td>\n",
       "      <td>{'last_updated': {'recipient': '2024-05-21T19:...</td>\n",
       "      <td>system</td>\n",
       "      <td>a028bf0a3dee287196f4257dd1f6515d</td>\n",
       "    </tr>\n",
       "    <tr>\n",
       "      <th>1</th>\n",
       "      <td>0b57c266a73b81fafe115b72ecc78b0a</td>\n",
       "      <td>Instruction</td>\n",
       "      <td>2024-05-21T19:26:39.005069</td>\n",
       "      <td>user</td>\n",
       "      <td>{'instruction': '\n",
       "0. Your in is Follow the pro...</td>\n",
       "      <td>{'last_updated': {'sender': '2024-05-21T19:26:...</td>\n",
       "      <td>user</td>\n",
       "      <td>a028bf0a3dee287196f4257dd1f6515d</td>\n",
       "    </tr>\n",
       "    <tr>\n",
       "      <th>2</th>\n",
       "      <td>9c233cb2e14c50ab3ad64d0f08a21240</td>\n",
       "      <td>AssistantResponse</td>\n",
       "      <td>2024-05-21T19:26:43.182077</td>\n",
       "      <td>assistant</td>\n",
       "      <td>{'assistant_response': '```json\n",
       "{\n",
       "  \"answer\": ...</td>\n",
       "      <td>{'last_updated': {'sender': '2024-05-21T19:26:...</td>\n",
       "      <td>a028bf0a3dee287196f4257dd1f6515d</td>\n",
       "      <td>user</td>\n",
       "    </tr>\n",
       "    <tr>\n",
       "      <th>3</th>\n",
       "      <td>927fda4499669852acc184b1f210e463</td>\n",
       "      <td>ActionRequest</td>\n",
       "      <td>2024-05-21T19:26:43.183297</td>\n",
       "      <td>assistant</td>\n",
       "      <td>{'action_request': {'function': 'multiply', 'a...</td>\n",
       "      <td>{'last_updated': {'function': '2024-05-21T19:2...</td>\n",
       "      <td>a028bf0a3dee287196f4257dd1f6515d</td>\n",
       "      <td>aab34a738036038ea63a4c2583989c4a</td>\n",
       "    </tr>\n",
       "    <tr>\n",
       "      <th>4</th>\n",
       "      <td>b14a40d1d3371db7deb0ee590913bca7</td>\n",
       "      <td>ActionRequest</td>\n",
       "      <td>2024-05-21T19:26:43.183423</td>\n",
       "      <td>assistant</td>\n",
       "      <td>{'action_request': {'function': 'multiply', 'a...</td>\n",
       "      <td>{'last_updated': {'function': '2024-05-21T19:2...</td>\n",
       "      <td>a028bf0a3dee287196f4257dd1f6515d</td>\n",
       "      <td>aab34a738036038ea63a4c2583989c4a</td>\n",
       "    </tr>\n",
       "    <tr>\n",
       "      <th>5</th>\n",
       "      <td>da078668cd4d9939cd07526e441bc3f2</td>\n",
       "      <td>ActionResponse</td>\n",
       "      <td>2024-05-21T19:26:43.183668</td>\n",
       "      <td>assistant</td>\n",
       "      <td>{'action_response': {'function': 'multiply', '...</td>\n",
       "      <td>{'last_updated': {'function': '2024-05-21T19:2...</td>\n",
       "      <td>aab34a738036038ea63a4c2583989c4a</td>\n",
       "      <td>a028bf0a3dee287196f4257dd1f6515d</td>\n",
       "    </tr>\n",
       "    <tr>\n",
       "      <th>6</th>\n",
       "      <td>2446f624988430c6c2a46a4cb182cdfa</td>\n",
       "      <td>ActionResponse</td>\n",
       "      <td>2024-05-21T19:26:43.183850</td>\n",
       "      <td>assistant</td>\n",
       "      <td>{'action_response': {'function': 'multiply', '...</td>\n",
       "      <td>{'last_updated': {'function': '2024-05-21T19:2...</td>\n",
       "      <td>aab34a738036038ea63a4c2583989c4a</td>\n",
       "      <td>a028bf0a3dee287196f4257dd1f6515d</td>\n",
       "    </tr>\n",
       "    <tr>\n",
       "      <th>7</th>\n",
       "      <td>41b66e01073ccf9475e0ffe35a51b93f</td>\n",
       "      <td>Instruction</td>\n",
       "      <td>2024-05-21T19:26:43.184219</td>\n",
       "      <td>user</td>\n",
       "      <td>{'instruction': 'please provide final answer b...</td>\n",
       "      <td>{'last_updated': {'sender': '2024-05-21T19:26:...</td>\n",
       "      <td>user</td>\n",
       "      <td>a028bf0a3dee287196f4257dd1f6515d</td>\n",
       "    </tr>\n",
       "    <tr>\n",
       "      <th>8</th>\n",
       "      <td>1b67f7e85b92f329e0187e8a040934e9</td>\n",
       "      <td>AssistantResponse</td>\n",
       "      <td>2024-05-21T19:26:44.151656</td>\n",
       "      <td>assistant</td>\n",
       "      <td>{'assistant_response': '{\"answer\": \"The school...</td>\n",
       "      <td>{'last_updated': {'sender': '2024-05-21T19:26:...</td>\n",
       "      <td>a028bf0a3dee287196f4257dd1f6515d</td>\n",
       "      <td>user</td>\n",
       "    </tr>\n",
       "  </tbody>\n",
       "</table>\n",
       "</div>"
      ],
      "text/plain": [
       "                              ln_id       message_type  \\\n",
       "0  2bd02ae0f8dd41378fa1b7ad83c3ec1d             System   \n",
       "1  0b57c266a73b81fafe115b72ecc78b0a        Instruction   \n",
       "2  9c233cb2e14c50ab3ad64d0f08a21240  AssistantResponse   \n",
       "3  927fda4499669852acc184b1f210e463      ActionRequest   \n",
       "4  b14a40d1d3371db7deb0ee590913bca7      ActionRequest   \n",
       "5  da078668cd4d9939cd07526e441bc3f2     ActionResponse   \n",
       "6  2446f624988430c6c2a46a4cb182cdfa     ActionResponse   \n",
       "7  41b66e01073ccf9475e0ffe35a51b93f        Instruction   \n",
       "8  1b67f7e85b92f329e0187e8a040934e9  AssistantResponse   \n",
       "\n",
       "                    timestamp       role  \\\n",
       "0  2024-05-21T19:26:36.903240     system   \n",
       "1  2024-05-21T19:26:39.005069       user   \n",
       "2  2024-05-21T19:26:43.182077  assistant   \n",
       "3  2024-05-21T19:26:43.183297  assistant   \n",
       "4  2024-05-21T19:26:43.183423  assistant   \n",
       "5  2024-05-21T19:26:43.183668  assistant   \n",
       "6  2024-05-21T19:26:43.183850  assistant   \n",
       "7  2024-05-21T19:26:43.184219       user   \n",
       "8  2024-05-21T19:26:44.151656  assistant   \n",
       "\n",
       "                                             content  \\\n",
       "0  {'system_info': 'you are asked to perform as a...   \n",
       "1  {'instruction': '\n",
       "0. Your in is Follow the pro...   \n",
       "2  {'assistant_response': '```json\n",
       "{\n",
       "  \"answer\": ...   \n",
       "3  {'action_request': {'function': 'multiply', 'a...   \n",
       "4  {'action_request': {'function': 'multiply', 'a...   \n",
       "5  {'action_response': {'function': 'multiply', '...   \n",
       "6  {'action_response': {'function': 'multiply', '...   \n",
       "7  {'instruction': 'please provide final answer b...   \n",
       "8  {'assistant_response': '{\"answer\": \"The school...   \n",
       "\n",
       "                                            metadata  \\\n",
       "0  {'last_updated': {'recipient': '2024-05-21T19:...   \n",
       "1  {'last_updated': {'sender': '2024-05-21T19:26:...   \n",
       "2  {'last_updated': {'sender': '2024-05-21T19:26:...   \n",
       "3  {'last_updated': {'function': '2024-05-21T19:2...   \n",
       "4  {'last_updated': {'function': '2024-05-21T19:2...   \n",
       "5  {'last_updated': {'function': '2024-05-21T19:2...   \n",
       "6  {'last_updated': {'function': '2024-05-21T19:2...   \n",
       "7  {'last_updated': {'sender': '2024-05-21T19:26:...   \n",
       "8  {'last_updated': {'sender': '2024-05-21T19:26:...   \n",
       "\n",
       "                             sender                         recipient  \n",
       "0                            system  a028bf0a3dee287196f4257dd1f6515d  \n",
       "1                              user  a028bf0a3dee287196f4257dd1f6515d  \n",
       "2  a028bf0a3dee287196f4257dd1f6515d                              user  \n",
       "3  a028bf0a3dee287196f4257dd1f6515d  aab34a738036038ea63a4c2583989c4a  \n",
       "4  a028bf0a3dee287196f4257dd1f6515d  aab34a738036038ea63a4c2583989c4a  \n",
       "5  aab34a738036038ea63a4c2583989c4a  a028bf0a3dee287196f4257dd1f6515d  \n",
       "6  aab34a738036038ea63a4c2583989c4a  a028bf0a3dee287196f4257dd1f6515d  \n",
       "7                              user  a028bf0a3dee287196f4257dd1f6515d  \n",
       "8  a028bf0a3dee287196f4257dd1f6515d                              user  "
      ]
     },
     "execution_count": 11,
     "metadata": {},
     "output_type": "execute_result"
    }
   ],
   "source": [
    "calc_result[0]"
   ]
  },
  {
   "cell_type": "markdown",
   "metadata": {},
   "source": [
    "# Storing Structures\n",
    "\n",
    "We currently support the storage of structures in Excel and Neo4j, enabling their reuse in future applications."
   ]
  },
  {
   "cell_type": "markdown",
   "metadata": {},
   "source": [
    "### Excel"
   ]
  },
  {
   "cell_type": "code",
   "execution_count": 12,
   "metadata": {},
   "outputs": [],
   "source": [
    "struct_mul.to_excel(\"tool_mul\")  # dir = \"structure_storage\" (default)"
   ]
  },
  {
   "cell_type": "markdown",
   "metadata": {},
   "source": [
    "### Neo4j"
   ]
  },
  {
   "cell_type": "code",
   "execution_count": 13,
   "metadata": {},
   "outputs": [],
   "source": [
    "# initiate Neo4j Driver\n",
    "uri = \"bolt://localhost:7687\"\n",
    "user = \"neo4j\"\n",
    "password = \"12345678\"\n",
    "database = \"neo4j\"\n",
    "\n",
    "from lionagi.integrations.storage.neo4j import Neo4j\n",
    "\n",
    "neo4j = Neo4j(uri, user, password, database)"
   ]
  },
  {
   "cell_type": "code",
   "execution_count": 14,
   "metadata": {},
   "outputs": [],
   "source": [
    "# structure_name is unique\n",
    "\n",
    "await neo4j.store(struct_mul, structure_name=\"tool_mul\")"
   ]
  }
 ],
 "metadata": {
  "kernelspec": {
   "display_name": ".venv",
   "language": "python",
   "name": "python3"
  },
  "language_info": {
   "codemirror_mode": {
    "name": "ipython",
    "version": 3
   },
   "file_extension": ".py",
   "mimetype": "text/x-python",
   "name": "python",
   "nbconvert_exporter": "python",
   "pygments_lexer": "ipython3",
   "version": "3.10.6"
  }
 },
 "nbformat": 4,
 "nbformat_minor": 2
}
