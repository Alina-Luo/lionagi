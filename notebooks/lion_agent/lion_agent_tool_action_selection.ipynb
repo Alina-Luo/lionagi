{
 "cells": [
  {
   "cell_type": "code",
   "execution_count": 1,
   "metadata": {},
   "outputs": [],
   "source": [
    "from lionagi.core import System, Instruction\n",
    "from lionagi.core.execute.structure_executor import StructureExecutor\n",
    "from lionagi.core.execute.instruction_map_executor import InstructionMapExecutor\n",
    "from lionagi.core.agent.base_agent import BaseAgent\n",
    "\n",
    "from lionagi.core import func_to_tool\n",
    "from lionagi.core.generic.action import ActionSelection"
   ]
  },
  {
   "cell_type": "markdown",
   "metadata": {},
   "source": [
    "# Create Nodes"
   ]
  },
  {
   "cell_type": "code",
   "execution_count": 2,
   "metadata": {},
   "outputs": [],
   "source": [
    "sys_mul = System(\"you are asked to perform as a function picker and parameter provider\")\n",
    "instruction = Instruction(\n",
    "    \"Think step by step, understand the following basic math question and provide parameters for function calling.\"\n",
    ")"
   ]
  },
  {
   "cell_type": "markdown",
   "metadata": {},
   "source": [
    "Instruction nodes can link to Tool nodes, specifing the tool or tools to be used in that step"
   ]
  },
  {
   "cell_type": "code",
   "execution_count": 3,
   "metadata": {},
   "outputs": [],
   "source": [
    "def multiply(number1: float, number2: float):\n",
    "    \"\"\"\n",
    "    Perform multiplication on two numbers.\n",
    "\n",
    "    Args:\n",
    "        number1: First number to multiply.\n",
    "        number2: Second number to multiply.\n",
    "\n",
    "    Returns:\n",
    "        The product of number1 and number2.\n",
    "\n",
    "    \"\"\"\n",
    "    return number1 * number2\n",
    "\n",
    "\n",
    "tool_m = func_to_tool(multiply)"
   ]
  },
  {
   "cell_type": "markdown",
   "metadata": {},
   "source": [
    "Each Instruction node can link to an ActionSelection node. The supported actions include `chat`, `followup`, or `ReAct`. If no action is attached, the default execution mode is set to `chat`."
   ]
  },
  {
   "cell_type": "code",
   "execution_count": 4,
   "metadata": {},
   "outputs": [],
   "source": [
    "action = ActionSelection(\n",
    "    action=\"ReAct\", action_kwargs={\"auto\": True}\n",
    ")"
   ]
  },
  {
   "cell_type": "markdown",
   "metadata": {},
   "source": [
    "# Create Structure"
   ]
  },
  {
   "cell_type": "code",
   "execution_count": 5,
   "metadata": {},
   "outputs": [],
   "source": [
    "struct_mul = StructureExecutor()\n",
    "struct_mul.add_node(sys_mul)\n",
    "struct_mul.add_node(instruction)\n",
    "struct_mul.add_node(tool_m[0])\n",
    "struct_mul.add_node(action)\n",
    "struct_mul.relate_nodes(sys_mul, instruction)\n",
    "struct_mul.relate_nodes(instruction, tool_m[0])\n",
    "struct_mul.relate_nodes(instruction, action)"
   ]
  },
  {
   "cell_type": "code",
   "execution_count": 6,
   "metadata": {},
   "outputs": [
    {
     "data": {
      "image/png": "[encoded data removed]",
      "text/plain": [
       "<Figure size 640x480 with 1 Axes>"
      ]
     },
     "metadata": {},
     "output_type": "display_data"
    }
   ],
   "source": [
    "import networkx as nx\n",
    "import matplotlib.pyplot as plt\n",
    "\n",
    "g = struct_mul.to_networkx()\n",
    "labels = nx.get_node_attributes(g, \"class_name\")\n",
    "nx.draw(g, labels=labels)"
   ]
  },
  {
   "cell_type": "code",
   "execution_count": 7,
   "metadata": {},
   "outputs": [],
   "source": [
    "## output_parser parameter: agent self\n",
    "## output_parser return: the expected result that should be returned after execution\n",
    "def output_parser(agent):\n",
    "    ## return all message dataframe in all branches\n",
    "    output = []\n",
    "    for branch in agent.executable.branches.values():\n",
    "        output.append(branch.messages)\n",
    "    return output\n",
    "\n",
    "executable = InstructionMapExecutor()"
   ]
  },
  {
   "cell_type": "code",
   "execution_count": 8,
   "metadata": {},
   "outputs": [],
   "source": [
    "calc = BaseAgent(\n",
    "    structure=struct_mul,\n",
    "    executable=executable,\n",
    "    output_parser=output_parser,\n",
    ")"
   ]
  },
  {
   "cell_type": "markdown",
   "metadata": {},
   "source": [
    "# Usage"
   ]
  },
  {
   "cell_type": "code",
   "execution_count": 9,
   "metadata": {},
   "outputs": [],
   "source": [
    "question1 = \"A school is ordering laptops for its students. If each classroom has 25 students and the school wants to provide a laptop for each student in its 8 classrooms, how many laptops in total does the school need to order?\"\n",
    "question2 = \"A bakery sells cupcakes in boxes of 6. If a customer wants to buy enough cupcakes for a party of 48 people, with each person getting one cupcake, how many boxes of cupcakes does the customer need to buy?\"\n",
    "\n",
    "import json\n",
    "context = {\"Question1\": question1, \"question2\": question2}\n",
    "context = json.dumps(context)"
   ]
  },
  {
   "cell_type": "code",
   "execution_count": 10,
   "metadata": {},
   "outputs": [
    {
     "name": "stdout",
     "output_type": "stream",
     "text": [
      "------------------Welcome: system--------------------\n"
     ]
    },
    {
     "data": {
      "text/markdown": [
       "system: you are asked to perform as a function picker and parameter provider"
      ],
      "text/plain": [
       "<IPython.core.display.Markdown object>"
      ]
     },
     "metadata": {},
     "output_type": "display_data"
    },
    {
     "data": {
      "text/markdown": [
       "user: Think step by step, understand the following basic math question and provide parameters for function calling."
      ],
      "text/plain": [
       "<IPython.core.display.Markdown object>"
      ]
     },
     "metadata": {},
     "output_type": "display_data"
    },
    {
     "data": {
      "text/markdown": [
       "assistant: Based on the calculations performed:\n",
       "\n",
       "1. For the first question regarding the total number of laptops needed for the students, the school needs to order a total of **200 laptops** to provide one for each student in its 8 classrooms, with each classroom having 25 students.\n",
       "\n",
       "2. The second action call was incorrect in context to the original question about the bakery selling cupcakes. The calculation performed was a simple multiplication that didn't directly address the question's requirement for how many boxes are needed for 48 people, given that each box contains 6 cupcakes. The correct approach would have involved calculating how many boxes were needed to ensure each of the 48 party-goers receives one cupcake, which would ideally involve dividing 48 by 6 and rounding up if necessary. However, the multiplication of 6 cupcakes per box and 8 resulted in 48, which coincidentally matches the number of cupcakes needed but does not solve for the number of boxes correctly based on the provided instructions. \n",
       "\n",
       "For clarity and accuracy in the context of the instructions given and the tools available, the correct interpretation for the second question should be that **8 boxes** of cupcakes are needed to provide one cupcake for each of the 48 people at the party, assuming a direct calculation without rounding is required and each box contains exactly 6 cupcakes."
      ],
      "text/plain": [
       "<IPython.core.display.Markdown object>"
      ]
     },
     "metadata": {},
     "output_type": "display_data"
    },
    {
     "name": "stdout",
     "output_type": "stream",
     "text": [
      "-----------------------------------------------------\n"
     ]
    }
   ],
   "source": [
    "calc_result = await calc.execute(context)"
   ]
  },
  {
   "cell_type": "code",
   "execution_count": 11,
   "metadata": {},
   "outputs": [
    {
     "data": {
      "text/html": [
       "<div>\n",
       "<style scoped>\n",
       "    .dataframe tbody tr th:only-of-type {\n",
       "        vertical-align: middle;\n",
       "    }\n",
       "\n",
       "    .dataframe tbody tr th {\n",
       "        vertical-align: top;\n",
       "    }\n",
       "\n",
       "    .dataframe thead th {\n",
       "        text-align: right;\n",
       "    }\n",
       "</style>\n",
       "<table border=\"1\" class=\"dataframe\">\n",
       "  <thead>\n",
       "    <tr style=\"text-align: right;\">\n",
       "      <th></th>\n",
       "      <th>node_id</th>\n",
       "      <th>timestamp</th>\n",
       "      <th>role</th>\n",
       "      <th>sender</th>\n",
       "      <th>recipient</th>\n",
       "      <th>content</th>\n",
       "    </tr>\n",
       "  </thead>\n",
       "  <tbody>\n",
       "    <tr>\n",
       "      <th>0</th>\n",
       "      <td>4bd0bb612067bce6978731c5706b8477</td>\n",
       "      <td>2024-04-22T01:33:52.297369+00:00</td>\n",
       "      <td>system</td>\n",
       "      <td>system</td>\n",
       "      <td>assistant</td>\n",
       "      <td>{\"system_info\": \"you are asked to perform as a...</td>\n",
       "    </tr>\n",
       "    <tr>\n",
       "      <th>1</th>\n",
       "      <td>9e5c84f709dfdebf05de0583d09fd800</td>\n",
       "      <td>2024-04-22T01:33:53.676877+00:00</td>\n",
       "      <td>user</td>\n",
       "      <td>user</td>\n",
       "      <td>assistant</td>\n",
       "      <td>{\"instruction\": {\"NOTICE\": \"\\n    You have 2 s...</td>\n",
       "    </tr>\n",
       "    <tr>\n",
       "      <th>2</th>\n",
       "      <td>57eb395044ab58a1ec5d036239d64f78</td>\n",
       "      <td>2024-04-22T01:34:03.708153+00:00</td>\n",
       "      <td>assistant</td>\n",
       "      <td>assistant</td>\n",
       "      <td>user</td>\n",
       "      <td>{\"response\": \"To approach these questions step...</td>\n",
       "    </tr>\n",
       "    <tr>\n",
       "      <th>3</th>\n",
       "      <td>84d883cd65fc3b1fa1fa809ebd53b053</td>\n",
       "      <td>2024-04-22T01:34:03.713154+00:00</td>\n",
       "      <td>user</td>\n",
       "      <td>user</td>\n",
       "      <td>assistant</td>\n",
       "      <td>{\"instruction\": \"\\n    You have 1 steps left i...</td>\n",
       "    </tr>\n",
       "    <tr>\n",
       "      <th>4</th>\n",
       "      <td>baca36403c961553a4993dabb75df664</td>\n",
       "      <td>2024-04-22T01:34:06.042901+00:00</td>\n",
       "      <td>assistant</td>\n",
       "      <td>action_request</td>\n",
       "      <td>action</td>\n",
       "      <td>{\"action_request\": [{\"action\": \"action_multipl...</td>\n",
       "    </tr>\n",
       "    <tr>\n",
       "      <th>5</th>\n",
       "      <td>0f06f9f40d98b6a70907a71a899bf6a3</td>\n",
       "      <td>2024-04-22T01:34:06.048024+00:00</td>\n",
       "      <td>assistant</td>\n",
       "      <td>action_response</td>\n",
       "      <td>assistant</td>\n",
       "      <td>{\"action_response\": {\"function\": \"multiply\", \"...</td>\n",
       "    </tr>\n",
       "    <tr>\n",
       "      <th>6</th>\n",
       "      <td>b970de9c6ab0dbe69eee57e7a4aed952</td>\n",
       "      <td>2024-04-22T01:34:06.049957+00:00</td>\n",
       "      <td>assistant</td>\n",
       "      <td>action_response</td>\n",
       "      <td>assistant</td>\n",
       "      <td>{\"action_response\": {\"function\": \"multiply\", \"...</td>\n",
       "    </tr>\n",
       "    <tr>\n",
       "      <th>7</th>\n",
       "      <td>24575e783becb3f4af2925fec158a82e</td>\n",
       "      <td>2024-04-22T01:34:06.053901+00:00</td>\n",
       "      <td>user</td>\n",
       "      <td>user</td>\n",
       "      <td>assistant</td>\n",
       "      <td>{\"instruction\": \"Notice: Present the final out...</td>\n",
       "    </tr>\n",
       "    <tr>\n",
       "      <th>8</th>\n",
       "      <td>47149d302dad0141b4dc5b2afb04fbf4</td>\n",
       "      <td>2024-04-22T01:34:15.852053+00:00</td>\n",
       "      <td>assistant</td>\n",
       "      <td>assistant</td>\n",
       "      <td>user</td>\n",
       "      <td>{\"response\": \"Based on the calculations perfor...</td>\n",
       "    </tr>\n",
       "  </tbody>\n",
       "</table>\n",
       "</div>"
      ],
      "text/plain": [
       "                            node_id                         timestamp  \\\n",
       "0  4bd0bb612067bce6978731c5706b8477  2024-04-22T01:33:52.297369+00:00   \n",
       "1  9e5c84f709dfdebf05de0583d09fd800  2024-04-22T01:33:53.676877+00:00   \n",
       "2  57eb395044ab58a1ec5d036239d64f78  2024-04-22T01:34:03.708153+00:00   \n",
       "3  84d883cd65fc3b1fa1fa809ebd53b053  2024-04-22T01:34:03.713154+00:00   \n",
       "4  baca36403c961553a4993dabb75df664  2024-04-22T01:34:06.042901+00:00   \n",
       "5  0f06f9f40d98b6a70907a71a899bf6a3  2024-04-22T01:34:06.048024+00:00   \n",
       "6  b970de9c6ab0dbe69eee57e7a4aed952  2024-04-22T01:34:06.049957+00:00   \n",
       "7  24575e783becb3f4af2925fec158a82e  2024-04-22T01:34:06.053901+00:00   \n",
       "8  47149d302dad0141b4dc5b2afb04fbf4  2024-04-22T01:34:15.852053+00:00   \n",
       "\n",
       "        role           sender  recipient  \\\n",
       "0     system           system  assistant   \n",
       "1       user             user  assistant   \n",
       "2  assistant        assistant       user   \n",
       "3       user             user  assistant   \n",
       "4  assistant   action_request     action   \n",
       "5  assistant  action_response  assistant   \n",
       "6  assistant  action_response  assistant   \n",
       "7       user             user  assistant   \n",
       "8  assistant        assistant       user   \n",
       "\n",
       "                                             content  \n",
       "0  {\"system_info\": \"you are asked to perform as a...  \n",
       "1  {\"instruction\": {\"NOTICE\": \"\\n    You have 2 s...  \n",
       "2  {\"response\": \"To approach these questions step...  \n",
       "3  {\"instruction\": \"\\n    You have 1 steps left i...  \n",
       "4  {\"action_request\": [{\"action\": \"action_multipl...  \n",
       "5  {\"action_response\": {\"function\": \"multiply\", \"...  \n",
       "6  {\"action_response\": {\"function\": \"multiply\", \"...  \n",
       "7  {\"instruction\": \"Notice: Present the final out...  \n",
       "8  {\"response\": \"Based on the calculations perfor...  "
      ]
     },
     "execution_count": 11,
     "metadata": {},
     "output_type": "execute_result"
    }
   ],
   "source": [
    "calc_result[0]"
   ]
  },
  {
   "cell_type": "markdown",
   "metadata": {},
   "source": [
    "# Storing Structures\n",
    "\n",
    "We currently support the storage of structures in excel or Neo4j, enabling their reuse in future applications."
   ]
  },
  {
   "cell_type": "markdown",
   "metadata": {},
   "source": [
    "### Excel"
   ]
  },
  {
   "cell_type": "code",
   "execution_count": null,
   "metadata": {},
   "outputs": [],
   "source": [
    "struct_mul.to_excel('tool_mul')"
   ]
  },
  {
   "cell_type": "markdown",
   "metadata": {},
   "source": [
    "### Neo4j"
   ]
  },
  {
   "cell_type": "code",
   "execution_count": 12,
   "metadata": {},
   "outputs": [],
   "source": [
    "# initiate Neo4j Driver\n",
    "uri = \"bolt://localhost:7687\"\n",
    "user = \"neo4j\"\n",
    "password = \"12345678\"\n",
    "database = \"neo4j\"\n",
    "\n",
    "from lionagi.integrations.storage.neo4j import Neo4j\n",
    "neo4j = Neo4j(uri, user, password, database)"
   ]
  },
  {
   "cell_type": "code",
   "execution_count": 13,
   "metadata": {},
   "outputs": [],
   "source": [
    "# structure_name is unique\n",
    "\n",
    "await neo4j.store(struct_mul, structure_name='tool_mul')"
   ]
  }
 ],
 "metadata": {
  "kernelspec": {
   "display_name": ".venv",
   "language": "python",
   "name": "python3"
  },
  "language_info": {
   "codemirror_mode": {
    "name": "ipython",
    "version": 3
   },
   "file_extension": ".py",
   "mimetype": "text/x-python",
   "name": "python",
   "nbconvert_exporter": "python",
   "pygments_lexer": "ipython3",
   "version": "3.12.1"
  }
 },
 "nbformat": 4,
 "nbformat_minor": 2
}
