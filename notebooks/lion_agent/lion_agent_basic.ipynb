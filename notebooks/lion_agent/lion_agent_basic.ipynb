{
 "cells": [
  {
   "cell_type": "code",
   "execution_count": 1,
   "metadata": {},
   "outputs": [],
   "source": [
    "from lionagi.core import System, Instruction\n",
    "from lionagi.core.execute.structure_executor import StructureExecutor\n",
    "from lionagi.core.execute.instruction_map_executor import InstructionMapExecutor\n",
    "from lionagi.core.agent.base_agent import BaseAgent"
   ]
  },
  {
   "cell_type": "markdown",
   "metadata": {},
   "source": [
    "# Create Graph-based Structure"
   ]
  },
  {
   "cell_type": "code",
   "execution_count": 2,
   "metadata": {},
   "outputs": [],
   "source": [
    "sys_comedian = System(\n",
    "    system=\"As a comedian, you are sarcastically funny\", sender=\"comedian\"\n",
    ")\n",
    "instruct1 = Instruction(\n",
    "    instruction=\"very short joke: a blue whale and a big shark meet at the bar and start dancing\"\n",
    ")\n",
    "instruct2 = Instruction(instruction=\"continue the joke: and then they stopped\")"
   ]
  },
  {
   "cell_type": "code",
   "execution_count": 3,
   "metadata": {},
   "outputs": [],
   "source": [
    "struct_comedian = StructureExecutor()\n",
    "struct_comedian.add_node(sys_comedian)\n",
    "struct_comedian.add_node(instruct1)\n",
    "struct_comedian.add_node(instruct2)\n",
    "struct_comedian.relate_nodes(sys_comedian, instruct1)\n",
    "struct_comedian.relate_nodes(instruct1, instruct2)"
   ]
  },
  {
   "cell_type": "code",
   "execution_count": 4,
   "metadata": {},
   "outputs": [
    {
     "data": {
      "image/png": "[encoded data removed]",
      "text/plain": [
       "<Figure size 640x480 with 1 Axes>"
      ]
     },
     "metadata": {},
     "output_type": "display_data"
    }
   ],
   "source": [
    "import networkx as nx\n",
    "import matplotlib.pyplot as plt\n",
    "\n",
    "g = struct_comedian.to_networkx()\n",
    "labels = nx.get_node_attributes(g, \"class_name\")\n",
    "nx.draw(g, labels=labels)"
   ]
  },
  {
   "cell_type": "code",
   "execution_count": 5,
   "metadata": {},
   "outputs": [],
   "source": [
    "## output_parser parameter: agent self\n",
    "## output_parser return: the expected result that should be returned after execution\n",
    "def output_parser(agent):\n",
    "    ## return all message dataframe in all branches\n",
    "    output = []\n",
    "    for branch in agent.executable.branches.values():\n",
    "        output.append(branch.messages)\n",
    "    return output\n",
    "\n",
    "\n",
    "executable_comedian = InstructionMapExecutor()"
   ]
  },
  {
   "cell_type": "markdown",
   "metadata": {},
   "source": [
    "# Create Agent"
   ]
  },
  {
   "cell_type": "code",
   "execution_count": 6,
   "metadata": {},
   "outputs": [],
   "source": [
    "comedian = BaseAgent(\n",
    "    structure=struct_comedian,\n",
    "    executable=executable_comedian,\n",
    "    output_parser=output_parser,\n",
    ")"
   ]
  },
  {
   "cell_type": "code",
   "execution_count": 7,
   "metadata": {},
   "outputs": [
    {
     "name": "stdout",
     "output_type": "stream",
     "text": [
      "------------------Welcome: comedian--------------------\n"
     ]
    },
    {
     "data": {
      "text/markdown": [
       "system: As a comedian, you are sarcastically funny"
      ],
      "text/plain": [
       "<IPython.core.display.Markdown object>"
      ]
     },
     "metadata": {},
     "output_type": "display_data"
    },
    {
     "data": {
      "text/markdown": [
       "user: very short joke: a blue whale and a big shark meet at the bar and start dancing"
      ],
      "text/plain": [
       "<IPython.core.display.Markdown object>"
      ]
     },
     "metadata": {},
     "output_type": "display_data"
    },
    {
     "data": {
      "text/markdown": [
       "assistant: Why did the blue whale and the big shark start dancing at the bar? Because they heard the bartender say, \"Last call for the water ballet!\""
      ],
      "text/plain": [
       "<IPython.core.display.Markdown object>"
      ]
     },
     "metadata": {},
     "output_type": "display_data"
    },
    {
     "name": "stdout",
     "output_type": "stream",
     "text": [
      "-----------------------------------------------------\n"
     ]
    },
    {
     "data": {
      "text/markdown": [
       "user: continue the joke: and then they stopped"
      ],
      "text/plain": [
       "<IPython.core.display.Markdown object>"
      ]
     },
     "metadata": {},
     "output_type": "display_data"
    },
    {
     "data": {
      "text/markdown": [
       "assistant: And then they stopped... because even in the ocean, nobody wants to see a whale and a shark do the 'Macarena.'"
      ],
      "text/plain": [
       "<IPython.core.display.Markdown object>"
      ]
     },
     "metadata": {},
     "output_type": "display_data"
    },
    {
     "name": "stdout",
     "output_type": "stream",
     "text": [
      "-----------------------------------------------------\n"
     ]
    }
   ],
   "source": [
    "result = await comedian.execute()"
   ]
  },
  {
   "cell_type": "code",
   "execution_count": 8,
   "metadata": {},
   "outputs": [
    {
     "data": {
      "text/html": [
       "<div>\n",
       "<style scoped>\n",
       "    .dataframe tbody tr th:only-of-type {\n",
       "        vertical-align: middle;\n",
       "    }\n",
       "\n",
       "    .dataframe tbody tr th {\n",
       "        vertical-align: top;\n",
       "    }\n",
       "\n",
       "    .dataframe thead th {\n",
       "        text-align: right;\n",
       "    }\n",
       "</style>\n",
       "<table border=\"1\" class=\"dataframe\">\n",
       "  <thead>\n",
       "    <tr style=\"text-align: right;\">\n",
       "      <th></th>\n",
       "      <th>node_id</th>\n",
       "      <th>timestamp</th>\n",
       "      <th>role</th>\n",
       "      <th>sender</th>\n",
       "      <th>recipient</th>\n",
       "      <th>content</th>\n",
       "    </tr>\n",
       "  </thead>\n",
       "  <tbody>\n",
       "    <tr>\n",
       "      <th>0</th>\n",
       "      <td>6723be104eb2bc595240f32ecf0c93a3</td>\n",
       "      <td>2024-04-21T23:47:39.837046+00:00</td>\n",
       "      <td>system</td>\n",
       "      <td>comedian</td>\n",
       "      <td>assistant</td>\n",
       "      <td>{\"system_info\": \"As a comedian, you are sarcas...</td>\n",
       "    </tr>\n",
       "    <tr>\n",
       "      <th>1</th>\n",
       "      <td>a54aa8892b1fa6b208113752f061e4c5</td>\n",
       "      <td>2024-04-21T23:47:39.837973+00:00</td>\n",
       "      <td>user</td>\n",
       "      <td>user</td>\n",
       "      <td>assistant</td>\n",
       "      <td>{\"instruction\": \"very short joke: a blue whale...</td>\n",
       "    </tr>\n",
       "    <tr>\n",
       "      <th>2</th>\n",
       "      <td>a0aac7292bd97ed44ad558effdcebc5c</td>\n",
       "      <td>2024-04-21T23:47:43.916463+00:00</td>\n",
       "      <td>assistant</td>\n",
       "      <td>assistant</td>\n",
       "      <td>user</td>\n",
       "      <td>{\"response\": \"Why did the blue whale and the b...</td>\n",
       "    </tr>\n",
       "    <tr>\n",
       "      <th>3</th>\n",
       "      <td>249d8d06255a3b21af49febf079fc6b2</td>\n",
       "      <td>2024-04-21T23:47:39.838052+00:00</td>\n",
       "      <td>user</td>\n",
       "      <td>user</td>\n",
       "      <td>assistant</td>\n",
       "      <td>{\"instruction\": \"continue the joke: and then t...</td>\n",
       "    </tr>\n",
       "    <tr>\n",
       "      <th>4</th>\n",
       "      <td>8ac62e06792fb9b1acbf44cbd7805354</td>\n",
       "      <td>2024-04-21T23:47:45.637868+00:00</td>\n",
       "      <td>assistant</td>\n",
       "      <td>assistant</td>\n",
       "      <td>user</td>\n",
       "      <td>{\"response\": \"{\\\"response\\\": \\\"And then they s...</td>\n",
       "    </tr>\n",
       "  </tbody>\n",
       "</table>\n",
       "</div>"
      ],
      "text/plain": [
       "                            node_id                         timestamp  \\\n",
       "0  6723be104eb2bc595240f32ecf0c93a3  2024-04-21T23:47:39.837046+00:00   \n",
       "1  a54aa8892b1fa6b208113752f061e4c5  2024-04-21T23:47:39.837973+00:00   \n",
       "2  a0aac7292bd97ed44ad558effdcebc5c  2024-04-21T23:47:43.916463+00:00   \n",
       "3  249d8d06255a3b21af49febf079fc6b2  2024-04-21T23:47:39.838052+00:00   \n",
       "4  8ac62e06792fb9b1acbf44cbd7805354  2024-04-21T23:47:45.637868+00:00   \n",
       "\n",
       "        role     sender  recipient  \\\n",
       "0     system   comedian  assistant   \n",
       "1       user       user  assistant   \n",
       "2  assistant  assistant       user   \n",
       "3       user       user  assistant   \n",
       "4  assistant  assistant       user   \n",
       "\n",
       "                                             content  \n",
       "0  {\"system_info\": \"As a comedian, you are sarcas...  \n",
       "1  {\"instruction\": \"very short joke: a blue whale...  \n",
       "2  {\"response\": \"Why did the blue whale and the b...  \n",
       "3  {\"instruction\": \"continue the joke: and then t...  \n",
       "4  {\"response\": \"{\\\"response\\\": \\\"And then they s...  "
      ]
     },
     "execution_count": 8,
     "metadata": {},
     "output_type": "execute_result"
    }
   ],
   "source": [
    "result[0]"
   ]
  }
 ],
 "metadata": {
  "kernelspec": {
   "display_name": ".venv",
   "language": "python",
   "name": "python3"
  },
  "language_info": {
   "codemirror_mode": {
    "name": "ipython",
    "version": 3
   },
   "file_extension": ".py",
   "mimetype": "text/x-python",
   "name": "python",
   "nbconvert_exporter": "python",
   "pygments_lexer": "ipython3",
   "version": "3.12.1"
  }
 },
 "nbformat": 4,
 "nbformat_minor": 2
}
