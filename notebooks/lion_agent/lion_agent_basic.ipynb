{
 "cells": [
  {
   "cell_type": "code",
   "execution_count": 1,
   "metadata": {},
   "outputs": [],
   "source": [
    "from lionagi.core.message import System, Instruction\n",
    "from lionagi.core.execute.structure_executor import StructureExecutor\n",
    "from lionagi.core.execute.instruction_map_executor import InstructionMapExecutor\n",
    "from lionagi.core.execute.branch_executor import BranchExecutor\n",
    "from lionagi.core.agent.base_agent import BaseAgent"
   ]
  },
  {
   "cell_type": "markdown",
   "metadata": {},
   "source": [
    "# Create Graph-based Structure"
   ]
  },
  {
   "cell_type": "code",
   "execution_count": 2,
   "metadata": {},
   "outputs": [],
   "source": [
    "sys_comedian = System(\n",
    "    system=\"As a comedian, you are sarcastically funny\"\n",
    ")\n",
    "instruct1 = Instruction(\n",
    "    instruction=\"very short joke: a blue whale and a big shark meet at the bar and start dancing\"\n",
    ")\n",
    "instruct2 = Instruction(instruction=\"continue the joke: and then they stopped\")"
   ]
  },
  {
   "cell_type": "code",
   "execution_count": 3,
   "metadata": {},
   "outputs": [],
   "source": [
    "struct_comedian = StructureExecutor()\n",
    "struct_comedian.add_node(sys_comedian)\n",
    "struct_comedian.add_node(instruct1)\n",
    "struct_comedian.add_node(instruct2)\n",
    "struct_comedian.add_edge(sys_comedian, instruct1)\n",
    "struct_comedian.add_edge(instruct1, instruct2)"
   ]
  },
  {
   "cell_type": "code",
   "execution_count": 4,
   "metadata": {},
   "outputs": [
    {
     "data": {
      "image/png": "[encoded data removed]",
      "text/plain": [
       "<Figure size 640x480 with 1 Axes>"
      ]
     },
     "metadata": {},
     "output_type": "display_data"
    }
   ],
   "source": [
    "import networkx as nx\n",
    "import matplotlib.pyplot as plt\n",
    "\n",
    "g = struct_comedian.to_networkx()\n",
    "labels = nx.get_node_attributes(g, \"class_name\")\n",
    "nx.draw(g, labels=labels)"
   ]
  },
  {
   "cell_type": "code",
   "execution_count": 5,
   "metadata": {},
   "outputs": [],
   "source": [
    "## output_parser parameter: agent self\n",
    "## output_parser return: the expected result that should be returned after execution\n",
    "def output_parser(agent):\n",
    "    output = []\n",
    "    for branch in agent.executable.branches.values():\n",
    "        output.append(branch.to_df())\n",
    "    return output\n",
    "\n",
    "executable_comedian = InstructionMapExecutor()"
   ]
  },
  {
   "cell_type": "markdown",
   "metadata": {},
   "source": [
    "# Create Agent"
   ]
  },
  {
   "cell_type": "code",
   "execution_count": 6,
   "metadata": {},
   "outputs": [],
   "source": [
    "comedian = BaseAgent(\n",
    "    structure=struct_comedian,\n",
    "    executable=executable_comedian,\n",
    "    output_parser=output_parser,\n",
    ")"
   ]
  },
  {
   "cell_type": "code",
   "execution_count": 7,
   "metadata": {},
   "outputs": [
    {
     "name": "stdout",
     "output_type": "stream",
     "text": [
      "------------------Welcome: system--------------------\n"
     ]
    },
    {
     "data": {
      "text/markdown": [
       "system: As a comedian, you are sarcastically funny"
      ],
      "text/plain": [
       "<IPython.core.display.Markdown object>"
      ]
     },
     "metadata": {},
     "output_type": "display_data"
    },
    {
     "data": {
      "text/markdown": [
       "user: very short joke: a blue whale and a big shark meet at the bar and start dancing"
      ],
      "text/plain": [
       "<IPython.core.display.Markdown object>"
      ]
     },
     "metadata": {},
     "output_type": "display_data"
    },
    {
     "data": {
      "text/markdown": [
       "assistant 39cc5a6be097ecf9fa573b098cd13106: Why did the blue whale and the big shark dance at the bar? Because they wanted to show off their killer moves!"
      ],
      "text/plain": [
       "<IPython.core.display.Markdown object>"
      ]
     },
     "metadata": {},
     "output_type": "display_data"
    },
    {
     "name": "stdout",
     "output_type": "stream",
     "text": [
      "-----------------------------------------------------\n"
     ]
    },
    {
     "data": {
      "text/markdown": [
       "user: continue the joke: and then they stopped"
      ],
      "text/plain": [
       "<IPython.core.display.Markdown object>"
      ]
     },
     "metadata": {},
     "output_type": "display_data"
    },
    {
     "data": {
      "text/markdown": [
       "assistant 39cc5a6be097ecf9fa573b098cd13106: And then they stopped because the bartender said, 'Sorry, no fishy business allowed!'"
      ],
      "text/plain": [
       "<IPython.core.display.Markdown object>"
      ]
     },
     "metadata": {},
     "output_type": "display_data"
    },
    {
     "name": "stdout",
     "output_type": "stream",
     "text": [
      "-----------------------------------------------------\n"
     ]
    }
   ],
   "source": [
    "result = await comedian.execute()"
   ]
  },
  {
   "cell_type": "code",
   "execution_count": 8,
   "metadata": {},
   "outputs": [
    {
     "name": "stdout",
     "output_type": "stream",
     "text": [
      "{'role': 'assistant', 'content': '{\"assistant_response\": \"{\\\\\"assistant_response\\\\\": \\\\\"And then they stopped because the bartender said, \\'Sorry, no fishy business allowed!\\'\\\\\"}\"}'}\n"
     ]
    }
   ],
   "source": [
    "for branch in comedian.executable.branches.values():\n",
    "    print(branch.messages[-1].chat_msg)"
   ]
  },
  {
   "cell_type": "code",
   "execution_count": 9,
   "metadata": {},
   "outputs": [
    {
     "data": {
      "text/html": [
       "<div>\n",
       "<style scoped>\n",
       "    .dataframe tbody tr th:only-of-type {\n",
       "        vertical-align: middle;\n",
       "    }\n",
       "\n",
       "    .dataframe tbody tr th {\n",
       "        vertical-align: top;\n",
       "    }\n",
       "\n",
       "    .dataframe thead th {\n",
       "        text-align: right;\n",
       "    }\n",
       "</style>\n",
       "<table border=\"1\" class=\"dataframe\">\n",
       "  <thead>\n",
       "    <tr style=\"text-align: right;\">\n",
       "      <th></th>\n",
       "      <th>ln_id</th>\n",
       "      <th>message_type</th>\n",
       "      <th>timestamp</th>\n",
       "      <th>role</th>\n",
       "      <th>content</th>\n",
       "      <th>metadata</th>\n",
       "      <th>sender</th>\n",
       "      <th>recipient</th>\n",
       "    </tr>\n",
       "  </thead>\n",
       "  <tbody>\n",
       "    <tr>\n",
       "      <th>0</th>\n",
       "      <td>01b05ea23392c9a0d6c4bb420b7572a9</td>\n",
       "      <td>System</td>\n",
       "      <td>2024-05-21T19:24:39.704527</td>\n",
       "      <td>system</td>\n",
       "      <td>{'system_info': 'As a comedian, you are sarcas...</td>\n",
       "      <td>{'last_updated': {'recipient': '2024-05-21T19:...</td>\n",
       "      <td>system</td>\n",
       "      <td>39cc5a6be097ecf9fa573b098cd13106</td>\n",
       "    </tr>\n",
       "    <tr>\n",
       "      <th>1</th>\n",
       "      <td>d41bd02c2f7279a4e7b16834e66ade32</td>\n",
       "      <td>Instruction</td>\n",
       "      <td>2024-05-21T19:24:40.889697</td>\n",
       "      <td>user</td>\n",
       "      <td>{'instruction': 'very short joke: a blue whale...</td>\n",
       "      <td>{'last_updated': {'sender': '2024-05-21T19:24:...</td>\n",
       "      <td>user</td>\n",
       "      <td>39cc5a6be097ecf9fa573b098cd13106</td>\n",
       "    </tr>\n",
       "    <tr>\n",
       "      <th>2</th>\n",
       "      <td>77dc50d22bdf79ab5cc154db28c8a53b</td>\n",
       "      <td>AssistantResponse</td>\n",
       "      <td>2024-05-21T19:24:41.857498</td>\n",
       "      <td>assistant</td>\n",
       "      <td>{'assistant_response': 'Why did the blue whale...</td>\n",
       "      <td>{'last_updated': {'sender': '2024-05-21T19:24:...</td>\n",
       "      <td>39cc5a6be097ecf9fa573b098cd13106</td>\n",
       "      <td>user</td>\n",
       "    </tr>\n",
       "    <tr>\n",
       "      <th>3</th>\n",
       "      <td>7df359e9727511f479ad6325b6f8676c</td>\n",
       "      <td>Instruction</td>\n",
       "      <td>2024-05-21T19:24:42.266694</td>\n",
       "      <td>user</td>\n",
       "      <td>{'instruction': 'continue the joke: and then t...</td>\n",
       "      <td>{'last_updated': {'sender': '2024-05-21T19:24:...</td>\n",
       "      <td>user</td>\n",
       "      <td>39cc5a6be097ecf9fa573b098cd13106</td>\n",
       "    </tr>\n",
       "    <tr>\n",
       "      <th>4</th>\n",
       "      <td>3aabf0052dc2fbbf1e71cc1ca3ed9343</td>\n",
       "      <td>AssistantResponse</td>\n",
       "      <td>2024-05-21T19:24:42.957576</td>\n",
       "      <td>assistant</td>\n",
       "      <td>{'assistant_response': '{\"assistant_response\":...</td>\n",
       "      <td>{'last_updated': {'sender': '2024-05-21T19:24:...</td>\n",
       "      <td>39cc5a6be097ecf9fa573b098cd13106</td>\n",
       "      <td>user</td>\n",
       "    </tr>\n",
       "  </tbody>\n",
       "</table>\n",
       "</div>"
      ],
      "text/plain": [
       "                              ln_id       message_type  \\\n",
       "0  01b05ea23392c9a0d6c4bb420b7572a9             System   \n",
       "1  d41bd02c2f7279a4e7b16834e66ade32        Instruction   \n",
       "2  77dc50d22bdf79ab5cc154db28c8a53b  AssistantResponse   \n",
       "3  7df359e9727511f479ad6325b6f8676c        Instruction   \n",
       "4  3aabf0052dc2fbbf1e71cc1ca3ed9343  AssistantResponse   \n",
       "\n",
       "                    timestamp       role  \\\n",
       "0  2024-05-21T19:24:39.704527     system   \n",
       "1  2024-05-21T19:24:40.889697       user   \n",
       "2  2024-05-21T19:24:41.857498  assistant   \n",
       "3  2024-05-21T19:24:42.266694       user   \n",
       "4  2024-05-21T19:24:42.957576  assistant   \n",
       "\n",
       "                                             content  \\\n",
       "0  {'system_info': 'As a comedian, you are sarcas...   \n",
       "1  {'instruction': 'very short joke: a blue whale...   \n",
       "2  {'assistant_response': 'Why did the blue whale...   \n",
       "3  {'instruction': 'continue the joke: and then t...   \n",
       "4  {'assistant_response': '{\"assistant_response\":...   \n",
       "\n",
       "                                            metadata  \\\n",
       "0  {'last_updated': {'recipient': '2024-05-21T19:...   \n",
       "1  {'last_updated': {'sender': '2024-05-21T19:24:...   \n",
       "2  {'last_updated': {'sender': '2024-05-21T19:24:...   \n",
       "3  {'last_updated': {'sender': '2024-05-21T19:24:...   \n",
       "4  {'last_updated': {'sender': '2024-05-21T19:24:...   \n",
       "\n",
       "                             sender                         recipient  \n",
       "0                            system  39cc5a6be097ecf9fa573b098cd13106  \n",
       "1                              user  39cc5a6be097ecf9fa573b098cd13106  \n",
       "2  39cc5a6be097ecf9fa573b098cd13106                              user  \n",
       "3                              user  39cc5a6be097ecf9fa573b098cd13106  \n",
       "4  39cc5a6be097ecf9fa573b098cd13106                              user  "
      ]
     },
     "execution_count": 9,
     "metadata": {},
     "output_type": "execute_result"
    }
   ],
   "source": [
    "result[0]"
   ]
  }
 ],
 "metadata": {
  "kernelspec": {
   "display_name": ".venv",
   "language": "python",
   "name": "python3"
  },
  "language_info": {
   "codemirror_mode": {
    "name": "ipython",
    "version": 3
   },
   "file_extension": ".py",
   "mimetype": "text/x-python",
   "name": "python",
   "nbconvert_exporter": "python",
   "pygments_lexer": "ipython3",
   "version": "3.10.6"
  }
 },
 "nbformat": 4,
 "nbformat_minor": 2
}
