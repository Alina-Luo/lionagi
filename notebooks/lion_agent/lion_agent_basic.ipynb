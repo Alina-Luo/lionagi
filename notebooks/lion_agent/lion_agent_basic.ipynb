{
 "cells": [
  {
   "cell_type": "code",
   "execution_count": 1,
   "metadata": {},
   "outputs": [],
   "source": [
    "from lionagi.core.message import System, Instruction\n",
    "from lionagi.core.executor.graph_executor import GraphExecutor\n",
    "from lionagi.core.engine.instruction_map_engine import InstructionMapEngine\n",
    "from lionagi.core.agent.base_agent import BaseAgent"
   ]
  },
  {
   "cell_type": "markdown",
   "metadata": {},
   "source": [
    "# Create Graph-based Structure"
   ]
  },
  {
   "cell_type": "code",
   "execution_count": 2,
   "metadata": {},
   "outputs": [],
   "source": [
    "sys_comedian = System(\n",
    "    system=\"As a comedian, you are sarcastically funny\"\n",
    ")\n",
    "instruct1 = Instruction(\n",
    "    instruction=\"very short joke: a blue whale and a big shark meet at the bar and start dancing\"\n",
    ")\n",
    "instruct2 = Instruction(instruction=\"continue the joke: and then they stopped\")"
   ]
  },
  {
   "cell_type": "code",
   "execution_count": 3,
   "metadata": {},
   "outputs": [],
   "source": [
    "graph_comedian = GraphExecutor()\n",
    "graph_comedian.add_node(sys_comedian)\n",
    "graph_comedian.add_node(instruct1)\n",
    "graph_comedian.add_node(instruct2)\n",
    "graph_comedian.add_edge(sys_comedian, instruct1)\n",
    "graph_comedian.add_edge(instruct1, instruct2)"
   ]
  },
  {
   "cell_type": "code",
   "execution_count": 4,
   "metadata": {},
   "outputs": [
    {
     "data": {
      "image/png": "[encoded data removed]",
      "text/plain": [
       "<Figure size 640x480 with 1 Axes>"
      ]
     },
     "metadata": {},
     "output_type": "display_data"
    }
   ],
   "source": [
    "graph_comedian.display()"
   ]
  },
  {
   "cell_type": "code",
   "execution_count": 5,
   "metadata": {},
   "outputs": [],
   "source": [
    "## output_parser parameter: agent self\n",
    "## output_parser return: the expected result that should be returned after execution\n",
    "def output_parser(agent):\n",
    "    output = []\n",
    "    for branch in agent.executable.branches.values():\n",
    "        output.append(branch.to_df())\n",
    "    return output\n",
    "\n",
    "executable_comedian = InstructionMapEngine()"
   ]
  },
  {
   "cell_type": "markdown",
   "metadata": {},
   "source": [
    "# Create Agent"
   ]
  },
  {
   "cell_type": "code",
   "execution_count": 6,
   "metadata": {},
   "outputs": [],
   "source": [
    "comedian = BaseAgent(\n",
    "    structure=graph_comedian,\n",
    "    executable=executable_comedian,\n",
    "    output_parser=output_parser,\n",
    ")"
   ]
  },
  {
   "cell_type": "code",
   "execution_count": 7,
   "metadata": {},
   "outputs": [
    {
     "name": "stdout",
     "output_type": "stream",
     "text": [
      "------------------Welcome: system--------------------\n"
     ]
    },
    {
     "data": {
      "text/markdown": [
       "system: As a comedian, you are sarcastically funny"
      ],
      "text/plain": [
       "<IPython.core.display.Markdown object>"
      ]
     },
     "metadata": {},
     "output_type": "display_data"
    },
    {
     "data": {
      "text/markdown": [
       "user: very short joke: a blue whale and a big shark meet at the bar and start dancing"
      ],
      "text/plain": [
       "<IPython.core.display.Markdown object>"
      ]
     },
     "metadata": {},
     "output_type": "display_data"
    },
    {
     "data": {
      "text/markdown": [
       "assistant 6c67c647f5f2f2711b0bbc9c5a151b4e: And the bartender says, \"Great, now I have to mop up the entire ocean floor!\""
      ],
      "text/plain": [
       "<IPython.core.display.Markdown object>"
      ]
     },
     "metadata": {},
     "output_type": "display_data"
    },
    {
     "name": "stdout",
     "output_type": "stream",
     "text": [
      "-----------------------------------------------------\n"
     ]
    },
    {
     "data": {
      "text/markdown": [
       "user: continue the joke: and then they stopped"
      ],
      "text/plain": [
       "<IPython.core.display.Markdown object>"
      ]
     },
     "metadata": {},
     "output_type": "display_data"
    },
    {
     "data": {
      "text/markdown": [
       "assistant 6c67c647f5f2f2711b0bbc9c5a151b4e: And then they stopped, looked around, and the blue whale said, \"Well, this is awkward. I thought this was a salsa bar, not a seaweed wrap!\""
      ],
      "text/plain": [
       "<IPython.core.display.Markdown object>"
      ]
     },
     "metadata": {},
     "output_type": "display_data"
    },
    {
     "name": "stdout",
     "output_type": "stream",
     "text": [
      "-----------------------------------------------------\n"
     ]
    }
   ],
   "source": [
    "result = await comedian.execute()"
   ]
  },
  {
   "cell_type": "code",
   "execution_count": 8,
   "metadata": {},
   "outputs": [
    {
     "data": {
      "text/html": [
       "<div>\n",
       "<style scoped>\n",
       "    .dataframe tbody tr th:only-of-type {\n",
       "        vertical-align: middle;\n",
       "    }\n",
       "\n",
       "    .dataframe tbody tr th {\n",
       "        vertical-align: top;\n",
       "    }\n",
       "\n",
       "    .dataframe thead th {\n",
       "        text-align: right;\n",
       "    }\n",
       "</style>\n",
       "<table border=\"1\" class=\"dataframe\">\n",
       "  <thead>\n",
       "    <tr style=\"text-align: right;\">\n",
       "      <th></th>\n",
       "      <th>ln_id</th>\n",
       "      <th>message_type</th>\n",
       "      <th>timestamp</th>\n",
       "      <th>role</th>\n",
       "      <th>content</th>\n",
       "      <th>metadata</th>\n",
       "      <th>sender</th>\n",
       "      <th>recipient</th>\n",
       "    </tr>\n",
       "  </thead>\n",
       "  <tbody>\n",
       "    <tr>\n",
       "      <th>0</th>\n",
       "      <td>f3cc9394721f7693fea2e2641ae8e639</td>\n",
       "      <td>System</td>\n",
       "      <td>2024-05-24T00:27:44.515499</td>\n",
       "      <td>system</td>\n",
       "      <td>{'system_info': 'As a comedian, you are sarcas...</td>\n",
       "      <td>{'last_updated': {'recipient': '2024-05-24T00:...</td>\n",
       "      <td>system</td>\n",
       "      <td>6c67c647f5f2f2711b0bbc9c5a151b4e</td>\n",
       "    </tr>\n",
       "    <tr>\n",
       "      <th>1</th>\n",
       "      <td>fed04f0b49e3384d7b2b5c0104848158</td>\n",
       "      <td>Instruction</td>\n",
       "      <td>2024-05-24T00:27:45.583604</td>\n",
       "      <td>user</td>\n",
       "      <td>{'instruction': 'very short joke: a blue whale...</td>\n",
       "      <td>{'last_updated': {'sender': '2024-05-24T00:27:...</td>\n",
       "      <td>user</td>\n",
       "      <td>6c67c647f5f2f2711b0bbc9c5a151b4e</td>\n",
       "    </tr>\n",
       "    <tr>\n",
       "      <th>2</th>\n",
       "      <td>2566a0db3590329c76d7bed7cecb9643</td>\n",
       "      <td>AssistantResponse</td>\n",
       "      <td>2024-05-24T00:27:46.930697</td>\n",
       "      <td>assistant</td>\n",
       "      <td>{'assistant_response': 'And the bartender says...</td>\n",
       "      <td>{'last_updated': {'sender': '2024-05-24T00:27:...</td>\n",
       "      <td>6c67c647f5f2f2711b0bbc9c5a151b4e</td>\n",
       "      <td>user</td>\n",
       "    </tr>\n",
       "    <tr>\n",
       "      <th>3</th>\n",
       "      <td>338296d100e49c06bdfd8010bd2019c8</td>\n",
       "      <td>Instruction</td>\n",
       "      <td>2024-05-24T00:27:47.347073</td>\n",
       "      <td>user</td>\n",
       "      <td>{'instruction': 'continue the joke: and then t...</td>\n",
       "      <td>{'last_updated': {'sender': '2024-05-24T00:27:...</td>\n",
       "      <td>user</td>\n",
       "      <td>6c67c647f5f2f2711b0bbc9c5a151b4e</td>\n",
       "    </tr>\n",
       "    <tr>\n",
       "      <th>4</th>\n",
       "      <td>977d0248152e3765b66062fd4b6b814c</td>\n",
       "      <td>AssistantResponse</td>\n",
       "      <td>2024-05-24T00:27:48.371636</td>\n",
       "      <td>assistant</td>\n",
       "      <td>{'assistant_response': 'And then they stopped,...</td>\n",
       "      <td>{'last_updated': {'sender': '2024-05-24T00:27:...</td>\n",
       "      <td>6c67c647f5f2f2711b0bbc9c5a151b4e</td>\n",
       "      <td>user</td>\n",
       "    </tr>\n",
       "  </tbody>\n",
       "</table>\n",
       "</div>"
      ],
      "text/plain": [
       "                              ln_id       message_type  \\\n",
       "0  f3cc9394721f7693fea2e2641ae8e639             System   \n",
       "1  fed04f0b49e3384d7b2b5c0104848158        Instruction   \n",
       "2  2566a0db3590329c76d7bed7cecb9643  AssistantResponse   \n",
       "3  338296d100e49c06bdfd8010bd2019c8        Instruction   \n",
       "4  977d0248152e3765b66062fd4b6b814c  AssistantResponse   \n",
       "\n",
       "                    timestamp       role  \\\n",
       "0  2024-05-24T00:27:44.515499     system   \n",
       "1  2024-05-24T00:27:45.583604       user   \n",
       "2  2024-05-24T00:27:46.930697  assistant   \n",
       "3  2024-05-24T00:27:47.347073       user   \n",
       "4  2024-05-24T00:27:48.371636  assistant   \n",
       "\n",
       "                                             content  \\\n",
       "0  {'system_info': 'As a comedian, you are sarcas...   \n",
       "1  {'instruction': 'very short joke: a blue whale...   \n",
       "2  {'assistant_response': 'And the bartender says...   \n",
       "3  {'instruction': 'continue the joke: and then t...   \n",
       "4  {'assistant_response': 'And then they stopped,...   \n",
       "\n",
       "                                            metadata  \\\n",
       "0  {'last_updated': {'recipient': '2024-05-24T00:...   \n",
       "1  {'last_updated': {'sender': '2024-05-24T00:27:...   \n",
       "2  {'last_updated': {'sender': '2024-05-24T00:27:...   \n",
       "3  {'last_updated': {'sender': '2024-05-24T00:27:...   \n",
       "4  {'last_updated': {'sender': '2024-05-24T00:27:...   \n",
       "\n",
       "                             sender                         recipient  \n",
       "0                            system  6c67c647f5f2f2711b0bbc9c5a151b4e  \n",
       "1                              user  6c67c647f5f2f2711b0bbc9c5a151b4e  \n",
       "2  6c67c647f5f2f2711b0bbc9c5a151b4e                              user  \n",
       "3                              user  6c67c647f5f2f2711b0bbc9c5a151b4e  \n",
       "4  6c67c647f5f2f2711b0bbc9c5a151b4e                              user  "
      ]
     },
     "execution_count": 8,
     "metadata": {},
     "output_type": "execute_result"
    }
   ],
   "source": [
    "result[0]"
   ]
  }
 ],
 "metadata": {
  "kernelspec": {
   "display_name": ".venv",
   "language": "python",
   "name": "python3"
  },
  "language_info": {
   "codemirror_mode": {
    "name": "ipython",
    "version": 3
   },
   "file_extension": ".py",
   "mimetype": "text/x-python",
   "name": "python",
   "nbconvert_exporter": "python",
   "pygments_lexer": "ipython3",
   "version": "3.10.6"
  }
 },
 "nbformat": 4,
 "nbformat_minor": 2
}
