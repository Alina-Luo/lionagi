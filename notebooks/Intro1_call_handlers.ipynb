{
 "cells": [
  {
   "cell_type": "code",
   "execution_count": 1,
   "metadata": {},
   "outputs": [],
   "source": [
    "import lionagi as li"
   ]
  },
  {
   "cell_type": "markdown",
   "metadata": {},
   "source": [
    "### Special function calls"
   ]
  },
  {
   "cell_type": "markdown",
   "metadata": {},
   "source": [
    "Complicated loops and iterations are a pain for large data sets, and complex data structure \n",
    "\n",
    "special function call handlers are designed to reduce that pain to stay focus on the workflow"
   ]
  },
  {
   "cell_type": "code",
   "execution_count": 2,
   "metadata": {},
   "outputs": [],
   "source": [
    "# create a test input list\n",
    "a = range(5)\n",
    "\n",
    "# create some test functions\n",
    "f1 = lambda x: x**2"
   ]
  },
  {
   "cell_type": "code",
   "execution_count": 3,
   "metadata": {},
   "outputs": [
    {
     "data": {
      "text/plain": [
       "[0, 1, 4, 9, 16]"
      ]
     },
     "execution_count": 3,
     "metadata": {},
     "output_type": "execute_result"
    }
   ],
   "source": [
    "# the first special function calling method is called l_call (list call)\n",
    "# you can operate a single function on the whole set of input list\n",
    "\n",
    "li.lcall(a, f1)"
   ]
  },
  {
   "cell_type": "code",
   "execution_count": 4,
   "metadata": {},
   "outputs": [
    {
     "data": {
      "text/plain": [
       "[2, 4, 6, 8, 10]"
      ]
     },
     "execution_count": 4,
     "metadata": {},
     "output_type": "execute_result"
    }
   ],
   "source": [
    "# the second is called m_call (map call) \n",
    "# provide a list of inputs and a list of functions of same length\n",
    "# output element-wise results,\n",
    "\n",
    "a = [1,2,3,4,5]\n",
    "\n",
    "f1 = lambda x: x+1\n",
    "f2 = lambda x: x+2\n",
    "f3 = lambda x: x+3\n",
    "f4 = lambda x: x+4\n",
    "f5 = lambda x: x+5\n",
    "\n",
    "# put these functions into a list\n",
    "f = [f1,f2,f3,f4,f5]\n",
    "\n",
    "li.mcall(a,f)"
   ]
  },
  {
   "cell_type": "code",
   "execution_count": 5,
   "metadata": {},
   "outputs": [
    {
     "data": {
      "text/plain": [
       "[[2, 3, 4, 5, 6],\n",
       " [3, 4, 5, 6, 7],\n",
       " [4, 5, 6, 7, 8],\n",
       " [5, 6, 7, 8, 9],\n",
       " [6, 7, 8, 9, 10]]"
      ]
     },
     "execution_count": 5,
     "metadata": {},
     "output_type": "execute_result"
    }
   ],
   "source": [
    "# e_call, explode call, it creates a 2-dimensional list\n",
    "# of each element applied with each function\n",
    "\n",
    "li.ecall(a,f)"
   ]
  },
  {
   "cell_type": "code",
   "execution_count": 6,
   "metadata": {},
   "outputs": [
    {
     "data": {
      "text/plain": [
       "3"
      ]
     },
     "execution_count": 6,
     "metadata": {},
     "output_type": "execute_result"
    }
   ],
   "source": [
    "# hold call, hold certain time before invoking function call\n",
    "li.hcall(1, lambda x: x+2, sleep=0.1)"
   ]
  },
  {
   "cell_type": "markdown",
   "metadata": {},
   "source": [
    "Every function here has their `async` counter part, by adding `a` in front, such as `alcall` (async list call)"
   ]
  }
 ],
 "metadata": {
  "kernelspec": {
   "display_name": "lion_dev",
   "language": "python",
   "name": "python3"
  },
  "language_info": {
   "codemirror_mode": {
    "name": "ipython",
    "version": 3
   },
   "file_extension": ".py",
   "mimetype": "text/x-python",
   "name": "python",
   "nbconvert_exporter": "python",
   "pygments_lexer": "ipython3",
   "version": "3.11.5"
  }
 },
 "nbformat": 4,
 "nbformat_minor": 2
}
