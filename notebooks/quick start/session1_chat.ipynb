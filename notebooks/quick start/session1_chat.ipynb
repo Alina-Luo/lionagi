{
 "cells": [
  {
   "cell_type": "markdown",
   "metadata": {},
   "source": [
    "# Start a chat with LLM"
   ]
  },
  {
   "cell_type": "markdown",
   "metadata": {},
   "source": [
    "The `Session` object is at the core of lionagi.\n",
    "\n",
    "A session is an interface to\n",
    "- manages and logs various messages (system, user, assistant) in a conversation, \n",
    "- get AI model inferencing with `Services`\n",
    "- enable effortless multi-round exchange between many participants. \n",
    "\n",
    "A Session object contains one or more `branch`, by default, every session has a `'main'` branch， `session.branches['main']`\n",
    "\n",
    "- `branch.messages` is a `pd.DataFrame`"
   ]
  },
  {
   "cell_type": "markdown",
   "metadata": {},
   "source": [
    "lionagi has some default config, you can check them under lionagi.integrations.config"
   ]
  },
  {
   "cell_type": "code",
   "execution_count": 1,
   "metadata": {},
   "outputs": [],
   "source": [
    "from IPython.display import Markdown  # for better print"
   ]
  },
  {
   "cell_type": "code",
   "execution_count": 2,
   "metadata": {},
   "outputs": [
    {
     "data": {
      "text/plain": [
       "{'model': 'gpt-4-turbo',\n",
       " 'frequency_penalty': 0,\n",
       " 'max_tokens': None,\n",
       " 'n': 1,\n",
       " 'presence_penalty': 0,\n",
       " 'response_format': {'type': 'text'},\n",
       " 'seed': None,\n",
       " 'stop': None,\n",
       " 'stream': False,\n",
       " 'temperature': 0.7,\n",
       " 'top_p': 1,\n",
       " 'tools': None,\n",
       " 'tool_choice': 'none',\n",
       " 'user': None}"
      ]
     },
     "execution_count": 2,
     "metadata": {},
     "output_type": "execute_result"
    }
   ],
   "source": [
    "from lionagi.integrations.config import oai_schema\n",
    "\n",
    "oai_schema[\"chat/completions\"][\"config\"]"
   ]
  },
  {
   "cell_type": "code",
   "execution_count": 3,
   "metadata": {},
   "outputs": [],
   "source": [
    "# create some messages\n",
    "sys_comedian = \"As a comedian, you are sarcastically funny\"\n",
    "instruct1 = (\n",
    "    \"very short joke: a blue whale and a big shark meet at the bar and start dancing\"\n",
    ")"
   ]
  },
  {
   "cell_type": "code",
   "execution_count": 4,
   "metadata": {},
   "outputs": [],
   "source": [
    "from lionagi import Session\n",
    "\n",
    "# create a llm conversation with OpenAI gpt-4 (default)\n",
    "comedian1 = Session(system=sys_comedian)\n",
    "joke1 = await comedian1.chat(instruction=instruct1, max_token=50)"
   ]
  },
  {
   "cell_type": "code",
   "execution_count": 5,
   "metadata": {},
   "outputs": [
    {
     "data": {
      "text/markdown": [
       "Why did the blue whale and the big shark start dancing at the bar? Because the jukebox only played sea-shanties, and they couldn’t find their porpoise in life!"
      ],
      "text/plain": [
       "<IPython.core.display.Markdown object>"
      ]
     },
     "execution_count": 5,
     "metadata": {},
     "output_type": "execute_result"
    }
   ],
   "source": [
    "Markdown(joke1)"
   ]
  },
  {
   "cell_type": "markdown",
   "metadata": {},
   "source": [
    "You can change a LLM provider by choosing a pre-configured service, or create your own"
   ]
  },
  {
   "cell_type": "code",
   "execution_count": 6,
   "metadata": {},
   "outputs": [],
   "source": [
    "from lionagi import Services\n",
    "\n",
    "service = Services.OpenRouter(\n",
    "    max_tokens=1000, max_requests=10, interval=60\n",
    ")  # set tokens rate limit\n",
    "model = \"mistralai/mixtral-8x7b-instruct\"  # use any model from openrouter, you need an openrouter api key\n",
    "\n",
    "comedian2 = Session(system=sys_comedian, service=service)\n",
    "joke2 = await comedian2.chat(instruction=instruct1, model=model, max_token=50)"
   ]
  },
  {
   "cell_type": "code",
   "execution_count": 7,
   "metadata": {},
   "outputs": [
    {
     "data": {
      "text/markdown": [
       " Sure thing, here's a short and sarcastically funny joke for you:\n",
       "\n",
       "\"A blue whale and a big shark walk into a bar and start cutting a rug on the dance floor. I mean, who knew these two could move so gracefully, right? I guess when it comes to dancing, size doesn't matter. Ha! Just kidding, it totally does. Those two were taking up the whole dance floor.\""
      ],
      "text/plain": [
       "<IPython.core.display.Markdown object>"
      ]
     },
     "execution_count": 7,
     "metadata": {},
     "output_type": "execute_result"
    }
   ],
   "source": [
    "Markdown(joke2)"
   ]
  },
  {
   "cell_type": "code",
   "execution_count": 8,
   "metadata": {},
   "outputs": [
    {
     "data": {
      "text/html": [
       "<div>\n",
       "<style scoped>\n",
       "    .dataframe tbody tr th:only-of-type {\n",
       "        vertical-align: middle;\n",
       "    }\n",
       "\n",
       "    .dataframe tbody tr th {\n",
       "        vertical-align: top;\n",
       "    }\n",
       "\n",
       "    .dataframe thead th {\n",
       "        text-align: right;\n",
       "    }\n",
       "</style>\n",
       "<table border=\"1\" class=\"dataframe\">\n",
       "  <thead>\n",
       "    <tr style=\"text-align: right;\">\n",
       "      <th></th>\n",
       "      <th>node_id</th>\n",
       "      <th>timestamp</th>\n",
       "      <th>role</th>\n",
       "      <th>sender</th>\n",
       "      <th>recipient</th>\n",
       "      <th>content</th>\n",
       "    </tr>\n",
       "  </thead>\n",
       "  <tbody>\n",
       "    <tr>\n",
       "      <th>0</th>\n",
       "      <td>97729ba0aea82c9d7f09d3417733abb6</td>\n",
       "      <td>2024-04-21T00:12:49.152361+00:00</td>\n",
       "      <td>system</td>\n",
       "      <td>system</td>\n",
       "      <td>assistant</td>\n",
       "      <td>{\"system_info\": \"As a comedian, you are sarcas...</td>\n",
       "    </tr>\n",
       "    <tr>\n",
       "      <th>1</th>\n",
       "      <td>000b1b557be5e2777b26f08a2c9f7316</td>\n",
       "      <td>2024-04-21T00:12:49.152958+00:00</td>\n",
       "      <td>user</td>\n",
       "      <td>user</td>\n",
       "      <td>main</td>\n",
       "      <td>{\"instruction\": \"very short joke: a blue whale...</td>\n",
       "    </tr>\n",
       "    <tr>\n",
       "      <th>2</th>\n",
       "      <td>cfe7576cbe1c423808f5c41de15938d3</td>\n",
       "      <td>2024-04-21T00:12:51.819032+00:00</td>\n",
       "      <td>assistant</td>\n",
       "      <td>main</td>\n",
       "      <td>user</td>\n",
       "      <td>{\"response\": \" Sure thing, here's a short and ...</td>\n",
       "    </tr>\n",
       "  </tbody>\n",
       "</table>\n",
       "</div>"
      ],
      "text/plain": [
       "                            node_id                         timestamp  \\\n",
       "0  97729ba0aea82c9d7f09d3417733abb6  2024-04-21T00:12:49.152361+00:00   \n",
       "1  000b1b557be5e2777b26f08a2c9f7316  2024-04-21T00:12:49.152958+00:00   \n",
       "2  cfe7576cbe1c423808f5c41de15938d3  2024-04-21T00:12:51.819032+00:00   \n",
       "\n",
       "        role  sender  recipient  \\\n",
       "0     system  system  assistant   \n",
       "1       user    user       main   \n",
       "2  assistant    main       user   \n",
       "\n",
       "                                             content  \n",
       "0  {\"system_info\": \"As a comedian, you are sarcas...  \n",
       "1  {\"instruction\": \"very short joke: a blue whale...  \n",
       "2  {\"response\": \" Sure thing, here's a short and ...  "
      ]
     },
     "execution_count": 8,
     "metadata": {},
     "output_type": "execute_result"
    }
   ],
   "source": [
    "# The following three implementation are equivalent\n",
    "# for getting the messages DataFrame from the default branch\n",
    "\n",
    "\"\"\"\n",
    "comedian2.messages\n",
    "comedian2.default_branch.messages\n",
    "comedian2.branches['main'].messages\n",
    "\"\"\"\n",
    "\n",
    "comedian2.branches[\"main\"].messages"
   ]
  },
  {
   "cell_type": "code",
   "execution_count": 9,
   "metadata": {},
   "outputs": [
    {
     "data": {
      "text/plain": [
       "{'system': 1, 'user': 1, 'assistant': 1, 'total': 3}"
      ]
     },
     "execution_count": 9,
     "metadata": {},
     "output_type": "execute_result"
    }
   ],
   "source": [
    "# check the default branch information\n",
    "comedian2.default_branch.info"
   ]
  }
 ],
 "metadata": {
  "kernelspec": {
   "display_name": "lion_dev",
   "language": "python",
   "name": "python3"
  },
  "language_info": {
   "codemirror_mode": {
    "name": "ipython",
    "version": 3
   },
   "file_extension": ".py",
   "mimetype": "text/x-python",
   "name": "python",
   "nbconvert_exporter": "python",
   "pygments_lexer": "ipython3",
   "version": "3.11.6"
  }
 },
 "nbformat": 4,
 "nbformat_minor": 2
}
