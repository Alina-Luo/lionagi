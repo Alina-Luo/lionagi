{
 "cells": [
  {
   "cell_type": "markdown",
   "metadata": {},
   "source": [
    "continue with the comedian example"
   ]
  },
  {
   "cell_type": "code",
   "execution_count": null,
   "metadata": {},
   "outputs": [],
   "source": [
    "from IPython.display import Markdown"
   ]
  },
  {
   "cell_type": "code",
   "execution_count": 1,
   "metadata": {},
   "outputs": [],
   "source": [
    "# create some messages\n",
    "sys_comedian = \"As a comedian, you are sarcastically funny\"\n",
    "instruct1 = \"very short joke: a blue whale and a big shark meet at the bar and start dancing\"\n",
    "instruct2 = \"continue the joke: and then they stopped\""
   ]
  },
  {
   "cell_type": "code",
   "execution_count": 2,
   "metadata": {},
   "outputs": [],
   "source": [
    "from lionagi import Session\n",
    "\n",
    "# start a LLM session and have consecutive chats with it\n",
    "comedian = Session(system=sys_comedian)\n",
    "\n",
    "joke1 = await comedian.chat(instruction=instruct1)\n",
    "joke2 = await comedian.chat(instruction=instruct2)"
   ]
  },
  {
   "cell_type": "code",
   "execution_count": 3,
   "metadata": {},
   "outputs": [
    {
     "data": {
      "text/markdown": [
       "Why did the blue whale and the big shark start dancing at the bar? Because the whale wanted to see the shark shake his tail-fin!"
      ],
      "text/plain": [
       "<IPython.core.display.Markdown object>"
      ]
     },
     "execution_count": 3,
     "metadata": {},
     "output_type": "execute_result"
    }
   ],
   "source": [
    "Markdown(joke1)"
   ]
  },
  {
   "cell_type": "code",
   "execution_count": 4,
   "metadata": {},
   "outputs": [
    {
     "data": {
      "text/markdown": [
       "And then they stopped because even in the sea of alcohol, the whale realized the shark had two left fins and absolutely no rhythm."
      ],
      "text/plain": [
       "<IPython.core.display.Markdown object>"
      ]
     },
     "execution_count": 4,
     "metadata": {},
     "output_type": "execute_result"
    }
   ],
   "source": [
    "Markdown(joke2)"
   ]
  },
  {
   "cell_type": "markdown",
   "metadata": {},
   "source": [
    "Now add another session to critique the comedian's work"
   ]
  },
  {
   "cell_type": "code",
   "execution_count": 5,
   "metadata": {},
   "outputs": [],
   "source": [
    "# some messages for the critic\n",
    "sys_critic = \"you are a respected commentator, you are artistically logical\"\n",
    "instruct3 = \"short comments, what do you think about the first joke?\"\n",
    "instruct4 = \"provide a concise artistic critique on both jokes, and rate from 1-10\""
   ]
  },
  {
   "cell_type": "code",
   "execution_count": 6,
   "metadata": {},
   "outputs": [],
   "source": [
    "# create a session with the critic and generate some comments in a multi-turn conversation\n",
    "critic = Session(sys_critic)\n",
    "\n",
    "# provide context for the critic, context needs to be string or string mappings/iterables\n",
    "context = {\n",
    "    \"joke1\": {\"prompt\": instruct1, \"response\": joke1},\n",
    "    \"joke2\": {\"prompt\": instruct2, \"response\": joke2}\n",
    "}\n",
    "\n",
    "# you only need to provide same context once in a conversation\n",
    "comment1 = await critic.chat(instruct3, context=context)    \n",
    "comment2 = await critic.chat(instruct4)"
   ]
  },
  {
   "cell_type": "code",
   "execution_count": 7,
   "metadata": {},
   "outputs": [
    {
     "data": {
      "text/markdown": [
       "The first joke presents a whimsical scenario with a playful punchline that capitalizes on wordplay and animal characteristics. It's light-hearted and conjures a funny image of marine animals engaging in human-like behavior."
      ],
      "text/plain": [
       "<IPython.core.display.Markdown object>"
      ]
     },
     "execution_count": 7,
     "metadata": {},
     "output_type": "execute_result"
    }
   ],
   "source": [
    "Markdown(comment1)"
   ]
  },
  {
   "cell_type": "code",
   "execution_count": 8,
   "metadata": {},
   "outputs": [
    {
     "data": {
      "text/markdown": [
       "The first joke utilizes the unexpected juxtaposition of ocean giants engaging in a typically human activity, with a punchline that hinges on a clever play on words involving the shark's tail-fin. It's an imaginative and family-friendly jest. Rating: 6/10\n",
       "\n",
       "The second joke acts as a comical continuation, introducing a twist on the initial scenario by playing on the physical attributes of the shark, adding an element of absurdity. This punchline, however, may fall a bit flat as it stretches the initial premise. Rating: 5/10"
      ],
      "text/plain": [
       "<IPython.core.display.Markdown object>"
      ]
     },
     "execution_count": 8,
     "metadata": {},
     "output_type": "execute_result"
    }
   ],
   "source": [
    "Markdown(comment2)"
   ]
  },
  {
   "cell_type": "markdown",
   "metadata": {},
   "source": [
    "now add the feedback back to comedian session to improve "
   ]
  },
  {
   "cell_type": "code",
   "execution_count": null,
   "metadata": {},
   "outputs": [],
   "source": [
    "# messages for comedian again\n",
    "instruct5 = \"your jokes were evaluated by a critic, does it make sense to you? why?\"\n",
    "instruct6 = \"basing on your reflection, write joke1 again\"\n",
    "instruct7 = \"write joke2 again\"\n",
    "\n",
    "# let us provide critic's feedback to comedian\n",
    "df = critic.assistant_responses\n",
    "context2 = df.to_dict()"
   ]
  },
  {
   "cell_type": "code",
   "execution_count": 10,
   "metadata": {},
   "outputs": [],
   "source": [
    "# run the instructions\n",
    "reflect = await comedian.chat(instruct5, context=context2)\n",
    "joke11 = await comedian.chat(instruct6)\n",
    "joke22 = await comedian.chat(instruct7)"
   ]
  },
  {
   "cell_type": "code",
   "execution_count": 11,
   "metadata": {},
   "outputs": [
    {
     "data": {
      "text/markdown": [
       "Oh, it absolutely makes sense to get feedback from a critic, even if it's about my hilarious (or so I thought) oceanic dance-off. Critics help us see where our humor lands with the audience and where it sinks faster than a mobster's snitch in cement shoes. The first joke got a 6/10 - hey, that's above water! It means the playful punchline didn't belly flop, and the audience might've even cracked a smile imagining a whale and shark boogieing down.\n",
       "\n",
       "The second joke, well, it seems it didn't quite ride the wave as the first one did, scoring a 5/10. It's like that moment when you're the last one to realize the music stopped and you're still dancing. Maybe the 'two left fins' bit was a stretch - after all, not everyone appreciates a shark with dancing difficulties. But hey, every comedian has their \"Jaws\" moment; you think you've got a hit, and then it turns out to be a bit of a \"sharknado.\" It's all about testing the waters and seeing what makes a splash!"
      ],
      "text/plain": [
       "<IPython.core.display.Markdown object>"
      ]
     },
     "execution_count": 11,
     "metadata": {},
     "output_type": "execute_result"
    }
   ],
   "source": [
    "Markdown(reflect)"
   ]
  },
  {
   "cell_type": "code",
   "execution_count": 12,
   "metadata": {},
   "outputs": [
    {
     "data": {
      "text/markdown": [
       "Why did the blue whale and the big shark hit the dance floor at the bar? Because the whale thought it was time to see if the shark could really \"fin\"ish a dance move!"
      ],
      "text/plain": [
       "<IPython.core.display.Markdown object>"
      ]
     },
     "execution_count": 12,
     "metadata": {},
     "output_type": "execute_result"
    }
   ],
   "source": [
    "Markdown(joke11)"
   ]
  },
  {
   "cell_type": "code",
   "execution_count": 13,
   "metadata": {},
   "outputs": [
    {
     "data": {
      "text/markdown": [
       "And then they stopped—turns out, the shark was more of a \"biter\" than a \"two-stepper,\" and the whale didn't want to become the next viral \"sea-duction\" video!"
      ],
      "text/plain": [
       "<IPython.core.display.Markdown object>"
      ]
     },
     "execution_count": 13,
     "metadata": {},
     "output_type": "execute_result"
    }
   ],
   "source": [
    "Markdown(joke22)"
   ]
  },
  {
   "cell_type": "code",
   "execution_count": null,
   "metadata": {},
   "outputs": [],
   "source": [
    "# now save the messages to csv/json \n",
    "comedian.to_csv_file()\n",
    "critic.to_csv_file()\n",
    "\n",
    "# you can also save the API logs to csv/json, in fact if you don't, it will save it for you \n",
    "# when the session objects is out of name scope \n",
    "comedian.log_to_csv()\n",
    "critic.log_to_csv()"
   ]
  }
 ],
 "metadata": {
  "kernelspec": {
   "display_name": "lion_dev",
   "language": "python",
   "name": "python3"
  },
  "language_info": {
   "codemirror_mode": {
    "name": "ipython",
    "version": 3
   },
   "file_extension": ".py",
   "mimetype": "text/x-python",
   "name": "python",
   "nbconvert_exporter": "python",
   "pygments_lexer": "ipython3",
   "version": "3.11.5"
  }
 },
 "nbformat": 4,
 "nbformat_minor": 2
}
