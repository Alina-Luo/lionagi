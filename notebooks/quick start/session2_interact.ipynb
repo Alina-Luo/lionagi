{
 "cells": [
  {
   "cell_type": "markdown",
   "metadata": {},
   "source": [
    "continue with the comedian example"
   ]
  },
  {
   "cell_type": "code",
   "execution_count": 1,
   "metadata": {},
   "outputs": [],
   "source": [
    "from IPython.display import Markdown"
   ]
  },
  {
   "cell_type": "code",
   "execution_count": 2,
   "metadata": {},
   "outputs": [],
   "source": [
    "# create some messages\n",
    "sys_comedian = \"As a comedian, you are sarcastically funny\"\n",
    "instruct1 = (\n",
    "    \"very short joke: a blue whale and a big shark meet at the bar and start dancing\"\n",
    ")\n",
    "instruct2 = \"continue the joke: and then they stopped\""
   ]
  },
  {
   "cell_type": "code",
   "execution_count": 3,
   "metadata": {},
   "outputs": [],
   "source": [
    "from lionagi import Session\n",
    "\n",
    "# start a LLM session and have consecutive chats with it\n",
    "comedian = Session(system=sys_comedian)\n",
    "\n",
    "joke1 = await comedian.chat(instruction=instruct1)\n",
    "joke2 = await comedian.chat(instruction=instruct2)"
   ]
  },
  {
   "cell_type": "code",
   "execution_count": 4,
   "metadata": {},
   "outputs": [
    {
     "data": {
      "text/markdown": [
       "Why did the blue whale and the big shark start dancing at the bar? Because they heard the bartender say, \"Shake your tails!\""
      ],
      "text/plain": [
       "<IPython.core.display.Markdown object>"
      ]
     },
     "execution_count": 4,
     "metadata": {},
     "output_type": "execute_result"
    }
   ],
   "source": [
    "Markdown(joke1)"
   ]
  },
  {
   "cell_type": "code",
   "execution_count": 5,
   "metadata": {},
   "outputs": [
    {
     "data": {
      "text/markdown": [
       "And then they stopped—turns out, they couldn't handle the 'Fish and Sips' happy hour specials!"
      ],
      "text/plain": [
       "<IPython.core.display.Markdown object>"
      ]
     },
     "execution_count": 5,
     "metadata": {},
     "output_type": "execute_result"
    }
   ],
   "source": [
    "Markdown(joke2)"
   ]
  },
  {
   "cell_type": "markdown",
   "metadata": {},
   "source": [
    "Now add another session to critique the comedian's work"
   ]
  },
  {
   "cell_type": "code",
   "execution_count": 6,
   "metadata": {},
   "outputs": [],
   "source": [
    "# some messages for the critic\n",
    "sys_critic = \"you are a respected commentator, you are artistically logical\"\n",
    "instruct3 = \"short comments, what do you think about the first joke?\"\n",
    "instruct4 = \"provide a concise artistic critique on both jokes, and rate from 1-10\""
   ]
  },
  {
   "cell_type": "code",
   "execution_count": 7,
   "metadata": {},
   "outputs": [],
   "source": [
    "# create a session with the critic and generate some comments in a multi-turn conversation\n",
    "critic = Session(sys_critic)\n",
    "\n",
    "# provide context for the critic, context needs to be string or string mappings/iterables\n",
    "context = {\n",
    "    \"joke1\": {\"prompt\": instruct1, \"response\": joke1},\n",
    "    \"joke2\": {\"prompt\": instruct2, \"response\": joke2},\n",
    "}\n",
    "\n",
    "# you only need to provide same context once in a conversation\n",
    "comment1 = await critic.chat(instruct3, context=context)\n",
    "comment2 = await critic.chat(instruct4)"
   ]
  },
  {
   "cell_type": "code",
   "execution_count": 8,
   "metadata": {},
   "outputs": [
    {
     "data": {
      "text/markdown": [
       "The first joke plays creatively with language and scenario, delivering a clever twist that brings a smile. It's light-hearted and uses the setting well to craft the punchline."
      ],
      "text/plain": [
       "<IPython.core.display.Markdown object>"
      ]
     },
     "execution_count": 8,
     "metadata": {},
     "output_type": "execute_result"
    }
   ],
   "source": [
    "Markdown(comment1)"
   ]
  },
  {
   "cell_type": "code",
   "execution_count": 9,
   "metadata": {},
   "outputs": [
    {
     "data": {
      "text/markdown": [
       "{\"response\": \"The first joke juxtaposes the unusual image of a blue whale and a shark dancing in a bar, using the pun 'Shake your tails!' to deliver a playful punchline. It's imaginative and the wordplay is on point, rating it a 7/10 for creativity and humor.\n",
       "\n",
       "The second joke extends the scenario with a continuation that slightly falls short in punch but retains the thematic consistency with 'Fish and Sips.' Although it maintains the playful tone, the punchline is less impactful, earning a 6/10 for effort and coherence in theme.\"}"
      ],
      "text/plain": [
       "<IPython.core.display.Markdown object>"
      ]
     },
     "execution_count": 9,
     "metadata": {},
     "output_type": "execute_result"
    }
   ],
   "source": [
    "Markdown(comment2)"
   ]
  },
  {
   "cell_type": "markdown",
   "metadata": {},
   "source": [
    "now add the feedback back to comedian session to improve "
   ]
  },
  {
   "cell_type": "code",
   "execution_count": 10,
   "metadata": {},
   "outputs": [],
   "source": [
    "# messages for comedian again\n",
    "instruct5 = \"your jokes were evaluated by a critic, does it make sense to you? why?\"\n",
    "instruct6 = \"basing on your reflection, write joke1 again\"\n",
    "instruct7 = \"write joke2 again\"\n",
    "\n",
    "# let us provide critic's feedback to comedian\n",
    "df = critic.assistant_responses\n",
    "context2 = df.to_dict()"
   ]
  },
  {
   "cell_type": "code",
   "execution_count": 11,
   "metadata": {},
   "outputs": [],
   "source": [
    "# run the instructions\n",
    "reflect = await comedian.chat(instruct5, context=context2)\n",
    "joke11 = await comedian.chat(instruct6)\n",
    "joke22 = await comedian.chat(instruct7)"
   ]
  },
  {
   "cell_type": "code",
   "execution_count": 12,
   "metadata": {},
   "outputs": [
    {
     "data": {
      "text/markdown": [
       "Yes, it makes sense that the jokes were evaluated by a critic. Comedy, like any other form of art, is subjective and open to interpretation and critique. The evaluation helps understand how the jokes resonate with different audiences and what elements are effective or need improvement. The critic's feedback provides insight into the creativity, humor, and impact of the jokes, offering a perspective on how they might be refined or appreciated in different contexts."
      ],
      "text/plain": [
       "<IPython.core.display.Markdown object>"
      ]
     },
     "execution_count": 12,
     "metadata": {},
     "output_type": "execute_result"
    }
   ],
   "source": [
    "Markdown(reflect)"
   ]
  },
  {
   "cell_type": "code",
   "execution_count": 13,
   "metadata": {},
   "outputs": [
    {
     "data": {
      "text/markdown": [
       "Why did the blue whale and the big shark start dancing at the bar? Because the DJ played their favorite tune: 'Blubber Shake'!"
      ],
      "text/plain": [
       "<IPython.core.display.Markdown object>"
      ]
     },
     "execution_count": 13,
     "metadata": {},
     "output_type": "execute_result"
    }
   ],
   "source": [
    "Markdown(joke11)"
   ]
  },
  {
   "cell_type": "code",
   "execution_count": 14,
   "metadata": {},
   "outputs": [
    {
     "data": {
      "text/markdown": [
       "And then they stopped—because even in the ocean, nobody wants to see a shark and a whale do the 'belly flop'!"
      ],
      "text/plain": [
       "<IPython.core.display.Markdown object>"
      ]
     },
     "execution_count": 14,
     "metadata": {},
     "output_type": "execute_result"
    }
   ],
   "source": [
    "Markdown(joke22)"
   ]
  },
  {
   "cell_type": "code",
   "execution_count": 15,
   "metadata": {},
   "outputs": [
    {
     "name": "stdout",
     "output_type": "stream",
     "text": [
      "11 messages saved to data/logs/main_messages_20240420201339.csv\n",
      "5 messages saved to data/logs/main_messages_20240420201339.csv\n",
      "5 logs saved to data/logs/main_log_20240420201339-3d8.csv\n",
      "2 logs saved to data/logs/main_log_20240420201339-1e7.csv\n"
     ]
    }
   ],
   "source": [
    "# now save the messages to csv/json\n",
    "comedian.to_csv_file()\n",
    "critic.to_csv_file()\n",
    "\n",
    "# you can also save the API logs to csv/json, in fact if you don't, it will save it for you\n",
    "# when the session objects is out of name scope\n",
    "comedian.log_to_csv()\n",
    "critic.log_to_csv()"
   ]
  }
 ],
 "metadata": {
  "kernelspec": {
   "display_name": "lion_dev",
   "language": "python",
   "name": "python3"
  },
  "language_info": {
   "codemirror_mode": {
    "name": "ipython",
    "version": 3
   },
   "file_extension": ".py",
   "mimetype": "text/x-python",
   "name": "python",
   "nbconvert_exporter": "python",
   "pygments_lexer": "ipython3",
   "version": "3.11.6"
  }
 },
 "nbformat": 4,
 "nbformat_minor": 2
}
