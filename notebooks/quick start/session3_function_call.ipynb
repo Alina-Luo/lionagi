{
 "cells": [
  {
   "cell_type": "markdown",
   "metadata": {},
   "source": [
    "# Function Calling\n",
    "\n",
    "Function calling is a powerful feature of OpenAI `gpt-4` and other models. It essentially is a **Function Picker and Parameter Provider**. It can help you choose which function, if any, to invoke with which parameters, under provided context and instruction. \n",
    "\n",
    "LionAGI allows simple usage of function callings in the `Session` object. "
   ]
  },
  {
   "cell_type": "code",
   "execution_count": 2,
   "metadata": {},
   "outputs": [],
   "source": [
    "tool_schema = {\n",
    "    \"type\": \"function\",\n",
    "    \"function\": {\n",
    "        \"name\": \"multiply\",\n",
    "        \"description\": \"Perform multiplication on two numbers\",\n",
    "        \"parameters\": {\n",
    "            \"type\": \"object\",\n",
    "            \"properties\": {\n",
    "                \"number1\": {\n",
    "                    \"type\": \"number\",\n",
    "                    \"description\": \"a number to multiply, e.g. 5.34\",\n",
    "                },\n",
    "                \"number2\": {\n",
    "                    \"type\": \"number\",\n",
    "                    \"description\": \"a number to multiply, e.g. 17\",\n",
    "                },\n",
    "            },\n",
    "            # specify which parameters are required for the model to respond \n",
    "            # when function calling\n",
    "            \"required\": [\"number1\", \"number2\"],\n",
    "        },\n",
    "    }\n",
    "}\n",
    "\n",
    "def multiply(number1, number2):\n",
    "    return number1*number2"
   ]
  },
  {
   "cell_type": "code",
   "execution_count": 3,
   "metadata": {},
   "outputs": [],
   "source": [
    "from lionagi.core.schema import Tool\n",
    "\n",
    "# created a tool object\n",
    "tools = Tool(func=multiply, schema_=tool_schema)"
   ]
  },
  {
   "cell_type": "code",
   "execution_count": 4,
   "metadata": {},
   "outputs": [],
   "source": [
    "# add some messages for our session\n",
    "system = \"\"\"\n",
    "    you are asked to perform as a function picker and parameter provider\n",
    "\"\"\"\n",
    "\n",
    "task = \"\"\"\n",
    "    Think step by step, understand the following basic math question and \n",
    "    provide parameters for function calling.\n",
    "\"\"\"\n",
    "\n",
    "# json format for the task\n",
    "json_format = {\"number1\": \"x\", \"number2\": \"y\"}\n",
    "instruct1 = {\"Task\": task, \"json_format\": json_format}"
   ]
  },
  {
   "cell_type": "code",
   "execution_count": 6,
   "metadata": {},
   "outputs": [],
   "source": [
    "from lionagi import Session\n",
    "\n",
    "# now we provide the speific problems as contexts \n",
    "question1 = \"\"\"\n",
    "    There are [basketball, football, backpack, water bottle, strawberry, \n",
    "    tennis ball, rockets]. each comes in four different colors, what is \n",
    "    the number of unique kinds of ball?\n",
    "\"\"\"\n",
    "\n",
    "question2 = \"\"\"\n",
    "    There are three fruits in total, each with 2 different colors, how \n",
    "    many unique kinds of fruits are there?\n",
    "\"\"\"\n",
    "\n",
    "session = Session(system=system, tools=tools)\n",
    "\n",
    "response = await session.chat(\n",
    "    instruct1, \n",
    "    context={\"Question1\": question1, \"question2\": question2}, \n",
    "    tools=True, \n",
    "    response_format={'type':\"json_object\"}\n",
    ")"
   ]
  },
  {
   "cell_type": "markdown",
   "metadata": {},
   "source": [
    "for function call to work, you either need to enforce \n",
    "\n",
    "- `response_format={'type':\"json_object\"}`, or `tool_choice = 'auto'` \n",
    "\n",
    "- if you use 'auto', you let model choose what to do, \n",
    "\n",
    "- if you want to force a function call, use `tool_choice={\"type\": \"function\", \"function\": {\"name\": \"my_function\"}}`"
   ]
  },
  {
   "cell_type": "code",
   "execution_count": 7,
   "metadata": {},
   "outputs": [
    {
     "name": "stdout",
     "output_type": "stream",
     "text": [
      "{'action_request': [{'action': 'action_multiply', 'arguments': '{\"number1\": 2, \"number2\": 4}'}, {'action': 'action_multiply', 'arguments': '{\"number1\": 3, \"number2\": 2}'}]}\n"
     ]
    }
   ],
   "source": [
    "# responses from action requests are dictionary\n",
    "import lionagi as li\n",
    "\n",
    "print(li.to_readable_dict(response))"
   ]
  },
  {
   "cell_type": "code",
   "execution_count": 8,
   "metadata": {},
   "outputs": [
    {
     "name": "stdout",
     "output_type": "stream",
     "text": [
      "{'action': 'action_multiply', 'arguments': '{\"number1\": 2, \"number2\": 4}'}\n",
      "{'action': 'action_multiply', 'arguments': '{\"number1\": 3, \"number2\": 2}'}\n"
     ]
    }
   ],
   "source": [
    "li.lcall(response['action_request'], lambda x: print(x));"
   ]
  },
  {
   "cell_type": "code",
   "execution_count": 9,
   "metadata": {},
   "outputs": [
    {
     "data": {
      "text/html": [
       "<div>\n",
       "<style scoped>\n",
       "    .dataframe tbody tr th:only-of-type {\n",
       "        vertical-align: middle;\n",
       "    }\n",
       "\n",
       "    .dataframe tbody tr th {\n",
       "        vertical-align: top;\n",
       "    }\n",
       "\n",
       "    .dataframe thead th {\n",
       "        text-align: right;\n",
       "    }\n",
       "</style>\n",
       "<table border=\"1\" class=\"dataframe\">\n",
       "  <thead>\n",
       "    <tr style=\"text-align: right;\">\n",
       "      <th></th>\n",
       "      <th>node_id</th>\n",
       "      <th>role</th>\n",
       "      <th>name</th>\n",
       "      <th>timestamp</th>\n",
       "      <th>content</th>\n",
       "    </tr>\n",
       "  </thead>\n",
       "  <tbody>\n",
       "    <tr>\n",
       "      <th>0</th>\n",
       "      <td>7bd2b4351478a552933de0043f246780</td>\n",
       "      <td>system</td>\n",
       "      <td>system</td>\n",
       "      <td>2024-01-18 12:14:11.789018</td>\n",
       "      <td>{\"system_info\": \"you are asked to perform as a...</td>\n",
       "    </tr>\n",
       "    <tr>\n",
       "      <th>1</th>\n",
       "      <td>3a9a162adc8495e7a2ae5c81fb284048</td>\n",
       "      <td>user</td>\n",
       "      <td>user</td>\n",
       "      <td>2024-01-18 12:14:11.789648</td>\n",
       "      <td>{\"instruction\": {\"Task\": \"Think step by step, ...</td>\n",
       "    </tr>\n",
       "    <tr>\n",
       "      <th>2</th>\n",
       "      <td>77bea66b96f6beb00bb02836c5f90cfa</td>\n",
       "      <td>assistant</td>\n",
       "      <td>action_request</td>\n",
       "      <td>2024-01-18 12:14:20.591398</td>\n",
       "      <td>{\"action_request\": [{\"action\": \"action_multiply\",...</td>\n",
       "    </tr>\n",
       "    <tr>\n",
       "      <th>3</th>\n",
       "      <td>fe7aa5a565c0244ce99c56b12aba8529</td>\n",
       "      <td>assistant</td>\n",
       "      <td>action_response</td>\n",
       "      <td>2024-01-18 12:14:20.592549</td>\n",
       "      <td>{\"action_response\": {\"function\": \"multiply\", \"...</td>\n",
       "    </tr>\n",
       "    <tr>\n",
       "      <th>4</th>\n",
       "      <td>3ac75169c83d3e442dcc9418968ced99</td>\n",
       "      <td>assistant</td>\n",
       "      <td>action_response</td>\n",
       "      <td>2024-01-18 12:14:20.593214</td>\n",
       "      <td>{\"action_response\": {\"function\": \"multiply\", \"...</td>\n",
       "    </tr>\n",
       "  </tbody>\n",
       "</table>\n",
       "</div>"
      ],
      "text/plain": [
       "                            node_id       role             name  \\\n",
       "0  7bd2b4351478a552933de0043f246780     system           system   \n",
       "1  3a9a162adc8495e7a2ae5c81fb284048       user             user   \n",
       "2  77bea66b96f6beb00bb02836c5f90cfa  assistant   action_request   \n",
       "3  fe7aa5a565c0244ce99c56b12aba8529  assistant  action_response   \n",
       "4  3ac75169c83d3e442dcc9418968ced99  assistant  action_response   \n",
       "\n",
       "                   timestamp  \\\n",
       "0 2024-01-18 12:14:11.789018   \n",
       "1 2024-01-18 12:14:11.789648   \n",
       "2 2024-01-18 12:14:20.591398   \n",
       "3 2024-01-18 12:14:20.592549   \n",
       "4 2024-01-18 12:14:20.593214   \n",
       "\n",
       "                                             content  \n",
       "0  {\"system_info\": \"you are asked to perform as a...  \n",
       "1  {\"instruction\": {\"Task\": \"Think step by step, ...  \n",
       "2  {\"action_request\": [{\"action\": \"action_multiply\",...  \n",
       "3  {\"action_response\": {\"function\": \"multiply\", \"...  \n",
       "4  {\"action_response\": {\"function\": \"multiply\", \"...  "
      ]
     },
     "execution_count": 9,
     "metadata": {},
     "output_type": "execute_result"
    }
   ],
   "source": [
    "# messages is a pandas dataframe\n",
    "session.messages"
   ]
  },
  {
   "cell_type": "code",
   "execution_count": 10,
   "metadata": {},
   "outputs": [
    {
     "name": "stdout",
     "output_type": "stream",
     "text": [
      "{'function': 'multiply', 'arguments': {'number1': 2, 'number2': 4}, 'output': 8}\n",
      "{'function': 'multiply', 'arguments': {'number1': 3, 'number2': 2}, 'output': 6}\n"
     ]
    }
   ],
   "source": [
    "# since the response is an output from action, you need to use the key `action_response`\n",
    "# now let us check the function responses\n",
    "df = session.default_branch.action_response\n",
    "\n",
    "for content in df['content']:\n",
    "    dict_ = li.to_dict(content)\n",
    "    print(dict_)"
   ]
  }
 ],
 "metadata": {
  "kernelspec": {
   "display_name": "test_env",
   "language": "python",
   "name": "python3"
  },
  "language_info": {
   "codemirror_mode": {
    "name": "ipython",
    "version": 3
   },
   "file_extension": ".py",
   "mimetype": "text/x-python",
   "name": "python",
   "nbconvert_exporter": "python",
   "pygments_lexer": "ipython3",
   "version": "3.11.7"
  }
 },
 "nbformat": 4,
 "nbformat_minor": 2
}
