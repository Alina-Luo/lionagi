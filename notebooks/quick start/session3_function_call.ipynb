{
 "cells": [
  {
   "cell_type": "markdown",
   "metadata": {},
   "source": [
    "# Function Calling\n",
    "\n",
    "Function calling is a powerful feature of OpenAI `gpt-4` and other models. It essentially is a **Function Picker and Parameter Provider**. It can help you choose which function, if any, to invoke with which parameters, under provided context and instruction. \n",
    "\n",
    "LionAGI allows simple usage of function callings in the `Session` object. "
   ]
  },
  {
   "cell_type": "code",
   "execution_count": 1,
   "metadata": {},
   "outputs": [],
   "source": [
    "tool_schema = {\n",
    "    \"type\": \"function\",\n",
    "    \"function\": {\n",
    "        \"name\": \"multiply\",\n",
    "        \"description\": \"Perform multiplication on two numbers\",\n",
    "        \"parameters\": {\n",
    "            \"type\": \"object\",\n",
    "            \"properties\": {\n",
    "                \"number1\": {\n",
    "                    \"type\": \"number\",\n",
    "                    \"description\": \"a number to multiply, e.g. 5.34\",\n",
    "                },\n",
    "                \"number2\": {\n",
    "                    \"type\": \"number\",\n",
    "                    \"description\": \"a number to multiply, e.g. 17\",\n",
    "                },\n",
    "            },\n",
    "            # specify which parameters are required for the model to respond \n",
    "            # when function calling\n",
    "            \"required\": [\"number1\", \"number2\"],\n",
    "        },\n",
    "    }\n",
    "}\n",
    "\n",
    "def multiply(number1, number2):\n",
    "    return number1*number2"
   ]
  },
  {
   "cell_type": "code",
   "execution_count": 2,
   "metadata": {},
   "outputs": [],
   "source": [
    "from lionagi.core.schema import Tool\n",
    "\n",
    "# created a tool object\n",
    "tools = Tool(func=multiply, schema_=tool_schema)"
   ]
  },
  {
   "cell_type": "code",
   "execution_count": 3,
   "metadata": {},
   "outputs": [],
   "source": [
    "# add some messages for our session\n",
    "system = \"\"\"\n",
    "    you are asked to perform as a function picker and parameter provider\n",
    "\"\"\"\n",
    "\n",
    "task = \"\"\"\n",
    "    Think step by step, understand the following basic math question and \n",
    "    provide parameters for function calling.\n",
    "\"\"\"\n",
    "\n",
    "# json format for the task\n",
    "json_format = {\"number1\": \"x\", \"number2\": \"y\"}\n",
    "instruct1 = {\"Task\": task, \"json_format\": json_format}"
   ]
  },
  {
   "cell_type": "code",
   "execution_count": 4,
   "metadata": {},
   "outputs": [],
   "source": [
    "from lionagi import Session"
   ]
  },
  {
   "cell_type": "code",
   "execution_count": 5,
   "metadata": {},
   "outputs": [],
   "source": [
    "session = Session(system=system, tools=tools)"
   ]
  },
  {
   "cell_type": "code",
   "execution_count": 6,
   "metadata": {},
   "outputs": [],
   "source": [
    "\n",
    "\n",
    "# now we provide the speific problems as contexts \n",
    "question1 = \"\"\"\n",
    "    There are [basketball, football, backpack, water bottle, strawberry, \n",
    "    tennis ball, rockets]. each comes in four different colors, what is \n",
    "    the number of unique kinds of ball?\n",
    "\"\"\"\n",
    "\n",
    "question2 = \"\"\"\n",
    "    There are three fruits in total, each with 2 different colors, how \n",
    "    many unique kinds of fruits are there?\n",
    "\"\"\"\n",
    "\n",
    "\n",
    "\n",
    "response = await session.chat(\n",
    "    instruct1, \n",
    "    context={\"Question1\": question1, \"question2\": question2}, \n",
    "    tools=True, \n",
    "    response_format={'type':\"json_object\"}\n",
    ")"
   ]
  },
  {
   "cell_type": "markdown",
   "metadata": {},
   "source": [
    "for function call to work, you either need to enforce \n",
    "\n",
    "- `response_format={'type':\"json_object\"}`, or `tool_choice = 'auto'` \n",
    "\n",
    "- if you use 'auto', you let model choose what to do, \n",
    "\n",
    "- if you want to force a function call, use `tool_choice={\"type\": \"function\", \"function\": {\"name\": \"my_function\"}}`"
   ]
  },
  {
   "cell_type": "code",
   "execution_count": 7,
   "metadata": {},
   "outputs": [
    {
     "name": "stdout",
     "output_type": "stream",
     "text": [
      "{\n",
      "    \"action_request\": [\n",
      "        {\n",
      "            \"recipient_name\": \"functions.multiply\",\n",
      "            \"parameters\": {\n",
      "                \"number1\": 3,\n",
      "                \"number2\": 2\n",
      "            }\n",
      "        }\n",
      "    ]\n",
      "}\n"
     ]
    }
   ],
   "source": [
    "# responses from action requests are dictionary\n",
    "import lionagi as li\n",
    "\n",
    "print(li.to_readable_dict(response))"
   ]
  },
  {
   "cell_type": "code",
   "execution_count": 8,
   "metadata": {},
   "outputs": [
    {
     "name": "stdout",
     "output_type": "stream",
     "text": [
      "{'recipient_name': 'functions.multiply', 'parameters': {'number1': 3, 'number2': 2}}\n"
     ]
    }
   ],
   "source": [
    "li.lcall(response['action_request'], lambda x: print(x));"
   ]
  },
  {
   "cell_type": "code",
   "execution_count": 9,
   "metadata": {},
   "outputs": [
    {
     "data": {
      "text/html": [
       "<div>\n",
       "<style scoped>\n",
       "    .dataframe tbody tr th:only-of-type {\n",
       "        vertical-align: middle;\n",
       "    }\n",
       "\n",
       "    .dataframe tbody tr th {\n",
       "        vertical-align: top;\n",
       "    }\n",
       "\n",
       "    .dataframe thead th {\n",
       "        text-align: right;\n",
       "    }\n",
       "</style>\n",
       "<table border=\"1\" class=\"dataframe\">\n",
       "  <thead>\n",
       "    <tr style=\"text-align: right;\">\n",
       "      <th></th>\n",
       "      <th>node_id</th>\n",
       "      <th>timestamp</th>\n",
       "      <th>role</th>\n",
       "      <th>sender</th>\n",
       "      <th>content</th>\n",
       "    </tr>\n",
       "  </thead>\n",
       "  <tbody>\n",
       "    <tr>\n",
       "      <th>0</th>\n",
       "      <td>16e32bafe1edb0055735ebbc68b8b16a</td>\n",
       "      <td>2024-02-27T20_21_42_264068</td>\n",
       "      <td>system</td>\n",
       "      <td>system</td>\n",
       "      <td>{\"system_info\": \"\\n    you are asked to perfor...</td>\n",
       "    </tr>\n",
       "    <tr>\n",
       "      <th>1</th>\n",
       "      <td>b82afd7589b0b1477d8ebd62e4005133</td>\n",
       "      <td>2024-02-27T20_21_42_268155</td>\n",
       "      <td>user</td>\n",
       "      <td>user</td>\n",
       "      <td>{\"instruction\": {\"Task\": \"\\n    Think step by ...</td>\n",
       "    </tr>\n",
       "    <tr>\n",
       "      <th>2</th>\n",
       "      <td>3a834019fe58136990313f120d598f90</td>\n",
       "      <td>2024-02-27T20_21_46_025691</td>\n",
       "      <td>assistant</td>\n",
       "      <td>action_request</td>\n",
       "      <td>{\"action_request\": [{\"recipient_name\": \"functi...</td>\n",
       "    </tr>\n",
       "    <tr>\n",
       "      <th>3</th>\n",
       "      <td>a727c54ef98774c7a64cf1f6fb0fe3a3</td>\n",
       "      <td>2024-02-27T20_21_46_028620</td>\n",
       "      <td>assistant</td>\n",
       "      <td>action_response</td>\n",
       "      <td>{\"action_response\": {\"function\": \"multiply\", \"...</td>\n",
       "    </tr>\n",
       "  </tbody>\n",
       "</table>\n",
       "</div>"
      ],
      "text/plain": [
       "                            node_id                   timestamp       role  \\\n",
       "0  16e32bafe1edb0055735ebbc68b8b16a  2024-02-27T20_21_42_264068     system   \n",
       "1  b82afd7589b0b1477d8ebd62e4005133  2024-02-27T20_21_42_268155       user   \n",
       "2  3a834019fe58136990313f120d598f90  2024-02-27T20_21_46_025691  assistant   \n",
       "3  a727c54ef98774c7a64cf1f6fb0fe3a3  2024-02-27T20_21_46_028620  assistant   \n",
       "\n",
       "            sender                                            content  \n",
       "0           system  {\"system_info\": \"\\n    you are asked to perfor...  \n",
       "1             user  {\"instruction\": {\"Task\": \"\\n    Think step by ...  \n",
       "2   action_request  {\"action_request\": [{\"recipient_name\": \"functi...  \n",
       "3  action_response  {\"action_response\": {\"function\": \"multiply\", \"...  "
      ]
     },
     "execution_count": 9,
     "metadata": {},
     "output_type": "execute_result"
    }
   ],
   "source": [
    "# messages is a pandas dataframe\n",
    "session.messages"
   ]
  },
  {
   "cell_type": "code",
   "execution_count": 10,
   "metadata": {},
   "outputs": [
    {
     "name": "stdout",
     "output_type": "stream",
     "text": [
      "{'action_response': {'function': 'multiply', 'arguments': {'number1': 3, 'number2': 2}, 'output': 6}}\n"
     ]
    }
   ],
   "source": [
    "# since the response is an output from action, you need to use the key `action_response`\n",
    "# now let us check the function responses\n",
    "df = session.default_branch.action_response\n",
    "\n",
    "for content in df['content']:\n",
    "    dict_ = li.to_dict(content)\n",
    "    print(dict_)"
   ]
  },
  {
   "cell_type": "code",
   "execution_count": 11,
   "metadata": {},
   "outputs": [
    {
     "data": {
      "text/plain": [
       "{'messages': [{'role': 'system',\n",
       "   'content': '{\"system_info\": \"\\\\n    you are asked to perform as a function picker and parameter provider\\\\n\"}'},\n",
       "  {'role': 'user',\n",
       "   'content': '{\"instruction\": {\"Task\": \"\\\\n    Think step by step, understand the following basic math question and \\\\n    provide parameters for function calling.\\\\n\", \"json_format\": {\"number1\": \"x\", \"number2\": \"y\"}}, \"context\": {\"Question1\": \"\\\\n    There are [basketball, football, backpack, water bottle, strawberry, \\\\n    tennis ball, rockets]. each comes in four different colors, what is \\\\n    the number of unique kinds of ball?\\\\n\", \"question2\": \"\\\\n    There are three fruits in total, each with 2 different colors, how \\\\n    many unique kinds of fruits are there?\\\\n\"}}'}],\n",
       " 'model': 'gpt-4-turbo-preview',\n",
       " 'frequency_penalty': 0,\n",
       " 'n': 1,\n",
       " 'presence_penalty': 0,\n",
       " 'response_format': {'type': 'json_object'},\n",
       " 'temperature': 0.7,\n",
       " 'top_p': 1,\n",
       " 'tools': [{'type': 'function',\n",
       "   'function': {'name': 'multiply',\n",
       "    'description': 'Perform multiplication on two numbers',\n",
       "    'parameters': {'type': 'object',\n",
       "     'properties': {'number1': {'type': 'number',\n",
       "       'description': 'a number to multiply, e.g. 5.34'},\n",
       "      'number2': {'type': 'number',\n",
       "       'description': 'a number to multiply, e.g. 17'}},\n",
       "     'required': ['number1', 'number2']}}}]}"
      ]
     },
     "execution_count": 11,
     "metadata": {},
     "output_type": "execute_result"
    }
   ],
   "source": [
    "log = list(session.default_branch.datalogger.log)[0]\n",
    "log.input_data"
   ]
  },
  {
   "cell_type": "code",
   "execution_count": 12,
   "metadata": {},
   "outputs": [
    {
     "name": "stdout",
     "output_type": "stream",
     "text": [
      "1 logs saved to data/logs/log_20240227202146.csv\n"
     ]
    }
   ],
   "source": [
    "session.default_branch.log_to_csv()"
   ]
  },
  {
   "cell_type": "code",
   "execution_count": 13,
   "metadata": {},
   "outputs": [
    {
     "name": "stdout",
     "output_type": "stream",
     "text": [
      "Loaded 1 logs from data/logs/log_20240227202146.csv\n"
     ]
    }
   ],
   "source": [
    "session.default_branch.load_log('data/logs/log_20240227202146.csv')"
   ]
  },
  {
   "cell_type": "code",
   "execution_count": 14,
   "metadata": {},
   "outputs": [],
   "source": [
    "log = list(session.default_branch.datalogger.log)[0]"
   ]
  },
  {
   "cell_type": "code",
   "execution_count": 15,
   "metadata": {},
   "outputs": [
    {
     "data": {
      "text/plain": [
       "{'messages': [{'role': 'system',\n",
       "   'content': '{\"system_info\": \"\\\\n    you are asked to perform as a function picker and parameter provider\\\\n\"}'},\n",
       "  {'role': 'user',\n",
       "   'content': '{\"instruction\": {\"Task\": \"\\\\n    Think step by step, understand the following basic math question and \\\\n    provide parameters for function calling.\\\\n\", \"json_format\": {\"number1\": \"x\", \"number2\": \"y\"}}, \"context\": {\"Question1\": \"\\\\n    There are [basketball, football, backpack, water bottle, strawberry, \\\\n    tennis ball, rockets]. each comes in four different colors, what is \\\\n    the number of unique kinds of ball?\\\\n\", \"question2\": \"\\\\n    There are three fruits in total, each with 2 different colors, how \\\\n    many unique kinds of fruits are there?\\\\n\"}}'}],\n",
       " 'model': 'gpt-4-turbo-preview',\n",
       " 'frequency_penalty': 0,\n",
       " 'n': 1,\n",
       " 'presence_penalty': 0,\n",
       " 'response_format': {'type': 'json_object'},\n",
       " 'temperature': 0.7,\n",
       " 'top_p': 1,\n",
       " 'tools': [{'type': 'function',\n",
       "   'function': {'name': 'multiply',\n",
       "    'description': 'Perform multiplication on two numbers',\n",
       "    'parameters': {'type': 'object',\n",
       "     'properties': {'number1': {'type': 'number',\n",
       "       'description': 'a number to multiply, e.g. 5.34'},\n",
       "      'number2': {'type': 'number',\n",
       "       'description': 'a number to multiply, e.g. 17'}},\n",
       "     'required': ['number1', 'number2']}}}]}"
      ]
     },
     "execution_count": 15,
     "metadata": {},
     "output_type": "execute_result"
    }
   ],
   "source": [
    "log.input_data"
   ]
  },
  {
   "cell_type": "code",
   "execution_count": 16,
   "metadata": {},
   "outputs": [],
   "source": [
    "a = log.input_data"
   ]
  },
  {
   "cell_type": "code",
   "execution_count": 17,
   "metadata": {},
   "outputs": [
    {
     "data": {
      "text/plain": [
       "{'messages': [{'role': 'system',\n",
       "   'content': '{\"system_info\": \"\\\\n    you are asked to perform as a function picker and parameter provider\\\\n\"}'},\n",
       "  {'role': 'user',\n",
       "   'content': '{\"instruction\": {\"Task\": \"\\\\n    Think step by step, understand the following basic math question and \\\\n    provide parameters for function calling.\\\\n\", \"json_format\": {\"number1\": \"x\", \"number2\": \"y\"}}, \"context\": {\"Question1\": \"\\\\n    There are [basketball, football, backpack, water bottle, strawberry, \\\\n    tennis ball, rockets]. each comes in four different colors, what is \\\\n    the number of unique kinds of ball?\\\\n\", \"question2\": \"\\\\n    There are three fruits in total, each with 2 different colors, how \\\\n    many unique kinds of fruits are there?\\\\n\"}}'}],\n",
       " 'model': 'gpt-4-turbo-preview',\n",
       " 'frequency_penalty': 0,\n",
       " 'n': 1,\n",
       " 'presence_penalty': 0,\n",
       " 'response_format': {'type': 'json_object'},\n",
       " 'temperature': 0.7,\n",
       " 'top_p': 1,\n",
       " 'tools': [{'type': 'function',\n",
       "   'function': {'name': 'multiply',\n",
       "    'description': 'Perform multiplication on two numbers',\n",
       "    'parameters': {'type': 'object',\n",
       "     'properties': {'number1': {'type': 'number',\n",
       "       'description': 'a number to multiply, e.g. 5.34'},\n",
       "      'number2': {'type': 'number',\n",
       "       'description': 'a number to multiply, e.g. 17'}},\n",
       "     'required': ['number1', 'number2']}}}]}"
      ]
     },
     "execution_count": 17,
     "metadata": {},
     "output_type": "execute_result"
    }
   ],
   "source": [
    "a"
   ]
  }
 ],
 "metadata": {
  "kernelspec": {
   "display_name": "test_env",
   "language": "python",
   "name": "python3"
  },
  "language_info": {
   "codemirror_mode": {
    "name": "ipython",
    "version": 3
   },
   "file_extension": ".py",
   "mimetype": "text/x-python",
   "name": "python",
   "nbconvert_exporter": "python",
   "pygments_lexer": "ipython3",
   "version": "3.11.6"
  }
 },
 "nbformat": 4,
 "nbformat_minor": 2
}
