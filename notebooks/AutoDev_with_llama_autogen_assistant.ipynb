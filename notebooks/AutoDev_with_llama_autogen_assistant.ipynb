{
 "cells": [
  {
   "cell_type": "markdown",
   "metadata": {},
   "source": [
    "## Hair Savior: RAG assisted Auto Developer \n",
    "-- with LionAGI, LlamaIndex, Autogen and OAI code interpreter\n",
    "\n",
    "\n",
    "Let us develop a dev bot that can \n",
    "- read and understand lionagi's existing codebase\n",
    "- QA with the codebase to clarify tasks\n",
    "- produce and tests pure python codes with code interpreter with automatic followup if quality is less than expected\n",
    "- output final runnable python codes \n",
    "\n",
    "This tutorial shows you how you can automatically produce high quality prototype and drafts codes customized for your own codebase "
   ]
  },
  {
   "cell_type": "code",
   "execution_count": 1,
   "metadata": {},
   "outputs": [],
   "source": [
    "# %pip install lionagi llama_index pyautogen"
   ]
  },
  {
   "cell_type": "code",
   "execution_count": 2,
   "metadata": {},
   "outputs": [],
   "source": [
    "from pathlib import Path\n",
    "import lionagi as li"
   ]
  },
  {
   "cell_type": "code",
   "execution_count": 3,
   "metadata": {},
   "outputs": [],
   "source": [
    "ext=\".py\"                               # extension of files of interest, can be str or list[str]\n",
    "data_dir = Path.cwd() / 'lionagi'       # directory of source data - lionagi codebase\n",
    "project_name = \"autodev_lion\"           # give a project name\n",
    "output_dir = \"data/log/coder/\"          # output dir"
   ]
  },
  {
   "cell_type": "markdown",
   "metadata": {},
   "source": [
    "### 1. Read files"
   ]
  },
  {
   "cell_type": "code",
   "execution_count": 4,
   "metadata": {},
   "outputs": [
    {
     "name": "stdout",
     "output_type": "stream",
     "text": [
      "19 logs saved to data/logs/sources/autodev_lion_sources\n",
      "218 logs saved to data/logs/sources/autodev_lion_chunks\n"
     ]
    }
   ],
   "source": [
    "files = li.dir_to_files(dir=data_dir, ext=ext, clean=True, recursive=True,\n",
    "                        project=project_name, to_csv=True, timestamp=False)\n",
    "\n",
    "chunks = li.file_to_chunks(files, chunk_size=512,  overlap=0.1, \n",
    "                           threshold=100, to_csv=True, project=project_name, \n",
    "                           filename=f\"{project_name}_chunks.csv\", timestamp=False)"
   ]
  },
  {
   "cell_type": "code",
   "execution_count": 5,
   "metadata": {},
   "outputs": [
    {
     "name": "stdout",
     "output_type": "stream",
     "text": [
      "\n",
      "      There are in total 107,716 \n",
      "      chracters in 19 non-empty files\n",
      "      \n",
      "Minimum length of files is 24 in characters\n",
      "Maximum length of files is 25,891 in characters\n",
      "Average length of files is 5,669 in characters\n"
     ]
    }
   ],
   "source": [
    "print(f\"\"\"\n",
    "      There are in total {sum(li.l_call(files, lambda x: x['file_size'])):,} \n",
    "      chracters in {len(files)} non-empty files\n",
    "      \"\"\")\n",
    "\n",
    "lens = li.l_call(files, lambda x: len(x['content']))\n",
    "min_, max_, avg_ = min(lens), max(lens), sum(lens)/len(lens)\n",
    "\n",
    "print(f\"Minimum length of files is {min_} in characters\")\n",
    "print(f\"Maximum length of files is {max_:,} in characters\")\n",
    "print(f\"Average length of files is {int(avg_):,} in characters\")"
   ]
  },
  {
   "cell_type": "markdown",
   "metadata": {},
   "source": [
    "the files seem to be fairly uneven in terms of length\n",
    "which could bring problems in our subsequent analysis, we can stardardize them into chunks \n",
    "one convinient way to do this is via file_to_chunks function, it breaks the files into organized chunks"
   ]
  },
  {
   "cell_type": "code",
   "execution_count": 6,
   "metadata": {},
   "outputs": [
    {
     "name": "stdout",
     "output_type": "stream",
     "text": [
      "There are in total 218 chunks\n",
      "Minimum length of content in chunk is 24 characters\n",
      "Maximum length of content in chunk is 609 characters\n",
      "Average length of content in chunk is 539 characters\n",
      "There are in total 117,666 chracters\n"
     ]
    }
   ],
   "source": [
    "lens = li.l_call(li.to_list(chunks, flat=True), lambda x: len(x[\"chunk_content\"]))\n",
    "min_, max_, avg_ = min(lens), max(lens), sum(lens)/len(lens)\n",
    "\n",
    "print(f\"There are in total {len(li.to_list(chunks,flat=True)):,} chunks\")\n",
    "print(f\"Minimum length of content in chunk is {min_} characters\")\n",
    "print(f\"Maximum length of content in chunk is {max_:,} characters\")\n",
    "print(f\"Average length of content in chunk is {int(avg_):,} characters\")\n",
    "print(f\"There are in total {sum(li.l_call(chunks, lambda x: x['chunk_size'])):,} chracters\")"
   ]
  },
  {
   "cell_type": "code",
   "execution_count": 7,
   "metadata": {},
   "outputs": [
    {
     "data": {
      "text/plain": [
       "{'project': 'autodev_lion',\n",
       " 'folder': 'lionagi',\n",
       " 'file': 'version.py',\n",
       " 'file_size': 24,\n",
       " 'chunk_overlap': 0.1,\n",
       " 'chunk_threshold': 100,\n",
       " 'file_chunks': 1,\n",
       " 'chunk_id': 1,\n",
       " 'chunk_size': 24,\n",
       " 'chunk_content': '__version__ = \"0.0.106\" '}"
      ]
     },
     "execution_count": 7,
     "metadata": {},
     "output_type": "execute_result"
    }
   ],
   "source": [
    "chunks[0]"
   ]
  },
  {
   "cell_type": "markdown",
   "metadata": {},
   "source": [
    "### 2. Setup llamaIndex Vector Index"
   ]
  },
  {
   "cell_type": "code",
   "execution_count": 8,
   "metadata": {},
   "outputs": [],
   "source": [
    "from llama_index import ServiceContext, VectorStoreIndex\n",
    "from llama_index.llms import OpenAI\n",
    "from llama_index.schema import TextNode\n",
    "\n",
    "# build nodes from our existing chunks\n",
    "f = lambda content: TextNode(text=content)\n",
    "nodes = li.l_call(chunks, lambda x: f(x[\"chunk_content\"]))\n",
    "\n",
    "# set up vector index\n",
    "llm = OpenAI(temperature=0.1, model=\"gpt-4-1106-preview\")\n",
    "service_context = ServiceContext.from_defaults(llm=llm)\n",
    "index1 = VectorStoreIndex(nodes, include_embeddings=True, service_context=service_context)\n",
    "\n",
    "# set up query engine\n",
    "query_engine = index1.as_query_engine(include_text=False, response_mode=\"tree_summarize\")"
   ]
  },
  {
   "cell_type": "code",
   "execution_count": 13,
   "metadata": {},
   "outputs": [
    {
     "name": "stdout",
     "output_type": "stream",
     "text": [
      "The `Session` object is made of a class that represents a conversation session with a conversational AI system. This class manages the interactions within the session.\n"
     ]
    }
   ],
   "source": [
    "response = query_engine.query(\"what is session object made of?\")\n",
    "\n",
    "print(response.response)"
   ]
  },
  {
   "cell_type": "markdown",
   "metadata": {},
   "source": [
    "### 3. Using oai assistant Code Interpreter with Autogen"
   ]
  },
  {
   "cell_type": "code",
   "execution_count": 9,
   "metadata": {},
   "outputs": [],
   "source": [
    "import autogen\n",
    "\n",
    "config_list = autogen.config_list_from_json(\n",
    "    \"OAI_CONFIG_LIST\",\n",
    "    file_location=\".\",\n",
    "    filter_dict={\n",
    "        \"model\": [\"gpt-3.5-turbo\", \"gpt-35-turbo\", \"gpt-4\", \"gpt4\", \"gpt-4-32k\", \"gpt-4-turbo\"],\n",
    "    },\n",
    ")"
   ]
  },
  {
   "cell_type": "code",
   "execution_count": null,
   "metadata": {},
   "outputs": [],
   "source": [
    "coder_instruction = f\"\"\"\n",
    "        You are an expert at writing python codes. Write pure python codes, and run it to validate the \n",
    "        codes, then return with the full implementation + the word TERMINATE when the task is solved \n",
    "        and there is no problem. Reply FAILED if you cannot solve the problem.\n",
    "        \"\"\""
   ]
  },
  {
   "cell_type": "code",
   "execution_count": 10,
   "metadata": {},
   "outputs": [],
   "source": [
    "from autogen.agentchat.contrib.gpt_assistant_agent import GPTAssistantAgent\n",
    "from autogen.agentchat import UserProxyAgent\n",
    "\n",
    "# Initiate an agent equipped with code interpreter\n",
    "gpt_assistant = GPTAssistantAgent(\n",
    "    name=\"Coder Assistant\",\n",
    "    llm_config={\n",
    "        \"tools\": [\n",
    "            {\n",
    "                \"type\": \"code_interpreter\"\n",
    "            }\n",
    "        ],\n",
    "        \"config_list\": config_list,\n",
    "    },\n",
    "    instructions=coder_instruction,\n",
    ")\n",
    "\n",
    "user_proxy = UserProxyAgent(\n",
    "    name=\"user_proxy\",\n",
    "    is_termination_msg=lambda msg: \"TERMINATE\" in msg[\"content\"],\n",
    "    code_execution_config={\n",
    "        \"work_dir\": \"coding\",\n",
    "        \"use_docker\": False,  # set to True or image name like \"python:3\" to use docker\n",
    "    },\n",
    "    human_input_mode=\"NEVER\"\n",
    ")\n",
    "\n",
    "async def code_pure_python(instruction):\n",
    "    user_proxy.initiate_chat(gpt_assistant, message=instruction)\n",
    "    return gpt_assistant.last_message()"
   ]
  },
  {
   "cell_type": "markdown",
   "metadata": {},
   "source": [
    "### 4. Make query engine and oai assistant into tools"
   ]
  },
  {
   "cell_type": "code",
   "execution_count": 11,
   "metadata": {},
   "outputs": [],
   "source": [
    "tool1 = [\n",
    "    {\n",
    "        \"type\": \"function\",\n",
    "        \"function\": {\n",
    "            \"name\": \"query_lionagi_codebase\",\n",
    "            \"description\": \"Perform a query to a QA bot with access to a vector index built with package lionagi codebase\",\n",
    "            \"parameters\": {\n",
    "                \"type\": \"object\",\n",
    "                \"properties\": {\n",
    "                    \"str_or_query_bundle\": {\n",
    "                        \"type\": \"string\",\n",
    "                        \"description\": \"a question to ask the QA bot\",\n",
    "                    }\n",
    "                },\n",
    "                \"required\": [\"str_or_query_bundle\"],\n",
    "            },\n",
    "        }\n",
    "    }\n",
    "]\n",
    "tool2=[{\n",
    "        \"type\": \"function\",\n",
    "        \"function\": {\n",
    "            \"name\": \"code_pure_python\",\n",
    "            \"description\": \"Give an instruction to a coding assistant to write pure python codes\",\n",
    "            \"parameters\": {\n",
    "                \"type\": \"object\",\n",
    "                \"properties\": {\n",
    "                    \"instruction\": {\n",
    "                        \"type\": \"string\",\n",
    "                        \"description\": \"coding instruction to give to the coding assistant\",\n",
    "                    }\n",
    "                },\n",
    "                \"required\": [\"instruction\"],\n",
    "            },\n",
    "        }\n",
    "    }\n",
    "]\n",
    "\n",
    "tools = [tool1[0], tool2[0]]\n",
    "funcs = [query_engine.query, code_pure_python]"
   ]
  },
  {
   "cell_type": "markdown",
   "metadata": {},
   "source": [
    "### 5. Write Prompts"
   ]
  },
  {
   "cell_type": "code",
   "execution_count": 12,
   "metadata": {},
   "outputs": [],
   "source": [
    "system = {\n",
    "    \"persona\": \"a helpful software engineer\",\n",
    "    \"requirements\": \"think step by step before returning a thoughtful answer that follows the instruction with clearly, precisely worded answer with a humble yet confident tone\",\n",
    "    \"responsibilities\": f\"you are asked to help with coding on the python package of lionagi\",\n",
    "    \"tools\": \"provided with a QA bot for grounding responses, and a coding assistant to write pure python codes\"\n",
    "}\n",
    "\n",
    "function_call1 = {\n",
    "    \"notice\":\"\"\"\n",
    "        At each task step, identified by step number, you must use the tool \n",
    "        at least five times. Notice you are provided with a QA bot as your tool, \n",
    "        the bot has access to the source codes via a queriable index that takes \n",
    "        natural language query and return a natural language answer. You can \n",
    "        decide whether to invoke the function call, you will need to ask the bot \n",
    "        when there are things need clarification or further information. you \n",
    "        provide the query by asking a question, please use the tool extensively \n",
    "        as you can (up to ten times)\n",
    "        \"\"\",}\n",
    "\n",
    "function_call2 = {\n",
    "    \"notice\":\"\"\"\n",
    "        At each task step, identified by step number, you must use the tool \n",
    "        at least once, and you must use the tool at least once more if the previous \n",
    "        run failed. Notice you are provided with a coding assistant as your tool, the \n",
    "        bot can write and run python codes in a sandbox environment, it takes natural \n",
    "        language instruction, and return with 'success'/'failed'. For the instruction \n",
    "        you give, it needs to be very clear and detailed such that an AI coding assistant \n",
    "        can produce excellent output.  \n",
    "        \"\"\",}\n"
   ]
  },
  {
   "cell_type": "code",
   "execution_count": 13,
   "metadata": {},
   "outputs": [],
   "source": [
    "instruct1 = {\n",
    "    \"task step\": \"1\", \n",
    "    \"task name\": \"understand user requirements\", \n",
    "    \"task objective\": \"get a comprehensive understanding of the task given\", \n",
    "    \"task description\": \"user provided you with a task, please understand the task, propose plans on delivering it\"\n",
    "}\n",
    "\n",
    "instruct2 = {\n",
    "    \"task step\": \"2\", \n",
    "    \"task name\": \"propose a pure python solution\", \n",
    "    \"task objective\": \"give detailed instruction on how to achieve above task with pure python as if to a coding bot\", \n",
    "    \"task description\": \"you are responsible for further customizing the coding task into our lionagi package requirements, you are provided with a QA bot, please keep on asking questions if there are anything unclear, your instruction should focus on functionalities and coding logic\",\n",
    "    \"function_call\": function_call1\n",
    "}\n",
    "\n",
    "instruct3 = {\n",
    "    \"task step\": \"3\", \n",
    "    \"task name\": \"write pure python codes\", \n",
    "    \"task objective\": \"write runnable python codes\", \n",
    "    \"task description\": \"from your improved understanding of the task, please instruct the coding assistant on wiriting pure python codes. you will reply with the full implementation if the coding assistant succeed, which you need to return the full implementation in a well structured py format, run it once more if report back'failed', and return 'Task failed' with most recent effort, after the second failed attempt \",\n",
    "    \"function_call\": function_call2\n",
    "}"
   ]
  },
  {
   "cell_type": "code",
   "execution_count": 14,
   "metadata": {},
   "outputs": [],
   "source": [
    "# solve a coding task in pure python\n",
    "async def solve_in_python(context, num=10):\n",
    "    \n",
    "    # set up session and register both tools to session \n",
    "    coder = li.Session(system, dir=output_dir)\n",
    "    coder.register_tools(tools=tools, funcs=funcs)\n",
    "    \n",
    "    # initiate should not use tools\n",
    "    await coder.initiate(instruct1, context=context, temperature=0.7)\n",
    "    \n",
    "    # auto_followup with QA bot tool\n",
    "    await coder.auto_followup(instruct2, num=num, temperature=0.6, tools=tool1,\n",
    "                                   tool_parser=lambda x: x.response)\n",
    "    \n",
    "    # auto_followup with code interpreter tool\n",
    "    await coder.auto_followup(instruct3, num=2, temperature=0.5, tools=tool2)\n",
    "    \n",
    "    # save to csv\n",
    "    coder.messages_to_csv()\n",
    "    coder.log_to_csv()\n",
    "    \n",
    "    # return codes\n",
    "    return coder.conversation.messages[-1]['content']"
   ]
  },
  {
   "cell_type": "markdown",
   "metadata": {},
   "source": [
    "### 6. Run the workflow"
   ]
  },
  {
   "cell_type": "code",
   "execution_count": 15,
   "metadata": {},
   "outputs": [],
   "source": [
    "issue = {\n",
    "    \"raise files and chunks into objects\": \"\"\"\n",
    "        files and chunks are currently in dict format, please design classes for them, include all \n",
    "        members, methods, staticmethods, class methods... if needed. please make sure your work \n",
    "        has sufficiednt content, make sure to include typing and docstrings\n",
    "        \"\"\"\n",
    "    }"
   ]
  },
  {
   "cell_type": "code",
   "execution_count": 16,
   "metadata": {},
   "outputs": [
    {
     "name": "stdout",
     "output_type": "stream",
     "text": [
      "\u001b[33muser_proxy\u001b[0m (to Coder Assistant):\n",
      "\n",
      "Please define a Python class named 'File' with the following specifications:\n",
      "\n",
      "- Attributes:\n",
      "  - 'name': A string representing the name of the file.\n",
      "  - 'size': An integer representing the size of the file in bytes.\n",
      "  - 'file_type': A string representing the type of the file (e.g., 'txt', 'jpg').\n",
      "\n",
      "- Methods:\n",
      "  - '__init__': Constructor that takes 'name', 'size', and 'file_type' as parameters and initializes the respective attributes.\n",
      "  - 'read': A method that simulates reading the file content. For now, it can simply return a string 'File content of {name}.'\n",
      "  - 'write': A method that takes a string 'content' as a parameter and simulates writing to the file. It can print 'Writing to {name}: {content}'.\n",
      "  - 'delete': A method that simulates deleting the file. It can print '{name} deleted.'\n",
      "\n",
      "Please ensure to include type annotations for all attributes and method parameters, and add docstrings to the class and each method explaining their purpose.\n",
      "\n",
      "--------------------------------------------------------------------------------\n",
      "\u001b[33mCoder Assistant\u001b[0m (to user_proxy):\n",
      "\n",
      "The File class has been created as specified, including type annotations and docstrings. Here's the full implementation and example usage results:\n",
      "\n",
      "```python\n",
      "class File:\n",
      "    \"\"\"\n",
      "    A File class representing a file with basic operations like read, write, and delete.\n",
      "    \"\"\"\n",
      "    \n",
      "    def __init__(self, name: str, size: int, file_type: str):\n",
      "        \"\"\"\n",
      "        Initializes a new File object with the provided name, size, and file type.\n",
      "        \n",
      "        :param name: String representing the name of the file.\n",
      "        :param size: Integer representing the size of the file in bytes.\n",
      "        :param file_type: String representing the type of the file (e.g., 'txt', 'jpg').\n",
      "        \"\"\"\n",
      "        self.name = name\n",
      "        self.size = size\n",
      "        self.file_type = file_type\n",
      "    \n",
      "    def read(self) -> str:\n",
      "        \"\"\"\n",
      "        Simulates reading the file content by returning a string representation of the content.\n",
      "        \n",
      "        :return: String representing the file content.\n",
      "        \"\"\"\n",
      "        return f\"File content of {self.name}.\"\n",
      "    \n",
      "    def write(self, content: str) -> None:\n",
      "        \"\"\"\n",
      "        Simulates writing the specified content to the file by printing the content.\n",
      "        \n",
      "        :param content: String representing the content to write to the file.\n",
      "        \"\"\"\n",
      "        print(f\"Writing to {self.name}: {content}\")\n",
      "    \n",
      "    def delete(self) -> None:\n",
      "        \"\"\"\n",
      "        Simulates deleting the file by printing a confirmation message.\n",
      "        \"\"\"\n",
      "        print(f\"{self.name} deleted.\")\n",
      "\n",
      "# Example usage:\n",
      "file_example = File(\"example.txt\", 1024, \"txt\")\n",
      "print(file_example.read())\n",
      "file_example.write(\"Hello World!\")\n",
      "file_example.delete()\n",
      "```\n",
      "\n",
      "Example output:\n",
      "\n",
      "```\n",
      "File content of example.txt.\n",
      "Writing to example.txt: Hello World!\n",
      "example.txt deleted.\n",
      "```\n",
      "\n",
      "TERMINATE\n",
      "\n",
      "\n",
      "--------------------------------------------------------------------------------\n",
      "\u001b[33muser_proxy\u001b[0m (to Coder Assistant):\n",
      "\n",
      "Please define two Python classes: 'File' and 'Chunk' with the following specifications:\n",
      "\n",
      "Class 'File':\n",
      "- Attributes:\n",
      "  - 'name': str, the name of the file.\n",
      "  - 'size': int, the size of the file in bytes.\n",
      "  - 'file_type': str, the type of the file (e.g., 'txt', 'jpg').\n",
      "- Methods:\n",
      "  - '__init__': Initializes the File instance with the given name, size, and file_type.\n",
      "  - 'read': Simulates reading the file by returning a string indicating the file content.\n",
      "  - 'write': Takes a string 'content' and simulates writing it to the file, printing a message.\n",
      "  - 'delete': Simulates deleting the file, printing a confirmation message.\n",
      "\n",
      "Class 'Chunk':\n",
      "- Attributes:\n",
      "  - 'index': int, the index of the chunk within the file.\n",
      "  - 'size': int, the size of the chunk in bytes.\n",
      "  - 'data': str, the content of the chunk.\n",
      "- Methods:\n",
      "  - '__init__': Initializes the Chunk instance with the given index, size, and data.\n",
      "  - 'get_data': Returns the data of the chunk.\n",
      "  - 'set_data': Takes a string 'new_data' and updates the chunk's data.\n",
      "\n",
      "Please ensure all attributes and methods have proper type annotations and docstrings explaining their purpose. After defining the classes, create instances of each class and demonstrate the usage of their methods with simple print statements.\n",
      "\n",
      "--------------------------------------------------------------------------------\n",
      "\u001b[33mCoder Assistant\u001b[0m (to user_proxy):\n",
      "\n",
      "The classes have been defined as per your specification and the methods have been demonstrated with print statements. Below is the full implementation:\n",
      "\n",
      "```python\n",
      "class File:\n",
      "    \"\"\"Represents a file with a name, size, and type.\"\"\"\n",
      "    \n",
      "    def __init__(self, name: str, size: int, file_type: str) -> None:\n",
      "        \"\"\"Initializes the file with a name, size, and type.\"\"\"\n",
      "        self.name = name\n",
      "        self.size = size\n",
      "        self.file_type = file_type\n",
      "\n",
      "    def read(self) -> str:\n",
      "        \"\"\"Simulates reading of file and returns the content as a string.\"\"\"\n",
      "        return f\"Reading content of file: {self.name}\"\n",
      "\n",
      "    def write(self, content: str) -> None:\n",
      "        \"\"\"Simulates writing content to the file, printing the operation.\"\"\"\n",
      "        print(f\"Writing to file: {self.name}. Content: {content}\")\n",
      "\n",
      "    def delete(self) -> None:\n",
      "        \"\"\"Simulates deleting the file and prints a confirmation message.\"\"\"\n",
      "        print(f\"File {self.name} deleted.\")\n",
      "\n",
      "\n",
      "class Chunk:\n",
      "    \"\"\"Represents a chunk of a file with an index, size, and data.\"\"\"\n",
      "    \n",
      "    def __init__(self, index: int, size: int, data: str) -> None:\n",
      "        \"\"\"Initializes the chunk with an index, size, and data.\"\"\"\n",
      "        self.index = index\n",
      "        self.size = size\n",
      "        self.data = data\n",
      "\n",
      "    def get_data(self) -> str:\n",
      "        \"\"\"Returns the data contained in the chunk.\"\"\"\n",
      "        return self.data\n",
      "\n",
      "    def set_data(self, new_data: str) -> None:\n",
      "        \"\"\"Updates the chunk's data with new data.\"\"\"\n",
      "        self.data = new_data\n",
      "\n",
      "# Creating instances of each class and demonstrating their usage\n",
      "file_example = File(name=\"example.txt\", size=1024, file_type=\"txt\")\n",
      "chunk_example = Chunk(index=1, size=512, data=\"This is a piece of data.\")\n",
      "\n",
      "# Demonstrating File methods\n",
      "print(file_example.read())\n",
      "file_example.write(\"Hello World\")\n",
      "file_example.delete()\n",
      "\n",
      "# Demonstrating Chunk methods\n",
      "print(chunk_example.get_data())\n",
      "chunk_example.set_data(\"New chunk data\")\n",
      "print(chunk_example.get_data())\n",
      "```\n",
      "\n",
      "Everything worked as expected.\n",
      "\n",
      "TERMINATE\n",
      "\n",
      "\n",
      "--------------------------------------------------------------------------------\n",
      "13 logs saved to data/log/coder/_messages_2023-12-18T21_55_03_205362.csv\n",
      "5 logs saved to data/log/coder/_llmlog_2023-12-18T21_55_03_206242.csv\n"
     ]
    }
   ],
   "source": [
    "response = await solve_in_python(issue)"
   ]
  },
  {
   "cell_type": "markdown",
   "metadata": {},
   "source": [
    "### 7. Output"
   ]
  },
  {
   "cell_type": "code",
   "execution_count": 21,
   "metadata": {},
   "outputs": [],
   "source": [
    "from IPython.display import Markdown\n",
    "import json\n",
    "\n",
    "response = json.loads(response)"
   ]
  },
  {
   "cell_type": "code",
   "execution_count": 24,
   "metadata": {},
   "outputs": [
    {
     "data": {
      "text/markdown": [
       "The classes have been defined as per your specification and the methods have been demonstrated with print statements. Below is the full implementation:\n",
       "\n",
       "```python\n",
       "class File:\n",
       "    \"\"\"Represents a file with a name, size, and type.\"\"\"\n",
       "    \n",
       "    def __init__(self, name: str, size: int, file_type: str) -> None:\n",
       "        \"\"\"Initializes the file with a name, size, and type.\"\"\"\n",
       "        self.name = name\n",
       "        self.size = size\n",
       "        self.file_type = file_type\n",
       "\n",
       "    def read(self) -> str:\n",
       "        \"\"\"Simulates reading of file and returns the content as a string.\"\"\"\n",
       "        return f\"Reading content of file: {self.name}\"\n",
       "\n",
       "    def write(self, content: str) -> None:\n",
       "        \"\"\"Simulates writing content to the file, printing the operation.\"\"\"\n",
       "        print(f\"Writing to file: {self.name}. Content: {content}\")\n",
       "\n",
       "    def delete(self) -> None:\n",
       "        \"\"\"Simulates deleting the file and prints a confirmation message.\"\"\"\n",
       "        print(f\"File {self.name} deleted.\")\n",
       "\n",
       "\n",
       "class Chunk:\n",
       "    \"\"\"Represents a chunk of a file with an index, size, and data.\"\"\"\n",
       "    \n",
       "    def __init__(self, index: int, size: int, data: str) -> None:\n",
       "        \"\"\"Initializes the chunk with an index, size, and data.\"\"\"\n",
       "        self.index = index\n",
       "        self.size = size\n",
       "        self.data = data\n",
       "\n",
       "    def get_data(self) -> str:\n",
       "        \"\"\"Returns the data contained in the chunk.\"\"\"\n",
       "        return self.data\n",
       "\n",
       "    def set_data(self, new_data: str) -> None:\n",
       "        \"\"\"Updates the chunk's data with new data.\"\"\"\n",
       "        self.data = new_data\n",
       "\n",
       "# Creating instances of each class and demonstrating their usage\n",
       "file_example = File(name=\"example.txt\", size=1024, file_type=\"txt\")\n",
       "chunk_example = Chunk(index=1, size=512, data=\"This is a piece of data.\")\n",
       "\n",
       "# Demonstrating File methods\n",
       "print(file_example.read())\n",
       "file_example.write(\"Hello World\")\n",
       "file_example.delete()\n",
       "\n",
       "# Demonstrating Chunk methods\n",
       "print(chunk_example.get_data())\n",
       "chunk_example.set_data(\"New chunk data\")\n",
       "print(chunk_example.get_data())\n",
       "```\n",
       "\n",
       "Everything worked as expected.\n",
       "\n",
       "TERMINATE\n"
      ],
      "text/plain": [
       "<IPython.core.display.Markdown object>"
      ]
     },
     "execution_count": 24,
     "metadata": {},
     "output_type": "execute_result"
    }
   ],
   "source": [
    "Markdown(response['function call result']['content'])"
   ]
  }
 ],
 "metadata": {
  "kernelspec": {
   "display_name": "lion_dev",
   "language": "python",
   "name": "python3"
  },
  "language_info": {
   "codemirror_mode": {
    "name": "ipython",
    "version": 3
   },
   "file_extension": ".py",
   "mimetype": "text/x-python",
   "name": "python",
   "nbconvert_exporter": "python",
   "pygments_lexer": "ipython3",
   "version": "3.11.5"
  }
 },
 "nbformat": 4,
 "nbformat_minor": 2
}
