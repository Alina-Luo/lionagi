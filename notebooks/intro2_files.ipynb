{
 "cells": [
  {
   "cell_type": "markdown",
   "metadata": {},
   "source": [
    "# LionAGI Introduction 2: Data Processing"
   ]
  },
  {
   "cell_type": "markdown",
   "metadata": {},
   "source": [
    "LionAGI is very efficient and intuitive to handle data"
   ]
  },
  {
   "cell_type": "code",
   "execution_count": 35,
   "metadata": {},
   "outputs": [],
   "source": [
    "# import libraries\n",
    "from pathlib import Path\n",
    "import pandas as pd\n",
    "import lionagi as li"
   ]
  },
  {
   "cell_type": "code",
   "execution_count": 36,
   "metadata": {},
   "outputs": [],
   "source": [
    "from timeit import default_timer as timer\n",
    "start = timer()"
   ]
  },
  {
   "cell_type": "markdown",
   "metadata": {},
   "source": [
    "### 1. Parameters"
   ]
  },
  {
   "cell_type": "code",
   "execution_count": 37,
   "metadata": {
    "tags": [
     "parameters"
    ]
   },
   "outputs": [],
   "source": [
    "# you can customize the path to your own directory\n",
    "project_name = 'metagpt'\n",
    "repo_name = 'MetaGPT-main'\n",
    "required_exts = ['.py']\n",
    "\n",
    "folder_names = [\"actions\", \"document_store\", \"learn\", \"management\", \n",
    "                \"memory\", \"prompts\", \"provider\", \"roles\", \"tools\", \n",
    "                \"utils\", \"mains\"]\n",
    "source_dir = Path.cwd() / 'gitrepo' / repo_name / project_name"
   ]
  },
  {
   "cell_type": "markdown",
   "metadata": {},
   "source": [
    "### 2. Read directories"
   ]
  },
  {
   "cell_type": "code",
   "execution_count": 38,
   "metadata": {},
   "outputs": [
    {
     "data": {
      "text/plain": [
       "[PosixPath('/Users/lion/Documents/GitHub/gitco/data/gitrepo/MetaGPT-main/metagpt/actions'),\n",
       " PosixPath('/Users/lion/Documents/GitHub/gitco/data/gitrepo/MetaGPT-main/metagpt/document_store'),\n",
       " PosixPath('/Users/lion/Documents/GitHub/gitco/data/gitrepo/MetaGPT-main/metagpt/learn'),\n",
       " PosixPath('/Users/lion/Documents/GitHub/gitco/data/gitrepo/MetaGPT-main/metagpt/management'),\n",
       " PosixPath('/Users/lion/Documents/GitHub/gitco/data/gitrepo/MetaGPT-main/metagpt/memory')]"
      ]
     },
     "execution_count": 38,
     "metadata": {},
     "output_type": "execute_result"
    }
   ],
   "source": [
    "# generate path for each directory with l_return\n",
    "# l_return is a handler for list inputs\n",
    "sources = li.l_return(folder_names, lambda x: source_dir / x)\n",
    "\n",
    "# let's take a look at the first 5 paths\n",
    "sources[:5]"
   ]
  },
  {
   "cell_type": "code",
   "execution_count": 39,
   "metadata": {},
   "outputs": [
    {
     "name": "stdout",
     "output_type": "stream",
     "text": [
      "116 logs saved to data/logs/sources/2023_10_21_19_18_30_metagpt_sources.csv\n"
     ]
    }
   ],
   "source": [
    "# read files from source directories, \n",
    "# you can also save all files together in a csv file\n",
    "\n",
    "files = li.dir_to_files(_dir=sources, _ext=required_exts, to_csv=True, \n",
    "                        _project=project_name, timestamp=True, verbose=True)"
   ]
  },
  {
   "cell_type": "code",
   "execution_count": 40,
   "metadata": {},
   "outputs": [
    {
     "name": "stdout",
     "output_type": "stream",
     "text": [
      "Files are read into <class 'dict'> type\n",
      "By default files include dict_keys(['project', 'folder', 'file', 'content'])\n",
      "\n",
      "---------------------Sample---------------------\n",
      "from dataclasses import dataclass\n",
      "from typing import List\n",
      "\n",
      "from qdrant_client import QdrantClient\n",
      "fr\n"
     ]
    }
   ],
   "source": [
    "# let's take a look at how do files look like\n",
    "test = files[25]\n",
    "\n",
    "print(f\"Files are read into {type(test)} type\")\n",
    "print(f\"By default files include {test.keys()}\\n\\n---------------------Sample---------------------\")\n",
    "print(test['content'][:100])"
   ]
  },
  {
   "cell_type": "code",
   "execution_count": 41,
   "metadata": {},
   "outputs": [
    {
     "name": "stdout",
     "output_type": "stream",
     "text": [
      "Minimum length of content in files is 122 in characters\n",
      "Maximum length of content in files is 10383 in characters\n",
      "Average length of content in files is 2910 in characters\n"
     ]
    }
   ],
   "source": [
    "# let's get some statistics about the files\n",
    "lens = li.l_return(files, lambda x: len(x['content']))\n",
    "min_, max_, avg_ = min(lens), max(lens), sum(lens)/len(lens)\n",
    "\n",
    "print(f\"Minimum length of content in files is {min_} in characters\")\n",
    "print(f\"Maximum length of content in files is {max_} in characters\")\n",
    "print(f\"Average length of content in files is {int(avg_)} in characters\")"
   ]
  },
  {
   "cell_type": "markdown",
   "metadata": {},
   "source": [
    "### 3. Split to chunks"
   ]
  },
  {
   "cell_type": "code",
   "execution_count": 42,
   "metadata": {},
   "outputs": [
    {
     "name": "stdout",
     "output_type": "stream",
     "text": [
      "Minimum length of content in chunk is 122 characters\n",
      "Maximum length of content in chunk is 1398 characters\n",
      "Average length of content in chunk is 1032 characters\n"
     ]
    }
   ],
   "source": [
    "# the files seem to be fairly uneven in terms of length\n",
    "# which could bring problems in our subsequent analysis, we can stardardize them into chunks \n",
    "\n",
    "# one convinient way to do this is via file_to_chunks function, it breaks the files into organized chunks\n",
    "f = lambda x: li.file_to_chunks(x, field='content', \n",
    "                                chunk_size=1000,        # the main chunk size\n",
    "                                overlap=0.2,            # the amount of overlap, here is 10% each side\n",
    "                                threshold=200)           # the lowest length of last chunk to be seperated\n",
    "chunks = li.l_return(files, f)\n",
    "\n",
    "# here are some statistics about the chunks, now they seem more uniform\n",
    "lens = li.l_return(li.to_lst(chunks, flat=True), lambda x: len(x[\"chunk_content\"]))\n",
    "min_, max_, avg_ = min(lens), max(lens), sum(lens)/len(lens)\n",
    "\n",
    "print(f\"Minimum length of content in chunk is {min_} characters\")\n",
    "print(f\"Maximum length of content in chunk is {max_} characters\")\n",
    "print(f\"Average length of content in chunk is {int(avg_)} characters\")"
   ]
  },
  {
   "cell_type": "code",
   "execution_count": 43,
   "metadata": {},
   "outputs": [
    {
     "name": "stdout",
     "output_type": "stream",
     "text": [
      "\n",
      "Though the chunk_size is set to be 1000 in this case, the actual chunk_size depends on a number of factors:\n",
      "- if the file is originally shorter than 1000, we will keep whole file as a chunk\n",
      "- we will chunk the files by 1000 characters, additionally\n",
      "    - we add overlap for each chunk with neighbor. For example, if\n",
      "        - first chunk would have one side of neighbor, it will be 1000 + 1000 * 0.2/2 = 1100\n",
      "        - second chunk would have two sides of neighbor, it will be 1000 + 1000 * 0.2 = 1200\n",
      "    - last chunk if longer than threshold, it will be 1000*0.2/2 + remaining length\n",
      "    - if the remaining length is shorter than threshold, we will merge it with the preceeding chunk\n",
      "\n"
     ]
    }
   ],
   "source": [
    "print(\"\"\"\n",
    "Though the chunk_size is set to be 1000 in this case, the actual chunk_size depends on a number of factors:\n",
    "- if the file is originally shorter than 1000, we will keep whole file as a chunk\n",
    "- we will chunk the files by 1000 characters, additionally\n",
    "    - we add overlap for each chunk with neighbor. For example, if\n",
    "        - first chunk would have one side of neighbor, it will be 1000 + 1000 * 0.2/2 = 1100\n",
    "        - second chunk would have two sides of neighbor, it will be 1000 + 1000 * 0.2 = 1200\n",
    "    - last chunk if longer than threshold, it will be 1000*0.2/2 + remaining length\n",
    "    - if the remaining length is shorter than threshold, we will merge it with the preceeding chunk\n",
    "\"\"\")"
   ]
  },
  {
   "cell_type": "code",
   "execution_count": 44,
   "metadata": {},
   "outputs": [
    {
     "name": "stdout",
     "output_type": "stream",
     "text": [
      "There are in total 116 files\n",
      "There are in total 379 chunks\n"
     ]
    }
   ],
   "source": [
    "# chunks are a multi-dimensional list, its first dimension is the file\n",
    "print(f\"There are in total {len(chunks)} files\")\n",
    "\n",
    "# its second dimension is the chunks in each file, \n",
    "# we can examine the total numbers of chunks by flattening the list using to_lst with flat=True\n",
    "print(f\"There are in total {len(li.to_lst(chunks,flat=True))} chunks\")"
   ]
  },
  {
   "cell_type": "code",
   "execution_count": 45,
   "metadata": {},
   "outputs": [
    {
     "data": {
      "text/html": [
       "<div>\n",
       "<style scoped>\n",
       "    .dataframe tbody tr th:only-of-type {\n",
       "        vertical-align: middle;\n",
       "    }\n",
       "\n",
       "    .dataframe tbody tr th {\n",
       "        vertical-align: top;\n",
       "    }\n",
       "\n",
       "    .dataframe thead th {\n",
       "        text-align: right;\n",
       "    }\n",
       "</style>\n",
       "<table border=\"1\" class=\"dataframe\">\n",
       "  <thead>\n",
       "    <tr style=\"text-align: right;\">\n",
       "      <th></th>\n",
       "      <th>0</th>\n",
       "      <th>1</th>\n",
       "      <th>2</th>\n",
       "      <th>3</th>\n",
       "      <th>4</th>\n",
       "      <th>5</th>\n",
       "      <th>6</th>\n",
       "      <th>7</th>\n",
       "      <th>8</th>\n",
       "      <th>9</th>\n",
       "      <th>10</th>\n",
       "    </tr>\n",
       "  </thead>\n",
       "  <tbody>\n",
       "    <tr>\n",
       "      <th>0</th>\n",
       "      <td>{'project': 'metagpt', 'folder': 'actions', 'f...</td>\n",
       "      <td>{'project': 'metagpt', 'folder': 'actions', 'f...</td>\n",
       "      <td>{'project': 'metagpt', 'folder': 'actions', 'f...</td>\n",
       "      <td>None</td>\n",
       "      <td>None</td>\n",
       "      <td>None</td>\n",
       "      <td>None</td>\n",
       "      <td>None</td>\n",
       "      <td>None</td>\n",
       "      <td>None</td>\n",
       "      <td>None</td>\n",
       "    </tr>\n",
       "    <tr>\n",
       "      <th>1</th>\n",
       "      <td>{'project': 'metagpt', 'folder': 'actions', 'f...</td>\n",
       "      <td>{'project': 'metagpt', 'folder': 'actions', 'f...</td>\n",
       "      <td>{'project': 'metagpt', 'folder': 'actions', 'f...</td>\n",
       "      <td>{'project': 'metagpt', 'folder': 'actions', 'f...</td>\n",
       "      <td>{'project': 'metagpt', 'folder': 'actions', 'f...</td>\n",
       "      <td>{'project': 'metagpt', 'folder': 'actions', 'f...</td>\n",
       "      <td>{'project': 'metagpt', 'folder': 'actions', 'f...</td>\n",
       "      <td>{'project': 'metagpt', 'folder': 'actions', 'f...</td>\n",
       "      <td>{'project': 'metagpt', 'folder': 'actions', 'f...</td>\n",
       "      <td>{'project': 'metagpt', 'folder': 'actions', 'f...</td>\n",
       "      <td>None</td>\n",
       "    </tr>\n",
       "    <tr>\n",
       "      <th>2</th>\n",
       "      <td>{'project': 'metagpt', 'folder': 'actions', 'f...</td>\n",
       "      <td>{'project': 'metagpt', 'folder': 'actions', 'f...</td>\n",
       "      <td>{'project': 'metagpt', 'folder': 'actions', 'f...</td>\n",
       "      <td>None</td>\n",
       "      <td>None</td>\n",
       "      <td>None</td>\n",
       "      <td>None</td>\n",
       "      <td>None</td>\n",
       "      <td>None</td>\n",
       "      <td>None</td>\n",
       "      <td>None</td>\n",
       "    </tr>\n",
       "    <tr>\n",
       "      <th>3</th>\n",
       "      <td>{'project': 'metagpt', 'folder': 'actions', 'f...</td>\n",
       "      <td>{'project': 'metagpt', 'folder': 'actions', 'f...</td>\n",
       "      <td>None</td>\n",
       "      <td>None</td>\n",
       "      <td>None</td>\n",
       "      <td>None</td>\n",
       "      <td>None</td>\n",
       "      <td>None</td>\n",
       "      <td>None</td>\n",
       "      <td>None</td>\n",
       "      <td>None</td>\n",
       "    </tr>\n",
       "    <tr>\n",
       "      <th>4</th>\n",
       "      <td>{'project': 'metagpt', 'folder': 'actions', 'f...</td>\n",
       "      <td>{'project': 'metagpt', 'folder': 'actions', 'f...</td>\n",
       "      <td>{'project': 'metagpt', 'folder': 'actions', 'f...</td>\n",
       "      <td>{'project': 'metagpt', 'folder': 'actions', 'f...</td>\n",
       "      <td>{'project': 'metagpt', 'folder': 'actions', 'f...</td>\n",
       "      <td>{'project': 'metagpt', 'folder': 'actions', 'f...</td>\n",
       "      <td>{'project': 'metagpt', 'folder': 'actions', 'f...</td>\n",
       "      <td>{'project': 'metagpt', 'folder': 'actions', 'f...</td>\n",
       "      <td>{'project': 'metagpt', 'folder': 'actions', 'f...</td>\n",
       "      <td>None</td>\n",
       "      <td>None</td>\n",
       "    </tr>\n",
       "  </tbody>\n",
       "</table>\n",
       "</div>"
      ],
      "text/plain": [
       "                                                  0   \\\n",
       "0  {'project': 'metagpt', 'folder': 'actions', 'f...   \n",
       "1  {'project': 'metagpt', 'folder': 'actions', 'f...   \n",
       "2  {'project': 'metagpt', 'folder': 'actions', 'f...   \n",
       "3  {'project': 'metagpt', 'folder': 'actions', 'f...   \n",
       "4  {'project': 'metagpt', 'folder': 'actions', 'f...   \n",
       "\n",
       "                                                  1   \\\n",
       "0  {'project': 'metagpt', 'folder': 'actions', 'f...   \n",
       "1  {'project': 'metagpt', 'folder': 'actions', 'f...   \n",
       "2  {'project': 'metagpt', 'folder': 'actions', 'f...   \n",
       "3  {'project': 'metagpt', 'folder': 'actions', 'f...   \n",
       "4  {'project': 'metagpt', 'folder': 'actions', 'f...   \n",
       "\n",
       "                                                  2   \\\n",
       "0  {'project': 'metagpt', 'folder': 'actions', 'f...   \n",
       "1  {'project': 'metagpt', 'folder': 'actions', 'f...   \n",
       "2  {'project': 'metagpt', 'folder': 'actions', 'f...   \n",
       "3                                               None   \n",
       "4  {'project': 'metagpt', 'folder': 'actions', 'f...   \n",
       "\n",
       "                                                  3   \\\n",
       "0                                               None   \n",
       "1  {'project': 'metagpt', 'folder': 'actions', 'f...   \n",
       "2                                               None   \n",
       "3                                               None   \n",
       "4  {'project': 'metagpt', 'folder': 'actions', 'f...   \n",
       "\n",
       "                                                  4   \\\n",
       "0                                               None   \n",
       "1  {'project': 'metagpt', 'folder': 'actions', 'f...   \n",
       "2                                               None   \n",
       "3                                               None   \n",
       "4  {'project': 'metagpt', 'folder': 'actions', 'f...   \n",
       "\n",
       "                                                  5   \\\n",
       "0                                               None   \n",
       "1  {'project': 'metagpt', 'folder': 'actions', 'f...   \n",
       "2                                               None   \n",
       "3                                               None   \n",
       "4  {'project': 'metagpt', 'folder': 'actions', 'f...   \n",
       "\n",
       "                                                  6   \\\n",
       "0                                               None   \n",
       "1  {'project': 'metagpt', 'folder': 'actions', 'f...   \n",
       "2                                               None   \n",
       "3                                               None   \n",
       "4  {'project': 'metagpt', 'folder': 'actions', 'f...   \n",
       "\n",
       "                                                  7   \\\n",
       "0                                               None   \n",
       "1  {'project': 'metagpt', 'folder': 'actions', 'f...   \n",
       "2                                               None   \n",
       "3                                               None   \n",
       "4  {'project': 'metagpt', 'folder': 'actions', 'f...   \n",
       "\n",
       "                                                  8   \\\n",
       "0                                               None   \n",
       "1  {'project': 'metagpt', 'folder': 'actions', 'f...   \n",
       "2                                               None   \n",
       "3                                               None   \n",
       "4  {'project': 'metagpt', 'folder': 'actions', 'f...   \n",
       "\n",
       "                                                  9     10  \n",
       "0                                               None  None  \n",
       "1  {'project': 'metagpt', 'folder': 'actions', 'f...  None  \n",
       "2                                               None  None  \n",
       "3                                               None  None  \n",
       "4                                               None  None  "
      ]
     },
     "execution_count": 45,
     "metadata": {},
     "output_type": "execute_result"
    }
   ],
   "source": [
    "# you can check the structure of chunks by converting it to a dataframe\n",
    "# each row is a file, each element is one chunk\n",
    "\n",
    "pd.DataFrame(chunks).head()"
   ]
  },
  {
   "cell_type": "code",
   "execution_count": 46,
   "metadata": {},
   "outputs": [],
   "source": [
    "# you can also save the chunks into a csv file\n",
    "li.to_csv(li.to_lst(chunks, flat=True), \"metagpt_chunks.csv\")"
   ]
  },
  {
   "cell_type": "markdown",
   "metadata": {},
   "source": [
    "### 4. Aggregate into bins"
   ]
  },
  {
   "cell_type": "code",
   "execution_count": 47,
   "metadata": {},
   "outputs": [
    {
     "data": {
      "text/html": [
       "<div>\n",
       "<style scoped>\n",
       "    .dataframe tbody tr th:only-of-type {\n",
       "        vertical-align: middle;\n",
       "    }\n",
       "\n",
       "    .dataframe tbody tr th {\n",
       "        vertical-align: top;\n",
       "    }\n",
       "\n",
       "    .dataframe thead th {\n",
       "        text-align: right;\n",
       "    }\n",
       "</style>\n",
       "<table border=\"1\" class=\"dataframe\">\n",
       "  <thead>\n",
       "    <tr style=\"text-align: right;\">\n",
       "      <th></th>\n",
       "      <th>project</th>\n",
       "      <th>folder</th>\n",
       "      <th>file</th>\n",
       "      <th>chunk_overlap</th>\n",
       "      <th>chunk_threshold</th>\n",
       "      <th>file_chunks</th>\n",
       "      <th>chunk_id</th>\n",
       "      <th>chunk_size</th>\n",
       "      <th>chunk_content</th>\n",
       "    </tr>\n",
       "  </thead>\n",
       "  <tbody>\n",
       "    <tr>\n",
       "      <th>0</th>\n",
       "      <td>metagpt</td>\n",
       "      <td>actions</td>\n",
       "      <td>write_code.py</td>\n",
       "      <td>0.2</td>\n",
       "      <td>200</td>\n",
       "      <td>4</td>\n",
       "      <td>1</td>\n",
       "      <td>1100</td>\n",
       "      <td>#!/usr/bin/env python\\n# -*- coding: utf-8 -*-...</td>\n",
       "    </tr>\n",
       "    <tr>\n",
       "      <th>1</th>\n",
       "      <td>metagpt</td>\n",
       "      <td>actions</td>\n",
       "      <td>write_code.py</td>\n",
       "      <td>0.2</td>\n",
       "      <td>200</td>\n",
       "      <td>4</td>\n",
       "      <td>2</td>\n",
       "      <td>1200</td>\n",
       "      <td>I. IF NO API, IMPLEMENT IT.\\n2. Requirement: B...</td>\n",
       "    </tr>\n",
       "    <tr>\n",
       "      <th>2</th>\n",
       "      <td>metagpt</td>\n",
       "      <td>actions</td>\n",
       "      <td>write_code.py</td>\n",
       "      <td>0.2</td>\n",
       "      <td>200</td>\n",
       "      <td>4</td>\n",
       "      <td>3</td>\n",
       "      <td>1338</td>\n",
       "      <td>return any(i in filename for i in [\"mp3\", \"w...</td>\n",
       "    </tr>\n",
       "    <tr>\n",
       "      <th>3</th>\n",
       "      <td>metagpt</td>\n",
       "      <td>actions</td>\n",
       "      <td>research.py</td>\n",
       "      <td>0.2</td>\n",
       "      <td>200</td>\n",
       "      <td>11</td>\n",
       "      <td>1</td>\n",
       "      <td>1100</td>\n",
       "      <td>#!/usr/bin/env python\\n\\nfrom __future__ impor...</td>\n",
       "    </tr>\n",
       "    <tr>\n",
       "      <th>4</th>\n",
       "      <td>metagpt</td>\n",
       "      <td>actions</td>\n",
       "      <td>research.py</td>\n",
       "      <td>0.2</td>\n",
       "      <td>200</td>\n",
       "      <td>11</td>\n",
       "      <td>2</td>\n",
       "      <td>1200</td>\n",
       "      <td>rovide up to 2 necessary keywords related to y...</td>\n",
       "    </tr>\n",
       "  </tbody>\n",
       "</table>\n",
       "</div>"
      ],
      "text/plain": [
       "   project   folder           file  chunk_overlap  chunk_threshold  \\\n",
       "0  metagpt  actions  write_code.py            0.2              200   \n",
       "1  metagpt  actions  write_code.py            0.2              200   \n",
       "2  metagpt  actions  write_code.py            0.2              200   \n",
       "3  metagpt  actions    research.py            0.2              200   \n",
       "4  metagpt  actions    research.py            0.2              200   \n",
       "\n",
       "   file_chunks  chunk_id  chunk_size  \\\n",
       "0            4         1        1100   \n",
       "1            4         2        1200   \n",
       "2            4         3        1338   \n",
       "3           11         1        1100   \n",
       "4           11         2        1200   \n",
       "\n",
       "                                       chunk_content  \n",
       "0  #!/usr/bin/env python\\n# -*- coding: utf-8 -*-...  \n",
       "1  I. IF NO API, IMPLEMENT IT.\\n2. Requirement: B...  \n",
       "2    return any(i in filename for i in [\"mp3\", \"w...  \n",
       "3  #!/usr/bin/env python\\n\\nfrom __future__ impor...  \n",
       "4  rovide up to 2 necessary keywords related to y...  "
      ]
     },
     "execution_count": 47,
     "metadata": {},
     "output_type": "execute_result"
    }
   ],
   "source": [
    "# you can also put chunks into bins for aggregation\n",
    "# let's begin by reading a dataframe of the data we previously chunked and saved\n",
    "\n",
    "df = pd.read_csv(\"metagpt_chunks.csv\")\n",
    "df.drop(columns=['Unnamed: 0'], inplace=True)\n",
    "df.head()"
   ]
  },
  {
   "cell_type": "code",
   "execution_count": 48,
   "metadata": {},
   "outputs": [
    {
     "name": "stdout",
     "output_type": "stream",
     "text": [
      "There are in total 379 inputs\n"
     ]
    }
   ],
   "source": [
    "# Let's say you conducted certain llm analysis or similar data transformation on the chunks\n",
    "# and you now you want to put them in groups(bins) of certain range of length \n",
    "\n",
    "inputs = li.to_lst(df.chunk_content, dropna=True, flat=True)\n",
    "print(f\"There are in total {len(inputs)} inputs\")"
   ]
  },
  {
   "cell_type": "code",
   "execution_count": 49,
   "metadata": {},
   "outputs": [
    {
     "name": "stdout",
     "output_type": "stream",
     "text": [
      "There are in total 53 bins\n",
      "There are in total 113 bins\n",
      "There are in total 303 bins\n"
     ]
    }
   ],
   "source": [
    "# we can set a upper limit for how long each bin's content can be\n",
    "\n",
    "bins = li.get_bins(inputs, upper=8000)\n",
    "print(f\"There are in total {len(bins)} bins\")\n",
    "\n",
    "bins = li.get_bins(inputs, upper=4000)\n",
    "print(f\"There are in total {len(bins)} bins\")\n",
    "\n",
    "bins = li.get_bins(inputs, upper=2000)\n",
    "print(f\"There are in total {len(bins)} bins\")"
   ]
  },
  {
   "cell_type": "code",
   "execution_count": 50,
   "metadata": {},
   "outputs": [],
   "source": [
    "elapse = timer() - start"
   ]
  },
  {
   "cell_type": "code",
   "execution_count": 51,
   "metadata": {},
   "outputs": [
    {
     "name": "stdout",
     "output_type": "stream",
     "text": [
      "Total runtime: 0.070 seconds\n"
     ]
    }
   ],
   "source": [
    "print(f\"Total runtime: {elapse:.03f} seconds\")"
   ]
  }
 ],
 "metadata": {
  "kernelspec": {
   "display_name": "metal",
   "language": "python",
   "name": "python3"
  },
  "language_info": {
   "codemirror_mode": {
    "name": "ipython",
    "version": 3
   },
   "file_extension": ".py",
   "mimetype": "text/x-python",
   "name": "python",
   "nbconvert_exporter": "python",
   "pygments_lexer": "ipython3",
   "version": "3.11.5"
  }
 },
 "nbformat": 4,
 "nbformat_minor": 2
}
