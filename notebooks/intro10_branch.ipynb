{
 "cells": [
  {
   "cell_type": "markdown",
   "metadata": {},
   "source": [
    "## Branch"
   ]
  },
  {
   "cell_type": "markdown",
   "metadata": {},
   "source": [
    "The `Session` object now supports working on multiple branches. By default, each session begins with a `'main'` branch."
   ]
  },
  {
   "cell_type": "code",
   "execution_count": 1,
   "metadata": {},
   "outputs": [],
   "source": [
    "import lionagi as li"
   ]
  },
  {
   "cell_type": "code",
   "execution_count": 2,
   "metadata": {},
   "outputs": [
    {
     "data": {
      "text/plain": [
       "{'main': <lionagi.core.branch.Branch at 0x13748a080>}"
      ]
     },
     "execution_count": 2,
     "metadata": {},
     "output_type": "execute_result"
    }
   ],
   "source": [
    "system = \"you are asked to perform as a function picker and parameter provider\"\n",
    "session = li.Session(system=system)\n",
    "session.branches"
   ]
  },
  {
   "cell_type": "markdown",
   "metadata": {},
   "source": [
    "### `new_branch`\n",
    "\n",
    "Create a new branch by passing:\n",
    "\n",
    "- the name of the new branch \n",
    "- the name of the branch to clone from."
   ]
  },
  {
   "cell_type": "code",
   "execution_count": 3,
   "metadata": {},
   "outputs": [
    {
     "data": {
      "text/plain": [
       "{'main': <lionagi.core.branch.Branch at 0x13748a080>,\n",
       " 'branch1': <lionagi.core.branch.Branch at 0x13748a6e0>}"
      ]
     },
     "execution_count": 3,
     "metadata": {},
     "output_type": "execute_result"
    }
   ],
   "source": [
    "session.new_branch('branch1', 'main')\n",
    "session.branches"
   ]
  },
  {
   "cell_type": "markdown",
   "metadata": {},
   "source": [
    "### `switch_branch`\n",
    "\n",
    "There is always one current active branch. When calling methods in the `session` object without specifying a branch, they will be default to the `current_branch`.\n",
    "\n",
    "To switch the current branch, provide the name of the branch you want to switch to."
   ]
  },
  {
   "cell_type": "code",
   "execution_count": 4,
   "metadata": {},
   "outputs": [
    {
     "data": {
      "text/plain": [
       "('main', <lionagi.core.branch.Branch at 0x13748a080>)"
      ]
     },
     "execution_count": 4,
     "metadata": {},
     "output_type": "execute_result"
    }
   ],
   "source": [
    "session.current_branch_name, session.current_branch"
   ]
  },
  {
   "cell_type": "code",
   "execution_count": 5,
   "metadata": {},
   "outputs": [
    {
     "data": {
      "text/plain": [
       "('branch1', <lionagi.core.branch.Branch at 0x13748a6e0>)"
      ]
     },
     "execution_count": 5,
     "metadata": {},
     "output_type": "execute_result"
    }
   ],
   "source": [
    "session.switch_branch('branch1')\n",
    "session.current_branch_name, session.current_branch"
   ]
  },
  {
   "cell_type": "markdown",
   "metadata": {},
   "source": [
    "For the `current_branch`, most branch methods can be called directly. Otherwise, the branch needs to be specified."
   ]
  },
  {
   "cell_type": "markdown",
   "metadata": {},
   "source": [
    "For example, let's say we want to add the 'multiply' tool to the 'main' branch and the 'add' tool to the 'branch1' branch."
   ]
  },
  {
   "cell_type": "code",
   "execution_count": 6,
   "metadata": {},
   "outputs": [],
   "source": [
    "tool_1=[\n",
    "    {\n",
    "        \"type\": \"function\",\n",
    "        \"function\": {\n",
    "            \"name\": \"multiply\",\n",
    "            \"description\": \"Perform multiplication on two numbers\",\n",
    "            \"parameters\": {\n",
    "                \"type\": \"object\",\n",
    "                \"properties\": {\n",
    "                    \"number1\": {\n",
    "                        \"type\": \"number\",\n",
    "                        \"description\": \"a number to multiply, e.g. 5.34\",\n",
    "                    },\n",
    "                    \"number2\": {\n",
    "                        \"type\": \"number\",\n",
    "                        \"description\": \"a number to multiply, e.g. 17\",\n",
    "                    },\n",
    "                },\n",
    "                # specify which parameters are required for the model to respond when function calling\n",
    "                \"required\": [\"number1\", \"number2\"],\n",
    "            },\n",
    "        }\n",
    "    }\n",
    "]\n",
    "\n",
    "def multiply(number1, number2):\n",
    "    return number1*number2\n",
    "\n",
    "# created a tool object\n",
    "tool_mul = li.Tool(func=multiply, schema_=tool_1[0])"
   ]
  },
  {
   "cell_type": "code",
   "execution_count": 7,
   "metadata": {},
   "outputs": [],
   "source": [
    "tool_2=[\n",
    "    {\n",
    "        \"type\": \"function\",\n",
    "        \"function\": {\n",
    "            \"name\": \"add\",\n",
    "            \"description\": \"Perform addition on two numbers\",\n",
    "            \"parameters\": {\n",
    "                \"type\": \"object\",\n",
    "                \"properties\": {\n",
    "                    \"number1\": {\n",
    "                        \"type\": \"number\",\n",
    "                        \"description\": \"a number to add, e.g. 5.34\",\n",
    "                    },\n",
    "                    \"number2\": {\n",
    "                        \"type\": \"number\",\n",
    "                        \"description\": \"a number to add, e.g. 17\",\n",
    "                    },\n",
    "                },\n",
    "                # specify which parameters are required for the model to respond when function calling\n",
    "                \"required\": [\"number1\", \"number2\"],\n",
    "            },\n",
    "        }\n",
    "    }\n",
    "]\n",
    "\n",
    "def add(number1, number2):\n",
    "    return number1+number2\n",
    "\n",
    "tool_add = li.Tool(func=add, schema_=tool_2[0])"
   ]
  },
  {
   "cell_type": "code",
   "execution_count": 8,
   "metadata": {},
   "outputs": [],
   "source": [
    "# register tool_mul to 'main' branch\n",
    "session.branches['main'].register_tools(tool_mul)\n",
    "\n",
    "# register tool_add to 'branch1' branch\n",
    "# since 'branch1' is the current branch, we may use the shortcut\n",
    "session.register_tools(tool_add)"
   ]
  },
  {
   "cell_type": "code",
   "execution_count": 9,
   "metadata": {},
   "outputs": [
    {
     "data": {
      "text/plain": [
       "{'multiply': Tool({\"node_id\":\"6e229c5e2e53790d523a6ce2a67ae5c1\",\"metadata\":{},\"label\":null,\"related_nodes\":[],\"content\":null,\"func\":\"multiply\",\"parser\":null,\"schema_\":{\"type\":\"function\",\"function\":{\"name\":\"multiply\",\"description\":\"Perform multiplication on two numbers\",\"parameters\":{\"type\":\"object\",\"properties\":{\"number1\":{\"type\":\"number\",\"description\":\"a number to multiply, e.g. 5.34\"},\"number2\":{\"type\":\"number\",\"description\":\"a number to multiply, e.g. 17\"}},\"required\":[\"number1\",\"number2\"]}}}})}"
      ]
     },
     "execution_count": 9,
     "metadata": {},
     "output_type": "execute_result"
    }
   ],
   "source": [
    "# if you check the tool registry, they should be there now\n",
    "session.branches['main'].tool_manager.registry"
   ]
  },
  {
   "cell_type": "code",
   "execution_count": 10,
   "metadata": {},
   "outputs": [
    {
     "data": {
      "text/plain": [
       "{'add': Tool({\"node_id\":\"36917d0efc1f1c73b6c9a6cfe75c7e02\",\"metadata\":{},\"label\":null,\"related_nodes\":[],\"content\":null,\"func\":\"add\",\"parser\":null,\"schema_\":{\"type\":\"function\",\"function\":{\"name\":\"add\",\"description\":\"Perform addition on two numbers\",\"parameters\":{\"type\":\"object\",\"properties\":{\"number1\":{\"type\":\"number\",\"description\":\"a number to add, e.g. 5.34\"},\"number2\":{\"type\":\"number\",\"description\":\"a number to add, e.g. 17\"}},\"required\":[\"number1\",\"number2\"]}}}})}"
      ]
     },
     "execution_count": 10,
     "metadata": {},
     "output_type": "execute_result"
    }
   ],
   "source": [
    "session.branches['branch1'].tool_manager.registry"
   ]
  },
  {
   "cell_type": "markdown",
   "metadata": {},
   "source": [
    "When calling `Session`'s core methods, if the branch is not specified, they default to the `current_branch`."
   ]
  },
  {
   "cell_type": "code",
   "execution_count": 11,
   "metadata": {},
   "outputs": [],
   "source": [
    "task = \"Think step by step, understand the following basic math question and provide parameters for function calling.\"\n",
    "\n",
    "# when using respond_mode as json to enforce output format, you need to provide specifying details in instruction\n",
    "json_format = {\"number1\": \"x\", \"number2\": \"y\"}\n",
    "\n",
    "instruct = {\"Task\": task, \"json_format\": json_format}"
   ]
  },
  {
   "cell_type": "code",
   "execution_count": 12,
   "metadata": {},
   "outputs": [],
   "source": [
    "question = \"There are [basketball, football, backpack, water bottle, strawberry, tennis ball, rockets]. each comes in four different colors, what is the number of unique kinds of ball?\"\n",
    "question2 = \"There are three fruits in total, each with 2 different colors, how many unique kinds of fruits are there?\"\n",
    "\n",
    "context1 = {\"Question1\": question, \"question2\": question2}\n",
    "\n",
    "question3 = \"There are two cards facing up and three facing down, how many cards are there in total?\"\n",
    "context2 = {\"Question3\": question3}"
   ]
  },
  {
   "cell_type": "code",
   "execution_count": 13,
   "metadata": {},
   "outputs": [],
   "source": [
    "session.llmconfig.update({\n",
    "    \"temperature\":0.35,\n",
    "    \"tool_choice\": \"auto\", \n",
    "    \"response_format\": {'type':'json_object'}\n",
    "})"
   ]
  },
  {
   "cell_type": "code",
   "execution_count": 14,
   "metadata": {},
   "outputs": [],
   "source": [
    "response_main = await session.initiate(instruction=instruct, \n",
    "                                       context=context1, \n",
    "                                       branch='main', \n",
    "                                       tools=True)"
   ]
  },
  {
   "cell_type": "code",
   "execution_count": 15,
   "metadata": {},
   "outputs": [],
   "source": [
    "# since the the current branch is branch1 in this case, \n",
    "# we do not need to specify the branch\n",
    "response_branch1 = await session.initiate(instruction=instruct, \n",
    "                                          context=context2, \n",
    "                                          tools=True)"
   ]
  },
  {
   "cell_type": "code",
   "execution_count": 16,
   "metadata": {},
   "outputs": [
    {
     "name": "stdout",
     "output_type": "stream",
     "text": [
      "{\"system_info\": \"you are asked to perform as a function picker and parameter provider\"}\n",
      "{\"instruction\": {\"Task\": \"Think step by step, understand the following basic math question and provide parameters for function calling.\", \"json_format\": {\"number1\": \"x\", \"number2\": \"y\"}}, \"context\": {\"Question1\": \"There are [basketball, football, backpack, water bottle, strawberry, tennis ball, rockets]. each comes in four different colors, what is the number of unique kinds of ball?\", \"question2\": \"There are three fruits in total, each with 2 different colors, how many unique kinds of fruits are there?\"}}\n",
      "{\"action_list\": [{\"recipient_name\": \"functions.multiply\", \"parameters\": {\"number1\": 3, \"number2\": 4}}, {\"recipient_name\": \"functions.multiply\", \"parameters\": {\"number1\": 3, \"number2\": 2}}]}\n",
      "{\"action_response\": {\"function\": \"multiply\", \"arguments\": {\"number1\": 3, \"number2\": 4}, \"output\": 12}}\n",
      "{\"action_response\": {\"function\": \"multiply\", \"arguments\": {\"number1\": 3, \"number2\": 2}, \"output\": 6}}\n"
     ]
    }
   ],
   "source": [
    "for content in session.branches['main'].messages['content']:\n",
    "    print(content)"
   ]
  },
  {
   "cell_type": "code",
   "execution_count": 17,
   "metadata": {},
   "outputs": [
    {
     "name": "stdout",
     "output_type": "stream",
     "text": [
      "{\"system_info\": \"you are asked to perform as a function picker and parameter provider\"}\n",
      "{\"instruction\": {\"Task\": \"Think step by step, understand the following basic math question and provide parameters for function calling.\", \"json_format\": {\"number1\": \"x\", \"number2\": \"y\"}}, \"context\": {\"Question3\": \"There are two cards facing up and three facing down, how many cards are there in total?\"}}\n",
      "{\"action_list\": [{\"action\": \"action_add\", \"arguments\": \"{\\\"number1\\\":2,\\\"number2\\\":3}\"}]}\n",
      "{\"action_response\": {\"function\": \"add\", \"arguments\": {\"number1\": 2, \"number2\": 3}, \"output\": 5}}\n"
     ]
    }
   ],
   "source": [
    "for content in session.current_branch.messages['content']:\n",
    "    print(content)"
   ]
  },
  {
   "cell_type": "markdown",
   "metadata": {},
   "source": [
    "### `merge_branch`\n",
    "\n",
    "we can merge one branch into another branch by passing:\n",
    "\n",
    "- from_: The name of the branch to merge from.\n",
    "- to_: The name of the branch to merge into.\n",
    "- update: Specifies whether to update the target branch with the source branch's data when conflicts occur. Default to True.\n",
    "- if_delete: Indicates whether to delete the source branch after merging. If the source branch is the `current_branch`, the `current_branch` will switch to the merge target branch. Default to False.\n",
    "\n",
    "we are using `pandas.Dataframe`'s outer merge logic for `merge_branch`."
   ]
  },
  {
   "cell_type": "code",
   "execution_count": 18,
   "metadata": {},
   "outputs": [],
   "source": [
    "session.merge_branch(from_='branch1', to_='main')"
   ]
  },
  {
   "cell_type": "code",
   "execution_count": 19,
   "metadata": {},
   "outputs": [
    {
     "data": {
      "text/html": [
       "<div>\n",
       "<style scoped>\n",
       "    .dataframe tbody tr th:only-of-type {\n",
       "        vertical-align: middle;\n",
       "    }\n",
       "\n",
       "    .dataframe tbody tr th {\n",
       "        vertical-align: top;\n",
       "    }\n",
       "\n",
       "    .dataframe thead th {\n",
       "        text-align: right;\n",
       "    }\n",
       "</style>\n",
       "<table border=\"1\" class=\"dataframe\">\n",
       "  <thead>\n",
       "    <tr style=\"text-align: right;\">\n",
       "      <th></th>\n",
       "      <th>node_id</th>\n",
       "      <th>role</th>\n",
       "      <th>name</th>\n",
       "      <th>timestamp</th>\n",
       "      <th>content</th>\n",
       "    </tr>\n",
       "  </thead>\n",
       "  <tbody>\n",
       "    <tr>\n",
       "      <th>0</th>\n",
       "      <td>90423e5f52828fdc399f3cb6c2c0e005</td>\n",
       "      <td>system</td>\n",
       "      <td>system</td>\n",
       "      <td>2024-01-18 23:01:24.187353</td>\n",
       "      <td>{\"system_info\": \"you are asked to perform as a...</td>\n",
       "    </tr>\n",
       "    <tr>\n",
       "      <th>1</th>\n",
       "      <td>e987c8b6759d9e2e66dd0f790eb4fd06</td>\n",
       "      <td>user</td>\n",
       "      <td>user</td>\n",
       "      <td>2024-01-18 23:01:24.285710</td>\n",
       "      <td>{\"instruction\": {\"Task\": \"Think step by step, ...</td>\n",
       "    </tr>\n",
       "    <tr>\n",
       "      <th>2</th>\n",
       "      <td>2a5402aad82e5d3af77fbb8e4054ae22</td>\n",
       "      <td>assistant</td>\n",
       "      <td>action_request</td>\n",
       "      <td>2024-01-18 23:01:35.077627</td>\n",
       "      <td>{\"action_list\": [{\"recipient_name\": \"functions...</td>\n",
       "    </tr>\n",
       "    <tr>\n",
       "      <th>3</th>\n",
       "      <td>18311dbec86494b5fb4278cad8069683</td>\n",
       "      <td>assistant</td>\n",
       "      <td>action_response</td>\n",
       "      <td>2024-01-18 23:01:35.082164</td>\n",
       "      <td>{\"action_response\": {\"function\": \"multiply\", \"...</td>\n",
       "    </tr>\n",
       "    <tr>\n",
       "      <th>4</th>\n",
       "      <td>8ba3374a6cbd0e9351f076bff8cfa668</td>\n",
       "      <td>assistant</td>\n",
       "      <td>action_response</td>\n",
       "      <td>2024-01-18 23:01:35.083547</td>\n",
       "      <td>{\"action_response\": {\"function\": \"multiply\", \"...</td>\n",
       "    </tr>\n",
       "    <tr>\n",
       "      <th>5</th>\n",
       "      <td>574f04ca96825a92e1c70f334e951d5e</td>\n",
       "      <td>user</td>\n",
       "      <td>user</td>\n",
       "      <td>2024-01-18 23:01:35.095243</td>\n",
       "      <td>{\"instruction\": {\"Task\": \"Think step by step, ...</td>\n",
       "    </tr>\n",
       "    <tr>\n",
       "      <th>6</th>\n",
       "      <td>7cc96ffa542cd3ce5e63f40938194cca</td>\n",
       "      <td>assistant</td>\n",
       "      <td>action_request</td>\n",
       "      <td>2024-01-18 23:01:37.661174</td>\n",
       "      <td>{\"action_list\": [{\"action\": \"action_add\", \"arg...</td>\n",
       "    </tr>\n",
       "    <tr>\n",
       "      <th>7</th>\n",
       "      <td>f1d115f908b244b5dabbf37509b9d220</td>\n",
       "      <td>assistant</td>\n",
       "      <td>action_response</td>\n",
       "      <td>2024-01-18 23:01:37.663784</td>\n",
       "      <td>{\"action_response\": {\"function\": \"add\", \"argum...</td>\n",
       "    </tr>\n",
       "  </tbody>\n",
       "</table>\n",
       "</div>"
      ],
      "text/plain": [
       "                            node_id       role             name  \\\n",
       "0  90423e5f52828fdc399f3cb6c2c0e005     system           system   \n",
       "1  e987c8b6759d9e2e66dd0f790eb4fd06       user             user   \n",
       "2  2a5402aad82e5d3af77fbb8e4054ae22  assistant   action_request   \n",
       "3  18311dbec86494b5fb4278cad8069683  assistant  action_response   \n",
       "4  8ba3374a6cbd0e9351f076bff8cfa668  assistant  action_response   \n",
       "5  574f04ca96825a92e1c70f334e951d5e       user             user   \n",
       "6  7cc96ffa542cd3ce5e63f40938194cca  assistant   action_request   \n",
       "7  f1d115f908b244b5dabbf37509b9d220  assistant  action_response   \n",
       "\n",
       "                   timestamp  \\\n",
       "0 2024-01-18 23:01:24.187353   \n",
       "1 2024-01-18 23:01:24.285710   \n",
       "2 2024-01-18 23:01:35.077627   \n",
       "3 2024-01-18 23:01:35.082164   \n",
       "4 2024-01-18 23:01:35.083547   \n",
       "5 2024-01-18 23:01:35.095243   \n",
       "6 2024-01-18 23:01:37.661174   \n",
       "7 2024-01-18 23:01:37.663784   \n",
       "\n",
       "                                             content  \n",
       "0  {\"system_info\": \"you are asked to perform as a...  \n",
       "1  {\"instruction\": {\"Task\": \"Think step by step, ...  \n",
       "2  {\"action_list\": [{\"recipient_name\": \"functions...  \n",
       "3  {\"action_response\": {\"function\": \"multiply\", \"...  \n",
       "4  {\"action_response\": {\"function\": \"multiply\", \"...  \n",
       "5  {\"instruction\": {\"Task\": \"Think step by step, ...  \n",
       "6  {\"action_list\": [{\"action\": \"action_add\", \"arg...  \n",
       "7  {\"action_response\": {\"function\": \"add\", \"argum...  "
      ]
     },
     "execution_count": 19,
     "metadata": {},
     "output_type": "execute_result"
    }
   ],
   "source": [
    "session.branches['main'].messages"
   ]
  },
  {
   "cell_type": "code",
   "execution_count": 20,
   "metadata": {},
   "outputs": [
    {
     "name": "stdout",
     "output_type": "stream",
     "text": [
      "{\"system_info\": \"you are asked to perform as a function picker and parameter provider\"}\n",
      "{\"instruction\": {\"Task\": \"Think step by step, understand the following basic math question and provide parameters for function calling.\", \"json_format\": {\"number1\": \"x\", \"number2\": \"y\"}}, \"context\": {\"Question1\": \"There are [basketball, football, backpack, water bottle, strawberry, tennis ball, rockets]. each comes in four different colors, what is the number of unique kinds of ball?\", \"question2\": \"There are three fruits in total, each with 2 different colors, how many unique kinds of fruits are there?\"}}\n",
      "{\"action_list\": [{\"recipient_name\": \"functions.multiply\", \"parameters\": {\"number1\": 3, \"number2\": 4}}, {\"recipient_name\": \"functions.multiply\", \"parameters\": {\"number1\": 3, \"number2\": 2}}]}\n",
      "{\"action_response\": {\"function\": \"multiply\", \"arguments\": {\"number1\": 3, \"number2\": 4}, \"output\": 12}}\n",
      "{\"action_response\": {\"function\": \"multiply\", \"arguments\": {\"number1\": 3, \"number2\": 2}, \"output\": 6}}\n",
      "{\"instruction\": {\"Task\": \"Think step by step, understand the following basic math question and provide parameters for function calling.\", \"json_format\": {\"number1\": \"x\", \"number2\": \"y\"}}, \"context\": {\"Question3\": \"There are two cards facing up and three facing down, how many cards are there in total?\"}}\n",
      "{\"action_list\": [{\"action\": \"action_add\", \"arguments\": \"{\\\"number1\\\":2,\\\"number2\\\":3}\"}]}\n",
      "{\"action_response\": {\"function\": \"add\", \"arguments\": {\"number1\": 2, \"number2\": 3}, \"output\": 5}}\n"
     ]
    }
   ],
   "source": [
    "for content in session.branches['main'].messages['content']:\n",
    "    print(content)"
   ]
  },
  {
   "cell_type": "markdown",
   "metadata": {},
   "source": [
    "### `delete_branch`\n",
    "\n",
    "To delete a branch, provide the name of the branch you want to delete.\n",
    "\n",
    "NOTE: `current_branch` cannot be deleted. If you want to delete it, please switch to another branch first."
   ]
  },
  {
   "cell_type": "code",
   "execution_count": 21,
   "metadata": {},
   "outputs": [
    {
     "data": {
      "text/plain": [
       "'main'"
      ]
     },
     "execution_count": 21,
     "metadata": {},
     "output_type": "execute_result"
    }
   ],
   "source": [
    "# Suppose we want to the delete 'branch1', let's switch to 'main' first \n",
    "# since 'branch1' is the current_branch now.\n",
    "session.switch_branch('main')\n",
    "session.current_branch_name"
   ]
  },
  {
   "cell_type": "code",
   "execution_count": 22,
   "metadata": {},
   "outputs": [
    {
     "name": "stdout",
     "output_type": "stream",
     "text": [
      "Branch branch1 is deleted.\n"
     ]
    },
    {
     "data": {
      "text/plain": [
       "True"
      ]
     },
     "execution_count": 22,
     "metadata": {},
     "output_type": "execute_result"
    }
   ],
   "source": [
    "session.delete_branch('branch1')"
   ]
  }
 ],
 "metadata": {
  "kernelspec": {
   "display_name": ".venv",
   "language": "python",
   "name": "python3"
  },
  "language_info": {
   "codemirror_mode": {
    "name": "ipython",
    "version": 3
   },
   "file_extension": ".py",
   "mimetype": "text/x-python",
   "name": "python",
   "nbconvert_exporter": "python",
   "pygments_lexer": "ipython3",
   "version": "3.10.6"
  }
 },
 "nbformat": 4,
 "nbformat_minor": 2
}
