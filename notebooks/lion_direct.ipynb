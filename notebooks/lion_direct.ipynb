{
 "cells": [
  {
   "cell_type": "code",
   "execution_count": 1,
   "metadata": {},
   "outputs": [],
   "source": [
    "from lionagi import direct"
   ]
  },
  {
   "cell_type": "code",
   "execution_count": 2,
   "metadata": {},
   "outputs": [],
   "source": [
    "sentence = \"a blue whale is chasing a big white shark\""
   ]
  },
  {
   "cell_type": "markdown",
   "metadata": {},
   "source": [
    "### 1. predict"
   ]
  },
  {
   "cell_type": "code",
   "execution_count": 3,
   "metadata": {},
   "outputs": [
    {
     "data": {
      "text/plain": [
       "'The big white shark tries to swim faster to escape.'"
      ]
     },
     "execution_count": 3,
     "metadata": {},
     "output_type": "execute_result"
    }
   ],
   "source": [
    "await direct.predict(sentence)"
   ]
  },
  {
   "cell_type": "code",
   "execution_count": 4,
   "metadata": {},
   "outputs": [
    {
     "data": {
      "text/plain": [
       "{'answer': 'The big white shark tries to swim faster to escape, but the blue whale is persistent in its pursuit.',\n",
       " 'reason': 'Predatory or competitive interactions in the ocean often involve chase sequences, where the predator pursues its target persistently, and the prey tries to escape.',\n",
       " 'confidence_score': 0.75}"
      ]
     },
     "execution_count": 4,
     "metadata": {},
     "output_type": "execute_result"
    }
   ],
   "source": [
    "await direct.predict(\n",
    "    sentence,\n",
    "    num_sentences=2,\n",
    "    reason=True,\n",
    "    confidence_score=True,\n",
    "    retry_kwargs={\"timeout\": 15},\n",
    ")"
   ]
  },
  {
   "cell_type": "markdown",
   "metadata": {},
   "source": [
    "### 2. select"
   ]
  },
  {
   "cell_type": "code",
   "execution_count": 5,
   "metadata": {},
   "outputs": [
    {
     "data": {
      "text/plain": [
       "'deep ocean'"
      ]
     },
     "execution_count": 5,
     "metadata": {},
     "output_type": "execute_result"
    }
   ],
   "source": [
    "choices = [\"funny\", \"catch\", \"apple\", \"deep ocean\"]\n",
    "\n",
    "await direct.select(sentence, choices=choices)"
   ]
  },
  {
   "cell_type": "code",
   "execution_count": 6,
   "metadata": {},
   "outputs": [
    {
     "data": {
      "text/plain": [
       "{'answer': 'deep ocean',\n",
       " 'reason': \"The context involves a blue whale and a big white shark, which are both deep-sea creatures. The 'deep ocean' choice is directly related to their natural habitat, making it an intriguing and fitting selection for the setup.\",\n",
       " 'confidence_score': '0.95'}"
      ]
     },
     "execution_count": 6,
     "metadata": {},
     "output_type": "execute_result"
    }
   ],
   "source": [
    "await direct.select(\n",
    "    sentence,\n",
    "    choices=choices,\n",
    "    num_choices=2,\n",
    "    objective=\"find most weird for the setup\",\n",
    "    reason=True,\n",
    "    confidence_score=True,\n",
    "    temperature=0.45,\n",
    ")"
   ]
  },
  {
   "cell_type": "markdown",
   "metadata": {},
   "source": [
    "### 3. score"
   ]
  },
  {
   "cell_type": "code",
   "execution_count": 7,
   "metadata": {},
   "outputs": [
    {
     "data": {
      "text/plain": [
       "1"
      ]
     },
     "execution_count": 7,
     "metadata": {},
     "output_type": "execute_result"
    }
   ],
   "source": [
    "await direct.score(sentence)"
   ]
  },
  {
   "cell_type": "code",
   "execution_count": 8,
   "metadata": {},
   "outputs": [
    {
     "data": {
      "text/plain": [
       "{'score': 85.0,\n",
       " 'reason': \"It's unusual for a blue whale, which primarily feeds on tiny krill, to chase a big white shark, as this behavior deviates significantly from their known peaceful and solitary nature.\",\n",
       " 'confidence_score': 0.9}"
      ]
     },
     "execution_count": 8,
     "metadata": {},
     "output_type": "execute_result"
    }
   ],
   "source": [
    "await direct.score(\n",
    "    sentence,\n",
    "    instruction=\"rate weirdness\",\n",
    "    reason=True,\n",
    "    score_range=(1, 100),\n",
    "    num_digit=1,\n",
    "    confidence_score=True,\n",
    ")"
   ]
  },
  {
   "cell_type": "markdown",
   "metadata": {},
   "source": [
    "### 4. sentiment"
   ]
  },
  {
   "cell_type": "code",
   "execution_count": 9,
   "metadata": {},
   "outputs": [
    {
     "data": {
      "text/plain": [
       "'neutral'"
      ]
     },
     "execution_count": 9,
     "metadata": {},
     "output_type": "execute_result"
    }
   ],
   "source": [
    "await direct.sentiment(sentence)"
   ]
  },
  {
   "cell_type": "code",
   "execution_count": 10,
   "metadata": {},
   "outputs": [
    {
     "data": {
      "text/plain": [
       "0.5"
      ]
     },
     "execution_count": 10,
     "metadata": {},
     "output_type": "execute_result"
    }
   ],
   "source": [
    "await direct.sentiment(sentence, to_type=\"num\")"
   ]
  },
  {
   "cell_type": "code",
   "execution_count": 11,
   "metadata": {},
   "outputs": [
    {
     "data": {
      "text/plain": [
       "'awesome 😎'"
      ]
     },
     "execution_count": 11,
     "metadata": {},
     "output_type": "execute_result"
    }
   ],
   "source": [
    "await direct.sentiment(sentence, choices=[\"awesome 😎\", \"hmmm 🤔\", \"mehhh 😭\"])"
   ]
  }
 ],
 "metadata": {
  "kernelspec": {
   "display_name": ".venv",
   "language": "python",
   "name": "python3"
  },
  "language_info": {
   "codemirror_mode": {
    "name": "ipython",
    "version": 3
   },
   "file_extension": ".py",
   "mimetype": "text/x-python",
   "name": "python",
   "nbconvert_exporter": "python",
   "pygments_lexer": "ipython3",
   "version": "3.11.6"
  }
 },
 "nbformat": 4,
 "nbformat_minor": 2
}
