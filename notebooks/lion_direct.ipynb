{
 "cells": [
  {
   "cell_type": "code",
   "execution_count": 1,
   "metadata": {},
   "outputs": [],
   "source": [
    "from IPython.display import Markdown\n",
    "from lionagi import direct"
   ]
  },
  {
   "cell_type": "code",
   "execution_count": 2,
   "metadata": {},
   "outputs": [],
   "source": [
    "sentence = \"a blue whale is chasing a big white shark\""
   ]
  },
  {
   "cell_type": "markdown",
   "metadata": {},
   "source": [
    "### 1. predict"
   ]
  },
  {
   "cell_type": "code",
   "execution_count": 3,
   "metadata": {},
   "outputs": [
    {
     "data": {
      "text/markdown": [
       "The shark tries to escape into deeper waters."
      ],
      "text/plain": [
       "<IPython.core.display.Markdown object>"
      ]
     },
     "execution_count": 3,
     "metadata": {},
     "output_type": "execute_result"
    }
   ],
   "source": [
    "out_ = await direct.predict(sentence)\n",
    "Markdown(out_.answer)"
   ]
  },
  {
   "cell_type": "code",
   "execution_count": 4,
   "metadata": {},
   "outputs": [
    {
     "data": {
      "text/markdown": [
       "The shark tries to swim away as fast as it can. The blue whale continues the pursuit, showcasing its surprising agility."
      ],
      "text/plain": [
       "<IPython.core.display.Markdown object>"
      ]
     },
     "execution_count": 4,
     "metadata": {},
     "output_type": "execute_result"
    }
   ],
   "source": [
    "out_ = await direct.predict(\n",
    "    sentence,\n",
    "    num_sentences=2,\n",
    "    reason=True,\n",
    "    retry_kwargs={\"timeout\": 15},\n",
    ")\n",
    "\n",
    "Markdown(out_.answer)"
   ]
  },
  {
   "cell_type": "code",
   "execution_count": 5,
   "metadata": {},
   "outputs": [
    {
     "data": {
      "text/markdown": [
       "Based on the given sentence, it's logical to predict that the shark would attempt to escape the threat posed by the larger blue whale. The continuation of the chase by the blue whale emphasizes the size and speed capabilities of blue whales, despite their massive size."
      ],
      "text/plain": [
       "<IPython.core.display.Markdown object>"
      ]
     },
     "execution_count": 5,
     "metadata": {},
     "output_type": "execute_result"
    }
   ],
   "source": [
    "Markdown(out_.reason)"
   ]
  },
  {
   "cell_type": "markdown",
   "metadata": {},
   "source": [
    "### 2. select"
   ]
  },
  {
   "cell_type": "code",
   "execution_count": 6,
   "metadata": {},
   "outputs": [
    {
     "name": "stdout",
     "output_type": "stream",
     "text": [
      "deep ocean\n"
     ]
    }
   ],
   "source": [
    "choices = [\"funny\", \"catch\", \"apple\", \"deep ocean\"]\n",
    "\n",
    "out_ = await direct.select(sentence, choices=choices)\n",
    "print(out_.answer)"
   ]
  },
  {
   "cell_type": "code",
   "execution_count": 7,
   "metadata": {},
   "outputs": [
    {
     "data": {
      "text/markdown": [
       "deep ocean"
      ],
      "text/plain": [
       "<IPython.core.display.Markdown object>"
      ]
     },
     "execution_count": 7,
     "metadata": {},
     "output_type": "execute_result"
    }
   ],
   "source": [
    "out_ = await direct.select(\n",
    "    sentence,\n",
    "    choices=choices,\n",
    "    num_choices=2,\n",
    "    objective=\"find most weird for the setup\",\n",
    "    temperature=0.45,\n",
    ")\n",
    "\n",
    "Markdown(out_.answer)"
   ]
  },
  {
   "cell_type": "markdown",
   "metadata": {},
   "source": [
    "### 3. score"
   ]
  },
  {
   "cell_type": "code",
   "execution_count": 8,
   "metadata": {},
   "outputs": [
    {
     "name": "stdout",
     "output_type": "stream",
     "text": [
      "5.0\n"
     ]
    }
   ],
   "source": [
    "out_ = await direct.score(sentence)\n",
    "print(out_.answer)"
   ]
  },
  {
   "cell_type": "code",
   "execution_count": 9,
   "metadata": {},
   "outputs": [
    {
     "name": "stdout",
     "output_type": "stream",
     "text": [
      "75.0\n",
      "The scenario of a blue whale chasing a big white shark is quite unusual and not typical behavior observed in nature, as blue whales primarily feed on tiny krill and are not known to chase sharks. This makes the situation relatively high on the weirdness scale.\n"
     ]
    }
   ],
   "source": [
    "out_ = await direct.score(\n",
    "    sentence,\n",
    "    instruction=\"rate weirdness\",\n",
    "    reason=True,\n",
    "    score_range=(1, 100),\n",
    "    num_digit=1,\n",
    ")\n",
    "\n",
    "print(out_.answer)\n",
    "print(out_.reason)"
   ]
  },
  {
   "cell_type": "markdown",
   "metadata": {},
   "source": [
    "### 4. vote"
   ]
  },
  {
   "cell_type": "code",
   "execution_count": 10,
   "metadata": {},
   "outputs": [],
   "source": [
    "from lionagi.core.direct import vote, predict\n",
    "\n",
    "sentence = \"\"\"\n",
    "Why did the blue whale and the big shark start dancing at the bar? Because they heard the bartender was serving \"sea-riously\" good fin-tunes! And then they stopped dancing... because the octopus DJ said it was time for a squid break!\n",
    "\"\"\""
   ]
  },
  {
   "cell_type": "code",
   "execution_count": 11,
   "metadata": {},
   "outputs": [],
   "source": [
    "# this code made 10 generations of \"predict\"   - 10 LLM calls\n",
    "# each answer got scored by 10 scorers,          - 100 LLM calls\n",
    "# let's check the top 5 generations\n",
    "\n",
    "out_ = await vote(\n",
    "    sentence,\n",
    "    directive=predict,\n",
    "    num_sentences=3,\n",
    "    num_generations=10,\n",
    "    num_output=5,\n",
    "    num_scorer=10,\n",
    "    score_range=(0, 10),\n",
    "    num_digits=2,\n",
    "    scorer_instruction=\"rate humor highly critically\",\n",
    "    temperature=0.4,\n",
    ")"
   ]
  },
  {
   "cell_type": "code",
   "execution_count": 12,
   "metadata": {},
   "outputs": [
    {
     "name": "stdout",
     "output_type": "stream",
     "text": [
      "Score 7.5\n"
     ]
    },
    {
     "data": {
      "text/markdown": [
       "So, the blue whale and the big shark decided to take a break and order some krill cocktails. Meanwhile, the octopus DJ started playing some clam jams, getting the whole bar in a bubbly mood. After their break, the whale and the shark were ready to dive back into the dance floor, showing off their smooth jellyfish jive."
      ],
      "text/plain": [
       "<IPython.core.display.Markdown object>"
      ]
     },
     "metadata": {},
     "output_type": "display_data"
    },
    {
     "name": "stdout",
     "output_type": "stream",
     "text": [
      "Score 7.5\n"
     ]
    },
    {
     "data": {
      "text/markdown": [
       "But the party didn't end there. Once the squid break was over, the blue whale, the big shark, and all their sea friends got back on the dance floor, ready to dive into more oceanic beats. The night was young, and the sea creatures were determined to make a splash with their dance moves!"
      ],
      "text/plain": [
       "<IPython.core.display.Markdown object>"
      ]
     },
     "metadata": {},
     "output_type": "display_data"
    },
    {
     "name": "stdout",
     "output_type": "stream",
     "text": [
      "Score 7.65\n"
     ]
    },
    {
     "data": {
      "text/markdown": [
       "So, the blue whale and the big shark took a break, sipping on their ocean-inspired cocktails, chatting about the coral reefs and the latest in aquatic fashion. Meanwhile, the octopus DJ was busy setting up his next set, promising to bring even more waves to the dance floor. Everyone at the bar was eagerly waiting, knowing that when the music started again, it would be a splash hit."
      ],
      "text/plain": [
       "<IPython.core.display.Markdown object>"
      ]
     },
     "metadata": {},
     "output_type": "display_data"
    },
    {
     "name": "stdout",
     "output_type": "stream",
     "text": [
      "Score 7.9\n"
     ]
    },
    {
     "data": {
      "text/markdown": [
       "So, the whale and the shark took a seat at the bar, sipping on their ocean-inspired cocktails, chatting about the current events in the deep blue. They were soon joined by a group of jellyfish, who were glowing with excitement to join the underwater party. The night was filled with laughter, bubbles, and the best sea-themed music, making it an unforgettable evening under the sea."
      ],
      "text/plain": [
       "<IPython.core.display.Markdown object>"
      ]
     },
     "metadata": {},
     "output_type": "display_data"
    },
    {
     "name": "stdout",
     "output_type": "stream",
     "text": [
      "Score 8.25\n"
     ]
    },
    {
     "data": {
      "text/markdown": [
       "So, the blue whale and the big shark grabbed a drink and watched the jellyfish do their jelly wobble on the dance floor. It was a sight to sea, making everyone at the bar laugh and cheer. Eventually, the octopus DJ returned, and the party continued with even more sea-riously good fin-tunes."
      ],
      "text/plain": [
       "<IPython.core.display.Markdown object>"
      ]
     },
     "metadata": {},
     "output_type": "display_data"
    }
   ],
   "source": [
    "from IPython.display import Markdown\n",
    "\n",
    "for i in range(5):\n",
    "    print(\"Score\", out_[i].score)\n",
    "    display(Markdown(out_[i].answer))"
   ]
  }
 ],
 "metadata": {
  "kernelspec": {
   "display_name": ".venv",
   "language": "python",
   "name": "python3"
  },
  "language_info": {
   "codemirror_mode": {
    "name": "ipython",
    "version": 3
   },
   "file_extension": ".py",
   "mimetype": "text/x-python",
   "name": "python",
   "nbconvert_exporter": "python",
   "pygments_lexer": "ipython3",
   "version": "3.12.1"
  }
 },
 "nbformat": 4,
 "nbformat_minor": 2
}
