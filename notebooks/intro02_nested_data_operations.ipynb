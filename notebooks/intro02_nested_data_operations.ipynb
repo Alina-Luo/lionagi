{
 "cells": [
  {
   "cell_type": "markdown",
   "metadata": {},
   "source": [
    "# LionAGI - Introduction 2\n",
    "\n",
    "Nested Data Structure is common for API calls, but they are annoying to handle. `LionAGI` has some powerful functions to handle nested data structures."
   ]
  },
  {
   "cell_type": "code",
   "execution_count": 1,
   "metadata": {},
   "outputs": [],
   "source": [
    "import lionagi as li"
   ]
  },
  {
   "cell_type": "code",
   "execution_count": 2,
   "metadata": {},
   "outputs": [],
   "source": [
    "# let us define a couple nested structure\n",
    "\n",
    "nested_list = [0, [1, 2, [3, 4]]]\n",
    "\n",
    "nested_dict = {\n",
    "    'level1': {\n",
    "        'level2': {\n",
    "            'level3': 'some_value'\n",
    "        }\n",
    "    }\n",
    "}"
   ]
  },
  {
   "cell_type": "markdown",
   "metadata": {},
   "source": [
    "## 1. Nested Structure Operations\n",
    "- nset\n",
    "- nget\n",
    "- is_structure_homogenous"
   ]
  },
  {
   "cell_type": "markdown",
   "metadata": {},
   "source": [
    "`nset` & `nget`"
   ]
  },
  {
   "cell_type": "code",
   "execution_count": 3,
   "metadata": {},
   "outputs": [],
   "source": [
    "# suppose you have a nested dictionary as above, how would you access the value?\n",
    "# typically you can do the following, \n",
    "\n",
    "value1 = nested_dict['level1']['level2']['level3'] "
   ]
  },
  {
   "cell_type": "markdown",
   "metadata": {},
   "source": [
    "but this can be tiresome, especially after the keys get long and with confusing names "
   ]
  },
  {
   "cell_type": "code",
   "execution_count": 4,
   "metadata": {},
   "outputs": [],
   "source": [
    "# nget allows you to extract the value in the nested structure using a list\n",
    "\n",
    "keys = ['level1', 'level2', 'level3']\n",
    "\n",
    "value2 = li.nget(nested_dict, keys)"
   ]
  },
  {
   "cell_type": "code",
   "execution_count": 5,
   "metadata": {},
   "outputs": [
    {
     "data": {
      "text/plain": [
       "True"
      ]
     },
     "execution_count": 5,
     "metadata": {},
     "output_type": "execute_result"
    }
   ],
   "source": [
    "value1 == value2"
   ]
  },
  {
   "cell_type": "markdown",
   "metadata": {},
   "source": [
    "similarly you can use `nset` to set a value in a nested structure"
   ]
  },
  {
   "cell_type": "code",
   "execution_count": 6,
   "metadata": {},
   "outputs": [
    {
     "name": "stdout",
     "output_type": "stream",
     "text": [
      "Nested dictionary after setting value:\n",
      "{\n",
      "    \"level1\": {\n",
      "        \"level2\": {\n",
      "            \"level3\": \"new_value\"\n",
      "        }\n",
      "    }\n",
      "}\n"
     ]
    }
   ],
   "source": [
    "li.nset(nested_dict, keys, 'new_value')\n",
    "print('Nested dictionary after setting value:')\n",
    "\n",
    "print(li.to_readable_dict(nested_dict))"
   ]
  },
  {
   "cell_type": "markdown",
   "metadata": {},
   "source": [
    "`nset` and `nget` work for both nested lists and nested dictionary"
   ]
  },
  {
   "cell_type": "code",
   "execution_count": 7,
   "metadata": {},
   "outputs": [
    {
     "data": {
      "text/plain": [
       "4"
      ]
     },
     "execution_count": 7,
     "metadata": {},
     "output_type": "execute_result"
    }
   ],
   "source": [
    "indices = [1, 2, 1]\n",
    "li.nget(nested_list, indices)"
   ]
  },
  {
   "cell_type": "code",
   "execution_count": 8,
   "metadata": {},
   "outputs": [
    {
     "name": "stdout",
     "output_type": "stream",
     "text": [
      "Nested list after setting value: [0, [1, 2, [3, 'new_value']]]\n"
     ]
    }
   ],
   "source": [
    "# Setting a new value at a specific index in the nested list\n",
    "li.nset(nested_list, indices, 'new_value')\n",
    "print('Nested list after setting value:', nested_list)"
   ]
  },
  {
   "cell_type": "markdown",
   "metadata": {},
   "source": [
    "if you try to get a value of an non-existent path, default value is `None`"
   ]
  },
  {
   "cell_type": "code",
   "execution_count": 9,
   "metadata": {},
   "outputs": [
    {
     "name": "stdout",
     "output_type": "stream",
     "text": [
      "Value from non-existent key (should be None): None\n"
     ]
    }
   ],
   "source": [
    "nested_dict = {\n",
    "    'level1': {\n",
    "        'level2': {\n",
    "            'level3': 'value'\n",
    "        }\n",
    "    }\n",
    "}\n",
    "\n",
    "# Attempting to get a value at a non-existent path, which returns None\n",
    "value = li.nget(nested_dict, ['level1', 'level2', 'non_existent_key'])\n",
    "print('Value from non-existent key (should be None):', value)"
   ]
  },
  {
   "cell_type": "markdown",
   "metadata": {},
   "source": [
    "One common issue with reading json is that sometimes they can contain lists, \n",
    "\n",
    "which makes indexing very confusing, and we might need different handling for pure dictioanry or a mixed type, \n",
    "\n",
    "we can use `is_structure_homogenous` to check, whether a given structure is purely nested dictionary / nested lists or not"
   ]
  },
  {
   "cell_type": "code",
   "execution_count": 10,
   "metadata": {},
   "outputs": [
    {
     "name": "stdout",
     "output_type": "stream",
     "text": [
      "The nested dictionary is homogeneous: True \n",
      "Type: <class 'dict'>\n"
     ]
    }
   ],
   "source": [
    "nested_dict = {\n",
    "    'a': {'b': {'c': 1}},\n",
    "    'd': {'e': {'f': 2}}\n",
    "}\n",
    "\n",
    "# Check if the nested structure is homogeneous\n",
    "is_homogeneous, structure_type = li.is_structure_homogeneous(nested_dict, return_structure_type=True)\n",
    "print('The nested dictionary is homogeneous:', is_homogeneous, '\\nType:', structure_type)"
   ]
  },
  {
   "cell_type": "code",
   "execution_count": 11,
   "metadata": {},
   "outputs": [
    {
     "name": "stdout",
     "output_type": "stream",
     "text": [
      "The nested structure is homogeneous: False \n",
      "Type: None\n"
     ]
    }
   ],
   "source": [
    "nested_dict = {\n",
    "    'a': [1, 2, {'b': 3}],\n",
    "    'c': {'d': 4}\n",
    "}\n",
    "\n",
    "is_homogeneous, structure_type = li.is_structure_homogeneous(nested_dict, return_structure_type=True)\n",
    "print('The nested structure is homogeneous:', is_homogeneous, '\\nType:', structure_type)"
   ]
  },
  {
   "cell_type": "markdown",
   "metadata": {},
   "source": [
    "## 2. Flattening and Unflattening a complex nested data structure\n",
    "- to_list\n",
    "- flatten\n",
    "- unflatten"
   ]
  },
  {
   "cell_type": "code",
   "execution_count": 12,
   "metadata": {},
   "outputs": [
    {
     "name": "stdout",
     "output_type": "stream",
     "text": [
      "[1, 2, 3, 4, 5, 6]\n"
     ]
    }
   ],
   "source": [
    "# we can use to_list to flatten a list of nested lists, you can also use it to dropna\n",
    "\n",
    "nested_list = [1, [2, [3, None, 4]], [5, 6], None]\n",
    "\n",
    "print(li.to_list(nested_list, flatten=True, dropna=True))"
   ]
  },
  {
   "cell_type": "markdown",
   "metadata": {},
   "source": [
    "we can also flatten a dictionary of complex nested types"
   ]
  },
  {
   "cell_type": "code",
   "execution_count": 13,
   "metadata": {},
   "outputs": [
    {
     "name": "stdout",
     "output_type": "stream",
     "text": [
      "{\n",
      "    \"a\": [\n",
      "        1,\n",
      "        2,\n",
      "        {\n",
      "            \"b\": 3\n",
      "        }\n",
      "    ],\n",
      "    \"c\": {\n",
      "        \"d\": 4,\n",
      "        \"e\": {\n",
      "            \"f\": [\n",
      "                5,\n",
      "                6,\n",
      "                7\n",
      "            ]\n",
      "        }\n",
      "    }\n",
      "}\n"
     ]
    }
   ],
   "source": [
    "nested = {\n",
    "    'a': [1, 2, {'b': 3}],\n",
    "    'c': {'d': 4, \n",
    "          'e': {'f': [5,6,7]}}\n",
    "}\n",
    "\n",
    "print(li.to_readable_dict(nested))"
   ]
  },
  {
   "cell_type": "code",
   "execution_count": 14,
   "metadata": {},
   "outputs": [
    {
     "name": "stdout",
     "output_type": "stream",
     "text": [
      "{\n",
      "    \"a_0\": 1,\n",
      "    \"a_1\": 2,\n",
      "    \"a_2_b\": 3,\n",
      "    \"c_d\": 4,\n",
      "    \"c_e_f_0\": 5,\n",
      "    \"c_e_f_1\": 6,\n",
      "    \"c_e_f_2\": 7\n",
      "}\n"
     ]
    }
   ],
   "source": [
    "# now we can flatten it to a 1-d dictionary\n",
    "flattened = li.flatten(nested)\n",
    "\n",
    "print(li.to_readable_dict(flattened))"
   ]
  },
  {
   "cell_type": "code",
   "execution_count": 15,
   "metadata": {},
   "outputs": [
    {
     "name": "stdout",
     "output_type": "stream",
     "text": [
      "Flattened nested dictionary with max depth:\n",
      "{\n",
      "    \"a_0\": 1,\n",
      "    \"a_1\": 2,\n",
      "    \"a_2\": {\n",
      "        \"b\": 3\n",
      "    },\n",
      "    \"c_d\": 4,\n",
      "    \"c_e\": {\n",
      "        \"f\": [\n",
      "            5,\n",
      "            6,\n",
      "            7\n",
      "        ]\n",
      "    }\n",
      "}\n"
     ]
    }
   ],
   "source": [
    "# Flatten the nested dictionary with a max depth of 1\n",
    "flat_dict = li.flatten(nested, max_depth=1)\n",
    "print('Flattened nested dictionary with max depth:')\n",
    "print(li.to_readable_dict(flat_dict))"
   ]
  },
  {
   "cell_type": "markdown",
   "metadata": {},
   "source": [
    "if you just want the keys as path, you can use `get_flattened_keys`"
   ]
  },
  {
   "cell_type": "code",
   "execution_count": 16,
   "metadata": {},
   "outputs": [
    {
     "name": "stdout",
     "output_type": "stream",
     "text": [
      "['a_0', 'a_1', 'a_2_b', 'c_d', 'c_e_f_0', 'c_e_f_1', 'c_e_f_2']\n",
      "\n",
      "Number of unique key-value pair: 7\n"
     ]
    }
   ],
   "source": [
    "keys = li.get_flattened_keys(nested)\n",
    "\n",
    "print(keys)\n",
    "print(f\"\\nNumber of unique key-value pair: {len(keys)}\")"
   ]
  },
  {
   "cell_type": "markdown",
   "metadata": {},
   "source": [
    "Let's say you have done some operations on the flattened dictionary, and you would like to fold them into an organized nested structure, \n",
    "\n",
    "you can use `unflatten`"
   ]
  },
  {
   "cell_type": "code",
   "execution_count": 17,
   "metadata": {},
   "outputs": [
    {
     "name": "stdout",
     "output_type": "stream",
     "text": [
      "{'a': [1, 2, {'b': 3}], 'c': {'d': 4, 'e': {'f': [5, 6, 7]}}}\n",
      "True\n"
     ]
    }
   ],
   "source": [
    "unflattened = li.unflatten(flattened)\n",
    "\n",
    "print(unflattened)\n",
    "print(unflattened==nested)"
   ]
  },
  {
   "cell_type": "markdown",
   "metadata": {},
   "source": [
    "## 3. ninsert, nfilter and nmerge"
   ]
  },
  {
   "cell_type": "markdown",
   "metadata": {},
   "source": [
    "you can insert value into a nested dictionary according to the path, if path doesn't exist, `ninsert` will create it"
   ]
  },
  {
   "cell_type": "code",
   "execution_count": 18,
   "metadata": {},
   "outputs": [
    {
     "name": "stdout",
     "output_type": "stream",
     "text": [
      "{\n",
      "    \"a\": {\n",
      "        \"b\": {\n",
      "            \"c\": 1,\n",
      "            \"d\": 2\n",
      "        },\n",
      "        \"e\": 3\n",
      "    },\n",
      "    \"f\": 4\n",
      "}\n"
     ]
    }
   ],
   "source": [
    "# create a nested structure by inserting value, key will be created as a nested manner\n",
    "nested_dict = {}\n",
    "li.ninsert(nested_dict, ['a', 'b', 'c'], value=1)\n",
    "li.ninsert(nested_dict, ['a', 'b', 'd'], value=2)\n",
    "li.ninsert(nested_dict, ['a', 'e'], value=3)\n",
    "li.ninsert(nested_dict, ['f'], value=4)\n",
    "print(li.to_readable_dict(nested_dict))"
   ]
  },
  {
   "cell_type": "markdown",
   "metadata": {},
   "source": [
    "`nfilter` can be used to filter out elements of a nested structure"
   ]
  },
  {
   "cell_type": "code",
   "execution_count": 19,
   "metadata": {},
   "outputs": [
    {
     "name": "stdout",
     "output_type": "stream",
     "text": [
      "Filtered nested dictionary: {'temperature': 22, 'pressure': 1012}\n"
     ]
    }
   ],
   "source": [
    "nested_dict1 = {\n",
    "    \"data\": {'temperature': 22, 'humidity': 80, 'pressure': 1012}, \n",
    "    \"threshold\": {'temperature': 20, 'humidity': 85,'pressure': 1000}\n",
    "}\n",
    "\n",
    "# finding value larger than threshold\n",
    "def condition_for_dict1(item):\n",
    "    key, value = item\n",
    "    return value > nested_dict1['threshold'][key]\n",
    "\n",
    "filtered_data1 = li.nfilter(nested_dict1['data'], condition_for_dict1)\n",
    "print('Filtered nested dictionary:', filtered_data1)"
   ]
  },
  {
   "cell_type": "code",
   "execution_count": 20,
   "metadata": {},
   "outputs": [
    {
     "name": "stdout",
     "output_type": "stream",
     "text": [
      "Filtered list of dictionaries: [{'name': 'Charlie', 'age': 35}]\n"
     ]
    }
   ],
   "source": [
    "list_of_dicts = [\n",
    "    {'name': 'Alice', 'age': 30},\n",
    "    {'name': 'Bob', 'age': 25},\n",
    "    {'name': 'Charlie', 'age': 35}\n",
    "]\n",
    "\n",
    "# finding people with age larger than 30\n",
    "def condition_for_list_of_dicts(item):\n",
    "    return item.get('age', 0) > 30\n",
    "\n",
    "filtered_list_of_dicts = li.nfilter(list_of_dicts, condition_for_list_of_dicts)\n",
    "print('Filtered list of dictionaries:', filtered_list_of_dicts)"
   ]
  },
  {
   "cell_type": "markdown",
   "metadata": {},
   "source": [
    "we can also merge different data structure easily as a new nested one"
   ]
  },
  {
   "cell_type": "code",
   "execution_count": 21,
   "metadata": {},
   "outputs": [
    {
     "name": "stdout",
     "output_type": "stream",
     "text": [
      "Merged dictionaries with overwriting: {'a': 1, 'b': 3, 'c': 4}\n"
     ]
    }
   ],
   "source": [
    "# Usage Example 1: Merging dictionaries with overwriting\n",
    "dicts_to_merge = [\n",
    "    {'a': 1, 'b': 2},\n",
    "    {'b': 3, 'c': 4}\n",
    "]\n",
    "\n",
    "merged_dict = li.nmerge(dicts_to_merge, dict_update=True)\n",
    "print('Merged dictionaries with overwriting:', merged_dict)"
   ]
  },
  {
   "cell_type": "code",
   "execution_count": 22,
   "metadata": {},
   "outputs": [
    {
     "name": "stdout",
     "output_type": "stream",
     "text": [
      "Merged dictionaries without overwriting: {'a': 1, 'b': 2, 'b_1': 3, 'c': 4}\n"
     ]
    }
   ],
   "source": [
    "# Usage Example 2: Merging dictionaries without overwriting\n",
    "dicts_to_merge = [\n",
    "    {'a': 1, 'b': 2},\n",
    "    {'b': 3, 'c': 4}\n",
    "]\n",
    "\n",
    "# creating unique keys for duplicates\n",
    "merged_dict = li.nmerge(dicts_to_merge, dict_update=False, dict_sequence=True, sequence_separator='_')\n",
    "print('Merged dictionaries without overwriting:', merged_dict)"
   ]
  },
  {
   "cell_type": "code",
   "execution_count": 23,
   "metadata": {},
   "outputs": [
    {
     "name": "stdout",
     "output_type": "stream",
     "text": [
      "Merged and sorted lists: [1, 2, 3, 4]\n"
     ]
    }
   ],
   "source": [
    "# Usage Example 3: Merging lists with sorting\n",
    "lists_to_merge = [\n",
    "    [3, 1],\n",
    "    [4, 2]\n",
    "]\n",
    "\n",
    "# Merge lists and sort the result\n",
    "merged_list = li.nmerge(lists_to_merge, sort_list=True)\n",
    "print('Merged and sorted lists:', merged_list)"
   ]
  }
 ],
 "metadata": {
  "kernelspec": {
   "display_name": "hub_test",
   "language": "python",
   "name": "python3"
  },
  "language_info": {
   "codemirror_mode": {
    "name": "ipython",
    "version": 3
   },
   "file_extension": ".py",
   "mimetype": "text/x-python",
   "name": "python",
   "nbconvert_exporter": "python",
   "pygments_lexer": "ipython3",
   "version": "3.12.1"
  }
 },
 "nbformat": 4,
 "nbformat_minor": 2
}
