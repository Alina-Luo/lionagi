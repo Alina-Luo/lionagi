{
 "cells": [
  {
   "cell_type": "markdown",
   "metadata": {},
   "source": [
    "reason-action with a single LLM call"
   ]
  },
  {
   "cell_type": "code",
   "execution_count": 1,
   "metadata": {},
   "outputs": [],
   "source": [
    "def multiply(number1: float, number2: float):\n",
    "    \"\"\"\n",
    "    Perform multiplication on two numbers.\n",
    "\n",
    "    Args:\n",
    "        number1: First number to multiply.\n",
    "        number2: Second number to multiply.\n",
    "\n",
    "    Returns:\n",
    "        The product of number1 and number2.\n",
    "\n",
    "    \"\"\"\n",
    "    return number1 * number2\n",
    "\n",
    "\n",
    "sys_mul = \"you are asked to perform as a function picker and parameter provider\"\n",
    "instruction = \"Think step by step, understand the following basic math question and provide parameters (number1, number2) for function calling\"\n",
    "question1 = \"A school is ordering laptops for its students. If each classroom has 25 students and the school wants to provide a laptop for each student in its 8 classrooms, how many laptops in total does the school need to order?\""
   ]
  },
  {
   "cell_type": "code",
   "execution_count": 2,
   "metadata": {},
   "outputs": [],
   "source": [
    "from lionagi import Branch, Services\n",
    "from lionagi.core.direct.react import react\n",
    "\n",
    "service = Services.OpenAI()\n",
    "branch = Branch(system=sys_mul, tools=multiply, service=service)"
   ]
  },
  {
   "cell_type": "code",
   "execution_count": 3,
   "metadata": {},
   "outputs": [
    {
     "name": "stdout",
     "output_type": "stream",
     "text": [
      "Reason : To find the total number of laptops needed, multiply the number of students per classroom by the number of classrooms.\n",
      "Action Responses:  [{'function': 'multiply', 'arguments': {'number1': 25, 'number2': 8}, 'output': 200}]\n"
     ]
    }
   ],
   "source": [
    "out_ = await react(\n",
    "    question1, branch=branch, instruction=instruction, model=\"gpt-4-turbo-preview\"\n",
    ")\n",
    "\n",
    "print(\"Reason :\", out_.reason)\n",
    "print(\"Action Responses: \", out_.action_response)"
   ]
  },
  {
   "cell_type": "code",
   "execution_count": 4,
   "metadata": {},
   "outputs": [],
   "source": [
    "service = Services.OpenRouter()\n",
    "branch = Branch(system=sys_mul, tools=multiply, service=service)"
   ]
  },
  {
   "cell_type": "code",
   "execution_count": 5,
   "metadata": {},
   "outputs": [
    {
     "name": "stdout",
     "output_type": "stream",
     "text": [
      "Reason : To calculate the total number of laptops needed, we need to multiply the number of students per classroom by the number of classrooms.\n",
      "Action Responses:  [{'function': 'multiply', 'arguments': {'number1': 25, 'number2': 8}, 'output': 200}]\n"
     ]
    }
   ],
   "source": [
    "out_ = await react(\n",
    "    question1, branch=branch, instruction=instruction, model=\"anthropic/claude-3-opus\"\n",
    ")\n",
    "\n",
    "print(\"Reason :\", out_.reason)\n",
    "print(\"Action Responses: \", out_.action_response)"
   ]
  },
  {
   "cell_type": "code",
   "execution_count": 6,
   "metadata": {},
   "outputs": [
    {
     "name": "stdout",
     "output_type": "stream",
     "text": [
      "Reason : To find the total number of laptops the school needs to order, we need to multiply the number of students per classroom by the number of classrooms.\n",
      "Action Responses:  [{'function': 'multiply', 'arguments': {'number1': 25, 'number2': 8}, 'output': 200}]\n"
     ]
    }
   ],
   "source": [
    "branch.clear_messages()\n",
    "out_ = await react(\n",
    "    question1, branch=branch, instruction=instruction, model=\"anthropic/claude-3-haiku\"\n",
    ")\n",
    "\n",
    "print(\"Reason :\", out_.reason)\n",
    "print(\"Action Responses: \", out_.action_response)"
   ]
  }
 ],
 "metadata": {
  "kernelspec": {
   "display_name": ".venv",
   "language": "python",
   "name": "python3"
  },
  "language_info": {
   "codemirror_mode": {
    "name": "ipython",
    "version": 3
   },
   "file_extension": ".py",
   "mimetype": "text/x-python",
   "name": "python",
   "nbconvert_exporter": "python",
   "pygments_lexer": "ipython3",
   "version": "3.11.6"
  }
 },
 "nbformat": 4,
 "nbformat_minor": 2
}
