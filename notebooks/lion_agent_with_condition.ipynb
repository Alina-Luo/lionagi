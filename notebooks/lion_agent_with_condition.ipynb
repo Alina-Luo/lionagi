{
 "cells": [
  {
   "cell_type": "code",
   "execution_count": 1,
   "metadata": {},
   "outputs": [],
   "source": [
    "from lionagi.core.messages import Instruction, System\n",
    "from lionagi.core.schema.structure import Structure\n",
    "from lionagi.core.Agent.base_agent import BaseAgent\n",
    "from lionagi.core.branch.executable_branch import ExecutableBranch"
   ]
  },
  {
   "cell_type": "markdown",
   "metadata": {},
   "source": [
    "# Create Graph-based Structure"
   ]
  },
  {
   "cell_type": "code",
   "execution_count": 2,
   "metadata": {},
   "outputs": [],
   "source": [
    "system = System(system=\"You are asked to perform as a calculator. Return only a numeric value, i.e. int or float, no text.\")\n",
    "\n",
    "instruct1 = Instruction(instruction={\n",
    "    \"sum the absolute values\": \"provided with 2 numbers, return the sum of their absolute values. i.e. |x|+|y|\",\n",
    "})\n",
    "\n",
    "instruct2 = Instruction(instruction={\n",
    "    \"diff the absolute values\": \"provided with 2 numbers, return the difference of absolute values. i.e. |x|-|y|\",\n",
    "})\n",
    "\n",
    "instruct3 = Instruction(instruction={\n",
    "    \"if previous response is positive\": \"times 2. i.e. *2\",  # case 0\n",
    "    \"else\": \"plus 2. i.e. +2\",  # case 1\n",
    "})"
   ]
  },
  {
   "cell_type": "code",
   "execution_count": 3,
   "metadata": {},
   "outputs": [],
   "source": [
    "struct = Structure()\n",
    "struct.add_node(system)\n",
    "struct.add_node(instruct1)\n",
    "struct.add_node(instruct2)\n",
    "struct.add_node(instruct3)"
   ]
  },
  {
   "cell_type": "markdown",
   "metadata": {},
   "source": [
    "### Create Relationship Conditions"
   ]
  },
  {
   "cell_type": "markdown",
   "metadata": {},
   "source": [
    "Conditions help filter the path to be executed.\n",
    "It has to be an implemented subclass of Condition class.\n",
    "\n",
    "There are two functions in Condition class:\n",
    "\n",
    "```python\n",
    "def __init__(self, source_type)\n",
    "```\n",
    "\n",
    "`source_type` can only be \"structure\" or \"executable\"\n",
    "\n",
    "```python\n",
    "@abstractmethod\n",
    "def __call__(self, source)\n",
    "```\n",
    "\n",
    "All information in the structure and executable object is available for checking. \n",
    "`__call__` is expected to return a bool. If True, the path is selected.\n",
    "\n",
    "If the `source_type` is \"structure\", the `source` is expected to be the structure object in the agent when checking the condition. \n",
    "\n",
    "If the `source_type` is \"executable\", the `source` is expected to be the executable object in the agent when checking the condition."
   ]
  },
  {
   "cell_type": "code",
   "execution_count": 4,
   "metadata": {},
   "outputs": [],
   "source": [
    "from lionagi.core.schema.condition import Condition\n",
    "\n",
    "class CaseCondition(Condition):\n",
    "    def __init__(self, case):\n",
    "        super().__init__(\"executable\")\n",
    "        self.case = case\n",
    "    \n",
    "    def __call__(self, executable):\n",
    "        case = executable.context['case']\n",
    "        return case == self.case\n",
    "\n",
    "cond0 = CaseCondition(case=0)\n",
    "cond1 = CaseCondition(case=1)"
   ]
  },
  {
   "cell_type": "markdown",
   "metadata": {},
   "source": [
    "### Build Relationships with Conditions"
   ]
  },
  {
   "cell_type": "markdown",
   "metadata": {},
   "source": [
    "In the example, if `case` is 0, execute `instruct1`, or if `case` is 1, execute `instruct2`.\n",
    "\n",
    "Then, execute `instruct3`."
   ]
  },
  {
   "cell_type": "code",
   "execution_count": 5,
   "metadata": {},
   "outputs": [],
   "source": [
    "struct.add_relationship(system, instruct1, condition=cond0)\n",
    "struct.add_relationship(system, instruct2, condition=cond1)\n",
    "struct.add_relationship(instruct1, instruct3)\n",
    "struct.add_relationship(instruct2, instruct3)"
   ]
  },
  {
   "cell_type": "code",
   "execution_count": 6,
   "metadata": {},
   "outputs": [
    {
     "data": {
      "image/png": "[encoded data removed]",
      "text/plain": [
       "<Figure size 640x480 with 1 Axes>"
      ]
     },
     "metadata": {},
     "output_type": "display_data"
    }
   ],
   "source": [
    "import networkx as nx\n",
    "import matplotlib.pyplot as plt\n",
    "\n",
    "g = struct.graph.to_networkx()\n",
    "labels = nx.get_node_attributes(g, 'class_name') \n",
    "nx.draw(g, labels=labels)"
   ]
  },
  {
   "cell_type": "markdown",
   "metadata": {},
   "source": [
    "currently we only support at most one executable path after filtering."
   ]
  },
  {
   "cell_type": "code",
   "execution_count": 7,
   "metadata": {},
   "outputs": [],
   "source": [
    "## output_parser_func parameter: agent self\n",
    "def output_parser(agent):\n",
    "    return agent.executable.responses\n",
    "\n",
    "executable = ExecutableBranch(verbose=False)   # with verbose=False, the intermediate steps will not be printed"
   ]
  },
  {
   "cell_type": "code",
   "execution_count": 8,
   "metadata": {},
   "outputs": [],
   "source": [
    "calc = BaseAgent(structure=struct, executable_obj=executable, output_parser=output_parser)"
   ]
  },
  {
   "cell_type": "code",
   "execution_count": 9,
   "metadata": {},
   "outputs": [],
   "source": [
    "result = await calc.execute(context = {\"x\": -6, \"y\": 0, \"case\": 0})"
   ]
  },
  {
   "cell_type": "code",
   "execution_count": 10,
   "metadata": {},
   "outputs": [
    {
     "data": {
      "text/html": [
       "<div>\n",
       "<style scoped>\n",
       "    .dataframe tbody tr th:only-of-type {\n",
       "        vertical-align: middle;\n",
       "    }\n",
       "\n",
       "    .dataframe tbody tr th {\n",
       "        vertical-align: top;\n",
       "    }\n",
       "\n",
       "    .dataframe thead th {\n",
       "        text-align: right;\n",
       "    }\n",
       "</style>\n",
       "<table border=\"1\" class=\"dataframe\">\n",
       "  <thead>\n",
       "    <tr style=\"text-align: right;\">\n",
       "      <th></th>\n",
       "      <th>node_id</th>\n",
       "      <th>timestamp</th>\n",
       "      <th>role</th>\n",
       "      <th>sender</th>\n",
       "      <th>recipient</th>\n",
       "      <th>content</th>\n",
       "    </tr>\n",
       "  </thead>\n",
       "  <tbody>\n",
       "    <tr>\n",
       "      <th>0</th>\n",
       "      <td>ff7a94ad8acdfded416ecd6584576a10</td>\n",
       "      <td>2024_03_21T14_20_52_511307+00_00</td>\n",
       "      <td>system</td>\n",
       "      <td>system</td>\n",
       "      <td>assistant</td>\n",
       "      <td>{\"system_info\": \"You are asked to perform as a...</td>\n",
       "    </tr>\n",
       "    <tr>\n",
       "      <th>1</th>\n",
       "      <td>7333b6b92f11e9a25e59a9926fcfe769</td>\n",
       "      <td>2024_03_21T14_20_52_511371+00_00</td>\n",
       "      <td>user</td>\n",
       "      <td>user</td>\n",
       "      <td>assistant</td>\n",
       "      <td>{\"instruction\": {\"sum the absolute values\": \"p...</td>\n",
       "    </tr>\n",
       "    <tr>\n",
       "      <th>2</th>\n",
       "      <td>d2b5b19a82800d7212b070f117e71b40</td>\n",
       "      <td>2024_03_21T14_20_56_014597+00_00</td>\n",
       "      <td>assistant</td>\n",
       "      <td>assistant</td>\n",
       "      <td>user</td>\n",
       "      <td>{\"response\": \"6\"}</td>\n",
       "    </tr>\n",
       "    <tr>\n",
       "      <th>3</th>\n",
       "      <td>29a013ab732602f14bfb291e86a1421e</td>\n",
       "      <td>2024_03_21T14_20_52_511430+00_00</td>\n",
       "      <td>user</td>\n",
       "      <td>user</td>\n",
       "      <td>assistant</td>\n",
       "      <td>{\"instruction\": {\"if previous response is posi...</td>\n",
       "    </tr>\n",
       "    <tr>\n",
       "      <th>4</th>\n",
       "      <td>ad06cee66388d1700dec8deb0d846628</td>\n",
       "      <td>2024_03_21T14_20_58_404895+00_00</td>\n",
       "      <td>assistant</td>\n",
       "      <td>assistant</td>\n",
       "      <td>user</td>\n",
       "      <td>{\"response\": \"12\"}</td>\n",
       "    </tr>\n",
       "  </tbody>\n",
       "</table>\n",
       "</div>"
      ],
      "text/plain": [
       "                            node_id                         timestamp  \\\n",
       "0  ff7a94ad8acdfded416ecd6584576a10  2024_03_21T14_20_52_511307+00_00   \n",
       "1  7333b6b92f11e9a25e59a9926fcfe769  2024_03_21T14_20_52_511371+00_00   \n",
       "2  d2b5b19a82800d7212b070f117e71b40  2024_03_21T14_20_56_014597+00_00   \n",
       "3  29a013ab732602f14bfb291e86a1421e  2024_03_21T14_20_52_511430+00_00   \n",
       "4  ad06cee66388d1700dec8deb0d846628  2024_03_21T14_20_58_404895+00_00   \n",
       "\n",
       "        role     sender  recipient  \\\n",
       "0     system     system  assistant   \n",
       "1       user       user  assistant   \n",
       "2  assistant  assistant       user   \n",
       "3       user       user  assistant   \n",
       "4  assistant  assistant       user   \n",
       "\n",
       "                                             content  \n",
       "0  {\"system_info\": \"You are asked to perform as a...  \n",
       "1  {\"instruction\": {\"sum the absolute values\": \"p...  \n",
       "2                                  {\"response\": \"6\"}  \n",
       "3  {\"instruction\": {\"if previous response is posi...  \n",
       "4                                 {\"response\": \"12\"}  "
      ]
     },
     "execution_count": 10,
     "metadata": {},
     "output_type": "execute_result"
    }
   ],
   "source": [
    "calc.executable.branch.messages"
   ]
  }
 ],
 "metadata": {
  "kernelspec": {
   "display_name": ".venv",
   "language": "python",
   "name": "python3"
  },
  "language_info": {
   "codemirror_mode": {
    "name": "ipython",
    "version": 3
   },
   "file_extension": ".py",
   "mimetype": "text/x-python",
   "name": "python",
   "nbconvert_exporter": "python",
   "pygments_lexer": "ipython3",
   "version": "3.10.6"
  }
 },
 "nbformat": 4,
 "nbformat_minor": 2
}
