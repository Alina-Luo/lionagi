{
 "cells": [
  {
   "cell_type": "markdown",
   "metadata": {},
   "source": [
    "# Create Graph-based Structure"
   ]
  },
  {
   "cell_type": "code",
   "execution_count": 1,
   "metadata": {},
   "outputs": [],
   "source": [
    "from lionagi.core import System, Instruction\n",
    "\n",
    "system = System(\n",
    "    \"You are asked to perform as a calculator. Return only a numeric value, i.e. int or float, no text.\"\n",
    ")\n",
    "\n",
    "instruct1 = Instruction(\n",
    "    instruction={\n",
    "        \"sum the absolute values\": \"provided with 2 numbers, return the sum of their absolute values. i.e. |x|+|y|\",\n",
    "    }\n",
    ")\n",
    "\n",
    "instruct2 = Instruction(\n",
    "    instruction={\n",
    "        \"diff the absolute values\": \"provided with 2 numbers, return the difference of absolute values. i.e. |x|-|y|\",\n",
    "    }\n",
    ")\n",
    "\n",
    "instruct3 = Instruction(\n",
    "    instruction={\n",
    "        \"if previous response is positive\": \"times 2. i.e. *2\",  # case 0\n",
    "        \"else\": \"plus 2. i.e. +2\",  # case 1\n",
    "    }\n",
    ")"
   ]
  },
  {
   "cell_type": "code",
   "execution_count": 2,
   "metadata": {},
   "outputs": [],
   "source": [
    "from lionagi.core import Structure\n",
    "\n",
    "struct = Structure()\n",
    "struct.add_node(system)\n",
    "struct.add_node(instruct1)\n",
    "struct.add_node(instruct2)\n",
    "struct.add_node(instruct3)"
   ]
  },
  {
   "cell_type": "markdown",
   "metadata": {},
   "source": [
    "### Create Relationship Conditions"
   ]
  },
  {
   "cell_type": "markdown",
   "metadata": {},
   "source": [
    "Conditions help filter the path to be executed.\n",
    "It has to be an implemented subclass of Condition class.\n",
    "\n",
    "There are two functions in Condition class:\n",
    "\n",
    "```python\n",
    "def __init__(self, source_type)\n",
    "```\n",
    "\n",
    "`source_type` can only be \"structure\" or \"executable\"\n",
    "\n",
    "```python\n",
    "@abstractmethod\n",
    "def __call__(self, source)\n",
    "```\n",
    "\n",
    "All information in the structure and executable object is available for checking. \n",
    "`__call__` is expected to return a bool. If True, the path is selected.\n",
    "\n",
    "If the `source_type` is \"structure\", the `source` is expected to be the structure object in the agent when checking the condition. \n",
    "\n",
    "If the `source_type` is \"executable\", the `source` is expected to be the executable object in the agent when checking the condition."
   ]
  },
  {
   "cell_type": "code",
   "execution_count": 3,
   "metadata": {},
   "outputs": [],
   "source": [
    "from lionagi.core import Condition\n",
    "\n",
    "\n",
    "class CaseCondition(Condition):\n",
    "    def __init__(self, case):\n",
    "        super().__init__(\"executable\")\n",
    "        self.case = case\n",
    "\n",
    "    def __call__(self, executable):\n",
    "        case = executable.context[\"case\"]\n",
    "        return case == self.case\n",
    "\n",
    "\n",
    "cond0 = CaseCondition(case=0)\n",
    "cond1 = CaseCondition(case=1)"
   ]
  },
  {
   "cell_type": "markdown",
   "metadata": {},
   "source": [
    "### Build Relationships with Conditions"
   ]
  },
  {
   "cell_type": "markdown",
   "metadata": {},
   "source": [
    "In the example, if `case` is 0, execute `instruct1`, or if `case` is 1, execute `instruct2`.\n",
    "\n",
    "Then, execute `instruct3`."
   ]
  },
  {
   "cell_type": "code",
   "execution_count": 4,
   "metadata": {},
   "outputs": [],
   "source": [
    "struct.add_relationship(system, instruct1, condition=cond0)\n",
    "struct.add_relationship(system, instruct2, condition=cond1)\n",
    "struct.add_relationship(instruct1, instruct3)\n",
    "struct.add_relationship(instruct2, instruct3)"
   ]
  },
  {
   "cell_type": "code",
   "execution_count": 5,
   "metadata": {},
   "outputs": [],
   "source": [
    "# %pip install networkx"
   ]
  },
  {
   "cell_type": "code",
   "execution_count": 6,
   "metadata": {},
   "outputs": [
    {
     "data": {
      "image/png": "[encoded data removed]",
      "text/plain": [
       "<Figure size 640x480 with 1 Axes>"
      ]
     },
     "metadata": {},
     "output_type": "display_data"
    }
   ],
   "source": [
    "import networkx as nx\n",
    "\n",
    "g = struct.graph.to_networkx()\n",
    "labels = nx.get_node_attributes(g, \"class_name\")\n",
    "nx.draw(g, labels=labels)"
   ]
  },
  {
   "cell_type": "markdown",
   "metadata": {},
   "source": [
    "currently we only support at most one executable path after filtering."
   ]
  },
  {
   "cell_type": "code",
   "execution_count": 7,
   "metadata": {},
   "outputs": [],
   "source": [
    "from lionagi.core import ExecutableBranch, BaseAgent\n",
    "\n",
    "\n",
    "# output_parser_func parameter: agent self\n",
    "def output_parser(agent):\n",
    "    return agent.executable.responses\n",
    "\n",
    "\n",
    "executable = ExecutableBranch(\n",
    "    verbose=False\n",
    ")  # with verbose=False, the intermediate steps will not be printed\n",
    "\n",
    "calc = BaseAgent(\n",
    "    structure=struct, executable_obj=executable, output_parser=output_parser\n",
    ")"
   ]
  },
  {
   "cell_type": "code",
   "execution_count": 8,
   "metadata": {},
   "outputs": [],
   "source": [
    "result = await calc.execute(context={\"x\": -6, \"y\": 0, \"case\": 0})"
   ]
  },
  {
   "cell_type": "code",
   "execution_count": 9,
   "metadata": {},
   "outputs": [
    {
     "data": {
      "text/html": [
       "<div>\n",
       "<style scoped>\n",
       "    .dataframe tbody tr th:only-of-type {\n",
       "        vertical-align: middle;\n",
       "    }\n",
       "\n",
       "    .dataframe tbody tr th {\n",
       "        vertical-align: top;\n",
       "    }\n",
       "\n",
       "    .dataframe thead th {\n",
       "        text-align: right;\n",
       "    }\n",
       "</style>\n",
       "<table border=\"1\" class=\"dataframe\">\n",
       "  <thead>\n",
       "    <tr style=\"text-align: right;\">\n",
       "      <th></th>\n",
       "      <th>node_id</th>\n",
       "      <th>timestamp</th>\n",
       "      <th>role</th>\n",
       "      <th>sender</th>\n",
       "      <th>recipient</th>\n",
       "      <th>content</th>\n",
       "    </tr>\n",
       "  </thead>\n",
       "  <tbody>\n",
       "    <tr>\n",
       "      <th>0</th>\n",
       "      <td>0cb16a5cbfe2b673519d8fda59d3d504</td>\n",
       "      <td>2024_03_22T15_00_18_081195+00_00</td>\n",
       "      <td>system</td>\n",
       "      <td>system</td>\n",
       "      <td>assistant</td>\n",
       "      <td>{\"system_info\": \"You are asked to perform as a...</td>\n",
       "    </tr>\n",
       "    <tr>\n",
       "      <th>1</th>\n",
       "      <td>ceda8825058efe446c3eeedd4ef342fb</td>\n",
       "      <td>2024_03_22T15_00_18_081229+00_00</td>\n",
       "      <td>user</td>\n",
       "      <td>user</td>\n",
       "      <td>assistant</td>\n",
       "      <td>{\"instruction\": {\"sum the absolute values\": \"p...</td>\n",
       "    </tr>\n",
       "    <tr>\n",
       "      <th>2</th>\n",
       "      <td>34929b94b0e2b2191fd6666a6ae3e1cd</td>\n",
       "      <td>2024_03_22T15_00_20_291491+00_00</td>\n",
       "      <td>assistant</td>\n",
       "      <td>assistant</td>\n",
       "      <td>user</td>\n",
       "      <td>{\"response\": \"6\"}</td>\n",
       "    </tr>\n",
       "    <tr>\n",
       "      <th>3</th>\n",
       "      <td>35bdb21c06130aa90efde79800c0ba71</td>\n",
       "      <td>2024_03_22T15_00_18_081271+00_00</td>\n",
       "      <td>user</td>\n",
       "      <td>user</td>\n",
       "      <td>assistant</td>\n",
       "      <td>{\"instruction\": {\"if previous response is posi...</td>\n",
       "    </tr>\n",
       "    <tr>\n",
       "      <th>4</th>\n",
       "      <td>b0cadca930b58607c95cb3d865f4314a</td>\n",
       "      <td>2024_03_22T15_00_23_085179+00_00</td>\n",
       "      <td>assistant</td>\n",
       "      <td>assistant</td>\n",
       "      <td>user</td>\n",
       "      <td>{\"response\": \"12\"}</td>\n",
       "    </tr>\n",
       "  </tbody>\n",
       "</table>\n",
       "</div>"
      ],
      "text/plain": [
       "                            node_id                         timestamp  \\\n",
       "0  0cb16a5cbfe2b673519d8fda59d3d504  2024_03_22T15_00_18_081195+00_00   \n",
       "1  ceda8825058efe446c3eeedd4ef342fb  2024_03_22T15_00_18_081229+00_00   \n",
       "2  34929b94b0e2b2191fd6666a6ae3e1cd  2024_03_22T15_00_20_291491+00_00   \n",
       "3  35bdb21c06130aa90efde79800c0ba71  2024_03_22T15_00_18_081271+00_00   \n",
       "4  b0cadca930b58607c95cb3d865f4314a  2024_03_22T15_00_23_085179+00_00   \n",
       "\n",
       "        role     sender  recipient  \\\n",
       "0     system     system  assistant   \n",
       "1       user       user  assistant   \n",
       "2  assistant  assistant       user   \n",
       "3       user       user  assistant   \n",
       "4  assistant  assistant       user   \n",
       "\n",
       "                                             content  \n",
       "0  {\"system_info\": \"You are asked to perform as a...  \n",
       "1  {\"instruction\": {\"sum the absolute values\": \"p...  \n",
       "2                                  {\"response\": \"6\"}  \n",
       "3  {\"instruction\": {\"if previous response is posi...  \n",
       "4                                 {\"response\": \"12\"}  "
      ]
     },
     "execution_count": 9,
     "metadata": {},
     "output_type": "execute_result"
    }
   ],
   "source": [
    "calc.executable.branch.messages"
   ]
  }
 ],
 "metadata": {
  "kernelspec": {
   "display_name": ".venv",
   "language": "python",
   "name": "python3"
  },
  "language_info": {
   "codemirror_mode": {
    "name": "ipython",
    "version": 3
   },
   "file_extension": ".py",
   "mimetype": "text/x-python",
   "name": "python",
   "nbconvert_exporter": "python",
   "pygments_lexer": "ipython3",
   "version": "3.11.6"
  }
 },
 "nbformat": 4,
 "nbformat_minor": 2
}
