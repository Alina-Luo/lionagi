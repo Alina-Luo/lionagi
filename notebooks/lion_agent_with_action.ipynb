{
 "cells": [
  {
   "cell_type": "code",
   "execution_count": 1,
   "metadata": {},
   "outputs": [],
   "source": [
    "from lionagi.core.messages import Instruction, System\n",
    "from lionagi.core.schema.structure import Structure\n",
    "from lionagi.core.agent.base_agent import BaseAgent\n",
    "from lionagi.core.branch.executable_branch import ExecutableBranch"
   ]
  },
  {
   "cell_type": "code",
   "execution_count": 2,
   "metadata": {},
   "outputs": [],
   "source": [
    "from lionagi.core.tool.tool_manager import func_to_tool\n",
    "from lionagi.core.schema.action_node import ActionSelection"
   ]
  },
  {
   "cell_type": "code",
   "execution_count": 3,
   "metadata": {},
   "outputs": [],
   "source": [
    "def multiply(number1: float, number2: float):\n",
    "    \"\"\"\n",
    "    Perform multiplication on two numbers.\n",
    "\n",
    "    Args:\n",
    "        number1: First number to multiply.\n",
    "        number2: Second number to multiply.\n",
    "\n",
    "    Returns:\n",
    "        The product of number1 and number2.\n",
    "\n",
    "    \"\"\"\n",
    "    return number1 * number2\n",
    "\n",
    "\n",
    "tool_m = func_to_tool(multiply)"
   ]
  },
  {
   "cell_type": "code",
   "execution_count": 4,
   "metadata": {},
   "outputs": [],
   "source": [
    "action = ActionSelection(\n",
    "    action=\"ReAct\", action_kwargs={\"auto\": True}\n",
    ")  # action: any availble flow functions, default to 'chat'"
   ]
  },
  {
   "cell_type": "code",
   "execution_count": 5,
   "metadata": {},
   "outputs": [],
   "source": [
    "sys_mul = System(\n",
    "    system=\"you are asked to perform as a function picker and parameter provider\"\n",
    ")\n",
    "instruction = Instruction(\n",
    "    instruction=\"Think step by step, understand the following basic math question and provide parameters for function calling.\"\n",
    ")"
   ]
  },
  {
   "cell_type": "code",
   "execution_count": 6,
   "metadata": {},
   "outputs": [],
   "source": [
    "question1 = \"A school is ordering laptops for its students. If each classroom has 25 students and the school wants to provide a laptop for each student in its 8 classrooms, how many laptops in total does the school need to order?\"\n",
    "question2 = \"A bakery sells cupcakes in boxes of 6. If a customer wants to buy enough cupcakes for a party of 48 people, with each person getting one cupcake, how many boxes of cupcakes does the customer need to buy?\"\n",
    "\n",
    "import json\n",
    "\n",
    "context = {\"Question1\": question1, \"question2\": question2}\n",
    "context = json.dumps(context)"
   ]
  },
  {
   "cell_type": "code",
   "execution_count": 7,
   "metadata": {},
   "outputs": [],
   "source": [
    "struct_mul = Structure()\n",
    "struct_mul.add_node(sys_mul)\n",
    "struct_mul.add_node(instruction)\n",
    "struct_mul.add_node(tool_m[0])\n",
    "struct_mul.add_node(action)\n",
    "struct_mul.add_relationship(sys_mul, instruction)\n",
    "struct_mul.add_relationship(instruction, tool_m[0])\n",
    "struct_mul.add_relationship(instruction, action)"
   ]
  },
  {
   "cell_type": "code",
   "execution_count": 8,
   "metadata": {},
   "outputs": [
    {
     "data": {
      "image/png": "[encoded data removed]",
      "text/plain": [
       "<Figure size 640x480 with 1 Axes>"
      ]
     },
     "metadata": {},
     "output_type": "display_data"
    }
   ],
   "source": [
    "import networkx as nx\n",
    "import matplotlib.pyplot as plt\n",
    "\n",
    "g = struct_mul.graph.to_networkx()\n",
    "labels = nx.get_node_attributes(g, \"class_name\")\n",
    "nx.draw(g, labels=labels)"
   ]
  },
  {
   "cell_type": "code",
   "execution_count": 9,
   "metadata": {},
   "outputs": [],
   "source": [
    "## output_parser_func parameter: agent self\n",
    "def multiply_output_parser(agent):\n",
    "    return agent.executable.responses\n",
    "\n",
    "\n",
    "executable = ExecutableBranch()"
   ]
  },
  {
   "cell_type": "code",
   "execution_count": 10,
   "metadata": {},
   "outputs": [],
   "source": [
    "calc = BaseAgent(\n",
    "    structure=struct_mul,\n",
    "    executable_obj=executable,\n",
    "    output_parser=multiply_output_parser,\n",
    ")"
   ]
  },
  {
   "cell_type": "code",
   "execution_count": 11,
   "metadata": {},
   "outputs": [
    {
     "name": "stdout",
     "output_type": "stream",
     "text": [
      "------------------Welcome: system--------------------\n"
     ]
    },
    {
     "data": {
      "text/markdown": [
       "system: you are asked to perform as a function picker and parameter provider"
      ],
      "text/plain": [
       "<IPython.core.display.Markdown object>"
      ]
     },
     "metadata": {},
     "output_type": "display_data"
    },
    {
     "data": {
      "text/markdown": [
       "user: Think step by step, understand the following basic math question and provide parameters for function calling."
      ],
      "text/plain": [
       "<IPython.core.display.Markdown object>"
      ]
     },
     "metadata": {},
     "output_type": "display_data"
    },
    {
     "data": {
      "text/markdown": [
       "assistant: None"
      ],
      "text/plain": [
       "<IPython.core.display.Markdown object>"
      ]
     },
     "metadata": {},
     "output_type": "display_data"
    },
    {
     "name": "stdout",
     "output_type": "stream",
     "text": [
      "-----------------------------------------------------\n"
     ]
    }
   ],
   "source": [
    "result = await calc.execute(context=context)"
   ]
  },
  {
   "cell_type": "code",
   "execution_count": 12,
   "metadata": {},
   "outputs": [
    {
     "name": "stdout",
     "output_type": "stream",
     "text": [
      "{\"system_info\": \"you are asked to perform as a function picker and parameter provider\"}\n",
      "{\"instruction\": {\"Notice\": \"\\nyou have 2 step left in current task. if available, integrate previous tool responses. perform reasoning and prepare action plan according to available tools only, apply divide and conquer technique.\\n\", \"Task\": \"Think step by step, understand the following basic math question and provide parameters for function calling.\"}, \"context\": \"{\\\"Question1\\\": \\\"A school is ordering laptops for its students. If each classroom has 25 students and the school wants to provide a laptop for each student in its 8 classrooms, how many laptops in total does the school need to order?\\\", \\\"question2\\\": \\\"A bakery sells cupcakes in boxes of 6. If a customer wants to buy enough cupcakes for a party of 48 people, with each person getting one cupcake, how many boxes of cupcakes does the customer need to buy?\\\"}\"}\n",
      "{\"response\": \"To address the given task, we need to solve two basic math problems step by step, integrating the divide and conquer technique and preparing an action plan for function calling. Let's break down each question into smaller, manageable steps and identify the parameters needed for function calling.\\n\\n### Question 1: School Laptops\\n\\n**Task:**\\nCalculate the total number of laptops needed for the students in a school, given that each classroom has 25 students, and there are 8 classrooms in total.\\n\\n**Divide and Conquer Approach:**\\n1. **Divide:** Break down the problem into smaller parts - find the number of students per classroom and the total number of classrooms.\\n2. **Conquer:** Multiply the number of students per classroom by the total number of classrooms to find the total number of laptops needed.\\n3. **Integrate:** Use the result as the final answer.\\n\\n**Parameters for Function Calling:**\\n- Function: `calculate_total_items`\\n- Parameters:\\n  - `items_per_group`: 25 (students per classroom)\\n  - `number_of_groups`: 8 (classrooms)\\n\\n### Question 2: Cupcake Boxes\\n\\n**Task:**\\nDetermine how many boxes of cupcakes a customer needs to buy for a party of 48 people, with each person getting one cupcake and each box containing 6 cupcakes.\\n\\n**Divide and Conquer Approach:**\\n1. **Divide:** Identify the total number of cupcakes needed (equal to the number of people at the party) and the number of cupcakes per box.\\n2. **Conquer:** Divide the total number of cupcakes needed by the number of cupcakes per box to find the total number of boxes needed. If there's a remainder, round up since you can't buy a fraction of a box.\\n3. **Integrate:** Use the result as the final answer, ensuring any fractional part of a box is considered as an additional whole box to be purchased.\\n\\n**Parameters for Function Calling:**\\n- Function: `calculate_total_boxes_needed`\\n- Parameters:\\n  - `total_items_needed`: 48 (cupcakes/people)\\n  - `items_per_box`: 6 (cupcakes per box)\\n\\nBy breaking down each problem using the divide and conquer technique, we've identified the specific steps and parameters needed for function calling to solve each mathematical question effectively.\"}\n",
      "{\"instruction\": \"\\nyou have 1 step left in current task, if further actions are needed, invoke tools usage. If you are done, present the final result to user without further tool usage\\n\"}\n",
      "{\"action_request\": [{\"action\": \"action_multiply\", \"arguments\": \"{\\\"number1\\\": 25, \\\"number2\\\": 8}\"}, {\"action\": \"action_multiply\", \"arguments\": \"{\\\"number1\\\": 48, \\\"number2\\\": 1}\"}]}\n",
      "{\"action_response\": {\"function\": \"multiply\", \"arguments\": {\"number1\": 25, \"number2\": 8}, \"output\": 200}}\n",
      "{\"action_response\": {\"function\": \"multiply\", \"arguments\": {\"number1\": 48, \"number2\": 1}, \"output\": 48}}\n"
     ]
    }
   ],
   "source": [
    "for i in calc.executable.branch.messages[\"content\"]:\n",
    "    print(i)"
   ]
  },
  {
   "cell_type": "code",
   "execution_count": 13,
   "metadata": {},
   "outputs": [
    {
     "data": {
      "text/html": [
       "<div>\n",
       "<style scoped>\n",
       "    .dataframe tbody tr th:only-of-type {\n",
       "        vertical-align: middle;\n",
       "    }\n",
       "\n",
       "    .dataframe tbody tr th {\n",
       "        vertical-align: top;\n",
       "    }\n",
       "\n",
       "    .dataframe thead th {\n",
       "        text-align: right;\n",
       "    }\n",
       "</style>\n",
       "<table border=\"1\" class=\"dataframe\">\n",
       "  <thead>\n",
       "    <tr style=\"text-align: right;\">\n",
       "      <th></th>\n",
       "      <th>node_id</th>\n",
       "      <th>timestamp</th>\n",
       "      <th>role</th>\n",
       "      <th>sender</th>\n",
       "      <th>recipient</th>\n",
       "      <th>content</th>\n",
       "    </tr>\n",
       "  </thead>\n",
       "  <tbody>\n",
       "    <tr>\n",
       "      <th>0</th>\n",
       "      <td>8b7afd37c865c7f78480313c9e975062</td>\n",
       "      <td>2024_03_21T15_08_27_203139+00_00</td>\n",
       "      <td>system</td>\n",
       "      <td>system</td>\n",
       "      <td>assistant</td>\n",
       "      <td>{\"system_info\": \"you are asked to perform as a...</td>\n",
       "    </tr>\n",
       "    <tr>\n",
       "      <th>1</th>\n",
       "      <td>33db336a7392c8c34be074fdd4c65d34</td>\n",
       "      <td>2024_03_21T15_08_28_094021+00_00</td>\n",
       "      <td>user</td>\n",
       "      <td>user</td>\n",
       "      <td>assistant</td>\n",
       "      <td>{\"instruction\": {\"Notice\": \"\\nyou have 2 step ...</td>\n",
       "    </tr>\n",
       "    <tr>\n",
       "      <th>2</th>\n",
       "      <td>04d9b5cf4d4489b820e05acefb421f0d</td>\n",
       "      <td>2024_03_21T15_09_04_307288+00_00</td>\n",
       "      <td>assistant</td>\n",
       "      <td>assistant</td>\n",
       "      <td>user</td>\n",
       "      <td>{\"response\": \"To address the given task, we ne...</td>\n",
       "    </tr>\n",
       "    <tr>\n",
       "      <th>3</th>\n",
       "      <td>241373b2edfb6f23290bae18f9898ca6</td>\n",
       "      <td>2024_03_21T15_09_04_310007+00_00</td>\n",
       "      <td>user</td>\n",
       "      <td>user</td>\n",
       "      <td>assistant</td>\n",
       "      <td>{\"instruction\": \"\\nyou have 1 step left in cur...</td>\n",
       "    </tr>\n",
       "    <tr>\n",
       "      <th>4</th>\n",
       "      <td>1feb190bfd2ec81cde767f42eb987290</td>\n",
       "      <td>2024_03_21T15_09_07_761085+00_00</td>\n",
       "      <td>assistant</td>\n",
       "      <td>action_request</td>\n",
       "      <td>action</td>\n",
       "      <td>{\"action_request\": [{\"action\": \"action_multipl...</td>\n",
       "    </tr>\n",
       "    <tr>\n",
       "      <th>5</th>\n",
       "      <td>a8816241d62bcdba87da88275dfc6f70</td>\n",
       "      <td>2024_03_21T15_09_07_763517+00_00</td>\n",
       "      <td>assistant</td>\n",
       "      <td>action_response</td>\n",
       "      <td>assistant</td>\n",
       "      <td>{\"action_response\": {\"function\": \"multiply\", \"...</td>\n",
       "    </tr>\n",
       "    <tr>\n",
       "      <th>6</th>\n",
       "      <td>b78ad1f1e1d2aef2abd8d125266550df</td>\n",
       "      <td>2024_03_21T15_09_07_764525+00_00</td>\n",
       "      <td>assistant</td>\n",
       "      <td>action_response</td>\n",
       "      <td>assistant</td>\n",
       "      <td>{\"action_response\": {\"function\": \"multiply\", \"...</td>\n",
       "    </tr>\n",
       "  </tbody>\n",
       "</table>\n",
       "</div>"
      ],
      "text/plain": [
       "                            node_id                         timestamp  \\\n",
       "0  8b7afd37c865c7f78480313c9e975062  2024_03_21T15_08_27_203139+00_00   \n",
       "1  33db336a7392c8c34be074fdd4c65d34  2024_03_21T15_08_28_094021+00_00   \n",
       "2  04d9b5cf4d4489b820e05acefb421f0d  2024_03_21T15_09_04_307288+00_00   \n",
       "3  241373b2edfb6f23290bae18f9898ca6  2024_03_21T15_09_04_310007+00_00   \n",
       "4  1feb190bfd2ec81cde767f42eb987290  2024_03_21T15_09_07_761085+00_00   \n",
       "5  a8816241d62bcdba87da88275dfc6f70  2024_03_21T15_09_07_763517+00_00   \n",
       "6  b78ad1f1e1d2aef2abd8d125266550df  2024_03_21T15_09_07_764525+00_00   \n",
       "\n",
       "        role           sender  recipient  \\\n",
       "0     system           system  assistant   \n",
       "1       user             user  assistant   \n",
       "2  assistant        assistant       user   \n",
       "3       user             user  assistant   \n",
       "4  assistant   action_request     action   \n",
       "5  assistant  action_response  assistant   \n",
       "6  assistant  action_response  assistant   \n",
       "\n",
       "                                             content  \n",
       "0  {\"system_info\": \"you are asked to perform as a...  \n",
       "1  {\"instruction\": {\"Notice\": \"\\nyou have 2 step ...  \n",
       "2  {\"response\": \"To address the given task, we ne...  \n",
       "3  {\"instruction\": \"\\nyou have 1 step left in cur...  \n",
       "4  {\"action_request\": [{\"action\": \"action_multipl...  \n",
       "5  {\"action_response\": {\"function\": \"multiply\", \"...  \n",
       "6  {\"action_response\": {\"function\": \"multiply\", \"...  "
      ]
     },
     "execution_count": 13,
     "metadata": {},
     "output_type": "execute_result"
    }
   ],
   "source": [
    "calc.executable.branch.messages"
   ]
  }
 ],
 "metadata": {
  "kernelspec": {
   "display_name": ".venv",
   "language": "python",
   "name": "python3"
  },
  "language_info": {
   "codemirror_mode": {
    "name": "ipython",
    "version": 3
   },
   "file_extension": ".py",
   "mimetype": "text/x-python",
   "name": "python",
   "nbconvert_exporter": "python",
   "pygments_lexer": "ipython3",
   "version": "3.10.6"
  }
 },
 "nbformat": 4,
 "nbformat_minor": 2
}
