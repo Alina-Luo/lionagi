{
 "cells": [
  {
   "cell_type": "code",
   "execution_count": 1,
   "metadata": {},
   "outputs": [],
   "source": [
    "from lionagi.core import System, Instruction\n",
    "\n",
    "sys_mul = System(\"you are asked to perform as a function picker and parameter provider\")\n",
    "instruction = Instruction(\n",
    "    \"Think step by step, understand the following basic math question and provide parameters for function calling.\"\n",
    ")\n",
    "\n",
    "question1 = \"A school is ordering laptops for its students. If each classroom has 25 students and the school wants to provide a laptop for each student in its 8 classrooms, how many laptops in total does the school need to order?\"\n",
    "question2 = \"A bakery sells cupcakes in boxes of 6. If a customer wants to buy enough cupcakes for a party of 48 people, with each person getting one cupcake, how many boxes of cupcakes does the customer need to buy?\"\n",
    "\n",
    "context = {\"Question1\": question1, \"question2\": question2}"
   ]
  },
  {
   "cell_type": "code",
   "execution_count": 2,
   "metadata": {},
   "outputs": [],
   "source": [
    "from lionagi.core import func_to_tool\n",
    "\n",
    "\n",
    "def multiply(number1: float, number2: float):\n",
    "    \"\"\"\n",
    "    Perform multiplication on two numbers.\n",
    "\n",
    "    Args:\n",
    "        number1: First number to multiply.\n",
    "        number2: Second number to multiply.\n",
    "\n",
    "    Returns:\n",
    "        The product of number1 and number2.\n",
    "\n",
    "    \"\"\"\n",
    "    return number1 * number2\n",
    "\n",
    "\n",
    "tool_m = func_to_tool(multiply)"
   ]
  },
  {
   "cell_type": "code",
   "execution_count": 3,
   "metadata": {},
   "outputs": [],
   "source": [
    "from lionagi.core import ActionSelection\n",
    "\n",
    "action = ActionSelection(\n",
    "    action=\"ReAct\", action_kwargs={\"auto\": True}\n",
    ")  # action: any availble flow functions, default to 'chat'"
   ]
  },
  {
   "cell_type": "code",
   "execution_count": 4,
   "metadata": {},
   "outputs": [],
   "source": [
    "from lionagi.core import Structure\n",
    "\n",
    "struct_mul = Structure()\n",
    "struct_mul.add_node(sys_mul)\n",
    "struct_mul.add_node(instruction)\n",
    "struct_mul.add_node(tool_m[0])\n",
    "struct_mul.add_node(action)\n",
    "struct_mul.add_relationship(sys_mul, instruction)\n",
    "struct_mul.add_relationship(instruction, tool_m[0])\n",
    "struct_mul.add_relationship(instruction, action)"
   ]
  },
  {
   "cell_type": "code",
   "execution_count": 5,
   "metadata": {},
   "outputs": [],
   "source": [
    "# %pip install networkx"
   ]
  },
  {
   "cell_type": "code",
   "execution_count": 6,
   "metadata": {},
   "outputs": [
    {
     "data": {
      "image/png": "[encoded data removed]",
      "text/plain": [
       "<Figure size 640x480 with 1 Axes>"
      ]
     },
     "metadata": {},
     "output_type": "display_data"
    }
   ],
   "source": [
    "import networkx as nx\n",
    "import matplotlib.pyplot as plt\n",
    "\n",
    "g = struct_mul.graph.to_networkx()\n",
    "labels = nx.get_node_attributes(g, \"class_name\")\n",
    "nx.draw(g, labels=labels)"
   ]
  },
  {
   "cell_type": "code",
   "execution_count": 7,
   "metadata": {},
   "outputs": [],
   "source": [
    "from lionagi.core import ExecutableBranch, BaseAgent\n",
    "\n",
    "\n",
    "# output_parser_func parameter: agent self\n",
    "def multiply_output_parser(agent):\n",
    "    return agent.executable.responses\n",
    "\n",
    "\n",
    "executable = ExecutableBranch()\n",
    "\n",
    "calc = BaseAgent(\n",
    "    structure=struct_mul,\n",
    "    executable_obj=executable,\n",
    "    output_parser=multiply_output_parser,\n",
    ")"
   ]
  },
  {
   "cell_type": "code",
   "execution_count": 8,
   "metadata": {},
   "outputs": [
    {
     "name": "stdout",
     "output_type": "stream",
     "text": [
      "------------------Welcome: system--------------------\n"
     ]
    },
    {
     "data": {
      "text/markdown": [
       "system: you are asked to perform as a function picker and parameter provider"
      ],
      "text/plain": [
       "<IPython.core.display.Markdown object>"
      ]
     },
     "metadata": {},
     "output_type": "display_data"
    },
    {
     "data": {
      "text/markdown": [
       "user: Think step by step, understand the following basic math question and provide parameters for function calling."
      ],
      "text/plain": [
       "<IPython.core.display.Markdown object>"
      ]
     },
     "metadata": {},
     "output_type": "display_data"
    },
    {
     "data": {
      "text/markdown": [
       "assistant: None"
      ],
      "text/plain": [
       "<IPython.core.display.Markdown object>"
      ]
     },
     "metadata": {},
     "output_type": "display_data"
    },
    {
     "name": "stdout",
     "output_type": "stream",
     "text": [
      "-----------------------------------------------------\n"
     ]
    }
   ],
   "source": [
    "result = await calc.execute(context=context)"
   ]
  },
  {
   "cell_type": "code",
   "execution_count": 9,
   "metadata": {},
   "outputs": [
    {
     "name": "stdout",
     "output_type": "stream",
     "text": [
      "{\"system_info\": \"you are asked to perform as a function picker and parameter provider\"}\n",
      "{\"instruction\": {\"Notice\": \"\\nyou have 2 step left in current task. if available, integrate previous tool responses. perform reasoning and prepare action plan according to available tools only, apply divide and conquer technique.\\n\", \"Task\": \"Think step by step, understand the following basic math question and provide parameters for function calling.\"}, \"context\": {\"Question1\": \"A school is ordering laptops for its students. If each classroom has 25 students and the school wants to provide a laptop for each student in its 8 classrooms, how many laptops in total does the school need to order?\", \"question2\": \"A bakery sells cupcakes in boxes of 6. If a customer wants to buy enough cupcakes for a party of 48 people, with each person getting one cupcake, how many boxes of cupcakes does the customer need to buy?\"}}\n",
      "{\"response\": \"### Step 1: Understand the Math Problems\\n\\n#### Problem 1: Calculating Total Laptops Needed\\n- Each classroom has 25 students.\\n- There are 8 classrooms in the school.\\n- The school wants to provide a laptop for each student.\\n  \\nTo find the total number of laptops needed, we need to multiply the number of students in each classroom by the number of classrooms.\\n\\n#### Problem 2: Calculating Boxes of Cupcakes Needed\\n- Each box contains 6 cupcakes.\\n- A party has 48 people, and each person gets one cupcake.\\n  \\nTo find the total number of boxes needed, we divide the total number of people (cupcakes needed) by the number of cupcakes in a box.\\n\\n### Step 2: Divide and Conquer by Preparing Action Plan with Parameters\\n\\n#### Function for Problem 1: Calculate Total Items Needed (Multiplication)\\n- **Function Name:** `calculate_total_items`\\n- **Parameters for Problem 1:**\\n  - `items_per_unit`: 25 (students per classroom)\\n  - `number_of_units`: 8 (classrooms)\\n\\n#### Function for Problem 2: Calculate Boxes Needed (Division)\\n- **Function Name:** `calculate_boxes_needed`\\n- **Parameters for Problem 2:**\\n  - `total_items_needed`: 48 (cupcakes for each person)\\n  - `items_per_box`: 6 (cupcakes per box)\\n\\n### Action Plan\\n1. **Call Function for Problem 1:** Use `calculate_total_items` with `items_per_unit`=25 and `number_of_units`=8 to get the total number of laptops needed.\\n2. **Call Function for Problem 2:** Use `calculate_boxes_needed` with `total_items_needed`=48 and `items_per_box`=6 to get the total number of boxes of cupcakes needed.\\n\\nThis plan directly addresses the questions by applying basic multiplication and division operations, aligning with the divide and conquer strategy by breaking down the problems into actionable steps with clear parameters.\"}\n",
      "{\"instruction\": \"\\nyou have 1 step left in current task, if further actions are needed, invoke tools usage. If you are done, present the final result to user without further tool usage\\n\"}\n",
      "{\"action_request\": [{\"action\": \"action_multiply\", \"arguments\": \"{\\\"number1\\\": 25, \\\"number2\\\": 8}\"}, {\"action\": \"action_multiply\", \"arguments\": \"{\\\"number1\\\": 6, \\\"number2\\\": 8}\"}]}\n",
      "{\"action_response\": {\"function\": \"multiply\", \"arguments\": {\"number1\": 25, \"number2\": 8}, \"output\": 200}}\n",
      "{\"action_response\": {\"function\": \"multiply\", \"arguments\": {\"number1\": 6, \"number2\": 8}, \"output\": 48}}\n"
     ]
    }
   ],
   "source": [
    "for i in calc.executable.branch.messages[\"content\"]:\n",
    "    print(i)"
   ]
  },
  {
   "cell_type": "code",
   "execution_count": 10,
   "metadata": {},
   "outputs": [
    {
     "data": {
      "text/html": [
       "<div>\n",
       "<style scoped>\n",
       "    .dataframe tbody tr th:only-of-type {\n",
       "        vertical-align: middle;\n",
       "    }\n",
       "\n",
       "    .dataframe tbody tr th {\n",
       "        vertical-align: top;\n",
       "    }\n",
       "\n",
       "    .dataframe thead th {\n",
       "        text-align: right;\n",
       "    }\n",
       "</style>\n",
       "<table border=\"1\" class=\"dataframe\">\n",
       "  <thead>\n",
       "    <tr style=\"text-align: right;\">\n",
       "      <th></th>\n",
       "      <th>node_id</th>\n",
       "      <th>timestamp</th>\n",
       "      <th>role</th>\n",
       "      <th>sender</th>\n",
       "      <th>recipient</th>\n",
       "      <th>content</th>\n",
       "    </tr>\n",
       "  </thead>\n",
       "  <tbody>\n",
       "    <tr>\n",
       "      <th>0</th>\n",
       "      <td>4bd57a7969c539b514c9a86ad24591a9</td>\n",
       "      <td>2024_03_22T14_54_02_987501+00_00</td>\n",
       "      <td>system</td>\n",
       "      <td>system</td>\n",
       "      <td>assistant</td>\n",
       "      <td>{\"system_info\": \"you are asked to perform as a...</td>\n",
       "    </tr>\n",
       "    <tr>\n",
       "      <th>1</th>\n",
       "      <td>c36d6f23d03d8ee8869802a77ce676bb</td>\n",
       "      <td>2024_03_22T14_54_03_869417+00_00</td>\n",
       "      <td>user</td>\n",
       "      <td>user</td>\n",
       "      <td>assistant</td>\n",
       "      <td>{\"instruction\": {\"Notice\": \"\\nyou have 2 step ...</td>\n",
       "    </tr>\n",
       "    <tr>\n",
       "      <th>2</th>\n",
       "      <td>3cf87521b815496cbdd6427796ec927a</td>\n",
       "      <td>2024_03_22T14_54_37_144384+00_00</td>\n",
       "      <td>assistant</td>\n",
       "      <td>assistant</td>\n",
       "      <td>user</td>\n",
       "      <td>{\"response\": \"### Step 1: Understand the Math ...</td>\n",
       "    </tr>\n",
       "    <tr>\n",
       "      <th>3</th>\n",
       "      <td>09a717f29a64ca8e07f38913262c73a4</td>\n",
       "      <td>2024_03_22T14_54_37_147019+00_00</td>\n",
       "      <td>user</td>\n",
       "      <td>user</td>\n",
       "      <td>assistant</td>\n",
       "      <td>{\"instruction\": \"\\nyou have 1 step left in cur...</td>\n",
       "    </tr>\n",
       "    <tr>\n",
       "      <th>4</th>\n",
       "      <td>16043e9002ca202931e3eaa80dba2a5c</td>\n",
       "      <td>2024_03_22T14_54_41_236498+00_00</td>\n",
       "      <td>assistant</td>\n",
       "      <td>action_request</td>\n",
       "      <td>action</td>\n",
       "      <td>{\"action_request\": [{\"action\": \"action_multipl...</td>\n",
       "    </tr>\n",
       "    <tr>\n",
       "      <th>5</th>\n",
       "      <td>92ae33a21b69f7b044a1636bde5e4ddb</td>\n",
       "      <td>2024_03_22T14_54_41_237510+00_00</td>\n",
       "      <td>assistant</td>\n",
       "      <td>action_response</td>\n",
       "      <td>assistant</td>\n",
       "      <td>{\"action_response\": {\"function\": \"multiply\", \"...</td>\n",
       "    </tr>\n",
       "    <tr>\n",
       "      <th>6</th>\n",
       "      <td>87b031dbe0336900fd31419f5cb94a33</td>\n",
       "      <td>2024_03_22T14_54_41_237956+00_00</td>\n",
       "      <td>assistant</td>\n",
       "      <td>action_response</td>\n",
       "      <td>assistant</td>\n",
       "      <td>{\"action_response\": {\"function\": \"multiply\", \"...</td>\n",
       "    </tr>\n",
       "  </tbody>\n",
       "</table>\n",
       "</div>"
      ],
      "text/plain": [
       "                            node_id                         timestamp  \\\n",
       "0  4bd57a7969c539b514c9a86ad24591a9  2024_03_22T14_54_02_987501+00_00   \n",
       "1  c36d6f23d03d8ee8869802a77ce676bb  2024_03_22T14_54_03_869417+00_00   \n",
       "2  3cf87521b815496cbdd6427796ec927a  2024_03_22T14_54_37_144384+00_00   \n",
       "3  09a717f29a64ca8e07f38913262c73a4  2024_03_22T14_54_37_147019+00_00   \n",
       "4  16043e9002ca202931e3eaa80dba2a5c  2024_03_22T14_54_41_236498+00_00   \n",
       "5  92ae33a21b69f7b044a1636bde5e4ddb  2024_03_22T14_54_41_237510+00_00   \n",
       "6  87b031dbe0336900fd31419f5cb94a33  2024_03_22T14_54_41_237956+00_00   \n",
       "\n",
       "        role           sender  recipient  \\\n",
       "0     system           system  assistant   \n",
       "1       user             user  assistant   \n",
       "2  assistant        assistant       user   \n",
       "3       user             user  assistant   \n",
       "4  assistant   action_request     action   \n",
       "5  assistant  action_response  assistant   \n",
       "6  assistant  action_response  assistant   \n",
       "\n",
       "                                             content  \n",
       "0  {\"system_info\": \"you are asked to perform as a...  \n",
       "1  {\"instruction\": {\"Notice\": \"\\nyou have 2 step ...  \n",
       "2  {\"response\": \"### Step 1: Understand the Math ...  \n",
       "3  {\"instruction\": \"\\nyou have 1 step left in cur...  \n",
       "4  {\"action_request\": [{\"action\": \"action_multipl...  \n",
       "5  {\"action_response\": {\"function\": \"multiply\", \"...  \n",
       "6  {\"action_response\": {\"function\": \"multiply\", \"...  "
      ]
     },
     "execution_count": 10,
     "metadata": {},
     "output_type": "execute_result"
    }
   ],
   "source": [
    "calc.executable.branch.messages"
   ]
  }
 ],
 "metadata": {
  "kernelspec": {
   "display_name": ".venv",
   "language": "python",
   "name": "python3"
  },
  "language_info": {
   "codemirror_mode": {
    "name": "ipython",
    "version": 3
   },
   "file_extension": ".py",
   "mimetype": "text/x-python",
   "name": "python",
   "nbconvert_exporter": "python",
   "pygments_lexer": "ipython3",
   "version": "3.11.6"
  }
 },
 "nbformat": 4,
 "nbformat_minor": 2
}
