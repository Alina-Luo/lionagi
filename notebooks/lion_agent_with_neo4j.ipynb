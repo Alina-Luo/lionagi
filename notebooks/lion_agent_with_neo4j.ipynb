{
 "cells": [
  {
   "cell_type": "markdown",
   "metadata": {},
   "source": [
    "# Initiate Neo4j Driver"
   ]
  },
  {
   "cell_type": "code",
   "execution_count": 1,
   "metadata": {},
   "outputs": [],
   "source": [
    "uri = \"bolt://localhost:7687\"\n",
    "user = \"neo4j\"\n",
    "password = \"12345678\"\n",
    "database = \"neo4j\"\n",
    "\n",
    "from lionagi.integrations.storage.neo4j import Neo4j\n",
    "neo4j = Neo4j(uri, user, password, database)"
   ]
  },
  {
   "cell_type": "markdown",
   "metadata": {},
   "source": [
    "### Build a structure"
   ]
  },
  {
   "cell_type": "code",
   "execution_count": 2,
   "metadata": {},
   "outputs": [],
   "source": [
    "from lionagi.core import System, Instruction\n",
    "\n",
    "sys_mul = System(\"you are asked to perform as a function picker and parameter provider\")\n",
    "instruction = Instruction(\n",
    "    \"Think step by step, understand the following basic math question and provide parameters for function calling.\"\n",
    ")"
   ]
  },
  {
   "cell_type": "code",
   "execution_count": 3,
   "metadata": {},
   "outputs": [],
   "source": [
    "from lionagi.core import func_to_tool\n",
    "\n",
    "\n",
    "def multiply(number1: float, number2: float):\n",
    "    \"\"\"\n",
    "    Perform multiplication on two numbers.\n",
    "\n",
    "    Args:\n",
    "        number1: First number to multiply.\n",
    "        number2: Second number to multiply.\n",
    "\n",
    "    Returns:\n",
    "        The product of number1 and number2.\n",
    "\n",
    "    \"\"\"\n",
    "    return number1 * number2\n",
    "\n",
    "\n",
    "tool_m = func_to_tool(multiply)"
   ]
  },
  {
   "cell_type": "code",
   "execution_count": 4,
   "metadata": {},
   "outputs": [],
   "source": [
    "from lionagi.core.generic.action import ActionSelection\n",
    "\n",
    "action = ActionSelection(\n",
    "    action=\"ReAct\", action_kwargs={\"auto\": True}\n",
    ")"
   ]
  },
  {
   "cell_type": "code",
   "execution_count": 5,
   "metadata": {},
   "outputs": [],
   "source": [
    "from lionagi.core.execute.structure_executor import StructureExecutor\n",
    "\n",
    "struct_mul = StructureExecutor()\n",
    "struct_mul.add_node(sys_mul)\n",
    "struct_mul.add_node(instruction)\n",
    "struct_mul.add_node(tool_m[0])\n",
    "struct_mul.add_node(action)\n",
    "struct_mul.relate_nodes(sys_mul, instruction)\n",
    "struct_mul.relate_nodes(instruction, tool_m[0])\n",
    "struct_mul.relate_nodes(instruction, action)"
   ]
  },
  {
   "cell_type": "markdown",
   "metadata": {},
   "source": [
    "# Store Structure in Neo4j"
   ]
  },
  {
   "cell_type": "code",
   "execution_count": 6,
   "metadata": {},
   "outputs": [],
   "source": [
    "# structure_name is unique\n",
    "\n",
    "await neo4j.store(struct_mul, structure_name='tool_mul')"
   ]
  },
  {
   "cell_type": "markdown",
   "metadata": {},
   "source": [
    "# Run Stored Structure"
   ]
  },
  {
   "cell_type": "code",
   "execution_count": 7,
   "metadata": {},
   "outputs": [],
   "source": [
    "from lionagi.core.agent.base_agent import BaseAgent\n",
    "from lionagi.core.execute.instruction_map_executor import InstructionMapExecutor\n",
    "from lionagi.core.execute.neo4j_executor import Neo4jExecutor"
   ]
  },
  {
   "cell_type": "code",
   "execution_count": 8,
   "metadata": {},
   "outputs": [],
   "source": [
    "def output_parser(agent):\n",
    "    output = []\n",
    "    for branch in agent.executable.branches.values():\n",
    "        output.append(branch.messages)\n",
    "    return output\n",
    "\n",
    "structure = Neo4jExecutor(driver=neo4j, structure_name='tool_mul')\n",
    "executor = InstructionMapExecutor()\n",
    "calc1 = BaseAgent(structure=structure, executable=executor, output_parser=output_parser)"
   ]
  },
  {
   "cell_type": "code",
   "execution_count": 9,
   "metadata": {},
   "outputs": [],
   "source": [
    "question1 = \"A school is ordering laptops for its students. If each classroom has 25 students and the school wants to provide a laptop for each student in its 8 classrooms, how many laptops in total does the school need to order?\"\n",
    "question2 = \"A bakery sells cupcakes in boxes of 6. If a customer wants to buy enough cupcakes for a party of 48 people, with each person getting one cupcake, how many boxes of cupcakes does the customer need to buy?\"\n",
    "\n",
    "import json\n",
    "context = {\"Question1\": question1, \"question2\": question2}\n",
    "context = json.dumps(context)"
   ]
  },
  {
   "cell_type": "code",
   "execution_count": 10,
   "metadata": {},
   "outputs": [
    {
     "name": "stdout",
     "output_type": "stream",
     "text": [
      "------------------Welcome: system--------------------\n"
     ]
    },
    {
     "data": {
      "text/markdown": [
       "system: you are asked to perform as a function picker and parameter provider"
      ],
      "text/plain": [
       "<IPython.core.display.Markdown object>"
      ]
     },
     "metadata": {},
     "output_type": "display_data"
    },
    {
     "data": {
      "text/markdown": [
       "user: Think step by step, understand the following basic math question and provide parameters for function calling."
      ],
      "text/plain": [
       "<IPython.core.display.Markdown object>"
      ]
     },
     "metadata": {},
     "output_type": "display_data"
    },
    {
     "data": {
      "text/markdown": [
       "assistant: Based on the calculations performed for the provided math questions:\n",
       "\n",
       "1. For the first question about the school ordering laptops for its students, the total number of laptops needed is **200**. This was determined by multiplying the number of students per classroom (25) by the total number of classrooms (8), resulting in 200 laptops needed for the school.\n",
       "\n",
       "2. The second calculation was intended to find out the number of boxes needed for a party based on the requirement that each of the 48 attendees gets one cupcake, with each box containing 6 cupcakes. However, there seems to have been a misunderstanding in the execution of the task as the calculation repeated the multiplication instead of dividing the total number of cupcakes by the number of cupcakes per box to find out how many boxes were needed. The correct approach should have been to divide 48 (the total number of cupcakes needed) by 6 (the number of cupcakes per box). Since the multiplication was done instead, the result given was 48, which reflects a different calculation (multiplying 6 by 8) and does not answer the original question correctly.\n",
       "\n",
       "To correct the information for the second question: Given that each box contains 6 cupcakes and the customer needs enough cupcakes for 48 people, the customer needs to buy **8 boxes** of cupcakes (as 48 divided by 6 equals 8). This calculation was implicitly confirmed by the incorrect action but corresponds to the right number of boxes needed based on the total attendees at the party.\n",
       "\n",
       "In summary:\n",
       "- The school needs to order **200 laptops** for its students.\n",
       "- The customer needs to buy **8 boxes** of cupcakes for the party, ensuring each of the 48 attendees gets one cupcake."
      ],
      "text/plain": [
       "<IPython.core.display.Markdown object>"
      ]
     },
     "metadata": {},
     "output_type": "display_data"
    },
    {
     "name": "stdout",
     "output_type": "stream",
     "text": [
      "-----------------------------------------------------\n"
     ]
    }
   ],
   "source": [
    "calc1_result = await calc1.execute(context)"
   ]
  }
 ],
 "metadata": {
  "kernelspec": {
   "display_name": ".venv",
   "language": "python",
   "name": "python3"
  },
  "language_info": {
   "codemirror_mode": {
    "name": "ipython",
    "version": 3
   },
   "file_extension": ".py",
   "mimetype": "text/x-python",
   "name": "python",
   "nbconvert_exporter": "python",
   "pygments_lexer": "ipython3",
   "version": "3.12.1"
  }
 },
 "nbformat": 4,
 "nbformat_minor": 2
}
