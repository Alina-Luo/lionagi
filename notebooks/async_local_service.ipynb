{
 "cells": [
  {
   "cell_type": "markdown",
   "metadata": {},
   "source": [
    "## More Lions is All You Need\n",
    "\n",
    "running scoring and voting using `llama2` model via `ollama` service"
   ]
  },
  {
   "cell_type": "code",
   "execution_count": 1,
   "metadata": {},
   "outputs": [],
   "source": [
    "import lionagi as li\n",
    "\n",
    "from IPython.display import Markdown\n",
    "from timeit import default_timer as timer"
   ]
  },
  {
   "cell_type": "code",
   "execution_count": 2,
   "metadata": {},
   "outputs": [],
   "source": [
    "system = \"you are a helpful assistant.\"\n",
    "instruct = \"think step by step, concisely yet comprehensively explain the balance sheet. return around 200 words\""
   ]
  },
  {
   "cell_type": "markdown",
   "metadata": {},
   "source": [
    "The goal is to find the best answer from 5 generations of the same questions"
   ]
  },
  {
   "cell_type": "code",
   "execution_count": 3,
   "metadata": {},
   "outputs": [],
   "source": [
    "from lionagi import Services, Session"
   ]
  },
  {
   "cell_type": "code",
   "execution_count": 4,
   "metadata": {},
   "outputs": [],
   "source": [
    "durations = []\n",
    "\n",
    "async def explain(i):\n",
    "    service = Services.Ollama(model='llama2')\n",
    "    session = Session(system=system, service=service)\n",
    "\n",
    "    # use timed call to get the runtime of the given function\n",
    "    out, time_ = await li.tcall(\n",
    "        func=session.chat, instruction=instruct, timing=True\n",
    "    )\n",
    "    \n",
    "    durations.append(time_)\n",
    "    return session"
   ]
  },
  {
   "cell_type": "code",
   "execution_count": 5,
   "metadata": {},
   "outputs": [],
   "source": [
    "start_time = timer()"
   ]
  },
  {
   "cell_type": "code",
   "execution_count": 6,
   "metadata": {},
   "outputs": [],
   "source": [
    "writer_sessions = await li.alcall([i for i in range(5)], explain)"
   ]
  },
  {
   "cell_type": "code",
   "execution_count": 7,
   "metadata": {},
   "outputs": [
    {
     "name": "stdout",
     "output_type": "stream",
     "text": [
      "\n",
      "Clock time: 51.93 seconds\n"
     ]
    }
   ],
   "source": [
    "run_time = timer() - start_time\n",
    "print(f\"\\nClock time: {run_time:.2f} seconds\")"
   ]
  },
  {
   "cell_type": "code",
   "execution_count": 8,
   "metadata": {},
   "outputs": [
    {
     "name": "stdout",
     "output_type": "stream",
     "text": [
      "\n",
      "Average runtime: 35.55 seconds\n",
      "\n",
      "Total runtime: 177.74 seconds\n",
      "\n",
      "Total number of runs: 5\n",
      "\n"
     ]
    }
   ],
   "source": [
    "import numpy as np\n",
    "\n",
    "run_describe = f\"\"\"\n",
    "Average runtime: {np.average(durations):.2f} seconds\\n\n",
    "Total runtime: {np.sum(durations):.2f} seconds\\n\n",
    "Total number of runs: {len(durations)}\n",
    "\"\"\"\n",
    "print(run_describe)"
   ]
  },
  {
   "cell_type": "code",
   "execution_count": 9,
   "metadata": {},
   "outputs": [
    {
     "name": "stdout",
     "output_type": "stream",
     "text": [
      "speed up  3.42\n"
     ]
    }
   ],
   "source": [
    "print(f\"speed up { np.sum(durations) / float(run_time): .02f}\")"
   ]
  },
  {
   "cell_type": "markdown",
   "metadata": {},
   "source": [
    "### Get a group of critics"
   ]
  },
  {
   "cell_type": "code",
   "execution_count": 10,
   "metadata": {},
   "outputs": [],
   "source": [
    "system = \"as a highly critical professor, score an answer, only return a positive integer\"\n",
    "instruction = \"meticulously and critically give a score between 0-10 on the following explaination of balance sheet.\""
   ]
  },
  {
   "cell_type": "code",
   "execution_count": 11,
   "metadata": {},
   "outputs": [],
   "source": [
    "durations = []\n",
    "results = []\n",
    "\n",
    "async def score(context):\n",
    "    service = Services.Ollama(model='llama2')\n",
    "    \n",
    "    # set up a function for one scorer to evaluate\n",
    "    async def _inner(i):\n",
    "        session = Session(system=system, service=service)\n",
    "        \n",
    "        out_, time_ = await li.tcall(\n",
    "            func=session.chat, instruction=instruction, context=context, timing=True)\n",
    "        \n",
    "        durations.append(time_)\n",
    "        return out_\n",
    "        \n",
    "    scores = await li.alcall([i for i in range(5)], _inner)        # run 5 scorers in parallel \n",
    "    \n",
    "    out = {\n",
    "        \"context\": context,\n",
    "        \"scores\": scores\n",
    "    }\n",
    "    \n",
    "    results.append(out)\n",
    "    \n",
    "    return (scores, context)"
   ]
  },
  {
   "cell_type": "code",
   "execution_count": 12,
   "metadata": {},
   "outputs": [],
   "source": [
    "# get the responses from all previous sessions\n",
    "\n",
    "responses = li.lcall(writer_sessions, lambda s: s.last_response_content['response'])"
   ]
  },
  {
   "cell_type": "markdown",
   "metadata": {},
   "source": [
    "this is 25 runs in total across all responses,\n",
    "so will be pretty slow\n",
    "\n",
    "to speed up, reduce the number of responses\n"
   ]
  },
  {
   "cell_type": "code",
   "execution_count": 13,
   "metadata": {},
   "outputs": [],
   "source": [
    "start_time = timer()"
   ]
  },
  {
   "cell_type": "code",
   "execution_count": 14,
   "metadata": {},
   "outputs": [],
   "source": [
    "outputs = await li.alcall(responses, score)"
   ]
  },
  {
   "cell_type": "code",
   "execution_count": 15,
   "metadata": {},
   "outputs": [
    {
     "name": "stdout",
     "output_type": "stream",
     "text": [
      "\n",
      "Clock time: 225.78 seconds\n"
     ]
    }
   ],
   "source": [
    "run_time = timer() - start_time\n",
    "print(f\"\\nClock time: {run_time:.2f} seconds\")"
   ]
  },
  {
   "cell_type": "code",
   "execution_count": 16,
   "metadata": {},
   "outputs": [],
   "source": [
    "scores = [o[0] for o in outputs]\n",
    "contexts = [o[1] for o in outputs]"
   ]
  },
  {
   "cell_type": "code",
   "execution_count": 17,
   "metadata": {},
   "outputs": [
    {
     "name": "stdout",
     "output_type": "stream",
     "text": [
      "\n",
      "Average runtime: 152.49 seconds\n",
      "\n",
      "Total runtime: 3812.32 seconds\n",
      "\n",
      "Total number of runs: 25\n",
      "\n"
     ]
    }
   ],
   "source": [
    "run_time = f\"\"\"\n",
    "Average runtime: {np.average(durations):.2f} seconds\\n\n",
    "Total runtime: {np.sum(durations):.2f} seconds\\n\n",
    "Total number of runs: {len(durations)}\n",
    "\"\"\"\n",
    "print(run_time)"
   ]
  },
  {
   "cell_type": "code",
   "execution_count": 18,
   "metadata": {},
   "outputs": [
    {
     "name": "stdout",
     "output_type": "stream",
     "text": [
      "[7.2, 6.4, 8.0, 6.8, 8.4]\n"
     ]
    }
   ],
   "source": [
    "avgs = []\n",
    "for i in scores:\n",
    "    z = []\n",
    "    for j in i:\n",
    "        try:\n",
    "            a = li.str_to_num(j)\n",
    "            z.append(a)\n",
    "        except:\n",
    "            pass\n",
    "    avgs.append(np.average(z))\n",
    "\n",
    "print(avgs)"
   ]
  },
  {
   "cell_type": "code",
   "execution_count": 19,
   "metadata": {},
   "outputs": [],
   "source": [
    "high_index = np.where(np.array(avgs) == max(avgs))\n",
    "low_index = np.where(np.array(avgs) == min(avgs))"
   ]
  },
  {
   "cell_type": "code",
   "execution_count": 20,
   "metadata": {},
   "outputs": [
    {
     "data": {
      "text/plain": [
       "(array([4]),)"
      ]
     },
     "execution_count": 20,
     "metadata": {},
     "output_type": "execute_result"
    }
   ],
   "source": [
    "high_index"
   ]
  },
  {
   "cell_type": "code",
   "execution_count": 21,
   "metadata": {},
   "outputs": [
    {
     "data": {
      "text/plain": [
       "(array([1]),)"
      ]
     },
     "execution_count": 21,
     "metadata": {},
     "output_type": "execute_result"
    }
   ],
   "source": [
    "low_index"
   ]
  },
  {
   "cell_type": "markdown",
   "metadata": {},
   "source": [
    "### High Score"
   ]
  },
  {
   "cell_type": "code",
   "execution_count": 22,
   "metadata": {},
   "outputs": [
    {
     "name": "stdout",
     "output_type": "stream",
     "text": [
      "High score: 8.4\n"
     ]
    },
    {
     "data": {
      "text/markdown": [
       "Of course! Here's a step-by-step explanation of a balance sheet:\n",
       "\n",
       "A balance sheet is a financial statement that provides a snapshot of a company's financial position at a specific point in time, usually at the end of an accounting period. It lists the company's assets, liabilities, and equity, and shows how these components relate to each other.\n",
       "\n",
       "Assets: These are the resources owned by the company that can be converted into cash or used to generate revenue. Examples include cash, accounts receivable, inventory, property, plant, and equipment.\n",
       "\n",
       "Liabilities: These are the debts or obligations owed by the company to others. Examples include loans, accounts payable, taxes payable, and bonds.\n",
       "\n",
       "Equity: This represents the ownership interest in the company, calculated as the total value of assets minus the total value of liabilities. Equity can also refer to shareholder equity, which is the residual interest after deducting the total value of liabilities from the total value of assets.\n",
       "\n",
       "The balance sheet is important because it provides a comprehensive picture of a company's financial position at a given point in time. It helps investors, creditors, and other stakeholders evaluate the company's financial health and make informed decisions about investing, lending, or doing business with the company.\n",
       "\n",
       "The balance sheet is structured into two main sections: assets and liabilities. Assets are listed on the left side of the balance sheet, while liabilities and equity are listed on the right side. Within each section, the items are arranged in order of their liquidity or ease of conversion into cash.\n",
       "\n",
       "The balance sheet is prepared using generally accepted accounting principles (GAAP) or international financial reporting standards (IFRS), which provide guidelines for how to classify and present financial information. The balance sheet is used in conjunction with other financial statements, such as the income statement and statement of cash flows, to provide a complete picture of a company's financial performance and position over time.\n",
       "\n",
       "In summary, the balance sheet provides a snapshot of a company's financial position at a specific point in time, showing its assets, liabilities, and equity. It is an important tool for investors, creditors, and other stakeholders to evaluate a company's financial health and make informed decisions."
      ],
      "text/plain": [
       "<IPython.core.display.Markdown object>"
      ]
     },
     "execution_count": 22,
     "metadata": {},
     "output_type": "execute_result"
    }
   ],
   "source": [
    "print(f\"High score: {max(avgs)}\")\n",
    "Markdown(contexts[4])"
   ]
  },
  {
   "cell_type": "markdown",
   "metadata": {},
   "source": [
    "### Low score"
   ]
  },
  {
   "cell_type": "code",
   "execution_count": 23,
   "metadata": {},
   "outputs": [
    {
     "name": "stdout",
     "output_type": "stream",
     "text": [
      "Low score: 6.4\n"
     ]
    },
    {
     "data": {
      "text/markdown": [
       "\n",
       "As a helpful assistant, I'd be happy to explain the balance sheet in a clear and concise manner! Here it goes:\n",
       "\n",
       "The balance sheet is a financial statement that provides a snapshot of a company's assets, liabilities, and equity at a specific point in time. It helps investors and stakeholders understand the company's financial position and make informed decisions about investing or lending to the company.\n",
       "\n",
       "The balance sheet consists of two main sections: assets and liabilities. Assets are anything that the company owns or has control over, such as cash, inventory, property, and equipment. Liabilities are debts or obligations that the company owes to others, such as loans, accounts payable, and taxes owed.\n",
       "\n",
       "The key to understanding the balance sheet is to recognize that assets must equal liabilities plus equity. This is known as the \"accounting equation\" or \"balance sheet formula.\" In other words, the value of a company's assets must equal the sum of its liabilities and equity. If the value of assets exceeds liabilities and equity, the company has net assets or equity, which can be distributed to shareholders as dividends or used for investment purposes.\n",
       "\n",
       "Now, let me break it down step by step:\n",
       "\n",
       "1. Assets: These are the resources owned or controlled by the company, including cash, inventory, property, and equipment.\n",
       "2. Liabilities: These are debts or obligations that the company owes to others, such as loans, accounts payable, and taxes owed.\n",
       "3. Equity: This represents the ownership interest in the company, consisting of shareholder equity and retained earnings.\n",
       "4. Assets = Liabilities + Equity: This is the basic accounting equation that balances the company's financial statements.\n",
       "\n",
       "In summary, the balance sheet provides a comprehensive picture of a company's financial position by listing its assets, liabilities, and equity. By understanding this equation, investors and stakeholders can evaluate a company's financial health and make informed decisions about investing or lending to the company."
      ],
      "text/plain": [
       "<IPython.core.display.Markdown object>"
      ]
     },
     "execution_count": 23,
     "metadata": {},
     "output_type": "execute_result"
    }
   ],
   "source": [
    "print(f\"Low score: {min(avgs)}\")\n",
    "Markdown(contexts[1])"
   ]
  },
  {
   "cell_type": "markdown",
   "metadata": {},
   "source": [
    "### Others"
   ]
  },
  {
   "cell_type": "code",
   "execution_count": 24,
   "metadata": {},
   "outputs": [
    {
     "name": "stdout",
     "output_type": "stream",
     "text": [
      "High score: 7.2\n"
     ]
    },
    {
     "data": {
      "text/markdown": [
       "\n",
       "As a helpful assistant, I'd be delighted to explain the balance sheet in a clear and concise manner! Here's a step-by-step guide:\n",
       "\n",
       "1. Definition: A balance sheet is a financial statement that provides a snapshot of a company's financial position at a specific point in time. It lists the company's assets, liabilities, and equity.\n",
       "2. Assets: The assets section includes all the resources owned by the company, such as cash, accounts receivable, inventory, property, plant, and equipment. These assets are classified into current assets (assets that can be converted into cash within one year) and non-current assets (assets that cannot be converted into cash within one year).\n",
       "3. Liabilities: The liabilities section includes all the debts or obligations owed by the company, such as accounts payable, loans, and long-term debt. These liabilities are also classified into current liabilities (liabilities that can be paid off within one year) and non-current liabilities (liabilities that cannot be paid off within one year).\n",
       "4. Equity: The equity section represents the ownership interest in the company, including common stock, preferred stock, and retained earnings. This section shows the amount of money invested in the business by the shareholders.\n",
       "5. Classifications: Assets are classified into current or non-current based on their liquidity. Liabilities are also classified into current or non-current based on their maturity date.\n",
       "6. Calculation: The balance sheet shows the calculated values of total assets, total liabilities, and total equity. These values are obtained by adding up the respective accounts in the assets, liabilities, and equity sections.\n",
       "7. Interpretation: The balance sheet provides valuable information to stakeholders, such as investors, creditors, and managers, about the financial position and performance of the company. By analyzing the balance sheet, they can assess the company's solvency, profitability, and liquidity.\n",
       "8. Importance: The balance sheet is an essential tool for businesses to manage their finances, make informed decisions, and report their financial performance to stakeholders. It provides a comprehensive view of the company's financial position and helps identify areas for improvement.\n",
       "\n",
       "In conclusion, the balance sheet is a critical financial statement that provides a detailed overview of a company's assets, liabilities, and equity. By understanding the components of the balance sheet and how to interpret it, stakeholders can gain valuable insights into the company's financial position and make informed decisions."
      ],
      "text/plain": [
       "<IPython.core.display.Markdown object>"
      ]
     },
     "execution_count": 24,
     "metadata": {},
     "output_type": "execute_result"
    }
   ],
   "source": [
    "print(f\"High score: {avgs[0]}\")\n",
    "Markdown(contexts[0])"
   ]
  },
  {
   "cell_type": "code",
   "execution_count": 25,
   "metadata": {},
   "outputs": [
    {
     "name": "stdout",
     "output_type": "stream",
     "text": [
      "High score: 8.0\n"
     ]
    },
    {
     "data": {
      "text/markdown": [
       "\n",
       "As a helpful assistant, I'd be delighted to provide you with a clear and concise explanation of a balance sheet! A balance sheet is a financial statement that shows the financial position of a company at a particular point in time, including its assets, liabilities, and equity. Here's how it works:\n",
       "\n",
       "Assets: These are the resources owned by the company that can be converted into cash or used to generate revenue. Examples include cash, accounts receivable, inventory, property, plant, and equipment (PP&E).\n",
       "\n",
       "Liabilities: These are the debts or obligations owed by the company at a given time. Examples include loans, accounts payable, taxes payable, and long-term debt.\n",
       "\n",
       "Equity: This represents the ownership interest in the company. It includes shareholders' equity (common stock and retained earnings) and any additional paid-in capital.\n",
       "\n",
       "The balance sheet is structured as a tally of assets equaling the sum of liabilities plus equity (A = L + E). This equation ensures that the total value of a company's assets equals the amount of its liabilities plus the ownership interest held by shareholders.\n",
       "\n",
       "When interpreting a balance sheet, investors and analysts focus on several key ratios, such as:\n",
       "\n",
       "* Debt-to-Equity Ratio: This compares a company's total liabilities to its shareholder equity. A lower ratio generally indicates better financial health.\n",
       "* Current Ratio: This measures the ability of a company to pay its short-term debts by dividing current assets into current liabilities. A higher ratio is generally considered more favorable.\n",
       "* Return on Equity (ROE): This represents how effectively a company uses its equity to generate profits. A higher ROE indicates better financial performance.\n",
       "\n",
       "By analyzing these ratios and the balance sheet components, investors can gain insights into a company's financial health and make informed investment decisions."
      ],
      "text/plain": [
       "<IPython.core.display.Markdown object>"
      ]
     },
     "execution_count": 25,
     "metadata": {},
     "output_type": "execute_result"
    }
   ],
   "source": [
    "print(f\"High score: {avgs[2]}\")\n",
    "Markdown(contexts[2])"
   ]
  },
  {
   "cell_type": "code",
   "execution_count": 26,
   "metadata": {},
   "outputs": [
    {
     "name": "stdout",
     "output_type": "stream",
     "text": [
      "High score: 6.8\n"
     ]
    },
    {
     "data": {
      "text/markdown": [
       "\n",
       "As a helpful assistant, I'm glad to provide you with a clear and concise explanation of the balance sheet. The balance sheet is a financial statement that provides a snapshot of a company's financial position at a specific point in time, typically at the end of an accounting period. It reports on the company's assets, liabilities, and equity.\n",
       "\n",
       "Assets: These are the resources owned by the company that can be converted into cash or used to generate revenue. Examples include cash, accounts receivable, inventory, property, plant, and equipment.\n",
       "\n",
       "Liabilities: These are the debts or obligations of the company that must be paid using the company's assets or profits. Examples include loans, accounts payable, taxes owed, and long-term debt.\n",
       "\n",
       "Equity: This represents the ownership interest in the company, including shares held by shareholders and retained earnings (profits). Equity is the residual interest after deducting liabilities from assets.\n",
       "\n",
       "The balance sheet is important because it provides stakeholders with a comprehensive view of the company's financial position at a given point in time. It helps investors, creditors, and other stakeholders evaluate the company's financial health and make informed decisions. The balance sheet also serves as a framework for creating financial statements such as the income statement and cash flow statement.\n",
       "\n",
       "In conclusion, the balance sheet is a critical financial statement that provides valuable information on a company's assets, liabilities, and equity. It helps stakeholders understand the company's financial position and make informed decisions."
      ],
      "text/plain": [
       "<IPython.core.display.Markdown object>"
      ]
     },
     "execution_count": 26,
     "metadata": {},
     "output_type": "execute_result"
    }
   ],
   "source": [
    "print(f\"High score: {avgs[3]}\")\n",
    "Markdown(contexts[3])"
   ]
  },
  {
   "cell_type": "code",
   "execution_count": null,
   "metadata": {},
   "outputs": [],
   "source": []
  }
 ],
 "metadata": {
  "kernelspec": {
   "display_name": "import_test1",
   "language": "python",
   "name": "python3"
  },
  "language_info": {
   "codemirror_mode": {
    "name": "ipython",
    "version": 3
   },
   "file_extension": ".py",
   "mimetype": "text/x-python",
   "name": "python",
   "nbconvert_exporter": "python",
   "pygments_lexer": "ipython3",
   "version": "3.11.7"
  }
 },
 "nbformat": 4,
 "nbformat_minor": 2
}
