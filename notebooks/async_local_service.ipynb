{
 "cells": [
  {
   "cell_type": "markdown",
   "metadata": {},
   "source": [
    "## More Lions is All You Need\n",
    "\n",
    "running scoring and voting using `llama3` model via `ollama` service"
   ]
  },
  {
   "cell_type": "code",
   "execution_count": 1,
   "metadata": {},
   "outputs": [],
   "source": [
    "system = \"you are a helpful assistant.\"\n",
    "instruct = \"think step by step, concisely yet comprehensively explain the balance sheet. return around 100 words\""
   ]
  },
  {
   "cell_type": "markdown",
   "metadata": {},
   "source": [
    "The goal is to find the best answer from 5 generations of the same questions"
   ]
  },
  {
   "cell_type": "code",
   "execution_count": 2,
   "metadata": {},
   "outputs": [],
   "source": [
    "import lionagi as li"
   ]
  },
  {
   "cell_type": "code",
   "execution_count": 3,
   "metadata": {},
   "outputs": [],
   "source": [
    "durations = []\n",
    "\n",
    "\n",
    "async def explain():\n",
    "\n",
    "    imodel = li.iModel(model=\"llama3\", provider=\"ollama\")\n",
    "    branch = li.Branch(system=system, imodel=imodel)\n",
    "\n",
    "    await branch.chat(instruction=instruct)\n",
    "    return branch"
   ]
  },
  {
   "cell_type": "code",
   "execution_count": 4,
   "metadata": {},
   "outputs": [
    {
     "name": "stdout",
     "output_type": "stream",
     "text": [
      "Report No.1 finished.\n",
      "Report No.2 finished.\n",
      "Report No.3 finished.\n",
      "Report No.4 finished.\n",
      "Report No.5 finished.\n"
     ]
    }
   ],
   "source": [
    "# write reports\n",
    "\n",
    "reports = []\n",
    "for i in range(5):\n",
    "    writer = await explain()\n",
    "    report = writer.last_response.response\n",
    "    report = {\"id\": i, \"report\": report}\n",
    "    reports.append(report)\n",
    "    print(f\"Report No.{i+1} finished.\")"
   ]
  },
  {
   "cell_type": "markdown",
   "metadata": {},
   "source": [
    "### Get a group of critics"
   ]
  },
  {
   "cell_type": "code",
   "execution_count": 5,
   "metadata": {},
   "outputs": [],
   "source": [
    "system = \"\"\"\n",
    "    as a highly critical professor, score an answer, only return a \n",
    "    positive integer\n",
    "\"\"\"\n",
    "\n",
    "instruction = \"\"\"\n",
    "    meticulously and critically give an integer score between 0-10 on the \n",
    "    following explaination of balance sheet.\n",
    "\"\"\""
   ]
  },
  {
   "cell_type": "code",
   "execution_count": 6,
   "metadata": {},
   "outputs": [],
   "source": [
    "import numpy as np\n",
    "from lionagi.libs import to_num\n",
    "\n",
    "\n",
    "async def scoring(context):\n",
    "    imodel = li.iModel(model=\"llama3\", provider=\"ollama\")\n",
    "    branch = li.Branch(system=system, imodel=imodel)\n",
    "    out_ = await branch.chat(instruction=instruction, context=context)\n",
    "\n",
    "    # let's convert the output to a number\n",
    "    try:\n",
    "        out_ = to_num(out_, upper_bound=10, lower_bound=0, num_type=int)\n",
    "    except:\n",
    "        out_ = -1\n",
    "    return out_"
   ]
  },
  {
   "cell_type": "markdown",
   "metadata": {},
   "source": [
    "method 1"
   ]
  },
  {
   "cell_type": "code",
   "execution_count": 7,
   "metadata": {},
   "outputs": [],
   "source": [
    "async def group_scoring(context):\n",
    "    outs = []\n",
    "\n",
    "    # we will score each item 5 times\n",
    "    # if you have high enough rate limits / compute,\n",
    "    # you can modify the code using `li.alcall`, to concurrently run the scoring\n",
    "    for _ in range(5):\n",
    "        out_ = await scoring(context)\n",
    "        outs.append(out_)\n",
    "\n",
    "    # we need to exlude the -1 values\n",
    "    outs = [i for i in outs if i != -1]\n",
    "\n",
    "    return np.mean(outs)"
   ]
  },
  {
   "cell_type": "code",
   "execution_count": 8,
   "metadata": {},
   "outputs": [
    {
     "name": "stdout",
     "output_type": "stream",
     "text": [
      "Duration:  125.544 seconds\n"
     ]
    }
   ],
   "source": [
    "from time import time\n",
    "\n",
    "start = time()\n",
    "\n",
    "scores = []\n",
    "\n",
    "# run scoring\n",
    "for idx, i in enumerate(reports):\n",
    "    score_ = await group_scoring(i)\n",
    "    scores.append((score_, i))\n",
    "\n",
    "duration = time() - start\n",
    "print(f\"Duration: {duration: .03f} seconds\")"
   ]
  },
  {
   "cell_type": "code",
   "execution_count": 9,
   "metadata": {},
   "outputs": [
    {
     "name": "stdout",
     "output_type": "stream",
     "text": [
      "Report: No.0, Score: 8.4\n",
      "Report: No.1, Score: 8.0\n",
      "Report: No.2, Score: 8.0\n",
      "Report: No.3, Score: 8.0\n",
      "Report: No.4, Score: 7.8\n"
     ]
    }
   ],
   "source": [
    "# show results\n",
    "scores = sorted(scores, key=lambda x: x[1][\"id\"])\n",
    "for score_, report in scores:\n",
    "    print(f\"Report: No.{report['id']}, Score: {score_}\")"
   ]
  },
  {
   "cell_type": "markdown",
   "metadata": {},
   "source": [
    "method 2 (recommend if use API)\n",
    "\n",
    "use `li.alcall` if we use async functions, you can run the scoring concurrently, but in local envrionment it doesn't necessarily speed things up"
   ]
  },
  {
   "cell_type": "code",
   "execution_count": 10,
   "metadata": {},
   "outputs": [
    {
     "name": "stdout",
     "output_type": "stream",
     "text": [
      "Scoring completed. Score: 7.6\n",
      "Scoring completed. Score: 8.0\n",
      "Scoring completed. Score: 8.2\n",
      "Scoring completed. Score: 7.8\n",
      "Scoring completed. Score: 8.2\n",
      "Duration: 109.299 seconds\n"
     ]
    }
   ],
   "source": [
    "start = time()\n",
    "\n",
    "\n",
    "async def group_scoring2(context):\n",
    "\n",
    "    async def _scoring(i):\n",
    "        return await scoring(context)\n",
    "\n",
    "    outs = await li.alcall(range(5), _scoring)\n",
    "    outs = [i for i in outs if i != -1]\n",
    "\n",
    "    return np.mean(outs)\n",
    "\n",
    "\n",
    "async def score_report2(report):\n",
    "\n",
    "    score_ = await group_scoring2(report)\n",
    "\n",
    "    print(\"Scoring completed. Score:\", score_)\n",
    "    return (score_, report)\n",
    "\n",
    "\n",
    "scores2 = await li.alcall(reports, score_report2)\n",
    "\n",
    "duration = time() - start\n",
    "print(f\"Duration: {duration:.3f} seconds\")"
   ]
  },
  {
   "cell_type": "code",
   "execution_count": 11,
   "metadata": {},
   "outputs": [
    {
     "name": "stdout",
     "output_type": "stream",
     "text": [
      "Report: No.0, Score: 7.6\n",
      "Report: No.1, Score: 8.2\n",
      "Report: No.2, Score: 8.2\n",
      "Report: No.3, Score: 7.8\n",
      "Report: No.4, Score: 8.0\n"
     ]
    }
   ],
   "source": [
    "scores2 = sorted(scores2, key=lambda x: x[1][\"id\"])\n",
    "for score_, report in scores2:\n",
    "    print(f\"Report: No.{report['id']}, Score: {score_}\")"
   ]
  },
  {
   "cell_type": "markdown",
   "metadata": {},
   "source": [
    "### Reports"
   ]
  },
  {
   "cell_type": "code",
   "execution_count": 12,
   "metadata": {},
   "outputs": [],
   "source": [
    "# rank scores\n",
    "scores = sorted(scores, key=lambda x: x[0], reverse=True)"
   ]
  },
  {
   "cell_type": "code",
   "execution_count": 19,
   "metadata": {},
   "outputs": [],
   "source": [
    "from IPython.display import display, Markdown"
   ]
  },
  {
   "cell_type": "code",
   "execution_count": 20,
   "metadata": {},
   "outputs": [
    {
     "name": "stdout",
     "output_type": "stream",
     "text": [
      "Score: 8.4\n"
     ]
    },
    {
     "data": {
      "text/markdown": [
       "**Report:**\n",
       "\n",
       "Here's a concise and comprehensive explanation of the balance sheet:\n",
       "\n",
       "A balance sheet is a snapshot of a company's financial position at a specific point in time. It's divided into three main sections: Assets, Liabilities, and Equity.\n",
       "\n",
       "**Assets**: What the company owns or controls, such as:\n",
       "\n",
       "* Cash and cash equivalents\n",
       "* Accounts receivable (debts owed to the company)\n",
       "* Inventory (goods or materials held for sale)\n",
       "* Property, plant, and equipment (PP&E)\n",
       "* Intangible assets (patents, trademarks, etc.)\n",
       "\n",
       "**Liabilities**: What the company owes or is responsible for, including:\n",
       "\n",
       "* Accounts payable (debts owed by the company)\n",
       "* Short-term loans\n",
       "* Long-term debt\n",
       "* Accrued expenses\n",
       "\n",
       "**Equity**: The company's net worth, consisting of:\n",
       "\n",
       "* Common stock\n",
       "* Preferred stock\n",
       "* Retained earnings (profits reinvested)\n",
       "\n",
       "The balance sheet aims to provide a fair and accurate picture of the company's financial health."
      ],
      "text/plain": [
       "<IPython.core.display.Markdown object>"
      ]
     },
     "metadata": {},
     "output_type": "display_data"
    }
   ],
   "source": [
    "score, report = scores[0]\n",
    "\n",
    "print(f\"Score: {score}\")\n",
    "display(Markdown(f\"**Report:**\\n\\n{report['report']}\"))"
   ]
  },
  {
   "cell_type": "code",
   "execution_count": 21,
   "metadata": {},
   "outputs": [
    {
     "name": "stdout",
     "output_type": "stream",
     "text": [
      "Score: 8.0\n"
     ]
    },
    {
     "data": {
      "text/markdown": [
       "**Report:**\n",
       "\n",
       "Here's a concise and comprehensive explanation of the balance sheet:\n",
       "\n",
       "**Balance Sheet: A Snapshot of Your Company's Financial Situation**\n",
       "\n",
       "A balance sheet is a financial statement that provides a snapshot of your company's financial situation at a specific point in time (usually the end of an accounting period). It summarizes your business's assets, liabilities, and equity.\n",
       "\n",
       "**Assets (left side):**\n",
       "\n",
       "* Cash, accounts receivable, inventory, property, equipment, etc.\n",
       "* Represent what your business owns or is owed.\n",
       "\n",
       "**Liabilities (right side):**\n",
       "\n",
       "* Accounts payable, loans, mortgages, taxes owed, etc.\n",
       "* Represent what your business owes to others.\n",
       "\n",
       "**Equity (bottom):**\n",
       "\n",
       "* Share capital, retained earnings, dividends, etc.\n",
       "* Represents the ownership interest in your business.\n",
       "\n",
       "The balance sheet ensures that the value of assets equals the sum of liabilities and equity."
      ],
      "text/plain": [
       "<IPython.core.display.Markdown object>"
      ]
     },
     "metadata": {},
     "output_type": "display_data"
    }
   ],
   "source": [
    "score, report = scores[1]\n",
    "\n",
    "print(f\"Score: {score}\")\n",
    "display(Markdown(f\"**Report:**\\n\\n{report['report']}\"))"
   ]
  },
  {
   "cell_type": "code",
   "execution_count": 22,
   "metadata": {},
   "outputs": [
    {
     "name": "stdout",
     "output_type": "stream",
     "text": [
      "Score: 8.0\n"
     ]
    },
    {
     "data": {
      "text/markdown": [
       "**Report:**\n",
       "\n",
       "Here's a concise explanation of the balance sheet:\n",
       "\n",
       "The Balance Sheet is a financial statement that presents a company's financial position at a specific point in time. It's divided into three main sections: Assets, Liabilities, and Equity.\n",
       "\n",
       "**Assets**: What a company owns or controls, such as cash, accounts receivable, inventory, property, and investments. ($1,000,000)\n",
       "\n",
       "**Liabilities**: What a company owes to others, including accounts payable, loans, and taxes owed. ($800,000)\n",
       "\n",
       "**Equity**: The ownership interest in the business, representing the amount of capital invested by shareholders. ($200,000)\n",
       "\n",
       "The Balance Sheet is \"balanced\" because the total value of Assets equals the sum of Liabilities and Equity: $1,000,000 = $800,000 + $200,000. This shows that a company's financial position is stable and consistent with its income statement and cash flow statement."
      ],
      "text/plain": [
       "<IPython.core.display.Markdown object>"
      ]
     },
     "metadata": {},
     "output_type": "display_data"
    }
   ],
   "source": [
    "score, report = scores[2]\n",
    "\n",
    "print(f\"Score: {score}\")\n",
    "display(Markdown(f\"**Report:**\\n\\n{report['report']}\"))"
   ]
  },
  {
   "cell_type": "code",
   "execution_count": 23,
   "metadata": {},
   "outputs": [
    {
     "name": "stdout",
     "output_type": "stream",
     "text": [
      "Score: 8.0\n"
     ]
    },
    {
     "data": {
      "text/markdown": [
       "**Report:**\n",
       "\n",
       "Here's a concise and comprehensive explanation of a balance sheet:\n",
       "\n",
       "A balance sheet is a financial statement that presents a company's financial position at a specific point in time. It's divided into three main sections: Assets, Liabilities, and Equity.\n",
       "\n",
       "**Assets**: What the company owns or controls, such as cash, accounts receivable, inventory, property, and equipment. Total assets = $1,000,000\n",
       "\n",
       "**Liabilities**: What the company owes to others, including accounts payable, loans, and taxes owed. Total liabilities = $500,000\n",
       "\n",
       "**Equity**: The company's net worth, representing the owners' stake in the business. Equity is calculated by subtracting liabilities from assets: Total equity = $1,000,000 - $500,000 = $500,000\n",
       "\n",
       "The balance sheet shows that the company has a total of $1,000,000 in assets and $500,000 in liabilities, resulting in a net worth (equity) of $500,000."
      ],
      "text/plain": [
       "<IPython.core.display.Markdown object>"
      ]
     },
     "metadata": {},
     "output_type": "display_data"
    }
   ],
   "source": [
    "score, report = scores[3]\n",
    "\n",
    "print(f\"Score: {score}\")\n",
    "display(Markdown(f\"**Report:**\\n\\n{report['report']}\"))"
   ]
  },
  {
   "cell_type": "code",
   "execution_count": 24,
   "metadata": {},
   "outputs": [
    {
     "name": "stdout",
     "output_type": "stream",
     "text": [
      "Score: 7.8\n"
     ]
    },
    {
     "data": {
      "text/markdown": [
       "**Report:**\n",
       "\n",
       "Here's a concise and comprehensive explanation of the balance sheet:\n",
       "\n",
       "**What is it?**: A snapshot of a company's financial position at a specific point in time.\n",
       "\n",
       "**Components:**\n",
       "\n",
       "1. **Assets**: What the company owns, such as:\n",
       "\t* Cash\n",
       "\t* Accounts receivable (amounts owed to the company)\n",
       "\t* Inventory (goods or materials for sale)\n",
       "\t* Property, plant, and equipment (long-term assets)\n",
       "2. **Liabilities**: Amounts the company owes, including:\n",
       "\t* Accounts payable (amounts owed by the company)\n",
       "\t* Loans or debt\n",
       "3. **Equity**: The company's net worth, representing:\n",
       "\t* Shareholders' investments\n",
       "\t* Retained earnings (profits reinvested)\n",
       "\n",
       "**Equation:** Assets = Liabilities + Equity\n",
       "\n",
       "This balance ensures that the company's financial situation is stable and consistent, providing stakeholders with a clear picture of its financial health."
      ],
      "text/plain": [
       "<IPython.core.display.Markdown object>"
      ]
     },
     "metadata": {},
     "output_type": "display_data"
    }
   ],
   "source": [
    "score, report = scores[4]\n",
    "\n",
    "print(f\"Score: {score}\")\n",
    "display(Markdown(f\"**Report:**\\n\\n{report['report']}\"))"
   ]
  }
 ],
 "metadata": {
  "kernelspec": {
   "display_name": "import_test1",
   "language": "python",
   "name": "python3"
  },
  "language_info": {
   "codemirror_mode": {
    "name": "ipython",
    "version": 3
   },
   "file_extension": ".py",
   "mimetype": "text/x-python",
   "name": "python",
   "nbconvert_exporter": "python",
   "pygments_lexer": "ipython3",
   "version": "3.12.1"
  }
 },
 "nbformat": 4,
 "nbformat_minor": 2
}
