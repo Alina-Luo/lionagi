{
 "cells": [
  {
   "cell_type": "code",
   "execution_count": 1,
   "metadata": {},
   "outputs": [],
   "source": [
    "import lionagi.libs.ln_func_call as func_call\n",
    "from lionagi.libs.ln_async import AsyncUtil\n",
    "from lionagi.core.messages.system import System\n",
    "from lionagi.core.messages.instruction import Instruction\n",
    "\n",
    "from lionagi.core.schema.structure import Structure\n",
    "\n",
    "from lionagi import Branch\n",
    "from lionagi.core.mail.schema import BaseMail\n",
    "from lionagi.core.schema.base_node import BaseRelatableNode\n",
    "from collections import deque\n",
    "from typing import Any\n",
    "\n",
    "from lionagi.core.agent.base_agent import BaseAgent\n",
    "from lionagi.core.schema.action_node import ActionNode, ActionSelection\n",
    "from lionagi.core.branch.executable_branch import ExecutableBranch"
   ]
  },
  {
   "cell_type": "code",
   "execution_count": 2,
   "metadata": {},
   "outputs": [],
   "source": [
    "# class ExecutableBranch(BaseRelatableNode):\n",
    "\n",
    "#     def __init__(self, **kwargs):\n",
    "#         super().__init__()\n",
    "#         self.branch: Branch = Branch(**kwargs)\n",
    "#         self.pending_ins = {}           ###\n",
    "#         self.pending_outs = deque()     ###\n",
    "#         self.responses = []\n",
    "#         self.execute_stop = False       ###\n",
    "#         self.context = None             ###\n",
    "    \n",
    "#     def system_process(self, system: System):\n",
    "#         self.branch.add_message(system=system)\n",
    "#         print('system call:')\n",
    "\n",
    "#     async def instruction_process(self, instruction: Instruction):\n",
    "#         if self.context:\n",
    "#             instruction.content.update({\"context\": self.context})\n",
    "#             self.context=None\n",
    "#         result = await self.branch.chat(instruction)\n",
    "#         print('instruction call:', result)\n",
    "#         self.responses.append(result)\n",
    "    \n",
    "#     async def action_process(self, action: ActionNode):\n",
    "#         # instruction = action.instruction\n",
    "#         # if self.context:\n",
    "#         #     instruction.content.update({\"context\": self.context})\n",
    "#         #     self.context=None\n",
    "#         try:\n",
    "#             func = getattr(self.branch, action.action)\n",
    "#         except:\n",
    "#             raise ValueError(f\"{action.action} is not a valid action\")\n",
    "\n",
    "#         if action.tools:\n",
    "#             self.branch.register_tools(action.tools)\n",
    "#         # result = await func(instruction, tools=action.tools, **action.action_kwargs)\n",
    "#         if self.context:\n",
    "#             result = await func(action.instruction.content, context=self.context,\n",
    "#                                 tools=action.tools, **action.action_kwargs)\n",
    "#             self.context = None\n",
    "#         else: \n",
    "#             result = await func(action.instruction.content, tools=action.tools, **action.action_kwargs)\n",
    "#         print('action calls:', result)\n",
    "#         self.responses.append(result)\n",
    "\n",
    "#     async def agent_process(self, agent):\n",
    "#         context = self.responses\n",
    "#         result = await agent.execute(context)\n",
    "#         self.context=result\n",
    "#         print('agent call:', result)\n",
    "#         self.responses.append(result)\n",
    "\n",
    "#     def send(self, recipient_id: str, category: str, package: Any) -> None:\n",
    "#         mail = BaseMail(sender_id=self.id_, \n",
    "#                         recipient_id=recipient_id, category=category, package=package)\n",
    "#         self.pending_outs.append(mail)\n",
    "    \n",
    "#     async def process(self):\n",
    "#         for key in list(self.pending_ins.keys()):\n",
    "#             while self.pending_ins[key]:\n",
    "#                 mail = self.pending_ins[key].popleft()\n",
    "#                 if mail.category == \"start\":                                        ###\n",
    "#                     start_mail_content = mail.package                               ###\n",
    "#                     self.context = start_mail_content['context']                    ###\n",
    "#                     self.send(start_mail_content['structure_id'], \"start\", \"start\") ###\n",
    "#                 if mail.category == \"node\":\n",
    "#                     if isinstance(mail.package, System):\n",
    "#                         self.system_process(mail.package)\n",
    "#                         self.send(mail.sender_id, \"node_id\", mail.package.id_)\n",
    "#                     elif isinstance(mail.package, Instruction):\n",
    "#                         await self.instruction_process(mail.package)\n",
    "#                         self.send(mail.sender_id, \"node_id\", mail.package.id_)\n",
    "#                     elif isinstance(mail.package, ActionNode):\n",
    "#                         await self.action_process(mail.package)\n",
    "#                         self.send(mail.sender_id, \"node_id\", mail.package.instruction.id_)\n",
    "#                     elif isinstance(mail.package, BaseAgent):\n",
    "#                         await self.agent_process(mail.package)\n",
    "#                         self.send(mail.sender_id, \"node_id\", mail.package.id_)\n",
    "#                 elif mail.category == \"end\":                                        ###                             \n",
    "#                     self.execute_stop = True\n",
    "#                     self.send(mail.sender_id, \"end\", \"end\")\n",
    "    \n",
    "#     async def execute(self, refresh_time=1):                                        ###\n",
    "#         while not self.execute_stop:\n",
    "#             await self.process()\n",
    "#             await AsyncUtil.sleep(refresh_time)"
   ]
  },
  {
   "cell_type": "code",
   "execution_count": null,
   "metadata": {},
   "outputs": [],
   "source": []
  },
  {
   "cell_type": "code",
   "execution_count": 3,
   "metadata": {},
   "outputs": [],
   "source": [
    "from lionagi.core.tool.tool_manager import func_to_tool"
   ]
  },
  {
   "cell_type": "code",
   "execution_count": 4,
   "metadata": {},
   "outputs": [],
   "source": [
    "def multiply(number1: float, number2: float):\n",
    "    \"\"\"\n",
    "    Perform multiplication on two numbers.\n",
    "\n",
    "    Args:\n",
    "        number1: First number to multiply.\n",
    "        number2: Second number to multiply.\n",
    "\n",
    "    Returns:\n",
    "        The product of number1 and number2.\n",
    "\n",
    "    \"\"\"\n",
    "    return number1 * number2\n",
    "\n",
    "tool_m = func_to_tool(multiply)"
   ]
  },
  {
   "cell_type": "code",
   "execution_count": 5,
   "metadata": {},
   "outputs": [],
   "source": [
    "# action = ActionSelection(action='followup', action_kwargs={'auto': True})"
   ]
  },
  {
   "cell_type": "code",
   "execution_count": 6,
   "metadata": {},
   "outputs": [],
   "source": [
    "sys_mul = System(system=\"you are asked to perform as a function picker and parameter provider\", name='calculator')\n",
    "instruction = Instruction(instruction=\"Think step by step, understand the following basic math question and provide parameters for function calling.\")"
   ]
  },
  {
   "cell_type": "code",
   "execution_count": 7,
   "metadata": {},
   "outputs": [],
   "source": [
    "question1 = \"There are [basketball, football, backpack, water bottle, strawberry, tennis ball, rockets]. each comes in four different colors, what is the number of unique kinds of ball?\"\n",
    "question2 = \"There are three fruits in total, each with 2 different colors, how many unique kinds of fruits are there?\"\n",
    "\n",
    "import json\n",
    "context = {\"Question1\": question1, \"question2\": question2}\n",
    "context = json.dumps(context)"
   ]
  },
  {
   "cell_type": "code",
   "execution_count": 8,
   "metadata": {},
   "outputs": [],
   "source": [
    "struct_mul = Structure()\n",
    "struct_mul.add_node(sys_mul)\n",
    "struct_mul.add_node(instruction)\n",
    "struct_mul.add_node(tool_m[0])\n",
    "# struct_mul.add_node(action)\n",
    "struct_mul.add_relationship(sys_mul, instruction)\n",
    "struct_mul.add_relationship(instruction, tool_m[0], bundle=True)   ### TODO:Enforce bundle for certain node types\n",
    "# struct_mul.add_relationship(instruction, action, bundle=True)"
   ]
  },
  {
   "cell_type": "code",
   "execution_count": 9,
   "metadata": {},
   "outputs": [],
   "source": [
    "## output_parser_func parameter: agent self\n",
    "\n",
    "def multiply_output_parser(agent):\n",
    "    return agent.executable.responses"
   ]
  },
  {
   "cell_type": "code",
   "execution_count": 10,
   "metadata": {},
   "outputs": [],
   "source": [
    "calc = BaseAgent(structure=struct_mul, executable_class=ExecutableBranch, output_parser=multiply_output_parser, executable_class_kwargs={\"name\": \"calculator\"})"
   ]
  },
  {
   "cell_type": "code",
   "execution_count": 11,
   "metadata": {},
   "outputs": [
    {
     "data": {
      "text/plain": [
       "'09bf165b8d4277289592be5fc072bd75'"
      ]
     },
     "execution_count": 11,
     "metadata": {},
     "output_type": "execute_result"
    }
   ],
   "source": [
    "tool_m[0].id_"
   ]
  },
  {
   "cell_type": "code",
   "execution_count": 12,
   "metadata": {},
   "outputs": [
    {
     "name": "stdout",
     "output_type": "stream",
     "text": [
      "---------------Welcome: calculator------------------\n"
     ]
    },
    {
     "data": {
      "text/markdown": [
       "system: you are asked to perform as a function picker and parameter provider"
      ],
      "text/plain": [
       "<IPython.core.display.Markdown object>"
      ]
     },
     "metadata": {},
     "output_type": "display_data"
    },
    {
     "name": "stdout",
     "output_type": "stream",
     "text": [
      "action calls: For the first question, we are looking for the number of unique kinds of balls and each kind comes in four different colors. The items listed are: basketball, football, backpack, water bottle, strawberry, tennis ball, rockets. Among these, the balls are: basketball, football, and tennis ball. So, we have 3 kinds of balls, each coming in 4 different colors.\n",
      "\n",
      "For the second question, we have three fruits, each with 2 different colors, and we want to know how many unique kinds of fruits there are. Since each fruit is unique and the color variations do not change the kind of fruit, we simply have 3 fruits.\n",
      "\n",
      "To provide parameters for function calling, we will use the multiply function to calculate the total number of unique items for each question based on their specific color variations.\n",
      "\n",
      "1. For the first question, calculate the total number of unique balls considering their color variations.\n",
      "2. For the second question, calculate the total number of unique fruits considering their color variations.\n",
      "\n",
      "Given these requirements, here are the parameters for the function calls:\n",
      "\n",
      "### Function Calls\n",
      "\n",
      "1. Multiply the number of unique kinds of balls by their color variations.\n",
      "   - Number of unique kinds of balls: 3\n",
      "   - Color variations per ball: 4\n",
      "\n",
      "2. Multiply the number of unique kinds of fruits by their color variations.\n",
      "   - Number of unique kinds of fruits: 3\n",
      "   - Color variations per fruit: 2\n",
      "\n",
      "### Parameters for Function Calling\n",
      "\n",
      "1. For calculating the total number of unique balls considering their color variations:\n",
      "   - `number1`: 3 (unique kinds of balls)\n",
      "   - `number2`: 4 (color variations per ball)\n",
      "\n",
      "2. For calculating the total number of unique fruits considering their color variations:\n",
      "   - `number1`: 3 (unique kinds of fruits)\n",
      "   - `number2`: 2 (color variations per fruit)\n",
      "\n",
      "We will prepare these parameters for the `multi_tool_use.parallel` function to execute both calculations in parallel.\n"
     ]
    }
   ],
   "source": [
    "result = await calc.execute(context=context)"
   ]
  },
  {
   "cell_type": "code",
   "execution_count": 13,
   "metadata": {},
   "outputs": [
    {
     "data": {
      "text/html": [
       "<div>\n",
       "<style scoped>\n",
       "    .dataframe tbody tr th:only-of-type {\n",
       "        vertical-align: middle;\n",
       "    }\n",
       "\n",
       "    .dataframe tbody tr th {\n",
       "        vertical-align: top;\n",
       "    }\n",
       "\n",
       "    .dataframe thead th {\n",
       "        text-align: right;\n",
       "    }\n",
       "</style>\n",
       "<table border=\"1\" class=\"dataframe\">\n",
       "  <thead>\n",
       "    <tr style=\"text-align: right;\">\n",
       "      <th></th>\n",
       "      <th>node_id</th>\n",
       "      <th>timestamp</th>\n",
       "      <th>role</th>\n",
       "      <th>sender</th>\n",
       "      <th>content</th>\n",
       "    </tr>\n",
       "  </thead>\n",
       "  <tbody>\n",
       "    <tr>\n",
       "      <th>0</th>\n",
       "      <td>8e84bffa1e0e8dded22e550c3dca79a9</td>\n",
       "      <td>2024_03_16T16_52_21_832805+00_00</td>\n",
       "      <td>system</td>\n",
       "      <td>system</td>\n",
       "      <td>{\"system_info\": \"you are asked to perform as a...</td>\n",
       "    </tr>\n",
       "    <tr>\n",
       "      <th>1</th>\n",
       "      <td>bc26f770f61b5e77dcae1b7abe723129</td>\n",
       "      <td>2024_03_16T16_52_22_361829+00_00</td>\n",
       "      <td>user</td>\n",
       "      <td>user</td>\n",
       "      <td>{\"instruction\": {\"instruction\": \"Think step by...</td>\n",
       "    </tr>\n",
       "    <tr>\n",
       "      <th>2</th>\n",
       "      <td>8959172098c655abd1cf27fa22e314ad</td>\n",
       "      <td>2024_03_16T16_52_36_868727+00_00</td>\n",
       "      <td>assistant</td>\n",
       "      <td>calculator</td>\n",
       "      <td>{\"response\": \"For the first question, we are l...</td>\n",
       "    </tr>\n",
       "  </tbody>\n",
       "</table>\n",
       "</div>"
      ],
      "text/plain": [
       "                            node_id                         timestamp  \\\n",
       "0  8e84bffa1e0e8dded22e550c3dca79a9  2024_03_16T16_52_21_832805+00_00   \n",
       "1  bc26f770f61b5e77dcae1b7abe723129  2024_03_16T16_52_22_361829+00_00   \n",
       "2  8959172098c655abd1cf27fa22e314ad  2024_03_16T16_52_36_868727+00_00   \n",
       "\n",
       "        role      sender                                            content  \n",
       "0     system      system  {\"system_info\": \"you are asked to perform as a...  \n",
       "1       user        user  {\"instruction\": {\"instruction\": \"Think step by...  \n",
       "2  assistant  calculator  {\"response\": \"For the first question, we are l...  "
      ]
     },
     "execution_count": 13,
     "metadata": {},
     "output_type": "execute_result"
    }
   ],
   "source": [
    "calc.executable.branch.messages"
   ]
  },
  {
   "cell_type": "code",
   "execution_count": 14,
   "metadata": {},
   "outputs": [
    {
     "name": "stdout",
     "output_type": "stream",
     "text": [
      "{\"system_info\": \"you are asked to perform as a function picker and parameter provider\"}\n",
      "{\"instruction\": {\"instruction\": \"Think step by step, understand the following basic math question and provide parameters for function calling.\"}, \"context\": \"{\\\"Question1\\\": \\\"There are [basketball, football, backpack, water bottle, strawberry, tennis ball, rockets]. each comes in four different colors, what is the number of unique kinds of ball?\\\", \\\"question2\\\": \\\"There are three fruits in total, each with 2 different colors, how many unique kinds of fruits are there?\\\"}\"}\n",
      "{\"response\": \"For the first question, we are looking for the number of unique kinds of balls and each kind comes in four different colors. The items listed are: basketball, football, backpack, water bottle, strawberry, tennis ball, rockets. Among these, the balls are: basketball, football, and tennis ball. So, we have 3 kinds of balls, each coming in 4 different colors.\\n\\nFor the second question, we have three fruits, each with 2 different colors, and we want to know how many unique kinds of fruits there are. Since each fruit is unique and the color variations do not change the kind of fruit, we simply have 3 fruits.\\n\\nTo provide parameters for function calling, we will use the multiply function to calculate the total number of unique items for each question based on their specific color variations.\\n\\n1. For the first question, calculate the total number of unique balls considering their color variations.\\n2. For the second question, calculate the total number of unique fruits considering their color variations.\\n\\nGiven these requirements, here are the parameters for the function calls:\\n\\n### Function Calls\\n\\n1. Multiply the number of unique kinds of balls by their color variations.\\n   - Number of unique kinds of balls: 3\\n   - Color variations per ball: 4\\n\\n2. Multiply the number of unique kinds of fruits by their color variations.\\n   - Number of unique kinds of fruits: 3\\n   - Color variations per fruit: 2\\n\\n### Parameters for Function Calling\\n\\n1. For calculating the total number of unique balls considering their color variations:\\n   - `number1`: 3 (unique kinds of balls)\\n   - `number2`: 4 (color variations per ball)\\n\\n2. For calculating the total number of unique fruits considering their color variations:\\n   - `number1`: 3 (unique kinds of fruits)\\n   - `number2`: 2 (color variations per fruit)\\n\\nWe will prepare these parameters for the `multi_tool_use.parallel` function to execute both calculations in parallel.\"}\n"
     ]
    }
   ],
   "source": [
    "for i in calc.executable.branch.messages['content']:\n",
    "    print(i)"
   ]
  },
  {
   "cell_type": "code",
   "execution_count": null,
   "metadata": {},
   "outputs": [],
   "source": []
  }
 ],
 "metadata": {
  "kernelspec": {
   "display_name": ".venv",
   "language": "python",
   "name": "python3"
  },
  "language_info": {
   "codemirror_mode": {
    "name": "ipython",
    "version": 3
   },
   "file_extension": ".py",
   "mimetype": "text/x-python",
   "name": "python",
   "nbconvert_exporter": "python",
   "pygments_lexer": "ipython3",
   "version": "3.11.6"
  }
 },
 "nbformat": 4,
 "nbformat_minor": 2
}
