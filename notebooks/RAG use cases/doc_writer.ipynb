{
 "cells": [
  {
   "cell_type": "code",
   "execution_count": 1,
   "metadata": {},
   "outputs": [],
   "source": [
    "from pathlib import Path\n",
    "\n",
    "data_path = Path.cwd() / \"lionagi_data\"  # Path to the data directory"
   ]
  },
  {
   "cell_type": "code",
   "execution_count": 2,
   "metadata": {},
   "outputs": [],
   "source": [
    "import lionagi as li"
   ]
  },
  {
   "cell_type": "markdown",
   "metadata": {},
   "source": [
    "### Prepare QA Tool"
   ]
  },
  {
   "cell_type": "code",
   "execution_count": 3,
   "metadata": {},
   "outputs": [],
   "source": [
    "docs = li.load(input_dir=data_path, recursive=True, required_exts=[\".py\"], )\n",
    "docs = [doc for doc in docs if len(doc.content) > 50]\n",
    "\n",
    "pile = li.chunk(docs=docs, chunk_size=2000, overlap=0.1,)"
   ]
  },
  {
   "cell_type": "code",
   "execution_count": 4,
   "metadata": {},
   "outputs": [],
   "source": [
    "from llama_index.embeddings.openai import OpenAIEmbedding, OpenAIEmbeddingModelType\n",
    "from llama_index.core.postprocessor import LLMRerank\n",
    "\n",
    "embed_model = OpenAIEmbedding(model=OpenAIEmbeddingModelType.TEXT_EMBED_3_SMALL)\n",
    "\n",
    "pile.setup_query_engine(\n",
    "    index_type=\"llama_index\",\n",
    "    embed_model=embed_model, \n",
    "    postprocessor=LLMRerank()\n",
    ")"
   ]
  },
  {
   "cell_type": "code",
   "execution_count": 5,
   "metadata": {},
   "outputs": [
    {
     "data": {
      "text/plain": [
       "'lionagi is a collection of libraries and abstract base classes used for various functionalities within a system or application. It includes modules for system utilities, asynchronous operations, data manipulation, API handling, validation functions, and abstract base classes for defining components and concepts within the system.'"
      ]
     },
     "execution_count": 5,
     "metadata": {},
     "output_type": "execute_result"
    }
   ],
   "source": [
    "await pile.query_pile(\"what is lionagi\")"
   ]
  },
  {
   "cell_type": "code",
   "execution_count": 6,
   "metadata": {},
   "outputs": [],
   "source": [
    "async def query_codebase(query: str):\n",
    "    \"\"\"\n",
    "    Perform a query to a QA bot with access to a vector \n",
    "    index built with package lionagi codebase\n",
    "\n",
    "    Args:\n",
    "        query: The query string to search for in the codebase.\n",
    "\n",
    "    Returns:\n",
    "        str: response content from the codebase query.\n",
    "    \"\"\"\n",
    "    return await pile.query_pile(query)"
   ]
  },
  {
   "cell_type": "markdown",
   "metadata": {},
   "source": [
    "### Construct Workflow"
   ]
  },
  {
   "cell_type": "code",
   "execution_count": 7,
   "metadata": {},
   "outputs": [],
   "source": [
    "instruction = \"\"\"\n",
    "write a good API documentation for this code, must use \n",
    "query engine to check meanings of related code concepts \n",
    "to accurately describe, for example if a name is used \n",
    "but not present in context, you must use the query engine.\n",
    "make sure to cross reference the code with the query \n",
    "engine to ensure the documentation is accurate\n",
    "\"\"\"\n",
    "\n",
    "edit = \"\"\"\n",
    "provide documentation only: final documentation in md \n",
    "format of the module of interest, do not include other \n",
    "fields do not present in JSON format, only markdown format \n",
    "you asked a lot of good questions and got plenty answers, \n",
    "please integrate your conversation, be a lot more technical, you will \n",
    "be rewarded with 500 dollars for great work, and \n",
    "punished for subpar work, take a deep breath, you can do it\n",
    "\"\"\""
   ]
  },
  {
   "cell_type": "code",
   "execution_count": 8,
   "metadata": {},
   "outputs": [],
   "source": [
    "from PROMPTS import sys_prompt  # put your system prompt here\n",
    "\n",
    "tools = li.func_to_tool(query_codebase)\n",
    "\n",
    "model = li.iModel(\n",
    "    model=\"gpt-4o\",\n",
    "    provider=\"openai\",\n",
    "    interval_tokens=1_000_000,\n",
    "    interval_requests=1_000,\n",
    "    interval=60,\n",
    ")\n",
    "\n",
    "async def write_doc(context):\n",
    "    branch = li.Branch(system=sys_prompt, tools=query_codebase, imodel=model)\n",
    "\n",
    "    form = await branch.direct(\n",
    "        instruction=instruction,\n",
    "        context=context,\n",
    "        reason=True,\n",
    "        score=True,\n",
    "        allow_action=True,\n",
    "        allow_extension=True,\n",
    "        max_extension=2,\n",
    "    )\n",
    "    \n",
    "    if form is None:\n",
    "        print(\"No form returned\")\n",
    "        return None, None\n",
    "\n",
    "    form.answer = await branch.chat(\n",
    "        instruction=edit,\n",
    "        temperature=0.5,\n",
    "    )\n",
    "    \n",
    "    # save all messages into a unique file\n",
    "    df = branch.to_df()\n",
    "    df.to_csv(f\"lion_doc_{branch.ln_id[:8]}.csv\", index=False)\n",
    "\n",
    "    return form, branch\n",
    "\n",
    "\n",
    "contexts = [i.content for i in docs]"
   ]
  },
  {
   "cell_type": "markdown",
   "metadata": {},
   "source": [
    "### Run workflow"
   ]
  },
  {
   "cell_type": "code",
   "execution_count": 9,
   "metadata": {},
   "outputs": [],
   "source": [
    "form, branch = await write_doc(contexts[80])"
   ]
  },
  {
   "cell_type": "code",
   "execution_count": 10,
   "metadata": {},
   "outputs": [
    {
     "data": {
      "text/markdown": [
       "**task**: \n",
       " Follow the prompt and provide the necessary output.\n",
       "- Additional instruction: \n",
       "write a good API documentation for this code, must use \n",
       "query engine to check meanings of related code concepts \n",
       "to accurately describe, for example if a name is used \n",
       "but not present in context, you must use the query engine.\n",
       "make sure to cross reference the code with the query \n",
       "engine to ensure the documentation is accurate\n",
       "\n",
       "- Additional context: \"\"\" Copyright 2024 HaiyangLi Licensed under the Apache License, Version 2.0 (the \"License\"); you may not use this file except in compliance with the License. You may obtain a copy of the License at   http://www.apache.org/licenses/LICENSE-2.0 Unless required by applicable law or agreed to in writing, software distributed under the License is distributed on an \"AS IS\" BASIS, WITHOUT WARRANTIES OR CONDITIONS OF ANY KIND, either express or implied. See the License for the specific language governing permissions and limitations under the License. \"\"\" from typing import TypeVar, Generic from .abc import Element, Field, Sendable from .pile import Pile, pile from .progression import Progression, progression T = TypeVar(\"T\")  class Exchange(Element, Generic[T]):   \"\"\"   Item exchange system designed to handle incoming and outgoing flows of items   \"\"\"   pile: Pile[T] = Field(     default_factory=lambda: pile(),     description=\"The pile of items in the exchange.\",     title=\"pending items\",   )   pending_ins: dict[str, Progression] = Field(     default_factory=dict,     description=\"The pending incoming items to the exchange.\",     title=\"pending incoming items\",     examples=[\"{ sender_id : Progression}\"],   )   pending_outs: Progression = progression()   def __contains__(self, item):     return item in self.pile   def exclude(self, item):     return (       self.pile.exclude(item)       and all([v.exclude(item) for v in self.pending_ins.values()])       and self.pending_outs.exclude(item)     )   def include(self, item, direction):     if self.pile.i..."
      ],
      "text/plain": [
       "<IPython.core.display.Markdown object>"
      ]
     },
     "metadata": {},
     "output_type": "display_data"
    },
    {
     "data": {
      "text/markdown": [
       "**reason**: \n",
       " Let's think step by step. To create accurate API documentation, we need to understand the code fully. Some concepts and classes like `Element`, `Field`, `Sendable`, `Pile`, `pile`, `Progression`, and `progression` are not defined in the provided code snippet. We need to query the codebase to get their definitions and understand their roles in the `Exchange` class."
      ],
      "text/plain": [
       "<IPython.core.display.Markdown object>"
      ]
     },
     "metadata": {},
     "output_type": "display_data"
    },
    {
     "data": {
      "text/markdown": [
       "**actions**: \n",
       " \n",
       " \n",
       "1. **query_codebase**(query: Element), \n",
       " \n",
       "2. **query_codebase**(query: Field), \n",
       " \n",
       "3. **query_codebase**(query: Sendable), \n",
       " \n",
       "4. **query_codebase**(query: Pile), \n",
       " \n",
       "5. **query_codebase**(query: pile), \n",
       " \n",
       "6. **query_codebase**(query: Progression), \n",
       " \n",
       "7. **query_codebase**(query: progression)"
      ],
      "text/plain": [
       "<IPython.core.display.Markdown object>"
      ]
     },
     "metadata": {},
     "output_type": "display_data"
    },
    {
     "data": {
      "text/markdown": [
       "**action_required**: True"
      ],
      "text/plain": [
       "<IPython.core.display.Markdown object>"
      ]
     },
     "metadata": {},
     "output_type": "display_data"
    },
    {
     "data": {
      "text/markdown": [
       "**extension_required**: True"
      ],
      "text/plain": [
       "<IPython.core.display.Markdown object>"
      ]
     },
     "metadata": {},
     "output_type": "display_data"
    },
    {
     "data": {
      "text/markdown": [
       "**score**: 8"
      ],
      "text/plain": [
       "<IPython.core.display.Markdown object>"
      ]
     },
     "metadata": {},
     "output_type": "display_data"
    },
    {
     "data": {
      "text/markdown": [
       "**action_response**: \n",
       " \n",
       " \n",
       "1. **query_codebase**(query: Element) \n",
       " \n",
       " The Element class serves as a base class for elements within the LionAGI system. It includes attributes such as ln_id, a 32-char unique hash identifier, and timestamp, which represents the UTC timestamp of creation., \n",
       " \n",
       "2. **query_codebase**(query: Field)) = Field, \n",
       " \n",
       "3. **query_codebase**(query: Sendable)) = Sendable, \n",
       " \n",
       "4. **query_codebase**(query: Pile) \n",
       " \n",
       " Pile is a versatile container class defined in the provided context. It is used for managing collections of Element objects, supporting structured access and manipulation such as retrieval, addition, and deletion of elements. The Pile class facilitates ordered and type-validated storage and access, allowing both index-based and key-based retrieval of items., \n",
       " \n",
       "5. **query_codebase**(query: pile) \n",
       " \n",
       " Pile is a class defined in the provided context information that represents a collection of items. It has methods for validating the items in the pile, converting the pile to a DataFrame, and returning the pile as a list. The pile function defined in the context is a factory function that creates an instance of the Pile class with specified parameters., \n",
       " \n",
       "6. **query_codebase**(query: Progression) \n",
       " \n",
       " Progression is a class that represents a sequence of items in a specific order. It provides methods to add, remove, iterate over, clear, and manipulate items within the progression. The class also includes functionalities to convert the progression to a dictionary or list, extend the progression, include or exclude items, and retrieve items based on index., \n",
       " \n",
       "7. **query_codebase**(query: progression) \n",
       " \n",
       " Progression is a class that represents a sequence of items in a specific order. It provides methods to add, remove, iterate over, clear, and manipulate items within the progression. The class also allows for the creation of progressions with specified orders and names."
      ],
      "text/plain": [
       "<IPython.core.display.Markdown object>"
      ]
     },
     "metadata": {},
     "output_type": "display_data"
    },
    {
     "data": {
      "text/markdown": [
       "**action_performed**: True"
      ],
      "text/plain": [
       "<IPython.core.display.Markdown object>"
      ]
     },
     "metadata": {},
     "output_type": "display_data"
    },
    {
     "data": {
      "text/markdown": [
       "**available_tools**: ['query_codebase']"
      ],
      "text/plain": [
       "<IPython.core.display.Markdown object>"
      ]
     },
     "metadata": {},
     "output_type": "display_data"
    },
    {
     "data": {
      "text/markdown": [
       "**answer**: \n",
       " ## Class: `Exchange`\n",
       "\n",
       "**Description**:  \n",
       "`Exchange` is an item exchange system designed to handle incoming and outgoing flows of items. It manages a collection of items (`pile`), pending incoming items (`pending_ins`), and pending outgoing items (`pending_outs`).\n",
       "\n",
       "### Attributes:\n",
       "\n",
       "- **`pile` (Pile[T])**:  \n",
       "  The pile of items in the exchange. This is a collection managed by the `Pile` class which supports structured access and manipulation of elements.\n",
       "\n",
       "- **`pending_ins` (dict[str, Progression])**:  \n",
       "  The pending incoming items to the exchange. This is a dictionary where each key is a sender ID and each value is a `Progression` instance representing the sequence of incoming items from that sender.\n",
       "\n",
       "- **`pending_outs` (Progression)**:  \n",
       "  The pending outgoing items from the exchange. This is managed by the `Progression` class which represents a sequence of items in a specific order.\n",
       "\n",
       "### Methods:\n",
       "\n",
       "#### `__contains__(self, item)`\n",
       "\n",
       "**Signature**:\n",
       "```python\n",
       "def __contains__(self, item) -> bool:\n",
       "```\n",
       "\n",
       "**Parameters**:\n",
       "- `item`: The item to check for existence in the pile.\n",
       "\n",
       "**Return Values**:\n",
       "- `bool`: Returns `True` if the item is in the pile, otherwise `False`.\n",
       "\n",
       "**Usage Examples**:\n",
       "```python\n",
       "exchange = Exchange()\n",
       "item = ...  # some item\n",
       "if item in exchange:\n",
       "    print(\"Item is in the exchange.\")\n",
       "else:\n",
       "    print(\"Item is not in the exchange.\")\n",
       "```\n",
       "\n",
       "#### `exclude(self, item)`\n",
       "\n",
       "**Signature**:\n",
       "```python\n",
       "def exclude(self, item) -> bool:\n",
       "```\n",
       "\n",
       "**Parameters**:\n",
       "- `item`: The item to exclude from the exchange.\n",
       "\n",
       "**Return Values**:\n",
       "- `bool`: Returns `True` if the item was successfully excluded from the pile and all pending lists, otherwise `False`.\n",
       "\n",
       "**Usage Examples**:\n",
       "```python\n",
       "exchange = Exchange()\n",
       "item = ...  # some item\n",
       "success = exchange.exclude(item)\n",
       "if success:\n",
       "    print(\"Item excluded successfully.\")\n",
       "else:\n",
       "    print(\"Failed to exclude item.\")\n",
       "```\n",
       "\n",
       "#### `include(self, item, direction)`\n",
       "\n",
       "**Signature**:\n",
       "```python\n",
       "def include(self, item, direction) -> bool:\n",
       "```\n",
       "\n",
       "**Parameters**:\n",
       "- `item`: The item to include in the exchange.\n",
       "- `direction` (str): The direction of the item flow, either \"in\" or \"out\".\n",
       "\n",
       "**Return Values**:\n",
       "- `bool`: Returns `True` if the item was successfully included in the pile and the specified direction, otherwise `False`.\n",
       "\n",
       "**Usage Examples**:\n",
       "```python\n",
       "exchange = Exchange()\n",
       "item = ...  # some item\n",
       "direction = \"in\"\n",
       "success = exchange.include(item, direction)\n",
       "if success:\n",
       "    print(\"Item included successfully.\")\n",
       "else:\n",
       "    print(\"Failed to include item.\")\n",
       "```\n",
       "\n",
       "#### `to_dict(self)`\n",
       "\n",
       "**Signature**:\n",
       "```python\n",
       "def to_dict(self) -> dict:\n",
       "```\n",
       "\n",
       "**Return Values**:\n",
       "- `dict`: Returns a dictionary representation of the exchange.\n",
       "\n",
       "**Usage Examples**:\n",
       "```python\n",
       "exchange = Exchange()\n",
       "exchange_dict = exchange.to_dict()\n",
       "print(exchange_dict)\n",
       "```\n",
       "\n",
       "### Additional Classes and Concepts:\n",
       "\n",
       "- **`Element`**: The base class for elements within the LionAGI system, including attributes such as `ln_id` (a unique hash identifier) and `timestamp` (creation timestamp).\n",
       "\n",
       "- **`Field`**: A descriptor for defining attributes in data models, including default values and descriptions.\n",
       "\n",
       "- **`Sendable`**: Represents items that can be sent within the exchange system.\n",
       "\n",
       "- **`Pile`**: A versatile container class for managing collections of `Element` objects, supporting structured access and manipulation.\n",
       "\n",
       "- **`pile`**: A factory function that creates an instance of the `Pile` class.\n",
       "\n",
       "- **`Progression`**: Represents a sequence of items in a specific order, providing methods to add, remove, and manipulate items.\n",
       "\n",
       "- **`progression`**: A factory function that creates an instance of the `Progression` class."
      ],
      "text/plain": [
       "<IPython.core.display.Markdown object>"
      ]
     },
     "metadata": {},
     "output_type": "display_data"
    }
   ],
   "source": [
    "form.display()"
   ]
  },
  {
   "cell_type": "code",
   "execution_count": 11,
   "metadata": {},
   "outputs": [
    {
     "data": {
      "text/html": [
       "<div>\n",
       "<style scoped>\n",
       "    .dataframe tbody tr th:only-of-type {\n",
       "        vertical-align: middle;\n",
       "    }\n",
       "\n",
       "    .dataframe tbody tr th {\n",
       "        vertical-align: top;\n",
       "    }\n",
       "\n",
       "    .dataframe thead th {\n",
       "        text-align: right;\n",
       "    }\n",
       "</style>\n",
       "<table border=\"1\" class=\"dataframe\">\n",
       "  <thead>\n",
       "    <tr style=\"text-align: right;\">\n",
       "      <th></th>\n",
       "      <th>ln_id</th>\n",
       "      <th>message_type</th>\n",
       "      <th>timestamp</th>\n",
       "      <th>role</th>\n",
       "      <th>content</th>\n",
       "      <th>metadata</th>\n",
       "      <th>sender</th>\n",
       "      <th>recipient</th>\n",
       "    </tr>\n",
       "  </thead>\n",
       "  <tbody>\n",
       "    <tr>\n",
       "      <th>0</th>\n",
       "      <td>b3f9d9e433c9b8f06264dca5da0fa7fc</td>\n",
       "      <td>System</td>\n",
       "      <td>2024-05-23T02:29:50.717726</td>\n",
       "      <td>system</td>\n",
       "      <td>{'system_info': '\n",
       "you are a helpful assistant,...</td>\n",
       "      <td>{'last_updated': {'recipient': '2024-05-23T02:...</td>\n",
       "      <td>system</td>\n",
       "      <td>bd8c19f854ae8aa001056635221ed06f</td>\n",
       "    </tr>\n",
       "    <tr>\n",
       "      <th>1</th>\n",
       "      <td>ace1db4e8d4f3299c4808010e3863f30</td>\n",
       "      <td>Instruction</td>\n",
       "      <td>2024-05-23T02:29:50.779740</td>\n",
       "      <td>user</td>\n",
       "      <td>{'instruction': '\n",
       "        ## Task Instructions...</td>\n",
       "      <td>{'last_updated': {'sender': '2024-05-23T02:29:...</td>\n",
       "      <td>user</td>\n",
       "      <td>bd8c19f854ae8aa001056635221ed06f</td>\n",
       "    </tr>\n",
       "    <tr>\n",
       "      <th>2</th>\n",
       "      <td>d0b0f3d8dccc81aeb7b0dd2e14a666da</td>\n",
       "      <td>AssistantResponse</td>\n",
       "      <td>2024-05-23T02:29:56.429577</td>\n",
       "      <td>assistant</td>\n",
       "      <td>{'assistant_response': '```json\n",
       "{\n",
       "  \"answer\": ...</td>\n",
       "      <td>{'last_updated': {'sender': '2024-05-23T02:29:...</td>\n",
       "      <td>bd8c19f854ae8aa001056635221ed06f</td>\n",
       "      <td>user</td>\n",
       "    </tr>\n",
       "    <tr>\n",
       "      <th>3</th>\n",
       "      <td>0c966480aaa778ef3f168a3f95af47b7</td>\n",
       "      <td>ActionRequest</td>\n",
       "      <td>2024-05-23T02:29:56.432135</td>\n",
       "      <td>assistant</td>\n",
       "      <td>{'action_request': {'function': 'query_codebas...</td>\n",
       "      <td>{'last_updated': {'function': '2024-05-23T02:2...</td>\n",
       "      <td>bd8c19f854ae8aa001056635221ed06f</td>\n",
       "      <td>2bc1339f0190af59620163dc7a6cbc0c</td>\n",
       "    </tr>\n",
       "    <tr>\n",
       "      <th>4</th>\n",
       "      <td>47eea798102f70e7110d8a3360d16206</td>\n",
       "      <td>ActionRequest</td>\n",
       "      <td>2024-05-23T02:29:56.432519</td>\n",
       "      <td>assistant</td>\n",
       "      <td>{'action_request': {'function': 'query_codebas...</td>\n",
       "      <td>{'last_updated': {'function': '2024-05-23T02:2...</td>\n",
       "      <td>bd8c19f854ae8aa001056635221ed06f</td>\n",
       "      <td>2bc1339f0190af59620163dc7a6cbc0c</td>\n",
       "    </tr>\n",
       "    <tr>\n",
       "      <th>5</th>\n",
       "      <td>61013d9cf3d0569acc3eaea3a3694b00</td>\n",
       "      <td>ActionRequest</td>\n",
       "      <td>2024-05-23T02:29:56.432658</td>\n",
       "      <td>assistant</td>\n",
       "      <td>{'action_request': {'function': 'query_codebas...</td>\n",
       "      <td>{'last_updated': {'function': '2024-05-23T02:2...</td>\n",
       "      <td>bd8c19f854ae8aa001056635221ed06f</td>\n",
       "      <td>2bc1339f0190af59620163dc7a6cbc0c</td>\n",
       "    </tr>\n",
       "    <tr>\n",
       "      <th>6</th>\n",
       "      <td>8c2b2e0061cfe8824aa210ef62338114</td>\n",
       "      <td>ActionRequest</td>\n",
       "      <td>2024-05-23T02:29:56.432780</td>\n",
       "      <td>assistant</td>\n",
       "      <td>{'action_request': {'function': 'query_codebas...</td>\n",
       "      <td>{'last_updated': {'function': '2024-05-23T02:2...</td>\n",
       "      <td>bd8c19f854ae8aa001056635221ed06f</td>\n",
       "      <td>2bc1339f0190af59620163dc7a6cbc0c</td>\n",
       "    </tr>\n",
       "    <tr>\n",
       "      <th>7</th>\n",
       "      <td>dbe6b08a0dfbe93a209c61532af06b8f</td>\n",
       "      <td>ActionRequest</td>\n",
       "      <td>2024-05-23T02:29:56.432920</td>\n",
       "      <td>assistant</td>\n",
       "      <td>{'action_request': {'function': 'query_codebas...</td>\n",
       "      <td>{'last_updated': {'function': '2024-05-23T02:2...</td>\n",
       "      <td>bd8c19f854ae8aa001056635221ed06f</td>\n",
       "      <td>2bc1339f0190af59620163dc7a6cbc0c</td>\n",
       "    </tr>\n",
       "    <tr>\n",
       "      <th>8</th>\n",
       "      <td>7692617ecb59c252b31a1cc81f96353a</td>\n",
       "      <td>ActionRequest</td>\n",
       "      <td>2024-05-23T02:29:56.433037</td>\n",
       "      <td>assistant</td>\n",
       "      <td>{'action_request': {'function': 'query_codebas...</td>\n",
       "      <td>{'last_updated': {'function': '2024-05-23T02:2...</td>\n",
       "      <td>bd8c19f854ae8aa001056635221ed06f</td>\n",
       "      <td>2bc1339f0190af59620163dc7a6cbc0c</td>\n",
       "    </tr>\n",
       "    <tr>\n",
       "      <th>9</th>\n",
       "      <td>6eb18790f3622c7ebb995134b454fe42</td>\n",
       "      <td>ActionRequest</td>\n",
       "      <td>2024-05-23T02:29:56.433161</td>\n",
       "      <td>assistant</td>\n",
       "      <td>{'action_request': {'function': 'query_codebas...</td>\n",
       "      <td>{'last_updated': {'function': '2024-05-23T02:2...</td>\n",
       "      <td>bd8c19f854ae8aa001056635221ed06f</td>\n",
       "      <td>2bc1339f0190af59620163dc7a6cbc0c</td>\n",
       "    </tr>\n",
       "    <tr>\n",
       "      <th>10</th>\n",
       "      <td>4afa5f34399af4d90e96af14871d8a63</td>\n",
       "      <td>ActionResponse</td>\n",
       "      <td>2024-05-23T02:29:58.444030</td>\n",
       "      <td>assistant</td>\n",
       "      <td>{'action_response': {'function': 'query_codeba...</td>\n",
       "      <td>{'last_updated': {'function': '2024-05-23T02:2...</td>\n",
       "      <td>2bc1339f0190af59620163dc7a6cbc0c</td>\n",
       "      <td>bd8c19f854ae8aa001056635221ed06f</td>\n",
       "    </tr>\n",
       "    <tr>\n",
       "      <th>11</th>\n",
       "      <td>96abd9842bf2d8294803440794495779</td>\n",
       "      <td>ActionResponse</td>\n",
       "      <td>2024-05-23T02:29:58.444755</td>\n",
       "      <td>assistant</td>\n",
       "      <td>{'action_response': {'function': 'query_codeba...</td>\n",
       "      <td>{'last_updated': {'function': '2024-05-23T02:2...</td>\n",
       "      <td>2bc1339f0190af59620163dc7a6cbc0c</td>\n",
       "      <td>bd8c19f854ae8aa001056635221ed06f</td>\n",
       "    </tr>\n",
       "    <tr>\n",
       "      <th>12</th>\n",
       "      <td>7e40f6b1807f735ae06455c504f529f8</td>\n",
       "      <td>ActionResponse</td>\n",
       "      <td>2024-05-23T02:29:58.445002</td>\n",
       "      <td>assistant</td>\n",
       "      <td>{'action_response': {'function': 'query_codeba...</td>\n",
       "      <td>{'last_updated': {'function': '2024-05-23T02:2...</td>\n",
       "      <td>2bc1339f0190af59620163dc7a6cbc0c</td>\n",
       "      <td>bd8c19f854ae8aa001056635221ed06f</td>\n",
       "    </tr>\n",
       "    <tr>\n",
       "      <th>13</th>\n",
       "      <td>763d8e009d7b2cb14a62ff7f573f3faf</td>\n",
       "      <td>ActionResponse</td>\n",
       "      <td>2024-05-23T02:29:58.445224</td>\n",
       "      <td>assistant</td>\n",
       "      <td>{'action_response': {'function': 'query_codeba...</td>\n",
       "      <td>{'last_updated': {'function': '2024-05-23T02:2...</td>\n",
       "      <td>2bc1339f0190af59620163dc7a6cbc0c</td>\n",
       "      <td>bd8c19f854ae8aa001056635221ed06f</td>\n",
       "    </tr>\n",
       "    <tr>\n",
       "      <th>14</th>\n",
       "      <td>e5f449f9a8c2f384baeabb78d4a5a06e</td>\n",
       "      <td>ActionResponse</td>\n",
       "      <td>2024-05-23T02:29:58.445443</td>\n",
       "      <td>assistant</td>\n",
       "      <td>{'action_response': {'function': 'query_codeba...</td>\n",
       "      <td>{'last_updated': {'function': '2024-05-23T02:2...</td>\n",
       "      <td>2bc1339f0190af59620163dc7a6cbc0c</td>\n",
       "      <td>bd8c19f854ae8aa001056635221ed06f</td>\n",
       "    </tr>\n",
       "    <tr>\n",
       "      <th>15</th>\n",
       "      <td>f69953c8019382f12ccf92688375fa12</td>\n",
       "      <td>ActionResponse</td>\n",
       "      <td>2024-05-23T02:29:58.445658</td>\n",
       "      <td>assistant</td>\n",
       "      <td>{'action_response': {'function': 'query_codeba...</td>\n",
       "      <td>{'last_updated': {'function': '2024-05-23T02:2...</td>\n",
       "      <td>2bc1339f0190af59620163dc7a6cbc0c</td>\n",
       "      <td>bd8c19f854ae8aa001056635221ed06f</td>\n",
       "    </tr>\n",
       "    <tr>\n",
       "      <th>16</th>\n",
       "      <td>d7cda5bf32d138433252ac5ce3049270</td>\n",
       "      <td>ActionResponse</td>\n",
       "      <td>2024-05-23T02:29:58.445877</td>\n",
       "      <td>assistant</td>\n",
       "      <td>{'action_response': {'function': 'query_codeba...</td>\n",
       "      <td>{'last_updated': {'function': '2024-05-23T02:2...</td>\n",
       "      <td>2bc1339f0190af59620163dc7a6cbc0c</td>\n",
       "      <td>bd8c19f854ae8aa001056635221ed06f</td>\n",
       "    </tr>\n",
       "    <tr>\n",
       "      <th>17</th>\n",
       "      <td>79a6c144b128272f9780bed82419fea4</td>\n",
       "      <td>Instruction</td>\n",
       "      <td>2024-05-23T02:29:58.447342</td>\n",
       "      <td>user</td>\n",
       "      <td>{'instruction': '\n",
       "        ## Task Instructions...</td>\n",
       "      <td>{'last_updated': {'sender': '2024-05-23T02:29:...</td>\n",
       "      <td>user</td>\n",
       "      <td>bd8c19f854ae8aa001056635221ed06f</td>\n",
       "    </tr>\n",
       "    <tr>\n",
       "      <th>18</th>\n",
       "      <td>6db573b479d3c234b6d823e1c47f75fd</td>\n",
       "      <td>AssistantResponse</td>\n",
       "      <td>2024-05-23T02:30:11.510558</td>\n",
       "      <td>assistant</td>\n",
       "      <td>{'assistant_response': '```json\n",
       "{\n",
       "  \"answer\": ...</td>\n",
       "      <td>{'last_updated': {'sender': '2024-05-23T02:30:...</td>\n",
       "      <td>bd8c19f854ae8aa001056635221ed06f</td>\n",
       "      <td>user</td>\n",
       "    </tr>\n",
       "    <tr>\n",
       "      <th>19</th>\n",
       "      <td>a29960f7f1e73b6d93ab901abe20c9ac</td>\n",
       "      <td>Instruction</td>\n",
       "      <td>2024-05-23T02:30:11.514222</td>\n",
       "      <td>user</td>\n",
       "      <td>{'instruction': 'please provide final answer b...</td>\n",
       "      <td>{'last_updated': {'sender': '2024-05-23T02:30:...</td>\n",
       "      <td>user</td>\n",
       "      <td>bd8c19f854ae8aa001056635221ed06f</td>\n",
       "    </tr>\n",
       "    <tr>\n",
       "      <th>20</th>\n",
       "      <td>cf4cab863035443cfde0a0d7fd90e33b</td>\n",
       "      <td>AssistantResponse</td>\n",
       "      <td>2024-05-23T02:30:22.817802</td>\n",
       "      <td>assistant</td>\n",
       "      <td>{'assistant_response': '```json\n",
       "{\n",
       "  \"answer\": ...</td>\n",
       "      <td>{'last_updated': {'sender': '2024-05-23T02:30:...</td>\n",
       "      <td>bd8c19f854ae8aa001056635221ed06f</td>\n",
       "      <td>user</td>\n",
       "    </tr>\n",
       "    <tr>\n",
       "      <th>21</th>\n",
       "      <td>75163140c440b4b84d74ec12ee5d86d2</td>\n",
       "      <td>Instruction</td>\n",
       "      <td>2024-05-23T02:30:22.818800</td>\n",
       "      <td>user</td>\n",
       "      <td>{'instruction': '\n",
       "provide documentation only: ...</td>\n",
       "      <td>{'last_updated': {'sender': '2024-05-23T02:30:...</td>\n",
       "      <td>user</td>\n",
       "      <td>bd8c19f854ae8aa001056635221ed06f</td>\n",
       "    </tr>\n",
       "    <tr>\n",
       "      <th>22</th>\n",
       "      <td>174dd37c7da5586bcd5b24e53fc88fac</td>\n",
       "      <td>AssistantResponse</td>\n",
       "      <td>2024-05-23T02:30:40.069181</td>\n",
       "      <td>assistant</td>\n",
       "      <td>{'assistant_response': '## Class: `Exchange`\n",
       "\n",
       "...</td>\n",
       "      <td>{'last_updated': {'sender': '2024-05-23T02:30:...</td>\n",
       "      <td>bd8c19f854ae8aa001056635221ed06f</td>\n",
       "      <td>user</td>\n",
       "    </tr>\n",
       "  </tbody>\n",
       "</table>\n",
       "</div>"
      ],
      "text/plain": [
       "                               ln_id       message_type  \\\n",
       "0   b3f9d9e433c9b8f06264dca5da0fa7fc             System   \n",
       "1   ace1db4e8d4f3299c4808010e3863f30        Instruction   \n",
       "2   d0b0f3d8dccc81aeb7b0dd2e14a666da  AssistantResponse   \n",
       "3   0c966480aaa778ef3f168a3f95af47b7      ActionRequest   \n",
       "4   47eea798102f70e7110d8a3360d16206      ActionRequest   \n",
       "5   61013d9cf3d0569acc3eaea3a3694b00      ActionRequest   \n",
       "6   8c2b2e0061cfe8824aa210ef62338114      ActionRequest   \n",
       "7   dbe6b08a0dfbe93a209c61532af06b8f      ActionRequest   \n",
       "8   7692617ecb59c252b31a1cc81f96353a      ActionRequest   \n",
       "9   6eb18790f3622c7ebb995134b454fe42      ActionRequest   \n",
       "10  4afa5f34399af4d90e96af14871d8a63     ActionResponse   \n",
       "11  96abd9842bf2d8294803440794495779     ActionResponse   \n",
       "12  7e40f6b1807f735ae06455c504f529f8     ActionResponse   \n",
       "13  763d8e009d7b2cb14a62ff7f573f3faf     ActionResponse   \n",
       "14  e5f449f9a8c2f384baeabb78d4a5a06e     ActionResponse   \n",
       "15  f69953c8019382f12ccf92688375fa12     ActionResponse   \n",
       "16  d7cda5bf32d138433252ac5ce3049270     ActionResponse   \n",
       "17  79a6c144b128272f9780bed82419fea4        Instruction   \n",
       "18  6db573b479d3c234b6d823e1c47f75fd  AssistantResponse   \n",
       "19  a29960f7f1e73b6d93ab901abe20c9ac        Instruction   \n",
       "20  cf4cab863035443cfde0a0d7fd90e33b  AssistantResponse   \n",
       "21  75163140c440b4b84d74ec12ee5d86d2        Instruction   \n",
       "22  174dd37c7da5586bcd5b24e53fc88fac  AssistantResponse   \n",
       "\n",
       "                     timestamp       role  \\\n",
       "0   2024-05-23T02:29:50.717726     system   \n",
       "1   2024-05-23T02:29:50.779740       user   \n",
       "2   2024-05-23T02:29:56.429577  assistant   \n",
       "3   2024-05-23T02:29:56.432135  assistant   \n",
       "4   2024-05-23T02:29:56.432519  assistant   \n",
       "5   2024-05-23T02:29:56.432658  assistant   \n",
       "6   2024-05-23T02:29:56.432780  assistant   \n",
       "7   2024-05-23T02:29:56.432920  assistant   \n",
       "8   2024-05-23T02:29:56.433037  assistant   \n",
       "9   2024-05-23T02:29:56.433161  assistant   \n",
       "10  2024-05-23T02:29:58.444030  assistant   \n",
       "11  2024-05-23T02:29:58.444755  assistant   \n",
       "12  2024-05-23T02:29:58.445002  assistant   \n",
       "13  2024-05-23T02:29:58.445224  assistant   \n",
       "14  2024-05-23T02:29:58.445443  assistant   \n",
       "15  2024-05-23T02:29:58.445658  assistant   \n",
       "16  2024-05-23T02:29:58.445877  assistant   \n",
       "17  2024-05-23T02:29:58.447342       user   \n",
       "18  2024-05-23T02:30:11.510558  assistant   \n",
       "19  2024-05-23T02:30:11.514222       user   \n",
       "20  2024-05-23T02:30:22.817802  assistant   \n",
       "21  2024-05-23T02:30:22.818800       user   \n",
       "22  2024-05-23T02:30:40.069181  assistant   \n",
       "\n",
       "                                              content  \\\n",
       "0   {'system_info': '\n",
       "you are a helpful assistant,...   \n",
       "1   {'instruction': '\n",
       "        ## Task Instructions...   \n",
       "2   {'assistant_response': '```json\n",
       "{\n",
       "  \"answer\": ...   \n",
       "3   {'action_request': {'function': 'query_codebas...   \n",
       "4   {'action_request': {'function': 'query_codebas...   \n",
       "5   {'action_request': {'function': 'query_codebas...   \n",
       "6   {'action_request': {'function': 'query_codebas...   \n",
       "7   {'action_request': {'function': 'query_codebas...   \n",
       "8   {'action_request': {'function': 'query_codebas...   \n",
       "9   {'action_request': {'function': 'query_codebas...   \n",
       "10  {'action_response': {'function': 'query_codeba...   \n",
       "11  {'action_response': {'function': 'query_codeba...   \n",
       "12  {'action_response': {'function': 'query_codeba...   \n",
       "13  {'action_response': {'function': 'query_codeba...   \n",
       "14  {'action_response': {'function': 'query_codeba...   \n",
       "15  {'action_response': {'function': 'query_codeba...   \n",
       "16  {'action_response': {'function': 'query_codeba...   \n",
       "17  {'instruction': '\n",
       "        ## Task Instructions...   \n",
       "18  {'assistant_response': '```json\n",
       "{\n",
       "  \"answer\": ...   \n",
       "19  {'instruction': 'please provide final answer b...   \n",
       "20  {'assistant_response': '```json\n",
       "{\n",
       "  \"answer\": ...   \n",
       "21  {'instruction': '\n",
       "provide documentation only: ...   \n",
       "22  {'assistant_response': '## Class: `Exchange`\n",
       "\n",
       "...   \n",
       "\n",
       "                                             metadata  \\\n",
       "0   {'last_updated': {'recipient': '2024-05-23T02:...   \n",
       "1   {'last_updated': {'sender': '2024-05-23T02:29:...   \n",
       "2   {'last_updated': {'sender': '2024-05-23T02:29:...   \n",
       "3   {'last_updated': {'function': '2024-05-23T02:2...   \n",
       "4   {'last_updated': {'function': '2024-05-23T02:2...   \n",
       "5   {'last_updated': {'function': '2024-05-23T02:2...   \n",
       "6   {'last_updated': {'function': '2024-05-23T02:2...   \n",
       "7   {'last_updated': {'function': '2024-05-23T02:2...   \n",
       "8   {'last_updated': {'function': '2024-05-23T02:2...   \n",
       "9   {'last_updated': {'function': '2024-05-23T02:2...   \n",
       "10  {'last_updated': {'function': '2024-05-23T02:2...   \n",
       "11  {'last_updated': {'function': '2024-05-23T02:2...   \n",
       "12  {'last_updated': {'function': '2024-05-23T02:2...   \n",
       "13  {'last_updated': {'function': '2024-05-23T02:2...   \n",
       "14  {'last_updated': {'function': '2024-05-23T02:2...   \n",
       "15  {'last_updated': {'function': '2024-05-23T02:2...   \n",
       "16  {'last_updated': {'function': '2024-05-23T02:2...   \n",
       "17  {'last_updated': {'sender': '2024-05-23T02:29:...   \n",
       "18  {'last_updated': {'sender': '2024-05-23T02:30:...   \n",
       "19  {'last_updated': {'sender': '2024-05-23T02:30:...   \n",
       "20  {'last_updated': {'sender': '2024-05-23T02:30:...   \n",
       "21  {'last_updated': {'sender': '2024-05-23T02:30:...   \n",
       "22  {'last_updated': {'sender': '2024-05-23T02:30:...   \n",
       "\n",
       "                              sender                         recipient  \n",
       "0                             system  bd8c19f854ae8aa001056635221ed06f  \n",
       "1                               user  bd8c19f854ae8aa001056635221ed06f  \n",
       "2   bd8c19f854ae8aa001056635221ed06f                              user  \n",
       "3   bd8c19f854ae8aa001056635221ed06f  2bc1339f0190af59620163dc7a6cbc0c  \n",
       "4   bd8c19f854ae8aa001056635221ed06f  2bc1339f0190af59620163dc7a6cbc0c  \n",
       "5   bd8c19f854ae8aa001056635221ed06f  2bc1339f0190af59620163dc7a6cbc0c  \n",
       "6   bd8c19f854ae8aa001056635221ed06f  2bc1339f0190af59620163dc7a6cbc0c  \n",
       "7   bd8c19f854ae8aa001056635221ed06f  2bc1339f0190af59620163dc7a6cbc0c  \n",
       "8   bd8c19f854ae8aa001056635221ed06f  2bc1339f0190af59620163dc7a6cbc0c  \n",
       "9   bd8c19f854ae8aa001056635221ed06f  2bc1339f0190af59620163dc7a6cbc0c  \n",
       "10  2bc1339f0190af59620163dc7a6cbc0c  bd8c19f854ae8aa001056635221ed06f  \n",
       "11  2bc1339f0190af59620163dc7a6cbc0c  bd8c19f854ae8aa001056635221ed06f  \n",
       "12  2bc1339f0190af59620163dc7a6cbc0c  bd8c19f854ae8aa001056635221ed06f  \n",
       "13  2bc1339f0190af59620163dc7a6cbc0c  bd8c19f854ae8aa001056635221ed06f  \n",
       "14  2bc1339f0190af59620163dc7a6cbc0c  bd8c19f854ae8aa001056635221ed06f  \n",
       "15  2bc1339f0190af59620163dc7a6cbc0c  bd8c19f854ae8aa001056635221ed06f  \n",
       "16  2bc1339f0190af59620163dc7a6cbc0c  bd8c19f854ae8aa001056635221ed06f  \n",
       "17                              user  bd8c19f854ae8aa001056635221ed06f  \n",
       "18  bd8c19f854ae8aa001056635221ed06f                              user  \n",
       "19                              user  bd8c19f854ae8aa001056635221ed06f  \n",
       "20  bd8c19f854ae8aa001056635221ed06f                              user  \n",
       "21                              user  bd8c19f854ae8aa001056635221ed06f  \n",
       "22  bd8c19f854ae8aa001056635221ed06f                              user  "
      ]
     },
     "execution_count": 11,
     "metadata": {},
     "output_type": "execute_result"
    }
   ],
   "source": [
    "branch.to_df()"
   ]
  },
  {
   "cell_type": "code",
   "execution_count": 12,
   "metadata": {},
   "outputs": [],
   "source": [
    "msg = branch.messages[2]"
   ]
  },
  {
   "cell_type": "code",
   "execution_count": 13,
   "metadata": {},
   "outputs": [
    {
     "data": {
      "text/plain": [
       "{'tools': [{'type': 'function',\n",
       "   'function': {'name': 'query_codebase',\n",
       "    'description': 'Perform a query to a QA bot with access to a vector',\n",
       "    'parameters': {'type': 'object',\n",
       "     'properties': {'query': {'type': 'string',\n",
       "       'description': 'The query string to search for in the codebase.'}},\n",
       "     'required': ['query']}}}]}"
      ]
     },
     "execution_count": 13,
     "metadata": {},
     "output_type": "execute_result"
    }
   ],
   "source": [
    "form.tool_schema"
   ]
  },
  {
   "cell_type": "code",
   "execution_count": 14,
   "metadata": {},
   "outputs": [
    {
     "data": {
      "text/plain": [
       "ln_id                                  4c889e7b99048dbdce4be116fccc85b6\n",
       "created                                      2024-05-23T02:29:50.779462\n",
       "metadata              {'last_updated': {'input_fields': '2024-05-23T...\n",
       "content                                                            None\n",
       "template_name                                             UnitDirective\n",
       "assignment                                               task -> answer\n",
       "input_fields                                        [task, tool_schema]\n",
       "requested_fields      [answer, reason, actions, action_required, ext...\n",
       "task                  Follow the prompt and provide the necessary ou...\n",
       "validation_kwargs     {'reason': {}, 'actions': {}, 'action_required...\n",
       "confidence_score                                                   None\n",
       "reason                Let's think step by step. To create accurate A...\n",
       "actions               {'action_1': {'function': 'query_codebase', 'a...\n",
       "action_required                                                    True\n",
       "answer                ## Class: `Exchange`\\n\\n**Description**:  \\n`E...\n",
       "extension_required                                                 True\n",
       "prediction                                                         None\n",
       "plan                                                               None\n",
       "next_steps                                                         None\n",
       "score                                                                 8\n",
       "reflection                                                         None\n",
       "selection                                                          None\n",
       "tool_schema           {'tools': [{'type': 'function', 'function': {'...\n",
       "action_response       {'action_1': {'function': 'query_codebase', 'a...\n",
       "action_performed                                                   True\n",
       "extension_forms       [{'ln_id': '53c6f31562f773d53ca49f6dd57a05ea',...\n",
       "class_name                                                     UnitForm\n",
       "dtype: object"
      ]
     },
     "execution_count": 14,
     "metadata": {},
     "output_type": "execute_result"
    }
   ],
   "source": [
    "form"
   ]
  },
  {
   "cell_type": "code",
   "execution_count": 15,
   "metadata": {},
   "outputs": [
    {
     "data": {
      "text/plain": [
       "1"
      ]
     },
     "execution_count": 15,
     "metadata": {},
     "output_type": "execute_result"
    }
   ],
   "source": [
    "len(form.extension_forms)"
   ]
  },
  {
   "cell_type": "code",
   "execution_count": 16,
   "metadata": {},
   "outputs": [
    {
     "data": {
      "text/markdown": [
       "**task**: \n",
       " Follow the prompt and provide the necessary output.\n",
       "- Additional instruction: N/A\n",
       "- Additional context: N/A\n",
       "- Reason and prepare actions with GIVEN TOOLS ONLY.\n",
       "- Allow auto-extension up to another 1 rounds.\n",
       "- Give a numeric score in [0, 10] and precision of 0 decimal places.\n"
      ],
      "text/plain": [
       "<IPython.core.display.Markdown object>"
      ]
     },
     "metadata": {},
     "output_type": "display_data"
    },
    {
     "data": {
      "text/markdown": [
       "**reason**: \n",
       " Let's think step by step. We have gathered the necessary information about the classes and methods used in the provided code. This includes understanding the roles of `Element`, `Field`, `Sendable`, `Pile`, `pile`, `Progression`, and `progression`. With this information, we can now create accurate and comprehensive API documentation for the `Exchange` class."
      ],
      "text/plain": [
       "<IPython.core.display.Markdown object>"
      ]
     },
     "metadata": {},
     "output_type": "display_data"
    },
    {
     "data": {
      "text/markdown": [
       "**actions**: "
      ],
      "text/plain": [
       "<IPython.core.display.Markdown object>"
      ]
     },
     "metadata": {},
     "output_type": "display_data"
    },
    {
     "data": {
      "text/markdown": [
       "**action_required**: False"
      ],
      "text/plain": [
       "<IPython.core.display.Markdown object>"
      ]
     },
     "metadata": {},
     "output_type": "display_data"
    },
    {
     "data": {
      "text/markdown": [
       "**extension_required**: False"
      ],
      "text/plain": [
       "<IPython.core.display.Markdown object>"
      ]
     },
     "metadata": {},
     "output_type": "display_data"
    },
    {
     "data": {
      "text/markdown": [
       "**score**: 10"
      ],
      "text/plain": [
       "<IPython.core.display.Markdown object>"
      ]
     },
     "metadata": {},
     "output_type": "display_data"
    },
    {
     "data": {
      "text/markdown": [
       "**available_tools**: ['query_codebase']"
      ],
      "text/plain": [
       "<IPython.core.display.Markdown object>"
      ]
     },
     "metadata": {},
     "output_type": "display_data"
    },
    {
     "data": {
      "text/markdown": [
       "**answer**: \n",
       " The API documentation for the provided code is as follows:\n",
       "\n",
       "## Class: `Exchange`\n",
       "\n",
       "**Description**:\n",
       "`Exchange` is an item exchange system designed to handle incoming and outgoing flows of items. It manages a collection of items (`pile`), pending incoming items (`pending_ins`), and pending outgoing items (`pending_outs`).\n",
       "\n",
       "### Attributes:\n",
       "- `pile` (Pile[T]): The pile of items in the exchange.\n",
       "- `pending_ins` (dict[str, Progression]): The pending incoming items to the exchange.\n",
       "- `pending_outs` (Progression): The pending outgoing items from the exchange.\n",
       "\n",
       "### Methods:\n",
       "\n",
       "#### `__contains__(self, item)`\n",
       "\n",
       "**Signature**:\n",
       "```python\n",
       "def __contains__(self, item) -> bool:\n",
       "```\n",
       "\n",
       "**Parameters**:\n",
       "- `item`: The item to check for existence in the pile.\n",
       "\n",
       "**Return Values**:\n",
       "- `bool`: Returns `True` if the item is in the pile, otherwise `False`.\n",
       "\n",
       "**Usage Examples**:\n",
       "```python\n",
       "exchange = Exchange()\n",
       "item = ...  # some item\n",
       "if item in exchange:\n",
       "    print(\"Item is in the exchange.\")\n",
       "else:\n",
       "    print(\"Item is not in the exchange.\")\n",
       "```\n",
       "\n",
       "#### `exclude(self, item)`\n",
       "\n",
       "**Signature**:\n",
       "```python\n",
       "def exclude(self, item) -> bool:\n",
       "```\n",
       "\n",
       "**Parameters**:\n",
       "- `item`: The item to exclude from the exchange.\n",
       "\n",
       "**Return Values**:\n",
       "- `bool`: Returns `True` if the item was successfully excluded from the pile and all pending lists, otherwise `False`.\n",
       "\n",
       "**Usage Examples**:\n",
       "```python\n",
       "exchange = Exchange()\n",
       "item = ...  # some item\n",
       "success = exchange.exclude(item)\n",
       "if success:\n",
       "    print(\"Item excluded successfully.\")\n",
       "else:\n",
       "    print(\"Failed to exclude item.\")\n",
       "```\n",
       "\n",
       "#### `include(self, item, direction)`\n",
       "\n",
       "**Signature**:\n",
       "```python\n",
       "def include(self, item, direction) -> bool:\n",
       "```\n",
       "\n",
       "**Parameters**:\n",
       "- `item`: The item to include in the exchange.\n",
       "- `direction` (str): The direction of the item flow, either \"in\" or \"out\".\n",
       "\n",
       "**Return Values**:\n",
       "- `bool`: Returns `True` if the item was successfully included in the pile and the specified direction, otherwise `False`.\n",
       "\n",
       "**Usage Examples**:\n",
       "```python\n",
       "exchange = Exchange()\n",
       "item = ...  # some item\n",
       "direction = \"in\"\n",
       "success = exchange.include(item, direction)\n",
       "if success:\n",
       "    print(\"Item included successfully.\")\n",
       "else:\n",
       "    print(\"Failed to include item.\")\n",
       "```\n",
       "\n",
       "#### `to_dict(self)`\n",
       "\n",
       "**Signature**:\n",
       "```python\n",
       "def to_dict(self) -> dict:\n",
       "```\n",
       "\n",
       "**Return Values**:\n",
       "- `dict`: Returns a dictionary representation of the exchange.\n",
       "\n",
       "**Usage Examples**:\n",
       "```python\n",
       "exchange = Exchange()\n",
       "exchange_dict = exchange.to_dict()\n",
       "print(exchange_dict)\n",
       "```\n"
      ],
      "text/plain": [
       "<IPython.core.display.Markdown object>"
      ]
     },
     "metadata": {},
     "output_type": "display_data"
    }
   ],
   "source": [
    "form.extension_forms[0].display()"
   ]
  }
 ],
 "metadata": {
  "kernelspec": {
   "display_name": ".venv",
   "language": "python",
   "name": "python3"
  },
  "language_info": {
   "codemirror_mode": {
    "name": "ipython",
    "version": 3
   },
   "file_extension": ".py",
   "mimetype": "text/x-python",
   "name": "python",
   "nbconvert_exporter": "python",
   "pygments_lexer": "ipython3",
   "version": "3.12.1"
  }
 },
 "nbformat": 4,
 "nbformat_minor": 2
}
