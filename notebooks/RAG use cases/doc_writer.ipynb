{
 "cells": [
  {
   "cell_type": "code",
   "execution_count": 1,
   "metadata": {},
   "outputs": [],
   "source": [
    "import lionagi as li"
   ]
  },
  {
   "cell_type": "code",
   "execution_count": 2,
   "metadata": {},
   "outputs": [],
   "source": [
    "from pathlib import Path\n",
    "\n",
    "data_path = Path.cwd() / \"lionagi_data\"  # Path to the data directory"
   ]
  },
  {
   "cell_type": "markdown",
   "metadata": {},
   "source": [
    "### Prepare Data"
   ]
  },
  {
   "cell_type": "code",
   "execution_count": null,
   "metadata": {},
   "outputs": [],
   "source": [
    "# load files from directory\n",
    "docs = li.load(input_dir=data_path, recursive=True, required_exts=[\".py\"])\n",
    "docs = [doc for doc in docs if len(doc.content) > 100]"
   ]
  },
  {
   "cell_type": "code",
   "execution_count": null,
   "metadata": {},
   "outputs": [],
   "source": [
    "# # chunk\n",
    "# pile = li.chunk(docs=docs, chunk_size=2000, overlap=0.1)\n",
    "\n",
    "# embed\n",
    "# await pile.embed_pile()\n",
    "\n",
    "# # save\n",
    "# pile.to_csv(\"lionagi_embedding.csv\")"
   ]
  },
  {
   "cell_type": "code",
   "execution_count": 6,
   "metadata": {},
   "outputs": [],
   "source": [
    "# reload pile from saved csv\n",
    "pile = li.pile(csv_file=\"lionagi_embedding.csv\") "
   ]
  },
  {
   "cell_type": "code",
   "execution_count": 4,
   "metadata": {},
   "outputs": [
    {
     "data": {
      "text/plain": [
       "'In lionagi, a session is an object that manages interactions and data flow within the system. It includes components such as a system message node, a model, a datalogger, and various tools and branches. The session is initialized with parameters like system messages, sender information, configuration settings, and service details. It also handles the logging of data and the management of tools and messages.'"
      ]
     },
     "execution_count": 4,
     "metadata": {},
     "output_type": "execute_result"
    }
   ],
   "source": [
    "await pile.query_pile(\"what is session in lionagi?\")"
   ]
  },
  {
   "cell_type": "markdown",
   "metadata": {},
   "source": [
    "### Construct Workflow"
   ]
  },
  {
   "cell_type": "code",
   "execution_count": 7,
   "metadata": {},
   "outputs": [],
   "source": [
    "instruction = \"\"\"\n",
    "write a good API documentation for this code, must use \n",
    "query engine to check meanings of related code concepts \n",
    "to accurately describe, for example if a name of a variable,\n",
    "function, class, or module is used but not present in context,\n",
    "you must check with the query engine. make sure to cross \n",
    "reference the code with the query engine to ensure the \n",
    "documentation is accurate\n",
    "\"\"\"\n",
    "\n",
    "edit = \"\"\"\n",
    "provide documentation only: final documentation in md \n",
    "format of the module of interest, do not include other \n",
    "fields do not present in JSON format, only markdown format \n",
    "you asked a lot of good questions and got plenty answers, \n",
    "please integrate your conversation, be a lot more technical, you will \n",
    "be rewarded with 500 dollars for great work, and \n",
    "punished for subpar work, take a deep breath, you can do it\n",
    "\"\"\""
   ]
  },
  {
   "cell_type": "code",
   "execution_count": 8,
   "metadata": {},
   "outputs": [],
   "source": [
    "from PROMPTS import sys_prompt  # put your system prompt here\n",
    "\n",
    "model = li.iModel(\n",
    "    model=\"gpt-4o\",\n",
    "    provider=\"openai\",\n",
    "    interval_tokens=1_000_000,\n",
    "    interval_requests=1_000,\n",
    "    interval=60,\n",
    ")\n",
    "\n",
    "from llama_index.core.postprocessor import LLMRerank\n",
    "\n",
    "tools = pile.as_query_tool(\n",
    "    name=\"qa_lionagi\",\n",
    "    guidance=\"Perform query to a QA bot\", \n",
    "    query_description=\"a term/phrase to lookup or a question to answer\",\n",
    "    node_postprocessor=LLMRerank(), \n",
    ")"
   ]
  },
  {
   "cell_type": "code",
   "execution_count": 9,
   "metadata": {},
   "outputs": [],
   "source": [
    "async def write_doc(context):\n",
    "    branch = li.Branch(\n",
    "        system=sys_prompt, \n",
    "        tools=tools, \n",
    "        imodel=model\n",
    "    )\n",
    "\n",
    "    form = await branch.direct(\n",
    "        instruction=instruction,\n",
    "        context=context,\n",
    "        reason=True,\n",
    "        score=True,\n",
    "        allow_action=True,\n",
    "        allow_extension=True,\n",
    "        max_extension=2,\n",
    "    )\n",
    "    \n",
    "    if form is None:\n",
    "        print(\"No form returned\")\n",
    "        return None, None\n",
    "\n",
    "    form.answer = await branch.chat(\n",
    "        instruction=edit,\n",
    "        temperature=0.5,\n",
    "    )\n",
    "    \n",
    "    # save all messages into a unique file\n",
    "    df = branch.to_df()\n",
    "    df.to_csv(f\"lion_doc_{branch.ln_id[:8]}.csv\", index=False)\n",
    "\n",
    "    return form, branch"
   ]
  },
  {
   "cell_type": "markdown",
   "metadata": {},
   "source": [
    "### Run workflow"
   ]
  },
  {
   "cell_type": "code",
   "execution_count": 10,
   "metadata": {},
   "outputs": [],
   "source": [
    "form, branch = await write_doc(docs[82].content)"
   ]
  },
  {
   "cell_type": "code",
   "execution_count": 11,
   "metadata": {},
   "outputs": [
    {
     "data": {
      "text/markdown": [
       "**task**: \n",
       " Follow the prompt and provide the necessary output.\n",
       "- Additional instruction: \n",
       "write a good API documentation for this code, must use \n",
       "query engine to check meanings of related code concepts \n",
       "to accurately describe, for example if a name of a variable,\n",
       "function, class, or module is used but not present in context,\n",
       "you must check with the query engine. make sure to cross \n",
       "reference the code with the query engine to ensure the \n",
       "documentation is accurate\n",
       "\n",
       "- Additional context: \"\"\"\n",
       "Copyright 2024 HaiyangLi\n",
       "Licensed under the Apache License, Version 2.0 (the \"License\");\n",
       "you may not use this file except in compliance with the License.\n",
       "You may obtain a copy of the License at\n",
       " http://www.apache.org/licenses/LICENSE-2.0\n",
       "Unless required by applicable law or agreed to in writing, software\n",
       "distributed under the License is distributed on an \"AS IS\" BASIS,\n",
       "WITHOUT WARRANTIES OR CONDITIONS OF ANY KIND, either express or implied.\n",
       "See the License for the specific language governing permissions and\n",
       "limitations under the License.\n",
       "\"\"\"\n",
       "import atexit\n",
       "import contextlib\n",
       "import logging\n",
       "from collections import deque\n",
       "from dataclasses import dataclass\n",
       "from pathlib import Path\n",
       "from typing import Any, Dict, List\n",
       "from lionagi.libs import SysUtil, convert, nested\n",
       "\n",
       "# TODO: there should be a global data logger, under setting\n",
       "\n",
       "@dataclass\n",
       "class DLog:\n",
       " \"\"\"Defines a log entry structure for data processing operations.\n",
       " This class encapsulates both the input to and output from a data processing\n",
       " operation, along with an automatically generated timestamp indicating when\n",
       " the log entry was created. It aims to standardize logging across applications\n",
       " for easier analysis and debugging.\n",
       " Attributes:\n",
       "  input_data: The data input to the operation. Can be of any type.\n",
       "  output_data: The data output by the operation. Can be of any type.\n",
       " \"\"\"\n",
       " input_data: Any\n",
       " output_data: Any\n",
       " def serialize(self, *, flatten_: bool = True, sep: str = \"[^_^]\") -> dict[str, Any]:\n",
       "  \"\"\"Serialize the DLog instance into a dictionary wit..."
      ],
      "text/plain": [
       "<IPython.core.display.Markdown object>"
      ]
     },
     "metadata": {},
     "output_type": "display_data"
    },
    {
     "data": {
      "text/markdown": [
       "**reason**: \n",
       " Let's think step by step, The task requires writing good API documentation for the provided code. To ensure accuracy, we need to cross-reference the code with a query engine to check the meanings of related code concepts. This will help us accurately describe the variables, functions, classes, and modules used in the code. Given the complexity and the need for accurate cross-referencing, we should use the available tool to perform queries as needed."
      ],
      "text/plain": [
       "<IPython.core.display.Markdown object>"
      ]
     },
     "metadata": {},
     "output_type": "display_data"
    },
    {
     "data": {
      "text/markdown": [
       "**actions**: \n",
       " \n",
       " \n",
       "1. **qa_lionagi**(query: What is the purpose of the 'SysUtil' module in the provided code?), \n",
       " \n",
       "2. **qa_lionagi**(query: What does the 'convert' module do in the provided code?), \n",
       " \n",
       "3. **qa_lionagi**(query: What is the functionality of the 'nested' module in the provided code?)"
      ],
      "text/plain": [
       "<IPython.core.display.Markdown object>"
      ]
     },
     "metadata": {},
     "output_type": "display_data"
    },
    {
     "data": {
      "text/markdown": [
       "**action_required**: True"
      ],
      "text/plain": [
       "<IPython.core.display.Markdown object>"
      ]
     },
     "metadata": {},
     "output_type": "display_data"
    },
    {
     "data": {
      "text/markdown": [
       "**extension_required**: True"
      ],
      "text/plain": [
       "<IPython.core.display.Markdown object>"
      ]
     },
     "metadata": {},
     "output_type": "display_data"
    },
    {
     "data": {
      "text/markdown": [
       "**score**: 7"
      ],
      "text/plain": [
       "<IPython.core.display.Markdown object>"
      ]
     },
     "metadata": {},
     "output_type": "display_data"
    },
    {
     "data": {
      "text/markdown": [
       "**action_response**: \n",
       " \n",
       " \n",
       "1. **qa_lionagi**(query: What is the purpose of the 'SysUtil' module in the provided code?) \n",
       " \n",
       " The 'SysUtil' module in the provided code is designed to offer various system utility functions. These functions include sleeping for a specified duration, retrieving the current time in different formats, changing dictionary keys, generating timestamps, creating copies of objects, generating unique IDs, binning data, and determining the CPU architecture. The module is tested using unit tests to ensure its functionality., \n",
       " \n",
       "2. **qa_lionagi**(query: What does the 'convert' module do in the provided code?) \n",
       " \n",
       " The 'convert' module in the provided code is used to convert various inputs into a list format using the `convert.to_list` function. This function ensures that the inputs, whether they are single items or multiple items, are treated as lists for further processing., \n",
       " \n",
       "3. **qa_lionagi**(query: What is the functionality of the 'nested' module in the provided code?) \n",
       " \n",
       " The 'nested' module in the provided code is designed to handle operations on nested data structures such as dictionaries and lists. It includes functions for setting values (`nset`), retrieving values (`nget`), flattening nested structures (`flatten`), unflattening them (`unflatten`), filtering items (`nfilter`), and inserting values (`ninsert`). The module is tested using various unit tests to ensure these functions work correctly with different types of nested data."
      ],
      "text/plain": [
       "<IPython.core.display.Markdown object>"
      ]
     },
     "metadata": {},
     "output_type": "display_data"
    },
    {
     "data": {
      "text/markdown": [
       "**action_performed**: True"
      ],
      "text/plain": [
       "<IPython.core.display.Markdown object>"
      ]
     },
     "metadata": {},
     "output_type": "display_data"
    },
    {
     "data": {
      "text/markdown": [
       "**available_tools**: ['qa_lionagi']"
      ],
      "text/plain": [
       "<IPython.core.display.Markdown object>"
      ]
     },
     "metadata": {},
     "output_type": "display_data"
    },
    {
     "data": {
      "text/markdown": [
       "**answer**: \n",
       " # API Documentation\n",
       "\n",
       "## Class: `DLog`\n",
       "\n",
       "**Description**:  \n",
       "`DLog` defines a log entry structure for data processing operations. This class encapsulates both the input to and output from a data processing operation, along with an automatically generated timestamp indicating when the log entry was created. It aims to standardize logging across applications for easier analysis and debugging.\n",
       "\n",
       "### Method: `serialize`\n",
       "\n",
       "**Signature**:  \n",
       "```python\n",
       "def serialize(self, *, flatten_: bool = True, sep: str = \"[^_^]\") -> dict[str, Any]:\n",
       "```\n",
       "\n",
       "**Parameters**:\n",
       "- `flatten_` (bool): If True, flattens dictionary inputs for serialization.\n",
       "- `sep` (str): Separator used in flattening nested dictionaries.\n",
       "\n",
       "**Return Values**:\n",
       "- `dict[str, Any]`: A dictionary representation of the `DLog` instance, including `input_data`, `output_data`, and `timestamp`.\n",
       "\n",
       "**Exceptions Raised**:\n",
       "- `Exception`: If there is an error in processing data to string.\n",
       "\n",
       "**Usage Examples**:\n",
       "```python\n",
       "log_entry = DLog(input_data={\"key\": \"value\"}, output_data={\"result\": \"success\"})\n",
       "serialized_log = log_entry.serialize()\n",
       "print(serialized_log)\n",
       "```\n",
       "\n",
       "### Method: `deserialize`\n",
       "\n",
       "**Signature**:  \n",
       "```python\n",
       "def deserialize(cls, *, input_str: str, output_str: str, unflatten_: bool = True, sep: str = \"[^_^]\") -> \"DLog\":\n",
       "```\n",
       "\n",
       "**Parameters**:\n",
       "- `input_str` (str): String representation of the input data.\n",
       "- `output_str` (str): String representation of the output data.\n",
       "- `unflatten_` (bool): Indicates whether to unflatten the string data back into nested dictionaries.\n",
       "- `sep` (str): Separator used if unflattening is performed.\n",
       "\n",
       "**Return Values**:\n",
       "- `DLog`: An instance of `DLog` reconstructed from the provided string data.\n",
       "\n",
       "**Exceptions Raised**:\n",
       "- `ValueError`: If deserialization or unflattening fails due to incorrect data format or separator issues.\n",
       "\n",
       "**Usage Examples**:\n",
       "```python\n",
       "serialized_log = {\"input_data\": \"{\\\\\"key\\\\\": \\\\\"value\\\\\"}\", \"output_data\": \"{\\\\\"result\\\\\": \\\\\"success\\\\\"}\"}\n",
       "deserialized_log = DLog.deserialize(input_str=serialized_log[\"input_data\"], output_str=serialized_log[\"output_data\"])\n",
       "print(deserialized_log)\n",
       "```\n",
       "\n",
       "## Class: `DataLogger`\n",
       "\n",
       "**Description**:  \n",
       "`DataLogger` manages logging for data processing activities within an application. This class handles the accumulation, structuring, and persistence of log entries. It supports exporting logs to disk in both CSV and JSON formats, with features for automatic log saving at program exit and customizable file naming.\n",
       "\n",
       "### Method: `__init__`\n",
       "\n",
       "**Signature**:  \n",
       "```python\n",
       "def __init__(self, persist_path: str | Path | None = None, log: List[Dict] | None = None, filename: str | None = None) -> None:\n",
       "```\n",
       "\n",
       "**Parameters**:\n",
       "- `persist_path` (str | Path | None): The file system path for storing log files. Defaults to `data/logs/`.\n",
       "- `log` (List[Dict] | None): Initial log entries.\n",
       "- `filename` (str | None): Base name for exported log files.\n",
       "\n",
       "**Usage Examples**:\n",
       "```python\n",
       "data_logger = DataLogger(persist_path=\"/path/to/logs\", filename=\"my_log\")\n",
       "```\n",
       "\n",
       "### Method: `extend`\n",
       "\n",
       "**Signature**:  \n",
       "```python\n",
       "def extend(self, logs) -> None:\n",
       "```\n",
       "\n",
       "**Parameters**:\n",
       "- `logs` (List[Dict]): A list of log entries, each as a dictionary conforming to the log structure (e.g., containing `input_data`, `output_data`, etc.).\n",
       "\n",
       "**Usage Examples**:\n",
       "```python\n",
       "logs = [{\"input_data\": \"data1\", \"output_data\": \"result1\"}, {\"input_data\": \"data2\", \"output_data\": \"result2\"}]\n",
       "data_logger.extend(logs)\n",
       "```\n",
       "\n",
       "### Method: `append`\n",
       "\n",
       "**Signature**:  \n",
       "```python\n",
       "def append(self, *, input_data: Any, output_data: Any) -> None:\n",
       "```\n",
       "\n",
       "**Parameters**:\n",
       "- `input_data` (Any): Input data to the operation.\n",
       "- `output_data` (Any): Output data from the operation.\n",
       "\n",
       "**Usage Examples**:\n",
       "```python\n",
       "data_logger.append(input_data=\"data3\", output_data=\"result3\")\n",
       "```\n",
       "\n",
       "### Method: `to_csv_file`\n",
       "\n",
       "**Signature**:  \n",
       "```python\n",
       "def to_csv_file(self, filename: str = \"log.csv\", *, dir_exist_ok: bool = True, timestamp: bool = True, time_prefix: bool = False, verbose: bool = True, clear: bool = True, flatten_: bool = True, sep: str = \"[^_^]\", index: bool = False, random_hash_digits: int = 3, **kwargs) -> None:\n",
       "```\n",
       "\n",
       "**Parameters**:\n",
       "- `filename` (str): Filename for the exported CSV. Defaults to `log.csv`.\n",
       "- `dir_exist_ok` (bool): If True, allows writing to an existing directory.\n",
       "- `timestamp` (bool): If True, appends a timestamp to the filename.\n",
       "- `time_prefix` (bool): If True, places the timestamp prefix before the filename.\n",
       "- `verbose` (bool): If True, prints a message upon successful save.\n",
       "- `clear` (bool): If True, clears the log deque after saving.\n",
       "- `flatten_` (bool): If True, flattens dictionary data for serialization.\n",
       "- `sep` (str): Separator for flattening nested dictionaries.\n",
       "- `index` (bool): If True, includes an index column in the CSV.\n",
       "- `random_hash_digits` (int): Number of random hash digits to add to the filename.\n",
       "- `**kwargs`: Additional arguments for DataFrame.to_csv().\n",
       "\n",
       "**Usage Examples**:\n",
       "```python\n",
       "data_logger.to_csv_file(filename=\"my_log.csv\")\n",
       "```\n",
       "\n",
       "### Method: `to_json_file`\n",
       "\n",
       "**Signature**:  \n",
       "```python\n",
       "def to_json_file(self, filename: str = \"log.json\", *, dir_exist_ok: bool = True, timestamp: bool = True, time_prefix: bool = False, verbose: bool = True, clear: bool = True, flatten_: bool = True, sep: str = \"[^_^]\", index: bool = False, random_hash_digits: int = 3, **kwargs) -> None:\n",
       "```\n",
       "\n",
       "**Parameters**:\n",
       "- `filename` (str): Filename for the exported JSON. Defaults to `log.json`.\n",
       "- `dir_exist_ok` (bool): If True, allows writing to an existing directory.\n",
       "- `timestamp` (bool): If True, appends a timestamp to the filename.\n",
       "- `time_prefix` (bool): If True, places the timestamp prefix before the filename.\n",
       "- `verbose` (bool): If True, prints a message upon successful save.\n",
       "- `clear` (bool): If True, clears the log deque after saving.\n",
       "- `flatten_` (bool): If True, flattens dictionary data for serialization.\n",
       "- `sep` (str): Separator for flattening nested dictionaries.\n",
       "- `index` (bool): If True, includes an index in the JSON.\n",
       "- `random_hash_digits` (int): Number of random hash digits to add to the filename.\n",
       "- `**kwargs`: Additional arguments for DataFrame.to_json().\n",
       "\n",
       "**Usage Examples**:\n",
       "```python\n",
       "data_logger.to_json_file(filename=\"my_log.json\")\n",
       "```\n",
       "\n",
       "### Method: `save_at_exit`\n",
       "\n",
       "**Signature**:  \n",
       "```python\n",
       "def save_at_exit(self):\n",
       "```\n",
       "\n",
       "**Description**:  \n",
       "Save any unsaved logs automatically upon program termination. This method is registered as an at-exit handler to ensure that any unsaved logs are automatically persisted to a file upon program termination. This safeguard helps prevent the loss of log data due to unexpected shutdowns or program exits. The method is configured to save the logs to a CSV file, named `unsaved_logs.csv`, which is stored in the designated persisting directory. This automatic save operation is triggered only if there are unsaved logs present at the time of program exit.\n",
       "\n",
       "**Usage Examples**:\n",
       "```python\n",
       "# No direct usage example as this is automatically handled at program exit\n",
       "```"
      ],
      "text/plain": [
       "<IPython.core.display.Markdown object>"
      ]
     },
     "metadata": {},
     "output_type": "display_data"
    }
   ],
   "source": [
    "form.display()"
   ]
  },
  {
   "cell_type": "code",
   "execution_count": 12,
   "metadata": {},
   "outputs": [
    {
     "data": {
      "text/html": [
       "<div>\n",
       "<style scoped>\n",
       "    .dataframe tbody tr th:only-of-type {\n",
       "        vertical-align: middle;\n",
       "    }\n",
       "\n",
       "    .dataframe tbody tr th {\n",
       "        vertical-align: top;\n",
       "    }\n",
       "\n",
       "    .dataframe thead th {\n",
       "        text-align: right;\n",
       "    }\n",
       "</style>\n",
       "<table border=\"1\" class=\"dataframe\">\n",
       "  <thead>\n",
       "    <tr style=\"text-align: right;\">\n",
       "      <th></th>\n",
       "      <th>ln_id</th>\n",
       "      <th>message_type</th>\n",
       "      <th>timestamp</th>\n",
       "      <th>role</th>\n",
       "      <th>content</th>\n",
       "      <th>metadata</th>\n",
       "      <th>sender</th>\n",
       "      <th>recipient</th>\n",
       "    </tr>\n",
       "  </thead>\n",
       "  <tbody>\n",
       "    <tr>\n",
       "      <th>0</th>\n",
       "      <td>0c56e902e9587b4685136d79a86de928</td>\n",
       "      <td>System</td>\n",
       "      <td>2024-05-23T16:29:57.398932</td>\n",
       "      <td>system</td>\n",
       "      <td>{'system_info': '\n",
       "you are a helpful assistant,...</td>\n",
       "      <td>{'last_updated': {'recipient': '2024-05-23T16:...</td>\n",
       "      <td>system</td>\n",
       "      <td>5ad9145e8d7f1a1037f47b3b791be9a8</td>\n",
       "    </tr>\n",
       "    <tr>\n",
       "      <th>1</th>\n",
       "      <td>d35fca1cc3f14bb0b5d712b683c73e91</td>\n",
       "      <td>Instruction</td>\n",
       "      <td>2024-05-23T16:29:57.399950</td>\n",
       "      <td>user</td>\n",
       "      <td>{'instruction': '\n",
       "        ## Task Instructions...</td>\n",
       "      <td>{'last_updated': {'sender': '2024-05-23T16:29:...</td>\n",
       "      <td>user</td>\n",
       "      <td>5ad9145e8d7f1a1037f47b3b791be9a8</td>\n",
       "    </tr>\n",
       "    <tr>\n",
       "      <th>2</th>\n",
       "      <td>f9eb5013ca559fa2f0d4f874337002bb</td>\n",
       "      <td>AssistantResponse</td>\n",
       "      <td>2024-05-23T16:30:04.897473</td>\n",
       "      <td>assistant</td>\n",
       "      <td>{'assistant_response': '```json\n",
       "{\n",
       "  \"answer\": ...</td>\n",
       "      <td>{'last_updated': {'sender': '2024-05-23T16:30:...</td>\n",
       "      <td>5ad9145e8d7f1a1037f47b3b791be9a8</td>\n",
       "      <td>user</td>\n",
       "    </tr>\n",
       "    <tr>\n",
       "      <th>3</th>\n",
       "      <td>6595d07a9989f22ca1ac665c34bf90a7</td>\n",
       "      <td>ActionRequest</td>\n",
       "      <td>2024-05-23T16:30:04.901081</td>\n",
       "      <td>assistant</td>\n",
       "      <td>{'action_request': {'function': 'qa_lionagi', ...</td>\n",
       "      <td>{'last_updated': {'function': '2024-05-23T16:3...</td>\n",
       "      <td>5ad9145e8d7f1a1037f47b3b791be9a8</td>\n",
       "      <td>979180334d7857a7e43d406b28288bbb</td>\n",
       "    </tr>\n",
       "    <tr>\n",
       "      <th>4</th>\n",
       "      <td>1270287c638e2f241df2e9c59d087cd1</td>\n",
       "      <td>ActionRequest</td>\n",
       "      <td>2024-05-23T16:30:04.901397</td>\n",
       "      <td>assistant</td>\n",
       "      <td>{'action_request': {'function': 'qa_lionagi', ...</td>\n",
       "      <td>{'last_updated': {'function': '2024-05-23T16:3...</td>\n",
       "      <td>5ad9145e8d7f1a1037f47b3b791be9a8</td>\n",
       "      <td>979180334d7857a7e43d406b28288bbb</td>\n",
       "    </tr>\n",
       "    <tr>\n",
       "      <th>5</th>\n",
       "      <td>6dd44df0d70afc50349ab78fdc975739</td>\n",
       "      <td>ActionRequest</td>\n",
       "      <td>2024-05-23T16:30:04.901561</td>\n",
       "      <td>assistant</td>\n",
       "      <td>{'action_request': {'function': 'qa_lionagi', ...</td>\n",
       "      <td>{'last_updated': {'function': '2024-05-23T16:3...</td>\n",
       "      <td>5ad9145e8d7f1a1037f47b3b791be9a8</td>\n",
       "      <td>979180334d7857a7e43d406b28288bbb</td>\n",
       "    </tr>\n",
       "    <tr>\n",
       "      <th>6</th>\n",
       "      <td>7f19166739c14d1c9318d1c4b8698d61</td>\n",
       "      <td>ActionResponse</td>\n",
       "      <td>2024-05-23T16:30:10.039713</td>\n",
       "      <td>assistant</td>\n",
       "      <td>{'action_response': {'function': 'qa_lionagi',...</td>\n",
       "      <td>{'last_updated': {'function': '2024-05-23T16:3...</td>\n",
       "      <td>979180334d7857a7e43d406b28288bbb</td>\n",
       "      <td>5ad9145e8d7f1a1037f47b3b791be9a8</td>\n",
       "    </tr>\n",
       "    <tr>\n",
       "      <th>7</th>\n",
       "      <td>6a84df5a3704ec7a980a983845821073</td>\n",
       "      <td>ActionResponse</td>\n",
       "      <td>2024-05-23T16:30:10.039901</td>\n",
       "      <td>assistant</td>\n",
       "      <td>{'action_response': {'function': 'qa_lionagi',...</td>\n",
       "      <td>{'last_updated': {'function': '2024-05-23T16:3...</td>\n",
       "      <td>979180334d7857a7e43d406b28288bbb</td>\n",
       "      <td>5ad9145e8d7f1a1037f47b3b791be9a8</td>\n",
       "    </tr>\n",
       "    <tr>\n",
       "      <th>8</th>\n",
       "      <td>6adbcb94643f2319facb9b023b2f1f1b</td>\n",
       "      <td>ActionResponse</td>\n",
       "      <td>2024-05-23T16:30:10.039985</td>\n",
       "      <td>assistant</td>\n",
       "      <td>{'action_response': {'function': 'qa_lionagi',...</td>\n",
       "      <td>{'last_updated': {'function': '2024-05-23T16:3...</td>\n",
       "      <td>979180334d7857a7e43d406b28288bbb</td>\n",
       "      <td>5ad9145e8d7f1a1037f47b3b791be9a8</td>\n",
       "    </tr>\n",
       "    <tr>\n",
       "      <th>9</th>\n",
       "      <td>2522d56d8d7e0204a36b9a57d1fe91ec</td>\n",
       "      <td>Instruction</td>\n",
       "      <td>2024-05-23T16:30:10.040462</td>\n",
       "      <td>user</td>\n",
       "      <td>{'instruction': '\n",
       "        ## Task Instructions...</td>\n",
       "      <td>{'last_updated': {'sender': '2024-05-23T16:30:...</td>\n",
       "      <td>user</td>\n",
       "      <td>5ad9145e8d7f1a1037f47b3b791be9a8</td>\n",
       "    </tr>\n",
       "    <tr>\n",
       "      <th>10</th>\n",
       "      <td>7a1d586e067f5faa1c40b183645d37e0</td>\n",
       "      <td>AssistantResponse</td>\n",
       "      <td>2024-05-23T16:30:55.826218</td>\n",
       "      <td>assistant</td>\n",
       "      <td>{'assistant_response': '```json\n",
       "{\n",
       "  \"answer\": ...</td>\n",
       "      <td>{'last_updated': {'sender': '2024-05-23T16:30:...</td>\n",
       "      <td>5ad9145e8d7f1a1037f47b3b791be9a8</td>\n",
       "      <td>user</td>\n",
       "    </tr>\n",
       "    <tr>\n",
       "      <th>11</th>\n",
       "      <td>9f9a5779f662b026cea69f1bca3e6ca7</td>\n",
       "      <td>Instruction</td>\n",
       "      <td>2024-05-23T16:30:55.830293</td>\n",
       "      <td>user</td>\n",
       "      <td>{'instruction': 'please provide final answer b...</td>\n",
       "      <td>{'last_updated': {'sender': '2024-05-23T16:30:...</td>\n",
       "      <td>user</td>\n",
       "      <td>5ad9145e8d7f1a1037f47b3b791be9a8</td>\n",
       "    </tr>\n",
       "    <tr>\n",
       "      <th>12</th>\n",
       "      <td>089d5221490a35334aafbfed30704a58</td>\n",
       "      <td>AssistantResponse</td>\n",
       "      <td>2024-05-23T16:31:30.041249</td>\n",
       "      <td>assistant</td>\n",
       "      <td>{'assistant_response': '\"The API documentation...</td>\n",
       "      <td>{'last_updated': {'sender': '2024-05-23T16:31:...</td>\n",
       "      <td>5ad9145e8d7f1a1037f47b3b791be9a8</td>\n",
       "      <td>user</td>\n",
       "    </tr>\n",
       "    <tr>\n",
       "      <th>13</th>\n",
       "      <td>0ae5d1881eb4a827acdc6ef38bdcabf7</td>\n",
       "      <td>Instruction</td>\n",
       "      <td>2024-05-23T16:31:30.043430</td>\n",
       "      <td>user</td>\n",
       "      <td>{'instruction': '\n",
       "provide documentation only: ...</td>\n",
       "      <td>{'last_updated': {'sender': '2024-05-23T16:31:...</td>\n",
       "      <td>user</td>\n",
       "      <td>5ad9145e8d7f1a1037f47b3b791be9a8</td>\n",
       "    </tr>\n",
       "    <tr>\n",
       "      <th>14</th>\n",
       "      <td>6a275fb26387e849af82cd80cc53d30c</td>\n",
       "      <td>AssistantResponse</td>\n",
       "      <td>2024-05-23T16:32:08.723688</td>\n",
       "      <td>assistant</td>\n",
       "      <td>{'assistant_response': '# API Documentation\n",
       "\n",
       "#...</td>\n",
       "      <td>{'last_updated': {'sender': '2024-05-23T16:32:...</td>\n",
       "      <td>5ad9145e8d7f1a1037f47b3b791be9a8</td>\n",
       "      <td>user</td>\n",
       "    </tr>\n",
       "  </tbody>\n",
       "</table>\n",
       "</div>"
      ],
      "text/plain": [
       "                               ln_id       message_type  \\\n",
       "0   0c56e902e9587b4685136d79a86de928             System   \n",
       "1   d35fca1cc3f14bb0b5d712b683c73e91        Instruction   \n",
       "2   f9eb5013ca559fa2f0d4f874337002bb  AssistantResponse   \n",
       "3   6595d07a9989f22ca1ac665c34bf90a7      ActionRequest   \n",
       "4   1270287c638e2f241df2e9c59d087cd1      ActionRequest   \n",
       "5   6dd44df0d70afc50349ab78fdc975739      ActionRequest   \n",
       "6   7f19166739c14d1c9318d1c4b8698d61     ActionResponse   \n",
       "7   6a84df5a3704ec7a980a983845821073     ActionResponse   \n",
       "8   6adbcb94643f2319facb9b023b2f1f1b     ActionResponse   \n",
       "9   2522d56d8d7e0204a36b9a57d1fe91ec        Instruction   \n",
       "10  7a1d586e067f5faa1c40b183645d37e0  AssistantResponse   \n",
       "11  9f9a5779f662b026cea69f1bca3e6ca7        Instruction   \n",
       "12  089d5221490a35334aafbfed30704a58  AssistantResponse   \n",
       "13  0ae5d1881eb4a827acdc6ef38bdcabf7        Instruction   \n",
       "14  6a275fb26387e849af82cd80cc53d30c  AssistantResponse   \n",
       "\n",
       "                     timestamp       role  \\\n",
       "0   2024-05-23T16:29:57.398932     system   \n",
       "1   2024-05-23T16:29:57.399950       user   \n",
       "2   2024-05-23T16:30:04.897473  assistant   \n",
       "3   2024-05-23T16:30:04.901081  assistant   \n",
       "4   2024-05-23T16:30:04.901397  assistant   \n",
       "5   2024-05-23T16:30:04.901561  assistant   \n",
       "6   2024-05-23T16:30:10.039713  assistant   \n",
       "7   2024-05-23T16:30:10.039901  assistant   \n",
       "8   2024-05-23T16:30:10.039985  assistant   \n",
       "9   2024-05-23T16:30:10.040462       user   \n",
       "10  2024-05-23T16:30:55.826218  assistant   \n",
       "11  2024-05-23T16:30:55.830293       user   \n",
       "12  2024-05-23T16:31:30.041249  assistant   \n",
       "13  2024-05-23T16:31:30.043430       user   \n",
       "14  2024-05-23T16:32:08.723688  assistant   \n",
       "\n",
       "                                              content  \\\n",
       "0   {'system_info': '\n",
       "you are a helpful assistant,...   \n",
       "1   {'instruction': '\n",
       "        ## Task Instructions...   \n",
       "2   {'assistant_response': '```json\n",
       "{\n",
       "  \"answer\": ...   \n",
       "3   {'action_request': {'function': 'qa_lionagi', ...   \n",
       "4   {'action_request': {'function': 'qa_lionagi', ...   \n",
       "5   {'action_request': {'function': 'qa_lionagi', ...   \n",
       "6   {'action_response': {'function': 'qa_lionagi',...   \n",
       "7   {'action_response': {'function': 'qa_lionagi',...   \n",
       "8   {'action_response': {'function': 'qa_lionagi',...   \n",
       "9   {'instruction': '\n",
       "        ## Task Instructions...   \n",
       "10  {'assistant_response': '```json\n",
       "{\n",
       "  \"answer\": ...   \n",
       "11  {'instruction': 'please provide final answer b...   \n",
       "12  {'assistant_response': '\"The API documentation...   \n",
       "13  {'instruction': '\n",
       "provide documentation only: ...   \n",
       "14  {'assistant_response': '# API Documentation\n",
       "\n",
       "#...   \n",
       "\n",
       "                                             metadata  \\\n",
       "0   {'last_updated': {'recipient': '2024-05-23T16:...   \n",
       "1   {'last_updated': {'sender': '2024-05-23T16:29:...   \n",
       "2   {'last_updated': {'sender': '2024-05-23T16:30:...   \n",
       "3   {'last_updated': {'function': '2024-05-23T16:3...   \n",
       "4   {'last_updated': {'function': '2024-05-23T16:3...   \n",
       "5   {'last_updated': {'function': '2024-05-23T16:3...   \n",
       "6   {'last_updated': {'function': '2024-05-23T16:3...   \n",
       "7   {'last_updated': {'function': '2024-05-23T16:3...   \n",
       "8   {'last_updated': {'function': '2024-05-23T16:3...   \n",
       "9   {'last_updated': {'sender': '2024-05-23T16:30:...   \n",
       "10  {'last_updated': {'sender': '2024-05-23T16:30:...   \n",
       "11  {'last_updated': {'sender': '2024-05-23T16:30:...   \n",
       "12  {'last_updated': {'sender': '2024-05-23T16:31:...   \n",
       "13  {'last_updated': {'sender': '2024-05-23T16:31:...   \n",
       "14  {'last_updated': {'sender': '2024-05-23T16:32:...   \n",
       "\n",
       "                              sender                         recipient  \n",
       "0                             system  5ad9145e8d7f1a1037f47b3b791be9a8  \n",
       "1                               user  5ad9145e8d7f1a1037f47b3b791be9a8  \n",
       "2   5ad9145e8d7f1a1037f47b3b791be9a8                              user  \n",
       "3   5ad9145e8d7f1a1037f47b3b791be9a8  979180334d7857a7e43d406b28288bbb  \n",
       "4   5ad9145e8d7f1a1037f47b3b791be9a8  979180334d7857a7e43d406b28288bbb  \n",
       "5   5ad9145e8d7f1a1037f47b3b791be9a8  979180334d7857a7e43d406b28288bbb  \n",
       "6   979180334d7857a7e43d406b28288bbb  5ad9145e8d7f1a1037f47b3b791be9a8  \n",
       "7   979180334d7857a7e43d406b28288bbb  5ad9145e8d7f1a1037f47b3b791be9a8  \n",
       "8   979180334d7857a7e43d406b28288bbb  5ad9145e8d7f1a1037f47b3b791be9a8  \n",
       "9                               user  5ad9145e8d7f1a1037f47b3b791be9a8  \n",
       "10  5ad9145e8d7f1a1037f47b3b791be9a8                              user  \n",
       "11                              user  5ad9145e8d7f1a1037f47b3b791be9a8  \n",
       "12  5ad9145e8d7f1a1037f47b3b791be9a8                              user  \n",
       "13                              user  5ad9145e8d7f1a1037f47b3b791be9a8  \n",
       "14  5ad9145e8d7f1a1037f47b3b791be9a8                              user  "
      ]
     },
     "execution_count": 12,
     "metadata": {},
     "output_type": "execute_result"
    }
   ],
   "source": [
    "branch.to_df()"
   ]
  },
  {
   "cell_type": "code",
   "execution_count": 13,
   "metadata": {},
   "outputs": [],
   "source": [
    "msg = branch.messages[2]"
   ]
  },
  {
   "cell_type": "code",
   "execution_count": 14,
   "metadata": {},
   "outputs": [
    {
     "data": {
      "text/plain": [
       "{'tools': [{'type': 'function',\n",
       "   'function': {'name': 'qa_lionagi',\n",
       "    'description': 'Perform query to a QA bot',\n",
       "    'parameters': {'type': 'object',\n",
       "     'properties': {'query': {'type': 'string',\n",
       "       'description': 'a term/phrase to lookup or a question to answer'}},\n",
       "     'required': ['query']}}}]}"
      ]
     },
     "execution_count": 14,
     "metadata": {},
     "output_type": "execute_result"
    }
   ],
   "source": [
    "form.tool_schema"
   ]
  },
  {
   "cell_type": "code",
   "execution_count": 15,
   "metadata": {},
   "outputs": [
    {
     "data": {
      "text/plain": [
       "ln_id                                  1f8015df6228ae25be01abbb9326b0ec\n",
       "created                                      2024-05-23T16:29:57.399716\n",
       "metadata              {'last_updated': {'input_fields': '2024-05-23T...\n",
       "content                                                            None\n",
       "embedding                                                            []\n",
       "template_name                                             UnitDirective\n",
       "assignment                                               task -> answer\n",
       "input_fields                                        [task, tool_schema]\n",
       "requested_fields      [answer, reason, actions, action_required, ext...\n",
       "task                  Follow the prompt and provide the necessary ou...\n",
       "validation_kwargs     {'reason': {}, 'actions': {}, 'action_required...\n",
       "confidence_score                                                   None\n",
       "reason                Let's think step by step, The task requires wr...\n",
       "actions               {'action_1': {'function': 'qa_lionagi', 'argum...\n",
       "action_required                                                    True\n",
       "answer                # API Documentation\\n\\n## Class: `DLog`\\n\\n**D...\n",
       "extension_required                                                 True\n",
       "prediction                                                         None\n",
       "plan                                                               None\n",
       "next_steps                                                         None\n",
       "score                                                                 7\n",
       "reflection                                                         None\n",
       "selection                                                          None\n",
       "tool_schema           {'tools': [{'type': 'function', 'function': {'...\n",
       "action_response       {'action_1': {'function': 'qa_lionagi', 'argum...\n",
       "action_performed                                                   True\n",
       "extension_forms       [{'ln_id': '2cd6e4d72c2e211f64e444db5c3f41e2',...\n",
       "lion_class                                                     UnitForm\n",
       "dtype: object"
      ]
     },
     "execution_count": 15,
     "metadata": {},
     "output_type": "execute_result"
    }
   ],
   "source": [
    "form"
   ]
  },
  {
   "cell_type": "code",
   "execution_count": 16,
   "metadata": {},
   "outputs": [
    {
     "data": {
      "text/markdown": [
       "**task**: \n",
       " Follow the prompt and provide the necessary output.\n",
       "- Additional instruction: N/A\n",
       "- Additional context: N/A\n",
       "- Reason and prepare actions with GIVEN TOOLS ONLY.\n",
       "- Allow auto-extension up to another 1 rounds.\n",
       "- Give a numeric score in [0, 10] and precision of 0 decimal places.\n"
      ],
      "text/plain": [
       "<IPython.core.display.Markdown object>"
      ]
     },
     "metadata": {},
     "output_type": "display_data"
    },
    {
     "data": {
      "text/markdown": [
       "**reason**: \n",
       " Let's think step by step, The task required writing good API documentation for the provided code. I cross-referenced the code with the query engine to ensure accuracy in describing the variables, functions, classes, and modules used in the code. The documentation provided covers the class descriptions, method signatures, parameters, return values, exceptions raised, and usage examples for both `DLog` and `DataLogger` classes."
      ],
      "text/plain": [
       "<IPython.core.display.Markdown object>"
      ]
     },
     "metadata": {},
     "output_type": "display_data"
    },
    {
     "data": {
      "text/markdown": [
       "**actions**: "
      ],
      "text/plain": [
       "<IPython.core.display.Markdown object>"
      ]
     },
     "metadata": {},
     "output_type": "display_data"
    },
    {
     "data": {
      "text/markdown": [
       "**action_required**: False"
      ],
      "text/plain": [
       "<IPython.core.display.Markdown object>"
      ]
     },
     "metadata": {},
     "output_type": "display_data"
    },
    {
     "data": {
      "text/markdown": [
       "**extension_required**: False"
      ],
      "text/plain": [
       "<IPython.core.display.Markdown object>"
      ]
     },
     "metadata": {},
     "output_type": "display_data"
    },
    {
     "data": {
      "text/markdown": [
       "**score**: 9"
      ],
      "text/plain": [
       "<IPython.core.display.Markdown object>"
      ]
     },
     "metadata": {},
     "output_type": "display_data"
    },
    {
     "data": {
      "text/markdown": [
       "**available_tools**: ['qa_lionagi']"
      ],
      "text/plain": [
       "<IPython.core.display.Markdown object>"
      ]
     },
     "metadata": {},
     "output_type": "display_data"
    },
    {
     "data": {
      "text/markdown": [
       "**answer**: \n",
       " The API documentation for the provided code is as follows:\n",
       "\n",
       "### Class: `DLog`\n",
       "\n",
       "**Description**:\n",
       "`DLog` defines a log entry structure for data processing operations. This class encapsulates both the input to and output from a data processing operation, along with an automatically generated timestamp indicating when the log entry was created. It aims to standardize logging across applications for easier analysis and debugging.\n",
       "\n",
       "#### Method: `serialize`\n",
       "\n",
       "**Signature**:\n",
       "```python\n",
       "def serialize(self, *, flatten_: bool = True, sep: str = \"[^_^]\") -> dict[str, Any]:\n",
       "```\n",
       "\n",
       "**Parameters**:\n",
       "- `flatten_` (bool): If True, flattens dictionary inputs for serialization.\n",
       "- `sep` (str): Separator used in flattening nested dictionaries.\n",
       "\n",
       "**Return Values**:\n",
       "- `dict[str, Any]`: A dictionary representation of the `DLog` instance, including `input_data`, `output_data`, and `timestamp`.\n",
       "\n",
       "**Exceptions Raised**:\n",
       "- `Exception`: If there is an error in processing data to string.\n",
       "\n",
       "**Usage Examples**:\n",
       "```python\n",
       "log_entry = DLog(input_data={\"key\": \"value\"}, output_data={\"result\": \"success\"})\n",
       "serialized_log = log_entry.serialize()\n",
       "print(serialized_log)\n",
       "```\n",
       "\n",
       "#### Method: `deserialize`\n",
       "\n",
       "**Signature**:\n",
       "```python\n",
       "def deserialize(cls, *, input_str: str, output_str: str, unflatten_: bool = True, sep: str = \"[^_^]\") -> \"DLog\":\n",
       "```\n",
       "\n",
       "**Parameters**:\n",
       "- `input_str` (str): String representation of the input data.\n",
       "- `output_str` (str): String representation of the output data.\n",
       "- `unflatten_` (bool): Indicates whether to unflatten the string data back into nested dictionaries.\n",
       "- `sep` (str): Separator used if unflattening is performed.\n",
       "\n",
       "**Return Values**:\n",
       "- `DLog`: An instance of `DLog` reconstructed from the provided string data.\n",
       "\n",
       "**Exceptions Raised**:\n",
       "- `ValueError`: If deserialization or unflattening fails due to incorrect data format or separator issues.\n",
       "\n",
       "**Usage Examples**:\n",
       "```python\n",
       "serialized_log = {\"input_data\": \"{\\\"key\\\": \\\"value\\\"}\", \"output_data\": \"{\\\"result\\\": \\\"success\\\"}\"}\n",
       "deserialized_log = DLog.deserialize(input_str=serialized_log[\"input_data\"], output_str=serialized_log[\"output_data\"])\n",
       "print(deserialized_log)\n",
       "```\n",
       "\n",
       "### Class: `DataLogger`\n",
       "\n",
       "**Description**:\n",
       "`DataLogger` manages logging for data processing activities within an application. This class handles the accumulation, structuring, and persistence of log entries. It supports exporting logs to disk in both CSV and JSON formats, with features for automatic log saving at program exit and customizable file naming.\n",
       "\n",
       "#### Method: `__init__`\n",
       "\n",
       "**Signature**:\n",
       "```python\n",
       "def __init__(self, persist_path: str | Path | None = None, log: List[Dict] | None = None, filename: str | None = None) -> None:\n",
       "```\n",
       "\n",
       "**Parameters**:\n",
       "- `persist_path` (str | Path | None): The file system path for storing log files. Defaults to `data/logs/`.\n",
       "- `log` (List[Dict] | None): Initial log entries.\n",
       "- `filename` (str | None): Base name for exported log files.\n",
       "\n",
       "**Usage Examples**:\n",
       "```python\n",
       "data_logger = DataLogger(persist_path=\"/path/to/logs\", filename=\"my_log\")\n",
       "```\n",
       "\n",
       "#### Method: `extend`\n",
       "\n",
       "**Signature**:\n",
       "```python\n",
       "def extend(self, logs) -> None:\n",
       "```\n",
       "\n",
       "**Parameters**:\n",
       "- `logs` (List[Dict]): A list of log entries, each as a dictionary conforming to the log structure (e.g., containing `input_data`, `output_data`, etc.).\n",
       "\n",
       "**Usage Examples**:\n",
       "```python\n",
       "logs = [{\"input_data\": \"data1\", \"output_data\": \"result1\"}, {\"input_data\": \"data2\", \"output_data\": \"result2\"}]\n",
       "data_logger.extend(logs)\n",
       "```\n",
       "\n",
       "#### Method: `append`\n",
       "\n",
       "**Signature**:\n",
       "```python\n",
       "def append(self, *, input_data: Any, output_data: Any) -> None:\n",
       "```\n",
       "\n",
       "**Parameters**:\n",
       "- `input_data` (Any): Input data to the operation.\n",
       "- `output_data` (Any): Output data from the operation.\n",
       "\n",
       "**Usage Examples**:\n",
       "```python\n",
       "data_logger.append(input_data=\"data3\", output_data=\"result3\")\n",
       "```\n",
       "\n",
       "#### Method: `to_csv_file`\n",
       "\n",
       "**Signature**:\n",
       "```python\n",
       "def to_csv_file(self, filename: str = \"log.csv\", *, dir_exist_ok: bool = True, timestamp: bool = True, time_prefix: bool = False, verbose: bool = True, clear: bool = True, flatten_: bool = True, sep: str = \"[^_^]\", index: bool = False, random_hash_digits: int = 3, **kwargs) -> None:\n",
       "```\n",
       "\n",
       "**Parameters**:\n",
       "- `filename` (str): Filename for the exported CSV. Defaults to `log.csv`.\n",
       "- `dir_exist_ok` (bool): If True, allows writing to an existing directory.\n",
       "- `timestamp` (bool): If True, appends a timestamp to the filename.\n",
       "- `time_prefix` (bool): If True, places the timestamp prefix before the filename.\n",
       "- `verbose` (bool): If True, prints a message upon successful save.\n",
       "- `clear` (bool): If True, clears the log deque after saving.\n",
       "- `flatten_` (bool): If True, flattens dictionary data for serialization.\n",
       "- `sep` (str): Separator for flattening nested dictionaries.\n",
       "- `index` (bool): If True, includes an index column in the CSV.\n",
       "- `random_hash_digits` (int): Number of random hash digits to add to the filename.\n",
       "- `**kwargs`: Additional arguments for DataFrame.to_csv().\n",
       "\n",
       "**Usage Examples**:\n",
       "```python\n",
       "data_logger.to_csv_file(filename=\"my_log.csv\")\n",
       "```\n",
       "\n",
       "#### Method: `to_json_file`\n",
       "\n",
       "**Signature**:\n",
       "```python\n",
       "def to_json_file(self, filename: str = \"log.json\", *, dir_exist_ok: bool = True, timestamp: bool = True, time_prefix: bool = False, verbose: bool = True, clear: bool = True, flatten_: bool = True, sep: str = \"[^_^]\", index: bool = False, random_hash_digits: int = 3, **kwargs) -> None:\n",
       "```\n",
       "\n",
       "**Parameters**:\n",
       "- `filename` (str): Filename for the exported JSON. Defaults to `log.json`.\n",
       "- `dir_exist_ok` (bool): If True, allows writing to an existing directory.\n",
       "- `timestamp` (bool): If True, appends a timestamp to the filename.\n",
       "- `time_prefix` (bool): If True, places the timestamp prefix before the filename.\n",
       "- `verbose` (bool): If True, prints a message upon successful save.\n",
       "- `clear` (bool): If True, clears the log deque after saving.\n",
       "- `flatten_` (bool): If True, flattens dictionary data for serialization.\n",
       "- `sep` (str): Separator for flattening nested dictionaries.\n",
       "- `index` (bool): If True, includes an index in the JSON.\n",
       "- `random_hash_digits` (int): Number of random hash digits to add to the filename.\n",
       "- `**kwargs`: Additional arguments for DataFrame.to_json().\n",
       "\n",
       "**Usage Examples**:\n",
       "```python\n",
       "data_logger.to_json_file(filename=\"my_log.json\")\n",
       "```\n",
       "\n",
       "#### Method: `save_at_exit`\n",
       "\n",
       "**Signature**:\n",
       "```python\n",
       "def save_at_exit(self):\n",
       "```\n",
       "\n",
       "**Description**:\n",
       "Save any unsaved logs automatically upon program termination. This method is registered as an at-exit handler to ensure that any unsaved logs are automatically persisted to a file upon program termination. This safeguard helps prevent the loss of log data due to unexpected shutdowns or program exits. The method is configured to save the logs to a CSV file, named `unsaved_logs.csv`, which is stored in the designated persisting directory. This automatic save operation is triggered only if there are unsaved logs present at the time of program exit.\n",
       "\n",
       "**Usage Examples**:\n",
       "```python\n",
       "# No direct usage example as this is automatically handled at program exit\n",
       "```"
      ],
      "text/plain": [
       "<IPython.core.display.Markdown object>"
      ]
     },
     "metadata": {},
     "output_type": "display_data"
    }
   ],
   "source": [
    "if hasattr(form, \"extension_forms\"):\n",
    "    for i in form.extension_forms:\n",
    "        i.display()"
   ]
  },
  {
   "cell_type": "code",
   "execution_count": null,
   "metadata": {},
   "outputs": [],
   "source": []
  }
 ],
 "metadata": {
  "kernelspec": {
   "display_name": ".venv",
   "language": "python",
   "name": "python3"
  },
  "language_info": {
   "codemirror_mode": {
    "name": "ipython",
    "version": 3
   },
   "file_extension": ".py",
   "mimetype": "text/x-python",
   "name": "python",
   "nbconvert_exporter": "python",
   "pygments_lexer": "ipython3",
   "version": "3.12.1"
  }
 },
 "nbformat": 4,
 "nbformat_minor": 2
}
