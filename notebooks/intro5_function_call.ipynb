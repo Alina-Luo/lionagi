{
 "cells": [
  {
   "cell_type": "markdown",
   "metadata": {},
   "source": [
    "# Function calling\n",
    "\n",
    "Function calling is a powerful feature of OpenAI `gpt-4` and other models. It essentially is a **Function Picker and Parameter Provider**. It can help you choose which function, if any, to invoke with which parameters, under provided context and instruction. \n",
    "\n",
    "LionAGI allows simple usage of function callings in the `Session` object. "
   ]
  },
  {
   "cell_type": "code",
   "execution_count": 1,
   "metadata": {},
   "outputs": [],
   "source": [
    "import lionagi as li"
   ]
  },
  {
   "cell_type": "code",
   "execution_count": 2,
   "metadata": {},
   "outputs": [],
   "source": [
    "from lionagi.schema import BaseTool\n",
    "# let us define a function description in OpenAI schema\n",
    "\n",
    "tool_1=[\n",
    "    {\n",
    "        \"type\": \"function\",\n",
    "        \"function\": {\n",
    "            \"name\": \"multiply\",\n",
    "            \"description\": \"Perform multiplication on two numbers\",\n",
    "            \"parameters\": {\n",
    "                \"type\": \"object\",\n",
    "                \"properties\": {\n",
    "                    \"number1\": {\n",
    "                        \"type\": \"number\",\n",
    "                        \"description\": \"a number to multiply, e.g. 5.34\",\n",
    "                    },\n",
    "                    \"number2\": {\n",
    "                        \"type\": \"number\",\n",
    "                        \"description\": \"a number to multiply, e.g. 17\",\n",
    "                    },\n",
    "                },\n",
    "                # specify which parameters are required for the model to respond when function calling\n",
    "                \"required\": [\"number1\", \"number2\"],\n",
    "            },\n",
    "        }\n",
    "    }\n",
    "]\n",
    "\n",
    "def multiply(number1, number2):\n",
    "    return number1*number2\n",
    "\n",
    "tools = BaseTool(func=multiply)\n"
   ]
  },
  {
   "cell_type": "code",
   "execution_count": 3,
   "metadata": {},
   "outputs": [
    {
     "data": {
      "text/plain": [
       "'multiply'"
      ]
     },
     "execution_count": 3,
     "metadata": {},
     "output_type": "execute_result"
    }
   ],
   "source": [
    "tools.func.__name__"
   ]
  },
  {
   "cell_type": "code",
   "execution_count": 4,
   "metadata": {},
   "outputs": [],
   "source": [
    "# and now some messages\n",
    "system = \"you are asked to perform as a function picker and parameter provider\"\n",
    "task = \"Think step by step, understand the following basic math question and provide parameters for function calling.\"\n",
    "\n",
    "# when using respond_mode as json to enforce output format, you need to provide specifying details in instruction\n",
    "json_format = {\"number1\": \"x\", \"number2\": \"y\"}\n",
    "\n",
    "instruct1 = {\"Task\": task, \"json_format\": json_format}"
   ]
  },
  {
   "cell_type": "code",
   "execution_count": 5,
   "metadata": {},
   "outputs": [],
   "source": [
    "question = \"There are [basketball, football, backpack, water bottle, strawberry, tennis ball, rockets]. each comes in four different colors, what is the number of unique kinds of ball?\"\n",
    "question2 = \"There are three fruits in total, each with 2 different colors, how many unique kinds of fruits are there?\"\n",
    "\n",
    "context1 = {\"Question1\": question, \"question2\": question2}"
   ]
  },
  {
   "cell_type": "code",
   "execution_count": 6,
   "metadata": {},
   "outputs": [],
   "source": [
    "session = li.Session(system=system)\n",
    "\n",
    "session.register_tools(tools)\n",
    "session.llmconfig.update({\n",
    "    \"tools\": tool_1, \n",
    "    \"temperature\":0.35,\n",
    "    \"tool_choice\": \"auto\", \n",
    "    \"response_format\": {'type':'json_object'}\n",
    "})"
   ]
  },
  {
   "cell_type": "code",
   "execution_count": 7,
   "metadata": {},
   "outputs": [],
   "source": [
    "response = await session.initiate(instruction=instruct1, context=context1)"
   ]
  },
  {
   "cell_type": "code",
   "execution_count": 8,
   "metadata": {},
   "outputs": [
    {
     "name": "stdout",
     "output_type": "stream",
     "text": [
      "\n",
      "{\n",
      "  \"tool_uses\": [\n",
      "    {\n",
      "      \"recipient_name\": \"functions.multiply\",\n",
      "      \"parameters\": {\n",
      "        \"number1\": 3, \t\"number2\": 4\n",
      "      }\n",
      "    },\n",
      "    {\n",
      "      \"recipient_name\": \"functions.multiply\",\n",
      "      \"parameters\": {\n",
      "        \"number1\": 3, \t\"number2\": 2\n",
      "      }\n",
      "    }\n",
      "  ]\n",
      "}\n"
     ]
    }
   ],
   "source": [
    "li.l_call(response, lambda x: print(x));"
   ]
  },
  {
   "cell_type": "code",
   "execution_count": 9,
   "metadata": {},
   "outputs": [
    {
     "name": "stdout",
     "output_type": "stream",
     "text": [
      "{'role': 'system', 'content': 'you are asked to perform as a function picker and parameter provider'} \n",
      "\n",
      "{'role': 'user', 'content': '{\"instruction\": {\"Task\": \"Think step by step, understand the following basic math question and provide parameters for function calling.\", \"json_format\": {\"number1\": \"x\", \"number2\": \"y\"}}, \"context\": {\"Question1\": \"There are [basketball, football, backpack, water bottle, strawberry, tennis ball, rockets]. each comes in four different colors, what is the number of unique kinds of ball?\", \"question2\": \"There are three fruits in total, each with 2 different colors, how many unique kinds of fruits are there?\"}}'} \n",
      "\n",
      "{'role': 'assistant', 'content': '\\n{\\n  \"tool_uses\": [\\n    {\\n      \"recipient_name\": \"functions.multiply\",\\n      \"parameters\": {\\n        \"number1\": 3, \\t\"number2\": 4\\n      }\\n    },\\n    {\\n      \"recipient_name\": \"functions.multiply\",\\n      \"parameters\": {\\n        \"number1\": 3, \\t\"number2\": 2\\n      }\\n    }\\n  ]\\n}'} \n",
      "\n",
      "{'role': 'assistant', 'content': 12} \n",
      "\n"
     ]
    }
   ],
   "source": [
    "li.l_call(session.conversation.messages, lambda x: print(f'{x} \\n'));"
   ]
  }
 ],
 "metadata": {
  "kernelspec": {
   "display_name": "test_env",
   "language": "python",
   "name": "python3"
  },
  "language_info": {
   "codemirror_mode": {
    "name": "ipython",
    "version": 3
   },
   "file_extension": ".py",
   "mimetype": "text/x-python",
   "name": "python",
   "nbconvert_exporter": "python",
   "pygments_lexer": "ipython3",
   "version": "3.11.5"
  }
 },
 "nbformat": 4,
 "nbformat_minor": 2
}
