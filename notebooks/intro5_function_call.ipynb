{
 "cells": [
  {
   "cell_type": "markdown",
   "metadata": {},
   "source": [
    "# Function calling\n",
    "\n",
    "Function calling is a powerful feature of OpenAI `gpt-4` and other models. It essentially is a **Function Picker and Parameter Provider**. It can help you choose which function, if any, to invoke with which parameters, under provided context and instruction. \n",
    "\n",
    "LionAGI allows simple usage of function callings in the `Session` object. "
   ]
  },
  {
   "cell_type": "code",
   "execution_count": 11,
   "metadata": {},
   "outputs": [],
   "source": [
    "import lionagi as li"
   ]
  },
  {
   "cell_type": "code",
   "execution_count": 12,
   "metadata": {},
   "outputs": [],
   "source": [
    "# let us define a function description in OpenAI schema\n",
    "\n",
    "tools = [\n",
    "    {\n",
    "        \"type\": \"function\",\n",
    "        \"function\": {\n",
    "            \"name\": \"multiply\",\n",
    "            \"description\": \"Perform multiplication on two numbers\",\n",
    "            \"parameters\": {\n",
    "                \"type\": \"object\",\n",
    "                \"properties\": {\n",
    "                    \"number1\": {\n",
    "                        \"type\": \"number\",\n",
    "                        \"description\": \"a number to multiply, e.g. 5.34\",\n",
    "                    },\n",
    "                    \"format\": {\n",
    "                        \"number2\": \"number\",\n",
    "                        \"description\": \"a number to multiply, e.g. 17\",\n",
    "                    },\n",
    "                },\n",
    "                # specify which parameters are required for the model to respond when function calling\n",
    "                \"required\": [\"number1\", \"number2\"],\n",
    "            },\n",
    "        }\n",
    "    }\n",
    "]"
   ]
  },
  {
   "cell_type": "code",
   "execution_count": null,
   "metadata": {},
   "outputs": [],
   "source": [
    "# and now some messages\n",
    "system = \"It is now May, take a deep breath and think step by step, Don't make assumptions about what values to plug into functions. Ask for clarification if a user request is ambiguous.\"\n",
    "task = \"pick two numbers as parameters for function calling from the question. The purpose is to show basic principle of multiplication\"\n",
    "\n",
    "# when using respond_mode as json to enforce output format, you need to provide specifying details in instruction\n",
    "json_format = {\"number1\": \"x\", \"number2\": \"y\"}\n",
    "\n",
    "instruct1 = {\"Task\": task, \"json_format\": json_format}"
   ]
  },
  {
   "cell_type": "code",
   "execution_count": 13,
   "metadata": {},
   "outputs": [],
   "source": [
    "question = \"There are [basketball, baseball, football, bags, water bottles, strawberry, tennis ball, ping pong table]. each comes in four different colors, how many unique kinds of balls are there?\"\n",
    "\n",
    "\n",
    "context1 = {\"Question\": question}"
   ]
  },
  {
   "cell_type": "code",
   "execution_count": 14,
   "metadata": {},
   "outputs": [],
   "source": [
    "# iniate the session\n",
    "calculator = li.Session(system)\n",
    "\n",
    "# update the default llmconfig to include the tools if you wish to make the tools accessible for every message within the whole session\n",
    "calculator.llmconfig.update({\n",
    "    \"tools\": tools,\n",
    "    \"tool_choice\": \"auto\",\n",
    "    \"response_format\": {'type':'json_object'}\n",
    "})"
   ]
  },
  {
   "cell_type": "code",
   "execution_count": 15,
   "metadata": {},
   "outputs": [
    {
     "data": {
      "text/plain": [
       "{'model': 'gpt-4-1106-preview',\n",
       " 'frequency_penalty': 0,\n",
       " 'max_tokens': None,\n",
       " 'n': 1,\n",
       " 'presence_penalty': 0,\n",
       " 'response_format': {'type': 'json_object'},\n",
       " 'seed': None,\n",
       " 'stop': None,\n",
       " 'stream': False,\n",
       " 'temperature': 0.7,\n",
       " 'top_p': 1,\n",
       " 'tools': [{'type': 'function',\n",
       "   'function': {'name': 'multiply',\n",
       "    'description': 'Perform multiplication on two numbers',\n",
       "    'parameters': {'type': 'object',\n",
       "     'properties': {'number1': {'type': 'number',\n",
       "       'description': 'a number to multiply, e.g. 5.34'},\n",
       "      'format': {'number2': 'number',\n",
       "       'description': 'a number to multiply, e.g. 17.0'}},\n",
       "     'required': ['number1', 'number2']}}}],\n",
       " 'tool_choice': 'auto',\n",
       " 'user': None}"
      ]
     },
     "execution_count": 15,
     "metadata": {},
     "output_type": "execute_result"
    }
   ],
   "source": [
    "calculator.llmconfig"
   ]
  },
  {
   "cell_type": "code",
   "execution_count": 16,
   "metadata": {},
   "outputs": [
    {
     "name": "stdout",
     "output_type": "stream",
     "text": [
      "\n",
      "    {\"tool_uses\": [\n",
      "      {\n",
      "        \"recipient_name\": \"functions.multiply\",\n",
      "        \"parameters\": {\n",
      "          \"number1\": 4,\n",
      "          \"number2\": 4\n",
      "        }\n",
      "      }\n",
      "    ]}\n",
      "  \n"
     ]
    }
   ],
   "source": [
    "out = await calculator.initiate(instruction=instruct1,context=context1)\n",
    "print(out)"
   ]
  },
  {
   "cell_type": "code",
   "execution_count": 17,
   "metadata": {},
   "outputs": [
    {
     "ename": "KeyError",
     "evalue": "'function'",
     "output_type": "error",
     "traceback": [
      "\u001b[0;31m---------------------------------------------------------------------------\u001b[0m",
      "\u001b[0;31mKeyError\u001b[0m                                  Traceback (most recent call last)",
      "Cell \u001b[0;32mIn[17], line 4\u001b[0m\n\u001b[1;32m      1\u001b[0m \u001b[38;5;28;01mimport\u001b[39;00m \u001b[38;5;21;01mjson\u001b[39;00m\n\u001b[1;32m      3\u001b[0m out1 \u001b[38;5;241m=\u001b[39m json\u001b[38;5;241m.\u001b[39mloads(out)\n\u001b[0;32m----> 4\u001b[0m func \u001b[38;5;241m=\u001b[39m \u001b[43mout1\u001b[49m\u001b[43m[\u001b[49m\u001b[38;5;124;43m'\u001b[39;49m\u001b[38;5;124;43mfunction\u001b[39;49m\u001b[38;5;124;43m'\u001b[39;49m\u001b[43m]\u001b[49m[\u001b[38;5;241m5\u001b[39m:]\n\u001b[1;32m      5\u001b[0m arguments \u001b[38;5;241m=\u001b[39m json\u001b[38;5;241m.\u001b[39mloads(out1[\u001b[38;5;124m'\u001b[39m\u001b[38;5;124marguments\u001b[39m\u001b[38;5;124m'\u001b[39m])\n",
      "\u001b[0;31mKeyError\u001b[0m: 'function'"
     ]
    }
   ],
   "source": [
    "import json\n",
    "\n",
    "out1 = json.loads(out)\n",
    "func = out1['function'][5:]\n",
    "arguments = json.loads(out1['arguments'])"
   ]
  },
  {
   "cell_type": "code",
   "execution_count": 10,
   "metadata": {},
   "outputs": [
    {
     "data": {
      "text/plain": [
       "'multiply'"
      ]
     },
     "execution_count": 10,
     "metadata": {},
     "output_type": "execute_result"
    }
   ],
   "source": [
    "func"
   ]
  },
  {
   "cell_type": "code",
   "execution_count": 8,
   "metadata": {},
   "outputs": [
    {
     "data": {
      "text/plain": [
       "{'function': 'func_multiply', 'arguments': '{\"number1\":4,\"number2\":3}'}"
      ]
     },
     "execution_count": 8,
     "metadata": {},
     "output_type": "execute_result"
    }
   ],
   "source": [
    "out1"
   ]
  },
  {
   "cell_type": "code",
   "execution_count": null,
   "metadata": {},
   "outputs": [],
   "source": [
    "out"
   ]
  },
  {
   "cell_type": "code",
   "execution_count": 21,
   "metadata": {},
   "outputs": [
    {
     "data": {
      "text/plain": [
       "dict_keys(['number1', 'number2'])"
      ]
     },
     "execution_count": 21,
     "metadata": {},
     "output_type": "execute_result"
    }
   ],
   "source": [
    "arguments.keys()"
   ]
  },
  {
   "cell_type": "code",
   "execution_count": 18,
   "metadata": {},
   "outputs": [],
   "source": []
  },
  {
   "cell_type": "code",
   "execution_count": 19,
   "metadata": {},
   "outputs": [
    {
     "data": {
      "text/plain": [
       "{'number1': 4, 'number2': 3}"
      ]
     },
     "execution_count": 19,
     "metadata": {},
     "output_type": "execute_result"
    }
   ],
   "source": []
  },
  {
   "cell_type": "code",
   "execution_count": 13,
   "metadata": {},
   "outputs": [
    {
     "data": {
      "text/plain": [
       "'{\"function\": \"func_multiply\", \"arguments\": \"{\\\\\"number1\\\\\":4,\\\\\"number2\\\\\":3}\"}'"
      ]
     },
     "execution_count": 13,
     "metadata": {},
     "output_type": "execute_result"
    }
   ],
   "source": [
    "out"
   ]
  },
  {
   "cell_type": "code",
   "execution_count": null,
   "metadata": {},
   "outputs": [],
   "source": []
  },
  {
   "cell_type": "code",
   "execution_count": 6,
   "metadata": {},
   "outputs": [
    {
     "data": {
      "text/plain": [
       "{'role': 'assistant',\n",
       " 'content': '{\"function\": \"func_multiply\", \"arguments\": \"{\\\\\"number1\\\\\":12,\\\\\"number2\\\\\":4}\"}'}"
      ]
     },
     "execution_count": 6,
     "metadata": {},
     "output_type": "execute_result"
    }
   ],
   "source": [
    "calculator.conversation.messages[-1]"
   ]
  },
  {
   "cell_type": "code",
   "execution_count": null,
   "metadata": {},
   "outputs": [
    {
     "data": {
      "text/plain": [
       "deque([{'input': {'messages': [{'role': 'system',\n",
       "           'content': \"Don't make assumptions about what values to plug into functions. Ask for clarification if a user request is ambiguous.\"},\n",
       "          {'role': 'user',\n",
       "           'content': '{\"instruction\": {\"instruction\": \"provide two numbers for multiplication for the following question. The purpose is to show basic principle of multiplication: There are basketball, baseball and football, each comes in four different colors, how many unique kinds of balls are there?\", \"json_format\": {\"number1\": \"xx\", \"number2\": \"yy\"}}}'},\n",
       "          {'role': 'assistant',\n",
       "           'content': '{\"function\": \"func_multiply\", \"arguments\": \"{\\\\\"number1\\\\\":12,\\\\\"number2\\\\\":4}\"}'}],\n",
       "         'model': 'gpt-4-1106-preview',\n",
       "         'frequency_penalty': 0,\n",
       "         'n': 1,\n",
       "         'presence_penalty': 0,\n",
       "         'response_format': {'type': 'json_object'},\n",
       "         'temperature': 0.7,\n",
       "         'top_p': 1,\n",
       "         'tools': [{'type': 'function',\n",
       "           'function': {'name': 'multiply',\n",
       "            'description': 'Perform multiplication on two numbers',\n",
       "            'parameters': {'type': 'object',\n",
       "             'properties': {'number1': {'type': 'number',\n",
       "               'description': 'a number to multiply, e.g. 5.34'},\n",
       "              'format': {'number2': 'number',\n",
       "               'description': 'a number to multiply, e.g. 17.0'}},\n",
       "             'required': ['number1', 'number2']}}}],\n",
       "         'tool_choice': {'type': 'function',\n",
       "          'function': {'name': 'multiply'}}},\n",
       "        'output': {'id': 'chatcmpl-8UcmTQ8yC7a3m5huruaDfSMaJWR6W',\n",
       "         'object': 'chat.completion',\n",
       "         'created': 1702309605,\n",
       "         'model': 'gpt-4-1106-preview',\n",
       "         'choices': [{'index': 0,\n",
       "           'message': {'role': 'assistant',\n",
       "            'content': None,\n",
       "            'tool_calls': [{'id': 'call_N97VJzpqu71z7Uag1t6Aoj4R',\n",
       "              'type': 'function',\n",
       "              'function': {'name': 'multiply',\n",
       "               'arguments': '{\"number1\":12,\"number2\":4}'}}]},\n",
       "           'finish_reason': 'stop'}],\n",
       "         'usage': {'prompt_tokens': 177,\n",
       "          'completion_tokens': 11,\n",
       "          'total_tokens': 188},\n",
       "         'system_fingerprint': 'fp_6aca3b5ce1'}}])"
      ]
     },
     "execution_count": 7,
     "metadata": {},
     "output_type": "execute_result"
    }
   ],
   "source": [
    "calculator._logger.log"
   ]
  },
  {
   "cell_type": "code",
   "execution_count": 8,
   "metadata": {},
   "outputs": [
    {
     "data": {
      "text/plain": [
       "'{\"function\": \"func_multiply\", \"arguments\": \"{\\\\\"number1\\\\\":12,\\\\\"number2\\\\\":4}\"}'"
      ]
     },
     "execution_count": 8,
     "metadata": {},
     "output_type": "execute_result"
    }
   ],
   "source": [
    "out"
   ]
  },
  {
   "cell_type": "code",
   "execution_count": 9,
   "metadata": {},
   "outputs": [
    {
     "data": {
      "text/plain": [
       "True"
      ]
     },
     "execution_count": 9,
     "metadata": {},
     "output_type": "execute_result"
    }
   ],
   "source": [
    "bool(\"none\")"
   ]
  }
 ],
 "metadata": {
  "kernelspec": {
   "display_name": "lion_dev",
   "language": "python",
   "name": "python3"
  },
  "language_info": {
   "codemirror_mode": {
    "name": "ipython",
    "version": 3
   },
   "file_extension": ".py",
   "mimetype": "text/x-python",
   "name": "python",
   "nbconvert_exporter": "python",
   "pygments_lexer": "ipython3",
   "version": "3.11.5"
  }
 },
 "nbformat": 4,
 "nbformat_minor": 2
}
