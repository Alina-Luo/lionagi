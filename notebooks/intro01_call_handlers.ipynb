{
 "cells": [
  {
   "cell_type": "code",
   "execution_count": 16,
   "metadata": {},
   "outputs": [],
   "source": [
    "import lionagi as li\n",
    "\n",
    "import asyncio"
   ]
  },
  {
   "cell_type": "markdown",
   "metadata": {},
   "source": [
    "# Special function calls"
   ]
  },
  {
   "cell_type": "markdown",
   "metadata": {},
   "source": [
    "Complicated loops and iterations are a pain for large data sets, and complex data structure \n",
    "\n",
    "special function call handlers are designed to reduce that pain to stay focus on the workflow"
   ]
  },
  {
   "cell_type": "markdown",
   "metadata": {},
   "source": [
    "## 1. to_list & lcall (list call)\n",
    "\n",
    "lcall is the only sync special call handler"
   ]
  },
  {
   "cell_type": "code",
   "execution_count": 17,
   "metadata": {},
   "outputs": [
    {
     "data": {
      "text/plain": [
       "[1, 2, 3, 4, 5, 6]"
      ]
     },
     "execution_count": 17,
     "metadata": {},
     "output_type": "execute_result"
    }
   ],
   "source": [
    "# we use to_list, a helpful type converter\n",
    "# it flattens a nested list, and also dropna\n",
    "\n",
    "a = [1, None, 2, 3, [4], [5, None, 6]]\n",
    "li.to_list(a, flatten=True, dropna=True)"
   ]
  },
  {
   "cell_type": "code",
   "execution_count": 18,
   "metadata": {},
   "outputs": [
    {
     "data": {
      "text/plain": [
       "[1, 4, 9, 16, 25]"
      ]
     },
     "execution_count": 18,
     "metadata": {},
     "output_type": "execute_result"
    }
   ],
   "source": [
    "# create a test input list\n",
    "a = range(1,6)\n",
    "\n",
    "# create some test functions\n",
    "f1 = lambda x: x**2\n",
    "\n",
    "# the first special function calling method is called l_call (list call)\n",
    "# you can operate a single function on the whole set of input list\n",
    "li.lcall(a, f1)"
   ]
  },
  {
   "cell_type": "code",
   "execution_count": 19,
   "metadata": {},
   "outputs": [
    {
     "name": "stdout",
     "output_type": "stream",
     "text": [
      "5\n",
      "7\n",
      "9\n",
      "11\n",
      "13\n"
     ]
    }
   ],
   "source": [
    "def multiply_and_increment(x, factor=1, increment=0):\n",
    "    print(x * factor + increment)\n",
    "\n",
    "li.lcall(a, multiply_and_increment, factor=2, increment=3);"
   ]
  },
  {
   "cell_type": "markdown",
   "metadata": {},
   "source": [
    "## 2. Async call handlers\n",
    "\n",
    "LionAGI is designed to be async only, (sync functions also works)\n",
    "\n",
    "there are many handlers for async operations"
   ]
  },
  {
   "cell_type": "markdown",
   "metadata": {},
   "source": [
    "`alcall` (async list call)"
   ]
  },
  {
   "cell_type": "code",
   "execution_count": 20,
   "metadata": {},
   "outputs": [
    {
     "data": {
      "text/plain": [
       "<coroutine object add_1 at 0x1302e41c0>"
      ]
     },
     "execution_count": 20,
     "metadata": {},
     "output_type": "execute_result"
    }
   ],
   "source": [
    "# define an async function\n",
    "async def add_1(x):\n",
    "    return x+1\n",
    "\n",
    "# let's try to run it as usual \n",
    "add_1(2)"
   ]
  },
  {
   "cell_type": "code",
   "execution_count": 21,
   "metadata": {},
   "outputs": [
    {
     "data": {
      "text/plain": [
       "0.5"
      ]
     },
     "execution_count": 21,
     "metadata": {},
     "output_type": "execute_result"
    }
   ],
   "source": [
    "# we need to add await in front of an async function to recieve the output, rather than a coroutine object\n",
    "async def async_inverse(x):\n",
    "    return 1 / x if x != 0 else None\n",
    "\n",
    "await async_inverse(2)"
   ]
  },
  {
   "cell_type": "code",
   "execution_count": 22,
   "metadata": {},
   "outputs": [
    {
     "data": {
      "text/plain": [
       "[0.5, 0.25, 0.125, 0.1]"
      ]
     },
     "execution_count": 22,
     "metadata": {},
     "output_type": "execute_result"
    }
   ],
   "source": [
    "async def async_increment(x, inverse=False):\n",
    "    if inverse:\n",
    "        return await async_inverse(x+1)\n",
    "    return x + 1\n",
    "\n",
    "# we can use alcall (async list call) to run an async function on a list\n",
    "await li.alcall([[1, 3], [7, 9]], async_increment, flatten=True, inverse=True)"
   ]
  },
  {
   "cell_type": "markdown",
   "metadata": {},
   "source": [
    "`mcall` (mapped call) allows you to map functions and arguments to a collection of objects, and call them all in parallel.\n"
   ]
  },
  {
   "cell_type": "code",
   "execution_count": 24,
   "metadata": {},
   "outputs": [
    {
     "data": {
      "text/plain": [
       "[5, 8, 25]"
      ]
     },
     "execution_count": 24,
     "metadata": {},
     "output_type": "execute_result"
    }
   ],
   "source": [
    "f0 = lambda x: x+2\n",
    "f1 = lambda x: x*2\n",
    "f2 = lambda x: x**2\n",
    "\n",
    "# apply each function to its corresponding input\n",
    "await li.mcall(input_=[3,4,5], funcs=[f0, f1, f2])"
   ]
  },
  {
   "cell_type": "code",
   "execution_count": 28,
   "metadata": {},
   "outputs": [
    {
     "data": {
      "text/plain": [
       "[[5, 6, 9], [6, 8, 16], [7, 10, 25], [8, 12, 36], [9, 14, 49]]"
      ]
     },
     "execution_count": 28,
     "metadata": {},
     "output_type": "execute_result"
    }
   ],
   "source": [
    "# apply each function to every input, exploding the output size\n",
    "await li.mcall(input_=[3,4,5,6,7], funcs=[f0, f1, f2], explode=True)"
   ]
  },
  {
   "cell_type": "markdown",
   "metadata": {},
   "source": [
    "`tcall` timed call Handle both synchronous and asynchronous calls with optional delay, error handling, and execution timing."
   ]
  },
  {
   "cell_type": "code",
   "execution_count": 29,
   "metadata": {},
   "outputs": [
    {
     "data": {
      "text/plain": [
       "('HELLO', 1.1022851467132568)"
      ]
     },
     "execution_count": 29,
     "metadata": {},
     "output_type": "execute_result"
    }
   ],
   "source": [
    "async def async_function(input_):\n",
    "    await asyncio.sleep(1)  # Simulate a delay\n",
    "    if input_ == 'error':\n",
    "        raise ValueError(\"Error triggered\")\n",
    "    return input_.upper()\n",
    "\n",
    "# you can add a delay at the tcall\n",
    "await li.tcall('hello', async_function, sleep=0.1, include_timing=True)"
   ]
  },
  {
   "cell_type": "code",
   "execution_count": 30,
   "metadata": {},
   "outputs": [
    {
     "name": "stdout",
     "output_type": "stream",
     "text": [
      "Here is an error:  Error: error\n"
     ]
    }
   ],
   "source": [
    "def error_func(x):\n",
    "    raise Exception(\"error\")\n",
    "\n",
    "await li.tcall(1, error_func, sleep=1, ignore_error=True, message=\"Here is an error: \")"
   ]
  },
  {
   "cell_type": "markdown",
   "metadata": {},
   "source": [
    "`bcall` batch call allows the previous batch to finish before the next gets sent"
   ]
  },
  {
   "cell_type": "code",
   "execution_count": null,
   "metadata": {},
   "outputs": [
    {
     "name": "stdout",
     "output_type": "stream",
     "text": [
      "2\n",
      "4\n",
      "6\n",
      "8\n",
      "10\n",
      "12\n"
     ]
    }
   ],
   "source": [
    "async def process_item(item):\n",
    "    await asyncio.sleep(1)\n",
    "    print(item*2)\n",
    "\n",
    "inputs = [1, 2, 3, 4, 5, 6]\n",
    "batch_size = 2\n",
    "\n",
    "# you should see the results get printed 2 items at a time, with a 1 second delay between each batch\n",
    "await li.bcall(inputs, process_item, batch_size);"
   ]
  },
  {
   "cell_type": "code",
   "execution_count": 39,
   "metadata": {},
   "outputs": [
    {
     "name": "stdout",
     "output_type": "stream",
     "text": [
      "2\n",
      "4\n",
      "Caught an exception: Error processing item\n"
     ]
    },
    {
     "name": "stdout",
     "output_type": "stream",
     "text": [
      "8\n"
     ]
    }
   ],
   "source": [
    "async def process_item_with_exception(item):\n",
    "    if item == 3:\n",
    "        raise ValueError(\"Error processing item\")\n",
    "    await asyncio.sleep(1)\n",
    "    print(item*2)\n",
    "    return item * 2\n",
    "\n",
    "# 5 and 6 didn't get processed because the function stopped after the second batch due to the exception\n",
    "inputs = [1, 2, 3, 4, 5, 6]\n",
    "batch_size = 2\n",
    "try:\n",
    "    results = await li.bcall(inputs, process_item_with_exception, batch_size)\n",
    "    print(results)\n",
    "except ValueError as e:\n",
    "    print(f\"Caught an exception: {e}\")"
   ]
  }
 ],
 "metadata": {
  "kernelspec": {
   "display_name": "lion_dev",
   "language": "python",
   "name": "python3"
  },
  "language_info": {
   "codemirror_mode": {
    "name": "ipython",
    "version": 3
   },
   "file_extension": ".py",
   "mimetype": "text/x-python",
   "name": "python",
   "nbconvert_exporter": "python",
   "pygments_lexer": "ipython3",
   "version": "3.11.7"
  }
 },
 "nbformat": 4,
 "nbformat_minor": 2
}
