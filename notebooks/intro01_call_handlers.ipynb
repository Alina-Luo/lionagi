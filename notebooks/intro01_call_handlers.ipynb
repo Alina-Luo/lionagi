{
 "cells": [
  {
   "cell_type": "markdown",
   "metadata": {},
   "source": [
    "# LionAGI - Introduction 1 : Function Handler\n",
    "\n",
    "\n",
    "LionAGI is an intelligent agent framework, it integrate big data with advanced Machine Learning models such as LLM. \n",
    "\n",
    "In this tutorial, we will go through **special function call handlers**\n",
    "\n",
    "When handling big dataset, it is very common to use loops, but they can get complex quite quickly, and prone to errors. \n",
    "LionAGI provides a set of tools to handle various loops and other problems in function calling\n",
    "\n",
    "Synchonous function call handlers:\n",
    "\n",
    "- `to_list`  : Convert given object to list, additionally can flatten to 1-D and dropna\n",
    "- `lcall`   : takes a list of inputs and apply a given function on each element \n",
    "\n",
    "Asynchonous function call handlers:\n",
    "\n",
    "- `alcall` : Async List Call, similar to `lcall` but suitable for async\n",
    "- `mcall`   : Mapped Call, map elements to functions, apply each function to corresponding element, or each element \n",
    "- `bcall`   : Batch Call, group elements into batches, apply function to each batch aysnchronously, and wait one batch to finish before next\n",
    "- `tcall`   : Timed Call, delay, timeout, exception handling and calculates runtime\n",
    "- `rcall`   : Retry Call, timed call plus retry with backoff and default value"
   ]
  },
  {
   "cell_type": "code",
   "execution_count": 1,
   "metadata": {},
   "outputs": [],
   "source": [
    "import lionagi as li"
   ]
  },
  {
   "cell_type": "markdown",
   "metadata": {},
   "source": [
    "### Synchrous Function Handlers"
   ]
  },
  {
   "cell_type": "markdown",
   "metadata": {},
   "source": [
    "#### 1. to_list & lcall (list call)"
   ]
  },
  {
   "cell_type": "code",
   "execution_count": 2,
   "metadata": {},
   "outputs": [
    {
     "data": {
      "text/plain": [
       "[1, 2, 3, 4, 5, 6]"
      ]
     },
     "execution_count": 2,
     "metadata": {},
     "output_type": "execute_result"
    }
   ],
   "source": [
    "# we use to_list, a helpful type converter\n",
    "# it flattens a nested list, and also dropna\n",
    "\n",
    "a = [\n",
    "    1, None, 2, 3, \n",
    "    [4], \n",
    "    [5, None, 6]\n",
    "]\n",
    "\n",
    "\n",
    "li.to_list(a, flatten=True, dropna=True)"
   ]
  },
  {
   "cell_type": "code",
   "execution_count": 3,
   "metadata": {},
   "outputs": [
    {
     "data": {
      "text/plain": [
       "[1, 4, 9, 16, 25]"
      ]
     },
     "execution_count": 3,
     "metadata": {},
     "output_type": "execute_result"
    }
   ],
   "source": [
    "# create a test input list\n",
    "a = range(1,6)\n",
    "\n",
    "# create some test functions\n",
    "f1 = lambda x: x**2\n",
    "\n",
    "# the first special function calling method is called l_call (list call)\n",
    "# you can operate a single function on the whole set of input list\n",
    "li.lcall(a, f1)"
   ]
  },
  {
   "cell_type": "code",
   "execution_count": 4,
   "metadata": {},
   "outputs": [
    {
     "name": "stdout",
     "output_type": "stream",
     "text": [
      "5\n",
      "7\n",
      "9\n",
      "11\n",
      "13\n"
     ]
    }
   ],
   "source": [
    "# you can also pass **kwargs of the functions\n",
    "# the input for lcall should be a single list, (you can bundle various inputs in objects)\n",
    "\n",
    "def multiply_and_increment(x, factor=1, increment=0):\n",
    "    print(x * factor + increment)\n",
    "\n",
    "li.lcall(a, multiply_and_increment, factor=2, increment=3);"
   ]
  },
  {
   "cell_type": "markdown",
   "metadata": {},
   "source": [
    "### Async call handlers for Multi-Elements\n",
    "\n",
    "LionAGI is designed to be async only, (sync functions also works)\n",
    "\n",
    "there are many handlers for async operations"
   ]
  },
  {
   "cell_type": "code",
   "execution_count": 5,
   "metadata": {},
   "outputs": [],
   "source": [
    "import asyncio"
   ]
  },
  {
   "cell_type": "markdown",
   "metadata": {},
   "source": [
    "`alcall` (async list call)"
   ]
  },
  {
   "cell_type": "code",
   "execution_count": 6,
   "metadata": {},
   "outputs": [
    {
     "data": {
      "text/plain": [
       "<coroutine object add_1 at 0x1692a9d80>"
      ]
     },
     "execution_count": 6,
     "metadata": {},
     "output_type": "execute_result"
    }
   ],
   "source": [
    "# define an async function\n",
    "async def add_1(x):\n",
    "    return x+1\n",
    "\n",
    "# let's try to run it as usual \n",
    "add_1(2)"
   ]
  },
  {
   "cell_type": "code",
   "execution_count": 7,
   "metadata": {},
   "outputs": [
    {
     "data": {
      "text/plain": [
       "0.5"
      ]
     },
     "execution_count": 7,
     "metadata": {},
     "output_type": "execute_result"
    }
   ],
   "source": [
    "# we need to add await in front of an async function to recieve the output, \n",
    "# rather than a coroutine object\n",
    "async def async_inverse(x):\n",
    "    return 1 / x if x != 0 else None\n",
    "\n",
    "await async_inverse(2)"
   ]
  },
  {
   "cell_type": "code",
   "execution_count": 8,
   "metadata": {},
   "outputs": [
    {
     "data": {
      "text/plain": [
       "[0.5, 0.25, 0.125, 0.1]"
      ]
     },
     "execution_count": 8,
     "metadata": {},
     "output_type": "execute_result"
    }
   ],
   "source": [
    "# similar to lcall, you can also pass in **kwargs\n",
    "async def async_increment(x, inverse=False):\n",
    "    if inverse:\n",
    "        return await async_inverse(x+1)\n",
    "    return x + 1\n",
    "\n",
    "# we can use alcall (async list call) to run an async function on a list\n",
    "# it uses to_list under the hood, so also can flatten and dropna the output\n",
    "\n",
    "await li.alcall(\n",
    "    input=[[1, 3], [7, 9]], \n",
    "    func=async_increment, \n",
    "    flatten=True, \n",
    "    inverse=True\n",
    ")"
   ]
  },
  {
   "cell_type": "markdown",
   "metadata": {},
   "source": [
    "`mcall` (mapped call) allows you to map functions and arguments to a collection of objects, and call them all in parallel.\n"
   ]
  },
  {
   "cell_type": "code",
   "execution_count": 9,
   "metadata": {},
   "outputs": [
    {
     "data": {
      "text/plain": [
       "[5, 8, 25]"
      ]
     },
     "execution_count": 9,
     "metadata": {},
     "output_type": "execute_result"
    }
   ],
   "source": [
    "f0 = lambda x: x+2\n",
    "f1 = lambda x: x*2\n",
    "f2 = lambda x: x**2\n",
    "\n",
    "# apply each function to its corresponding input\n",
    "await li.mcall(input=[3,4,5], func=[f0, f1, f2])"
   ]
  },
  {
   "cell_type": "code",
   "execution_count": 10,
   "metadata": {},
   "outputs": [
    {
     "data": {
      "text/plain": [
       "[[5, 6, 7, 8, 9], [6, 8, 10, 12, 14], [9, 16, 25, 36, 49]]"
      ]
     },
     "execution_count": 10,
     "metadata": {},
     "output_type": "execute_result"
    }
   ],
   "source": [
    "# apply each function to every input hence 'explode'\n",
    "await li.mcall(\n",
    "    input=[3,4,5,6,7], \n",
    "    func=[f0, f1, f2], \n",
    "    explode=True\n",
    ")"
   ]
  },
  {
   "cell_type": "markdown",
   "metadata": {},
   "source": [
    "`bcall` batch call allows the previous batch to finish before the next gets sent"
   ]
  },
  {
   "cell_type": "code",
   "execution_count": 11,
   "metadata": {},
   "outputs": [
    {
     "name": "stdout",
     "output_type": "stream",
     "text": [
      "2\n",
      "4\n",
      "6\n",
      "8\n",
      "10\n"
     ]
    }
   ],
   "source": [
    "async def process_item(item):\n",
    "    await asyncio.sleep(0.5)\n",
    "    print(item*2)\n",
    "\n",
    "inputs = [1, 2, 3, 4, 5]\n",
    "batch_size = 2\n",
    "\n",
    "# you should see the results get printed 2 items at a time, with a 0.5 second delay between each batch, \n",
    "# last batch should only have 1 element\n",
    "await li.bcall(\n",
    "    input=inputs, \n",
    "    func=process_item, \n",
    "    batch_size=2\n",
    ");"
   ]
  },
  {
   "cell_type": "code",
   "execution_count": 12,
   "metadata": {},
   "outputs": [
    {
     "name": "stdout",
     "output_type": "stream",
     "text": [
      "2\n",
      "4\n",
      "Caught an exception: Error processing item\n"
     ]
    }
   ],
   "source": [
    "async def process_item_with_exception(item):\n",
    "    if item == 3:\n",
    "        raise ValueError(\"Error processing item\")\n",
    "    await asyncio.sleep(0.5)\n",
    "    print(item*2)\n",
    "    return item * 2\n",
    "\n",
    "# 5 and 6 didn't get processed because the function stopped after the second batch due to the exception\n",
    "inputs = [1, 2, 3, 4, 5, 6]\n",
    "batch_size = 2\n",
    "try:\n",
    "    results = await li.bcall(inputs, process_item_with_exception, batch_size)\n",
    "    print(results)\n",
    "except ValueError as e:\n",
    "    print(f\"Caught an exception: {e}\")"
   ]
  },
  {
   "cell_type": "markdown",
   "metadata": {},
   "source": [
    "### Async Call Handlers for single element"
   ]
  },
  {
   "cell_type": "markdown",
   "metadata": {},
   "source": [
    "`tcall` timed call Handle both synchronous and asynchronous calls with optional delay, error handling, and execution timing."
   ]
  },
  {
   "cell_type": "code",
   "execution_count": 13,
   "metadata": {},
   "outputs": [
    {
     "name": "stdout",
     "output_type": "stream",
     "text": [
      "8\n"
     ]
    },
    {
     "data": {
      "text/plain": [
       "('HELLO', 0.6022593975067139)"
      ]
     },
     "execution_count": 13,
     "metadata": {},
     "output_type": "execute_result"
    }
   ],
   "source": [
    "async def async_function(input):\n",
    "    await asyncio.sleep(0.5)  # Simulate a delay\n",
    "    if input == 'error':\n",
    "        raise ValueError(\"Error triggered\")\n",
    "    return input.upper()\n",
    "\n",
    "# you can add a delay at the tcall\n",
    "await li.tcall(\n",
    "    func=async_function, \n",
    "    input='hello',\n",
    "    delay=0.1, \n",
    "    err_msg = 'Somehow Error', \n",
    "    ignore_err=False, \n",
    "    timing=True,                # also output how long it took for the function to run \n",
    "    timeout=None\n",
    ")"
   ]
  },
  {
   "cell_type": "code",
   "execution_count": 14,
   "metadata": {},
   "outputs": [
    {
     "name": "stdout",
     "output_type": "stream",
     "text": [
      "Somehow Failed Error: Error triggered\n"
     ]
    }
   ],
   "source": [
    "# you can add a delay at the tcall\n",
    "await li.tcall(\n",
    "    func=async_function, \n",
    "    input='error',\n",
    "    err_msg = 'Somehow Failed', \n",
    "    ignore_err=True, \n",
    ")"
   ]
  },
  {
   "cell_type": "markdown",
   "metadata": {},
   "source": [
    "`rcall` is a plus version of tcall, it includes\n",
    "\n",
    "- retries\n",
    "- delay\n",
    "- backoff_factor\n",
    "- default\n",
    "- timeout"
   ]
  },
  {
   "cell_type": "code",
   "execution_count": 15,
   "metadata": {},
   "outputs": [
    {
     "name": "stdout",
     "output_type": "stream",
     "text": [
      "An error occurred: Error triggered\n",
      "An error occurred: Error triggered\n",
      "An error occurred: Error triggered\n",
      "Caught an exception: Error triggered\n"
     ]
    }
   ],
   "source": [
    "try:\n",
    "    await li.rcall(\n",
    "        func=async_function, \n",
    "        input='error',\n",
    "        retries=3,\n",
    "        backoff_factor=1,       # backoff factor 1, means we do not increase the wait time between retries\n",
    "        delay=0.5               # the delay in rcall represents the time to wait after a failed attempt\n",
    "    )\n",
    "except Exception as e:\n",
    "    print(f\"Caught an exception: {e}\")"
   ]
  }
 ],
 "metadata": {
  "kernelspec": {
   "display_name": "lion_dev",
   "language": "python",
   "name": "python3"
  },
  "language_info": {
   "codemirror_mode": {
    "name": "ipython",
    "version": 3
   },
   "file_extension": ".py",
   "mimetype": "text/x-python",
   "name": "python",
   "nbconvert_exporter": "python",
   "pygments_lexer": "ipython3",
   "version": "3.12.1"
  }
 },
 "nbformat": 4,
 "nbformat_minor": 2
}
