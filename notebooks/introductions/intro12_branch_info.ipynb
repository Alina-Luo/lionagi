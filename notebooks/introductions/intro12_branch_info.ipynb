{
 "cells": [
  {
   "cell_type": "markdown",
   "metadata": {},
   "source": [
    "# LionAGI - Introduction 12 : Branch Info, Filter, and Edit"
   ]
  },
  {
   "cell_type": "code",
   "execution_count": null,
   "metadata": {},
   "outputs": [
    {
     "data": {
      "text/plain": [
       "{'action_request': [{'recipient_name': 'functions.multiply',\n",
       "   'parameters': {'number1': 3, 'number2': 4}},\n",
       "  {'recipient_name': 'functions.multiply',\n",
       "   'parameters': {'number1': 3, 'number2': 2}}]}"
      ]
     },
     "execution_count": 1,
     "metadata": {},
     "output_type": "execute_result"
    }
   ],
   "source": [
    "import lionagi as li\n",
    "\n",
    "def multiply(number1:float, number2:float):\n",
    "    '''\n",
    "    Perform multiplication on two numbers.\n",
    "\n",
    "    Args:\n",
    "        number1: First number to multiply.\n",
    "        number2: Second number to multiply.\n",
    "    \n",
    "    Returns:\n",
    "        The product of number1 and number2.\n",
    "\n",
    "    '''\n",
    "    return number1*number2\n",
    "\n",
    "tool_mul = li.func_to_tool(multiply)\n",
    "\n",
    "# and now some messages\n",
    "system = \"you are asked to perform as a function picker and parameter provider\"\n",
    "task = \"Think step by step, understand the following basic math question and provide parameters for function calling.\"\n",
    "\n",
    "# when using respond_mode as json to enforce output format, you need to provide specifying details in instruction\n",
    "json_format = {\"number1\": \"x\", \"number2\": \"y\"}\n",
    "\n",
    "instruct1 = {\"Task\": task, \"json_format\": json_format}\n",
    "\n",
    "question = \"There are [basketball, football, backpack, water bottle, strawberry, tennis ball, rockets]. each comes in four different colors, what is the number of unique kinds of ball?\"\n",
    "question2 = \"There are three fruits in total, each with 2 different colors, how many unique kinds of fruits are there?\"\n",
    "\n",
    "context1 = {\"Question1\": question, \"question2\": question2}\n",
    "\n",
    "# by_default, tools are not used, you need to specify \n",
    "# tools = True, allows all tools to be available to use\n",
    "# tools = schema / Tool Object let you to specify which tools are allowed to use\n",
    "\n",
    "session = li.Session(system=system)\n",
    "session.register_tools(tool_mul)\n",
    "\n",
    "await session.chat(instruction=instruct1, context=context1, tools=True, response_format={'type':\"json_object\"})"
   ]
  },
  {
   "cell_type": "code",
   "execution_count": null,
   "metadata": {},
   "outputs": [
    {
     "data": {
      "text/html": [
       "<div>\n",
       "<style scoped>\n",
       "    .dataframe tbody tr th:only-of-type {\n",
       "        vertical-align: middle;\n",
       "    }\n",
       "\n",
       "    .dataframe tbody tr th {\n",
       "        vertical-align: top;\n",
       "    }\n",
       "\n",
       "    .dataframe thead th {\n",
       "        text-align: right;\n",
       "    }\n",
       "</style>\n",
       "<table border=\"1\" class=\"dataframe\">\n",
       "  <thead>\n",
       "    <tr style=\"text-align: right;\">\n",
       "      <th></th>\n",
       "      <th>node_id</th>\n",
       "      <th>role</th>\n",
       "      <th>sender</th>\n",
       "      <th>timestamp</th>\n",
       "      <th>content</th>\n",
       "    </tr>\n",
       "  </thead>\n",
       "  <tbody>\n",
       "    <tr>\n",
       "      <th>0</th>\n",
       "      <td>bd62dd97064b9053f46f04de136bafc4</td>\n",
       "      <td>system</td>\n",
       "      <td>system</td>\n",
       "      <td>2024-02-02 23:48:27.864540</td>\n",
       "      <td>{\"system_info\": \"you are asked to perform as a...</td>\n",
       "    </tr>\n",
       "    <tr>\n",
       "      <th>1</th>\n",
       "      <td>85111b57a85ba964acc33d44ae83786d</td>\n",
       "      <td>user</td>\n",
       "      <td>user</td>\n",
       "      <td>2024-02-02 23:48:27.865715</td>\n",
       "      <td>{\"instruction\": {\"Task\": \"Think step by step, ...</td>\n",
       "    </tr>\n",
       "    <tr>\n",
       "      <th>2</th>\n",
       "      <td>48d4f75218f74f7a3a16c259e6be3bf1</td>\n",
       "      <td>assistant</td>\n",
       "      <td>action_request</td>\n",
       "      <td>2024-02-02 23:48:33.040024</td>\n",
       "      <td>{\"action_request\": [{\"recipient_name\": \"functions...</td>\n",
       "    </tr>\n",
       "    <tr>\n",
       "      <th>3</th>\n",
       "      <td>960089cac08d9cf4635f8639db9b1ba6</td>\n",
       "      <td>assistant</td>\n",
       "      <td>action_response</td>\n",
       "      <td>2024-02-02 23:48:33.041690</td>\n",
       "      <td>{\"action_response\": {\"function\": \"multiply\", \"...</td>\n",
       "    </tr>\n",
       "    <tr>\n",
       "      <th>4</th>\n",
       "      <td>868b9e265c6e5aa46b767efcc6a45a3d</td>\n",
       "      <td>assistant</td>\n",
       "      <td>action_response</td>\n",
       "      <td>2024-02-02 23:48:33.042977</td>\n",
       "      <td>{\"action_response\": {\"function\": \"multiply\", \"...</td>\n",
       "    </tr>\n",
       "  </tbody>\n",
       "</table>\n",
       "</div>"
      ],
      "text/plain": [
       "                            node_id       role           sender  \\\n",
       "0  bd62dd97064b9053f46f04de136bafc4     system           system   \n",
       "1  85111b57a85ba964acc33d44ae83786d       user             user   \n",
       "2  48d4f75218f74f7a3a16c259e6be3bf1  assistant   action_request   \n",
       "3  960089cac08d9cf4635f8639db9b1ba6  assistant  action_response   \n",
       "4  868b9e265c6e5aa46b767efcc6a45a3d  assistant  action_response   \n",
       "\n",
       "                   timestamp  \\\n",
       "0 2024-02-02 23:48:27.864540   \n",
       "1 2024-02-02 23:48:27.865715   \n",
       "2 2024-02-02 23:48:33.040024   \n",
       "3 2024-02-02 23:48:33.041690   \n",
       "4 2024-02-02 23:48:33.042977   \n",
       "\n",
       "                                             content  \n",
       "0  {\"system_info\": \"you are asked to perform as a...  \n",
       "1  {\"instruction\": {\"Task\": \"Think step by step, ...  \n",
       "2  {\"action_request\": [{\"recipient_name\": \"functions...  \n",
       "3  {\"action_response\": {\"function\": \"multiply\", \"...  \n",
       "4  {\"action_response\": {\"function\": \"multiply\", \"...  "
      ]
     },
     "execution_count": 2,
     "metadata": {},
     "output_type": "execute_result"
    }
   ],
   "source": [
    "branch = session.default_branch\n",
    "session.messages"
   ]
  },
  {
   "cell_type": "markdown",
   "metadata": {},
   "source": [
    "### Info"
   ]
  },
  {
   "cell_type": "code",
   "execution_count": null,
   "metadata": {},
   "outputs": [
    {
     "data": {
      "text/plain": [
       "{'total_messages': 5,\n",
       " 'summary_by_role': {'assistant': 3, 'system': 1, 'user': 1, 'total': 5},\n",
       " 'summary_by_sender': {'action_response': 2,\n",
       "  'system': 1,\n",
       "  'user': 1,\n",
       "  'action_request': 1,\n",
       "  'total': 5},\n",
       " 'instruction_sets': {},\n",
       " 'registered_tools': {'multiply': Tool({\"node_id\":\"6921e3a322f092b57b45f281fa4dfa8b\",\"metadata\":{},\"label\":null,\"related_nodes\":[],\"content\":null,\"func\":\"multiply\",\"parser\":null,\"schema_\":{\"type\":\"function\",\"function\":{\"name\":\"multiply\",\"description\":\"Perform multiplication on two numbers.\",\"parameters\":{\"type\":\"object\",\"properties\":{\"number1\":{\"type\":\"number\",\"description\":\"First number to multiply.\"},\"number2\":{\"type\":\"number\",\"description\":\"Second number to multiply.\"}},\"required\":[\"number1\",\"number2\"]}}}})},\n",
       " 'messages': [{'node_id': 'bd62dd97064b9053f46f04de136bafc4',\n",
       "   'role': 'system',\n",
       "   'sender': 'system',\n",
       "   'timestamp': Timestamp('2024-02-02 23:48:27.864540'),\n",
       "   'content': '{\"system_info\": \"you are asked to perform as a function picker and parameter provider\"}'},\n",
       "  {'node_id': '85111b57a85ba964acc33d44ae83786d',\n",
       "   'role': 'user',\n",
       "   'sender': 'user',\n",
       "   'timestamp': Timestamp('2024-02-02 23:48:27.865715'),\n",
       "   'content': '{\"instruction\": {\"Task\": \"Think step by step, understand the following basic math question and provide parameters for function calling.\", \"json_format\": {\"number1\": \"x\", \"number2\": \"y\"}}, \"context\": {\"Question1\": \"There are [basketball, football, backpack, water bottle, strawberry, tennis ball, rockets]. each comes in four different colors, what is the number of unique kinds of ball?\", \"question2\": \"There are three fruits in total, each with 2 different colors, how many unique kinds of fruits are there?\"}}'},\n",
       "  {'node_id': '48d4f75218f74f7a3a16c259e6be3bf1',\n",
       "   'role': 'assistant',\n",
       "   'sender': 'action_request',\n",
       "   'timestamp': Timestamp('2024-02-02 23:48:33.040024'),\n",
       "   'content': '{\"action_request\": [{\"recipient_name\": \"functions.multiply\", \"parameters\": {\"number1\": 3, \"number2\": 4}}, {\"recipient_name\": \"functions.multiply\", \"parameters\": {\"number1\": 3, \"number2\": 2}}]}'},\n",
       "  {'node_id': '960089cac08d9cf4635f8639db9b1ba6',\n",
       "   'role': 'assistant',\n",
       "   'sender': 'action_response',\n",
       "   'timestamp': Timestamp('2024-02-02 23:48:33.041690'),\n",
       "   'content': '{\"action_response\": {\"function\": \"multiply\", \"arguments\": {\"number1\": 3, \"number2\": 4}, \"output\": 12}}'},\n",
       "  {'node_id': '868b9e265c6e5aa46b767efcc6a45a3d',\n",
       "   'role': 'assistant',\n",
       "   'sender': 'action_response',\n",
       "   'timestamp': Timestamp('2024-02-02 23:48:33.042977'),\n",
       "   'content': '{\"action_response\": {\"function\": \"multiply\", \"arguments\": {\"number1\": 3, \"number2\": 2}, \"output\": 6}}'}]}"
      ]
     },
     "execution_count": 3,
     "metadata": {},
     "output_type": "execute_result"
    }
   ],
   "source": [
    "# complete version\n",
    "branch.messages_describe"
   ]
  },
  {
   "cell_type": "code",
   "execution_count": null,
   "metadata": {},
   "outputs": [
    {
     "data": {
      "text/plain": [
       "{'assistant': 3, 'system': 1, 'user': 1, 'total': 5}"
      ]
     },
     "execution_count": 4,
     "metadata": {},
     "output_type": "execute_result"
    }
   ],
   "source": [
    "branch.info()"
   ]
  },
  {
   "cell_type": "code",
   "execution_count": null,
   "metadata": {},
   "outputs": [
    {
     "data": {
      "text/html": [
       "<div>\n",
       "<style scoped>\n",
       "    .dataframe tbody tr th:only-of-type {\n",
       "        vertical-align: middle;\n",
       "    }\n",
       "\n",
       "    .dataframe tbody tr th {\n",
       "        vertical-align: top;\n",
       "    }\n",
       "\n",
       "    .dataframe thead th {\n",
       "        text-align: right;\n",
       "    }\n",
       "</style>\n",
       "<table border=\"1\" class=\"dataframe\">\n",
       "  <thead>\n",
       "    <tr style=\"text-align: right;\">\n",
       "      <th></th>\n",
       "      <th>node_id</th>\n",
       "      <th>role</th>\n",
       "      <th>sender</th>\n",
       "      <th>timestamp</th>\n",
       "      <th>content</th>\n",
       "    </tr>\n",
       "  </thead>\n",
       "  <tbody>\n",
       "    <tr>\n",
       "      <th>1</th>\n",
       "      <td>85111b57a85ba964acc33d44ae83786d</td>\n",
       "      <td>user</td>\n",
       "      <td>user</td>\n",
       "      <td>2024-02-02 23:48:27.865715</td>\n",
       "      <td>{\"instruction\": {\"Task\": \"Think step by step, ...</td>\n",
       "    </tr>\n",
       "  </tbody>\n",
       "</table>\n",
       "</div>"
      ],
      "text/plain": [
       "                            node_id  role sender                  timestamp  \\\n",
       "1  85111b57a85ba964acc33d44ae83786d  user   user 2024-02-02 23:48:27.865715   \n",
       "\n",
       "                                             content  \n",
       "1  {\"instruction\": {\"Task\": \"Think step by step, ...  "
      ]
     },
     "execution_count": 5,
     "metadata": {},
     "output_type": "execute_result"
    }
   ],
   "source": [
    "branch.last_instruction"
   ]
  },
  {
   "cell_type": "code",
   "execution_count": null,
   "metadata": {},
   "outputs": [
    {
     "data": {
      "text/html": [
       "<div>\n",
       "<style scoped>\n",
       "    .dataframe tbody tr th:only-of-type {\n",
       "        vertical-align: middle;\n",
       "    }\n",
       "\n",
       "    .dataframe tbody tr th {\n",
       "        vertical-align: top;\n",
       "    }\n",
       "\n",
       "    .dataframe thead th {\n",
       "        text-align: right;\n",
       "    }\n",
       "</style>\n",
       "<table border=\"1\" class=\"dataframe\">\n",
       "  <thead>\n",
       "    <tr style=\"text-align: right;\">\n",
       "      <th></th>\n",
       "      <th>node_id</th>\n",
       "      <th>role</th>\n",
       "      <th>sender</th>\n",
       "      <th>timestamp</th>\n",
       "      <th>content</th>\n",
       "    </tr>\n",
       "  </thead>\n",
       "  <tbody>\n",
       "    <tr>\n",
       "      <th>4</th>\n",
       "      <td>868b9e265c6e5aa46b767efcc6a45a3d</td>\n",
       "      <td>assistant</td>\n",
       "      <td>action_response</td>\n",
       "      <td>2024-02-02 23:48:33.042977</td>\n",
       "      <td>{\"action_response\": {\"function\": \"multiply\", \"...</td>\n",
       "    </tr>\n",
       "  </tbody>\n",
       "</table>\n",
       "</div>"
      ],
      "text/plain": [
       "                            node_id       role           sender  \\\n",
       "4  868b9e265c6e5aa46b767efcc6a45a3d  assistant  action_response   \n",
       "\n",
       "                   timestamp  \\\n",
       "4 2024-02-02 23:48:33.042977   \n",
       "\n",
       "                                             content  \n",
       "4  {\"action_response\": {\"function\": \"multiply\", \"...  "
      ]
     },
     "execution_count": 6,
     "metadata": {},
     "output_type": "execute_result"
    }
   ],
   "source": [
    "branch.last_response"
   ]
  },
  {
   "cell_type": "markdown",
   "metadata": {},
   "source": [
    "### Filter"
   ]
  },
  {
   "cell_type": "code",
   "execution_count": null,
   "metadata": {},
   "outputs": [
    {
     "data": {
      "text/html": [
       "<div>\n",
       "<style scoped>\n",
       "    .dataframe tbody tr th:only-of-type {\n",
       "        vertical-align: middle;\n",
       "    }\n",
       "\n",
       "    .dataframe tbody tr th {\n",
       "        vertical-align: top;\n",
       "    }\n",
       "\n",
       "    .dataframe thead th {\n",
       "        text-align: right;\n",
       "    }\n",
       "</style>\n",
       "<table border=\"1\" class=\"dataframe\">\n",
       "  <thead>\n",
       "    <tr style=\"text-align: right;\">\n",
       "      <th></th>\n",
       "      <th>node_id</th>\n",
       "      <th>role</th>\n",
       "      <th>sender</th>\n",
       "      <th>timestamp</th>\n",
       "      <th>content</th>\n",
       "    </tr>\n",
       "  </thead>\n",
       "  <tbody>\n",
       "    <tr>\n",
       "      <th>3</th>\n",
       "      <td>960089cac08d9cf4635f8639db9b1ba6</td>\n",
       "      <td>assistant</td>\n",
       "      <td>action_response</td>\n",
       "      <td>2024-02-02 23:48:33.041690</td>\n",
       "      <td>{\"action_response\": {\"function\": \"multiply\", \"...</td>\n",
       "    </tr>\n",
       "    <tr>\n",
       "      <th>4</th>\n",
       "      <td>868b9e265c6e5aa46b767efcc6a45a3d</td>\n",
       "      <td>assistant</td>\n",
       "      <td>action_response</td>\n",
       "      <td>2024-02-02 23:48:33.042977</td>\n",
       "      <td>{\"action_response\": {\"function\": \"multiply\", \"...</td>\n",
       "    </tr>\n",
       "  </tbody>\n",
       "</table>\n",
       "</div>"
      ],
      "text/plain": [
       "                            node_id       role           sender  \\\n",
       "3  960089cac08d9cf4635f8639db9b1ba6  assistant  action_response   \n",
       "4  868b9e265c6e5aa46b767efcc6a45a3d  assistant  action_response   \n",
       "\n",
       "                   timestamp  \\\n",
       "3 2024-02-02 23:48:33.041690   \n",
       "4 2024-02-02 23:48:33.042977   \n",
       "\n",
       "                                             content  \n",
       "3  {\"action_response\": {\"function\": \"multiply\", \"...  \n",
       "4  {\"action_response\": {\"function\": \"multiply\", \"...  "
      ]
     },
     "execution_count": 7,
     "metadata": {},
     "output_type": "execute_result"
    }
   ],
   "source": [
    "# filter_messages_by(role=None, sender=None, start_time:datetime=None, end_time:datetime=None, content_keywords=None, case_sensitive=False)\n",
    "branch.filter_messages_by(role='assistant', content_keywords='output')"
   ]
  },
  {
   "cell_type": "code",
   "execution_count": null,
   "metadata": {},
   "outputs": [
    {
     "data": {
      "text/html": [
       "<div>\n",
       "<style scoped>\n",
       "    .dataframe tbody tr th:only-of-type {\n",
       "        vertical-align: middle;\n",
       "    }\n",
       "\n",
       "    .dataframe tbody tr th {\n",
       "        vertical-align: top;\n",
       "    }\n",
       "\n",
       "    .dataframe thead th {\n",
       "        text-align: right;\n",
       "    }\n",
       "</style>\n",
       "<table border=\"1\" class=\"dataframe\">\n",
       "  <thead>\n",
       "    <tr style=\"text-align: right;\">\n",
       "      <th></th>\n",
       "      <th>node_id</th>\n",
       "      <th>role</th>\n",
       "      <th>sender</th>\n",
       "      <th>timestamp</th>\n",
       "      <th>content</th>\n",
       "    </tr>\n",
       "  </thead>\n",
       "  <tbody>\n",
       "    <tr>\n",
       "      <th>1</th>\n",
       "      <td>85111b57a85ba964acc33d44ae83786d</td>\n",
       "      <td>user</td>\n",
       "      <td>user</td>\n",
       "      <td>2024-02-02 23:48:27.865715</td>\n",
       "      <td>{\"instruction\": {\"Task\": \"Think step by step, ...</td>\n",
       "    </tr>\n",
       "  </tbody>\n",
       "</table>\n",
       "</div>"
      ],
      "text/plain": [
       "                            node_id  role sender                  timestamp  \\\n",
       "1  85111b57a85ba964acc33d44ae83786d  user   user 2024-02-02 23:48:27.865715   \n",
       "\n",
       "                                             content  \n",
       "1  {\"instruction\": {\"Task\": \"Think step by step, ...  "
      ]
     },
     "execution_count": 8,
     "metadata": {},
     "output_type": "execute_result"
    }
   ],
   "source": [
    "# search_keywords(keywords=None, case_sensitive=False)\n",
    "branch.search_keywords('task')"
   ]
  },
  {
   "cell_type": "code",
   "execution_count": null,
   "metadata": {},
   "outputs": [
    {
     "data": {
      "text/html": [
       "<div>\n",
       "<style scoped>\n",
       "    .dataframe tbody tr th:only-of-type {\n",
       "        vertical-align: middle;\n",
       "    }\n",
       "\n",
       "    .dataframe tbody tr th {\n",
       "        vertical-align: top;\n",
       "    }\n",
       "\n",
       "    .dataframe thead th {\n",
       "        text-align: right;\n",
       "    }\n",
       "</style>\n",
       "<table border=\"1\" class=\"dataframe\">\n",
       "  <thead>\n",
       "    <tr style=\"text-align: right;\">\n",
       "      <th></th>\n",
       "      <th>node_id</th>\n",
       "      <th>role</th>\n",
       "      <th>sender</th>\n",
       "      <th>timestamp</th>\n",
       "      <th>content</th>\n",
       "    </tr>\n",
       "  </thead>\n",
       "  <tbody>\n",
       "    <tr>\n",
       "      <th>2</th>\n",
       "      <td>48d4f75218f74f7a3a16c259e6be3bf1</td>\n",
       "      <td>assistant</td>\n",
       "      <td>action_request</td>\n",
       "      <td>2024-02-02 23:48:33.040024</td>\n",
       "      <td>{\"action_request\": [{\"recipient_name\": \"functions...</td>\n",
       "    </tr>\n",
       "    <tr>\n",
       "      <th>3</th>\n",
       "      <td>960089cac08d9cf4635f8639db9b1ba6</td>\n",
       "      <td>assistant</td>\n",
       "      <td>action_response</td>\n",
       "      <td>2024-02-02 23:48:33.041690</td>\n",
       "      <td>{\"action_response\": {\"function\": \"multiply\", \"...</td>\n",
       "    </tr>\n",
       "    <tr>\n",
       "      <th>4</th>\n",
       "      <td>868b9e265c6e5aa46b767efcc6a45a3d</td>\n",
       "      <td>assistant</td>\n",
       "      <td>action_response</td>\n",
       "      <td>2024-02-02 23:48:33.042977</td>\n",
       "      <td>{\"action_response\": {\"function\": \"multiply\", \"...</td>\n",
       "    </tr>\n",
       "  </tbody>\n",
       "</table>\n",
       "</div>"
      ],
      "text/plain": [
       "                            node_id       role           sender  \\\n",
       "2  48d4f75218f74f7a3a16c259e6be3bf1  assistant   action_request   \n",
       "3  960089cac08d9cf4635f8639db9b1ba6  assistant  action_response   \n",
       "4  868b9e265c6e5aa46b767efcc6a45a3d  assistant  action_response   \n",
       "\n",
       "                   timestamp  \\\n",
       "2 2024-02-02 23:48:33.040024   \n",
       "3 2024-02-02 23:48:33.041690   \n",
       "4 2024-02-02 23:48:33.042977   \n",
       "\n",
       "                                             content  \n",
       "2  {\"action_request\": [{\"recipient_name\": \"functions...  \n",
       "3  {\"action_response\": {\"function\": \"multiply\", \"...  \n",
       "4  {\"action_response\": {\"function\": \"multiply\", \"...  "
      ]
     },
     "execution_count": 9,
     "metadata": {},
     "output_type": "execute_result"
    }
   ],
   "source": [
    "# get_last_rows(sender=None, role=None, n=1)\n",
    "df = branch.get_last_rows(n=3)\n",
    "df"
   ]
  },
  {
   "cell_type": "markdown",
   "metadata": {},
   "source": [
    "### Edit"
   ]
  },
  {
   "cell_type": "code",
   "execution_count": null,
   "metadata": {},
   "outputs": [],
   "source": [
    "# change_first_system_message(system=None, sender=None)\n",
    "branch.change_first_system_message(system='Updated System')"
   ]
  },
  {
   "cell_type": "code",
   "execution_count": null,
   "metadata": {},
   "outputs": [],
   "source": [
    "# add_message(system=None, instruction=None, context=None, response=None, sender=None)\n",
    "# system, instruction, response: only choose one\n",
    "branch.add_message(instruction='a new instruction added')"
   ]
  },
  {
   "cell_type": "code",
   "execution_count": null,
   "metadata": {},
   "outputs": [],
   "source": [
    "# replace_keyword(keyword, replacement, case_sensitive=False)\n",
    "branch.replace_keyword('function', 'func')"
   ]
  },
  {
   "cell_type": "code",
   "execution_count": null,
   "metadata": {},
   "outputs": [],
   "source": [
    "# rollback(steps)\n",
    "branch.rollback(4)"
   ]
  },
  {
   "cell_type": "code",
   "execution_count": null,
   "metadata": {},
   "outputs": [],
   "source": [
    "# extend(messsages:pd.DataFrame)\n",
    "branch.extend(df)"
   ]
  }
 ],
 "metadata": {
  "kernelspec": {
   "display_name": ".venv",
   "language": "python",
   "name": "python3"
  },
  "language_info": {
   "codemirror_mode": {
    "name": "ipython",
    "version": 3
   },
   "file_extension": ".py",
   "mimetype": "text/x-python",
   "name": "python",
   "nbconvert_exporter": "python",
   "pygments_lexer": "ipython3",
   "version": "3.10.6"
  }
 },
 "nbformat": 4,
 "nbformat_minor": 2
}
