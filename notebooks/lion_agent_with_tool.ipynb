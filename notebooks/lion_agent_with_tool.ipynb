{
 "cells": [
  {
   "cell_type": "code",
   "execution_count": 1,
   "metadata": {},
   "outputs": [],
   "source": [
    "from lionagi.core import func_to_tool\n",
    "\n",
    "\n",
    "def multiply(number1: float, number2: float):\n",
    "    \"\"\"\n",
    "    Perform multiplication on two numbers.\n",
    "\n",
    "    Args:\n",
    "        number1: First number to multiply.\n",
    "        number2: Second number to multiply.\n",
    "\n",
    "    Returns:\n",
    "        The product of number1 and number2.\n",
    "\n",
    "    \"\"\"\n",
    "    return number1 * number2\n",
    "\n",
    "\n",
    "tool_m = func_to_tool(multiply)"
   ]
  },
  {
   "cell_type": "code",
   "execution_count": 2,
   "metadata": {},
   "outputs": [],
   "source": [
    "from lionagi.core import System, Instruction\n",
    "\n",
    "sys_mul = System(\n",
    "    system=\"you are asked to perform as a function picker and parameter provider\"\n",
    ")\n",
    "instruction = Instruction(\n",
    "    instruction=\"Think step by step, understand the following basic math question and provide parameters for function calling.\"\n",
    ")"
   ]
  },
  {
   "cell_type": "code",
   "execution_count": 3,
   "metadata": {},
   "outputs": [],
   "source": [
    "question1 = \"A school is ordering laptops for its students. If each classroom has 25 students and the school wants to provide a laptop for each student in its 8 classrooms, how many laptops in total does the school need to order?\"\n",
    "question2 = \"A bakery sells cupcakes in boxes of 6. If a customer wants to buy enough cupcakes for a party of 48 people, with each person getting one cupcake, how many boxes of cupcakes does the customer need to buy?\"\n",
    "\n",
    "context = {\"Question1\": question1, \"question2\": question2}"
   ]
  },
  {
   "cell_type": "markdown",
   "metadata": {},
   "source": [
    "# Create Graph-based Structure"
   ]
  },
  {
   "cell_type": "code",
   "execution_count": 4,
   "metadata": {},
   "outputs": [],
   "source": [
    "from lionagi.core import Structure\n",
    "\n",
    "struct_mul = Structure()\n",
    "struct_mul.add_node(sys_mul)\n",
    "struct_mul.add_node(instruction)\n",
    "struct_mul.add_node(tool_m[0])\n",
    "struct_mul.add_relationship(sys_mul, instruction)\n",
    "struct_mul.add_relationship(instruction, tool_m[0])"
   ]
  },
  {
   "cell_type": "code",
   "execution_count": 5,
   "metadata": {},
   "outputs": [],
   "source": [
    "# %pip install networkx"
   ]
  },
  {
   "cell_type": "code",
   "execution_count": 6,
   "metadata": {},
   "outputs": [
    {
     "data": {
      "image/png": "[encoded data removed]",
      "text/plain": [
       "<Figure size 640x480 with 1 Axes>"
      ]
     },
     "metadata": {},
     "output_type": "display_data"
    }
   ],
   "source": [
    "import networkx as nx\n",
    "\n",
    "g = struct_mul.graph.to_networkx()\n",
    "labels = nx.get_node_attributes(g, \"class_name\")\n",
    "nx.draw(g, labels=labels)"
   ]
  },
  {
   "cell_type": "code",
   "execution_count": 7,
   "metadata": {},
   "outputs": [],
   "source": [
    "from lionagi.core import ExecutableBranch, BaseAgent\n",
    "\n",
    "\n",
    "# output_parser_func parameter: agent self\n",
    "def multiply_output_parser(agent):\n",
    "    return agent.executable.responses\n",
    "\n",
    "\n",
    "executable = ExecutableBranch()\n",
    "\n",
    "calc = BaseAgent(\n",
    "    structure=struct_mul,\n",
    "    executable_obj=executable,\n",
    "    output_parser=multiply_output_parser,\n",
    ")"
   ]
  },
  {
   "cell_type": "code",
   "execution_count": 8,
   "metadata": {},
   "outputs": [
    {
     "name": "stdout",
     "output_type": "stream",
     "text": [
      "------------------Welcome: system--------------------\n"
     ]
    },
    {
     "data": {
      "text/markdown": [
       "system: you are asked to perform as a function picker and parameter provider"
      ],
      "text/plain": [
       "<IPython.core.display.Markdown object>"
      ]
     },
     "metadata": {},
     "output_type": "display_data"
    },
    {
     "data": {
      "text/markdown": [
       "user: Think step by step, understand the following basic math question and provide parameters for function calling."
      ],
      "text/plain": [
       "<IPython.core.display.Markdown object>"
      ]
     },
     "metadata": {},
     "output_type": "display_data"
    }
   ],
   "source": [
    "result = await calc.execute(context=context)"
   ]
  },
  {
   "cell_type": "code",
   "execution_count": 9,
   "metadata": {},
   "outputs": [
    {
     "data": {
      "text/html": [
       "<div>\n",
       "<style scoped>\n",
       "    .dataframe tbody tr th:only-of-type {\n",
       "        vertical-align: middle;\n",
       "    }\n",
       "\n",
       "    .dataframe tbody tr th {\n",
       "        vertical-align: top;\n",
       "    }\n",
       "\n",
       "    .dataframe thead th {\n",
       "        text-align: right;\n",
       "    }\n",
       "</style>\n",
       "<table border=\"1\" class=\"dataframe\">\n",
       "  <thead>\n",
       "    <tr style=\"text-align: right;\">\n",
       "      <th></th>\n",
       "      <th>node_id</th>\n",
       "      <th>timestamp</th>\n",
       "      <th>role</th>\n",
       "      <th>sender</th>\n",
       "      <th>recipient</th>\n",
       "      <th>content</th>\n",
       "    </tr>\n",
       "  </thead>\n",
       "  <tbody>\n",
       "    <tr>\n",
       "      <th>0</th>\n",
       "      <td>5ee0c2a39968e4bf833bdd4d5e2c9fe9</td>\n",
       "      <td>2024_03_22T15_02_20_994425+00_00</td>\n",
       "      <td>system</td>\n",
       "      <td>system</td>\n",
       "      <td>assistant</td>\n",
       "      <td>{\"system_info\": \"you are asked to perform as a...</td>\n",
       "    </tr>\n",
       "    <tr>\n",
       "      <th>1</th>\n",
       "      <td>995279f47cb8c9c700855990e55b1aca</td>\n",
       "      <td>2024_03_22T15_02_21_853626+00_00</td>\n",
       "      <td>user</td>\n",
       "      <td>user</td>\n",
       "      <td>assistant</td>\n",
       "      <td>{\"instruction\": \"Think step by step, understan...</td>\n",
       "    </tr>\n",
       "    <tr>\n",
       "      <th>2</th>\n",
       "      <td>427fcbc84b2efac2aae4f00b47b5748c</td>\n",
       "      <td>2024_03_22T15_02_36_529263+00_00</td>\n",
       "      <td>assistant</td>\n",
       "      <td>action_request</td>\n",
       "      <td>action</td>\n",
       "      <td>{\"action_request\": [{\"recipient_name\": \"functi...</td>\n",
       "    </tr>\n",
       "    <tr>\n",
       "      <th>3</th>\n",
       "      <td>2efba22cb518efa381bff5606920f2bd</td>\n",
       "      <td>2024_03_22T15_02_36_530615+00_00</td>\n",
       "      <td>assistant</td>\n",
       "      <td>action_response</td>\n",
       "      <td>assistant</td>\n",
       "      <td>{\"action_response\": {\"function\": \"multiply\", \"...</td>\n",
       "    </tr>\n",
       "    <tr>\n",
       "      <th>4</th>\n",
       "      <td>cfc61cb16444bb5fe6b88ce3162ca464</td>\n",
       "      <td>2024_03_22T15_02_36_531262+00_00</td>\n",
       "      <td>assistant</td>\n",
       "      <td>action_response</td>\n",
       "      <td>assistant</td>\n",
       "      <td>{\"action_response\": {\"function\": \"multiply\", \"...</td>\n",
       "    </tr>\n",
       "  </tbody>\n",
       "</table>\n",
       "</div>"
      ],
      "text/plain": [
       "                            node_id                         timestamp  \\\n",
       "0  5ee0c2a39968e4bf833bdd4d5e2c9fe9  2024_03_22T15_02_20_994425+00_00   \n",
       "1  995279f47cb8c9c700855990e55b1aca  2024_03_22T15_02_21_853626+00_00   \n",
       "2  427fcbc84b2efac2aae4f00b47b5748c  2024_03_22T15_02_36_529263+00_00   \n",
       "3  2efba22cb518efa381bff5606920f2bd  2024_03_22T15_02_36_530615+00_00   \n",
       "4  cfc61cb16444bb5fe6b88ce3162ca464  2024_03_22T15_02_36_531262+00_00   \n",
       "\n",
       "        role           sender  recipient  \\\n",
       "0     system           system  assistant   \n",
       "1       user             user  assistant   \n",
       "2  assistant   action_request     action   \n",
       "3  assistant  action_response  assistant   \n",
       "4  assistant  action_response  assistant   \n",
       "\n",
       "                                             content  \n",
       "0  {\"system_info\": \"you are asked to perform as a...  \n",
       "1  {\"instruction\": \"Think step by step, understan...  \n",
       "2  {\"action_request\": [{\"recipient_name\": \"functi...  \n",
       "3  {\"action_response\": {\"function\": \"multiply\", \"...  \n",
       "4  {\"action_response\": {\"function\": \"multiply\", \"...  "
      ]
     },
     "execution_count": 9,
     "metadata": {},
     "output_type": "execute_result"
    }
   ],
   "source": [
    "calc.executable.branch.messages"
   ]
  },
  {
   "cell_type": "code",
   "execution_count": 10,
   "metadata": {},
   "outputs": [
    {
     "name": "stdout",
     "output_type": "stream",
     "text": [
      "{\"system_info\": \"you are asked to perform as a function picker and parameter provider\"}\n",
      "{\"instruction\": \"Think step by step, understand the following basic math question and provide parameters for function calling.\", \"context\": {\"Question1\": \"A school is ordering laptops for its students. If each classroom has 25 students and the school wants to provide a laptop for each student in its 8 classrooms, how many laptops in total does the school need to order?\", \"question2\": \"A bakery sells cupcakes in boxes of 6. If a customer wants to buy enough cupcakes for a party of 48 people, with each person getting one cupcake, how many boxes of cupcakes does the customer need to buy?\"}}\n",
      "{\"action_request\": [{\"recipient_name\": \"functions.multiply\", \"parameters\": {\"number1\": 25, \"number2\": 8}}, {\"recipient_name\": \"functions.multiply\", \"parameters\": {\"number1\": 48, \"number2\": 1}}]}\n",
      "{\"action_response\": {\"function\": \"multiply\", \"arguments\": {\"number1\": 25, \"number2\": 8}, \"output\": 200}}\n",
      "{\"action_response\": {\"function\": \"multiply\", \"arguments\": {\"number1\": 48, \"number2\": 1}, \"output\": 48}}\n"
     ]
    }
   ],
   "source": [
    "for content in calc.executable.branch.messages[\"content\"]:\n",
    "    print(content)"
   ]
  }
 ],
 "metadata": {
  "kernelspec": {
   "display_name": ".venv",
   "language": "python",
   "name": "python3"
  },
  "language_info": {
   "codemirror_mode": {
    "name": "ipython",
    "version": 3
   },
   "file_extension": ".py",
   "mimetype": "text/x-python",
   "name": "python",
   "nbconvert_exporter": "python",
   "pygments_lexer": "ipython3",
   "version": "3.11.6"
  }
 },
 "nbformat": 4,
 "nbformat_minor": 2
}
