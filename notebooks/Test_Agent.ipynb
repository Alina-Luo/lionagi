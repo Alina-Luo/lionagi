{
 "cells": [
  {
   "cell_type": "code",
   "execution_count": 1,
   "metadata": {},
   "outputs": [],
   "source": [
    "import lionagi.libs.ln_func_call as func_call\n",
    "from lionagi.libs.ln_async import AsyncUtil\n",
    "from lionagi.core.messages.schema import Instruction, System\n",
    "from lionagi.core.schema.structure import Structure\n",
    "\n",
    "from lionagi import Branch\n",
    "from lionagi.core.mail.schema import BaseMail\n",
    "from lionagi.core.schema.base_node import BaseRelatableNode\n",
    "from collections import deque\n",
    "from typing import Any\n",
    "\n",
    "from lionagi.core.Agent.Agent import Agent"
   ]
  },
  {
   "cell_type": "markdown",
   "metadata": {},
   "source": [
    "# Executable class implementation"
   ]
  },
  {
   "cell_type": "code",
   "execution_count": 2,
   "metadata": {},
   "outputs": [],
   "source": [
    "class Executable_Branch(BaseRelatableNode):\n",
    "\n",
    "    def __init__(self):\n",
    "        super().__init__()\n",
    "        self.branch: Branch = Branch()\n",
    "        self.pending_ins = {}  ###\n",
    "        self.pending_outs = deque()  ###\n",
    "        self.responses = []\n",
    "        self.execute_stop = False  ###\n",
    "        self.context = None  ###\n",
    "\n",
    "    def system_process(self, system: System):\n",
    "        self.branch.add_message(system=system)\n",
    "\n",
    "    async def instruction_process(self, instruction: Instruction):\n",
    "        if self.context:\n",
    "            instruction.content.update({\"context\": self.context})\n",
    "            self.context = None\n",
    "        result = await self.branch.chat(instruction)\n",
    "        print(\"instruction call:\", result)\n",
    "        self.responses.append(result)\n",
    "\n",
    "    async def agent_process(self, agent):\n",
    "        context = self.responses\n",
    "        result = await agent.execute(context)\n",
    "        print(\"agent call:\", result)\n",
    "        self.responses.append(result)\n",
    "\n",
    "    def send(self, recipient_id: str, category: str, package: Any) -> None:\n",
    "        mail = BaseMail(\n",
    "            sender_id=self.id_,\n",
    "            recipient_id=recipient_id,\n",
    "            category=category,\n",
    "            package=package,\n",
    "        )\n",
    "        self.pending_outs.append(mail)\n",
    "\n",
    "    async def process(self):\n",
    "        for key in list(self.pending_ins.keys()):\n",
    "            while self.pending_ins[key]:\n",
    "                mail = self.pending_ins[key].popleft()\n",
    "                if mail.category == \"start\":  ###\n",
    "                    start_mail_content = mail.package  ###\n",
    "                    self.context = start_mail_content[\"context\"]  ###\n",
    "                    self.send(start_mail_content[\"structure_id\"], \"start\", \"start\")  ###\n",
    "                if mail.category == \"node\":\n",
    "                    if isinstance(mail.package, System):\n",
    "                        self.system_process(mail.package)\n",
    "                        self.send(mail.sender_id, \"node_id\", mail.package.id_)\n",
    "                    elif isinstance(mail.package, Instruction):\n",
    "                        await self.instruction_process(mail.package)\n",
    "                        self.send(mail.sender_id, \"node_id\", mail.package.id_)\n",
    "                    elif isinstance(mail.package, Agent):\n",
    "                        await self.agent_process(mail.package)\n",
    "                        self.send(mail.sender_id, \"node_id\", mail.package.id_)\n",
    "                elif mail.category == \"end\":  ###\n",
    "                    self.execute_stop = True\n",
    "                    self.send(mail.sender_id, \"end\", \"end\")\n",
    "\n",
    "    async def execute(self, refresh_time=1):  ###\n",
    "        while not self.execute_stop:\n",
    "            await self.process()\n",
    "            await AsyncUtil.sleep(refresh_time)"
   ]
  },
  {
   "cell_type": "markdown",
   "metadata": {},
   "source": [
    "# Create Structure"
   ]
  },
  {
   "cell_type": "code",
   "execution_count": 3,
   "metadata": {},
   "outputs": [],
   "source": [
    "sys_comedian = System(system=\"As a comedian, you are sarcastically funny\")\n",
    "instruct1 = Instruction(\n",
    "    instruction=\"very short joke: a blue whale and a big shark meet at the bar and start dancing\"\n",
    ")\n",
    "instruct2 = Instruction(instruction=\"continue the joke: and then they stopped\")"
   ]
  },
  {
   "cell_type": "code",
   "execution_count": 4,
   "metadata": {},
   "outputs": [],
   "source": [
    "struct_comedian = Structure()\n",
    "struct_comedian.add_node(sys_comedian)\n",
    "struct_comedian.add_node(instruct1)\n",
    "struct_comedian.add_node(instruct2)\n",
    "struct_comedian.add_relationship(sys_comedian, instruct1)\n",
    "struct_comedian.add_relationship(instruct1, instruct2)"
   ]
  },
  {
   "cell_type": "code",
   "execution_count": 5,
   "metadata": {},
   "outputs": [],
   "source": [
    "sys_critic = System(\n",
    "    system=\"you are a respected commentator, you are artistically logical\"\n",
    ")\n",
    "instruct3 = Instruction(\n",
    "    instruction=\"short comments, what do you think about the first joke?\"\n",
    ")\n",
    "instruct4 = Instruction(\n",
    "    instruction=\"provide a concise artistic critique on both jokes, and rate from 1-10\"\n",
    ")"
   ]
  },
  {
   "cell_type": "code",
   "execution_count": 6,
   "metadata": {},
   "outputs": [],
   "source": [
    "struct_critic = Structure()\n",
    "struct_critic.add_node(sys_critic)\n",
    "struct_critic.add_node(instruct3)\n",
    "struct_critic.add_node(instruct4)\n",
    "struct_critic.add_relationship(sys_critic, instruct3)\n",
    "struct_critic.add_relationship(instruct3, instruct4)"
   ]
  },
  {
   "cell_type": "code",
   "execution_count": 7,
   "metadata": {},
   "outputs": [],
   "source": [
    "## output_parser_func parameter: agent self\n",
    "\n",
    "\n",
    "def critic_output_parser(agent):\n",
    "    return agent.executable.responses"
   ]
  },
  {
   "cell_type": "code",
   "execution_count": 8,
   "metadata": {},
   "outputs": [],
   "source": [
    "critic = Agent(\n",
    "    structure=struct_critic,\n",
    "    executable_class=Executable_Branch,\n",
    "    output_parser=critic_output_parser,\n",
    ")"
   ]
  },
  {
   "cell_type": "code",
   "execution_count": 9,
   "metadata": {},
   "outputs": [],
   "source": [
    "struct_comedian.add_node(critic)\n",
    "struct_comedian.add_relationship(instruct2, critic)"
   ]
  },
  {
   "cell_type": "code",
   "execution_count": 10,
   "metadata": {},
   "outputs": [],
   "source": [
    "instruct5 = Instruction(\n",
    "    instruction=\"your jokes were evaluated by a critic, does it make sense to you? why?\"\n",
    ")\n",
    "instruct6 = Instruction(instruction=\"basing on your reflection, write joke1 again\")\n",
    "instruct7 = Instruction(instruction=\"write joke2 again\")"
   ]
  },
  {
   "cell_type": "code",
   "execution_count": 11,
   "metadata": {},
   "outputs": [],
   "source": [
    "struct_comedian.add_node(instruct5)\n",
    "struct_comedian.add_node(instruct6)\n",
    "struct_comedian.add_node(instruct7)\n",
    "struct_comedian.add_relationship(critic, instruct5)\n",
    "struct_comedian.add_relationship(instruct5, instruct6)\n",
    "struct_comedian.add_relationship(instruct6, instruct7)"
   ]
  },
  {
   "cell_type": "code",
   "execution_count": 12,
   "metadata": {},
   "outputs": [],
   "source": [
    "## output_parser_func parameter: agent self\n",
    "\n",
    "\n",
    "def comedian_output_parse(agent):\n",
    "    return agent.executable.responses"
   ]
  },
  {
   "cell_type": "code",
   "execution_count": 13,
   "metadata": {},
   "outputs": [],
   "source": [
    "comedian = Agent(\n",
    "    structure=struct_comedian,\n",
    "    executable_class=Executable_Branch,\n",
    "    output_parser=comedian_output_parse,\n",
    ")"
   ]
  },
  {
   "cell_type": "markdown",
   "metadata": {},
   "source": [
    "# Execute"
   ]
  },
  {
   "cell_type": "code",
   "execution_count": 14,
   "metadata": {},
   "outputs": [
    {
     "name": "stdout",
     "output_type": "stream",
     "text": [
      "instruction call: Why did the blue whale and the big shark start dancing at the bar? Because they heard it was a fin-tastic place to have a whale of a time!\n",
      "instruction call: And then they stopped dancing. Why? Because they realized the bar didn't serve fish and chips. Talk about a party pooper, huh?\n",
      "instruction call: The first joke charmingly blends oceanic wordplay and a dash of whimsy to create a delightful punchline. It cleverly plays on the expectations of its audience with a light-hearted twist.\n",
      "instruction call: Both jokes exhibit a playful use of language, intertwining aquatic themes with humor. The first joke shines with its pun-laden setup, leading to a whimsically amusing punchline that encapsulates a 'fin-tastic' sense of joy, meriting a 7/10 for its clever wordplay and light-hearted appeal. The second joke, while maintaining the aquatic theme, pivots towards an anticlimactic realization, using the absence of fish and chips as a humorous letdown. It cleverly builds on the setup of the first joke but falls slightly short in punchline impact, earning a 6/10. Together, they create an amusing narrative with a consistent thematic focus, though the second joke's reliance on the first for context slightly diminishes its standalone strength.\n",
      "agent call: ['The first joke charmingly blends oceanic wordplay and a dash of whimsy to create a delightful punchline. It cleverly plays on the expectations of its audience with a light-hearted twist.', \"Both jokes exhibit a playful use of language, intertwining aquatic themes with humor. The first joke shines with its pun-laden setup, leading to a whimsically amusing punchline that encapsulates a 'fin-tastic' sense of joy, meriting a 7/10 for its clever wordplay and light-hearted appeal. The second joke, while maintaining the aquatic theme, pivots towards an anticlimactic realization, using the absence of fish and chips as a humorous letdown. It cleverly builds on the setup of the first joke but falls slightly short in punchline impact, earning a 6/10. Together, they create an amusing narrative with a consistent thematic focus, though the second joke's reliance on the first for context slightly diminishes its standalone strength.\"]\n",
      "instruction call: Oh, my jokes were evaluated by a critic? Makes perfect sense! After all, who wouldn't want to weigh in on the comedic gold of dancing marine life? I mean, if you can't appreciate a good tale of a blue whale and a big shark cutting a rug at the bar, then maybe you're the one who's a little fishy. Critics, they dive deep into the ocean of humor to find the pearls... or in this case, maybe just a couple of clams.\n",
      "instruction call: Why did the blue whale and the big shark hit the dance floor at the bar? Because they wanted to shake their tail fins and show the world that even the biggest creatures in the sea know how to krill it on the dance floor!\n",
      "instruction call: And then they suddenly stopped. Why? Because the DJ announced it was last call for seaweed wraps instead of cocktails. Nothing kills the vibe like realizing you're at a health bar in the middle of the ocean!\n"
     ]
    }
   ],
   "source": [
    "result = await comedian.execute()"
   ]
  }
 ],
 "metadata": {
  "kernelspec": {
   "display_name": ".venv",
   "language": "python",
   "name": "python3"
  },
  "language_info": {
   "codemirror_mode": {
    "name": "ipython",
    "version": 3
   },
   "file_extension": ".py",
   "mimetype": "text/x-python",
   "name": "python",
   "nbconvert_exporter": "python",
   "pygments_lexer": "ipython3",
   "version": "3.10.6"
  }
 },
 "nbformat": 4,
 "nbformat_minor": 2
}
