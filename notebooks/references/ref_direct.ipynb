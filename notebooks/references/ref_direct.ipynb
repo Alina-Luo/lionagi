{
 "cells": [
  {
   "cell_type": "code",
   "execution_count": 1,
   "metadata": {},
   "outputs": [],
   "source": [
    "from IPython.display import Markdown\n",
    "import lionagi as li"
   ]
  },
  {
   "cell_type": "code",
   "execution_count": 2,
   "metadata": {},
   "outputs": [],
   "source": [
    "context = \"a blue whale is chasing a big white shark\""
   ]
  },
  {
   "cell_type": "code",
   "execution_count": 3,
   "metadata": {},
   "outputs": [],
   "source": [
    "def nice_print(form):\n",
    "    for k, v in form.work_fields.items():\n",
    "        display(Markdown(f\"{k}: \\n{v}\\n\"))"
   ]
  },
  {
   "cell_type": "markdown",
   "metadata": {},
   "source": [
    "### `Branch.chat`"
   ]
  },
  {
   "cell_type": "code",
   "execution_count": 4,
   "metadata": {},
   "outputs": [],
   "source": [
    "branch = li.Branch()"
   ]
  },
  {
   "cell_type": "code",
   "execution_count": 5,
   "metadata": {},
   "outputs": [
    {
     "data": {
      "text/markdown": [
       "Let's analyze the situation step by step:\n",
       "\n",
       "1. **Species Characteristics**:\n",
       "   - **Blue Whale**: Blue whales are the largest animals on Earth. They are generally gentle giants and feed primarily on small organisms like krill. They are not known for aggressive behavior or predation on large animals.\n",
       "   - **Great White Shark**: Great white sharks are apex predators known for their hunting skills. They are much smaller than blue whales but are powerful and can be aggressive.\n",
       "\n",
       "2. **Behavioral Context**:\n",
       "   - It is unusual for a blue whale to chase a great white shark. This behavior is not typical of blue whales, which are not predators of large marine animals.\n",
       "\n",
       "3. **Possible Reasons for the Chase**:\n",
       "   - **Curiosity**: The blue whale might be curious and investigating the shark.\n",
       "   - **Territorial Dispute**: Although rare, the blue whale might feel threatened or be protecting its territory or young.\n",
       "   - **Mistaken Identity**: The blue whale might have mistaken the shark for something else.\n",
       "\n",
       "4. **Potential Risks**:\n",
       "   - The great white shark could become defensive and attack the blue whale, although the size difference might deter the shark.\n",
       "   - Prolonged chasing could cause unnecessary stress and energy expenditure for both animals.\n",
       "\n",
       "5. **Recommended Actions**:\n",
       "   - **For the Blue Whale**: It should cease the chase to avoid potential conflict and conserve energy. Blue whales thrive on a diet of krill and small fish, and engaging with a great white shark is outside their natural behavior and diet.\n",
       "   - **For Marine Observers**: If this behavior is observed, it might be worth documenting as it is unusual. Marine biologists could gain insights into interspecies interactions.\n",
       "\n",
       "In conclusion, the blue whale should stop chasing the great white shark to avoid unnecessary conflict and stress. This action aligns with the natural behavior and dietary needs of the blue whale."
      ],
      "text/plain": [
       "<IPython.core.display.Markdown object>"
      ]
     },
     "execution_count": 5,
     "metadata": {},
     "output_type": "execute_result"
    }
   ],
   "source": [
    "out_ = await branch.chat(\n",
    "    instruction = \"analyze the situation, what should the whale do?\",\n",
    "    context = context\n",
    ")\n",
    "\n",
    "Markdown(out_)"
   ]
  },
  {
   "cell_type": "markdown",
   "metadata": {},
   "source": [
    "### `Branch.direct`"
   ]
  },
  {
   "cell_type": "code",
   "execution_count": 6,
   "metadata": {},
   "outputs": [
    {
     "name": "stdout",
     "output_type": "stream",
     "text": [
      "An error occurred: Response is a string, but form has multiple fields to be filled\n",
      "Attempt 1/3 failed: Response is a string, but form has multiple fields to be filled, retrying...\n"
     ]
    }
   ],
   "source": [
    "out_ = await branch.direct(\n",
    "    instruction = \"analyze the situation, what should the whale do? write a poeticly absurd story\",\n",
    "    context=context, \n",
    "    clear_messages=True, \n",
    "    plan=True,\n",
    "    score=True,\n",
    "    select=True,\n",
    "    allow_extension=True,\n",
    "    select_choices=[\"run\", \"chase\", \"fight\", \"hide\", \"call for help\", \"stop\", \"dive\", \"swim\"]\n",
    ")"
   ]
  },
  {
   "cell_type": "code",
   "execution_count": 7,
   "metadata": {},
   "outputs": [
    {
     "data": {
      "text/markdown": [
       "task: \n",
       "Follow the prompt and provide the necessary output.\n",
       "- Additional instruction: analyze the situation, what should the whale do? write a poeticly absurd story\n",
       "- Additional context: a blue whale is chasing a big white shark\n",
       "- Generate a 3-step plan based on the context.\n",
       "- Allow auto-extension for another 3 rounds.\n",
       "- Perform scoring according to score range: [0, 10] and precision: integer.\n",
       "- Select 1 item from the provided choices: ['run', 'chase', 'fight', 'hide', 'call for help', 'stop', 'dive', 'swim'].\n",
       "\n"
      ],
      "text/plain": [
       "<IPython.core.display.Markdown object>"
      ]
     },
     "metadata": {},
     "output_type": "display_data"
    },
    {
     "data": {
      "text/markdown": [
       "answer: \n",
       "PLEASE_EXTEND\n"
      ],
      "text/plain": [
       "<IPython.core.display.Markdown object>"
      ]
     },
     "metadata": {},
     "output_type": "display_data"
    },
    {
     "data": {
      "text/markdown": [
       "extension_required: \n",
       "True\n"
      ],
      "text/plain": [
       "<IPython.core.display.Markdown object>"
      ]
     },
     "metadata": {},
     "output_type": "display_data"
    },
    {
     "data": {
      "text/markdown": [
       "plan: \n",
       "{'step_1': {'plan': 'The blue whale should continue its chase, but with a twist. It should start singing a hauntingly beautiful song to confuse the big white shark.', 'reason': 'The song will create an air of mystery and bewilderment, making the shark question its own motives and actions.'}, 'step_2': {'plan': 'As the shark gets confused, the whale should dive deep into the ocean, creating a whirlpool with its massive tail.', 'reason': 'The whirlpool will disorient the shark further and give the whale an advantage in the chase.'}, 'step_3': {'plan': 'Finally, the whale should swim in a spiral pattern around the shark, creating a mesmerizing dance of bubbles and light.', 'reason': 'This poetic and absurd dance will leave the shark in awe, making it forget the chase and instead ponder the beauty of the ocean.'}}\n"
      ],
      "text/plain": [
       "<IPython.core.display.Markdown object>"
      ]
     },
     "metadata": {},
     "output_type": "display_data"
    },
    {
     "data": {
      "text/markdown": [
       "score: \n",
       "8\n"
      ],
      "text/plain": [
       "<IPython.core.display.Markdown object>"
      ]
     },
     "metadata": {},
     "output_type": "display_data"
    },
    {
     "data": {
      "text/markdown": [
       "selection: \n",
       "chase\n"
      ],
      "text/plain": [
       "<IPython.core.display.Markdown object>"
      ]
     },
     "metadata": {},
     "output_type": "display_data"
    },
    {
     "name": "stdout",
     "output_type": "stream",
     "text": [
      "----\n"
     ]
    },
    {
     "data": {
      "text/markdown": [
       "task: \n",
       "Follow the prompt and provide the necessary output.\n",
       "- Additional instruction: {\"plan\": \"The blue whale should continue its chase, but with a twist. It should start singing a hauntingly beautiful song to confuse the big white shark.\", \"reason\": \"The song will create an air of mystery and bewilderment, making the shark question its own motives and actions.\"}\n",
       "- Additional context: N/A\n",
       "- Allow auto-extension for another 2 rounds.\n",
       "- Perform scoring according to score range: [0, 10] and precision: integer.\n",
       "- Select 1 item from the provided choices: ['run', 'chase', 'fight', 'hide', 'call for help', 'stop', 'dive', 'swim'].\n",
       "\n"
      ],
      "text/plain": [
       "<IPython.core.display.Markdown object>"
      ]
     },
     "metadata": {},
     "output_type": "display_data"
    },
    {
     "data": {
      "text/markdown": [
       "answer: \n",
       "The blue whale continues its chase but starts singing a hauntingly beautiful song. The melody creates an air of mystery and bewilderment, causing the big white shark to question its own motives and actions.\n"
      ],
      "text/plain": [
       "<IPython.core.display.Markdown object>"
      ]
     },
     "metadata": {},
     "output_type": "display_data"
    },
    {
     "data": {
      "text/markdown": [
       "extension_required: \n",
       "False\n"
      ],
      "text/plain": [
       "<IPython.core.display.Markdown object>"
      ]
     },
     "metadata": {},
     "output_type": "display_data"
    },
    {
     "data": {
      "text/markdown": [
       "score: \n",
       "9\n"
      ],
      "text/plain": [
       "<IPython.core.display.Markdown object>"
      ]
     },
     "metadata": {},
     "output_type": "display_data"
    },
    {
     "data": {
      "text/markdown": [
       "selection: \n",
       "chase\n"
      ],
      "text/plain": [
       "<IPython.core.display.Markdown object>"
      ]
     },
     "metadata": {},
     "output_type": "display_data"
    },
    {
     "name": "stdout",
     "output_type": "stream",
     "text": [
      "----\n"
     ]
    }
   ],
   "source": [
    "forms = [out_]\n",
    "forms.extend(out_.extension_forms)\n",
    "\n",
    "for i in forms:\n",
    "    nice_print(i)\n",
    "    print(\"----\")"
   ]
  },
  {
   "cell_type": "code",
   "execution_count": null,
   "metadata": {},
   "outputs": [],
   "source": []
  }
 ],
 "metadata": {
  "kernelspec": {
   "display_name": ".venv",
   "language": "python",
   "name": "python3"
  },
  "language_info": {
   "codemirror_mode": {
    "name": "ipython",
    "version": 3
   },
   "file_extension": ".py",
   "mimetype": "text/x-python",
   "name": "python",
   "nbconvert_exporter": "python",
   "pygments_lexer": "ipython3",
   "version": "3.11.6"
  }
 },
 "nbformat": 4,
 "nbformat_minor": 2
}
