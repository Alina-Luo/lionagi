{
 "cells": [
  {
   "cell_type": "code",
   "execution_count": 1,
   "metadata": {},
   "outputs": [],
   "source": [
    "from IPython.display import Markdown\n",
    "import lionagi as li"
   ]
  },
  {
   "cell_type": "code",
   "execution_count": 2,
   "metadata": {},
   "outputs": [],
   "source": [
    "context = \"a blue whale is chasing a big white shark\""
   ]
  },
  {
   "cell_type": "code",
   "execution_count": 3,
   "metadata": {},
   "outputs": [],
   "source": [
    "def nice_print(form):\n",
    "    for k, v in form.work_fields.items():\n",
    "        display(Markdown(f\"{k}: \\n{v}\\n\"))"
   ]
  },
  {
   "cell_type": "markdown",
   "metadata": {},
   "source": [
    "### `Branch.chat`"
   ]
  },
  {
   "cell_type": "code",
   "execution_count": 4,
   "metadata": {},
   "outputs": [],
   "source": [
    "branch = li.Branch()"
   ]
  },
  {
   "cell_type": "code",
   "execution_count": 5,
   "metadata": {},
   "outputs": [
    {
     "data": {
      "text/markdown": [
       "To analyze the situation where a blue whale is chasing a big white shark, let's consider several factors:\n",
       "\n",
       "1. **Behavioral Context**: \n",
       "   - Blue whales are generally filter feeders and consume krill and small fish. They are not known to chase or hunt sharks.\n",
       "   - White sharks are apex predators and typically do not have natural predators, especially not from baleen whales like the blue whale.\n",
       "\n",
       "2. **Possible Reasons for the Chase**:\n",
       "   - **Curiosity**: The blue whale might be curious about the shark.\n",
       "   - **Territorial Behavior**: Although rare, the whale might be displaying some form of territorial behavior.\n",
       "   - **Misdirected Behavior**: The whale could be confused or disoriented, leading to unusual behavior.\n",
       "\n",
       "3. **Safety and Energy Considerations**:\n",
       "   - **Energy Expenditure**: Chasing a shark could be energetically costly for the blue whale, which typically conserves energy for long migrations and feeding.\n",
       "   - **Risk of Injury**: Engaging with a shark could pose a risk of injury to the whale, even if the whale is significantly larger.\n",
       "\n",
       "4. **Ecological Impact**:\n",
       "   - Such interactions are uncommon and could indicate unusual environmental conditions or stressors affecting marine life behavior.\n",
       "\n",
       "Given these points, the blue whale should ideally:\n",
       "\n",
       "- **Stop the Chase**: To conserve energy and avoid unnecessary risks.\n",
       "- **Return to Normal Behavior**: Focus on feeding and migration, which are critical for its survival.\n",
       "- **Monitor the Environment**: If the behavior is due to environmental stressors, it may be beneficial for marine biologists to investigate further.\n",
       "\n",
       "In conclusion, the blue whale should stop chasing the shark and resume its typical feeding and migratory activities to ensure its well-being and energy conservation."
      ],
      "text/plain": [
       "<IPython.core.display.Markdown object>"
      ]
     },
     "execution_count": 5,
     "metadata": {},
     "output_type": "execute_result"
    }
   ],
   "source": [
    "out_ = await branch.chat(\n",
    "    instruction = \"analyze the situation, what should the whale do?\",\n",
    "    context = context\n",
    ")\n",
    "\n",
    "Markdown(out_)"
   ]
  },
  {
   "cell_type": "markdown",
   "metadata": {},
   "source": [
    "### `Branch.direct`"
   ]
  },
  {
   "cell_type": "code",
   "execution_count": 6,
   "metadata": {},
   "outputs": [
    {
     "name": "stdout",
     "output_type": "stream",
     "text": [
      "An error occurred: Response is a string, but form has multiple fields to be filled\n",
      "Attempt 1/3 failed: Response is a string, but form has multiple fields to be filled, retrying...\n",
      "An error occurred: Response is a string, but form has multiple fields to be filled\n",
      "Attempt 2/3 failed: Response is a string, but form has multiple fields to be filled, retrying...\n"
     ]
    }
   ],
   "source": [
    "out_ = await branch.direct(\n",
    "    instruction = \"analyze the situation, what should the whale do? write a poeticly absurd story\",\n",
    "    context=context, \n",
    "    clear_messages=True, \n",
    "    plan=True,\n",
    "    score=True,\n",
    "    select=True,\n",
    "    allow_extension=True,\n",
    "    select_choices=[\"run\", \"chase\", \"fight\", \"hide\", \"call for help\", \"stop\", \"dive\", \"swim\"]\n",
    ")"
   ]
  },
  {
   "cell_type": "code",
   "execution_count": 7,
   "metadata": {},
   "outputs": [
    {
     "data": {
      "text/markdown": [
       "task: \n",
       "Follow the prompt and provide the necessary output.\n",
       "- Additional instruction: analyze the situation, what should the whale do? write a poeticly absurd story\n",
       "- Additional context: a blue whale is chasing a big white shark\n",
       "- Generate a 3-step plan based on the context.\n",
       "- Allow auto-extension for another 3 rounds.\n",
       "- Perform scoring according to score range: [0, 10] and precision: integer.\n",
       "- Select 1 item from the provided choices: ['run', 'chase', 'fight', 'hide', 'call for help', 'stop', 'dive', 'swim'].\n",
       "\n"
      ],
      "text/plain": [
       "<IPython.core.display.Markdown object>"
      ]
     },
     "metadata": {},
     "output_type": "display_data"
    },
    {
     "data": {
      "text/markdown": [
       "answer: \n",
       "PLEASE_EXTEND\n"
      ],
      "text/plain": [
       "<IPython.core.display.Markdown object>"
      ]
     },
     "metadata": {},
     "output_type": "display_data"
    },
    {
     "data": {
      "text/markdown": [
       "extension_required: \n",
       "True\n"
      ],
      "text/plain": [
       "<IPython.core.display.Markdown object>"
      ]
     },
     "metadata": {},
     "output_type": "display_data"
    },
    {
     "data": {
      "text/markdown": [
       "plan: \n",
       "{'step_1': {'plan': 'The blue whale should reflect on the vastness of the ocean and the absurdity of its chase.', 'reason': 'This will set the stage for a poetic and absurd narrative.'}, 'step_2': {'plan': 'The blue whale should then engage in an unexpected activity, such as singing a melancholic song to the moon.', 'reason': 'This adds a layer of poetic absurdity to the story.'}, 'step_3': {'plan': 'Finally, the blue whale should decide on a course of action, such as stopping the chase and pondering the meaning of its pursuit.', 'reason': 'This concludes the story with a reflective and poetic note.'}}\n"
      ],
      "text/plain": [
       "<IPython.core.display.Markdown object>"
      ]
     },
     "metadata": {},
     "output_type": "display_data"
    },
    {
     "data": {
      "text/markdown": [
       "score: \n",
       "8\n"
      ],
      "text/plain": [
       "<IPython.core.display.Markdown object>"
      ]
     },
     "metadata": {},
     "output_type": "display_data"
    },
    {
     "data": {
      "text/markdown": [
       "selection: \n",
       "stop\n"
      ],
      "text/plain": [
       "<IPython.core.display.Markdown object>"
      ]
     },
     "metadata": {},
     "output_type": "display_data"
    },
    {
     "name": "stdout",
     "output_type": "stream",
     "text": [
      "----\n"
     ]
    },
    {
     "data": {
      "text/markdown": [
       "task: \n",
       "Follow the prompt and provide the necessary output.\n",
       "- Additional instruction: {\"plan\": \"The blue whale should reflect on the vastness of the ocean and the absurdity of its chase.\", \"reason\": \"This will set the stage for a poetic and absurd narrative.\"}\n",
       "- Additional context: N/A\n",
       "- Allow auto-extension for another 2 rounds.\n",
       "- Perform scoring according to score range: [0, 10] and precision: integer.\n",
       "- Select 1 item from the provided choices: ['run', 'chase', 'fight', 'hide', 'call for help', 'stop', 'dive', 'swim'].\n",
       "\n"
      ],
      "text/plain": [
       "<IPython.core.display.Markdown object>"
      ]
     },
     "metadata": {},
     "output_type": "display_data"
    },
    {
     "data": {
      "text/markdown": [
       "answer: \n",
       "The blue whale, amidst the vastness of the ocean, ponders the absurdity of its chase. It realizes that in such an expansive and boundless environment, the pursuit seems almost trivial and nonsensical. The whale decides to stop and reflect on the beauty and enormity of its surroundings, embracing the poetic absurdity of its existence.\n"
      ],
      "text/plain": [
       "<IPython.core.display.Markdown object>"
      ]
     },
     "metadata": {},
     "output_type": "display_data"
    },
    {
     "data": {
      "text/markdown": [
       "extension_required: \n",
       "False\n"
      ],
      "text/plain": [
       "<IPython.core.display.Markdown object>"
      ]
     },
     "metadata": {},
     "output_type": "display_data"
    },
    {
     "data": {
      "text/markdown": [
       "score: \n",
       "9\n"
      ],
      "text/plain": [
       "<IPython.core.display.Markdown object>"
      ]
     },
     "metadata": {},
     "output_type": "display_data"
    },
    {
     "data": {
      "text/markdown": [
       "selection: \n",
       "stop\n"
      ],
      "text/plain": [
       "<IPython.core.display.Markdown object>"
      ]
     },
     "metadata": {},
     "output_type": "display_data"
    },
    {
     "name": "stdout",
     "output_type": "stream",
     "text": [
      "----\n"
     ]
    }
   ],
   "source": [
    "forms = [out_]\n",
    "forms.extend(out_.extension_forms)\n",
    "\n",
    "for i in forms:\n",
    "    nice_print(i)\n",
    "    print(\"----\")"
   ]
  },
  {
   "cell_type": "code",
   "execution_count": null,
   "metadata": {},
   "outputs": [],
   "source": []
  }
 ],
 "metadata": {
  "kernelspec": {
   "display_name": ".venv",
   "language": "python",
   "name": "python3"
  },
  "language_info": {
   "codemirror_mode": {
    "name": "ipython",
    "version": 3
   },
   "file_extension": ".py",
   "mimetype": "text/x-python",
   "name": "python",
   "nbconvert_exporter": "python",
   "pygments_lexer": "ipython3",
   "version": "3.11.6"
  }
 },
 "nbformat": 4,
 "nbformat_minor": 2
}
