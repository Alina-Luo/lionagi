{
 "cells": [
  {
   "cell_type": "code",
   "execution_count": 2,
   "metadata": {},
   "outputs": [],
   "source": [
    "from IPython.display import Markdown\n",
    "import lionagi as li"
   ]
  },
  {
   "cell_type": "code",
   "execution_count": 3,
   "metadata": {},
   "outputs": [],
   "source": [
    "context = \"a blue whale is chasing a big white shark\""
   ]
  },
  {
   "cell_type": "code",
   "execution_count": 4,
   "metadata": {},
   "outputs": [],
   "source": [
    "def nice_print(form):\n",
    "    for k, v in form.work_fields.items():\n",
    "        display(Markdown(f\"{k}: \\n{v}\\n\"))"
   ]
  },
  {
   "cell_type": "markdown",
   "metadata": {},
   "source": [
    "### `Branch.chat`"
   ]
  },
  {
   "cell_type": "code",
   "execution_count": 5,
   "metadata": {},
   "outputs": [],
   "source": [
    "branch = li.Branch()"
   ]
  },
  {
   "cell_type": "code",
   "execution_count": 6,
   "metadata": {},
   "outputs": [],
   "source": [
    "# out_ = await branch.chat(\n",
    "#     instruction=\"analyze the situation, what should the whale do?\", context=context\n",
    "# )\n",
    "\n",
    "# Markdown(out_)"
   ]
  },
  {
   "cell_type": "markdown",
   "metadata": {},
   "source": [
    "### `Branch.direct`"
   ]
  },
  {
   "cell_type": "code",
   "execution_count": 7,
   "metadata": {},
   "outputs": [
    {
     "data": {
      "text/html": [
       "<div>\n",
       "<style scoped>\n",
       "    .dataframe tbody tr th:only-of-type {\n",
       "        vertical-align: middle;\n",
       "    }\n",
       "\n",
       "    .dataframe tbody tr th {\n",
       "        vertical-align: top;\n",
       "    }\n",
       "\n",
       "    .dataframe thead th {\n",
       "        text-align: right;\n",
       "    }\n",
       "</style>\n",
       "<table border=\"1\" class=\"dataframe\">\n",
       "  <thead>\n",
       "    <tr style=\"text-align: right;\">\n",
       "      <th></th>\n",
       "      <th>ln_id</th>\n",
       "      <th>message_type</th>\n",
       "      <th>timestamp</th>\n",
       "      <th>role</th>\n",
       "      <th>content</th>\n",
       "      <th>metadata</th>\n",
       "      <th>sender</th>\n",
       "      <th>recipient</th>\n",
       "    </tr>\n",
       "  </thead>\n",
       "  <tbody>\n",
       "    <tr>\n",
       "      <th>0</th>\n",
       "      <td>450c46424e120a5834d69eb8f522ceb4</td>\n",
       "      <td>System</td>\n",
       "      <td>2024-05-28T22:19:42.754397</td>\n",
       "      <td>system</td>\n",
       "      <td>{'system_info': 'You are a helpful assistant.'}</td>\n",
       "      <td>{'last_updated': {'recipient': '2024-05-28T22:...</td>\n",
       "      <td>system</td>\n",
       "      <td>4533907e4a5469914e4bbe46f7d4d4ad</td>\n",
       "    </tr>\n",
       "  </tbody>\n",
       "</table>\n",
       "</div>"
      ],
      "text/plain": [
       "                              ln_id message_type                   timestamp  \\\n",
       "0  450c46424e120a5834d69eb8f522ceb4       System  2024-05-28T22:19:42.754397   \n",
       "\n",
       "     role                                          content  \\\n",
       "0  system  {'system_info': 'You are a helpful assistant.'}   \n",
       "\n",
       "                                            metadata  sender  \\\n",
       "0  {'last_updated': {'recipient': '2024-05-28T22:...  system   \n",
       "\n",
       "                          recipient  \n",
       "0  4533907e4a5469914e4bbe46f7d4d4ad  "
      ]
     },
     "execution_count": 7,
     "metadata": {},
     "output_type": "execute_result"
    }
   ],
   "source": [
    "branch.to_df()"
   ]
  },
  {
   "cell_type": "code",
   "execution_count": 8,
   "metadata": {},
   "outputs": [],
   "source": [
    "out_ = await branch.direct(\n",
    "    instruction=\"analyze the situation, what should the whale do? write a poeticly absurd story\",\n",
    "    context=context,\n",
    "    plan=True,\n",
    "    score=True,\n",
    "    select=True,\n",
    "    allow_extension=True,\n",
    "    select_choices=[\n",
    "        \"run\",\n",
    "        \"chase\",\n",
    "        \"fight\",\n",
    "        \"hide\",\n",
    "        \"call for help\",\n",
    "        \"stop\",\n",
    "        \"dive\",\n",
    "        \"swim\",\n",
    "    ],\n",
    "    retries=3,\n",
    ")"
   ]
  },
  {
   "cell_type": "code",
   "execution_count": 9,
   "metadata": {},
   "outputs": [
    {
     "data": {
      "text/markdown": [
       "**task**: \n",
       " Follow the prompt and provide the necessary output.\n",
       "- Additional instruction: analyze the situation, what should the whale do? write a poeticly absurd story\n",
       "- Additional context: a blue whale is chasing a big white shark\n",
       "- Allow auto-extension up to another 3 rounds.\n",
       "- Generate a 3-step plan based on the context.\n",
       "- Select 1 item from the provided choices: ['run', 'chase', 'fight', 'hide', 'call for help', 'stop', 'dive', 'swim'].\n",
       "- Give a numeric score in [0, 10] and precision of 0 decimal places.\n"
      ],
      "text/plain": [
       "<IPython.core.display.Markdown object>"
      ]
     },
     "metadata": {},
     "output_type": "display_data"
    },
    {
     "data": {
      "text/markdown": [
       "**extension_required**: False"
      ],
      "text/plain": [
       "<IPython.core.display.Markdown object>"
      ]
     },
     "metadata": {},
     "output_type": "display_data"
    },
    {
     "data": {
      "text/markdown": [
       "**plan**: \n",
       " {\n",
       "    \"step_1\": {\n",
       "        \"plan\": \"Analyze the situation and understand the context of the chase between the blue whale and the white shark.\",\n",
       "        \"reason\": \"To provide a coherent and engaging story, it's important to grasp the dynamics and motivations of the characters involved.\"\n",
       "    },\n",
       "    \"step_2\": {\n",
       "        \"plan\": \"Craft a poetic and absurd narrative that captures the essence of the chase and the eventual resolution.\",\n",
       "        \"reason\": \"The story should be whimsical and imaginative, reflecting the unique nature of the task.\"\n",
       "    },\n",
       "    \"step_3\": {\n",
       "        \"plan\": \"Conclude the story with a meaningful resolution that highlights the theme of understanding and friendship.\",\n",
       "        \"reason\": \"To leave the reader with a sense of satisfaction and a positive message.\"\n",
       "    }\n",
       "}"
      ],
      "text/plain": [
       "<IPython.core.display.Markdown object>"
      ]
     },
     "metadata": {},
     "output_type": "display_data"
    },
    {
     "data": {
      "text/markdown": [
       "**score**: 9"
      ],
      "text/plain": [
       "<IPython.core.display.Markdown object>"
      ]
     },
     "metadata": {},
     "output_type": "display_data"
    },
    {
     "data": {
      "text/markdown": [
       "**selection**: stop"
      ],
      "text/plain": [
       "<IPython.core.display.Markdown object>"
      ]
     },
     "metadata": {},
     "output_type": "display_data"
    },
    {
     "data": {
      "text/markdown": [
       "**answer**: \n",
       " In the vast, cerulean expanse of the ocean, a blue whale named Azure found itself in an unusual predicament. Azure, with its immense size and gentle nature, was chasing a big white shark named Frost. The chase was not one of malice but of curiosity and a desire to understand the mysterious predator of the deep. Azure's heart, as vast as the ocean itself, beat with a rhythm of wonder and excitement. As the chase continued, the ocean seemed to dance around them, waves whispering secrets of the deep. Azure, realizing the futility of the chase, decided to stop and call out to Frost. 'Why do we chase when we can converse?' Azure's voice, deep and resonant, echoed through the waters. Frost, intrigued by the whale's wisdom, turned around and approached Azure. They swam together, sharing stories of their adventures, forging an unlikely friendship in the boundless blue. And so, in the poetic absurdity of the ocean, a whale and a shark found harmony, proving that even the most unlikely of creatures can find common ground."
      ],
      "text/plain": [
       "<IPython.core.display.Markdown object>"
      ]
     },
     "metadata": {},
     "output_type": "display_data"
    }
   ],
   "source": [
    "out_.display()"
   ]
  },
  {
   "cell_type": "code",
   "execution_count": null,
   "metadata": {},
   "outputs": [],
   "source": []
  }
 ],
 "metadata": {
  "kernelspec": {
   "display_name": ".venv",
   "language": "python",
   "name": "python3"
  },
  "language_info": {
   "codemirror_mode": {
    "name": "ipython",
    "version": 3
   },
   "file_extension": ".py",
   "mimetype": "text/x-python",
   "name": "python",
   "nbconvert_exporter": "python",
   "pygments_lexer": "ipython3",
   "version": "3.12.1"
  }
 },
 "nbformat": 4,
 "nbformat_minor": 2
}
