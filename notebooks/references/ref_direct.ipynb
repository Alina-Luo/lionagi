{
 "cells": [
  {
   "cell_type": "code",
   "execution_count": 1,
   "metadata": {},
   "outputs": [],
   "source": [
    "from IPython.display import Markdown\n",
    "import lionagi as li"
   ]
  },
  {
   "cell_type": "code",
   "execution_count": 2,
   "metadata": {},
   "outputs": [],
   "source": [
    "context = \"a blue whale is chasing a big white shark\""
   ]
  },
  {
   "cell_type": "markdown",
   "metadata": {},
   "source": [
    "## 1. Interacting with LLM via `Branch`"
   ]
  },
  {
   "cell_type": "markdown",
   "metadata": {},
   "source": [
    "### `Branch.chat`"
   ]
  },
  {
   "cell_type": "code",
   "execution_count": 3,
   "metadata": {},
   "outputs": [],
   "source": [
    "branch = li.Branch()"
   ]
  },
  {
   "cell_type": "code",
   "execution_count": 4,
   "metadata": {},
   "outputs": [
    {
     "data": {
      "text/markdown": [
       "To analyze the situation where a blue whale is chasing a big white shark, let's consider several factors:\n",
       "\n",
       "1. **Behavioral Context**:\n",
       "   - Blue whales are generally filter feeders and primarily consume krill and small fish. They are not known to chase or hunt large predators like sharks.\n",
       "   - White sharks are apex predators and can be aggressive, but they typically do not pose a threat to blue whales due to the size difference and differing diets.\n",
       "\n",
       "2. **Possible Reasons for the Chase**:\n",
       "   - **Curiosity**: The blue whale might be curious about the shark.\n",
       "   - **Territorial Behavior**: Although uncommon, the whale might be displaying some form of territorial behavior.\n",
       "   - **Mistaken Identity**: The whale might have mistaken the shark for something else.\n",
       "   - **Unusual Circumstances**: There could be an unusual environmental factor influencing the behavior of the whale.\n",
       "\n",
       "3. **Safety Considerations**:\n",
       "   - **For the Whale**: While blue whales are much larger, engaging with a shark could potentially lead to injury.\n",
       "   - **For the Shark**: The shark might feel threatened and could act defensively.\n",
       "\n",
       "4. **Natural Behavior**:\n",
       "   - It is important for animals to adhere to their natural behaviors for the ecosystem to remain balanced.\n",
       "\n",
       "### Recommendations for the Whale:\n",
       "1. **Avoid Unnecessary Confrontation**: The whale should avoid chasing the shark to prevent any potential harm to itself or the shark.\n",
       "2. **Return to Normal Feeding Behavior**: The whale should focus on its natural feeding habits, such as consuming krill and small fish.\n",
       "3. **Maintain Distance**: Keeping a safe distance from the shark will minimize the risk of any aggressive encounters.\n",
       "\n",
       "### Conclusion:\n",
       "Given that blue whales are not natural predators of sharks and considering the potential risks involved, the whale should cease chasing the shark and return to its typical feeding and migratory behaviors. This will ensure the safety and well-being of both the whale and the shark."
      ],
      "text/plain": [
       "<IPython.core.display.Markdown object>"
      ]
     },
     "execution_count": 4,
     "metadata": {},
     "output_type": "execute_result"
    }
   ],
   "source": [
    "out_ = await branch.chat(\n",
    "    instruction = \"analyze the situation, what should the whale do?\",\n",
    "    context = context\n",
    ")\n",
    "\n",
    "Markdown(out_)"
   ]
  },
  {
   "cell_type": "code",
   "execution_count": 5,
   "metadata": {},
   "outputs": [
    {
     "data": {
      "text/html": [
       "<div>\n",
       "<style scoped>\n",
       "    .dataframe tbody tr th:only-of-type {\n",
       "        vertical-align: middle;\n",
       "    }\n",
       "\n",
       "    .dataframe tbody tr th {\n",
       "        vertical-align: top;\n",
       "    }\n",
       "\n",
       "    .dataframe thead th {\n",
       "        text-align: right;\n",
       "    }\n",
       "</style>\n",
       "<table border=\"1\" class=\"dataframe\">\n",
       "  <thead>\n",
       "    <tr style=\"text-align: right;\">\n",
       "      <th></th>\n",
       "      <th>ln_id</th>\n",
       "      <th>message_type</th>\n",
       "      <th>timestamp</th>\n",
       "      <th>role</th>\n",
       "      <th>content</th>\n",
       "      <th>metadata</th>\n",
       "      <th>sender</th>\n",
       "      <th>recipient</th>\n",
       "    </tr>\n",
       "  </thead>\n",
       "  <tbody>\n",
       "    <tr>\n",
       "      <th>0</th>\n",
       "      <td>a21d676b4cd0f237fddf35f23cd825e1</td>\n",
       "      <td>System</td>\n",
       "      <td>2024-05-18T18:20:16.639049</td>\n",
       "      <td>system</td>\n",
       "      <td>{'system_info': 'You are a helpful assistant, ...</td>\n",
       "      <td>{'last_updated': {'recipient': '2024-05-18T18:...</td>\n",
       "      <td>system</td>\n",
       "      <td>93142595eba437f5315b4dcbac97f6af</td>\n",
       "    </tr>\n",
       "    <tr>\n",
       "      <th>1</th>\n",
       "      <td>a226a89ab08a264f0791350dafe12460</td>\n",
       "      <td>Instruction</td>\n",
       "      <td>2024-05-18T18:20:16.643761</td>\n",
       "      <td>user</td>\n",
       "      <td>{'instruction': 'analyze the situation, what s...</td>\n",
       "      <td>{'last_updated': {'sender': '2024-05-18T18:20:...</td>\n",
       "      <td>user</td>\n",
       "      <td>93142595eba437f5315b4dcbac97f6af</td>\n",
       "    </tr>\n",
       "    <tr>\n",
       "      <th>2</th>\n",
       "      <td>73ccfea8013cb3f9662320f2c6bc5456</td>\n",
       "      <td>AssistantResponse</td>\n",
       "      <td>2024-05-18T18:20:22.135697</td>\n",
       "      <td>assistant</td>\n",
       "      <td>{'assistant_response': 'To analyze the situati...</td>\n",
       "      <td>{'last_updated': {'sender': '2024-05-18T18:20:...</td>\n",
       "      <td>93142595eba437f5315b4dcbac97f6af</td>\n",
       "      <td>user</td>\n",
       "    </tr>\n",
       "  </tbody>\n",
       "</table>\n",
       "</div>"
      ],
      "text/plain": [
       "                              ln_id       message_type  \\\n",
       "0  a21d676b4cd0f237fddf35f23cd825e1             System   \n",
       "1  a226a89ab08a264f0791350dafe12460        Instruction   \n",
       "2  73ccfea8013cb3f9662320f2c6bc5456  AssistantResponse   \n",
       "\n",
       "                    timestamp       role  \\\n",
       "0  2024-05-18T18:20:16.639049     system   \n",
       "1  2024-05-18T18:20:16.643761       user   \n",
       "2  2024-05-18T18:20:22.135697  assistant   \n",
       "\n",
       "                                             content  \\\n",
       "0  {'system_info': 'You are a helpful assistant, ...   \n",
       "1  {'instruction': 'analyze the situation, what s...   \n",
       "2  {'assistant_response': 'To analyze the situati...   \n",
       "\n",
       "                                            metadata  \\\n",
       "0  {'last_updated': {'recipient': '2024-05-18T18:...   \n",
       "1  {'last_updated': {'sender': '2024-05-18T18:20:...   \n",
       "2  {'last_updated': {'sender': '2024-05-18T18:20:...   \n",
       "\n",
       "                             sender                         recipient  \n",
       "0                            system  93142595eba437f5315b4dcbac97f6af  \n",
       "1                              user  93142595eba437f5315b4dcbac97f6af  \n",
       "2  93142595eba437f5315b4dcbac97f6af                              user  "
      ]
     },
     "execution_count": 5,
     "metadata": {},
     "output_type": "execute_result"
    }
   ],
   "source": [
    "branch.to_df()"
   ]
  },
  {
   "cell_type": "markdown",
   "metadata": {},
   "source": [
    "### `Branch.direct`"
   ]
  },
  {
   "cell_type": "code",
   "execution_count": 6,
   "metadata": {},
   "outputs": [],
   "source": [
    "# acceptable directives include\n",
    "# \"chat\", \"act\", \"direct\", \"predict\", \"select\", \"score\", \"plan\"\n",
    "\n",
    "out_ = await branch.direct(\n",
    "    directive=\"predict\", \n",
    "    context=context, \n",
    "    clear_messages=True\n",
    ")"
   ]
  },
  {
   "cell_type": "code",
   "execution_count": 7,
   "metadata": {},
   "outputs": [
    {
     "data": {
      "text/plain": [
       "ln_id                                 99b3d5a0b97c993fe73f34e0ec74e886\n",
       "created                                     2024-05-18T18:20:22.166691\n",
       "metadata             {'last_updated': {'input_fields': '2024-05-18T...\n",
       "content                                                           None\n",
       "template_name                                         predict_template\n",
       "assignment                                          task -> prediction\n",
       "input_fields                                                    [task]\n",
       "requested_fields                                          [prediction]\n",
       "task                 \\npredict the next sentence(s) according to th...\n",
       "validation_kwargs                                                   {}\n",
       "confidence_score                                                  None\n",
       "reason                                                            None\n",
       "num_sentences                                                     None\n",
       "prediction           The ocean was in turmoil as the massive creatu...\n",
       "class_name                                             PredictTemplate\n",
       "dtype: object"
      ]
     },
     "execution_count": 7,
     "metadata": {},
     "output_type": "execute_result"
    }
   ],
   "source": [
    "# the output is a lionagi form object\n",
    "out_"
   ]
  },
  {
   "cell_type": "code",
   "execution_count": 8,
   "metadata": {},
   "outputs": [
    {
     "data": {
      "text/markdown": [
       "The ocean was in turmoil as the massive creatures moved swiftly through the water."
      ],
      "text/plain": [
       "<IPython.core.display.Markdown object>"
      ]
     },
     "execution_count": 8,
     "metadata": {},
     "output_type": "execute_result"
    }
   ],
   "source": [
    "Markdown(out_.answer)"
   ]
  },
  {
   "cell_type": "code",
   "execution_count": 9,
   "metadata": {},
   "outputs": [
    {
     "data": {
      "text/html": [
       "<div>\n",
       "<style scoped>\n",
       "    .dataframe tbody tr th:only-of-type {\n",
       "        vertical-align: middle;\n",
       "    }\n",
       "\n",
       "    .dataframe tbody tr th {\n",
       "        vertical-align: top;\n",
       "    }\n",
       "\n",
       "    .dataframe thead th {\n",
       "        text-align: right;\n",
       "    }\n",
       "</style>\n",
       "<table border=\"1\" class=\"dataframe\">\n",
       "  <thead>\n",
       "    <tr style=\"text-align: right;\">\n",
       "      <th></th>\n",
       "      <th>ln_id</th>\n",
       "      <th>message_type</th>\n",
       "      <th>timestamp</th>\n",
       "      <th>role</th>\n",
       "      <th>content</th>\n",
       "      <th>metadata</th>\n",
       "      <th>sender</th>\n",
       "      <th>recipient</th>\n",
       "    </tr>\n",
       "  </thead>\n",
       "  <tbody>\n",
       "    <tr>\n",
       "      <th>0</th>\n",
       "      <td>bbd3ae9a23746c77ce31c835469e92c2</td>\n",
       "      <td>System</td>\n",
       "      <td>2024-05-18T18:20:22.166794</td>\n",
       "      <td>system</td>\n",
       "      <td>{'system_info': 'You are a helpful assistant, ...</td>\n",
       "      <td>{'last_updated': {'recipient': '2024-05-18T18:...</td>\n",
       "      <td>system</td>\n",
       "      <td>93142595eba437f5315b4dcbac97f6af</td>\n",
       "    </tr>\n",
       "    <tr>\n",
       "      <th>1</th>\n",
       "      <td>c5ae18c0a24fd91835f962f0097725b5</td>\n",
       "      <td>Instruction</td>\n",
       "      <td>2024-05-18T18:20:22.166958</td>\n",
       "      <td>user</td>\n",
       "      <td>{'instruction': '\n",
       "0. Your in is \n",
       "predict the n...</td>\n",
       "      <td>{'last_updated': {'sender': '2024-05-18T18:20:...</td>\n",
       "      <td>user</td>\n",
       "      <td>93142595eba437f5315b4dcbac97f6af</td>\n",
       "    </tr>\n",
       "    <tr>\n",
       "      <th>2</th>\n",
       "      <td>e58b6863e9b48047d8cc1a85b54a3a83</td>\n",
       "      <td>AssistantResponse</td>\n",
       "      <td>2024-05-18T18:20:22.940766</td>\n",
       "      <td>assistant</td>\n",
       "      <td>{'assistant_response': '```json\n",
       "{'prediction':...</td>\n",
       "      <td>{'last_updated': {'sender': '2024-05-18T18:20:...</td>\n",
       "      <td>93142595eba437f5315b4dcbac97f6af</td>\n",
       "      <td>user</td>\n",
       "    </tr>\n",
       "  </tbody>\n",
       "</table>\n",
       "</div>"
      ],
      "text/plain": [
       "                              ln_id       message_type  \\\n",
       "0  bbd3ae9a23746c77ce31c835469e92c2             System   \n",
       "1  c5ae18c0a24fd91835f962f0097725b5        Instruction   \n",
       "2  e58b6863e9b48047d8cc1a85b54a3a83  AssistantResponse   \n",
       "\n",
       "                    timestamp       role  \\\n",
       "0  2024-05-18T18:20:22.166794     system   \n",
       "1  2024-05-18T18:20:22.166958       user   \n",
       "2  2024-05-18T18:20:22.940766  assistant   \n",
       "\n",
       "                                             content  \\\n",
       "0  {'system_info': 'You are a helpful assistant, ...   \n",
       "1  {'instruction': '\n",
       "0. Your in is \n",
       "predict the n...   \n",
       "2  {'assistant_response': '```json\n",
       "{'prediction':...   \n",
       "\n",
       "                                            metadata  \\\n",
       "0  {'last_updated': {'recipient': '2024-05-18T18:...   \n",
       "1  {'last_updated': {'sender': '2024-05-18T18:20:...   \n",
       "2  {'last_updated': {'sender': '2024-05-18T18:20:...   \n",
       "\n",
       "                             sender                         recipient  \n",
       "0                            system  93142595eba437f5315b4dcbac97f6af  \n",
       "1                              user  93142595eba437f5315b4dcbac97f6af  \n",
       "2  93142595eba437f5315b4dcbac97f6af                              user  "
      ]
     },
     "execution_count": 9,
     "metadata": {},
     "output_type": "execute_result"
    }
   ],
   "source": [
    "branch.to_df()"
   ]
  },
  {
   "cell_type": "markdown",
   "metadata": {},
   "source": [
    "## 2. Interacting with LLM via `direct`"
   ]
  },
  {
   "cell_type": "code",
   "execution_count": 10,
   "metadata": {},
   "outputs": [],
   "source": [
    "from lionagi import direct"
   ]
  },
  {
   "cell_type": "markdown",
   "metadata": {},
   "source": [
    "#### 2.0 Chat"
   ]
  },
  {
   "cell_type": "code",
   "execution_count": 11,
   "metadata": {},
   "outputs": [
    {
     "data": {
      "text/markdown": [
       "Given the context that a blue whale is chasing a big white shark, let's think step by step about what might happen next:\n",
       "\n",
       "1. **Behavioral Patterns**: Blue whales are generally not predators of sharks. They primarily feed on krill and small fish. This suggests that the chase might not be predatory in nature.\n",
       "\n",
       "2. **Possible Scenarios**:\n",
       "   - **Curiosity or Play**: The blue whale might be curious or engaging in playful behavior. Whales are known to exhibit playful behavior, and this could be a non-aggressive interaction.\n",
       "   - **Territorial Dispute**: Although less common, the blue whale might be chasing the shark away from its territory or a feeding ground.\n",
       "   - **Mistaken Identity**: The blue whale might have mistaken the shark for something else, but upon realizing the mistake, it might stop the chase.\n",
       "\n",
       "3. **Outcome**:\n",
       "   - **Shark Evasion**: The shark, being more agile, might manage to evade the blue whale and swim away to safety.\n",
       "   - **Whale Disengagement**: The blue whale might lose interest or realize that the shark is not a threat or prey, and stop the chase.\n",
       "\n",
       "Given these points, the most likely outcome is that the shark will evade the blue whale, or the blue whale will lose interest and stop the chase."
      ],
      "text/plain": [
       "<IPython.core.display.Markdown object>"
      ]
     },
     "execution_count": 11,
     "metadata": {},
     "output_type": "execute_result"
    }
   ],
   "source": [
    "out_ = await direct.chat(\n",
    "    instruction=\"what will happen next?\",\n",
    "    context = context\n",
    ")\n",
    "\n",
    "Markdown(out_)"
   ]
  },
  {
   "cell_type": "markdown",
   "metadata": {},
   "source": [
    "#### 2.1 predict"
   ]
  },
  {
   "cell_type": "code",
   "execution_count": 12,
   "metadata": {},
   "outputs": [],
   "source": [
    "out_ = await direct.predict(\n",
    "    instruction=\"what will happen next?\",\n",
    "    context=context,\n",
    "    reason=True, \n",
    "    confidence_score=True,\n",
    ")"
   ]
  },
  {
   "cell_type": "code",
   "execution_count": 13,
   "metadata": {},
   "outputs": [
    {
     "data": {
      "text/markdown": [
       "task: \n",
       "\n",
       "predict the next sentence(s) according to the following constraints\n",
       "1. number of sentences: 1\n",
       "2. additional objective , what will happen next?\n",
       "3. additional information, a blue whale is chasing a big white shark\n",
       "\n"
      ],
      "text/plain": [
       "<IPython.core.display.Markdown object>"
      ]
     },
     "metadata": {},
     "output_type": "display_data"
    },
    {
     "data": {
      "text/markdown": [
       "confidence_score: \n",
       "0.85\n"
      ],
      "text/plain": [
       "<IPython.core.display.Markdown object>"
      ]
     },
     "metadata": {},
     "output_type": "display_data"
    },
    {
     "data": {
      "text/markdown": [
       "reason: \n",
       "This is my best response because in a chase scenario, the pursued animal often attempts to escape by changing direction or employing evasive maneuvers.\n"
      ],
      "text/plain": [
       "<IPython.core.display.Markdown object>"
      ]
     },
     "metadata": {},
     "output_type": "display_data"
    },
    {
     "data": {
      "text/markdown": [
       "prediction: \n",
       "The big white shark swiftly changes direction to evade the blue whale.\n"
      ],
      "text/plain": [
       "<IPython.core.display.Markdown object>"
      ]
     },
     "metadata": {},
     "output_type": "display_data"
    }
   ],
   "source": [
    "# the work_fields of a form includes all information that was used in LLM processing\n",
    "for k, v in out_.work_fields.items():\n",
    "    display(Markdown(f\"{k}: \\n{v}\\n\"))"
   ]
  },
  {
   "cell_type": "code",
   "execution_count": 14,
   "metadata": {},
   "outputs": [
    {
     "data": {
      "text/markdown": [
       "The big white shark swiftly changes direction to evade the blue whale."
      ],
      "text/plain": [
       "<IPython.core.display.Markdown object>"
      ]
     },
     "execution_count": 14,
     "metadata": {},
     "output_type": "execute_result"
    }
   ],
   "source": [
    "# answer is a required attr/property of the form object, \n",
    "# you should define it as a property and refers to the desired output\n",
    "# if you have answer already as an attribute of the form object, \n",
    "# there is no need to define it as a property again\n",
    "\n",
    "Markdown(out_.answer)"
   ]
  },
  {
   "cell_type": "markdown",
   "metadata": {},
   "source": [
    "#### 2.2 score"
   ]
  },
  {
   "cell_type": "code",
   "execution_count": null,
   "metadata": {},
   "outputs": [],
   "source": []
  },
  {
   "cell_type": "markdown",
   "metadata": {},
   "source": [
    "#### 2.3 plan"
   ]
  },
  {
   "cell_type": "code",
   "execution_count": null,
   "metadata": {},
   "outputs": [],
   "source": []
  },
  {
   "cell_type": "markdown",
   "metadata": {},
   "source": [
    "#### 2.4 select"
   ]
  },
  {
   "cell_type": "code",
   "execution_count": null,
   "metadata": {},
   "outputs": [],
   "source": []
  },
  {
   "cell_type": "markdown",
   "metadata": {},
   "source": [
    "#### 2.5 act"
   ]
  },
  {
   "cell_type": "code",
   "execution_count": null,
   "metadata": {},
   "outputs": [],
   "source": []
  }
 ],
 "metadata": {
  "kernelspec": {
   "display_name": ".venv",
   "language": "python",
   "name": "python3"
  },
  "language_info": {
   "codemirror_mode": {
    "name": "ipython",
    "version": 3
   },
   "file_extension": ".py",
   "mimetype": "text/x-python",
   "name": "python",
   "nbconvert_exporter": "python",
   "pygments_lexer": "ipython3",
   "version": "3.11.6"
  }
 },
 "nbformat": 4,
 "nbformat_minor": 2
}
