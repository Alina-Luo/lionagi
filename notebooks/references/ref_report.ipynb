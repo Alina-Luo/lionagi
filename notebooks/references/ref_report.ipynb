{
 "cells": [
  {
   "cell_type": "code",
   "execution_count": 1,
   "metadata": {},
   "outputs": [],
   "source": [
    "import lionagi as li"
   ]
  },
  {
   "cell_type": "code",
   "execution_count": null,
   "metadata": {},
   "outputs": [],
   "source": []
  },
  {
   "cell_type": "code",
   "execution_count": 2,
   "metadata": {},
   "outputs": [],
   "source": [
    "report = li.Report(assignment=\"a, b -> c\")"
   ]
  },
  {
   "cell_type": "code",
   "execution_count": 3,
   "metadata": {},
   "outputs": [
    {
     "data": {
      "text/plain": [
       "['a', 'b']"
      ]
     },
     "execution_count": 3,
     "metadata": {},
     "output_type": "execute_result"
    }
   ],
   "source": [
    "report.input_fields"
   ]
  },
  {
   "cell_type": "code",
   "execution_count": 4,
   "metadata": {},
   "outputs": [
    {
     "data": {
      "text/plain": [
       "['c']"
      ]
     },
     "execution_count": 4,
     "metadata": {},
     "output_type": "execute_result"
    }
   ],
   "source": [
    "report.requested_fields"
   ]
  },
  {
   "cell_type": "code",
   "execution_count": 5,
   "metadata": {},
   "outputs": [
    {
     "data": {
      "text/plain": [
       "{'a': None, 'b': None, 'c': None}"
      ]
     },
     "execution_count": 5,
     "metadata": {},
     "output_type": "execute_result"
    }
   ],
   "source": [
    "report.work_fields"
   ]
  },
  {
   "cell_type": "code",
   "execution_count": 6,
   "metadata": {},
   "outputs": [
    {
     "data": {
      "text/plain": [
       "False"
      ]
     },
     "execution_count": 6,
     "metadata": {},
     "output_type": "execute_result"
    }
   ],
   "source": [
    "report.filled"
   ]
  },
  {
   "cell_type": "code",
   "execution_count": 7,
   "metadata": {},
   "outputs": [
    {
     "data": {
      "text/plain": [
       "False"
      ]
     },
     "execution_count": 7,
     "metadata": {},
     "output_type": "execute_result"
    }
   ],
   "source": [
    "report.workable"
   ]
  },
  {
   "cell_type": "code",
   "execution_count": 8,
   "metadata": {},
   "outputs": [],
   "source": [
    "report.fill(a=3, b=4)"
   ]
  },
  {
   "cell_type": "code",
   "execution_count": 9,
   "metadata": {},
   "outputs": [
    {
     "data": {
      "text/plain": [
       "{'a': 3, 'b': 4, 'c': None}"
      ]
     },
     "execution_count": 9,
     "metadata": {},
     "output_type": "execute_result"
    }
   ],
   "source": [
    "report.work_fields"
   ]
  },
  {
   "cell_type": "code",
   "execution_count": 10,
   "metadata": {},
   "outputs": [
    {
     "data": {
      "text/plain": [
       "ln_id                                 f7863036d32587823e8928984a5e7f07\n",
       "created                                     2024-05-14T02:08:28.094830\n",
       "metadata             {'last_updated': {'input_fields': '2024-05-14T...\n",
       "content                                                           None\n",
       "assignment                                                   a, b -> c\n",
       "input_fields                                                    [a, b]\n",
       "requested_fields                                                   [c]\n",
       "task                                                                  \n",
       "validation_kwargs                                                   {}\n",
       "forms                {'ln_id': 'd6d3a438d70f160b5b717791e176a599', ...\n",
       "form_assignments                                           [a, b -> c]\n",
       "form_template                  <class 'lionagi.core.report.form.Form'>\n",
       "a                                                                    3\n",
       "b                                                                    4\n",
       "c                                                                 None\n",
       "class_name                                                      Report\n",
       "dtype: object"
      ]
     },
     "execution_count": 10,
     "metadata": {},
     "output_type": "execute_result"
    }
   ],
   "source": [
    "report"
   ]
  },
  {
   "cell_type": "code",
   "execution_count": 11,
   "metadata": {},
   "outputs": [
    {
     "data": {
      "text/plain": [
       "True"
      ]
     },
     "execution_count": 11,
     "metadata": {},
     "output_type": "execute_result"
    }
   ],
   "source": [
    "report.workable"
   ]
  },
  {
   "cell_type": "code",
   "execution_count": 12,
   "metadata": {},
   "outputs": [
    {
     "data": {
      "text/plain": [
       "<bound method Report.next_forms of ln_id                                 f7863036d32587823e8928984a5e7f07\n",
       "created                                     2024-05-14T02:08:28.094830\n",
       "metadata             {'last_updated': {'input_fields': '2024-05-14T...\n",
       "content                                                           None\n",
       "assignment                                                   a, b -> c\n",
       "input_fields                                                 [a, b, c]\n",
       "requested_fields                                                   [c]\n",
       "task                                                                  \n",
       "validation_kwargs                                                   {}\n",
       "forms                {'ln_id': 'd6d3a438d70f160b5b717791e176a599', ...\n",
       "form_assignments                                           [a, b -> c]\n",
       "form_template                  <class 'lionagi.core.report.form.Form'>\n",
       "a                                                                    3\n",
       "b                                                                    4\n",
       "c                                                                 None\n",
       "class_name                                                      Report\n",
       "dtype: object>"
      ]
     },
     "execution_count": 12,
     "metadata": {},
     "output_type": "execute_result"
    }
   ],
   "source": [
    "report.next_forms"
   ]
  },
  {
   "cell_type": "code",
   "execution_count": 13,
   "metadata": {},
   "outputs": [],
   "source": [
    "report.fill(c=4)"
   ]
  },
  {
   "cell_type": "code",
   "execution_count": 14,
   "metadata": {},
   "outputs": [
    {
     "data": {
      "text/plain": [
       "{'a': 3, 'b': 4, 'c': 4}"
      ]
     },
     "execution_count": 14,
     "metadata": {},
     "output_type": "execute_result"
    }
   ],
   "source": [
    "report.work_fields"
   ]
  },
  {
   "cell_type": "code",
   "execution_count": 15,
   "metadata": {},
   "outputs": [
    {
     "data": {
      "text/plain": [
       "False"
      ]
     },
     "execution_count": 15,
     "metadata": {},
     "output_type": "execute_result"
    }
   ],
   "source": [
    "report.workable"
   ]
  },
  {
   "cell_type": "code",
   "execution_count": 16,
   "metadata": {},
   "outputs": [
    {
     "data": {
      "text/plain": [
       "True"
      ]
     },
     "execution_count": 16,
     "metadata": {},
     "output_type": "execute_result"
    }
   ],
   "source": [
    "report.filled"
   ]
  },
  {
   "cell_type": "code",
   "execution_count": 17,
   "metadata": {},
   "outputs": [
    {
     "data": {
      "text/plain": [
       "False"
      ]
     },
     "execution_count": 17,
     "metadata": {},
     "output_type": "execute_result"
    }
   ],
   "source": [
    "report.next_forms is None"
   ]
  },
  {
   "cell_type": "code",
   "execution_count": 18,
   "metadata": {},
   "outputs": [],
   "source": [
    "report = li.Report(\n",
    "    assignment=\"a, b -> h\", \n",
    "    form_assignments = [\"a, b -> c\", \"a -> e\", \"b -> f\", \"c -> g\", \"e, f, g -> h\"], \n",
    "    a=3, \n",
    "    b=4\n",
    "    )"
   ]
  },
  {
   "cell_type": "code",
   "execution_count": 19,
   "metadata": {},
   "outputs": [
    {
     "data": {
      "text/plain": [
       "{'a': None, 'b': None, 'c': None, 'e': None, 'f': None, 'g': None, 'h': None}"
      ]
     },
     "execution_count": 19,
     "metadata": {},
     "output_type": "execute_result"
    }
   ],
   "source": [
    "report.work_fields"
   ]
  },
  {
   "cell_type": "code",
   "execution_count": 20,
   "metadata": {},
   "outputs": [
    {
     "name": "stdout",
     "output_type": "stream",
     "text": [
      "{'a': None, 'b': None, 'c': None}\n",
      "{'a': None, 'e': None}\n",
      "{'b': None, 'f': None}\n",
      "{'c': None, 'g': None}\n",
      "{'e': None, 'f': None, 'g': None, 'h': None}\n"
     ]
    }
   ],
   "source": [
    "for _, k in report.forms.items():\n",
    "    print(k.work_fields)"
   ]
  },
  {
   "cell_type": "code",
   "execution_count": 21,
   "metadata": {},
   "outputs": [
    {
     "data": {
      "text/plain": [
       "                              ln_id                     created  \\\n",
       "0  4d25e2ff11f402f730c5ae50e28f90dd  2024-05-14T02:08:28.147847   \n",
       "1  846fdc6ee6866bc282936e1dfd29ea81  2024-05-14T02:08:28.147993   \n",
       "2  2811e4c506ca39f66168c278cdf9f124  2024-05-14T02:08:28.148064   \n",
       "3  76f307509bb299b33714df8b810338f3  2024-05-14T02:08:28.148131   \n",
       "4  2688689e4514b8a835a8135e98b399d6  2024-05-14T02:08:28.148196   \n",
       "\n",
       "                                            metadata content    assignment  \\\n",
       "0  {'last_updated': {'input_fields': '2024-05-14T...    None     a, b -> c   \n",
       "1  {'last_updated': {'input_fields': '2024-05-14T...    None        a -> e   \n",
       "2  {'last_updated': {'input_fields': '2024-05-14T...    None        b -> f   \n",
       "3  {'last_updated': {'input_fields': '2024-05-14T...    None        c -> g   \n",
       "4  {'last_updated': {'input_fields': '2024-05-14T...    None  e, f, g -> h   \n",
       "\n",
       "  input_fields requested_fields task validation_kwargs   a   b   c   e   f  \\\n",
       "0       [a, b]              [c]                     {} NaN NaN NaN NaN NaN   \n",
       "1          [a]              [e]                     {} NaN NaN NaN NaN NaN   \n",
       "2          [b]              [f]                     {} NaN NaN NaN NaN NaN   \n",
       "3          [c]              [g]                     {} NaN NaN NaN NaN NaN   \n",
       "4    [e, f, g]              [h]                     {} NaN NaN NaN NaN NaN   \n",
       "\n",
       "    g   h  \n",
       "0 NaN NaN  \n",
       "1 NaN NaN  \n",
       "2 NaN NaN  \n",
       "3 NaN NaN  \n",
       "4 NaN NaN  "
      ]
     },
     "execution_count": 21,
     "metadata": {},
     "output_type": "execute_result"
    }
   ],
   "source": [
    "report.forms"
   ]
  },
  {
   "cell_type": "code",
   "execution_count": 22,
   "metadata": {},
   "outputs": [],
   "source": [
    "new_forms = {\n",
    "    i: report.form_template(assignment=i) for i in report.form_assignments\n",
    "}"
   ]
  },
  {
   "cell_type": "code",
   "execution_count": 23,
   "metadata": {},
   "outputs": [
    {
     "data": {
      "text/plain": [
       "{'a, b -> c': ln_id                                 7462690a0c78c78b3d9429b7c3d0c485\n",
       " created                                     2024-05-14T02:08:28.165309\n",
       " metadata             {'last_updated': {'input_fields': '2024-05-14T...\n",
       " content                                                           None\n",
       " assignment                                                   a, b -> c\n",
       " input_fields                                                    [a, b]\n",
       " requested_fields                                                   [c]\n",
       " task                                                                  \n",
       " validation_kwargs                                                   {}\n",
       " a                                                                 None\n",
       " b                                                                 None\n",
       " c                                                                 None\n",
       " class_name                                                        Form\n",
       " dtype: object,\n",
       " 'a -> e': ln_id                                 6501713cb48491c4a664f2da861ff8c1\n",
       " created                                     2024-05-14T02:08:28.165523\n",
       " metadata             {'last_updated': {'input_fields': '2024-05-14T...\n",
       " content                                                           None\n",
       " assignment                                                      a -> e\n",
       " input_fields                                                       [a]\n",
       " requested_fields                                                   [e]\n",
       " task                                                                  \n",
       " validation_kwargs                                                   {}\n",
       " a                                                                 None\n",
       " e                                                                 None\n",
       " class_name                                                        Form\n",
       " dtype: object,\n",
       " 'b -> f': ln_id                                 a1363dad55733c851237b8b1abb157bf\n",
       " created                                     2024-05-14T02:08:28.165601\n",
       " metadata             {'last_updated': {'input_fields': '2024-05-14T...\n",
       " content                                                           None\n",
       " assignment                                                      b -> f\n",
       " input_fields                                                       [b]\n",
       " requested_fields                                                   [f]\n",
       " task                                                                  \n",
       " validation_kwargs                                                   {}\n",
       " b                                                                 None\n",
       " f                                                                 None\n",
       " class_name                                                        Form\n",
       " dtype: object,\n",
       " 'c -> g': ln_id                                 97561edfbfc6b7263a0f3fb6271c3b90\n",
       " created                                     2024-05-14T02:08:28.165671\n",
       " metadata             {'last_updated': {'input_fields': '2024-05-14T...\n",
       " content                                                           None\n",
       " assignment                                                      c -> g\n",
       " input_fields                                                       [c]\n",
       " requested_fields                                                   [g]\n",
       " task                                                                  \n",
       " validation_kwargs                                                   {}\n",
       " c                                                                 None\n",
       " g                                                                 None\n",
       " class_name                                                        Form\n",
       " dtype: object,\n",
       " 'e, f, g -> h': ln_id                                 efc9ab295b0dc3e9f18183dcddc1d769\n",
       " created                                     2024-05-14T02:08:28.165738\n",
       " metadata             {'last_updated': {'input_fields': '2024-05-14T...\n",
       " content                                                           None\n",
       " assignment                                                e, f, g -> h\n",
       " input_fields                                                 [e, f, g]\n",
       " requested_fields                                                   [h]\n",
       " task                                                                  \n",
       " validation_kwargs                                                   {}\n",
       " e                                                                 None\n",
       " f                                                                 None\n",
       " g                                                                 None\n",
       " h                                                                 None\n",
       " class_name                                                        Form\n",
       " dtype: object}"
      ]
     },
     "execution_count": 23,
     "metadata": {},
     "output_type": "execute_result"
    }
   ],
   "source": [
    "new_forms"
   ]
  },
  {
   "cell_type": "code",
   "execution_count": 24,
   "metadata": {},
   "outputs": [],
   "source": [
    "for k, v in new_forms.items():\n",
    "    if k not in report.forms:\n",
    "        report.forms[k] = v"
   ]
  },
  {
   "cell_type": "code",
   "execution_count": 25,
   "metadata": {},
   "outputs": [
    {
     "name": "stdout",
     "output_type": "stream",
     "text": [
      "{'a': None, 'b': None, 'c': None}\n",
      "{'a': None, 'e': None}\n",
      "{'b': None, 'f': None}\n",
      "{'c': None, 'g': None}\n",
      "{'e': None, 'f': None, 'g': None, 'h': None}\n",
      "{'a': None, 'b': None, 'c': None}\n",
      "{'a': None, 'e': None}\n",
      "{'b': None, 'f': None}\n",
      "{'c': None, 'g': None}\n",
      "{'e': None, 'f': None, 'g': None, 'h': None}\n"
     ]
    }
   ],
   "source": [
    "for i in report.forms:\n",
    "    print(i.work_fields)"
   ]
  },
  {
   "cell_type": "code",
   "execution_count": 26,
   "metadata": {},
   "outputs": [
    {
     "data": {
      "text/plain": [
       "{'a': None, 'b': None, 'c': None, 'e': None, 'f': None, 'g': None, 'h': None}"
      ]
     },
     "execution_count": 26,
     "metadata": {},
     "output_type": "execute_result"
    }
   ],
   "source": [
    "report.work_fields"
   ]
  },
  {
   "cell_type": "code",
   "execution_count": 27,
   "metadata": {},
   "outputs": [
    {
     "data": {
      "text/plain": [
       "ln_id                                 f6b063128408b691682d913fac9dac3d\n",
       "created                                     2024-05-14T02:08:28.147784\n",
       "metadata             {'last_updated': {'input_fields': '2024-05-14T...\n",
       "content                                                           None\n",
       "assignment                                                   a, b -> h\n",
       "input_fields                                                    [a, b]\n",
       "requested_fields                                                   [h]\n",
       "task                                                                  \n",
       "validation_kwargs                                                   {}\n",
       "forms                {'ln_id': 'e2ef9970dbdaa28c70e6f2e8ee047489', ...\n",
       "form_assignments     [a, b -> c, a -> e, b -> f, c -> g, e, f, g -> h]\n",
       "form_template                  <class 'lionagi.core.report.form.Form'>\n",
       "a                                                                 None\n",
       "b                                                                 None\n",
       "c                                                                 None\n",
       "e                                                                 None\n",
       "f                                                                 None\n",
       "g                                                                 None\n",
       "h                                                                 None\n",
       "class_name                                                      Report\n",
       "dtype: object"
      ]
     },
     "execution_count": 27,
     "metadata": {},
     "output_type": "execute_result"
    }
   ],
   "source": [
    "report"
   ]
  },
  {
   "cell_type": "code",
   "execution_count": 28,
   "metadata": {},
   "outputs": [
    {
     "data": {
      "text/plain": [
       "{'ln_id': FieldInfo(annotation=str, required=False, default_factory=create_id, alias_priority=2, validation_alias=AliasChoices(choices=['node_id', 'ID', 'id']), title='ID', description='A 32-char unique hash identifier.', frozen=True),\n",
       " 'timestamp': FieldInfo(annotation=str, required=False, default_factory=<lambda>, alias='created', alias_priority=2, validation_alias=AliasChoices(choices=['created_on', 'creation_date']), title='Creation Timestamp', description='The UTC timestamp of creation', frozen=True),\n",
       " 'metadata': FieldInfo(annotation=dict[str, Any], required=False, default_factory=dict, alias_priority=2, validation_alias=AliasChoices(choices=['meta', 'info']), description='Additional metadata for the component.'),\n",
       " 'extra_fields': FieldInfo(annotation=dict[str, Any], required=False, default_factory=dict, alias_priority=2, validation_alias=AliasChoices(choices=['extra', 'additional_fields', 'schema_extra', 'extra_schema']), description='Additional fields for the component.'),\n",
       " 'content': FieldInfo(annotation=Any, required=False, alias_priority=2, validation_alias=AliasChoices(choices=['text', 'page_content', 'chunk_content', 'data']), description='The optional content of the node.'),\n",
       " 'assignment': FieldInfo(annotation=str, required=True, description='The objective of the form specifying input/output fields.', examples=['input1, input2 -> output']),\n",
       " 'input_fields': FieldInfo(annotation=List[str], required=False, default_factory=list, description='Fields required to carry out the objective of the form.'),\n",
       " 'requested_fields': FieldInfo(annotation=List[str], required=False, default_factory=list, description='Fields requested to be filled by the user.'),\n",
       " 'task': FieldInfo(annotation=Any, required=False, default_factory=str, description='The work to be done by the form, including custom instructions.'),\n",
       " 'validation_kwargs': FieldInfo(annotation=Dict[str, Dict[str, Any]], required=False, default_factory=dict, description='Additional validation constraints for the form fields.', examples=[{'field': {'config1': 'a', 'config2': 'b'}}]),\n",
       " 'forms': FieldInfo(annotation=Pile[Form], required=False, description='A pile of forms related to the report.'),\n",
       " 'form_assignments': FieldInfo(annotation=list, required=False, default=[], description='assignment for the report', examples=[['a, b -> c', 'a -> e', 'b -> f', 'c -> g', 'e, f, g -> h']]),\n",
       " 'form_template': FieldInfo(annotation=Type[Form], required=False, default=<class 'lionagi.core.report.form.Form'>, description='The template for the forms in the report.')}"
      ]
     },
     "execution_count": 28,
     "metadata": {},
     "output_type": "execute_result"
    }
   ],
   "source": [
    "report.model_fields"
   ]
  },
  {
   "cell_type": "code",
   "execution_count": 29,
   "metadata": {},
   "outputs": [
    {
     "data": {
      "text/plain": [
       "False"
      ]
     },
     "execution_count": 29,
     "metadata": {},
     "output_type": "execute_result"
    }
   ],
   "source": [
    "report.workable"
   ]
  },
  {
   "cell_type": "code",
   "execution_count": 30,
   "metadata": {},
   "outputs": [
    {
     "data": {
      "text/plain": [
       "False"
      ]
     },
     "execution_count": 30,
     "metadata": {},
     "output_type": "execute_result"
    }
   ],
   "source": [
    "report.filled"
   ]
  },
  {
   "cell_type": "code",
   "execution_count": 31,
   "metadata": {},
   "outputs": [],
   "source": [
    "report.fill(c=5, e=6, f=7, g=8, h=10)"
   ]
  },
  {
   "cell_type": "code",
   "execution_count": 32,
   "metadata": {},
   "outputs": [
    {
     "data": {
      "text/plain": [
       "False"
      ]
     },
     "execution_count": 32,
     "metadata": {},
     "output_type": "execute_result"
    }
   ],
   "source": [
    "report.filled"
   ]
  },
  {
   "cell_type": "code",
   "execution_count": 33,
   "metadata": {},
   "outputs": [
    {
     "data": {
      "text/plain": [
       "False"
      ]
     },
     "execution_count": 33,
     "metadata": {},
     "output_type": "execute_result"
    }
   ],
   "source": [
    "report.workable"
   ]
  },
  {
   "cell_type": "code",
   "execution_count": 34,
   "metadata": {},
   "outputs": [
    {
     "data": {
      "text/plain": [
       "{'a': None, 'b': None, 'c': 5, 'e': 6, 'f': 7, 'g': 8, 'h': 10}"
      ]
     },
     "execution_count": 34,
     "metadata": {},
     "output_type": "execute_result"
    }
   ],
   "source": [
    "report.work_fields"
   ]
  },
  {
   "cell_type": "code",
   "execution_count": 35,
   "metadata": {},
   "outputs": [
    {
     "name": "stdout",
     "output_type": "stream",
     "text": [
      "Form is filled, cannot be worked on again\n"
     ]
    }
   ],
   "source": [
    "try:\n",
    "    report.fill(c=\"xx\", e=\"yy\")\n",
    "except Exception as e:\n",
    "    print(e)"
   ]
  },
  {
   "cell_type": "code",
   "execution_count": 36,
   "metadata": {},
   "outputs": [
    {
     "data": {
      "text/plain": [
       "{'a': None, 'b': None, 'c': 5, 'e': 6, 'f': 7, 'g': 8, 'h': 10}"
      ]
     },
     "execution_count": 36,
     "metadata": {},
     "output_type": "execute_result"
    }
   ],
   "source": [
    "report.work_fields"
   ]
  }
 ],
 "metadata": {
  "kernelspec": {
   "display_name": ".venv",
   "language": "python",
   "name": "python3"
  },
  "language_info": {
   "codemirror_mode": {
    "name": "ipython",
    "version": 3
   },
   "file_extension": ".py",
   "mimetype": "text/x-python",
   "name": "python",
   "nbconvert_exporter": "python",
   "pygments_lexer": "ipython3",
   "version": "3.11.6"
  }
 },
 "nbformat": 4,
 "nbformat_minor": 2
}
