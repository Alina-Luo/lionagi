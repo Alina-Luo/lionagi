{
 "cells": [
  {
   "cell_type": "code",
   "execution_count": 1,
   "metadata": {},
   "outputs": [],
   "source": [
    "import lionagi as li"
   ]
  },
  {
   "cell_type": "code",
   "execution_count": 2,
   "metadata": {},
   "outputs": [],
   "source": [
    "# lets create a simple flow\n",
    "# 1. create a pile of nodes\n",
    "\n",
    "nodes1 = [li.Node(content=i) for i in range(10)]\n",
    "p1 = li.pile(nodes1)"
   ]
  },
  {
   "cell_type": "code",
   "execution_count": 3,
   "metadata": {},
   "outputs": [
    {
     "data": {
      "text/html": [
       "<div>\n",
       "<style scoped>\n",
       "    .dataframe tbody tr th:only-of-type {\n",
       "        vertical-align: middle;\n",
       "    }\n",
       "\n",
       "    .dataframe tbody tr th {\n",
       "        vertical-align: top;\n",
       "    }\n",
       "\n",
       "    .dataframe thead th {\n",
       "        text-align: right;\n",
       "    }\n",
       "</style>\n",
       "<table border=\"1\" class=\"dataframe\">\n",
       "  <thead>\n",
       "    <tr style=\"text-align: right;\">\n",
       "      <th></th>\n",
       "      <th>ln_id</th>\n",
       "      <th>created</th>\n",
       "      <th>metadata</th>\n",
       "      <th>content</th>\n",
       "      <th>embedding</th>\n",
       "      <th>relations</th>\n",
       "      <th>lion_class</th>\n",
       "    </tr>\n",
       "  </thead>\n",
       "  <tbody>\n",
       "    <tr>\n",
       "      <th>0</th>\n",
       "      <td>fdc5c86db4b6b277af2c7212a243661f</td>\n",
       "      <td>2024-05-28T22:20:45.573493</td>\n",
       "      <td>{}</td>\n",
       "      <td>0</td>\n",
       "      <td>[]</td>\n",
       "      <td>{'in': {'ln_id': '5e5768f5de64808117b28ab88404...</td>\n",
       "      <td>Node</td>\n",
       "    </tr>\n",
       "    <tr>\n",
       "      <th>1</th>\n",
       "      <td>fe278ff099703a7096761bde278b54f9</td>\n",
       "      <td>2024-05-28T22:20:45.573560</td>\n",
       "      <td>{}</td>\n",
       "      <td>1</td>\n",
       "      <td>[]</td>\n",
       "      <td>{'in': {'ln_id': 'ca05e0d1cba52d16ba3da44ab2b8...</td>\n",
       "      <td>Node</td>\n",
       "    </tr>\n",
       "    <tr>\n",
       "      <th>2</th>\n",
       "      <td>b03b1dc7f2cca0ee3fbec20191b80fc2</td>\n",
       "      <td>2024-05-28T22:20:45.573599</td>\n",
       "      <td>{}</td>\n",
       "      <td>2</td>\n",
       "      <td>[]</td>\n",
       "      <td>{'in': {'ln_id': 'dd27ad60adaa82e1071c198d98a2...</td>\n",
       "      <td>Node</td>\n",
       "    </tr>\n",
       "    <tr>\n",
       "      <th>3</th>\n",
       "      <td>7490c4aa8eb07f6a2cc295bdb119f1f4</td>\n",
       "      <td>2024-05-28T22:20:45.573634</td>\n",
       "      <td>{}</td>\n",
       "      <td>3</td>\n",
       "      <td>[]</td>\n",
       "      <td>{'in': {'ln_id': 'a2c260e7cc90451c5a289d2a4d6e...</td>\n",
       "      <td>Node</td>\n",
       "    </tr>\n",
       "    <tr>\n",
       "      <th>4</th>\n",
       "      <td>483113fc6f1e6d591550b9c52e5ad757</td>\n",
       "      <td>2024-05-28T22:20:45.573668</td>\n",
       "      <td>{}</td>\n",
       "      <td>4</td>\n",
       "      <td>[]</td>\n",
       "      <td>{'in': {'ln_id': 'ec07229d021e0bce24c9023ae271...</td>\n",
       "      <td>Node</td>\n",
       "    </tr>\n",
       "    <tr>\n",
       "      <th>5</th>\n",
       "      <td>aab2f0341a867c69aaf4ec251f6141f6</td>\n",
       "      <td>2024-05-28T22:20:45.573702</td>\n",
       "      <td>{}</td>\n",
       "      <td>5</td>\n",
       "      <td>[]</td>\n",
       "      <td>{'in': {'ln_id': '1b4d1383aac877f3602732947994...</td>\n",
       "      <td>Node</td>\n",
       "    </tr>\n",
       "    <tr>\n",
       "      <th>6</th>\n",
       "      <td>6f07bd83d514796ca9c014c5c280a21f</td>\n",
       "      <td>2024-05-28T22:20:45.573736</td>\n",
       "      <td>{}</td>\n",
       "      <td>6</td>\n",
       "      <td>[]</td>\n",
       "      <td>{'in': {'ln_id': '988bc742396e0002adc7b00708ad...</td>\n",
       "      <td>Node</td>\n",
       "    </tr>\n",
       "    <tr>\n",
       "      <th>7</th>\n",
       "      <td>5e4128fb81b36812305d5d9dadb5a933</td>\n",
       "      <td>2024-05-28T22:20:45.573773</td>\n",
       "      <td>{}</td>\n",
       "      <td>7</td>\n",
       "      <td>[]</td>\n",
       "      <td>{'in': {'ln_id': '4399b98598eed1aa0fcba950055a...</td>\n",
       "      <td>Node</td>\n",
       "    </tr>\n",
       "    <tr>\n",
       "      <th>8</th>\n",
       "      <td>32897e7d34ce7debf6d168687be84860</td>\n",
       "      <td>2024-05-28T22:20:45.573813</td>\n",
       "      <td>{}</td>\n",
       "      <td>8</td>\n",
       "      <td>[]</td>\n",
       "      <td>{'in': {'ln_id': '0edb7a8839f72705ff862ad7a74b...</td>\n",
       "      <td>Node</td>\n",
       "    </tr>\n",
       "    <tr>\n",
       "      <th>9</th>\n",
       "      <td>e6edf082ca96b315f662929a756dcbee</td>\n",
       "      <td>2024-05-28T22:20:45.573846</td>\n",
       "      <td>{}</td>\n",
       "      <td>9</td>\n",
       "      <td>[]</td>\n",
       "      <td>{'in': {'ln_id': 'e86164e434a78c2edfbbea9eb96b...</td>\n",
       "      <td>Node</td>\n",
       "    </tr>\n",
       "  </tbody>\n",
       "</table>\n",
       "</div>"
      ],
      "text/plain": [
       "                              ln_id                     created metadata  \\\n",
       "0  fdc5c86db4b6b277af2c7212a243661f  2024-05-28T22:20:45.573493       {}   \n",
       "1  fe278ff099703a7096761bde278b54f9  2024-05-28T22:20:45.573560       {}   \n",
       "2  b03b1dc7f2cca0ee3fbec20191b80fc2  2024-05-28T22:20:45.573599       {}   \n",
       "3  7490c4aa8eb07f6a2cc295bdb119f1f4  2024-05-28T22:20:45.573634       {}   \n",
       "4  483113fc6f1e6d591550b9c52e5ad757  2024-05-28T22:20:45.573668       {}   \n",
       "5  aab2f0341a867c69aaf4ec251f6141f6  2024-05-28T22:20:45.573702       {}   \n",
       "6  6f07bd83d514796ca9c014c5c280a21f  2024-05-28T22:20:45.573736       {}   \n",
       "7  5e4128fb81b36812305d5d9dadb5a933  2024-05-28T22:20:45.573773       {}   \n",
       "8  32897e7d34ce7debf6d168687be84860  2024-05-28T22:20:45.573813       {}   \n",
       "9  e6edf082ca96b315f662929a756dcbee  2024-05-28T22:20:45.573846       {}   \n",
       "\n",
       "   content embedding                                          relations  \\\n",
       "0        0        []  {'in': {'ln_id': '5e5768f5de64808117b28ab88404...   \n",
       "1        1        []  {'in': {'ln_id': 'ca05e0d1cba52d16ba3da44ab2b8...   \n",
       "2        2        []  {'in': {'ln_id': 'dd27ad60adaa82e1071c198d98a2...   \n",
       "3        3        []  {'in': {'ln_id': 'a2c260e7cc90451c5a289d2a4d6e...   \n",
       "4        4        []  {'in': {'ln_id': 'ec07229d021e0bce24c9023ae271...   \n",
       "5        5        []  {'in': {'ln_id': '1b4d1383aac877f3602732947994...   \n",
       "6        6        []  {'in': {'ln_id': '988bc742396e0002adc7b00708ad...   \n",
       "7        7        []  {'in': {'ln_id': '4399b98598eed1aa0fcba950055a...   \n",
       "8        8        []  {'in': {'ln_id': '0edb7a8839f72705ff862ad7a74b...   \n",
       "9        9        []  {'in': {'ln_id': 'e86164e434a78c2edfbbea9eb96b...   \n",
       "\n",
       "  lion_class  \n",
       "0       Node  \n",
       "1       Node  \n",
       "2       Node  \n",
       "3       Node  \n",
       "4       Node  \n",
       "5       Node  \n",
       "6       Node  \n",
       "7       Node  \n",
       "8       Node  \n",
       "9       Node  "
      ]
     },
     "execution_count": 3,
     "metadata": {},
     "output_type": "execute_result"
    }
   ],
   "source": [
    "# let us check what's inside p1\n",
    "\n",
    "p1.to_df()"
   ]
  },
  {
   "cell_type": "code",
   "execution_count": 4,
   "metadata": {},
   "outputs": [],
   "source": [
    "# now let us create somke progression,\n",
    "\n",
    "prog1 = li.progression(p1[:5])\n",
    "prog2 = li.progression(p1[5:])"
   ]
  },
  {
   "cell_type": "code",
   "execution_count": 5,
   "metadata": {},
   "outputs": [
    {
     "data": {
      "text/plain": [
       "1"
      ]
     },
     "execution_count": 5,
     "metadata": {},
     "output_type": "execute_result"
    }
   ],
   "source": [
    "len(prog1)"
   ]
  },
  {
   "cell_type": "code",
   "execution_count": 6,
   "metadata": {},
   "outputs": [
    {
     "data": {
      "text/plain": [
       "'f1eb3a965d9921f6ac7aa8e03e803748'"
      ]
     },
     "execution_count": 6,
     "metadata": {},
     "output_type": "execute_result"
    }
   ],
   "source": [
    "prog1.ln_id"
   ]
  },
  {
   "cell_type": "code",
   "execution_count": 7,
   "metadata": {},
   "outputs": [],
   "source": [
    "p = li.pile([prog1, prog2], use_obj=True)\n",
    "\n",
    "f1 = li.flow(p)"
   ]
  },
  {
   "cell_type": "code",
   "execution_count": 8,
   "metadata": {},
   "outputs": [
    {
     "data": {
      "text/html": [
       "<div>\n",
       "<style scoped>\n",
       "    .dataframe tbody tr th:only-of-type {\n",
       "        vertical-align: middle;\n",
       "    }\n",
       "\n",
       "    .dataframe tbody tr th {\n",
       "        vertical-align: top;\n",
       "    }\n",
       "\n",
       "    .dataframe thead th {\n",
       "        text-align: right;\n",
       "    }\n",
       "</style>\n",
       "<table border=\"1\" class=\"dataframe\">\n",
       "  <thead>\n",
       "    <tr style=\"text-align: right;\">\n",
       "      <th></th>\n",
       "      <th>order</th>\n",
       "      <th>name</th>\n",
       "    </tr>\n",
       "  </thead>\n",
       "  <tbody>\n",
       "    <tr>\n",
       "      <th>0</th>\n",
       "      <td>[0744859e70ba4dea34b18f3ca506e1c0]</td>\n",
       "      <td>None</td>\n",
       "    </tr>\n",
       "    <tr>\n",
       "      <th>1</th>\n",
       "      <td>[c7ea3cd6d7ec696e7006740361df180e]</td>\n",
       "      <td>None</td>\n",
       "    </tr>\n",
       "  </tbody>\n",
       "</table>\n",
       "</div>"
      ],
      "text/plain": [
       "                                order  name\n",
       "0  [0744859e70ba4dea34b18f3ca506e1c0]  None\n",
       "1  [c7ea3cd6d7ec696e7006740361df180e]  None"
      ]
     },
     "execution_count": 8,
     "metadata": {},
     "output_type": "execute_result"
    }
   ],
   "source": [
    "f1.to_df()"
   ]
  },
  {
   "cell_type": "code",
   "execution_count": 9,
   "metadata": {},
   "outputs": [],
   "source": [
    "sequences = li.pile(p1[:5])"
   ]
  },
  {
   "cell_type": "code",
   "execution_count": 10,
   "metadata": {},
   "outputs": [],
   "source": [
    "f1 = li.flow(sequences)"
   ]
  },
  {
   "cell_type": "code",
   "execution_count": 11,
   "metadata": {},
   "outputs": [
    {
     "data": {
      "text/html": [
       "<div>\n",
       "<style scoped>\n",
       "    .dataframe tbody tr th:only-of-type {\n",
       "        vertical-align: middle;\n",
       "    }\n",
       "\n",
       "    .dataframe tbody tr th {\n",
       "        vertical-align: top;\n",
       "    }\n",
       "\n",
       "    .dataframe thead th {\n",
       "        text-align: right;\n",
       "    }\n",
       "</style>\n",
       "<table border=\"1\" class=\"dataframe\">\n",
       "  <thead>\n",
       "    <tr style=\"text-align: right;\">\n",
       "      <th></th>\n",
       "      <th>order</th>\n",
       "      <th>name</th>\n",
       "    </tr>\n",
       "  </thead>\n",
       "  <tbody>\n",
       "    <tr>\n",
       "      <th>0</th>\n",
       "      <td>[fdc5c86db4b6b277af2c7212a243661f]</td>\n",
       "      <td>fdc5c86db4b6b277af2c7212a243661f</td>\n",
       "    </tr>\n",
       "    <tr>\n",
       "      <th>1</th>\n",
       "      <td>[fe278ff099703a7096761bde278b54f9]</td>\n",
       "      <td>fe278ff099703a7096761bde278b54f9</td>\n",
       "    </tr>\n",
       "    <tr>\n",
       "      <th>2</th>\n",
       "      <td>[b03b1dc7f2cca0ee3fbec20191b80fc2]</td>\n",
       "      <td>b03b1dc7f2cca0ee3fbec20191b80fc2</td>\n",
       "    </tr>\n",
       "    <tr>\n",
       "      <th>3</th>\n",
       "      <td>[7490c4aa8eb07f6a2cc295bdb119f1f4]</td>\n",
       "      <td>7490c4aa8eb07f6a2cc295bdb119f1f4</td>\n",
       "    </tr>\n",
       "    <tr>\n",
       "      <th>4</th>\n",
       "      <td>[483113fc6f1e6d591550b9c52e5ad757]</td>\n",
       "      <td>483113fc6f1e6d591550b9c52e5ad757</td>\n",
       "    </tr>\n",
       "  </tbody>\n",
       "</table>\n",
       "</div>"
      ],
      "text/plain": [
       "                                order                              name\n",
       "0  [fdc5c86db4b6b277af2c7212a243661f]  fdc5c86db4b6b277af2c7212a243661f\n",
       "1  [fe278ff099703a7096761bde278b54f9]  fe278ff099703a7096761bde278b54f9\n",
       "2  [b03b1dc7f2cca0ee3fbec20191b80fc2]  b03b1dc7f2cca0ee3fbec20191b80fc2\n",
       "3  [7490c4aa8eb07f6a2cc295bdb119f1f4]  7490c4aa8eb07f6a2cc295bdb119f1f4\n",
       "4  [483113fc6f1e6d591550b9c52e5ad757]  483113fc6f1e6d591550b9c52e5ad757"
      ]
     },
     "execution_count": 11,
     "metadata": {},
     "output_type": "execute_result"
    }
   ],
   "source": [
    "f1.to_df()"
   ]
  },
  {
   "cell_type": "code",
   "execution_count": 12,
   "metadata": {},
   "outputs": [
    {
     "name": "stdout",
     "output_type": "stream",
     "text": [
      "ln_id         36cc1ab9bd1098449008a6ebbc4f1650\n",
      "created             2024-05-28T22:20:45.622392\n",
      "metadata                                    {}\n",
      "content                                      A\n",
      "embedding                                   []\n",
      "relations                               [0, 0]\n",
      "lion_class                                Node\n",
      "dtype: object\n"
     ]
    }
   ],
   "source": [
    "# let us begin with creating a few nodes\n",
    "\n",
    "nodes = [li.Node(content=i) for i in [\"A\", \"B\", \"C\", \"D\", \"E\", \"F\", \"G\", \"H\"]]\n",
    "print(nodes[0])"
   ]
  },
  {
   "cell_type": "code",
   "execution_count": null,
   "metadata": {},
   "outputs": [],
   "source": []
  },
  {
   "cell_type": "code",
   "execution_count": 13,
   "metadata": {},
   "outputs": [
    {
     "data": {
      "text/html": [
       "<div>\n",
       "<style scoped>\n",
       "    .dataframe tbody tr th:only-of-type {\n",
       "        vertical-align: middle;\n",
       "    }\n",
       "\n",
       "    .dataframe tbody tr th {\n",
       "        vertical-align: top;\n",
       "    }\n",
       "\n",
       "    .dataframe thead th {\n",
       "        text-align: right;\n",
       "    }\n",
       "</style>\n",
       "<table border=\"1\" class=\"dataframe\">\n",
       "  <thead>\n",
       "    <tr style=\"text-align: right;\">\n",
       "      <th></th>\n",
       "      <th>ln_id</th>\n",
       "      <th>created</th>\n",
       "      <th>metadata</th>\n",
       "      <th>content</th>\n",
       "      <th>embedding</th>\n",
       "      <th>relations</th>\n",
       "      <th>lion_class</th>\n",
       "    </tr>\n",
       "  </thead>\n",
       "  <tbody>\n",
       "    <tr>\n",
       "      <th>0</th>\n",
       "      <td>36cc1ab9bd1098449008a6ebbc4f1650</td>\n",
       "      <td>2024-05-28T22:20:45.622392</td>\n",
       "      <td>{}</td>\n",
       "      <td>A</td>\n",
       "      <td>[]</td>\n",
       "      <td>{'in': {'ln_id': 'ddbc3cddbcd00d278f70e7edb6a2...</td>\n",
       "      <td>Node</td>\n",
       "    </tr>\n",
       "    <tr>\n",
       "      <th>1</th>\n",
       "      <td>833bb2d2a16e6a053b667bdf33526e07</td>\n",
       "      <td>2024-05-28T22:20:45.622628</td>\n",
       "      <td>{}</td>\n",
       "      <td>B</td>\n",
       "      <td>[]</td>\n",
       "      <td>{'in': {'ln_id': '3f6732ed505e3cbcfd3f54ad8507...</td>\n",
       "      <td>Node</td>\n",
       "    </tr>\n",
       "    <tr>\n",
       "      <th>2</th>\n",
       "      <td>8f349af2eeb7f3f3db45fe1c3c95fe32</td>\n",
       "      <td>2024-05-28T22:20:45.622679</td>\n",
       "      <td>{}</td>\n",
       "      <td>C</td>\n",
       "      <td>[]</td>\n",
       "      <td>{'in': {'ln_id': '13f51e21c3c437aa8f1eec7cab73...</td>\n",
       "      <td>Node</td>\n",
       "    </tr>\n",
       "    <tr>\n",
       "      <th>3</th>\n",
       "      <td>3078c6664384a55b47dc498d521cd19a</td>\n",
       "      <td>2024-05-28T22:20:45.622718</td>\n",
       "      <td>{}</td>\n",
       "      <td>D</td>\n",
       "      <td>[]</td>\n",
       "      <td>{'in': {'ln_id': 'ad676a7b86cdb5346c0119ee8930...</td>\n",
       "      <td>Node</td>\n",
       "    </tr>\n",
       "    <tr>\n",
       "      <th>4</th>\n",
       "      <td>a7f4143aac7bab36f4e7f1d50cadab84</td>\n",
       "      <td>2024-05-28T22:20:45.623413</td>\n",
       "      <td>{}</td>\n",
       "      <td>E</td>\n",
       "      <td>[]</td>\n",
       "      <td>{'in': {'ln_id': '5354b011fea66c98830a151e56cf...</td>\n",
       "      <td>Node</td>\n",
       "    </tr>\n",
       "  </tbody>\n",
       "</table>\n",
       "</div>"
      ],
      "text/plain": [
       "                              ln_id                     created metadata  \\\n",
       "0  36cc1ab9bd1098449008a6ebbc4f1650  2024-05-28T22:20:45.622392       {}   \n",
       "1  833bb2d2a16e6a053b667bdf33526e07  2024-05-28T22:20:45.622628       {}   \n",
       "2  8f349af2eeb7f3f3db45fe1c3c95fe32  2024-05-28T22:20:45.622679       {}   \n",
       "3  3078c6664384a55b47dc498d521cd19a  2024-05-28T22:20:45.622718       {}   \n",
       "4  a7f4143aac7bab36f4e7f1d50cadab84  2024-05-28T22:20:45.623413       {}   \n",
       "\n",
       "  content embedding                                          relations  \\\n",
       "0       A        []  {'in': {'ln_id': 'ddbc3cddbcd00d278f70e7edb6a2...   \n",
       "1       B        []  {'in': {'ln_id': '3f6732ed505e3cbcfd3f54ad8507...   \n",
       "2       C        []  {'in': {'ln_id': '13f51e21c3c437aa8f1eec7cab73...   \n",
       "3       D        []  {'in': {'ln_id': 'ad676a7b86cdb5346c0119ee8930...   \n",
       "4       E        []  {'in': {'ln_id': '5354b011fea66c98830a151e56cf...   \n",
       "\n",
       "  lion_class  \n",
       "0       Node  \n",
       "1       Node  \n",
       "2       Node  \n",
       "3       Node  \n",
       "4       Node  "
      ]
     },
     "execution_count": 13,
     "metadata": {},
     "output_type": "execute_result"
    }
   ],
   "source": [
    "# now let us put these into a pile, a lionagi data structure that can be used to store lionagi obejcts\n",
    "p1 = li.pile(nodes)\n",
    "\n",
    "# you can check the details of each node by converting the pile to a dataframe\n",
    "p1.to_df().head()"
   ]
  },
  {
   "cell_type": "code",
   "execution_count": 14,
   "metadata": {},
   "outputs": [
    {
     "data": {
      "text/plain": [
       "{'ln_id': '36cc1ab9bd1098449008a6ebbc4f1650',\n",
       " 'created': '2024-05-28T22:20:45.622392',\n",
       " 'metadata': {},\n",
       " 'content': 'A',\n",
       " 'embedding': [],\n",
       " 'relations': {'in': {'ln_id': 'ddbc3cddbcd00d278f70e7edb6a2c146',\n",
       "   'created': '2024-05-28T22:20:45.622450',\n",
       "   'use_obj': False,\n",
       "   'pile': {},\n",
       "   'item_type': None,\n",
       "   'name': None,\n",
       "   'order': [],\n",
       "   'index': None,\n",
       "   'engines': {},\n",
       "   'query_response': [],\n",
       "   'tools': {}},\n",
       "  'out': {'ln_id': 'da73833fe0a1f3b9a896b1d572b13337',\n",
       "   'created': '2024-05-28T22:20:45.622507',\n",
       "   'use_obj': False,\n",
       "   'pile': {},\n",
       "   'item_type': None,\n",
       "   'name': None,\n",
       "   'order': [],\n",
       "   'index': None,\n",
       "   'engines': {},\n",
       "   'query_response': [],\n",
       "   'tools': {}}},\n",
       " 'lion_class': 'Node'}"
      ]
     },
     "execution_count": 14,
     "metadata": {},
     "output_type": "execute_result"
    }
   ],
   "source": [
    "# if you wish to see the all information of a particular node you can also\n",
    "\n",
    "p1[0].to_dict()"
   ]
  },
  {
   "cell_type": "code",
   "execution_count": 15,
   "metadata": {},
   "outputs": [
    {
     "data": {
      "text/plain": [
       "'36cc1ab9bd1098449008a6ebbc4f1650'"
      ]
     },
     "execution_count": 15,
     "metadata": {},
     "output_type": "execute_result"
    }
   ],
   "source": [
    "# using progression, you can use progression to keep track of orders of nodes\n",
    "\n",
    "prog1 = li.progression(nodes[:5])\n",
    "prog2 = li.progression(nodes[5:])\n",
    "\n",
    "\n",
    "# the item in a progression is a list of lionagi object id in order\n",
    "prog1.order[0]"
   ]
  },
  {
   "cell_type": "code",
   "execution_count": 16,
   "metadata": {},
   "outputs": [
    {
     "data": {
      "text/plain": [
       "'36cc1ab9bd1098449008a6ebbc4f1650'"
      ]
     },
     "execution_count": 16,
     "metadata": {},
     "output_type": "execute_result"
    }
   ],
   "source": [
    "prog1[0]"
   ]
  },
  {
   "cell_type": "code",
   "execution_count": 17,
   "metadata": {},
   "outputs": [],
   "source": [
    "# you can also name the progression\n",
    "prog1.name = \"left\"\n",
    "prog2.name = \"right\"\n",
    "\n",
    "# now let us put these into a flow\n",
    "\n",
    "f1 = li.flow([prog1, prog2])"
   ]
  },
  {
   "cell_type": "code",
   "execution_count": 18,
   "metadata": {},
   "outputs": [
    {
     "data": {
      "text/plain": [
       "'left'"
      ]
     },
     "execution_count": 18,
     "metadata": {},
     "output_type": "execute_result"
    }
   ],
   "source": [
    "prog1.name"
   ]
  },
  {
   "cell_type": "code",
   "execution_count": 19,
   "metadata": {},
   "outputs": [
    {
     "data": {
      "text/plain": [
       "{'left': 'a641541429d12fbd51c807a13cce789f',\n",
       " 'right': '84ecba884aa04971646bb70d4a8dd6c9'}"
      ]
     },
     "execution_count": 19,
     "metadata": {},
     "output_type": "execute_result"
    }
   ],
   "source": [
    "f1.registry"
   ]
  },
  {
   "cell_type": "code",
   "execution_count": 20,
   "metadata": {},
   "outputs": [
    {
     "data": {
      "text/plain": [
       "{'left': 'a641541429d12fbd51c807a13cce789f',\n",
       " 'right': '84ecba884aa04971646bb70d4a8dd6c9'}"
      ]
     },
     "execution_count": 20,
     "metadata": {},
     "output_type": "execute_result"
    }
   ],
   "source": [
    "f1.registry"
   ]
  },
  {
   "cell_type": "code",
   "execution_count": null,
   "metadata": {},
   "outputs": [],
   "source": []
  },
  {
   "cell_type": "code",
   "execution_count": 21,
   "metadata": {},
   "outputs": [
    {
     "data": {
      "text/plain": [
       "Progression(['36cc1ab9bd1098449008a6ebbc4f1650', '833bb2d2a16e6a053b667bdf33526e07', '8f349af2eeb7f3f3db45fe1c3c95fe32', '3078c6664384a55b47dc498d521cd19a', 'a7f4143aac7bab36f4e7f1d50cadab84'])"
      ]
     },
     "execution_count": 21,
     "metadata": {},
     "output_type": "execute_result"
    }
   ],
   "source": [
    "f1.get(\"left\")"
   ]
  },
  {
   "cell_type": "code",
   "execution_count": 22,
   "metadata": {},
   "outputs": [],
   "source": [
    "f1.sequences[\"left\"]"
   ]
  },
  {
   "cell_type": "code",
   "execution_count": 23,
   "metadata": {},
   "outputs": [
    {
     "name": "stdout",
     "output_type": "stream",
     "text": [
      "['36cc1ab9bd1098449008a6ebbc4f1650', '833bb2d2a16e6a053b667bdf33526e07', '8f349af2eeb7f3f3db45fe1c3c95fe32', '3078c6664384a55b47dc498d521cd19a', 'a7f4143aac7bab36f4e7f1d50cadab84']\n",
      "['9d8da438c67e6677afef1359d2dad947', '437d9dd449f688a37f680615bc24a7a4', '0f43678f07be9eddee1b3ee06b97dec0']\n"
     ]
    }
   ],
   "source": [
    "# iterate over each progression value\n",
    "for i in f1.all_orders():\n",
    "    print(i)"
   ]
  },
  {
   "cell_type": "code",
   "execution_count": 24,
   "metadata": {},
   "outputs": [
    {
     "data": {
      "text/plain": [
       "Progression(['36cc1ab9bd1098449008a6ebbc4f1650', '833bb2d2a16e6a053b667bdf33526e07', '8f349af2eeb7f3f3db45fe1c3c95fe32', '3078c6664384a55b47dc498d521cd19a', 'a7f4143aac7bab36f4e7f1d50cadab84'])"
      ]
     },
     "execution_count": 24,
     "metadata": {},
     "output_type": "execute_result"
    }
   ],
   "source": [
    "f1[0]"
   ]
  },
  {
   "cell_type": "code",
   "execution_count": 25,
   "metadata": {},
   "outputs": [
    {
     "data": {
      "text/plain": [
       "                                               order   name\n",
       "0  [36cc1ab9bd1098449008a6ebbc4f1650, 833bb2d2a16...   left\n",
       "1  [9d8da438c67e6677afef1359d2dad947, 437d9dd449f...  right"
      ]
     },
     "execution_count": 25,
     "metadata": {},
     "output_type": "execute_result"
    }
   ],
   "source": [
    "f1.sequences"
   ]
  },
  {
   "cell_type": "code",
   "execution_count": 26,
   "metadata": {},
   "outputs": [
    {
     "data": {
      "text/plain": [
       "Progression(['36cc1ab9bd1098449008a6ebbc4f1650', '833bb2d2a16e6a053b667bdf33526e07', '8f349af2eeb7f3f3db45fe1c3c95fe32', '3078c6664384a55b47dc498d521cd19a', 'a7f4143aac7bab36f4e7f1d50cadab84'])"
      ]
     },
     "execution_count": 26,
     "metadata": {},
     "output_type": "execute_result"
    }
   ],
   "source": [
    "f1.get(\"left\")"
   ]
  },
  {
   "cell_type": "code",
   "execution_count": 27,
   "metadata": {},
   "outputs": [
    {
     "data": {
      "text/plain": [
       "{'left': 'a641541429d12fbd51c807a13cce789f',\n",
       " 'right': '84ecba884aa04971646bb70d4a8dd6c9'}"
      ]
     },
     "execution_count": 27,
     "metadata": {},
     "output_type": "execute_result"
    }
   ],
   "source": [
    "f1.registry"
   ]
  },
  {
   "cell_type": "code",
   "execution_count": 28,
   "metadata": {},
   "outputs": [
    {
     "data": {
      "text/plain": [
       "'left'"
      ]
     },
     "execution_count": 28,
     "metadata": {},
     "output_type": "execute_result"
    }
   ],
   "source": [
    "f1.sequences[0].name"
   ]
  },
  {
   "cell_type": "code",
   "execution_count": 29,
   "metadata": {},
   "outputs": [
    {
     "data": {
      "text/plain": [
       "Progression(['833bb2d2a16e6a053b667bdf33526e07', '8f349af2eeb7f3f3db45fe1c3c95fe32'])"
      ]
     },
     "execution_count": 29,
     "metadata": {},
     "output_type": "execute_result"
    }
   ],
   "source": [
    "f1[\"left\"][1:3]"
   ]
  },
  {
   "cell_type": "code",
   "execution_count": 30,
   "metadata": {},
   "outputs": [
    {
     "data": {
      "text/plain": [
       "Progression(['833bb2d2a16e6a053b667bdf33526e07', '8f349af2eeb7f3f3db45fe1c3c95fe32'])"
      ]
     },
     "execution_count": 30,
     "metadata": {},
     "output_type": "execute_result"
    }
   ],
   "source": [
    "f1[prog1][1:3]"
   ]
  },
  {
   "cell_type": "code",
   "execution_count": 31,
   "metadata": {},
   "outputs": [
    {
     "data": {
      "text/plain": [
       "Progression(['833bb2d2a16e6a053b667bdf33526e07', '8f349af2eeb7f3f3db45fe1c3c95fe32'])"
      ]
     },
     "execution_count": 31,
     "metadata": {},
     "output_type": "execute_result"
    }
   ],
   "source": [
    "prog1[1:3]"
   ]
  },
  {
   "cell_type": "code",
   "execution_count": 32,
   "metadata": {},
   "outputs": [
    {
     "data": {
      "text/html": [
       "<div>\n",
       "<style scoped>\n",
       "    .dataframe tbody tr th:only-of-type {\n",
       "        vertical-align: middle;\n",
       "    }\n",
       "\n",
       "    .dataframe tbody tr th {\n",
       "        vertical-align: top;\n",
       "    }\n",
       "\n",
       "    .dataframe thead th {\n",
       "        text-align: right;\n",
       "    }\n",
       "</style>\n",
       "<table border=\"1\" class=\"dataframe\">\n",
       "  <thead>\n",
       "    <tr style=\"text-align: right;\">\n",
       "      <th></th>\n",
       "      <th>order</th>\n",
       "      <th>name</th>\n",
       "    </tr>\n",
       "  </thead>\n",
       "  <tbody>\n",
       "    <tr>\n",
       "      <th>0</th>\n",
       "      <td>[36cc1ab9bd1098449008a6ebbc4f1650, 833bb2d2a16...</td>\n",
       "      <td>left</td>\n",
       "    </tr>\n",
       "    <tr>\n",
       "      <th>1</th>\n",
       "      <td>[9d8da438c67e6677afef1359d2dad947, 437d9dd449f...</td>\n",
       "      <td>right</td>\n",
       "    </tr>\n",
       "  </tbody>\n",
       "</table>\n",
       "</div>"
      ],
      "text/plain": [
       "                                               order   name\n",
       "0  [36cc1ab9bd1098449008a6ebbc4f1650, 833bb2d2a16...   left\n",
       "1  [9d8da438c67e6677afef1359d2dad947, 437d9dd449f...  right"
      ]
     },
     "execution_count": 32,
     "metadata": {},
     "output_type": "execute_result"
    }
   ],
   "source": [
    "# sequences in a flow is a pile of progression objects\n",
    "# unlike a pile, which can only contain unique lionagi objects, a progression can have more than one occurance of ln_id,\n",
    "\n",
    "f1.sequences.to_df()"
   ]
  },
  {
   "cell_type": "code",
   "execution_count": null,
   "metadata": {},
   "outputs": [],
   "source": []
  },
  {
   "cell_type": "code",
   "execution_count": null,
   "metadata": {},
   "outputs": [],
   "source": []
  }
 ],
 "metadata": {
  "kernelspec": {
   "display_name": ".venv",
   "language": "python",
   "name": "python3"
  },
  "language_info": {
   "codemirror_mode": {
    "name": "ipython",
    "version": 3
   },
   "file_extension": ".py",
   "mimetype": "text/x-python",
   "name": "python",
   "nbconvert_exporter": "python",
   "pygments_lexer": "ipython3",
   "version": "3.12.1"
  }
 },
 "nbformat": 4,
 "nbformat_minor": 2
}
