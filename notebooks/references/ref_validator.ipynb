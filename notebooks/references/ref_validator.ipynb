{
 "cells": [
  {
   "cell_type": "code",
   "execution_count": 1,
   "metadata": {},
   "outputs": [],
   "source": [
    "import lionagi as li"
   ]
  },
  {
   "cell_type": "code",
   "execution_count": 2,
   "metadata": {},
   "outputs": [],
   "source": [
    "from enum import Enum\n",
    "\n",
    "class BikeModel(int, Enum):\n",
    "    TIERA = 200\n",
    "    TIERB = 100\n",
    "    TIERC = 50\n",
    "    \n",
    "class RepairService(int, Enum):\n",
    "    DEFAULT_REPAIR = 100\n",
    "    PREMIUM_REPAIR = 200\n",
    "    EXPRESS_REPAIR = 300\n",
    "\n",
    "class BikeRepairInvoice(li.Form):\n",
    "\n",
    "    assignment: str = \"bike_price, repair_price -> total_amount\"\n",
    "    total_amount: float = li.Field(\n",
    "        None, \n",
    "        description=\"The total amount of the invoice.\"\n",
    "    )\n",
    "    \n",
    "    bike_price: Enum | int = li.Field(\n",
    "        None, \n",
    "        keys=BikeModel, \n",
    "        description=\"The price of a specific bike model.\"\n",
    "    )\n",
    "\n",
    "    repair_price: Enum | int = li.Field(\n",
    "        None, \n",
    "        keys=RepairService,\n",
    "        description = \"The price of a specific repair service.\"\n",
    "    )\n"
   ]
  },
  {
   "cell_type": "code",
   "execution_count": 3,
   "metadata": {},
   "outputs": [],
   "source": [
    "\n",
    "instruction = \"\"\"\n",
    "calculate the total amount of a bike repair invoice using the bike price and repair service price.\n",
    "\"\"\"\n",
    "\n",
    "form = BikeRepairInvoice(bike_price=200, repair_price=100)"
   ]
  },
  {
   "cell_type": "code",
   "execution_count": 4,
   "metadata": {},
   "outputs": [],
   "source": [
    "branch = li.Branch()\n",
    "\n",
    "b = await branch.chat(instruction=instruction, form=form)"
   ]
  },
  {
   "cell_type": "code",
   "execution_count": 5,
   "metadata": {},
   "outputs": [
    {
     "data": {
      "text/plain": [
       "Message(role=assistant, sender=eab05e5cca9f1d08ea15b8ebf7fa66b5, content='{'assistant_response': \"```json\\n{'total_amount': 300}\\n```\"}')"
      ]
     },
     "execution_count": 5,
     "metadata": {},
     "output_type": "execute_result"
    }
   ],
   "source": [
    "branch.messages[-1]"
   ]
  },
  {
   "cell_type": "code",
   "execution_count": 6,
   "metadata": {},
   "outputs": [
    {
     "data": {
      "text/plain": [
       "{'assistant_response': \"```json\\n{'total_amount': 300}\\n```\"}"
      ]
     },
     "execution_count": 6,
     "metadata": {},
     "output_type": "execute_result"
    }
   ],
   "source": [
    "branch.messages[-1].content"
   ]
  },
  {
   "cell_type": "code",
   "execution_count": 7,
   "metadata": {},
   "outputs": [
    {
     "data": {
      "text/plain": [
       "{'ln_id': '6995cd79825803d63b75b56825a3f952',\n",
       " 'created': '2024-05-14T02:08:41.578413',\n",
       " 'metadata': {'last_updated': {'input_fields': '2024-05-14T02:08:41.578453',\n",
       "   'requested_fields': '2024-05-14T02:08:41.578468',\n",
       "   'total_amount': '2024-05-14T02:08:42.294284'}},\n",
       " 'content': None,\n",
       " 'assignment': 'bike_price, repair_price -> total_amount',\n",
       " 'input_fields': ['bike_price', 'repair_price'],\n",
       " 'requested_fields': ['total_amount'],\n",
       " 'task': '',\n",
       " 'validation_kwargs': {},\n",
       " 'total_amount': 300,\n",
       " 'bike_price': 200,\n",
       " 'repair_price': 100}"
      ]
     },
     "execution_count": 7,
     "metadata": {},
     "output_type": "execute_result"
    }
   ],
   "source": [
    "b.to_dict()"
   ]
  },
  {
   "cell_type": "code",
   "execution_count": 8,
   "metadata": {},
   "outputs": [],
   "source": [
    "\n",
    "form2 = BikeRepairInvoice(\n",
    "    assignment = \"total_amount, bike_price -> repair_price\",\n",
    "    total_amount=300,\n",
    "    bike_price=100\n",
    ")\n",
    "\n",
    "instruction2 = \"\"\"\n",
    "given the total amount and cost of bike model, find the repair service cost, return as an int, \n",
    "hint: repair_service = amount - bike_model\n",
    "\"\"\"\n"
   ]
  },
  {
   "cell_type": "code",
   "execution_count": 9,
   "metadata": {},
   "outputs": [],
   "source": [
    "branch = li.Branch()\n",
    "\n",
    "c = await branch.chat(instruction=instruction2, form=form2)\n"
   ]
  },
  {
   "cell_type": "code",
   "execution_count": 10,
   "metadata": {},
   "outputs": [
    {
     "data": {
      "text/plain": [
       "{'assistant_response': \"```json\\n{'repair_price': 200.0}\\n```\"}"
      ]
     },
     "execution_count": 10,
     "metadata": {},
     "output_type": "execute_result"
    }
   ],
   "source": [
    "branch.messages[-1].content"
   ]
  },
  {
   "cell_type": "code",
   "execution_count": 11,
   "metadata": {},
   "outputs": [
    {
     "data": {
      "text/plain": [
       "{'ln_id': '53827f7f4b0603af543aa27bbcf6fc88',\n",
       " 'created': '2024-05-14T02:08:42.314650',\n",
       " 'metadata': {'last_updated': {'input_fields': '2024-05-14T02:08:42.314836',\n",
       "   'requested_fields': '2024-05-14T02:08:42.314854',\n",
       "   'repair_price': '2024-05-14T02:08:43.045693'}},\n",
       " 'content': None,\n",
       " 'assignment': 'total_amount, bike_price -> repair_price',\n",
       " 'input_fields': ['total_amount', 'bike_price'],\n",
       " 'requested_fields': ['repair_price'],\n",
       " 'task': '',\n",
       " 'validation_kwargs': {},\n",
       " 'total_amount': 300.0,\n",
       " 'bike_price': 100,\n",
       " 'repair_price': 200.0}"
      ]
     },
     "execution_count": 11,
     "metadata": {},
     "output_type": "execute_result"
    }
   ],
   "source": [
    "c.to_dict()"
   ]
  }
 ],
 "metadata": {
  "kernelspec": {
   "display_name": ".venv",
   "language": "python",
   "name": "python3"
  },
  "language_info": {
   "codemirror_mode": {
    "name": "ipython",
    "version": 3
   },
   "file_extension": ".py",
   "mimetype": "text/x-python",
   "name": "python",
   "nbconvert_exporter": "python",
   "pygments_lexer": "ipython3",
   "version": "3.11.6"
  }
 },
 "nbformat": 4,
 "nbformat_minor": 2
}
