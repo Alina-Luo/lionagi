{
 "cells": [
  {
   "cell_type": "code",
   "execution_count": 1,
   "metadata": {},
   "outputs": [],
   "source": [
    "from lionagi.core.generic.abc import Component\n",
    "from lionagi.core.generic import Edge"
   ]
  },
  {
   "cell_type": "code",
   "execution_count": 2,
   "metadata": {},
   "outputs": [],
   "source": [
    "node1 = Component()\n",
    "node2 = Component()"
   ]
  },
  {
   "cell_type": "code",
   "execution_count": 3,
   "metadata": {},
   "outputs": [],
   "source": [
    "edge1 = Edge(head=node1, tail=node2)"
   ]
  },
  {
   "cell_type": "code",
   "execution_count": 4,
   "metadata": {},
   "outputs": [
    {
     "data": {
      "text/plain": [
       "{'ln_id': '2252ef4f7b0509a5faee4d28c52b37e0',\n",
       " 'created': '2024-05-14T02:06:40.300575',\n",
       " 'metadata': {},\n",
       " 'content': None,\n",
       " 'head': 'ae581fde1783a854ed0f35875d2bb0d5',\n",
       " 'tail': 'd7e531e8b8b7cb67d38842ef0330ef23',\n",
       " 'condition': None,\n",
       " 'label': None,\n",
       " 'bundle': False}"
      ]
     },
     "execution_count": 4,
     "metadata": {},
     "output_type": "execute_result"
    }
   ],
   "source": [
    "edge1.to_dict()"
   ]
  },
  {
   "cell_type": "code",
   "execution_count": 5,
   "metadata": {},
   "outputs": [
    {
     "data": {
      "text/plain": [
       "ln_id         2252ef4f7b0509a5faee4d28c52b37e0\n",
       "created             2024-05-14T02:06:40.300575\n",
       "metadata                                    {}\n",
       "content                                   None\n",
       "head          ae581fde1783a854ed0f35875d2bb0d5\n",
       "tail          d7e531e8b8b7cb67d38842ef0330ef23\n",
       "condition                                 None\n",
       "label                                     None\n",
       "bundle                                   False\n",
       "class_name                                Edge\n",
       "dtype: object"
      ]
     },
     "execution_count": 5,
     "metadata": {},
     "output_type": "execute_result"
    }
   ],
   "source": [
    "edge1"
   ]
  },
  {
   "cell_type": "code",
   "execution_count": null,
   "metadata": {},
   "outputs": [],
   "source": []
  }
 ],
 "metadata": {
  "kernelspec": {
   "display_name": ".venv",
   "language": "python",
   "name": "python3"
  },
  "language_info": {
   "codemirror_mode": {
    "name": "ipython",
    "version": 3
   },
   "file_extension": ".py",
   "mimetype": "text/x-python",
   "name": "python",
   "nbconvert_exporter": "python",
   "pygments_lexer": "ipython3",
   "version": "3.11.6"
  }
 },
 "nbformat": 4,
 "nbformat_minor": 2
}
