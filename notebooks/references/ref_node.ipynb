{
 "cells": [
  {
   "cell_type": "code",
   "execution_count": 1,
   "metadata": {},
   "outputs": [],
   "source": [
    "from lionagi.core.generic import Node"
   ]
  },
  {
   "cell_type": "code",
   "execution_count": 2,
   "metadata": {},
   "outputs": [],
   "source": [
    "# create 10 nodes\n",
    "a, b, c = Node(), Node(), Node()"
   ]
  },
  {
   "cell_type": "code",
   "execution_count": 3,
   "metadata": {},
   "outputs": [],
   "source": [
    "a.relate(b, \"out\")  # outgoing relation, a is head\n",
    "a.relate(c, \"in\")  # incoming relation, a is tail"
   ]
  },
  {
   "cell_type": "code",
   "execution_count": 4,
   "metadata": {},
   "outputs": [
    {
     "data": {
      "text/plain": [
       "['908ffd19146a7831d9b2d1a9892f8bfe']"
      ]
     },
     "execution_count": 4,
     "metadata": {},
     "output_type": "execute_result"
    }
   ],
   "source": [
    "a.predecessors"
   ]
  },
  {
   "cell_type": "code",
   "execution_count": 5,
   "metadata": {},
   "outputs": [
    {
     "data": {
      "text/plain": [
       "['451711ff6d088d1480cedf949787955d']"
      ]
     },
     "execution_count": 5,
     "metadata": {},
     "output_type": "execute_result"
    }
   ],
   "source": [
    "a.successors"
   ]
  },
  {
   "cell_type": "code",
   "execution_count": 6,
   "metadata": {},
   "outputs": [
    {
     "name": "stdout",
     "output_type": "stream",
     "text": [
      "ln_id         8040e746e68953ef7d38088146452ea1\n",
      "created             2024-05-14T02:09:33.304702\n",
      "metadata                                    {}\n",
      "content                                   None\n",
      "head          908ffd19146a7831d9b2d1a9892f8bfe\n",
      "tail          d5100be6f786f545931f321c32d167e5\n",
      "condition                                 None\n",
      "label                                     None\n",
      "bundle                                   False\n",
      "class_name                                Edge\n",
      "dtype: object\n",
      "ln_id         77869eedcdaba2a6aa21f5da74000ea2\n",
      "created             2024-05-14T02:09:33.304591\n",
      "metadata                                    {}\n",
      "content                                   None\n",
      "head          d5100be6f786f545931f321c32d167e5\n",
      "tail          451711ff6d088d1480cedf949787955d\n",
      "condition                                 None\n",
      "label                                     None\n",
      "bundle                                   False\n",
      "class_name                                Edge\n",
      "dtype: object\n"
     ]
    }
   ],
   "source": [
    "for i in a.edges:\n",
    "    print(i)"
   ]
  },
  {
   "cell_type": "code",
   "execution_count": 7,
   "metadata": {},
   "outputs": [
    {
     "data": {
      "text/plain": [
       "['451711ff6d088d1480cedf949787955d', '908ffd19146a7831d9b2d1a9892f8bfe']"
      ]
     },
     "execution_count": 7,
     "metadata": {},
     "output_type": "execute_result"
    }
   ],
   "source": [
    "a.related_nodes"
   ]
  },
  {
   "cell_type": "code",
   "execution_count": 8,
   "metadata": {},
   "outputs": [
    {
     "data": {
      "text/plain": [
       "{'out': {'451711ff6d088d1480cedf949787955d': [ln_id         77869eedcdaba2a6aa21f5da74000ea2\n",
       "   created             2024-05-14T02:09:33.304591\n",
       "   metadata                                    {}\n",
       "   content                                   None\n",
       "   head          d5100be6f786f545931f321c32d167e5\n",
       "   tail          451711ff6d088d1480cedf949787955d\n",
       "   condition                                 None\n",
       "   label                                     None\n",
       "   bundle                                   False\n",
       "   class_name                                Edge\n",
       "   dtype: object]},\n",
       " 'in': {'908ffd19146a7831d9b2d1a9892f8bfe': [ln_id         8040e746e68953ef7d38088146452ea1\n",
       "   created             2024-05-14T02:09:33.304702\n",
       "   metadata                                    {}\n",
       "   content                                   None\n",
       "   head          908ffd19146a7831d9b2d1a9892f8bfe\n",
       "   tail          d5100be6f786f545931f321c32d167e5\n",
       "   condition                                 None\n",
       "   label                                     None\n",
       "   bundle                                   False\n",
       "   class_name                                Edge\n",
       "   dtype: object]}}"
      ]
     },
     "execution_count": 8,
     "metadata": {},
     "output_type": "execute_result"
    }
   ],
   "source": [
    "a.node_relations"
   ]
  },
  {
   "cell_type": "code",
   "execution_count": 9,
   "metadata": {},
   "outputs": [
    {
     "data": {
      "text/plain": [
       "2"
      ]
     },
     "execution_count": 9,
     "metadata": {},
     "output_type": "execute_result"
    }
   ],
   "source": [
    "len(a.edges)"
   ]
  },
  {
   "cell_type": "code",
   "execution_count": 10,
   "metadata": {},
   "outputs": [
    {
     "data": {
      "text/html": [
       "<div>\n",
       "<style scoped>\n",
       "    .dataframe tbody tr th:only-of-type {\n",
       "        vertical-align: middle;\n",
       "    }\n",
       "\n",
       "    .dataframe tbody tr th {\n",
       "        vertical-align: top;\n",
       "    }\n",
       "\n",
       "    .dataframe thead th {\n",
       "        text-align: right;\n",
       "    }\n",
       "</style>\n",
       "<table border=\"1\" class=\"dataframe\">\n",
       "  <thead>\n",
       "    <tr style=\"text-align: right;\">\n",
       "      <th></th>\n",
       "      <th>ln_id</th>\n",
       "      <th>created</th>\n",
       "      <th>metadata</th>\n",
       "      <th>content</th>\n",
       "      <th>head</th>\n",
       "      <th>tail</th>\n",
       "      <th>condition</th>\n",
       "      <th>label</th>\n",
       "      <th>bundle</th>\n",
       "    </tr>\n",
       "  </thead>\n",
       "  <tbody>\n",
       "    <tr>\n",
       "      <th>0</th>\n",
       "      <td>8040e746e68953ef7d38088146452ea1</td>\n",
       "      <td>2024-05-14T02:09:33.304702</td>\n",
       "      <td>{}</td>\n",
       "      <td>None</td>\n",
       "      <td>908ffd19146a7831d9b2d1a9892f8bfe</td>\n",
       "      <td>d5100be6f786f545931f321c32d167e5</td>\n",
       "      <td>None</td>\n",
       "      <td>None</td>\n",
       "      <td>False</td>\n",
       "    </tr>\n",
       "    <tr>\n",
       "      <th>1</th>\n",
       "      <td>77869eedcdaba2a6aa21f5da74000ea2</td>\n",
       "      <td>2024-05-14T02:09:33.304591</td>\n",
       "      <td>{}</td>\n",
       "      <td>None</td>\n",
       "      <td>d5100be6f786f545931f321c32d167e5</td>\n",
       "      <td>451711ff6d088d1480cedf949787955d</td>\n",
       "      <td>None</td>\n",
       "      <td>None</td>\n",
       "      <td>False</td>\n",
       "    </tr>\n",
       "  </tbody>\n",
       "</table>\n",
       "</div>"
      ],
      "text/plain": [
       "                              ln_id                     created metadata  \\\n",
       "0  8040e746e68953ef7d38088146452ea1  2024-05-14T02:09:33.304702       {}   \n",
       "1  77869eedcdaba2a6aa21f5da74000ea2  2024-05-14T02:09:33.304591       {}   \n",
       "\n",
       "  content                              head                              tail  \\\n",
       "0    None  908ffd19146a7831d9b2d1a9892f8bfe  d5100be6f786f545931f321c32d167e5   \n",
       "1    None  d5100be6f786f545931f321c32d167e5  451711ff6d088d1480cedf949787955d   \n",
       "\n",
       "  condition label  bundle  \n",
       "0      None  None   False  \n",
       "1      None  None   False  "
      ]
     },
     "execution_count": 10,
     "metadata": {},
     "output_type": "execute_result"
    }
   ],
   "source": [
    "a.edges.to_df()"
   ]
  },
  {
   "cell_type": "code",
   "execution_count": 11,
   "metadata": {},
   "outputs": [
    {
     "data": {
      "text/plain": [
       "['451711ff6d088d1480cedf949787955d', '908ffd19146a7831d9b2d1a9892f8bfe']"
      ]
     },
     "execution_count": 11,
     "metadata": {},
     "output_type": "execute_result"
    }
   ],
   "source": [
    "a.related_nodes"
   ]
  },
  {
   "cell_type": "code",
   "execution_count": 12,
   "metadata": {},
   "outputs": [
    {
     "data": {
      "text/html": [
       "<div>\n",
       "<style scoped>\n",
       "    .dataframe tbody tr th:only-of-type {\n",
       "        vertical-align: middle;\n",
       "    }\n",
       "\n",
       "    .dataframe tbody tr th {\n",
       "        vertical-align: top;\n",
       "    }\n",
       "\n",
       "    .dataframe thead th {\n",
       "        text-align: right;\n",
       "    }\n",
       "</style>\n",
       "<table border=\"1\" class=\"dataframe\">\n",
       "  <thead>\n",
       "    <tr style=\"text-align: right;\">\n",
       "      <th></th>\n",
       "      <th>ln_id</th>\n",
       "      <th>created</th>\n",
       "      <th>metadata</th>\n",
       "      <th>content</th>\n",
       "      <th>head</th>\n",
       "      <th>tail</th>\n",
       "      <th>condition</th>\n",
       "      <th>label</th>\n",
       "      <th>bundle</th>\n",
       "    </tr>\n",
       "  </thead>\n",
       "  <tbody>\n",
       "    <tr>\n",
       "      <th>0</th>\n",
       "      <td>8040e746e68953ef7d38088146452ea1</td>\n",
       "      <td>2024-05-14T02:09:33.304702</td>\n",
       "      <td>{}</td>\n",
       "      <td>None</td>\n",
       "      <td>908ffd19146a7831d9b2d1a9892f8bfe</td>\n",
       "      <td>d5100be6f786f545931f321c32d167e5</td>\n",
       "      <td>None</td>\n",
       "      <td>None</td>\n",
       "      <td>False</td>\n",
       "    </tr>\n",
       "    <tr>\n",
       "      <th>1</th>\n",
       "      <td>77869eedcdaba2a6aa21f5da74000ea2</td>\n",
       "      <td>2024-05-14T02:09:33.304591</td>\n",
       "      <td>{}</td>\n",
       "      <td>None</td>\n",
       "      <td>d5100be6f786f545931f321c32d167e5</td>\n",
       "      <td>451711ff6d088d1480cedf949787955d</td>\n",
       "      <td>None</td>\n",
       "      <td>None</td>\n",
       "      <td>False</td>\n",
       "    </tr>\n",
       "  </tbody>\n",
       "</table>\n",
       "</div>"
      ],
      "text/plain": [
       "                              ln_id                     created metadata  \\\n",
       "0  8040e746e68953ef7d38088146452ea1  2024-05-14T02:09:33.304702       {}   \n",
       "1  77869eedcdaba2a6aa21f5da74000ea2  2024-05-14T02:09:33.304591       {}   \n",
       "\n",
       "  content                              head                              tail  \\\n",
       "0    None  908ffd19146a7831d9b2d1a9892f8bfe  d5100be6f786f545931f321c32d167e5   \n",
       "1    None  d5100be6f786f545931f321c32d167e5  451711ff6d088d1480cedf949787955d   \n",
       "\n",
       "  condition label  bundle  \n",
       "0      None  None   False  \n",
       "1      None  None   False  "
      ]
     },
     "execution_count": 12,
     "metadata": {},
     "output_type": "execute_result"
    }
   ],
   "source": [
    "a.edges.to_df()"
   ]
  },
  {
   "cell_type": "code",
   "execution_count": 13,
   "metadata": {},
   "outputs": [
    {
     "data": {
      "text/html": [
       "<div>\n",
       "<style scoped>\n",
       "    .dataframe tbody tr th:only-of-type {\n",
       "        vertical-align: middle;\n",
       "    }\n",
       "\n",
       "    .dataframe tbody tr th {\n",
       "        vertical-align: top;\n",
       "    }\n",
       "\n",
       "    .dataframe thead th {\n",
       "        text-align: right;\n",
       "    }\n",
       "</style>\n",
       "<table border=\"1\" class=\"dataframe\">\n",
       "  <thead>\n",
       "    <tr style=\"text-align: right;\">\n",
       "      <th></th>\n",
       "      <th>ln_id</th>\n",
       "      <th>created</th>\n",
       "      <th>metadata</th>\n",
       "      <th>content</th>\n",
       "      <th>head</th>\n",
       "      <th>tail</th>\n",
       "      <th>condition</th>\n",
       "      <th>label</th>\n",
       "      <th>bundle</th>\n",
       "    </tr>\n",
       "  </thead>\n",
       "  <tbody>\n",
       "    <tr>\n",
       "      <th>0</th>\n",
       "      <td>8040e746e68953ef7d38088146452ea1</td>\n",
       "      <td>2024-05-14T02:09:33.304702</td>\n",
       "      <td>{}</td>\n",
       "      <td>None</td>\n",
       "      <td>908ffd19146a7831d9b2d1a9892f8bfe</td>\n",
       "      <td>d5100be6f786f545931f321c32d167e5</td>\n",
       "      <td>None</td>\n",
       "      <td>None</td>\n",
       "      <td>False</td>\n",
       "    </tr>\n",
       "  </tbody>\n",
       "</table>\n",
       "</div>"
      ],
      "text/plain": [
       "                              ln_id                     created metadata  \\\n",
       "0  8040e746e68953ef7d38088146452ea1  2024-05-14T02:09:33.304702       {}   \n",
       "\n",
       "  content                              head                              tail  \\\n",
       "0    None  908ffd19146a7831d9b2d1a9892f8bfe  d5100be6f786f545931f321c32d167e5   \n",
       "\n",
       "  condition label  bundle  \n",
       "0      None  None   False  "
      ]
     },
     "execution_count": 13,
     "metadata": {},
     "output_type": "execute_result"
    }
   ],
   "source": [
    "a.relations[\"in\"].to_df()"
   ]
  },
  {
   "cell_type": "code",
   "execution_count": 14,
   "metadata": {},
   "outputs": [
    {
     "data": {
      "text/plain": [
       "True"
      ]
     },
     "execution_count": 14,
     "metadata": {},
     "output_type": "execute_result"
    }
   ],
   "source": [
    "a.unrelate(b)"
   ]
  },
  {
   "cell_type": "code",
   "execution_count": 15,
   "metadata": {},
   "outputs": [
    {
     "data": {
      "text/plain": [
       "['908ffd19146a7831d9b2d1a9892f8bfe']"
      ]
     },
     "execution_count": 15,
     "metadata": {},
     "output_type": "execute_result"
    }
   ],
   "source": [
    "a.related_nodes"
   ]
  },
  {
   "cell_type": "code",
   "execution_count": 16,
   "metadata": {},
   "outputs": [
    {
     "data": {
      "text/html": [
       "<div>\n",
       "<style scoped>\n",
       "    .dataframe tbody tr th:only-of-type {\n",
       "        vertical-align: middle;\n",
       "    }\n",
       "\n",
       "    .dataframe tbody tr th {\n",
       "        vertical-align: top;\n",
       "    }\n",
       "\n",
       "    .dataframe thead th {\n",
       "        text-align: right;\n",
       "    }\n",
       "</style>\n",
       "<table border=\"1\" class=\"dataframe\">\n",
       "  <thead>\n",
       "    <tr style=\"text-align: right;\">\n",
       "      <th></th>\n",
       "      <th>ln_id</th>\n",
       "      <th>created</th>\n",
       "      <th>metadata</th>\n",
       "      <th>content</th>\n",
       "      <th>head</th>\n",
       "      <th>tail</th>\n",
       "      <th>condition</th>\n",
       "      <th>label</th>\n",
       "      <th>bundle</th>\n",
       "    </tr>\n",
       "  </thead>\n",
       "  <tbody>\n",
       "    <tr>\n",
       "      <th>0</th>\n",
       "      <td>8040e746e68953ef7d38088146452ea1</td>\n",
       "      <td>2024-05-14T02:09:33.304702</td>\n",
       "      <td>{}</td>\n",
       "      <td>None</td>\n",
       "      <td>908ffd19146a7831d9b2d1a9892f8bfe</td>\n",
       "      <td>d5100be6f786f545931f321c32d167e5</td>\n",
       "      <td>None</td>\n",
       "      <td>None</td>\n",
       "      <td>False</td>\n",
       "    </tr>\n",
       "  </tbody>\n",
       "</table>\n",
       "</div>"
      ],
      "text/plain": [
       "                              ln_id                     created metadata  \\\n",
       "0  8040e746e68953ef7d38088146452ea1  2024-05-14T02:09:33.304702       {}   \n",
       "\n",
       "  content                              head                              tail  \\\n",
       "0    None  908ffd19146a7831d9b2d1a9892f8bfe  d5100be6f786f545931f321c32d167e5   \n",
       "\n",
       "  condition label  bundle  \n",
       "0      None  None   False  "
      ]
     },
     "execution_count": 16,
     "metadata": {},
     "output_type": "execute_result"
    }
   ],
   "source": [
    "a.edges.to_df()"
   ]
  },
  {
   "cell_type": "code",
   "execution_count": 17,
   "metadata": {},
   "outputs": [
    {
     "data": {
      "text/plain": [
       "{'out': {},\n",
       " 'in': {'908ffd19146a7831d9b2d1a9892f8bfe': [ln_id         8040e746e68953ef7d38088146452ea1\n",
       "   created             2024-05-14T02:09:33.304702\n",
       "   metadata                                    {}\n",
       "   content                                   None\n",
       "   head          908ffd19146a7831d9b2d1a9892f8bfe\n",
       "   tail          d5100be6f786f545931f321c32d167e5\n",
       "   condition                                 None\n",
       "   label                                     None\n",
       "   bundle                                   False\n",
       "   class_name                                Edge\n",
       "   dtype: object]}}"
      ]
     },
     "execution_count": 17,
     "metadata": {},
     "output_type": "execute_result"
    }
   ],
   "source": [
    "a.node_relations"
   ]
  },
  {
   "cell_type": "code",
   "execution_count": 18,
   "metadata": {},
   "outputs": [
    {
     "data": {
      "text/plain": [
       "1"
      ]
     },
     "execution_count": 18,
     "metadata": {},
     "output_type": "execute_result"
    }
   ],
   "source": [
    "len(a.edges)"
   ]
  },
  {
   "cell_type": "code",
   "execution_count": 19,
   "metadata": {},
   "outputs": [
    {
     "data": {
      "text/plain": [
       "['908ffd19146a7831d9b2d1a9892f8bfe']"
      ]
     },
     "execution_count": 19,
     "metadata": {},
     "output_type": "execute_result"
    }
   ],
   "source": [
    "a.related_nodes"
   ]
  },
  {
   "cell_type": "code",
   "execution_count": 20,
   "metadata": {},
   "outputs": [
    {
     "name": "stdout",
     "output_type": "stream",
     "text": [
      "ln_id        d5100be6f786f545931f321c32d167e5\n",
      "created            2024-05-14T02:09:33.301428\n",
      "metadata                                   {}\n",
      "content                                  None\n",
      "relations                              [1, 0]\n",
      "dtype: object\n"
     ]
    }
   ],
   "source": [
    "print(a)"
   ]
  }
 ],
 "metadata": {
  "kernelspec": {
   "display_name": ".venv",
   "language": "python",
   "name": "python3"
  },
  "language_info": {
   "codemirror_mode": {
    "name": "ipython",
    "version": 3
   },
   "file_extension": ".py",
   "mimetype": "text/x-python",
   "name": "python",
   "nbconvert_exporter": "python",
   "pygments_lexer": "ipython3",
   "version": "3.11.6"
  }
 },
 "nbformat": 4,
 "nbformat_minor": 2
}
