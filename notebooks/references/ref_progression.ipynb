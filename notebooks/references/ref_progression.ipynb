{
 "cells": [
  {
   "cell_type": "code",
   "execution_count": 1,
   "metadata": {},
   "outputs": [],
   "source": [
    "from collections import deque\n",
    "\n",
    "a = deque([1, 2, 3, 4, 5])\n",
    "b = deque([6, 7, 8, 9, 10])"
   ]
  },
  {
   "cell_type": "code",
   "execution_count": 2,
   "metadata": {},
   "outputs": [
    {
     "data": {
      "text/plain": [
       "1"
      ]
     },
     "execution_count": 2,
     "metadata": {},
     "output_type": "execute_result"
    }
   ],
   "source": [
    "a[0]"
   ]
  },
  {
   "cell_type": "code",
   "execution_count": 3,
   "metadata": {},
   "outputs": [
    {
     "data": {
      "text/plain": [
       "5"
      ]
     },
     "execution_count": 3,
     "metadata": {},
     "output_type": "execute_result"
    }
   ],
   "source": [
    "a[4]"
   ]
  },
  {
   "cell_type": "code",
   "execution_count": 4,
   "metadata": {},
   "outputs": [
    {
     "data": {
      "text/plain": [
       "deque([1, 2, 3, 4, 5, 6, 7, 8, 9, 10])"
      ]
     },
     "execution_count": 4,
     "metadata": {},
     "output_type": "execute_result"
    }
   ],
   "source": [
    "a += b\n",
    "a"
   ]
  },
  {
   "cell_type": "code",
   "execution_count": 5,
   "metadata": {},
   "outputs": [],
   "source": [
    "a.append(b)"
   ]
  },
  {
   "cell_type": "code",
   "execution_count": 6,
   "metadata": {},
   "outputs": [
    {
     "data": {
      "text/plain": [
       "deque([1, 2, 3, 4, 5, 6, 7, 8, 9, 10, deque([6, 7, 8, 9, 10])])"
      ]
     },
     "execution_count": 6,
     "metadata": {},
     "output_type": "execute_result"
    }
   ],
   "source": [
    "a"
   ]
  },
  {
   "cell_type": "code",
   "execution_count": 7,
   "metadata": {},
   "outputs": [
    {
     "data": {
      "text/plain": [
       "True"
      ]
     },
     "execution_count": 7,
     "metadata": {},
     "output_type": "execute_result"
    }
   ],
   "source": [
    "1 in a"
   ]
  },
  {
   "cell_type": "code",
   "execution_count": 8,
   "metadata": {},
   "outputs": [],
   "source": [
    "from lionagi import progression, Node"
   ]
  },
  {
   "cell_type": "code",
   "execution_count": 9,
   "metadata": {},
   "outputs": [],
   "source": [
    "nodes = (Node() for _ in range(5))"
   ]
  },
  {
   "cell_type": "code",
   "execution_count": 10,
   "metadata": {},
   "outputs": [],
   "source": [
    "p = progression(nodes)"
   ]
  },
  {
   "cell_type": "code",
   "execution_count": 11,
   "metadata": {},
   "outputs": [
    {
     "data": {
      "text/plain": [
       "['51dbfec021bdf9a8a1f5b3b3032d445f',\n",
       " 'd481605e2fcd1c9893cb0f28c1bc0d2b',\n",
       " 'a44cc91d42e2b916551ae03f840bdc15',\n",
       " 'c50caeb174a4d31e93bb29b57219dd2b',\n",
       " '6356f124b648d0a1ededb4be40a15d38']"
      ]
     },
     "execution_count": 11,
     "metadata": {},
     "output_type": "execute_result"
    }
   ],
   "source": [
    "p.order"
   ]
  },
  {
   "cell_type": "code",
   "execution_count": 12,
   "metadata": {},
   "outputs": [],
   "source": [
    "cc = Node()\n",
    "\n",
    "p.extend(cc)"
   ]
  },
  {
   "cell_type": "code",
   "execution_count": 13,
   "metadata": {},
   "outputs": [],
   "source": [
    "cc, dd, ee = Node(), Node(), Node()\n",
    "\n",
    "p.extend([cc, dd, ee])"
   ]
  },
  {
   "cell_type": "code",
   "execution_count": 14,
   "metadata": {},
   "outputs": [
    {
     "data": {
      "text/plain": [
       "Progression(['51dbfec021bdf9a8a1f5b3b3032d445f', 'd481605e2fcd1c9893cb0f28c1bc0d2b', 'a44cc91d42e2b916551ae03f840bdc15', 'c50caeb174a4d31e93bb29b57219dd2b', '6356f124b648d0a1ededb4be40a15d38', 'f9e2de25fc0ce89860724fac1421e92b', '4149b58681d31071efeed069ba7b5034', '6e5780f8a82e31822a386f42a9c5bded', '339d9838d81d180c437d80ee230fdd22'])"
      ]
     },
     "execution_count": 14,
     "metadata": {},
     "output_type": "execute_result"
    }
   ],
   "source": [
    "p"
   ]
  },
  {
   "cell_type": "code",
   "execution_count": 15,
   "metadata": {},
   "outputs": [
    {
     "data": {
      "text/plain": [
       "9"
      ]
     },
     "execution_count": 15,
     "metadata": {},
     "output_type": "execute_result"
    }
   ],
   "source": [
    "len(p)"
   ]
  },
  {
   "cell_type": "code",
   "execution_count": 16,
   "metadata": {},
   "outputs": [],
   "source": [
    "cc = Node()"
   ]
  },
  {
   "cell_type": "code",
   "execution_count": 17,
   "metadata": {},
   "outputs": [
    {
     "data": {
      "text/plain": [
       "ln_id         1b0ea42f5a1306ed9badc73e9eb3f1ed\n",
       "created             2024-05-28T22:22:15.208787\n",
       "metadata                                    {}\n",
       "content                                   None\n",
       "embedding                                   []\n",
       "relations                               [0, 0]\n",
       "lion_class                                Node\n",
       "dtype: object"
      ]
     },
     "execution_count": 17,
     "metadata": {},
     "output_type": "execute_result"
    }
   ],
   "source": [
    "cc"
   ]
  },
  {
   "cell_type": "code",
   "execution_count": 18,
   "metadata": {},
   "outputs": [],
   "source": [
    "p.extend(cc)"
   ]
  },
  {
   "cell_type": "code",
   "execution_count": 19,
   "metadata": {},
   "outputs": [
    {
     "data": {
      "text/plain": [
       "True"
      ]
     },
     "execution_count": 19,
     "metadata": {},
     "output_type": "execute_result"
    }
   ],
   "source": [
    "[cc, dd] in p"
   ]
  },
  {
   "cell_type": "code",
   "execution_count": 20,
   "metadata": {},
   "outputs": [
    {
     "data": {
      "text/plain": [
       "Progression(['d481605e2fcd1c9893cb0f28c1bc0d2b', 'a44cc91d42e2b916551ae03f840bdc15', 'c50caeb174a4d31e93bb29b57219dd2b', '6356f124b648d0a1ededb4be40a15d38'])"
      ]
     },
     "execution_count": 20,
     "metadata": {},
     "output_type": "execute_result"
    }
   ],
   "source": [
    "p[1:5]"
   ]
  },
  {
   "cell_type": "code",
   "execution_count": 21,
   "metadata": {},
   "outputs": [],
   "source": [
    "gg = Node()"
   ]
  },
  {
   "cell_type": "code",
   "execution_count": 22,
   "metadata": {},
   "outputs": [],
   "source": [
    "p[0] = gg"
   ]
  },
  {
   "cell_type": "code",
   "execution_count": 23,
   "metadata": {},
   "outputs": [
    {
     "data": {
      "text/plain": [
       "'556028ab186b8d5ae37d355077694167'"
      ]
     },
     "execution_count": 23,
     "metadata": {},
     "output_type": "execute_result"
    }
   ],
   "source": [
    "p[0]"
   ]
  },
  {
   "cell_type": "code",
   "execution_count": 24,
   "metadata": {},
   "outputs": [],
   "source": [
    "p += dd"
   ]
  },
  {
   "cell_type": "code",
   "execution_count": 25,
   "metadata": {},
   "outputs": [
    {
     "data": {
      "text/plain": [
       "10"
      ]
     },
     "execution_count": 25,
     "metadata": {},
     "output_type": "execute_result"
    }
   ],
   "source": [
    "len(p)"
   ]
  },
  {
   "cell_type": "code",
   "execution_count": 26,
   "metadata": {},
   "outputs": [],
   "source": [
    "p -= cc"
   ]
  },
  {
   "cell_type": "code",
   "execution_count": 27,
   "metadata": {},
   "outputs": [
    {
     "data": {
      "text/plain": [
       "9"
      ]
     },
     "execution_count": 27,
     "metadata": {},
     "output_type": "execute_result"
    }
   ],
   "source": [
    "len(p)"
   ]
  },
  {
   "cell_type": "code",
   "execution_count": 28,
   "metadata": {},
   "outputs": [
    {
     "data": {
      "text/plain": [
       "False"
      ]
     },
     "execution_count": 28,
     "metadata": {},
     "output_type": "execute_result"
    }
   ],
   "source": [
    "cc in p"
   ]
  },
  {
   "cell_type": "code",
   "execution_count": 29,
   "metadata": {},
   "outputs": [
    {
     "data": {
      "text/plain": [
       "True"
      ]
     },
     "execution_count": 29,
     "metadata": {},
     "output_type": "execute_result"
    }
   ],
   "source": [
    "dd in p"
   ]
  },
  {
   "cell_type": "code",
   "execution_count": 30,
   "metadata": {},
   "outputs": [
    {
     "data": {
      "text/plain": [
       "False"
      ]
     },
     "execution_count": 30,
     "metadata": {},
     "output_type": "execute_result"
    }
   ],
   "source": [
    "tt = Node()\n",
    "tt in p"
   ]
  },
  {
   "cell_type": "code",
   "execution_count": 31,
   "metadata": {},
   "outputs": [
    {
     "name": "stdout",
     "output_type": "stream",
     "text": [
      "Item not found. Item: 'ln_id         4dd72659fbba19c6444ef5487c88f9e3\n",
      "created             2024-05-28T22:22:15.252761\n",
      "metadata                                    {}\n",
      "content                                   None\n",
      "embedding                                   []\n",
      "relations                               [0, 0]\n",
      "lion_class                                Node\n",
      "dtype: object'.\n"
     ]
    }
   ],
   "source": [
    "try:\n",
    "    p -= tt\n",
    "except Exception as e:\n",
    "    print(e)"
   ]
  },
  {
   "cell_type": "code",
   "execution_count": 32,
   "metadata": {},
   "outputs": [],
   "source": [
    "p += cc"
   ]
  },
  {
   "cell_type": "code",
   "execution_count": 33,
   "metadata": {},
   "outputs": [
    {
     "data": {
      "text/plain": [
       "True"
      ]
     },
     "execution_count": 33,
     "metadata": {},
     "output_type": "execute_result"
    }
   ],
   "source": [
    "p.exclude(cc)"
   ]
  },
  {
   "cell_type": "code",
   "execution_count": 34,
   "metadata": {},
   "outputs": [
    {
     "data": {
      "text/plain": [
       "False"
      ]
     },
     "execution_count": 34,
     "metadata": {},
     "output_type": "execute_result"
    }
   ],
   "source": [
    "cc in p"
   ]
  },
  {
   "cell_type": "code",
   "execution_count": 35,
   "metadata": {},
   "outputs": [
    {
     "data": {
      "text/plain": [
       "9"
      ]
     },
     "execution_count": 35,
     "metadata": {},
     "output_type": "execute_result"
    }
   ],
   "source": [
    "len(p)"
   ]
  },
  {
   "cell_type": "code",
   "execution_count": 36,
   "metadata": {},
   "outputs": [
    {
     "name": "stdout",
     "output_type": "stream",
     "text": [
      "['556028ab186b8d5ae37d355077694167']\n",
      "d481605e2fcd1c9893cb0f28c1bc0d2b\n",
      "a44cc91d42e2b916551ae03f840bdc15\n",
      "c50caeb174a4d31e93bb29b57219dd2b\n",
      "6356f124b648d0a1ededb4be40a15d38\n",
      "f9e2de25fc0ce89860724fac1421e92b\n",
      "4149b58681d31071efeed069ba7b5034\n",
      "6e5780f8a82e31822a386f42a9c5bded\n",
      "339d9838d81d180c437d80ee230fdd22\n"
     ]
    }
   ],
   "source": [
    "for i in p:\n",
    "    print(i)"
   ]
  },
  {
   "cell_type": "code",
   "execution_count": 37,
   "metadata": {},
   "outputs": [
    {
     "data": {
      "text/plain": [
       "9"
      ]
     },
     "execution_count": 37,
     "metadata": {},
     "output_type": "execute_result"
    }
   ],
   "source": [
    "len(p)"
   ]
  },
  {
   "cell_type": "code",
   "execution_count": 38,
   "metadata": {},
   "outputs": [
    {
     "name": "stdout",
     "output_type": "stream",
     "text": [
      "556028ab186b8d5ae37d355077694167\n",
      "d481605e2fcd1c9893cb0f28c1bc0d2b\n",
      "a44cc91d42e2b916551ae03f840bdc15\n",
      "c50caeb174a4d31e93bb29b57219dd2b\n",
      "6356f124b648d0a1ededb4be40a15d38\n",
      "f9e2de25fc0ce89860724fac1421e92b\n",
      "4149b58681d31071efeed069ba7b5034\n",
      "6e5780f8a82e31822a386f42a9c5bded\n",
      "339d9838d81d180c437d80ee230fdd22\n",
      "Item not found. Item: 'index 9'.\n"
     ]
    }
   ],
   "source": [
    "try:\n",
    "    for i in range(12):\n",
    "        print(p[i])\n",
    "except Exception as e:\n",
    "    print(e)"
   ]
  },
  {
   "cell_type": "code",
   "execution_count": 39,
   "metadata": {},
   "outputs": [
    {
     "data": {
      "text/plain": [
       "Progression([['556028ab186b8d5ae37d355077694167'], 'd481605e2fcd1c9893cb0f28c1bc0d2b', 'a44cc91d42e2b916551ae03f840bdc15', 'c50caeb174a4d31e93bb29b57219dd2b', '6356f124b648d0a1ededb4be40a15d38', 'f9e2de25fc0ce89860724fac1421e92b', '4149b58681d31071efeed069ba7b5034', '6e5780f8a82e31822a386f42a9c5bded', '339d9838d81d180c437d80ee230fdd22'])"
      ]
     },
     "execution_count": 39,
     "metadata": {},
     "output_type": "execute_result"
    }
   ],
   "source": [
    "p"
   ]
  },
  {
   "cell_type": "code",
   "execution_count": 40,
   "metadata": {},
   "outputs": [
    {
     "data": {
      "text/plain": [
       "9"
      ]
     },
     "execution_count": 40,
     "metadata": {},
     "output_type": "execute_result"
    }
   ],
   "source": [
    "len(p)"
   ]
  },
  {
   "cell_type": "code",
   "execution_count": 41,
   "metadata": {},
   "outputs": [
    {
     "name": "stdout",
     "output_type": "stream",
     "text": [
      "['556028ab186b8d5ae37d355077694167']\n",
      "d481605e2fcd1c9893cb0f28c1bc0d2b\n",
      "a44cc91d42e2b916551ae03f840bdc15\n",
      "c50caeb174a4d31e93bb29b57219dd2b\n",
      "6356f124b648d0a1ededb4be40a15d38\n",
      "f9e2de25fc0ce89860724fac1421e92b\n",
      "4149b58681d31071efeed069ba7b5034\n",
      "6e5780f8a82e31822a386f42a9c5bded\n",
      "339d9838d81d180c437d80ee230fdd22\n",
      "Item not found. Item: 'None'.\n"
     ]
    }
   ],
   "source": [
    "try:\n",
    "    for i in range(12):\n",
    "        print(p.popleft())\n",
    "except Exception as e:\n",
    "    print(e)"
   ]
  },
  {
   "cell_type": "code",
   "execution_count": 42,
   "metadata": {},
   "outputs": [],
   "source": [
    "for i in range(5):\n",
    "    p += Node()"
   ]
  },
  {
   "cell_type": "code",
   "execution_count": 43,
   "metadata": {},
   "outputs": [
    {
     "data": {
      "text/plain": [
       "5"
      ]
     },
     "execution_count": 43,
     "metadata": {},
     "output_type": "execute_result"
    }
   ],
   "source": [
    "len(p)"
   ]
  },
  {
   "cell_type": "code",
   "execution_count": 44,
   "metadata": {},
   "outputs": [
    {
     "data": {
      "text/plain": [
       "0"
      ]
     },
     "execution_count": 44,
     "metadata": {},
     "output_type": "execute_result"
    }
   ],
   "source": [
    "for i in list(p.order):\n",
    "    p.remove(i)\n",
    "\n",
    "len(p)"
   ]
  },
  {
   "cell_type": "code",
   "execution_count": 45,
   "metadata": {},
   "outputs": [
    {
     "data": {
      "text/plain": [
       "10"
      ]
     },
     "execution_count": 45,
     "metadata": {},
     "output_type": "execute_result"
    }
   ],
   "source": [
    "p2 = progression()\n",
    "\n",
    "for i in range(5):\n",
    "    p += Node()\n",
    "    p2 += Node()\n",
    "\n",
    "len(p + p2)"
   ]
  },
  {
   "cell_type": "code",
   "execution_count": 46,
   "metadata": {},
   "outputs": [
    {
     "data": {
      "text/plain": [
       "False"
      ]
     },
     "execution_count": 46,
     "metadata": {},
     "output_type": "execute_result"
    }
   ],
   "source": [
    "p + p2 == p2 + p"
   ]
  },
  {
   "cell_type": "code",
   "execution_count": 47,
   "metadata": {},
   "outputs": [
    {
     "data": {
      "text/plain": [
       "True"
      ]
     },
     "execution_count": 47,
     "metadata": {},
     "output_type": "execute_result"
    }
   ],
   "source": [
    "p + p == p + p"
   ]
  },
  {
   "cell_type": "markdown",
   "metadata": {},
   "source": [
    "[]\n",
    "\n",
    "\n",
    "\n",
    "\n",
    "\n"
   ]
  },
  {
   "cell_type": "code",
   "execution_count": 48,
   "metadata": {},
   "outputs": [
    {
     "data": {
      "text/plain": [
       "Progression(['c8a142fef4a383691341446bc87f1989', '78fd9a3bb2f2fd4cc69b38ca78f26c47', '7f95a2c8ff507d75a9b9069e3286fd52', '512c282e3cd64d45dc27902ce4e1db0a', '8b0d1659395b22a90033cd56edef13fc', '11bd41b9495fe00f068891f3807f7616', 'a30f4db65b9fd3701461a300ddbe2057', '29990e597431b722c275347d69f98d5a', '890383aa923f336aaf4103cec3e97869', '808058b3b87d431b38ce55aa75c2ff1d', 'b9fdec41701e93862c8dfa8ec0f9443c'])"
      ]
     },
     "execution_count": 48,
     "metadata": {},
     "output_type": "execute_result"
    }
   ],
   "source": [
    "# a non progression add a progression is a new progression\n",
    "node = Node()\n",
    "\n",
    "node + p"
   ]
  },
  {
   "cell_type": "code",
   "execution_count": 49,
   "metadata": {},
   "outputs": [
    {
     "data": {
      "text/plain": [
       "Progression(['78fd9a3bb2f2fd4cc69b38ca78f26c47', '7f95a2c8ff507d75a9b9069e3286fd52', '512c282e3cd64d45dc27902ce4e1db0a', '8b0d1659395b22a90033cd56edef13fc', '11bd41b9495fe00f068891f3807f7616', 'a30f4db65b9fd3701461a300ddbe2057', '29990e597431b722c275347d69f98d5a', '890383aa923f336aaf4103cec3e97869', '808058b3b87d431b38ce55aa75c2ff1d', 'b9fdec41701e93862c8dfa8ec0f9443c'])"
      ]
     },
     "execution_count": 49,
     "metadata": {},
     "output_type": "execute_result"
    }
   ],
   "source": [
    "p"
   ]
  },
  {
   "cell_type": "code",
   "execution_count": 50,
   "metadata": {},
   "outputs": [
    {
     "data": {
      "text/plain": [
       "Progression(['78fd9a3bb2f2fd4cc69b38ca78f26c47', '7f95a2c8ff507d75a9b9069e3286fd52', '512c282e3cd64d45dc27902ce4e1db0a', '8b0d1659395b22a90033cd56edef13fc', '11bd41b9495fe00f068891f3807f7616', 'a30f4db65b9fd3701461a300ddbe2057', '29990e597431b722c275347d69f98d5a', '890383aa923f336aaf4103cec3e97869', '808058b3b87d431b38ce55aa75c2ff1d', 'b9fdec41701e93862c8dfa8ec0f9443c'])"
      ]
     },
     "execution_count": 50,
     "metadata": {},
     "output_type": "execute_result"
    }
   ],
   "source": [
    "p"
   ]
  },
  {
   "cell_type": "code",
   "execution_count": 51,
   "metadata": {},
   "outputs": [
    {
     "data": {
      "text/plain": [
       "['78fd9a3bb2f2fd4cc69b38ca78f26c47',\n",
       " '7f95a2c8ff507d75a9b9069e3286fd52',\n",
       " '512c282e3cd64d45dc27902ce4e1db0a',\n",
       " '8b0d1659395b22a90033cd56edef13fc',\n",
       " '11bd41b9495fe00f068891f3807f7616',\n",
       " 'a30f4db65b9fd3701461a300ddbe2057',\n",
       " '29990e597431b722c275347d69f98d5a',\n",
       " '890383aa923f336aaf4103cec3e97869',\n",
       " '808058b3b87d431b38ce55aa75c2ff1d',\n",
       " 'b9fdec41701e93862c8dfa8ec0f9443c']"
      ]
     },
     "execution_count": 51,
     "metadata": {},
     "output_type": "execute_result"
    }
   ],
   "source": [
    "list(p)"
   ]
  },
  {
   "cell_type": "code",
   "execution_count": 52,
   "metadata": {},
   "outputs": [
    {
     "data": {
      "text/plain": [
       "{'11bd41b9495fe00f068891f3807f7616',\n",
       " '29990e597431b722c275347d69f98d5a',\n",
       " '512c282e3cd64d45dc27902ce4e1db0a',\n",
       " '78fd9a3bb2f2fd4cc69b38ca78f26c47',\n",
       " '7f95a2c8ff507d75a9b9069e3286fd52',\n",
       " '808058b3b87d431b38ce55aa75c2ff1d',\n",
       " '890383aa923f336aaf4103cec3e97869',\n",
       " '8b0d1659395b22a90033cd56edef13fc',\n",
       " 'a30f4db65b9fd3701461a300ddbe2057',\n",
       " 'b9fdec41701e93862c8dfa8ec0f9443c'}"
      ]
     },
     "execution_count": 52,
     "metadata": {},
     "output_type": "execute_result"
    }
   ],
   "source": [
    "set(p)"
   ]
  },
  {
   "cell_type": "code",
   "execution_count": 53,
   "metadata": {},
   "outputs": [
    {
     "data": {
      "text/plain": [
       "('78fd9a3bb2f2fd4cc69b38ca78f26c47',\n",
       " '7f95a2c8ff507d75a9b9069e3286fd52',\n",
       " '512c282e3cd64d45dc27902ce4e1db0a',\n",
       " '8b0d1659395b22a90033cd56edef13fc',\n",
       " '11bd41b9495fe00f068891f3807f7616',\n",
       " 'a30f4db65b9fd3701461a300ddbe2057',\n",
       " '29990e597431b722c275347d69f98d5a',\n",
       " '890383aa923f336aaf4103cec3e97869',\n",
       " '808058b3b87d431b38ce55aa75c2ff1d',\n",
       " 'b9fdec41701e93862c8dfa8ec0f9443c')"
      ]
     },
     "execution_count": 53,
     "metadata": {},
     "output_type": "execute_result"
    }
   ],
   "source": [
    "tuple(p)"
   ]
  },
  {
   "cell_type": "code",
   "execution_count": 54,
   "metadata": {},
   "outputs": [
    {
     "data": {
      "text/plain": [
       "deque(['78fd9a3bb2f2fd4cc69b38ca78f26c47',\n",
       "       '7f95a2c8ff507d75a9b9069e3286fd52',\n",
       "       '512c282e3cd64d45dc27902ce4e1db0a',\n",
       "       '8b0d1659395b22a90033cd56edef13fc',\n",
       "       '11bd41b9495fe00f068891f3807f7616',\n",
       "       'a30f4db65b9fd3701461a300ddbe2057',\n",
       "       '29990e597431b722c275347d69f98d5a',\n",
       "       '890383aa923f336aaf4103cec3e97869',\n",
       "       '808058b3b87d431b38ce55aa75c2ff1d',\n",
       "       'b9fdec41701e93862c8dfa8ec0f9443c'])"
      ]
     },
     "execution_count": 54,
     "metadata": {},
     "output_type": "execute_result"
    }
   ],
   "source": [
    "deque(p)"
   ]
  }
 ],
 "metadata": {
  "kernelspec": {
   "display_name": ".venv",
   "language": "python",
   "name": "python3"
  },
  "language_info": {
   "codemirror_mode": {
    "name": "ipython",
    "version": 3
   },
   "file_extension": ".py",
   "mimetype": "text/x-python",
   "name": "python",
   "nbconvert_exporter": "python",
   "pygments_lexer": "ipython3",
   "version": "3.12.1"
  }
 },
 "nbformat": 4,
 "nbformat_minor": 2
}
