{
 "cells": [
  {
   "cell_type": "code",
   "execution_count": 1,
   "metadata": {},
   "outputs": [],
   "source": [
    "from lionagi.core.session.branch import Branch\n",
    "from lionagi.core.session.session import Session"
   ]
  },
  {
   "cell_type": "code",
   "execution_count": 2,
   "metadata": {},
   "outputs": [],
   "source": [
    "session = Session(system=\"As a comedian, you are sarcastically funny\")"
   ]
  },
  {
   "cell_type": "code",
   "execution_count": 3,
   "metadata": {},
   "outputs": [
    {
     "data": {
      "text/plain": [
       "Message(role=system, sender=system, content='{'system_info': 'As a comedian, you are sarcastically funny'}')"
      ]
     },
     "execution_count": 3,
     "metadata": {},
     "output_type": "execute_result"
    }
   ],
   "source": [
    "session.branches[0].system"
   ]
  },
  {
   "cell_type": "code",
   "execution_count": 4,
   "metadata": {},
   "outputs": [
    {
     "data": {
      "text/plain": [
       "'A blue whale and a big shark meet at the bar and start dancing. The bartender says, \"Great, now I need a bigger dance floor and a mop!\"'"
      ]
     },
     "execution_count": 4,
     "metadata": {},
     "output_type": "execute_result"
    }
   ],
   "source": [
    "await session.branches[0].chat(\n",
    "    \"very short joke: a blue whale and a big shark meet at the bar and start dancing\"\n",
    ")"
   ]
  },
  {
   "cell_type": "markdown",
   "metadata": {},
   "source": [
    "## split_branch"
   ]
  },
  {
   "cell_type": "code",
   "execution_count": 5,
   "metadata": {},
   "outputs": [
    {
     "data": {
      "text/plain": [
       "ln_id                            d086bc53a832d8fa7526d8fcbb41428d\n",
       "created                                2024-05-21T23:21:38.558437\n",
       "metadata        {'last_updated': {'system': '2024-05-21T23:21:...\n",
       "content                                                      None\n",
       "relations                                                  [0, 0]\n",
       "messages        {'ln_id': '83edf387911683cc2bd82738dae6aacc', ...\n",
       "progress        {'ln_id': '137619eb9193399e3b14d7cec699a323', ...\n",
       "tool_manager    <lionagi.core.action.tool_manager.ToolManager ...\n",
       "system          {'sender': 'dba6ed8136d0a74c6151ab37a28341b8',...\n",
       "user                                                         user\n",
       "mailbox         {'ln_id': 'e45869e8248010d0784489b8350a7951', ...\n",
       "imodel          <lionagi.core.collections.model.iModel object ...\n",
       "dtype: object"
      ]
     },
     "execution_count": 5,
     "metadata": {},
     "output_type": "execute_result"
    }
   ],
   "source": [
    "session.split_branch(session.branches[0])"
   ]
  },
  {
   "cell_type": "code",
   "execution_count": 6,
   "metadata": {},
   "outputs": [
    {
     "data": {
      "text/html": [
       "<div>\n",
       "<style scoped>\n",
       "    .dataframe tbody tr th:only-of-type {\n",
       "        vertical-align: middle;\n",
       "    }\n",
       "\n",
       "    .dataframe tbody tr th {\n",
       "        vertical-align: top;\n",
       "    }\n",
       "\n",
       "    .dataframe thead th {\n",
       "        text-align: right;\n",
       "    }\n",
       "</style>\n",
       "<table border=\"1\" class=\"dataframe\">\n",
       "  <thead>\n",
       "    <tr style=\"text-align: right;\">\n",
       "      <th></th>\n",
       "      <th>ln_id</th>\n",
       "      <th>message_type</th>\n",
       "      <th>timestamp</th>\n",
       "      <th>role</th>\n",
       "      <th>content</th>\n",
       "      <th>metadata</th>\n",
       "      <th>sender</th>\n",
       "      <th>recipient</th>\n",
       "    </tr>\n",
       "  </thead>\n",
       "  <tbody>\n",
       "    <tr>\n",
       "      <th>0</th>\n",
       "      <td>3608ea84ce32590dbacb036b3c0237f1</td>\n",
       "      <td>System</td>\n",
       "      <td>2024-05-21T23:21:37.246980</td>\n",
       "      <td>system</td>\n",
       "      <td>{'system_info': 'As a comedian, you are sarcas...</td>\n",
       "      <td>{'origin_ln_id': 'b465cd03f6988e473ccd7a529208...</td>\n",
       "      <td>system</td>\n",
       "      <td>dba6ed8136d0a74c6151ab37a28341b8</td>\n",
       "    </tr>\n",
       "    <tr>\n",
       "      <th>1</th>\n",
       "      <td>db55c268174a9525c040d36136356fb4</td>\n",
       "      <td>Instruction</td>\n",
       "      <td>2024-05-21T23:21:37.263103</td>\n",
       "      <td>user</td>\n",
       "      <td>{'instruction': 'very short joke: a blue whale...</td>\n",
       "      <td>{'last_updated': {'sender': '2024-05-21T23:21:...</td>\n",
       "      <td>user</td>\n",
       "      <td>dba6ed8136d0a74c6151ab37a28341b8</td>\n",
       "    </tr>\n",
       "    <tr>\n",
       "      <th>2</th>\n",
       "      <td>603067a5c488c5d817ffa2140d987bed</td>\n",
       "      <td>AssistantResponse</td>\n",
       "      <td>2024-05-21T23:21:38.549352</td>\n",
       "      <td>assistant</td>\n",
       "      <td>{'assistant_response': 'A blue whale and a big...</td>\n",
       "      <td>{'last_updated': {'sender': '2024-05-21T23:21:...</td>\n",
       "      <td>dba6ed8136d0a74c6151ab37a28341b8</td>\n",
       "      <td>user</td>\n",
       "    </tr>\n",
       "  </tbody>\n",
       "</table>\n",
       "</div>"
      ],
      "text/plain": [
       "                              ln_id       message_type  \\\n",
       "0  3608ea84ce32590dbacb036b3c0237f1             System   \n",
       "1  db55c268174a9525c040d36136356fb4        Instruction   \n",
       "2  603067a5c488c5d817ffa2140d987bed  AssistantResponse   \n",
       "\n",
       "                    timestamp       role  \\\n",
       "0  2024-05-21T23:21:37.246980     system   \n",
       "1  2024-05-21T23:21:37.263103       user   \n",
       "2  2024-05-21T23:21:38.549352  assistant   \n",
       "\n",
       "                                             content  \\\n",
       "0  {'system_info': 'As a comedian, you are sarcas...   \n",
       "1  {'instruction': 'very short joke: a blue whale...   \n",
       "2  {'assistant_response': 'A blue whale and a big...   \n",
       "\n",
       "                                            metadata  \\\n",
       "0  {'origin_ln_id': 'b465cd03f6988e473ccd7a529208...   \n",
       "1  {'last_updated': {'sender': '2024-05-21T23:21:...   \n",
       "2  {'last_updated': {'sender': '2024-05-21T23:21:...   \n",
       "\n",
       "                             sender                         recipient  \n",
       "0                            system  dba6ed8136d0a74c6151ab37a28341b8  \n",
       "1                              user  dba6ed8136d0a74c6151ab37a28341b8  \n",
       "2  dba6ed8136d0a74c6151ab37a28341b8                              user  "
      ]
     },
     "execution_count": 6,
     "metadata": {},
     "output_type": "execute_result"
    }
   ],
   "source": [
    "session.branches[0].to_df()"
   ]
  },
  {
   "cell_type": "code",
   "execution_count": 7,
   "metadata": {},
   "outputs": [
    {
     "data": {
      "text/html": [
       "<div>\n",
       "<style scoped>\n",
       "    .dataframe tbody tr th:only-of-type {\n",
       "        vertical-align: middle;\n",
       "    }\n",
       "\n",
       "    .dataframe tbody tr th {\n",
       "        vertical-align: top;\n",
       "    }\n",
       "\n",
       "    .dataframe thead th {\n",
       "        text-align: right;\n",
       "    }\n",
       "</style>\n",
       "<table border=\"1\" class=\"dataframe\">\n",
       "  <thead>\n",
       "    <tr style=\"text-align: right;\">\n",
       "      <th></th>\n",
       "      <th>ln_id</th>\n",
       "      <th>message_type</th>\n",
       "      <th>timestamp</th>\n",
       "      <th>role</th>\n",
       "      <th>content</th>\n",
       "      <th>metadata</th>\n",
       "      <th>sender</th>\n",
       "      <th>recipient</th>\n",
       "    </tr>\n",
       "  </thead>\n",
       "  <tbody>\n",
       "    <tr>\n",
       "      <th>0</th>\n",
       "      <td>c8aa46940841fdf6ea0eaf5f5cfa2a21</td>\n",
       "      <td>System</td>\n",
       "      <td>2024-05-21T23:21:38.557851</td>\n",
       "      <td>system</td>\n",
       "      <td>{'system_info': 'As a comedian, you are sarcas...</td>\n",
       "      <td>{'origin_ln_id': '3608ea84ce32590dbacb036b3c02...</td>\n",
       "      <td>dba6ed8136d0a74c6151ab37a28341b8</td>\n",
       "      <td>d086bc53a832d8fa7526d8fcbb41428d</td>\n",
       "    </tr>\n",
       "    <tr>\n",
       "      <th>1</th>\n",
       "      <td>39b8e72d2b6ad7befa5928a48ab90964</td>\n",
       "      <td>Instruction</td>\n",
       "      <td>2024-05-21T23:21:38.557972</td>\n",
       "      <td>user</td>\n",
       "      <td>{'instruction': 'very short joke: a blue whale...</td>\n",
       "      <td>{'last_updated': {'content': '2024-05-21T23:21...</td>\n",
       "      <td>dba6ed8136d0a74c6151ab37a28341b8</td>\n",
       "      <td>d086bc53a832d8fa7526d8fcbb41428d</td>\n",
       "    </tr>\n",
       "    <tr>\n",
       "      <th>2</th>\n",
       "      <td>5da297f914a33ba6eca66eeeeb2e9755</td>\n",
       "      <td>AssistantResponse</td>\n",
       "      <td>2024-05-21T23:21:38.558094</td>\n",
       "      <td>assistant</td>\n",
       "      <td>{'assistant_response': 'A blue whale and a big...</td>\n",
       "      <td>{'origin_ln_id': '603067a5c488c5d817ffa2140d98...</td>\n",
       "      <td>dba6ed8136d0a74c6151ab37a28341b8</td>\n",
       "      <td>d086bc53a832d8fa7526d8fcbb41428d</td>\n",
       "    </tr>\n",
       "  </tbody>\n",
       "</table>\n",
       "</div>"
      ],
      "text/plain": [
       "                              ln_id       message_type  \\\n",
       "0  c8aa46940841fdf6ea0eaf5f5cfa2a21             System   \n",
       "1  39b8e72d2b6ad7befa5928a48ab90964        Instruction   \n",
       "2  5da297f914a33ba6eca66eeeeb2e9755  AssistantResponse   \n",
       "\n",
       "                    timestamp       role  \\\n",
       "0  2024-05-21T23:21:38.557851     system   \n",
       "1  2024-05-21T23:21:38.557972       user   \n",
       "2  2024-05-21T23:21:38.558094  assistant   \n",
       "\n",
       "                                             content  \\\n",
       "0  {'system_info': 'As a comedian, you are sarcas...   \n",
       "1  {'instruction': 'very short joke: a blue whale...   \n",
       "2  {'assistant_response': 'A blue whale and a big...   \n",
       "\n",
       "                                            metadata  \\\n",
       "0  {'origin_ln_id': '3608ea84ce32590dbacb036b3c02...   \n",
       "1  {'last_updated': {'content': '2024-05-21T23:21...   \n",
       "2  {'origin_ln_id': '603067a5c488c5d817ffa2140d98...   \n",
       "\n",
       "                             sender                         recipient  \n",
       "0  dba6ed8136d0a74c6151ab37a28341b8  d086bc53a832d8fa7526d8fcbb41428d  \n",
       "1  dba6ed8136d0a74c6151ab37a28341b8  d086bc53a832d8fa7526d8fcbb41428d  \n",
       "2  dba6ed8136d0a74c6151ab37a28341b8  d086bc53a832d8fa7526d8fcbb41428d  "
      ]
     },
     "execution_count": 7,
     "metadata": {},
     "output_type": "execute_result"
    }
   ],
   "source": [
    "session.branches[1].to_df()"
   ]
  },
  {
   "cell_type": "markdown",
   "metadata": {},
   "source": [
    "## new_branch"
   ]
  },
  {
   "cell_type": "code",
   "execution_count": 8,
   "metadata": {},
   "outputs": [],
   "source": [
    "def multiply(number1: float, number2: float):\n",
    "    \"\"\"\n",
    "    Perform multiplication on two numbers.\n",
    "\n",
    "    Args:\n",
    "        number1: First number to multiply.\n",
    "        number2: Second number to multiply.\n",
    "\n",
    "    Returns:\n",
    "        The product of number1 and number2.\n",
    "\n",
    "    \"\"\"\n",
    "    return number1 * number2\n",
    "\n",
    "\n",
    "from lionagi.core.action import func_to_tool\n",
    "\n",
    "tool_m = func_to_tool(multiply)"
   ]
  },
  {
   "cell_type": "code",
   "execution_count": 9,
   "metadata": {},
   "outputs": [
    {
     "data": {
      "text/plain": [
       "ln_id                            99b14e749da768f50361921d03b6cdcc\n",
       "created                                2024-05-21T23:21:38.592138\n",
       "metadata        {'last_updated': {'system': '2024-05-21T23:21:...\n",
       "content                                                      None\n",
       "relations                                                  [0, 0]\n",
       "messages        {'ln_id': 'e0ca41b6a8f2d72530da19aa6fc53c42', ...\n",
       "progress        {'ln_id': '2907f62cdd37e6cf1f9784312478549d', ...\n",
       "tool_manager    <lionagi.core.action.tool_manager.ToolManager ...\n",
       "system          {'sender': 'system', 'recipient': '99b14e749da...\n",
       "user                                                         user\n",
       "mailbox         {'ln_id': '23b58a0bba131d3a7ab6a2b9cbc797e4', ...\n",
       "imodel          <lionagi.core.collections.model.iModel object ...\n",
       "dtype: object"
      ]
     },
     "execution_count": 9,
     "metadata": {},
     "output_type": "execute_result"
    }
   ],
   "source": [
    "session.new_branch(\n",
    "    system=\"you are asked to perform as a function picker and parameter provider\"\n",
    ")"
   ]
  },
  {
   "cell_type": "code",
   "execution_count": 10,
   "metadata": {},
   "outputs": [],
   "source": [
    "question1 = \"A school is ordering laptops for its students. If each classroom has 25 students and the school wants to provide a laptop for each student in its 8 classrooms, how many laptops in total does the school need to order?\"\n",
    "question2 = \"A bakery sells cupcakes in boxes of 6. If a customer wants to buy 8 boxes, with each person getting one cupcake, how many people can the customer serve cupcake to?\"\n",
    "\n",
    "import json\n",
    "\n",
    "context = {\"Question1\": question1, \"question2\": question2}\n",
    "context = json.dumps(context)"
   ]
  },
  {
   "cell_type": "code",
   "execution_count": 11,
   "metadata": {},
   "outputs": [
    {
     "name": "stdout",
     "output_type": "stream",
     "text": [
      "An error occurred: 'NoneType' object has no attribute 'answer'\n",
      "Attempt 1/3 failed: 'NoneType' object has no attribute 'answer', retrying...\n",
      "An error occurred: 'NoneType' object has no attribute 'answer'\n",
      "Attempt 2/3 failed: 'NoneType' object has no attribute 'answer', retrying...\n"
     ]
    }
   ],
   "source": [
    "result = await session.branches[2].direct(\n",
    "    instruction=\"Think step by step, understand the following basic math question and provide parameters for function calling.\",\n",
    "    context=context,\n",
    "    tools=tool_m,\n",
    "    reason=True,\n",
    "    score=True,\n",
    ")"
   ]
  },
  {
   "cell_type": "code",
   "execution_count": 12,
   "metadata": {},
   "outputs": [
    {
     "data": {
      "text/html": [
       "<div>\n",
       "<style scoped>\n",
       "    .dataframe tbody tr th:only-of-type {\n",
       "        vertical-align: middle;\n",
       "    }\n",
       "\n",
       "    .dataframe tbody tr th {\n",
       "        vertical-align: top;\n",
       "    }\n",
       "\n",
       "    .dataframe thead th {\n",
       "        text-align: right;\n",
       "    }\n",
       "</style>\n",
       "<table border=\"1\" class=\"dataframe\">\n",
       "  <thead>\n",
       "    <tr style=\"text-align: right;\">\n",
       "      <th></th>\n",
       "      <th>ln_id</th>\n",
       "      <th>message_type</th>\n",
       "      <th>timestamp</th>\n",
       "      <th>role</th>\n",
       "      <th>content</th>\n",
       "      <th>metadata</th>\n",
       "      <th>sender</th>\n",
       "      <th>recipient</th>\n",
       "    </tr>\n",
       "  </thead>\n",
       "  <tbody>\n",
       "    <tr>\n",
       "      <th>0</th>\n",
       "      <td>b67c809fc42503fe3055c5b64364921a</td>\n",
       "      <td>System</td>\n",
       "      <td>2024-05-21T23:21:38.592405</td>\n",
       "      <td>system</td>\n",
       "      <td>{'system_info': 'you are asked to perform as a...</td>\n",
       "      <td>{'last_updated': {'recipient': '2024-05-21T23:...</td>\n",
       "      <td>system</td>\n",
       "      <td>99b14e749da768f50361921d03b6cdcc</td>\n",
       "    </tr>\n",
       "    <tr>\n",
       "      <th>1</th>\n",
       "      <td>ec875d790e6dc01df1b43721b5ab9ba3</td>\n",
       "      <td>Instruction</td>\n",
       "      <td>2024-05-21T23:21:38.602821</td>\n",
       "      <td>user</td>\n",
       "      <td>{'instruction': '\n",
       "## Task Instructions\n",
       "Please ...</td>\n",
       "      <td>{'last_updated': {'sender': '2024-05-21T23:21:...</td>\n",
       "      <td>user</td>\n",
       "      <td>99b14e749da768f50361921d03b6cdcc</td>\n",
       "    </tr>\n",
       "    <tr>\n",
       "      <th>2</th>\n",
       "      <td>783a4922ad4040079862ba0a5179327e</td>\n",
       "      <td>AssistantResponse</td>\n",
       "      <td>2024-05-21T23:21:40.518694</td>\n",
       "      <td>assistant</td>\n",
       "      <td>{'assistant_response': None}</td>\n",
       "      <td>{'last_updated': {'sender': '2024-05-21T23:21:...</td>\n",
       "      <td>99b14e749da768f50361921d03b6cdcc</td>\n",
       "      <td>user</td>\n",
       "    </tr>\n",
       "    <tr>\n",
       "      <th>3</th>\n",
       "      <td>17a6d1b8a719a56a36a38fd515b19c2b</td>\n",
       "      <td>ActionRequest</td>\n",
       "      <td>2024-05-21T23:21:40.519093</td>\n",
       "      <td>assistant</td>\n",
       "      <td>{'action_request': {'function': 'multiply', 'a...</td>\n",
       "      <td>{'last_updated': {'function': '2024-05-21T23:2...</td>\n",
       "      <td>99b14e749da768f50361921d03b6cdcc</td>\n",
       "      <td>4f021e5bf0dd1bf8a937223238a5b79d</td>\n",
       "    </tr>\n",
       "    <tr>\n",
       "      <th>4</th>\n",
       "      <td>3632095cee31c1b8be184a4b85c0e556</td>\n",
       "      <td>ActionRequest</td>\n",
       "      <td>2024-05-21T23:21:40.519228</td>\n",
       "      <td>assistant</td>\n",
       "      <td>{'action_request': {'function': 'multiply', 'a...</td>\n",
       "      <td>{'last_updated': {'function': '2024-05-21T23:2...</td>\n",
       "      <td>99b14e749da768f50361921d03b6cdcc</td>\n",
       "      <td>4f021e5bf0dd1bf8a937223238a5b79d</td>\n",
       "    </tr>\n",
       "    <tr>\n",
       "      <th>5</th>\n",
       "      <td>f31729e5067ac43b86e0ce92330b524d</td>\n",
       "      <td>ActionResponse</td>\n",
       "      <td>2024-05-21T23:21:40.519757</td>\n",
       "      <td>assistant</td>\n",
       "      <td>{'action_response': {'function': 'multiply', '...</td>\n",
       "      <td>{'last_updated': {'function': '2024-05-21T23:2...</td>\n",
       "      <td>4f021e5bf0dd1bf8a937223238a5b79d</td>\n",
       "      <td>99b14e749da768f50361921d03b6cdcc</td>\n",
       "    </tr>\n",
       "    <tr>\n",
       "      <th>6</th>\n",
       "      <td>f1654420d70f77eaf0ae80ed2514b052</td>\n",
       "      <td>ActionResponse</td>\n",
       "      <td>2024-05-21T23:21:40.520032</td>\n",
       "      <td>assistant</td>\n",
       "      <td>{'action_response': {'function': 'multiply', '...</td>\n",
       "      <td>{'last_updated': {'function': '2024-05-21T23:2...</td>\n",
       "      <td>4f021e5bf0dd1bf8a937223238a5b79d</td>\n",
       "      <td>99b14e749da768f50361921d03b6cdcc</td>\n",
       "    </tr>\n",
       "    <tr>\n",
       "      <th>7</th>\n",
       "      <td>befe3da6e27b638514a977822cb896b9</td>\n",
       "      <td>Instruction</td>\n",
       "      <td>2024-05-21T23:21:40.520980</td>\n",
       "      <td>user</td>\n",
       "      <td>{'instruction': '\n",
       "## Task Instructions\n",
       "Please ...</td>\n",
       "      <td>{'last_updated': {'sender': '2024-05-21T23:21:...</td>\n",
       "      <td>user</td>\n",
       "      <td>99b14e749da768f50361921d03b6cdcc</td>\n",
       "    </tr>\n",
       "    <tr>\n",
       "      <th>8</th>\n",
       "      <td>555d72ed7551b510b085c7e012d108a7</td>\n",
       "      <td>AssistantResponse</td>\n",
       "      <td>2024-05-21T23:21:41.917970</td>\n",
       "      <td>assistant</td>\n",
       "      <td>{'assistant_response': None}</td>\n",
       "      <td>{'last_updated': {'sender': '2024-05-21T23:21:...</td>\n",
       "      <td>99b14e749da768f50361921d03b6cdcc</td>\n",
       "      <td>user</td>\n",
       "    </tr>\n",
       "    <tr>\n",
       "      <th>9</th>\n",
       "      <td>e3d333f1a318953d2545be6f3ab59c65</td>\n",
       "      <td>ActionRequest</td>\n",
       "      <td>2024-05-21T23:21:41.918398</td>\n",
       "      <td>assistant</td>\n",
       "      <td>{'action_request': {'function': 'multiply', 'a...</td>\n",
       "      <td>{'last_updated': {'function': '2024-05-21T23:2...</td>\n",
       "      <td>99b14e749da768f50361921d03b6cdcc</td>\n",
       "      <td>4f021e5bf0dd1bf8a937223238a5b79d</td>\n",
       "    </tr>\n",
       "    <tr>\n",
       "      <th>10</th>\n",
       "      <td>2492ae37bd85e0df447dc8fceac8413a</td>\n",
       "      <td>ActionRequest</td>\n",
       "      <td>2024-05-21T23:21:41.918584</td>\n",
       "      <td>assistant</td>\n",
       "      <td>{'action_request': {'function': 'multiply', 'a...</td>\n",
       "      <td>{'last_updated': {'function': '2024-05-21T23:2...</td>\n",
       "      <td>99b14e749da768f50361921d03b6cdcc</td>\n",
       "      <td>4f021e5bf0dd1bf8a937223238a5b79d</td>\n",
       "    </tr>\n",
       "    <tr>\n",
       "      <th>11</th>\n",
       "      <td>159bff1f0b8e234766eefc2eec08e355</td>\n",
       "      <td>ActionResponse</td>\n",
       "      <td>2024-05-21T23:21:41.919138</td>\n",
       "      <td>assistant</td>\n",
       "      <td>{'action_response': {'function': 'multiply', '...</td>\n",
       "      <td>{'last_updated': {'function': '2024-05-21T23:2...</td>\n",
       "      <td>4f021e5bf0dd1bf8a937223238a5b79d</td>\n",
       "      <td>99b14e749da768f50361921d03b6cdcc</td>\n",
       "    </tr>\n",
       "    <tr>\n",
       "      <th>12</th>\n",
       "      <td>f27ebb6e206ca4e1329bc89b089deb11</td>\n",
       "      <td>ActionResponse</td>\n",
       "      <td>2024-05-21T23:21:41.919420</td>\n",
       "      <td>assistant</td>\n",
       "      <td>{'action_response': {'function': 'multiply', '...</td>\n",
       "      <td>{'last_updated': {'function': '2024-05-21T23:2...</td>\n",
       "      <td>4f021e5bf0dd1bf8a937223238a5b79d</td>\n",
       "      <td>99b14e749da768f50361921d03b6cdcc</td>\n",
       "    </tr>\n",
       "    <tr>\n",
       "      <th>13</th>\n",
       "      <td>38a1cd08c1c3e245cf8aea1fa58eb12a</td>\n",
       "      <td>Instruction</td>\n",
       "      <td>2024-05-21T23:21:41.920548</td>\n",
       "      <td>user</td>\n",
       "      <td>{'instruction': '\n",
       "## Task Instructions\n",
       "Please ...</td>\n",
       "      <td>{'last_updated': {'sender': '2024-05-21T23:21:...</td>\n",
       "      <td>user</td>\n",
       "      <td>99b14e749da768f50361921d03b6cdcc</td>\n",
       "    </tr>\n",
       "    <tr>\n",
       "      <th>14</th>\n",
       "      <td>b93924a30901552429c41bc4e83f7f8c</td>\n",
       "      <td>AssistantResponse</td>\n",
       "      <td>2024-05-21T23:21:44.786615</td>\n",
       "      <td>assistant</td>\n",
       "      <td>{'assistant_response': '```json\n",
       "{\n",
       "  \"answer\": ...</td>\n",
       "      <td>{'last_updated': {'sender': '2024-05-21T23:21:...</td>\n",
       "      <td>99b14e749da768f50361921d03b6cdcc</td>\n",
       "      <td>user</td>\n",
       "    </tr>\n",
       "  </tbody>\n",
       "</table>\n",
       "</div>"
      ],
      "text/plain": [
       "                               ln_id       message_type  \\\n",
       "0   b67c809fc42503fe3055c5b64364921a             System   \n",
       "1   ec875d790e6dc01df1b43721b5ab9ba3        Instruction   \n",
       "2   783a4922ad4040079862ba0a5179327e  AssistantResponse   \n",
       "3   17a6d1b8a719a56a36a38fd515b19c2b      ActionRequest   \n",
       "4   3632095cee31c1b8be184a4b85c0e556      ActionRequest   \n",
       "5   f31729e5067ac43b86e0ce92330b524d     ActionResponse   \n",
       "6   f1654420d70f77eaf0ae80ed2514b052     ActionResponse   \n",
       "7   befe3da6e27b638514a977822cb896b9        Instruction   \n",
       "8   555d72ed7551b510b085c7e012d108a7  AssistantResponse   \n",
       "9   e3d333f1a318953d2545be6f3ab59c65      ActionRequest   \n",
       "10  2492ae37bd85e0df447dc8fceac8413a      ActionRequest   \n",
       "11  159bff1f0b8e234766eefc2eec08e355     ActionResponse   \n",
       "12  f27ebb6e206ca4e1329bc89b089deb11     ActionResponse   \n",
       "13  38a1cd08c1c3e245cf8aea1fa58eb12a        Instruction   \n",
       "14  b93924a30901552429c41bc4e83f7f8c  AssistantResponse   \n",
       "\n",
       "                     timestamp       role  \\\n",
       "0   2024-05-21T23:21:38.592405     system   \n",
       "1   2024-05-21T23:21:38.602821       user   \n",
       "2   2024-05-21T23:21:40.518694  assistant   \n",
       "3   2024-05-21T23:21:40.519093  assistant   \n",
       "4   2024-05-21T23:21:40.519228  assistant   \n",
       "5   2024-05-21T23:21:40.519757  assistant   \n",
       "6   2024-05-21T23:21:40.520032  assistant   \n",
       "7   2024-05-21T23:21:40.520980       user   \n",
       "8   2024-05-21T23:21:41.917970  assistant   \n",
       "9   2024-05-21T23:21:41.918398  assistant   \n",
       "10  2024-05-21T23:21:41.918584  assistant   \n",
       "11  2024-05-21T23:21:41.919138  assistant   \n",
       "12  2024-05-21T23:21:41.919420  assistant   \n",
       "13  2024-05-21T23:21:41.920548       user   \n",
       "14  2024-05-21T23:21:44.786615  assistant   \n",
       "\n",
       "                                              content  \\\n",
       "0   {'system_info': 'you are asked to perform as a...   \n",
       "1   {'instruction': '\n",
       "## Task Instructions\n",
       "Please ...   \n",
       "2                        {'assistant_response': None}   \n",
       "3   {'action_request': {'function': 'multiply', 'a...   \n",
       "4   {'action_request': {'function': 'multiply', 'a...   \n",
       "5   {'action_response': {'function': 'multiply', '...   \n",
       "6   {'action_response': {'function': 'multiply', '...   \n",
       "7   {'instruction': '\n",
       "## Task Instructions\n",
       "Please ...   \n",
       "8                        {'assistant_response': None}   \n",
       "9   {'action_request': {'function': 'multiply', 'a...   \n",
       "10  {'action_request': {'function': 'multiply', 'a...   \n",
       "11  {'action_response': {'function': 'multiply', '...   \n",
       "12  {'action_response': {'function': 'multiply', '...   \n",
       "13  {'instruction': '\n",
       "## Task Instructions\n",
       "Please ...   \n",
       "14  {'assistant_response': '```json\n",
       "{\n",
       "  \"answer\": ...   \n",
       "\n",
       "                                             metadata  \\\n",
       "0   {'last_updated': {'recipient': '2024-05-21T23:...   \n",
       "1   {'last_updated': {'sender': '2024-05-21T23:21:...   \n",
       "2   {'last_updated': {'sender': '2024-05-21T23:21:...   \n",
       "3   {'last_updated': {'function': '2024-05-21T23:2...   \n",
       "4   {'last_updated': {'function': '2024-05-21T23:2...   \n",
       "5   {'last_updated': {'function': '2024-05-21T23:2...   \n",
       "6   {'last_updated': {'function': '2024-05-21T23:2...   \n",
       "7   {'last_updated': {'sender': '2024-05-21T23:21:...   \n",
       "8   {'last_updated': {'sender': '2024-05-21T23:21:...   \n",
       "9   {'last_updated': {'function': '2024-05-21T23:2...   \n",
       "10  {'last_updated': {'function': '2024-05-21T23:2...   \n",
       "11  {'last_updated': {'function': '2024-05-21T23:2...   \n",
       "12  {'last_updated': {'function': '2024-05-21T23:2...   \n",
       "13  {'last_updated': {'sender': '2024-05-21T23:21:...   \n",
       "14  {'last_updated': {'sender': '2024-05-21T23:21:...   \n",
       "\n",
       "                              sender                         recipient  \n",
       "0                             system  99b14e749da768f50361921d03b6cdcc  \n",
       "1                               user  99b14e749da768f50361921d03b6cdcc  \n",
       "2   99b14e749da768f50361921d03b6cdcc                              user  \n",
       "3   99b14e749da768f50361921d03b6cdcc  4f021e5bf0dd1bf8a937223238a5b79d  \n",
       "4   99b14e749da768f50361921d03b6cdcc  4f021e5bf0dd1bf8a937223238a5b79d  \n",
       "5   4f021e5bf0dd1bf8a937223238a5b79d  99b14e749da768f50361921d03b6cdcc  \n",
       "6   4f021e5bf0dd1bf8a937223238a5b79d  99b14e749da768f50361921d03b6cdcc  \n",
       "7                               user  99b14e749da768f50361921d03b6cdcc  \n",
       "8   99b14e749da768f50361921d03b6cdcc                              user  \n",
       "9   99b14e749da768f50361921d03b6cdcc  4f021e5bf0dd1bf8a937223238a5b79d  \n",
       "10  99b14e749da768f50361921d03b6cdcc  4f021e5bf0dd1bf8a937223238a5b79d  \n",
       "11  4f021e5bf0dd1bf8a937223238a5b79d  99b14e749da768f50361921d03b6cdcc  \n",
       "12  4f021e5bf0dd1bf8a937223238a5b79d  99b14e749da768f50361921d03b6cdcc  \n",
       "13                              user  99b14e749da768f50361921d03b6cdcc  \n",
       "14  99b14e749da768f50361921d03b6cdcc                              user  "
      ]
     },
     "execution_count": 12,
     "metadata": {},
     "output_type": "execute_result"
    }
   ],
   "source": [
    "session.branches[2].to_df()"
   ]
  },
  {
   "cell_type": "markdown",
   "metadata": {},
   "source": [
    "## delete_branch"
   ]
  },
  {
   "cell_type": "code",
   "execution_count": 13,
   "metadata": {},
   "outputs": [
    {
     "data": {
      "text/plain": [
       "'dba6ed8136d0a74c6151ab37a28341b8'"
      ]
     },
     "execution_count": 13,
     "metadata": {},
     "output_type": "execute_result"
    }
   ],
   "source": [
    "session.default_branch.ln_id"
   ]
  },
  {
   "cell_type": "code",
   "execution_count": 14,
   "metadata": {},
   "outputs": [
    {
     "data": {
      "text/plain": [
       "'dba6ed8136d0a74c6151ab37a28341b8'"
      ]
     },
     "execution_count": 14,
     "metadata": {},
     "output_type": "execute_result"
    }
   ],
   "source": [
    "session.branches[0].ln_id"
   ]
  },
  {
   "cell_type": "code",
   "execution_count": 15,
   "metadata": {},
   "outputs": [],
   "source": [
    "session.delete_branch(session.branches[0])"
   ]
  },
  {
   "cell_type": "code",
   "execution_count": 16,
   "metadata": {},
   "outputs": [
    {
     "data": {
      "text/plain": [
       "'d086bc53a832d8fa7526d8fcbb41428d'"
      ]
     },
     "execution_count": 16,
     "metadata": {},
     "output_type": "execute_result"
    }
   ],
   "source": [
    "session.default_branch.ln_id"
   ]
  },
  {
   "cell_type": "code",
   "execution_count": 17,
   "metadata": {},
   "outputs": [
    {
     "data": {
      "text/plain": [
       "'d086bc53a832d8fa7526d8fcbb41428d'"
      ]
     },
     "execution_count": 17,
     "metadata": {},
     "output_type": "execute_result"
    }
   ],
   "source": [
    "session.branches[0].ln_id"
   ]
  },
  {
   "cell_type": "markdown",
   "metadata": {},
   "source": [
    "# Mail Part"
   ]
  },
  {
   "cell_type": "markdown",
   "metadata": {},
   "source": [
    "## send message"
   ]
  },
  {
   "cell_type": "code",
   "execution_count": 18,
   "metadata": {},
   "outputs": [
    {
     "data": {
      "text/plain": [
       "Message(role=assistant, sender=99b14e749da768f50361921d03b6cdcc, content='{'assistant_response': '```json\\n{\\n  \"answer\": {\\n    \"Question1\": 200,\\n ...')"
      ]
     },
     "execution_count": 18,
     "metadata": {},
     "output_type": "execute_result"
    }
   ],
   "source": [
    "session.branches[1].messages[-1]"
   ]
  },
  {
   "cell_type": "code",
   "execution_count": 19,
   "metadata": {},
   "outputs": [
    {
     "data": {
      "text/plain": [
       "'d086bc53a832d8fa7526d8fcbb41428d'"
      ]
     },
     "execution_count": 19,
     "metadata": {},
     "output_type": "execute_result"
    }
   ],
   "source": [
    "session.branches[0].ln_id"
   ]
  },
  {
   "cell_type": "code",
   "execution_count": 20,
   "metadata": {},
   "outputs": [],
   "source": [
    "session.branches[1].send(\n",
    "    recipient=session.branches[0].ln_id,\n",
    "    category=\"message\",\n",
    "    package=session.branches[1].messages[-1],\n",
    ")"
   ]
  },
  {
   "cell_type": "code",
   "execution_count": 21,
   "metadata": {},
   "outputs": [],
   "source": [
    "session.collect_send_all(receive_all=True)"
   ]
  },
  {
   "cell_type": "code",
   "execution_count": 22,
   "metadata": {},
   "outputs": [
    {
     "data": {
      "text/html": [
       "<div>\n",
       "<style scoped>\n",
       "    .dataframe tbody tr th:only-of-type {\n",
       "        vertical-align: middle;\n",
       "    }\n",
       "\n",
       "    .dataframe tbody tr th {\n",
       "        vertical-align: top;\n",
       "    }\n",
       "\n",
       "    .dataframe thead th {\n",
       "        text-align: right;\n",
       "    }\n",
       "</style>\n",
       "<table border=\"1\" class=\"dataframe\">\n",
       "  <thead>\n",
       "    <tr style=\"text-align: right;\">\n",
       "      <th></th>\n",
       "      <th>ln_id</th>\n",
       "      <th>message_type</th>\n",
       "      <th>timestamp</th>\n",
       "      <th>role</th>\n",
       "      <th>content</th>\n",
       "      <th>metadata</th>\n",
       "      <th>sender</th>\n",
       "      <th>recipient</th>\n",
       "    </tr>\n",
       "  </thead>\n",
       "  <tbody>\n",
       "    <tr>\n",
       "      <th>0</th>\n",
       "      <td>c8aa46940841fdf6ea0eaf5f5cfa2a21</td>\n",
       "      <td>System</td>\n",
       "      <td>2024-05-21T23:21:38.557851</td>\n",
       "      <td>system</td>\n",
       "      <td>{'system_info': 'As a comedian, you are sarcas...</td>\n",
       "      <td>{'origin_ln_id': '3608ea84ce32590dbacb036b3c02...</td>\n",
       "      <td>dba6ed8136d0a74c6151ab37a28341b8</td>\n",
       "      <td>d086bc53a832d8fa7526d8fcbb41428d</td>\n",
       "    </tr>\n",
       "    <tr>\n",
       "      <th>1</th>\n",
       "      <td>39b8e72d2b6ad7befa5928a48ab90964</td>\n",
       "      <td>Instruction</td>\n",
       "      <td>2024-05-21T23:21:38.557972</td>\n",
       "      <td>user</td>\n",
       "      <td>{'instruction': 'very short joke: a blue whale...</td>\n",
       "      <td>{'last_updated': {'content': '2024-05-21T23:21...</td>\n",
       "      <td>dba6ed8136d0a74c6151ab37a28341b8</td>\n",
       "      <td>d086bc53a832d8fa7526d8fcbb41428d</td>\n",
       "    </tr>\n",
       "    <tr>\n",
       "      <th>2</th>\n",
       "      <td>5da297f914a33ba6eca66eeeeb2e9755</td>\n",
       "      <td>AssistantResponse</td>\n",
       "      <td>2024-05-21T23:21:38.558094</td>\n",
       "      <td>assistant</td>\n",
       "      <td>{'assistant_response': 'A blue whale and a big...</td>\n",
       "      <td>{'origin_ln_id': '603067a5c488c5d817ffa2140d98...</td>\n",
       "      <td>dba6ed8136d0a74c6151ab37a28341b8</td>\n",
       "      <td>d086bc53a832d8fa7526d8fcbb41428d</td>\n",
       "    </tr>\n",
       "    <tr>\n",
       "      <th>3</th>\n",
       "      <td>6021729444fc16a210aec23d15944422</td>\n",
       "      <td>AssistantResponse</td>\n",
       "      <td>2024-05-21T23:21:44.856400</td>\n",
       "      <td>assistant</td>\n",
       "      <td>{'assistant_response': '```json\n",
       "{\n",
       "  \"answer\": ...</td>\n",
       "      <td>{'origin_ln_id': 'b93924a30901552429c41bc4e83f...</td>\n",
       "      <td>99b14e749da768f50361921d03b6cdcc</td>\n",
       "      <td>d086bc53a832d8fa7526d8fcbb41428d</td>\n",
       "    </tr>\n",
       "  </tbody>\n",
       "</table>\n",
       "</div>"
      ],
      "text/plain": [
       "                              ln_id       message_type  \\\n",
       "0  c8aa46940841fdf6ea0eaf5f5cfa2a21             System   \n",
       "1  39b8e72d2b6ad7befa5928a48ab90964        Instruction   \n",
       "2  5da297f914a33ba6eca66eeeeb2e9755  AssistantResponse   \n",
       "3  6021729444fc16a210aec23d15944422  AssistantResponse   \n",
       "\n",
       "                    timestamp       role  \\\n",
       "0  2024-05-21T23:21:38.557851     system   \n",
       "1  2024-05-21T23:21:38.557972       user   \n",
       "2  2024-05-21T23:21:38.558094  assistant   \n",
       "3  2024-05-21T23:21:44.856400  assistant   \n",
       "\n",
       "                                             content  \\\n",
       "0  {'system_info': 'As a comedian, you are sarcas...   \n",
       "1  {'instruction': 'very short joke: a blue whale...   \n",
       "2  {'assistant_response': 'A blue whale and a big...   \n",
       "3  {'assistant_response': '```json\n",
       "{\n",
       "  \"answer\": ...   \n",
       "\n",
       "                                            metadata  \\\n",
       "0  {'origin_ln_id': '3608ea84ce32590dbacb036b3c02...   \n",
       "1  {'last_updated': {'content': '2024-05-21T23:21...   \n",
       "2  {'origin_ln_id': '603067a5c488c5d817ffa2140d98...   \n",
       "3  {'origin_ln_id': 'b93924a30901552429c41bc4e83f...   \n",
       "\n",
       "                             sender                         recipient  \n",
       "0  dba6ed8136d0a74c6151ab37a28341b8  d086bc53a832d8fa7526d8fcbb41428d  \n",
       "1  dba6ed8136d0a74c6151ab37a28341b8  d086bc53a832d8fa7526d8fcbb41428d  \n",
       "2  dba6ed8136d0a74c6151ab37a28341b8  d086bc53a832d8fa7526d8fcbb41428d  \n",
       "3  99b14e749da768f50361921d03b6cdcc  d086bc53a832d8fa7526d8fcbb41428d  "
      ]
     },
     "execution_count": 22,
     "metadata": {},
     "output_type": "execute_result"
    }
   ],
   "source": [
    "session.branches[0].to_df()"
   ]
  },
  {
   "cell_type": "markdown",
   "metadata": {},
   "source": [
    "## send tool"
   ]
  },
  {
   "cell_type": "code",
   "execution_count": 23,
   "metadata": {},
   "outputs": [
    {
     "data": {
      "text/plain": [
       "ln_id                                     4f021e5bf0dd1bf8a937223238a5b79d\n",
       "created                                         2024-05-21T23:21:38.588177\n",
       "metadata                                                                {}\n",
       "content                                                               None\n",
       "relations                                                           [0, 0]\n",
       "function                                                          multiply\n",
       "schema_                  {'type': 'function', 'function': {'name': 'mul...\n",
       "pre_processor                                                         None\n",
       "pre_processor_kwargs                                                  None\n",
       "post_processor                                                        None\n",
       "post_processor_kwargs                                                 None\n",
       "parser                                                                None\n",
       "dtype: object"
      ]
     },
     "execution_count": 23,
     "metadata": {},
     "output_type": "execute_result"
    }
   ],
   "source": [
    "session.branches[1].tool_manager.registry[\"multiply\"]"
   ]
  },
  {
   "cell_type": "code",
   "execution_count": 24,
   "metadata": {},
   "outputs": [],
   "source": [
    "session.branches[1].send(\n",
    "    recipient=session.branches[0].ln_id,\n",
    "    category=\"tool\",\n",
    "    package=session.branches[1].tool_manager.registry[\"multiply\"],\n",
    ")"
   ]
  },
  {
   "cell_type": "code",
   "execution_count": 25,
   "metadata": {},
   "outputs": [],
   "source": [
    "session.collect_send_all(receive_all=True)"
   ]
  },
  {
   "cell_type": "code",
   "execution_count": 26,
   "metadata": {},
   "outputs": [
    {
     "data": {
      "text/plain": [
       "{'multiply': ln_id                                     4f021e5bf0dd1bf8a937223238a5b79d\n",
       " created                                         2024-05-21T23:21:38.588177\n",
       " metadata                                                                {}\n",
       " content                                                               None\n",
       " relations                                                           [0, 0]\n",
       " function                                                          multiply\n",
       " schema_                  {'type': 'function', 'function': {'name': 'mul...\n",
       " pre_processor                                                         None\n",
       " pre_processor_kwargs                                                  None\n",
       " post_processor                                                        None\n",
       " post_processor_kwargs                                                 None\n",
       " parser                                                                None\n",
       " dtype: object}"
      ]
     },
     "execution_count": 26,
     "metadata": {},
     "output_type": "execute_result"
    }
   ],
   "source": [
    "session.branches[0].tool_manager.registry"
   ]
  },
  {
   "cell_type": "markdown",
   "metadata": {},
   "source": [
    "## send imodel"
   ]
  },
  {
   "cell_type": "code",
   "execution_count": 27,
   "metadata": {},
   "outputs": [
    {
     "data": {
      "text/plain": [
       "<lionagi.core.collections.model.iModel at 0x11e710a00>"
      ]
     },
     "execution_count": 27,
     "metadata": {},
     "output_type": "execute_result"
    }
   ],
   "source": [
    "session.branches[1].imodel"
   ]
  },
  {
   "cell_type": "code",
   "execution_count": 28,
   "metadata": {},
   "outputs": [],
   "source": [
    "session.branches[1].send(\n",
    "    recipient=session.branches[0].ln_id,\n",
    "    category=\"imodel\",\n",
    "    package=session.branches[1].imodel,\n",
    ")"
   ]
  },
  {
   "cell_type": "code",
   "execution_count": 29,
   "metadata": {},
   "outputs": [],
   "source": [
    "session.collect_send_all(receive_all=True)"
   ]
  },
  {
   "cell_type": "code",
   "execution_count": 30,
   "metadata": {},
   "outputs": [
    {
     "data": {
      "text/plain": [
       "<lionagi.core.collections.model.iModel at 0x11e710a00>"
      ]
     },
     "execution_count": 30,
     "metadata": {},
     "output_type": "execute_result"
    }
   ],
   "source": [
    "session.branches[0].imodel"
   ]
  }
 ],
 "metadata": {
  "kernelspec": {
   "display_name": ".venv",
   "language": "python",
   "name": "python3"
  },
  "language_info": {
   "codemirror_mode": {
    "name": "ipython",
    "version": 3
   },
   "file_extension": ".py",
   "mimetype": "text/x-python",
   "name": "python",
   "nbconvert_exporter": "python",
   "pygments_lexer": "ipython3",
   "version": "3.10.6"
  }
 },
 "nbformat": 4,
 "nbformat_minor": 2
}
