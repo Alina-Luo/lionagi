{
 "cells": [
  {
   "cell_type": "code",
   "execution_count": 3,
   "metadata": {},
   "outputs": [],
   "source": [
    "from lionagi.core.generic.tree import TreeNode, Tree"
   ]
  },
  {
   "cell_type": "code",
   "execution_count": 4,
   "metadata": {},
   "outputs": [],
   "source": [
    "tree_node1 = TreeNode()\n",
    "tree_node2 = TreeNode()\n",
    "tree_node3 = TreeNode()\n",
    "tree_node4 = TreeNode()"
   ]
  },
  {
   "cell_type": "code",
   "execution_count": 5,
   "metadata": {},
   "outputs": [],
   "source": [
    "tree_node1.relate_child([tree_node2, tree_node3])"
   ]
  },
  {
   "cell_type": "code",
   "execution_count": 6,
   "metadata": {},
   "outputs": [
    {
     "data": {
      "text/plain": [
       "['e0eb335b23b2e79d6e687ef2bceb1f3c', 'e463f5f28af819af6f7c2a90e8f6231f']"
      ]
     },
     "execution_count": 6,
     "metadata": {},
     "output_type": "execute_result"
    }
   ],
   "source": [
    "tree_node1.children"
   ]
  },
  {
   "cell_type": "code",
   "execution_count": 7,
   "metadata": {},
   "outputs": [],
   "source": [
    "tree_node1.relate_parent(tree_node4)"
   ]
  },
  {
   "cell_type": "code",
   "execution_count": 8,
   "metadata": {},
   "outputs": [
    {
     "data": {
      "text/plain": [
       "'f428f0f5c818bf3858648c5acb0587aa'"
      ]
     },
     "execution_count": 8,
     "metadata": {},
     "output_type": "execute_result"
    }
   ],
   "source": [
    "tree_node1.parent.ln_id"
   ]
  },
  {
   "cell_type": "code",
   "execution_count": 9,
   "metadata": {},
   "outputs": [
    {
     "name": "stdout",
     "output_type": "stream",
     "text": [
      "None\n"
     ]
    }
   ],
   "source": [
    "tree_node1.unrelate_parent()\n",
    "print(tree_node1.parent or \"None\")"
   ]
  },
  {
   "cell_type": "code",
   "execution_count": 10,
   "metadata": {},
   "outputs": [],
   "source": [
    "tree_node1.unrelate_child([tree_node2, tree_node3])"
   ]
  },
  {
   "cell_type": "code",
   "execution_count": 11,
   "metadata": {},
   "outputs": [
    {
     "data": {
      "text/plain": [
       "[]"
      ]
     },
     "execution_count": 11,
     "metadata": {},
     "output_type": "execute_result"
    }
   ],
   "source": [
    "tree_node1.children"
   ]
  },
  {
   "cell_type": "code",
   "execution_count": 12,
   "metadata": {},
   "outputs": [],
   "source": [
    "tree_ = Tree()"
   ]
  },
  {
   "cell_type": "code",
   "execution_count": 13,
   "metadata": {},
   "outputs": [
    {
     "data": {
      "text/plain": [
       "'740fd07989d40f79881f789a4f1588e8'"
      ]
     },
     "execution_count": 13,
     "metadata": {},
     "output_type": "execute_result"
    }
   ],
   "source": [
    "tree_node1.ln_id"
   ]
  },
  {
   "cell_type": "code",
   "execution_count": 14,
   "metadata": {},
   "outputs": [],
   "source": [
    "tree_.relate_parent_child(tree_node1, [tree_node2, tree_node3, tree_node4])"
   ]
  },
  {
   "cell_type": "code",
   "execution_count": 15,
   "metadata": {},
   "outputs": [
    {
     "data": {
      "text/plain": [
       "4"
      ]
     },
     "execution_count": 15,
     "metadata": {},
     "output_type": "execute_result"
    }
   ],
   "source": [
    "len(tree_.internal_nodes)"
   ]
  },
  {
   "cell_type": "code",
   "execution_count": 16,
   "metadata": {},
   "outputs": [
    {
     "data": {
      "text/plain": [
       "['e0eb335b23b2e79d6e687ef2bceb1f3c',\n",
       " 'f428f0f5c818bf3858648c5acb0587aa',\n",
       " 'e463f5f28af819af6f7c2a90e8f6231f']"
      ]
     },
     "execution_count": 16,
     "metadata": {},
     "output_type": "execute_result"
    }
   ],
   "source": [
    "tree_node1.children"
   ]
  },
  {
   "cell_type": "code",
   "execution_count": 17,
   "metadata": {},
   "outputs": [
    {
     "data": {
      "text/html": [
       "<div>\n",
       "<style scoped>\n",
       "    .dataframe tbody tr th:only-of-type {\n",
       "        vertical-align: middle;\n",
       "    }\n",
       "\n",
       "    .dataframe tbody tr th {\n",
       "        vertical-align: top;\n",
       "    }\n",
       "\n",
       "    .dataframe thead th {\n",
       "        text-align: right;\n",
       "    }\n",
       "</style>\n",
       "<table border=\"1\" class=\"dataframe\">\n",
       "  <thead>\n",
       "    <tr style=\"text-align: right;\">\n",
       "      <th></th>\n",
       "      <th>ln_id</th>\n",
       "      <th>created</th>\n",
       "      <th>metadata</th>\n",
       "      <th>content</th>\n",
       "      <th>embedding</th>\n",
       "      <th>head</th>\n",
       "      <th>tail</th>\n",
       "      <th>condition</th>\n",
       "      <th>label</th>\n",
       "      <th>bundle</th>\n",
       "      <th>lion_class</th>\n",
       "    </tr>\n",
       "  </thead>\n",
       "  <tbody>\n",
       "    <tr>\n",
       "      <th>0</th>\n",
       "      <td>1799e6e814faecfdcd8c70355b407473</td>\n",
       "      <td>2024-05-28T22:22:59.831498</td>\n",
       "      <td>{}</td>\n",
       "      <td>None</td>\n",
       "      <td>[]</td>\n",
       "      <td>740fd07989d40f79881f789a4f1588e8</td>\n",
       "      <td>e0eb335b23b2e79d6e687ef2bceb1f3c</td>\n",
       "      <td>None</td>\n",
       "      <td>None</td>\n",
       "      <td>False</td>\n",
       "      <td>Edge</td>\n",
       "    </tr>\n",
       "    <tr>\n",
       "      <th>1</th>\n",
       "      <td>3c06d2884501b8b3970672b35fbd1e67</td>\n",
       "      <td>2024-05-28T22:22:59.831610</td>\n",
       "      <td>{}</td>\n",
       "      <td>None</td>\n",
       "      <td>[]</td>\n",
       "      <td>740fd07989d40f79881f789a4f1588e8</td>\n",
       "      <td>e463f5f28af819af6f7c2a90e8f6231f</td>\n",
       "      <td>None</td>\n",
       "      <td>None</td>\n",
       "      <td>False</td>\n",
       "      <td>Edge</td>\n",
       "    </tr>\n",
       "    <tr>\n",
       "      <th>2</th>\n",
       "      <td>e71e35663b9cc9e2f6f406fbb1566092</td>\n",
       "      <td>2024-05-28T22:22:59.831641</td>\n",
       "      <td>{}</td>\n",
       "      <td>None</td>\n",
       "      <td>[]</td>\n",
       "      <td>740fd07989d40f79881f789a4f1588e8</td>\n",
       "      <td>f428f0f5c818bf3858648c5acb0587aa</td>\n",
       "      <td>None</td>\n",
       "      <td>None</td>\n",
       "      <td>False</td>\n",
       "      <td>Edge</td>\n",
       "    </tr>\n",
       "  </tbody>\n",
       "</table>\n",
       "</div>"
      ],
      "text/plain": [
       "                              ln_id                     created metadata  \\\n",
       "0  1799e6e814faecfdcd8c70355b407473  2024-05-28T22:22:59.831498       {}   \n",
       "1  3c06d2884501b8b3970672b35fbd1e67  2024-05-28T22:22:59.831610       {}   \n",
       "2  e71e35663b9cc9e2f6f406fbb1566092  2024-05-28T22:22:59.831641       {}   \n",
       "\n",
       "  content embedding                              head  \\\n",
       "0    None        []  740fd07989d40f79881f789a4f1588e8   \n",
       "1    None        []  740fd07989d40f79881f789a4f1588e8   \n",
       "2    None        []  740fd07989d40f79881f789a4f1588e8   \n",
       "\n",
       "                               tail condition label  bundle lion_class  \n",
       "0  e0eb335b23b2e79d6e687ef2bceb1f3c      None  None   False       Edge  \n",
       "1  e463f5f28af819af6f7c2a90e8f6231f      None  None   False       Edge  \n",
       "2  f428f0f5c818bf3858648c5acb0587aa      None  None   False       Edge  "
      ]
     },
     "execution_count": 17,
     "metadata": {},
     "output_type": "execute_result"
    }
   ],
   "source": [
    "tree_node1.edges.to_df()"
   ]
  },
  {
   "cell_type": "code",
   "execution_count": 18,
   "metadata": {},
   "outputs": [
    {
     "data": {
      "text/plain": [
       "'740fd07989d40f79881f789a4f1588e8'"
      ]
     },
     "execution_count": 18,
     "metadata": {},
     "output_type": "execute_result"
    }
   ],
   "source": [
    "tree_.root.ln_id"
   ]
  },
  {
   "cell_type": "code",
   "execution_count": 19,
   "metadata": {},
   "outputs": [
    {
     "data": {
      "text/plain": [
       "3"
      ]
     },
     "execution_count": 19,
     "metadata": {},
     "output_type": "execute_result"
    }
   ],
   "source": [
    "len(tree_.internal_edges)"
   ]
  },
  {
   "cell_type": "code",
   "execution_count": 20,
   "metadata": {},
   "outputs": [
    {
     "data": {
      "text/plain": [
       "4"
      ]
     },
     "execution_count": 20,
     "metadata": {},
     "output_type": "execute_result"
    }
   ],
   "source": [
    "len(tree_.internal_nodes)"
   ]
  },
  {
   "cell_type": "code",
   "execution_count": 21,
   "metadata": {},
   "outputs": [
    {
     "data": {
      "image/png": "[encoded data removed]",
      "text/plain": [
       "<Figure size 640x480 with 1 Axes>"
      ]
     },
     "metadata": {},
     "output_type": "display_data"
    }
   ],
   "source": [
    "tree_.display()"
   ]
  }
 ],
 "metadata": {
  "kernelspec": {
   "display_name": ".venv",
   "language": "python",
   "name": "python3"
  },
  "language_info": {
   "codemirror_mode": {
    "name": "ipython",
    "version": 3
   },
   "file_extension": ".py",
   "mimetype": "text/x-python",
   "name": "python",
   "nbconvert_exporter": "python",
   "pygments_lexer": "ipython3",
   "version": "3.12.1"
  }
 },
 "nbformat": 4,
 "nbformat_minor": 2
}
