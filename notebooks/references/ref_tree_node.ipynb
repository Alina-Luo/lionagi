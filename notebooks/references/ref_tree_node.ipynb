{
 "cells": [
  {
   "cell_type": "code",
   "execution_count": 1,
   "metadata": {},
   "outputs": [],
   "source": [
    "from lionagi.core.generic import TreeNode, Tree"
   ]
  },
  {
   "cell_type": "code",
   "execution_count": 2,
   "metadata": {},
   "outputs": [],
   "source": [
    "tree_node1 = TreeNode()\n",
    "tree_node2 = TreeNode()\n",
    "tree_node3 = TreeNode()\n",
    "tree_node4 = TreeNode()"
   ]
  },
  {
   "cell_type": "code",
   "execution_count": 3,
   "metadata": {},
   "outputs": [],
   "source": [
    "tree_node1.relate_child([tree_node2, tree_node3])"
   ]
  },
  {
   "cell_type": "code",
   "execution_count": 4,
   "metadata": {},
   "outputs": [
    {
     "data": {
      "text/plain": [
       "['198ba31f825d6c063ad5ef4f9fda30eb', 'b0ad828422a40247d3f80cdf67f1f471']"
      ]
     },
     "execution_count": 4,
     "metadata": {},
     "output_type": "execute_result"
    }
   ],
   "source": [
    "tree_node1.children"
   ]
  },
  {
   "cell_type": "code",
   "execution_count": 5,
   "metadata": {},
   "outputs": [],
   "source": [
    "tree_node1.relate_parent(tree_node4)"
   ]
  },
  {
   "cell_type": "code",
   "execution_count": 6,
   "metadata": {},
   "outputs": [
    {
     "data": {
      "text/plain": [
       "'d7968756b69a747f8a6d73a98fec671c'"
      ]
     },
     "execution_count": 6,
     "metadata": {},
     "output_type": "execute_result"
    }
   ],
   "source": [
    "tree_node1.parent.ln_id"
   ]
  },
  {
   "cell_type": "code",
   "execution_count": 7,
   "metadata": {},
   "outputs": [
    {
     "name": "stdout",
     "output_type": "stream",
     "text": [
      "None\n"
     ]
    }
   ],
   "source": [
    "tree_node1.unrelate_parent()\n",
    "print(tree_node1.parent or \"None\")"
   ]
  },
  {
   "cell_type": "code",
   "execution_count": 8,
   "metadata": {},
   "outputs": [],
   "source": [
    "tree_node1.unrelate_child([tree_node2, tree_node3])"
   ]
  },
  {
   "cell_type": "code",
   "execution_count": 9,
   "metadata": {},
   "outputs": [
    {
     "data": {
      "text/plain": [
       "[]"
      ]
     },
     "execution_count": 9,
     "metadata": {},
     "output_type": "execute_result"
    }
   ],
   "source": [
    "tree_node1.children"
   ]
  },
  {
   "cell_type": "code",
   "execution_count": 10,
   "metadata": {},
   "outputs": [],
   "source": [
    "tree_ = Tree()"
   ]
  },
  {
   "cell_type": "code",
   "execution_count": 11,
   "metadata": {},
   "outputs": [
    {
     "data": {
      "text/plain": [
       "'1c1cf5e7e79163e5092027149593e1d8'"
      ]
     },
     "execution_count": 11,
     "metadata": {},
     "output_type": "execute_result"
    }
   ],
   "source": [
    "tree_node1.ln_id"
   ]
  },
  {
   "cell_type": "code",
   "execution_count": 12,
   "metadata": {},
   "outputs": [],
   "source": [
    "tree_.relate_parent_child(tree_node1, [tree_node2, tree_node3, tree_node4])"
   ]
  },
  {
   "cell_type": "code",
   "execution_count": 13,
   "metadata": {},
   "outputs": [
    {
     "data": {
      "text/plain": [
       "4"
      ]
     },
     "execution_count": 13,
     "metadata": {},
     "output_type": "execute_result"
    }
   ],
   "source": [
    "len(tree_.internal_nodes)"
   ]
  },
  {
   "cell_type": "code",
   "execution_count": 14,
   "metadata": {},
   "outputs": [
    {
     "data": {
      "text/plain": [
       "['d7968756b69a747f8a6d73a98fec671c',\n",
       " '198ba31f825d6c063ad5ef4f9fda30eb',\n",
       " 'b0ad828422a40247d3f80cdf67f1f471']"
      ]
     },
     "execution_count": 14,
     "metadata": {},
     "output_type": "execute_result"
    }
   ],
   "source": [
    "tree_node1.children"
   ]
  },
  {
   "cell_type": "code",
   "execution_count": 15,
   "metadata": {},
   "outputs": [
    {
     "data": {
      "text/html": [
       "<div>\n",
       "<style scoped>\n",
       "    .dataframe tbody tr th:only-of-type {\n",
       "        vertical-align: middle;\n",
       "    }\n",
       "\n",
       "    .dataframe tbody tr th {\n",
       "        vertical-align: top;\n",
       "    }\n",
       "\n",
       "    .dataframe thead th {\n",
       "        text-align: right;\n",
       "    }\n",
       "</style>\n",
       "<table border=\"1\" class=\"dataframe\">\n",
       "  <thead>\n",
       "    <tr style=\"text-align: right;\">\n",
       "      <th></th>\n",
       "      <th>ln_id</th>\n",
       "      <th>created</th>\n",
       "      <th>metadata</th>\n",
       "      <th>content</th>\n",
       "      <th>head</th>\n",
       "      <th>tail</th>\n",
       "      <th>condition</th>\n",
       "      <th>label</th>\n",
       "      <th>bundle</th>\n",
       "    </tr>\n",
       "  </thead>\n",
       "  <tbody>\n",
       "    <tr>\n",
       "      <th>0</th>\n",
       "      <td>dde4f6e697b2cc8c346de8c67dced87f</td>\n",
       "      <td>2024-05-14T02:08:35.166103</td>\n",
       "      <td>{}</td>\n",
       "      <td>None</td>\n",
       "      <td>1c1cf5e7e79163e5092027149593e1d8</td>\n",
       "      <td>198ba31f825d6c063ad5ef4f9fda30eb</td>\n",
       "      <td>None</td>\n",
       "      <td>parent</td>\n",
       "      <td>False</td>\n",
       "    </tr>\n",
       "    <tr>\n",
       "      <th>1</th>\n",
       "      <td>c4b0fca1225ec53409d0b0701541c0a7</td>\n",
       "      <td>2024-05-14T02:08:35.166321</td>\n",
       "      <td>{}</td>\n",
       "      <td>None</td>\n",
       "      <td>1c1cf5e7e79163e5092027149593e1d8</td>\n",
       "      <td>b0ad828422a40247d3f80cdf67f1f471</td>\n",
       "      <td>None</td>\n",
       "      <td>parent</td>\n",
       "      <td>False</td>\n",
       "    </tr>\n",
       "    <tr>\n",
       "      <th>2</th>\n",
       "      <td>d3253c1862dd84be80cddbcd2ba29dc6</td>\n",
       "      <td>2024-05-14T02:08:35.166361</td>\n",
       "      <td>{}</td>\n",
       "      <td>None</td>\n",
       "      <td>1c1cf5e7e79163e5092027149593e1d8</td>\n",
       "      <td>d7968756b69a747f8a6d73a98fec671c</td>\n",
       "      <td>None</td>\n",
       "      <td>parent</td>\n",
       "      <td>False</td>\n",
       "    </tr>\n",
       "  </tbody>\n",
       "</table>\n",
       "</div>"
      ],
      "text/plain": [
       "                              ln_id                     created metadata  \\\n",
       "0  dde4f6e697b2cc8c346de8c67dced87f  2024-05-14T02:08:35.166103       {}   \n",
       "1  c4b0fca1225ec53409d0b0701541c0a7  2024-05-14T02:08:35.166321       {}   \n",
       "2  d3253c1862dd84be80cddbcd2ba29dc6  2024-05-14T02:08:35.166361       {}   \n",
       "\n",
       "  content                              head                              tail  \\\n",
       "0    None  1c1cf5e7e79163e5092027149593e1d8  198ba31f825d6c063ad5ef4f9fda30eb   \n",
       "1    None  1c1cf5e7e79163e5092027149593e1d8  b0ad828422a40247d3f80cdf67f1f471   \n",
       "2    None  1c1cf5e7e79163e5092027149593e1d8  d7968756b69a747f8a6d73a98fec671c   \n",
       "\n",
       "  condition   label  bundle  \n",
       "0      None  parent   False  \n",
       "1      None  parent   False  \n",
       "2      None  parent   False  "
      ]
     },
     "execution_count": 15,
     "metadata": {},
     "output_type": "execute_result"
    }
   ],
   "source": [
    "tree_node1.edges.to_df()"
   ]
  },
  {
   "cell_type": "code",
   "execution_count": 16,
   "metadata": {},
   "outputs": [
    {
     "data": {
      "text/plain": [
       "'1c1cf5e7e79163e5092027149593e1d8'"
      ]
     },
     "execution_count": 16,
     "metadata": {},
     "output_type": "execute_result"
    }
   ],
   "source": [
    "tree_.root.ln_id"
   ]
  },
  {
   "cell_type": "code",
   "execution_count": 17,
   "metadata": {},
   "outputs": [
    {
     "data": {
      "text/plain": [
       "3"
      ]
     },
     "execution_count": 17,
     "metadata": {},
     "output_type": "execute_result"
    }
   ],
   "source": [
    "len(tree_.internal_edges)"
   ]
  },
  {
   "cell_type": "code",
   "execution_count": 18,
   "metadata": {},
   "outputs": [
    {
     "data": {
      "text/plain": [
       "4"
      ]
     },
     "execution_count": 18,
     "metadata": {},
     "output_type": "execute_result"
    }
   ],
   "source": [
    "len(tree_.internal_nodes)"
   ]
  },
  {
   "cell_type": "code",
   "execution_count": 19,
   "metadata": {},
   "outputs": [
    {
     "data": {
      "image/png": "[encoded data removed]",
      "text/plain": [
       "<Figure size 640x480 with 1 Axes>"
      ]
     },
     "metadata": {},
     "output_type": "display_data"
    }
   ],
   "source": [
    "tree_.display()"
   ]
  }
 ],
 "metadata": {
  "kernelspec": {
   "display_name": ".venv",
   "language": "python",
   "name": "python3"
  },
  "language_info": {
   "codemirror_mode": {
    "name": "ipython",
    "version": 3
   },
   "file_extension": ".py",
   "mimetype": "text/x-python",
   "name": "python",
   "nbconvert_exporter": "python",
   "pygments_lexer": "ipython3",
   "version": "3.11.6"
  }
 },
 "nbformat": 4,
 "nbformat_minor": 2
}
