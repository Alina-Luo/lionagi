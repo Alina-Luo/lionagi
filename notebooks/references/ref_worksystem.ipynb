{
 "cells": [
  {
   "cell_type": "code",
   "execution_count": 1,
   "metadata": {},
   "outputs": [],
   "source": [
    "import lionagi as li"
   ]
  },
  {
   "cell_type": "code",
   "execution_count": 2,
   "metadata": {},
   "outputs": [],
   "source": [
    "class Coder(li.Worker):\n",
    "    name = \"coder\"\n",
    "    \n",
    "    @li.work(capacity=5, timeout=5, refresh_time=1)\n",
    "    async def chat(self, instruction=None, context=None):\n",
    "        branch = li.Branch()\n",
    "        return await branch.chat(instruction=instruction, context=context)"
   ]
  },
  {
   "cell_type": "code",
   "execution_count": 3,
   "metadata": {},
   "outputs": [],
   "source": [
    "coder = Coder()"
   ]
  },
  {
   "cell_type": "code",
   "execution_count": 4,
   "metadata": {},
   "outputs": [],
   "source": [
    "# calling the function only adds it to the internal worklog\n",
    "instruction = \"write a serious hello world according to the given language, answer only in emoji\"\n",
    "languages = [\"python\", \"c++\", \"java\", \"javascript\", \"ruby\", \"php\", \"c#\", \"matlab\"]\n",
    "\n",
    "for i in languages:\n",
    "    await coder.chat(instruction=instruction, context=i)"
   ]
  },
  {
   "cell_type": "code",
   "execution_count": 5,
   "metadata": {},
   "outputs": [],
   "source": [
    "chat_func_log = coder.work_functions['chat'].worklog"
   ]
  },
  {
   "cell_type": "code",
   "execution_count": 6,
   "metadata": {},
   "outputs": [
    {
     "name": "stdout",
     "output_type": "stream",
     "text": [
      "Total number of work items in the worklog: \t\t 8\n",
      "Total number of pending items in the worklog: \t\t 8\n",
      "Available capacity remaining in the async queue: \t 5\n"
     ]
    }
   ],
   "source": [
    "print(\"Total number of work items in the worklog: \\t\\t\", len(chat_func_log.pile))\n",
    "print(\"Total number of pending items in the worklog: \\t\\t\", len(chat_func_log.pending))\n",
    "print(\"Available capacity remaining in the async queue: \\t\", chat_func_log.queue.available_capacity)"
   ]
  },
  {
   "cell_type": "code",
   "execution_count": 7,
   "metadata": {},
   "outputs": [],
   "source": [
    "await chat_func_log.forward()\n",
    "await chat_func_log.queue.process()"
   ]
  },
  {
   "cell_type": "code",
   "execution_count": 8,
   "metadata": {},
   "outputs": [
    {
     "name": "stdout",
     "output_type": "stream",
     "text": [
      "python: 🐍✨🌍👋\n",
      "c++: 👋🌍👨‍💻📝💻\n",
      "java: ☕️🌍👋\n",
      "javascript: 🌐✨🖥️👋🌍\n",
      "ruby: 🔴💎🌍\n"
     ]
    }
   ],
   "source": [
    "for language, work in zip(languages, chat_func_log.completed_work.values()):\n",
    "    print(f\"{language}: {work.result}\")"
   ]
  },
  {
   "cell_type": "code",
   "execution_count": 10,
   "metadata": {},
   "outputs": [],
   "source": [
    "await chat_func_log.forward()\n",
    "await chat_func_log.queue.process()"
   ]
  },
  {
   "cell_type": "code",
   "execution_count": 11,
   "metadata": {},
   "outputs": [
    {
     "name": "stdout",
     "output_type": "stream",
     "text": [
      "python: 🐍✨🌍👋\n",
      "c++: 👋🌍👨‍💻📝💻\n",
      "java: ☕️🌍👋\n",
      "javascript: 🌐✨🖥️👋🌍\n",
      "ruby: 🔴💎🌍\n",
      "php: 👋🌍✉️🐘💻\n",
      "c#: 👋🌍\n",
      "matlab: 👋🌍🔢\n"
     ]
    }
   ],
   "source": [
    "for language, work in zip(languages, chat_func_log.completed_work.values()):\n",
    "    print(f\"{language}: {work.result}\")"
   ]
  },
  {
   "cell_type": "code",
   "execution_count": 14,
   "metadata": {},
   "outputs": [
    {
     "data": {
      "text/html": [
       "<div>\n",
       "<style scoped>\n",
       "    .dataframe tbody tr th:only-of-type {\n",
       "        vertical-align: middle;\n",
       "    }\n",
       "\n",
       "    .dataframe tbody tr th {\n",
       "        vertical-align: top;\n",
       "    }\n",
       "\n",
       "    .dataframe thead th {\n",
       "        text-align: right;\n",
       "    }\n",
       "</style>\n",
       "<table border=\"1\" class=\"dataframe\">\n",
       "  <thead>\n",
       "    <tr style=\"text-align: right;\">\n",
       "      <th></th>\n",
       "      <th>ln_id</th>\n",
       "      <th>created</th>\n",
       "      <th>metadata</th>\n",
       "      <th>content</th>\n",
       "      <th>status</th>\n",
       "      <th>result</th>\n",
       "      <th>error</th>\n",
       "      <th>completion_timestamp</th>\n",
       "      <th>duration</th>\n",
       "    </tr>\n",
       "  </thead>\n",
       "  <tbody>\n",
       "    <tr>\n",
       "      <th>0</th>\n",
       "      <td>03747bddb08d5639015595c6781c0445</td>\n",
       "      <td>2024-05-10T14:59:51.467974</td>\n",
       "      <td>{'last_updated': {'status': (2, '2024-05-10T14...</td>\n",
       "      <td>None</td>\n",
       "      <td>WorkStatus.COMPLETED</td>\n",
       "      <td>🐍✨🌍👋</td>\n",
       "      <td>None</td>\n",
       "      <td>2024-05-10T14:59:53.166196</td>\n",
       "      <td>1.697971</td>\n",
       "    </tr>\n",
       "    <tr>\n",
       "      <th>1</th>\n",
       "      <td>f64d3772114ec7190ecca8535c15c022</td>\n",
       "      <td>2024-05-10T14:59:51.468021</td>\n",
       "      <td>{'last_updated': {'status': (2, '2024-05-10T14...</td>\n",
       "      <td>None</td>\n",
       "      <td>WorkStatus.COMPLETED</td>\n",
       "      <td>👋🌍👨‍💻📝💻</td>\n",
       "      <td>None</td>\n",
       "      <td>2024-05-10T14:59:53.356393</td>\n",
       "      <td>1.888120</td>\n",
       "    </tr>\n",
       "    <tr>\n",
       "      <th>2</th>\n",
       "      <td>821897cb62c88ae235017c8ed2c13e2c</td>\n",
       "      <td>2024-05-10T14:59:51.468040</td>\n",
       "      <td>{'last_updated': {'status': (2, '2024-05-10T14...</td>\n",
       "      <td>None</td>\n",
       "      <td>WorkStatus.COMPLETED</td>\n",
       "      <td>☕️🌍👋</td>\n",
       "      <td>None</td>\n",
       "      <td>2024-05-10T14:59:53.356597</td>\n",
       "      <td>1.771237</td>\n",
       "    </tr>\n",
       "    <tr>\n",
       "      <th>3</th>\n",
       "      <td>ef5bef14ca68bd66d7685a846105b891</td>\n",
       "      <td>2024-05-10T14:59:51.468056</td>\n",
       "      <td>{'last_updated': {'status': (2, '2024-05-10T14...</td>\n",
       "      <td>None</td>\n",
       "      <td>WorkStatus.COMPLETED</td>\n",
       "      <td>🌐✨🖥️👋🌍</td>\n",
       "      <td>None</td>\n",
       "      <td>2024-05-10T14:59:53.356824</td>\n",
       "      <td>1.666174</td>\n",
       "    </tr>\n",
       "    <tr>\n",
       "      <th>4</th>\n",
       "      <td>3e946482d337e3a0909ca4b087a3fa77</td>\n",
       "      <td>2024-05-10T14:59:51.468069</td>\n",
       "      <td>{'last_updated': {'status': (2, '2024-05-10T14...</td>\n",
       "      <td>None</td>\n",
       "      <td>WorkStatus.COMPLETED</td>\n",
       "      <td>🔴💎🌍</td>\n",
       "      <td>None</td>\n",
       "      <td>2024-05-10T14:59:53.357062</td>\n",
       "      <td>1.468743</td>\n",
       "    </tr>\n",
       "    <tr>\n",
       "      <th>5</th>\n",
       "      <td>6a57b6be98ee986d849816694549f758</td>\n",
       "      <td>2024-05-10T14:59:51.468083</td>\n",
       "      <td>{'last_updated': {'status': (2, '2024-05-10T14...</td>\n",
       "      <td>None</td>\n",
       "      <td>WorkStatus.COMPLETED</td>\n",
       "      <td>👋🌍✉️🐘💻</td>\n",
       "      <td>None</td>\n",
       "      <td>2024-05-10T14:59:53.376120</td>\n",
       "      <td>1.877940</td>\n",
       "    </tr>\n",
       "    <tr>\n",
       "      <th>6</th>\n",
       "      <td>58d1f0bc2e0d671d855d6851070c432e</td>\n",
       "      <td>2024-05-10T14:59:51.468097</td>\n",
       "      <td>{'last_updated': {'status': (2, '2024-05-10T14...</td>\n",
       "      <td>None</td>\n",
       "      <td>WorkStatus.COMPLETED</td>\n",
       "      <td>👋🌍</td>\n",
       "      <td>None</td>\n",
       "      <td>2024-05-10T14:59:53.376727</td>\n",
       "      <td>1.015103</td>\n",
       "    </tr>\n",
       "    <tr>\n",
       "      <th>7</th>\n",
       "      <td>25903d8ac1d651945a69095c9849a3eb</td>\n",
       "      <td>2024-05-10T14:59:51.468113</td>\n",
       "      <td>{'last_updated': {'status': (2, '2024-05-10T14...</td>\n",
       "      <td>None</td>\n",
       "      <td>WorkStatus.COMPLETED</td>\n",
       "      <td>👋🌍🔢</td>\n",
       "      <td>None</td>\n",
       "      <td>2024-05-10T14:59:53.376946</td>\n",
       "      <td>1.148245</td>\n",
       "    </tr>\n",
       "  </tbody>\n",
       "</table>\n",
       "</div>"
      ],
      "text/plain": [
       "                              ln_id                     created  \\\n",
       "0  03747bddb08d5639015595c6781c0445  2024-05-10T14:59:51.467974   \n",
       "1  f64d3772114ec7190ecca8535c15c022  2024-05-10T14:59:51.468021   \n",
       "2  821897cb62c88ae235017c8ed2c13e2c  2024-05-10T14:59:51.468040   \n",
       "3  ef5bef14ca68bd66d7685a846105b891  2024-05-10T14:59:51.468056   \n",
       "4  3e946482d337e3a0909ca4b087a3fa77  2024-05-10T14:59:51.468069   \n",
       "5  6a57b6be98ee986d849816694549f758  2024-05-10T14:59:51.468083   \n",
       "6  58d1f0bc2e0d671d855d6851070c432e  2024-05-10T14:59:51.468097   \n",
       "7  25903d8ac1d651945a69095c9849a3eb  2024-05-10T14:59:51.468113   \n",
       "\n",
       "                                            metadata content  \\\n",
       "0  {'last_updated': {'status': (2, '2024-05-10T14...    None   \n",
       "1  {'last_updated': {'status': (2, '2024-05-10T14...    None   \n",
       "2  {'last_updated': {'status': (2, '2024-05-10T14...    None   \n",
       "3  {'last_updated': {'status': (2, '2024-05-10T14...    None   \n",
       "4  {'last_updated': {'status': (2, '2024-05-10T14...    None   \n",
       "5  {'last_updated': {'status': (2, '2024-05-10T14...    None   \n",
       "6  {'last_updated': {'status': (2, '2024-05-10T14...    None   \n",
       "7  {'last_updated': {'status': (2, '2024-05-10T14...    None   \n",
       "\n",
       "                 status   result error        completion_timestamp  duration  \n",
       "0  WorkStatus.COMPLETED     🐍✨🌍👋  None  2024-05-10T14:59:53.166196  1.697971  \n",
       "1  WorkStatus.COMPLETED  👋🌍👨‍💻📝💻  None  2024-05-10T14:59:53.356393  1.888120  \n",
       "2  WorkStatus.COMPLETED     ☕️🌍👋  None  2024-05-10T14:59:53.356597  1.771237  \n",
       "3  WorkStatus.COMPLETED   🌐✨🖥️👋🌍  None  2024-05-10T14:59:53.356824  1.666174  \n",
       "4  WorkStatus.COMPLETED      🔴💎🌍  None  2024-05-10T14:59:53.357062  1.468743  \n",
       "5  WorkStatus.COMPLETED   👋🌍✉️🐘💻  None  2024-05-10T14:59:53.376120  1.877940  \n",
       "6  WorkStatus.COMPLETED       👋🌍  None  2024-05-10T14:59:53.376727  1.015103  \n",
       "7  WorkStatus.COMPLETED      👋🌍🔢  None  2024-05-10T14:59:53.376946  1.148245  "
      ]
     },
     "execution_count": 14,
     "metadata": {},
     "output_type": "execute_result"
    }
   ],
   "source": [
    "chat_func_log.pile.to_df()"
   ]
  },
  {
   "cell_type": "code",
   "execution_count": null,
   "metadata": {},
   "outputs": [],
   "source": []
  }
 ],
 "metadata": {
  "kernelspec": {
   "display_name": ".venv",
   "language": "python",
   "name": "python3"
  },
  "language_info": {
   "codemirror_mode": {
    "name": "ipython",
    "version": 3
   },
   "file_extension": ".py",
   "mimetype": "text/x-python",
   "name": "python",
   "nbconvert_exporter": "python",
   "pygments_lexer": "ipython3",
   "version": "3.11.6"
  }
 },
 "nbformat": 4,
 "nbformat_minor": 2
}
