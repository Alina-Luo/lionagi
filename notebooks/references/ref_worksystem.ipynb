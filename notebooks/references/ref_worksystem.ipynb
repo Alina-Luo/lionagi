{
 "cells": [
  {
   "cell_type": "code",
   "execution_count": 1,
   "metadata": {},
   "outputs": [],
   "source": [
    "import lionagi as li"
   ]
  },
  {
   "cell_type": "code",
   "execution_count": 2,
   "metadata": {},
   "outputs": [],
   "source": [
    "class Coder(li.Worker):\n",
    "    name = \"coder\"\n",
    "\n",
    "    @li.work(capacity=5, timeout=5, refresh_time=1)\n",
    "    async def chat(self, instruction=None, context=None):\n",
    "        branch = li.Branch()\n",
    "        return await branch.chat(instruction=instruction, context=context)"
   ]
  },
  {
   "cell_type": "code",
   "execution_count": 3,
   "metadata": {},
   "outputs": [],
   "source": [
    "coder = Coder()"
   ]
  },
  {
   "cell_type": "code",
   "execution_count": 4,
   "metadata": {},
   "outputs": [],
   "source": [
    "# calling the function only adds it to the internal worklog\n",
    "instruction = (\n",
    "    \"write a serious hello world according to the given language, answer only in emoji\"\n",
    ")\n",
    "languages = [\"python\", \"c++\", \"java\", \"javascript\", \"ruby\", \"php\", \"c#\", \"matlab\"]\n",
    "\n",
    "for i in languages:\n",
    "    await coder.chat(instruction=instruction, context=i)"
   ]
  },
  {
   "cell_type": "code",
   "execution_count": 5,
   "metadata": {},
   "outputs": [],
   "source": [
    "chat_func_log = coder.work_functions[\"chat\"].worklog"
   ]
  },
  {
   "cell_type": "code",
   "execution_count": 6,
   "metadata": {},
   "outputs": [
    {
     "name": "stdout",
     "output_type": "stream",
     "text": [
      "Total number of work items in the worklog: \t\t 8\n",
      "Total number of pending items in the worklog: \t\t 8\n",
      "Available capacity remaining in the async queue: \t 5\n"
     ]
    }
   ],
   "source": [
    "print(\"Total number of work items in the worklog: \\t\\t\", len(chat_func_log.pile))\n",
    "print(\"Total number of pending items in the worklog: \\t\\t\", len(chat_func_log.pending))\n",
    "print(\n",
    "    \"Available capacity remaining in the async queue: \\t\",\n",
    "    chat_func_log.queue.available_capacity,\n",
    ")"
   ]
  },
  {
   "cell_type": "code",
   "execution_count": 7,
   "metadata": {},
   "outputs": [],
   "source": [
    "await chat_func_log.forward()\n",
    "await chat_func_log.queue.process()"
   ]
  },
  {
   "cell_type": "code",
   "execution_count": 8,
   "metadata": {},
   "outputs": [
    {
     "name": "stdout",
     "output_type": "stream",
     "text": [
      "python: 🐍💻🖥️:\n",
      "```python\n",
      "print(\"Hello, World!\")\n",
      "```\n",
      "c++: ```cpp\n",
      "#include <iostream>\n",
      "using namespace std;\n",
      "\n",
      "int main() {\n",
      "    cout << \"🌍👋\" << endl;\n",
      "    return 0;\n",
      "}\n",
      "```\n",
      "java: ```java\n",
      "👋🌍🛠️☕💻\n",
      "javascript: ```javascript\n",
      "console.log(\"👋🌍\");\n",
      "```\n",
      "ruby: ```ruby\n",
      "👋🌍\n",
      "```\n"
     ]
    }
   ],
   "source": [
    "for language, work in zip(languages, chat_func_log.completed_work.values()):\n",
    "    print(f\"{language}: {work.result}\")"
   ]
  },
  {
   "cell_type": "code",
   "execution_count": 9,
   "metadata": {},
   "outputs": [],
   "source": [
    "await chat_func_log.forward()\n",
    "await chat_func_log.queue.process()"
   ]
  },
  {
   "cell_type": "code",
   "execution_count": 10,
   "metadata": {},
   "outputs": [
    {
     "name": "stdout",
     "output_type": "stream",
     "text": [
      "python: 🐍💻🖥️:\n",
      "```python\n",
      "print(\"Hello, World!\")\n",
      "```\n",
      "c++: ```cpp\n",
      "#include <iostream>\n",
      "using namespace std;\n",
      "\n",
      "int main() {\n",
      "    cout << \"🌍👋\" << endl;\n",
      "    return 0;\n",
      "}\n",
      "```\n",
      "java: ```java\n",
      "👋🌍🛠️☕💻\n",
      "javascript: ```javascript\n",
      "console.log(\"👋🌍\");\n",
      "```\n",
      "ruby: ```ruby\n",
      "👋🌍\n",
      "```\n",
      "php: ```php\n",
      "<?php\n",
      "echo \"👋🌍\";\n",
      "?>\n",
      "```\n",
      "c#: ```\n",
      "👋🌍\n",
      "```\n",
      "matlab: ```matlab\n",
      "disp('👋🌍')\n",
      "```\n"
     ]
    }
   ],
   "source": [
    "for language, work in zip(languages, chat_func_log.completed_work.values()):\n",
    "    print(f\"{language}: {work.result}\")"
   ]
  },
  {
   "cell_type": "code",
   "execution_count": 11,
   "metadata": {},
   "outputs": [
    {
     "data": {
      "text/html": [
       "<div>\n",
       "<style scoped>\n",
       "    .dataframe tbody tr th:only-of-type {\n",
       "        vertical-align: middle;\n",
       "    }\n",
       "\n",
       "    .dataframe tbody tr th {\n",
       "        vertical-align: top;\n",
       "    }\n",
       "\n",
       "    .dataframe thead th {\n",
       "        text-align: right;\n",
       "    }\n",
       "</style>\n",
       "<table border=\"1\" class=\"dataframe\">\n",
       "  <thead>\n",
       "    <tr style=\"text-align: right;\">\n",
       "      <th></th>\n",
       "      <th>ln_id</th>\n",
       "      <th>created</th>\n",
       "      <th>metadata</th>\n",
       "      <th>content</th>\n",
       "      <th>status</th>\n",
       "      <th>result</th>\n",
       "      <th>error</th>\n",
       "      <th>completion_timestamp</th>\n",
       "      <th>duration</th>\n",
       "    </tr>\n",
       "  </thead>\n",
       "  <tbody>\n",
       "    <tr>\n",
       "      <th>0</th>\n",
       "      <td>1d83d5869bda3cd48d71b4e1bcc20d8c</td>\n",
       "      <td>2024-05-14T02:08:47.770981</td>\n",
       "      <td>{'last_updated': {'status': '2024-05-14T02:08:...</td>\n",
       "      <td>None</td>\n",
       "      <td>WorkStatus.COMPLETED</td>\n",
       "      <td>🐍💻🖥️:\\n```python\\nprint(\"Hello, World!\")\\n```</td>\n",
       "      <td>None</td>\n",
       "      <td>2024-05-14T02:08:48.866292</td>\n",
       "      <td>1.095071</td>\n",
       "    </tr>\n",
       "    <tr>\n",
       "      <th>1</th>\n",
       "      <td>1eee56b3cfa52375e4a87efb530582c6</td>\n",
       "      <td>2024-05-14T02:08:47.771030</td>\n",
       "      <td>{'last_updated': {'status': '2024-05-14T02:08:...</td>\n",
       "      <td>None</td>\n",
       "      <td>WorkStatus.COMPLETED</td>\n",
       "      <td>```cpp\\n#include &lt;iostream&gt;\\nusing namespace s...</td>\n",
       "      <td>None</td>\n",
       "      <td>2024-05-14T02:08:48.866428</td>\n",
       "      <td>1.009315</td>\n",
       "    </tr>\n",
       "    <tr>\n",
       "      <th>2</th>\n",
       "      <td>d36e13084a824a2e4e880c726d2c8799</td>\n",
       "      <td>2024-05-14T02:08:47.771046</td>\n",
       "      <td>{'last_updated': {'status': '2024-05-14T02:08:...</td>\n",
       "      <td>None</td>\n",
       "      <td>WorkStatus.COMPLETED</td>\n",
       "      <td>```java\\n👋🌍🛠️☕💻</td>\n",
       "      <td>None</td>\n",
       "      <td>2024-05-14T02:08:48.866513</td>\n",
       "      <td>0.739154</td>\n",
       "    </tr>\n",
       "    <tr>\n",
       "      <th>3</th>\n",
       "      <td>3ddc0be116f799288e0a107f5df4163e</td>\n",
       "      <td>2024-05-14T02:08:47.771061</td>\n",
       "      <td>{'last_updated': {'status': '2024-05-14T02:08:...</td>\n",
       "      <td>None</td>\n",
       "      <td>WorkStatus.COMPLETED</td>\n",
       "      <td>```javascript\\nconsole.log(\"👋🌍\");\\n```</td>\n",
       "      <td>None</td>\n",
       "      <td>2024-05-14T02:08:48.866595</td>\n",
       "      <td>0.670039</td>\n",
       "    </tr>\n",
       "    <tr>\n",
       "      <th>4</th>\n",
       "      <td>a1100aa0df9209fc400164cb580371b1</td>\n",
       "      <td>2024-05-14T02:08:47.771073</td>\n",
       "      <td>{'last_updated': {'status': '2024-05-14T02:08:...</td>\n",
       "      <td>None</td>\n",
       "      <td>WorkStatus.COMPLETED</td>\n",
       "      <td>```ruby\\n👋🌍\\n```</td>\n",
       "      <td>None</td>\n",
       "      <td>2024-05-14T02:08:48.866680</td>\n",
       "      <td>0.652948</td>\n",
       "    </tr>\n",
       "    <tr>\n",
       "      <th>5</th>\n",
       "      <td>30d22e8c32d20a7cf65e09db4c7fe052</td>\n",
       "      <td>2024-05-14T02:08:47.771084</td>\n",
       "      <td>{'last_updated': {'status': '2024-05-14T02:08:...</td>\n",
       "      <td>None</td>\n",
       "      <td>WorkStatus.COMPLETED</td>\n",
       "      <td>```php\\n&lt;?php\\necho \"👋🌍\";\\n?&gt;\\n```</td>\n",
       "      <td>None</td>\n",
       "      <td>2024-05-14T02:08:48.875319</td>\n",
       "      <td>0.726192</td>\n",
       "    </tr>\n",
       "    <tr>\n",
       "      <th>6</th>\n",
       "      <td>8a928c0d06b9fab9e2f812f9f15a948b</td>\n",
       "      <td>2024-05-14T02:08:47.771095</td>\n",
       "      <td>{'last_updated': {'status': '2024-05-14T02:08:...</td>\n",
       "      <td>None</td>\n",
       "      <td>WorkStatus.COMPLETED</td>\n",
       "      <td>```\\n👋🌍\\n```</td>\n",
       "      <td>None</td>\n",
       "      <td>2024-05-14T02:08:48.875526</td>\n",
       "      <td>0.595971</td>\n",
       "    </tr>\n",
       "    <tr>\n",
       "      <th>7</th>\n",
       "      <td>2f875d1fa6b76c82d399610bf17aa80b</td>\n",
       "      <td>2024-05-14T02:08:47.771110</td>\n",
       "      <td>{'last_updated': {'status': '2024-05-14T02:08:...</td>\n",
       "      <td>None</td>\n",
       "      <td>WorkStatus.COMPLETED</td>\n",
       "      <td>```matlab\\ndisp('👋🌍')\\n```</td>\n",
       "      <td>None</td>\n",
       "      <td>2024-05-14T02:08:48.875733</td>\n",
       "      <td>0.691921</td>\n",
       "    </tr>\n",
       "  </tbody>\n",
       "</table>\n",
       "</div>"
      ],
      "text/plain": [
       "                              ln_id                     created  \\\n",
       "0  1d83d5869bda3cd48d71b4e1bcc20d8c  2024-05-14T02:08:47.770981   \n",
       "1  1eee56b3cfa52375e4a87efb530582c6  2024-05-14T02:08:47.771030   \n",
       "2  d36e13084a824a2e4e880c726d2c8799  2024-05-14T02:08:47.771046   \n",
       "3  3ddc0be116f799288e0a107f5df4163e  2024-05-14T02:08:47.771061   \n",
       "4  a1100aa0df9209fc400164cb580371b1  2024-05-14T02:08:47.771073   \n",
       "5  30d22e8c32d20a7cf65e09db4c7fe052  2024-05-14T02:08:47.771084   \n",
       "6  8a928c0d06b9fab9e2f812f9f15a948b  2024-05-14T02:08:47.771095   \n",
       "7  2f875d1fa6b76c82d399610bf17aa80b  2024-05-14T02:08:47.771110   \n",
       "\n",
       "                                            metadata content  \\\n",
       "0  {'last_updated': {'status': '2024-05-14T02:08:...    None   \n",
       "1  {'last_updated': {'status': '2024-05-14T02:08:...    None   \n",
       "2  {'last_updated': {'status': '2024-05-14T02:08:...    None   \n",
       "3  {'last_updated': {'status': '2024-05-14T02:08:...    None   \n",
       "4  {'last_updated': {'status': '2024-05-14T02:08:...    None   \n",
       "5  {'last_updated': {'status': '2024-05-14T02:08:...    None   \n",
       "6  {'last_updated': {'status': '2024-05-14T02:08:...    None   \n",
       "7  {'last_updated': {'status': '2024-05-14T02:08:...    None   \n",
       "\n",
       "                 status                                             result  \\\n",
       "0  WorkStatus.COMPLETED      🐍💻🖥️:\\n```python\\nprint(\"Hello, World!\")\\n```   \n",
       "1  WorkStatus.COMPLETED  ```cpp\\n#include <iostream>\\nusing namespace s...   \n",
       "2  WorkStatus.COMPLETED                                    ```java\\n👋🌍🛠️☕💻   \n",
       "3  WorkStatus.COMPLETED             ```javascript\\nconsole.log(\"👋🌍\");\\n```   \n",
       "4  WorkStatus.COMPLETED                                   ```ruby\\n👋🌍\\n```   \n",
       "5  WorkStatus.COMPLETED                 ```php\\n<?php\\necho \"👋🌍\";\\n?>\\n```   \n",
       "6  WorkStatus.COMPLETED                                       ```\\n👋🌍\\n```   \n",
       "7  WorkStatus.COMPLETED                         ```matlab\\ndisp('👋🌍')\\n```   \n",
       "\n",
       "  error        completion_timestamp  duration  \n",
       "0  None  2024-05-14T02:08:48.866292  1.095071  \n",
       "1  None  2024-05-14T02:08:48.866428  1.009315  \n",
       "2  None  2024-05-14T02:08:48.866513  0.739154  \n",
       "3  None  2024-05-14T02:08:48.866595  0.670039  \n",
       "4  None  2024-05-14T02:08:48.866680  0.652948  \n",
       "5  None  2024-05-14T02:08:48.875319  0.726192  \n",
       "6  None  2024-05-14T02:08:48.875526  0.595971  \n",
       "7  None  2024-05-14T02:08:48.875733  0.691921  "
      ]
     },
     "execution_count": 11,
     "metadata": {},
     "output_type": "execute_result"
    }
   ],
   "source": [
    "chat_func_log.pile.to_df()"
   ]
  },
  {
   "cell_type": "code",
   "execution_count": null,
   "metadata": {},
   "outputs": [],
   "source": []
  }
 ],
 "metadata": {
  "kernelspec": {
   "display_name": ".venv",
   "language": "python",
   "name": "python3"
  },
  "language_info": {
   "codemirror_mode": {
    "name": "ipython",
    "version": 3
   },
   "file_extension": ".py",
   "mimetype": "text/x-python",
   "name": "python",
   "nbconvert_exporter": "python",
   "pygments_lexer": "ipython3",
   "version": "3.11.6"
  }
 },
 "nbformat": 4,
 "nbformat_minor": 2
}
