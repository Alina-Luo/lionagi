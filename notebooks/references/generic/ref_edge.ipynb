{
 "cells": [
  {
   "cell_type": "code",
   "execution_count": 1,
   "metadata": {},
   "outputs": [],
   "source": [
    "from lionagi.core.generic.abc import Component\n",
    "from lionagi.core.generic import Edge"
   ]
  },
  {
   "cell_type": "code",
   "execution_count": 2,
   "metadata": {},
   "outputs": [],
   "source": [
    "node1 = Component()\n",
    "node2 = Component()"
   ]
  },
  {
   "cell_type": "code",
   "execution_count": 3,
   "metadata": {},
   "outputs": [],
   "source": [
    "edge1 = Edge(head=node1, tail=node2)"
   ]
  },
  {
   "cell_type": "code",
   "execution_count": 4,
   "metadata": {},
   "outputs": [
    {
     "data": {
      "text/plain": [
       "{'ln_id': '3568b683875842f4572e3fe4bb9c63ae',\n",
       " 'created': '2024-05-04T17:30:44.105324',\n",
       " 'metadata': {},\n",
       " 'content': None,\n",
       " 'head': '381943c22d47d593031f3271b6c0cc24',\n",
       " 'tail': 'e3c8bc140ec0069f9cf187a5d48c1f68',\n",
       " 'condition': None,\n",
       " 'label': None,\n",
       " 'bundle': False}"
      ]
     },
     "execution_count": 4,
     "metadata": {},
     "output_type": "execute_result"
    }
   ],
   "source": [
    "edge1.to_dict()"
   ]
  },
  {
   "cell_type": "code",
   "execution_count": 5,
   "metadata": {},
   "outputs": [
    {
     "data": {
      "text/plain": [
       "Edge(ln_id='3568b683875842f4572e3fe4bb9c63ae', timestamp='2024-05-04T17:30:44.105324', metadata={}, extra_fields={}, content=None, head='381943c22d47d593031f3271b6c0cc24', tail='e3c8bc140ec0069f9cf187a5d48c1f68', condition=None, label=None, bundle=False)"
      ]
     },
     "execution_count": 5,
     "metadata": {},
     "output_type": "execute_result"
    }
   ],
   "source": [
    "edge1"
   ]
  }
 ],
 "metadata": {
  "kernelspec": {
   "display_name": ".venv",
   "language": "python",
   "name": "python3"
  },
  "language_info": {
   "codemirror_mode": {
    "name": "ipython",
    "version": 3
   },
   "file_extension": ".py",
   "mimetype": "text/x-python",
   "name": "python",
   "nbconvert_exporter": "python",
   "pygments_lexer": "ipython3",
   "version": "3.11.6"
  }
 },
 "nbformat": 4,
 "nbformat_minor": 2
}
