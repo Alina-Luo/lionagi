{
 "cells": [
  {
   "cell_type": "code",
   "execution_count": 1,
   "metadata": {},
   "outputs": [],
   "source": [
    "from lionagi.core.generic import Node"
   ]
  },
  {
   "cell_type": "code",
   "execution_count": 2,
   "metadata": {},
   "outputs": [],
   "source": [
    "# create 10 nodes\n",
    "a, b, c = Node(), Node(), Node()"
   ]
  },
  {
   "cell_type": "code",
   "execution_count": 3,
   "metadata": {},
   "outputs": [],
   "source": [
    "a.relate(b, \"out\")  # outgoing relation, a is head\n",
    "a.relate(c, \"in\")  # incoming relation, a is tail"
   ]
  },
  {
   "cell_type": "code",
   "execution_count": 4,
   "metadata": {},
   "outputs": [
    {
     "data": {
      "text/plain": [
       "['499ccc968207f7111c75550c93f18438']"
      ]
     },
     "execution_count": 4,
     "metadata": {},
     "output_type": "execute_result"
    }
   ],
   "source": [
    "a.precedessors"
   ]
  },
  {
   "cell_type": "code",
   "execution_count": 5,
   "metadata": {},
   "outputs": [
    {
     "data": {
      "text/plain": [
       "['2fe9f5322ddb95c0f3e5528bab50470a']"
      ]
     },
     "execution_count": 5,
     "metadata": {},
     "output_type": "execute_result"
    }
   ],
   "source": [
    "a.successors"
   ]
  },
  {
   "cell_type": "code",
   "execution_count": 6,
   "metadata": {},
   "outputs": [
    {
     "name": "stdout",
     "output_type": "stream",
     "text": [
      "Edge (id_=7f04608f6537fe47a44218ebfc254cb1, from=499ccc968207f7111c75550c93f18438, to=05b4376958609f451c28d32f503b1203, label=None)\n",
      "Edge (id_=4bedc615c1728323822a97c38dd4ccd6, from=05b4376958609f451c28d32f503b1203, to=2fe9f5322ddb95c0f3e5528bab50470a, label=None)\n"
     ]
    }
   ],
   "source": [
    "for i in a.edges:\n",
    "    print(i)"
   ]
  },
  {
   "cell_type": "code",
   "execution_count": 7,
   "metadata": {},
   "outputs": [
    {
     "data": {
      "text/plain": [
       "['2fe9f5322ddb95c0f3e5528bab50470a', '499ccc968207f7111c75550c93f18438']"
      ]
     },
     "execution_count": 7,
     "metadata": {},
     "output_type": "execute_result"
    }
   ],
   "source": [
    "a.related_nodes"
   ]
  },
  {
   "cell_type": "code",
   "execution_count": 8,
   "metadata": {},
   "outputs": [
    {
     "data": {
      "text/plain": [
       "{'out': {'2fe9f5322ddb95c0f3e5528bab50470a': [Edge(ln_id='4bedc615c1728323822a97c38dd4ccd6', timestamp='2024-05-04T17:32:01.033613', metadata={}, extra_fields={}, content=None, head='05b4376958609f451c28d32f503b1203', tail='2fe9f5322ddb95c0f3e5528bab50470a', condition=None, label=None, bundle=False)]},\n",
       " 'in': {'499ccc968207f7111c75550c93f18438': [Edge(ln_id='7f04608f6537fe47a44218ebfc254cb1', timestamp='2024-05-04T17:32:01.033670', metadata={}, extra_fields={}, content=None, head='499ccc968207f7111c75550c93f18438', tail='05b4376958609f451c28d32f503b1203', condition=None, label=None, bundle=False)]}}"
      ]
     },
     "execution_count": 8,
     "metadata": {},
     "output_type": "execute_result"
    }
   ],
   "source": [
    "a.node_relations"
   ]
  },
  {
   "cell_type": "code",
   "execution_count": 9,
   "metadata": {},
   "outputs": [
    {
     "data": {
      "text/plain": [
       "2"
      ]
     },
     "execution_count": 9,
     "metadata": {},
     "output_type": "execute_result"
    }
   ],
   "source": [
    "len(a.edges)"
   ]
  },
  {
   "cell_type": "code",
   "execution_count": 10,
   "metadata": {},
   "outputs": [
    {
     "data": {
      "text/plain": [
       "True"
      ]
     },
     "execution_count": 10,
     "metadata": {},
     "output_type": "execute_result"
    }
   ],
   "source": [
    "a.unrelate(b)"
   ]
  },
  {
   "cell_type": "code",
   "execution_count": 11,
   "metadata": {},
   "outputs": [
    {
     "data": {
      "text/plain": [
       "['499ccc968207f7111c75550c93f18438']"
      ]
     },
     "execution_count": 11,
     "metadata": {},
     "output_type": "execute_result"
    }
   ],
   "source": [
    "a.related_nodes"
   ]
  },
  {
   "cell_type": "code",
   "execution_count": 12,
   "metadata": {},
   "outputs": [
    {
     "data": {
      "text/plain": [
       "Pile(ln_id='6d5f8c8dbec2d75a6421cad7748c792c', timestamp='2024-05-04T17:32:01.122820', metadata={}, extra_fields={}, content=None, pile={'7f04608f6537fe47a44218ebfc254cb1': Edge(ln_id='7f04608f6537fe47a44218ebfc254cb1', timestamp='2024-05-04T17:32:01.033670', metadata={}, extra_fields={}, content=None, head='499ccc968207f7111c75550c93f18438', tail='05b4376958609f451c28d32f503b1203', condition=None, label=None, bundle=False)}, item_type=None)"
      ]
     },
     "execution_count": 12,
     "metadata": {},
     "output_type": "execute_result"
    }
   ],
   "source": [
    "a.edges"
   ]
  },
  {
   "cell_type": "code",
   "execution_count": 13,
   "metadata": {},
   "outputs": [
    {
     "data": {
      "text/plain": [
       "{'out': {},\n",
       " 'in': {'499ccc968207f7111c75550c93f18438': [Edge(ln_id='7f04608f6537fe47a44218ebfc254cb1', timestamp='2024-05-04T17:32:01.033670', metadata={}, extra_fields={}, content=None, head='499ccc968207f7111c75550c93f18438', tail='05b4376958609f451c28d32f503b1203', condition=None, label=None, bundle=False)]}}"
      ]
     },
     "execution_count": 13,
     "metadata": {},
     "output_type": "execute_result"
    }
   ],
   "source": [
    "a.node_relations"
   ]
  },
  {
   "cell_type": "code",
   "execution_count": 14,
   "metadata": {},
   "outputs": [
    {
     "data": {
      "text/plain": [
       "1"
      ]
     },
     "execution_count": 14,
     "metadata": {},
     "output_type": "execute_result"
    }
   ],
   "source": [
    "len(a.edges)"
   ]
  },
  {
   "cell_type": "code",
   "execution_count": 15,
   "metadata": {},
   "outputs": [
    {
     "ename": "ItemNotFoundError",
     "evalue": "Item not found. Item: 'Edge 4d1f577d2b34ecc143662203ce0c1d3c does not exist between nodes.'.",
     "output_type": "error",
     "traceback": [
      "\u001b[0;31m---------------------------------------------------------------------------\u001b[0m",
      "\u001b[0;31mItemNotFoundError\u001b[0m                         Traceback (most recent call last)",
      "Cell \u001b[0;32mIn[15], line 2\u001b[0m\n\u001b[1;32m      1\u001b[0m edge_id \u001b[38;5;241m=\u001b[39m \u001b[38;5;124m\"\u001b[39m\u001b[38;5;124m4d1f577d2b34ecc143662203ce0c1d3c\u001b[39m\u001b[38;5;124m\"\u001b[39m\n\u001b[0;32m----> 2\u001b[0m \u001b[43ma\u001b[49m\u001b[38;5;241;43m.\u001b[39;49m\u001b[43mremove_edge\u001b[49m\u001b[43m(\u001b[49m\u001b[43mc\u001b[49m\u001b[43m,\u001b[49m\u001b[43m \u001b[49m\u001b[43medge_id\u001b[49m\u001b[43m)\u001b[49m\n",
      "File \u001b[0;32m~/GitHub/lionagi/lionagi/core/generic/_node/_node.py:101\u001b[0m, in \u001b[0;36mNode.remove_edge\u001b[0;34m(self, node, edge)\u001b[0m\n\u001b[1;32m     98\u001b[0m     \u001b[38;5;28;01mraise\u001b[39;00m \u001b[38;5;167;01mValueError\u001b[39;00m(\u001b[38;5;124mf\u001b[39m\u001b[38;5;124m\"\u001b[39m\u001b[38;5;124mNode \u001b[39m\u001b[38;5;132;01m{\u001b[39;00m\u001b[38;5;28mself\u001b[39m\u001b[38;5;241m.\u001b[39mln_id\u001b[38;5;132;01m}\u001b[39;00m\u001b[38;5;124m is not related to node \u001b[39m\u001b[38;5;132;01m{\u001b[39;00mnode\u001b[38;5;241m.\u001b[39mln_id\u001b[38;5;132;01m}\u001b[39;00m\u001b[38;5;124m.\u001b[39m\u001b[38;5;124m\"\u001b[39m)\n\u001b[1;32m    100\u001b[0m \u001b[38;5;28;01mif\u001b[39;00m edge \u001b[38;5;129;01mnot\u001b[39;00m \u001b[38;5;129;01min\u001b[39;00m \u001b[38;5;28mself\u001b[39m\u001b[38;5;241m.\u001b[39mrelations \u001b[38;5;129;01mor\u001b[39;00m edge \u001b[38;5;129;01mnot\u001b[39;00m \u001b[38;5;129;01min\u001b[39;00m node\u001b[38;5;241m.\u001b[39mrelations:\n\u001b[0;32m--> 101\u001b[0m     \u001b[38;5;28;01mraise\u001b[39;00m ItemNotFoundError(\u001b[38;5;124mf\u001b[39m\u001b[38;5;124m\"\u001b[39m\u001b[38;5;124mEdge \u001b[39m\u001b[38;5;132;01m{\u001b[39;00medge\u001b[38;5;132;01m}\u001b[39;00m\u001b[38;5;124m does not exist between nodes.\u001b[39m\u001b[38;5;124m\"\u001b[39m)\n\u001b[1;32m    103\u001b[0m \u001b[38;5;28;01mif\u001b[39;00m \u001b[38;5;28mself\u001b[39m\u001b[38;5;241m.\u001b[39mrelations\u001b[38;5;241m.\u001b[39mexclude(edge) \u001b[38;5;129;01mand\u001b[39;00m node\u001b[38;5;241m.\u001b[39mrelations\u001b[38;5;241m.\u001b[39mexclude(edge):\n\u001b[1;32m    104\u001b[0m     \u001b[38;5;28;01mreturn\u001b[39;00m \u001b[38;5;28;01mTrue\u001b[39;00m\n",
      "\u001b[0;31mItemNotFoundError\u001b[0m: Item not found. Item: 'Edge 4d1f577d2b34ecc143662203ce0c1d3c does not exist between nodes.'."
     ]
    }
   ],
   "source": [
    "edge_id = \"4d1f577d2b34ecc143662203ce0c1d3c\"\n",
    "a.remove_edge(c, edge_id)"
   ]
  },
  {
   "cell_type": "code",
   "execution_count": null,
   "metadata": {},
   "outputs": [
    {
     "data": {
      "text/plain": [
       "[]"
      ]
     },
     "execution_count": 17,
     "metadata": {},
     "output_type": "execute_result"
    }
   ],
   "source": [
    "a.related_nodes"
   ]
  },
  {
   "cell_type": "code",
   "execution_count": null,
   "metadata": {},
   "outputs": [
    {
     "name": "stdout",
     "output_type": "stream",
     "text": [
      "Node(id: e2e6cb012ce8ca3fc8b2d690b665f701, created: 2024-05-04T16:16:50, updated: [])\n"
     ]
    }
   ],
   "source": [
    "print(a)"
   ]
  }
 ],
 "metadata": {
  "kernelspec": {
   "display_name": ".venv",
   "language": "python",
   "name": "python3"
  },
  "language_info": {
   "codemirror_mode": {
    "name": "ipython",
    "version": 3
   },
   "file_extension": ".py",
   "mimetype": "text/x-python",
   "name": "python",
   "nbconvert_exporter": "python",
   "pygments_lexer": "ipython3",
   "version": "3.11.6"
  }
 },
 "nbformat": 4,
 "nbformat_minor": 2
}
