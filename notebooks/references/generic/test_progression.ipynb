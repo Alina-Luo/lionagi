{
 "cells": [
  {
   "cell_type": "code",
   "execution_count": 1,
   "metadata": {},
   "outputs": [],
   "source": [
    "from collections import deque\n",
    "\n",
    "a = deque([1, 2, 3, 4, 5])\n",
    "b = deque([6, 7, 8, 9, 10])"
   ]
  },
  {
   "cell_type": "code",
   "execution_count": 2,
   "metadata": {},
   "outputs": [
    {
     "data": {
      "text/plain": [
       "1"
      ]
     },
     "execution_count": 2,
     "metadata": {},
     "output_type": "execute_result"
    }
   ],
   "source": [
    "a[0]"
   ]
  },
  {
   "cell_type": "code",
   "execution_count": 3,
   "metadata": {},
   "outputs": [
    {
     "data": {
      "text/plain": [
       "5"
      ]
     },
     "execution_count": 3,
     "metadata": {},
     "output_type": "execute_result"
    }
   ],
   "source": [
    "a[4]"
   ]
  },
  {
   "cell_type": "code",
   "execution_count": 4,
   "metadata": {},
   "outputs": [
    {
     "data": {
      "text/plain": [
       "deque([1, 2, 3, 4, 5, 6, 7, 8, 9, 10])"
      ]
     },
     "execution_count": 4,
     "metadata": {},
     "output_type": "execute_result"
    }
   ],
   "source": [
    "a += b\n",
    "a"
   ]
  },
  {
   "cell_type": "code",
   "execution_count": 5,
   "metadata": {},
   "outputs": [],
   "source": [
    "a.append(b)"
   ]
  },
  {
   "cell_type": "code",
   "execution_count": 6,
   "metadata": {},
   "outputs": [
    {
     "data": {
      "text/plain": [
       "deque([1, 2, 3, 4, 5, 6, 7, 8, 9, 10, deque([6, 7, 8, 9, 10])])"
      ]
     },
     "execution_count": 6,
     "metadata": {},
     "output_type": "execute_result"
    }
   ],
   "source": [
    "a"
   ]
  },
  {
   "cell_type": "code",
   "execution_count": 7,
   "metadata": {},
   "outputs": [
    {
     "data": {
      "text/plain": [
       "True"
      ]
     },
     "execution_count": 7,
     "metadata": {},
     "output_type": "execute_result"
    }
   ],
   "source": [
    "1 in a"
   ]
  },
  {
   "cell_type": "code",
   "execution_count": 8,
   "metadata": {},
   "outputs": [],
   "source": [
    "from lionagi.core.generic._flow._progression import progression\n",
    "from lionagi.core.generic import Node\n"
   ]
  },
  {
   "cell_type": "code",
   "execution_count": 9,
   "metadata": {},
   "outputs": [],
   "source": [
    "nodes = (Node() for _ in range(5))"
   ]
  },
  {
   "cell_type": "code",
   "execution_count": 10,
   "metadata": {},
   "outputs": [],
   "source": [
    "p = progression(nodes)"
   ]
  },
  {
   "cell_type": "code",
   "execution_count": 11,
   "metadata": {},
   "outputs": [
    {
     "data": {
      "text/plain": [
       "deque(['0304c1abb6df5bb0a5485c0698c3bf72',\n",
       "       'f18f0e19cda07dcce8cd6002606e867b',\n",
       "       'fb6c23688adaa3deabd7ea34002706b7',\n",
       "       '506846bc3f9ac69cb3b8636bf854a3c3',\n",
       "       'dbbba7d4106c83d7cbef48666e312361'])"
      ]
     },
     "execution_count": 11,
     "metadata": {},
     "output_type": "execute_result"
    }
   ],
   "source": [
    "p.order"
   ]
  },
  {
   "cell_type": "code",
   "execution_count": 12,
   "metadata": {},
   "outputs": [],
   "source": [
    "cc = Node()\n",
    "\n",
    "p.append(cc)"
   ]
  },
  {
   "cell_type": "code",
   "execution_count": 13,
   "metadata": {},
   "outputs": [],
   "source": [
    "cc, dd, ee = Node(), Node(), Node()\n",
    "\n",
    "p.append([cc, dd, ee])"
   ]
  },
  {
   "cell_type": "code",
   "execution_count": 14,
   "metadata": {},
   "outputs": [
    {
     "data": {
      "text/plain": [
       "Progression([0304c1abb6df5bb0a5485c0698c3bf72, f18f0e19cda07dcce8cd6002606e867b, fb6c23688adaa3deabd7ea34002706b7, 506846bc3f9ac69cb3b8636bf854a3c3, dbbba7d4106c83d7cbef48666e312361, 7fd24c2c6748351bd92e905b77ab885a, 0c824707498a1e4883a5066fec5f6e6a, 49a6c36434813b11d63c135986cb883c, 153bb79c5d8b6b8d53a5ba24776bd3bf])"
      ]
     },
     "execution_count": 14,
     "metadata": {},
     "output_type": "execute_result"
    }
   ],
   "source": [
    "p"
   ]
  },
  {
   "cell_type": "code",
   "execution_count": 15,
   "metadata": {},
   "outputs": [
    {
     "data": {
      "text/plain": [
       "9"
      ]
     },
     "execution_count": 15,
     "metadata": {},
     "output_type": "execute_result"
    }
   ],
   "source": [
    "len(p)"
   ]
  },
  {
   "cell_type": "code",
   "execution_count": 16,
   "metadata": {},
   "outputs": [],
   "source": [
    "cc = Node()"
   ]
  },
  {
   "cell_type": "code",
   "execution_count": 17,
   "metadata": {},
   "outputs": [
    {
     "data": {
      "text/plain": [
       "Node(ln_id='9945727cbbaa507b717ff05dfed837a3', timestamp='2024-05-04T22:52:16.207028', metadata={}, extra_fields={}, content=None, relations=CategoricalPile(ln_id='4a1e27d134eeaa76e022462a05e63d73', timestamp='2024-05-04T22:52:16.207058', metadata={}, extra_fields={}, content=None, categories={'in': Pile(ln_id='500025832cba07a9547c1eed9b5bd2f1', timestamp='2024-05-04T22:52:16.207040', metadata={}, extra_fields={}, content=None, pile={}, item_type=None), 'out': Pile(ln_id='13635a36c665aa8cb7cb31d6f41ca0dd', timestamp='2024-05-04T22:52:16.207049', metadata={}, extra_fields={}, content=None, pile={}, item_type=None)}))"
      ]
     },
     "execution_count": 17,
     "metadata": {},
     "output_type": "execute_result"
    }
   ],
   "source": [
    "cc"
   ]
  },
  {
   "cell_type": "code",
   "execution_count": 18,
   "metadata": {},
   "outputs": [],
   "source": [
    "p.append(cc)"
   ]
  },
  {
   "cell_type": "code",
   "execution_count": 19,
   "metadata": {},
   "outputs": [
    {
     "data": {
      "text/plain": [
       "True"
      ]
     },
     "execution_count": 19,
     "metadata": {},
     "output_type": "execute_result"
    }
   ],
   "source": [
    "[cc, dd] in p"
   ]
  },
  {
   "cell_type": "code",
   "execution_count": 20,
   "metadata": {},
   "outputs": [
    {
     "data": {
      "text/plain": [
       "['f18f0e19cda07dcce8cd6002606e867b',\n",
       " 'fb6c23688adaa3deabd7ea34002706b7',\n",
       " '506846bc3f9ac69cb3b8636bf854a3c3',\n",
       " 'dbbba7d4106c83d7cbef48666e312361']"
      ]
     },
     "execution_count": 20,
     "metadata": {},
     "output_type": "execute_result"
    }
   ],
   "source": [
    "p[1:5]"
   ]
  },
  {
   "cell_type": "code",
   "execution_count": 21,
   "metadata": {},
   "outputs": [],
   "source": [
    "gg = Node()"
   ]
  },
  {
   "cell_type": "code",
   "execution_count": 22,
   "metadata": {},
   "outputs": [],
   "source": [
    "p[0] = gg"
   ]
  },
  {
   "cell_type": "code",
   "execution_count": 23,
   "metadata": {},
   "outputs": [
    {
     "data": {
      "text/plain": [
       "'458cfa63eb86fd1305b96330a7726f74'"
      ]
     },
     "execution_count": 23,
     "metadata": {},
     "output_type": "execute_result"
    }
   ],
   "source": [
    "p[0]"
   ]
  },
  {
   "cell_type": "code",
   "execution_count": 24,
   "metadata": {},
   "outputs": [],
   "source": [
    "p += [cc, dd]"
   ]
  },
  {
   "cell_type": "code",
   "execution_count": 25,
   "metadata": {},
   "outputs": [
    {
     "data": {
      "text/plain": [
       "12"
      ]
     },
     "execution_count": 25,
     "metadata": {},
     "output_type": "execute_result"
    }
   ],
   "source": [
    "len(p)"
   ]
  },
  {
   "cell_type": "code",
   "execution_count": 26,
   "metadata": {},
   "outputs": [],
   "source": [
    "p -= [cc, dd]"
   ]
  },
  {
   "cell_type": "code",
   "execution_count": 27,
   "metadata": {},
   "outputs": [
    {
     "data": {
      "text/plain": [
       "10"
      ]
     },
     "execution_count": 27,
     "metadata": {},
     "output_type": "execute_result"
    }
   ],
   "source": [
    "len(p)"
   ]
  },
  {
   "cell_type": "code",
   "execution_count": 28,
   "metadata": {},
   "outputs": [
    {
     "data": {
      "text/plain": [
       "True"
      ]
     },
     "execution_count": 28,
     "metadata": {},
     "output_type": "execute_result"
    }
   ],
   "source": [
    "cc in p"
   ]
  },
  {
   "cell_type": "code",
   "execution_count": 29,
   "metadata": {},
   "outputs": [
    {
     "data": {
      "text/plain": [
       "True"
      ]
     },
     "execution_count": 29,
     "metadata": {},
     "output_type": "execute_result"
    }
   ],
   "source": [
    "dd in p"
   ]
  },
  {
   "cell_type": "code",
   "execution_count": 30,
   "metadata": {},
   "outputs": [
    {
     "data": {
      "text/plain": [
       "False"
      ]
     },
     "execution_count": 30,
     "metadata": {},
     "output_type": "execute_result"
    }
   ],
   "source": [
    "tt = Node()\n",
    "tt in p"
   ]
  },
  {
   "cell_type": "code",
   "execution_count": 31,
   "metadata": {},
   "outputs": [
    {
     "name": "stdout",
     "output_type": "stream",
     "text": [
      "Item not found. Item: 'index af5d5b7d28e0d7a45e7cc71012f2da60'.\n"
     ]
    }
   ],
   "source": [
    "try:\n",
    "    p -= tt\n",
    "except Exception as e:\n",
    "    print(e)"
   ]
  },
  {
   "cell_type": "code",
   "execution_count": 32,
   "metadata": {},
   "outputs": [],
   "source": [
    "p += [cc, dd]"
   ]
  },
  {
   "cell_type": "code",
   "execution_count": 33,
   "metadata": {},
   "outputs": [],
   "source": [
    "p.discard_all(cc)"
   ]
  },
  {
   "cell_type": "code",
   "execution_count": 34,
   "metadata": {},
   "outputs": [
    {
     "data": {
      "text/plain": [
       "False"
      ]
     },
     "execution_count": 34,
     "metadata": {},
     "output_type": "execute_result"
    }
   ],
   "source": [
    "cc in p"
   ]
  },
  {
   "cell_type": "code",
   "execution_count": 35,
   "metadata": {},
   "outputs": [
    {
     "data": {
      "text/plain": [
       "10"
      ]
     },
     "execution_count": 35,
     "metadata": {},
     "output_type": "execute_result"
    }
   ],
   "source": [
    "len(p)"
   ]
  },
  {
   "cell_type": "code",
   "execution_count": 36,
   "metadata": {},
   "outputs": [
    {
     "name": "stdout",
     "output_type": "stream",
     "text": [
      "458cfa63eb86fd1305b96330a7726f74\n",
      "f18f0e19cda07dcce8cd6002606e867b\n",
      "fb6c23688adaa3deabd7ea34002706b7\n",
      "506846bc3f9ac69cb3b8636bf854a3c3\n",
      "dbbba7d4106c83d7cbef48666e312361\n",
      "7fd24c2c6748351bd92e905b77ab885a\n",
      "0c824707498a1e4883a5066fec5f6e6a\n",
      "153bb79c5d8b6b8d53a5ba24776bd3bf\n",
      "49a6c36434813b11d63c135986cb883c\n",
      "49a6c36434813b11d63c135986cb883c\n"
     ]
    }
   ],
   "source": [
    "for i in p:\n",
    "    print(i)"
   ]
  },
  {
   "cell_type": "code",
   "execution_count": 37,
   "metadata": {},
   "outputs": [
    {
     "data": {
      "text/plain": [
       "10"
      ]
     },
     "execution_count": 37,
     "metadata": {},
     "output_type": "execute_result"
    }
   ],
   "source": [
    "len(p)"
   ]
  },
  {
   "cell_type": "code",
   "execution_count": 38,
   "metadata": {},
   "outputs": [
    {
     "name": "stdout",
     "output_type": "stream",
     "text": [
      "458cfa63eb86fd1305b96330a7726f74\n",
      "f18f0e19cda07dcce8cd6002606e867b\n",
      "fb6c23688adaa3deabd7ea34002706b7\n",
      "506846bc3f9ac69cb3b8636bf854a3c3\n",
      "dbbba7d4106c83d7cbef48666e312361\n",
      "7fd24c2c6748351bd92e905b77ab885a\n",
      "0c824707498a1e4883a5066fec5f6e6a\n",
      "153bb79c5d8b6b8d53a5ba24776bd3bf\n",
      "49a6c36434813b11d63c135986cb883c\n",
      "49a6c36434813b11d63c135986cb883c\n",
      "Item not found. Item: 'index 10'.\n"
     ]
    }
   ],
   "source": [
    "try:\n",
    "    for i in range(12):\n",
    "        print(p[i])\n",
    "except Exception as e:\n",
    "    print(e)"
   ]
  },
  {
   "cell_type": "code",
   "execution_count": 39,
   "metadata": {},
   "outputs": [
    {
     "data": {
      "text/plain": [
       "Progression([458cfa63eb86fd1305b96330a7726f74, f18f0e19cda07dcce8cd6002606e867b, fb6c23688adaa3deabd7ea34002706b7, 506846bc3f9ac69cb3b8636bf854a3c3, dbbba7d4106c83d7cbef48666e312361, 7fd24c2c6748351bd92e905b77ab885a, 0c824707498a1e4883a5066fec5f6e6a, 153bb79c5d8b6b8d53a5ba24776bd3bf, 49a6c36434813b11d63c135986cb883c, 49a6c36434813b11d63c135986cb883c])"
      ]
     },
     "execution_count": 39,
     "metadata": {},
     "output_type": "execute_result"
    }
   ],
   "source": [
    "p"
   ]
  },
  {
   "cell_type": "code",
   "execution_count": 40,
   "metadata": {},
   "outputs": [
    {
     "data": {
      "text/plain": [
       "10"
      ]
     },
     "execution_count": 40,
     "metadata": {},
     "output_type": "execute_result"
    }
   ],
   "source": [
    "len(p)"
   ]
  },
  {
   "cell_type": "code",
   "execution_count": 41,
   "metadata": {},
   "outputs": [
    {
     "name": "stdout",
     "output_type": "stream",
     "text": [
      "458cfa63eb86fd1305b96330a7726f74\n",
      "f18f0e19cda07dcce8cd6002606e867b\n",
      "fb6c23688adaa3deabd7ea34002706b7\n",
      "506846bc3f9ac69cb3b8636bf854a3c3\n",
      "dbbba7d4106c83d7cbef48666e312361\n",
      "7fd24c2c6748351bd92e905b77ab885a\n",
      "0c824707498a1e4883a5066fec5f6e6a\n",
      "153bb79c5d8b6b8d53a5ba24776bd3bf\n",
      "49a6c36434813b11d63c135986cb883c\n",
      "49a6c36434813b11d63c135986cb883c\n",
      "Item not found. Item: 'None'.\n"
     ]
    }
   ],
   "source": [
    "try:\n",
    "    for i in range(12):\n",
    "        print(p.popleft())\n",
    "except Exception as e:\n",
    "    print(e)"
   ]
  },
  {
   "cell_type": "code",
   "execution_count": 42,
   "metadata": {},
   "outputs": [],
   "source": [
    "for i in range(5):\n",
    "    p += Node()"
   ]
  },
  {
   "cell_type": "code",
   "execution_count": 43,
   "metadata": {},
   "outputs": [
    {
     "data": {
      "text/plain": [
       "5"
      ]
     },
     "execution_count": 43,
     "metadata": {},
     "output_type": "execute_result"
    }
   ],
   "source": [
    "len(p)"
   ]
  },
  {
   "cell_type": "code",
   "execution_count": 44,
   "metadata": {},
   "outputs": [
    {
     "data": {
      "text/plain": [
       "0"
      ]
     },
     "execution_count": 44,
     "metadata": {},
     "output_type": "execute_result"
    }
   ],
   "source": [
    "for i in list(p.order):\n",
    "    p.remove(i)\n",
    "\n",
    "len(p)"
   ]
  },
  {
   "cell_type": "code",
   "execution_count": 45,
   "metadata": {},
   "outputs": [
    {
     "data": {
      "text/plain": [
       "10"
      ]
     },
     "execution_count": 45,
     "metadata": {},
     "output_type": "execute_result"
    }
   ],
   "source": [
    "p2 = progression()\n",
    "\n",
    "for i in range(5):\n",
    "    p += Node()\n",
    "    p2 += Node()\n",
    "\n",
    "len(p+p2)"
   ]
  },
  {
   "cell_type": "code",
   "execution_count": 46,
   "metadata": {},
   "outputs": [
    {
     "data": {
      "text/plain": [
       "Progression([225dbe185e22dda6714ef57f804b0003, 6dee7ab8e8f873d3560d288c77f968fb, c7f50a28d18fbe43afcc5b7b53f3d269, 9fdd73bb92ced0bb565bf8046db89560, f32a4d80a04fb7e8de351b8d28893450, 4c2f63fc50a964aab9b2f7e82637439e, a603702a8b086e6ff0fe55d52201e277, 63af58e278b91bebe135ed4d81f195be, cabd872b6fab58d2de6161c95a5879e4, 67f45de9f36b1db47e49f773bc502483])"
      ]
     },
     "execution_count": 46,
     "metadata": {},
     "output_type": "execute_result"
    }
   ],
   "source": [
    "p+p2"
   ]
  },
  {
   "cell_type": "code",
   "execution_count": 47,
   "metadata": {},
   "outputs": [
    {
     "data": {
      "text/plain": [
       "Progression([4c2f63fc50a964aab9b2f7e82637439e, a603702a8b086e6ff0fe55d52201e277, 63af58e278b91bebe135ed4d81f195be, cabd872b6fab58d2de6161c95a5879e4, 67f45de9f36b1db47e49f773bc502483, 225dbe185e22dda6714ef57f804b0003, 6dee7ab8e8f873d3560d288c77f968fb, c7f50a28d18fbe43afcc5b7b53f3d269, 9fdd73bb92ced0bb565bf8046db89560, f32a4d80a04fb7e8de351b8d28893450])"
      ]
     },
     "execution_count": 47,
     "metadata": {},
     "output_type": "execute_result"
    }
   ],
   "source": [
    "p2+p"
   ]
  },
  {
   "cell_type": "code",
   "execution_count": null,
   "metadata": {},
   "outputs": [],
   "source": []
  }
 ],
 "metadata": {
  "kernelspec": {
   "display_name": ".venv",
   "language": "python",
   "name": "python3"
  },
  "language_info": {
   "codemirror_mode": {
    "name": "ipython",
    "version": 3
   },
   "file_extension": ".py",
   "mimetype": "text/x-python",
   "name": "python",
   "nbconvert_exporter": "python",
   "pygments_lexer": "ipython3",
   "version": "3.11.6"
  }
 },
 "nbformat": 4,
 "nbformat_minor": 2
}
