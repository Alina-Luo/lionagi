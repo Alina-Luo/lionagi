{
 "cells": [
  {
   "cell_type": "code",
   "execution_count": 1,
   "metadata": {},
   "outputs": [],
   "source": [
    "from lionagi.core.generic._pile import pile"
   ]
  },
  {
   "cell_type": "code",
   "execution_count": 2,
   "metadata": {},
   "outputs": [],
   "source": [
    "# you can create a pile object by calling the constructor directly\n",
    "# Pile class constructor takes only keyword arguments\n",
    "\n",
    "items = [pile() for _ in range(10)]  # first we create 10 pile objects\n",
    "item1 = items[0]"
   ]
  },
  {
   "cell_type": "code",
   "execution_count": 3,
   "metadata": {},
   "outputs": [],
   "source": [
    "# or you can use the pile function\n",
    "# you can specify the type of the items in the pile,\n",
    "\n",
    "a = pile(items)"
   ]
  },
  {
   "cell_type": "code",
   "execution_count": 4,
   "metadata": {},
   "outputs": [
    {
     "data": {
      "text/plain": [
       "10"
      ]
     },
     "execution_count": 4,
     "metadata": {},
     "output_type": "execute_result"
    }
   ],
   "source": [
    "len(a)"
   ]
  },
  {
   "cell_type": "markdown",
   "metadata": {},
   "source": [
    "### Dictionary-like methods"
   ]
  },
  {
   "cell_type": "code",
   "execution_count": 5,
   "metadata": {},
   "outputs": [
    {
     "name": "stdout",
     "output_type": "stream",
     "text": [
      "06f7036a33b6526e79e6cdb52adf6bbc\n",
      "8b81b4f13a4d5c44c9ce4c3fd14850bb\n",
      "a5061892ea2dd63a94761a20baa52454\n",
      "d8e3a7ffa63f773920cb2cfb1b330119\n",
      "53c4d37cc46d9001a758ea93967348f1\n",
      "51242bdfbdb3801957e8d6b6aff3f93c\n",
      "d4cfc3da992b6cfdf6ea1e051acd95e0\n",
      "e586358bb0c67130b801576130e3565c\n",
      "386cb3b9fc0685df2ceca4da486e9de6\n",
      "67e5e13900fa2b9c692012f8da8176c2\n"
     ]
    }
   ],
   "source": [
    "for i in a.keys():\n",
    "    print(i)\n"
   ]
  },
  {
   "cell_type": "code",
   "execution_count": 6,
   "metadata": {},
   "outputs": [
    {
     "data": {
      "text/plain": [
       "[Pile(ln_id='06f7036a33b6526e79e6cdb52adf6bbc', timestamp='2024-05-04T17:32:09.189513', metadata={}, extra_fields={}, content=None, pile={}, item_type=None),\n",
       " Pile(ln_id='8b81b4f13a4d5c44c9ce4c3fd14850bb', timestamp='2024-05-04T17:32:09.189528', metadata={}, extra_fields={}, content=None, pile={}, item_type=None),\n",
       " Pile(ln_id='a5061892ea2dd63a94761a20baa52454', timestamp='2024-05-04T17:32:09.189549', metadata={}, extra_fields={}, content=None, pile={}, item_type=None),\n",
       " Pile(ln_id='d8e3a7ffa63f773920cb2cfb1b330119', timestamp='2024-05-04T17:32:09.189563', metadata={}, extra_fields={}, content=None, pile={}, item_type=None),\n",
       " Pile(ln_id='53c4d37cc46d9001a758ea93967348f1', timestamp='2024-05-04T17:32:09.189572', metadata={}, extra_fields={}, content=None, pile={}, item_type=None),\n",
       " Pile(ln_id='51242bdfbdb3801957e8d6b6aff3f93c', timestamp='2024-05-04T17:32:09.189586', metadata={}, extra_fields={}, content=None, pile={}, item_type=None),\n",
       " Pile(ln_id='d4cfc3da992b6cfdf6ea1e051acd95e0', timestamp='2024-05-04T17:32:09.189596', metadata={}, extra_fields={}, content=None, pile={}, item_type=None),\n",
       " Pile(ln_id='e586358bb0c67130b801576130e3565c', timestamp='2024-05-04T17:32:09.189605', metadata={}, extra_fields={}, content=None, pile={}, item_type=None),\n",
       " Pile(ln_id='386cb3b9fc0685df2ceca4da486e9de6', timestamp='2024-05-04T17:32:09.189612', metadata={}, extra_fields={}, content=None, pile={}, item_type=None),\n",
       " Pile(ln_id='67e5e13900fa2b9c692012f8da8176c2', timestamp='2024-05-04T17:32:09.189618', metadata={}, extra_fields={}, content=None, pile={}, item_type=None)]"
      ]
     },
     "execution_count": 6,
     "metadata": {},
     "output_type": "execute_result"
    }
   ],
   "source": [
    "values = a.values()\n",
    "list(values)"
   ]
  },
  {
   "cell_type": "code",
   "execution_count": 7,
   "metadata": {},
   "outputs": [
    {
     "data": {
      "text/plain": [
       "[('06f7036a33b6526e79e6cdb52adf6bbc',\n",
       "  Pile(ln_id='06f7036a33b6526e79e6cdb52adf6bbc', timestamp='2024-05-04T17:32:09.189513', metadata={}, extra_fields={}, content=None, pile={}, item_type=None)),\n",
       " ('8b81b4f13a4d5c44c9ce4c3fd14850bb',\n",
       "  Pile(ln_id='8b81b4f13a4d5c44c9ce4c3fd14850bb', timestamp='2024-05-04T17:32:09.189528', metadata={}, extra_fields={}, content=None, pile={}, item_type=None)),\n",
       " ('a5061892ea2dd63a94761a20baa52454',\n",
       "  Pile(ln_id='a5061892ea2dd63a94761a20baa52454', timestamp='2024-05-04T17:32:09.189549', metadata={}, extra_fields={}, content=None, pile={}, item_type=None)),\n",
       " ('d8e3a7ffa63f773920cb2cfb1b330119',\n",
       "  Pile(ln_id='d8e3a7ffa63f773920cb2cfb1b330119', timestamp='2024-05-04T17:32:09.189563', metadata={}, extra_fields={}, content=None, pile={}, item_type=None)),\n",
       " ('53c4d37cc46d9001a758ea93967348f1',\n",
       "  Pile(ln_id='53c4d37cc46d9001a758ea93967348f1', timestamp='2024-05-04T17:32:09.189572', metadata={}, extra_fields={}, content=None, pile={}, item_type=None)),\n",
       " ('51242bdfbdb3801957e8d6b6aff3f93c',\n",
       "  Pile(ln_id='51242bdfbdb3801957e8d6b6aff3f93c', timestamp='2024-05-04T17:32:09.189586', metadata={}, extra_fields={}, content=None, pile={}, item_type=None)),\n",
       " ('d4cfc3da992b6cfdf6ea1e051acd95e0',\n",
       "  Pile(ln_id='d4cfc3da992b6cfdf6ea1e051acd95e0', timestamp='2024-05-04T17:32:09.189596', metadata={}, extra_fields={}, content=None, pile={}, item_type=None)),\n",
       " ('e586358bb0c67130b801576130e3565c',\n",
       "  Pile(ln_id='e586358bb0c67130b801576130e3565c', timestamp='2024-05-04T17:32:09.189605', metadata={}, extra_fields={}, content=None, pile={}, item_type=None)),\n",
       " ('386cb3b9fc0685df2ceca4da486e9de6',\n",
       "  Pile(ln_id='386cb3b9fc0685df2ceca4da486e9de6', timestamp='2024-05-04T17:32:09.189612', metadata={}, extra_fields={}, content=None, pile={}, item_type=None)),\n",
       " ('67e5e13900fa2b9c692012f8da8176c2',\n",
       "  Pile(ln_id='67e5e13900fa2b9c692012f8da8176c2', timestamp='2024-05-04T17:32:09.189618', metadata={}, extra_fields={}, content=None, pile={}, item_type=None))]"
      ]
     },
     "execution_count": 7,
     "metadata": {},
     "output_type": "execute_result"
    }
   ],
   "source": [
    "items = a.items()\n",
    "list(items)"
   ]
  },
  {
   "cell_type": "markdown",
   "metadata": {},
   "source": [
    "#### get methods"
   ]
  },
  {
   "cell_type": "code",
   "execution_count": 8,
   "metadata": {},
   "outputs": [
    {
     "data": {
      "text/plain": [
       "True"
      ]
     },
     "execution_count": 8,
     "metadata": {},
     "output_type": "execute_result"
    }
   ],
   "source": [
    "# all equivalent ways to get an item from a pile\n",
    "get_a = a[item1]\n",
    "get_b = a[item1.ln_id]\n",
    "get_c = a.get(item1)\n",
    "get_d = a.get(item1.ln_id)\n",
    "\n",
    "all([i == item1 for i in [get_a, get_b, get_c, get_d]])"
   ]
  },
  {
   "cell_type": "markdown",
   "metadata": {},
   "source": [
    "#### set methods"
   ]
  },
  {
   "cell_type": "code",
   "execution_count": 9,
   "metadata": {},
   "outputs": [
    {
     "name": "stdout",
     "output_type": "stream",
     "text": [
      "True\n",
      "True\n"
     ]
    }
   ],
   "source": [
    "pile_2 = pile()\n",
    "\n",
    "a[pile_2] = pile_2\n",
    "a[pile_2.ln_id] = pile_2\n",
    "\n",
    "# containment checks an LionIDable object\n",
    "print(pile_2 in a)\n",
    "print(pile_2.ln_id in a)\n"
   ]
  },
  {
   "cell_type": "code",
   "execution_count": 10,
   "metadata": {},
   "outputs": [
    {
     "name": "stdout",
     "output_type": "stream",
     "text": [
      "True\n"
     ]
    }
   ],
   "source": [
    "pile_3 = pile()\n",
    "\n",
    "a.include(pile_3)\n",
    "\n",
    "print(pile_3 in a)"
   ]
  },
  {
   "cell_type": "markdown",
   "metadata": {},
   "source": [
    "#### remove methods"
   ]
  },
  {
   "cell_type": "code",
   "execution_count": 11,
   "metadata": {},
   "outputs": [
    {
     "data": {
      "text/plain": [
       "Pile(ln_id='53090a01e1a525979ade49971ccb611c', timestamp='2024-05-04T17:32:09.219547', metadata={}, extra_fields={}, content=None, pile={}, item_type=None)"
      ]
     },
     "execution_count": 11,
     "metadata": {},
     "output_type": "execute_result"
    }
   ],
   "source": [
    "# pop will return an obj\n",
    "a.pop(pile_3)"
   ]
  },
  {
   "cell_type": "code",
   "execution_count": 12,
   "metadata": {},
   "outputs": [
    {
     "data": {
      "text/plain": [
       "False"
      ]
     },
     "execution_count": 12,
     "metadata": {},
     "output_type": "execute_result"
    }
   ],
   "source": [
    "pile_3 in a"
   ]
  },
  {
   "cell_type": "code",
   "execution_count": 13,
   "metadata": {},
   "outputs": [
    {
     "data": {
      "text/plain": [
       "False"
      ]
     },
     "execution_count": 13,
     "metadata": {},
     "output_type": "execute_result"
    }
   ],
   "source": [
    "# remove won't return anything\n",
    "a.remove(pile_2)\n",
    "pile_2 in a"
   ]
  },
  {
   "cell_type": "code",
   "execution_count": 14,
   "metadata": {},
   "outputs": [
    {
     "name": "stdout",
     "output_type": "stream",
     "text": [
      "Item not found. Item: 'Pile(id: f066c9dd60fa8931235d5da3e8e1c9c2, created: 2024-05-04T17:32:09, updated: [])'.\n"
     ]
    }
   ],
   "source": [
    "# you cannot remove an object that is not in the pile\n",
    "try:\n",
    "    a.remove(pile_2)\n",
    "except Exception as e:\n",
    "    print(e)"
   ]
  },
  {
   "cell_type": "code",
   "execution_count": 15,
   "metadata": {},
   "outputs": [
    {
     "data": {
      "text/plain": [
       "True"
      ]
     },
     "execution_count": 15,
     "metadata": {},
     "output_type": "execute_result"
    }
   ],
   "source": [
    "# but using exclude will not raise an error\n",
    "a.exclude(pile_2)"
   ]
  },
  {
   "cell_type": "code",
   "execution_count": 16,
   "metadata": {},
   "outputs": [
    {
     "data": {
      "text/plain": [
       "False"
      ]
     },
     "execution_count": 16,
     "metadata": {},
     "output_type": "execute_result"
    }
   ],
   "source": [
    "a.exclude(item1)\n",
    "item1 in a"
   ]
  },
  {
   "cell_type": "markdown",
   "metadata": {},
   "source": [
    "### Utility methods"
   ]
  },
  {
   "cell_type": "code",
   "execution_count": 17,
   "metadata": {},
   "outputs": [
    {
     "data": {
      "text/plain": [
       "True"
      ]
     },
     "execution_count": 17,
     "metadata": {},
     "output_type": "execute_result"
    }
   ],
   "source": [
    "a.is_homogenous()"
   ]
  },
  {
   "cell_type": "code",
   "execution_count": 18,
   "metadata": {},
   "outputs": [],
   "source": [
    "a.clear()"
   ]
  },
  {
   "cell_type": "code",
   "execution_count": 19,
   "metadata": {},
   "outputs": [
    {
     "data": {
      "text/plain": [
       "True"
      ]
     },
     "execution_count": 19,
     "metadata": {},
     "output_type": "execute_result"
    }
   ],
   "source": [
    "a.is_empty()"
   ]
  },
  {
   "cell_type": "markdown",
   "metadata": {},
   "source": [
    "## Magic Methods"
   ]
  },
  {
   "cell_type": "code",
   "execution_count": 20,
   "metadata": {},
   "outputs": [],
   "source": [
    "pile1 = pile()\n",
    "pile2 = pile()\n",
    "pile3 = pile()"
   ]
  },
  {
   "cell_type": "code",
   "execution_count": 21,
   "metadata": {},
   "outputs": [
    {
     "data": {
      "text/plain": [
       "True"
      ]
     },
     "execution_count": 21,
     "metadata": {},
     "output_type": "execute_result"
    }
   ],
   "source": [
    "# include an item\n",
    "\n",
    "for i in [pile1, pile2, pile3]:\n",
    "    a += i\n",
    "\n",
    "pile1 in a"
   ]
  },
  {
   "cell_type": "code",
   "execution_count": 22,
   "metadata": {},
   "outputs": [
    {
     "data": {
      "text/plain": [
       "3"
      ]
     },
     "execution_count": 22,
     "metadata": {},
     "output_type": "execute_result"
    }
   ],
   "source": [
    "# when including items already included, we ignore them\n",
    "\n",
    "a += pile1\n",
    "len(a)"
   ]
  },
  {
   "cell_type": "code",
   "execution_count": 23,
   "metadata": {},
   "outputs": [
    {
     "data": {
      "text/plain": [
       "False"
      ]
     },
     "execution_count": 23,
     "metadata": {},
     "output_type": "execute_result"
    }
   ],
   "source": [
    "a -= pile1\n",
    "pile1 in a"
   ]
  },
  {
   "cell_type": "code",
   "execution_count": 24,
   "metadata": {},
   "outputs": [
    {
     "data": {
      "text/plain": [
       "2"
      ]
     },
     "execution_count": 24,
     "metadata": {},
     "output_type": "execute_result"
    }
   ],
   "source": [
    "len(a)"
   ]
  }
 ],
 "metadata": {
  "kernelspec": {
   "display_name": ".venv",
   "language": "python",
   "name": "python3"
  },
  "language_info": {
   "codemirror_mode": {
    "name": "ipython",
    "version": 3
   },
   "file_extension": ".py",
   "mimetype": "text/x-python",
   "name": "python",
   "nbconvert_exporter": "python",
   "pygments_lexer": "ipython3",
   "version": "3.11.6"
  }
 },
 "nbformat": 4,
 "nbformat_minor": 2
}
