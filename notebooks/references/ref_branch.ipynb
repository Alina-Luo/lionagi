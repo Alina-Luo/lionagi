{
 "cells": [
  {
   "cell_type": "code",
   "execution_count": 1,
   "metadata": {},
   "outputs": [],
   "source": [
    "import lionagi as li"
   ]
  },
  {
   "cell_type": "code",
   "execution_count": 2,
   "metadata": {},
   "outputs": [],
   "source": [
    "a = li.Branch()"
   ]
  },
  {
   "cell_type": "code",
   "execution_count": 3,
   "metadata": {},
   "outputs": [
    {
     "data": {
      "text/plain": [
       "'A lost dog found its way home, guided by love.'"
      ]
     },
     "execution_count": 3,
     "metadata": {},
     "output_type": "execute_result"
    }
   ],
   "source": [
    "a = li.Branch()\n",
    "\n",
    "await a.chat(\"tell me a 10 word story\")"
   ]
  },
  {
   "cell_type": "code",
   "execution_count": null,
   "metadata": {},
   "outputs": [],
   "source": []
  },
  {
   "cell_type": "code",
   "execution_count": 4,
   "metadata": {},
   "outputs": [],
   "source": [
    "b = [{'index': 0,\n",
    "   'message': {'role': 'assistant',\n",
    "    'content': 'Lost dog returned home, bringing another new friend along. Joy!'},\n",
    "   'logprobs': None,\n",
    "   'finish_reason': 'stop'}]"
   ]
  },
  {
   "cell_type": "code",
   "execution_count": 5,
   "metadata": {},
   "outputs": [
    {
     "data": {
      "text/plain": [
       "{'index': 0,\n",
       " 'message': {'role': 'assistant',\n",
       "  'content': 'Lost dog returned home, bringing another new friend along. Joy!'},\n",
       " 'logprobs': None,\n",
       " 'finish_reason': 'stop'}"
      ]
     },
     "execution_count": 5,
     "metadata": {},
     "output_type": "execute_result"
    }
   ],
   "source": [
    "b[0]"
   ]
  },
  {
   "cell_type": "code",
   "execution_count": 6,
   "metadata": {},
   "outputs": [
    {
     "data": {
      "text/html": [
       "<div>\n",
       "<style scoped>\n",
       "    .dataframe tbody tr th:only-of-type {\n",
       "        vertical-align: middle;\n",
       "    }\n",
       "\n",
       "    .dataframe tbody tr th {\n",
       "        vertical-align: top;\n",
       "    }\n",
       "\n",
       "    .dataframe thead th {\n",
       "        text-align: right;\n",
       "    }\n",
       "</style>\n",
       "<table border=\"1\" class=\"dataframe\">\n",
       "  <thead>\n",
       "    <tr style=\"text-align: right;\">\n",
       "      <th></th>\n",
       "      <th>sender</th>\n",
       "      <th>recipient</th>\n",
       "      <th>ln_id</th>\n",
       "      <th>created</th>\n",
       "      <th>metadata</th>\n",
       "      <th>content</th>\n",
       "      <th>relations</th>\n",
       "      <th>role</th>\n",
       "    </tr>\n",
       "  </thead>\n",
       "  <tbody>\n",
       "    <tr>\n",
       "      <th>0</th>\n",
       "      <td>system</td>\n",
       "      <td>9fb670ba765879e36f94a6c4527aec62</td>\n",
       "      <td>d23fb4f944e1f35f99e60267a13b553a</td>\n",
       "      <td>2024-05-13T18:11:08.351550</td>\n",
       "      <td>{'last_updated': {'recipient': '2024-05-13T18:...</td>\n",
       "      <td>{'system_info': 'You are a helpful assistant, ...</td>\n",
       "      <td>{'in': {'ln_id': '7e51a2ccfefeafd79f24b50ce552...</td>\n",
       "      <td>system</td>\n",
       "    </tr>\n",
       "    <tr>\n",
       "      <th>1</th>\n",
       "      <td>user</td>\n",
       "      <td>9fb670ba765879e36f94a6c4527aec62</td>\n",
       "      <td>9fb620917ee52ea86549b2f9139e88c9</td>\n",
       "      <td>2024-05-13T18:11:08.353519</td>\n",
       "      <td>{'last_updated': {'sender': '2024-05-13T18:11:...</td>\n",
       "      <td>{'instruction': 'tell me a 10 word story'}</td>\n",
       "      <td>{'in': {'ln_id': '4e3d92ce31661a6f38b519be4496...</td>\n",
       "      <td>user</td>\n",
       "    </tr>\n",
       "    <tr>\n",
       "      <th>2</th>\n",
       "      <td>9fb670ba765879e36f94a6c4527aec62</td>\n",
       "      <td>user</td>\n",
       "      <td>33af953d256d3e76a03fbd4f0ad968ca</td>\n",
       "      <td>2024-05-13T18:11:09.221767</td>\n",
       "      <td>{'last_updated': {'sender': '2024-05-13T18:11:...</td>\n",
       "      <td>{'assistant_response': 'A lost dog found its w...</td>\n",
       "      <td>{'in': {'ln_id': 'e98857b463e00a32da3cff1d0b5c...</td>\n",
       "      <td>assistant</td>\n",
       "    </tr>\n",
       "  </tbody>\n",
       "</table>\n",
       "</div>"
      ],
      "text/plain": [
       "                             sender                         recipient  \\\n",
       "0                            system  9fb670ba765879e36f94a6c4527aec62   \n",
       "1                              user  9fb670ba765879e36f94a6c4527aec62   \n",
       "2  9fb670ba765879e36f94a6c4527aec62                              user   \n",
       "\n",
       "                              ln_id                     created  \\\n",
       "0  d23fb4f944e1f35f99e60267a13b553a  2024-05-13T18:11:08.351550   \n",
       "1  9fb620917ee52ea86549b2f9139e88c9  2024-05-13T18:11:08.353519   \n",
       "2  33af953d256d3e76a03fbd4f0ad968ca  2024-05-13T18:11:09.221767   \n",
       "\n",
       "                                            metadata  \\\n",
       "0  {'last_updated': {'recipient': '2024-05-13T18:...   \n",
       "1  {'last_updated': {'sender': '2024-05-13T18:11:...   \n",
       "2  {'last_updated': {'sender': '2024-05-13T18:11:...   \n",
       "\n",
       "                                             content  \\\n",
       "0  {'system_info': 'You are a helpful assistant, ...   \n",
       "1         {'instruction': 'tell me a 10 word story'}   \n",
       "2  {'assistant_response': 'A lost dog found its w...   \n",
       "\n",
       "                                           relations       role  \n",
       "0  {'in': {'ln_id': '7e51a2ccfefeafd79f24b50ce552...     system  \n",
       "1  {'in': {'ln_id': '4e3d92ce31661a6f38b519be4496...       user  \n",
       "2  {'in': {'ln_id': 'e98857b463e00a32da3cff1d0b5c...  assistant  "
      ]
     },
     "execution_count": 6,
     "metadata": {},
     "output_type": "execute_result"
    }
   ],
   "source": [
    "a.messages.to_df()"
   ]
  },
  {
   "cell_type": "code",
   "execution_count": 7,
   "metadata": {},
   "outputs": [
    {
     "data": {
      "text/plain": [
       "{'last_updated': {'sender': '2024-05-13T18:11:08.353556',\n",
       "  'recipient': '2024-05-13T18:11:08.353565'},\n",
       " 'extra': {'model': 'gpt-4o',\n",
       "  'frequency_penalty': 0,\n",
       "  'n': 1,\n",
       "  'presence_penalty': 0,\n",
       "  'response_format': {'type': 'text'},\n",
       "  'temperature': 0.7,\n",
       "  'top_p': 1}}"
      ]
     },
     "execution_count": 7,
     "metadata": {},
     "output_type": "execute_result"
    }
   ],
   "source": [
    "a.messages[1].metadata"
   ]
  },
  {
   "cell_type": "code",
   "execution_count": 8,
   "metadata": {},
   "outputs": [
    {
     "data": {
      "text/html": [
       "<div>\n",
       "<style scoped>\n",
       "    .dataframe tbody tr th:only-of-type {\n",
       "        vertical-align: middle;\n",
       "    }\n",
       "\n",
       "    .dataframe tbody tr th {\n",
       "        vertical-align: top;\n",
       "    }\n",
       "\n",
       "    .dataframe thead th {\n",
       "        text-align: right;\n",
       "    }\n",
       "</style>\n",
       "<table border=\"1\" class=\"dataframe\">\n",
       "  <thead>\n",
       "    <tr style=\"text-align: right;\">\n",
       "      <th></th>\n",
       "      <th>sender</th>\n",
       "      <th>recipient</th>\n",
       "      <th>ln_id</th>\n",
       "      <th>created</th>\n",
       "      <th>metadata</th>\n",
       "      <th>content</th>\n",
       "      <th>relations</th>\n",
       "      <th>role</th>\n",
       "    </tr>\n",
       "  </thead>\n",
       "  <tbody>\n",
       "    <tr>\n",
       "      <th>0</th>\n",
       "      <td>system</td>\n",
       "      <td>9fb670ba765879e36f94a6c4527aec62</td>\n",
       "      <td>d23fb4f944e1f35f99e60267a13b553a</td>\n",
       "      <td>2024-05-13T18:11:08.351550</td>\n",
       "      <td>{'last_updated': {'recipient': '2024-05-13T18:...</td>\n",
       "      <td>{'system_info': 'You are a helpful assistant, ...</td>\n",
       "      <td>{'in': {'ln_id': '7e51a2ccfefeafd79f24b50ce552...</td>\n",
       "      <td>system</td>\n",
       "    </tr>\n",
       "    <tr>\n",
       "      <th>1</th>\n",
       "      <td>user</td>\n",
       "      <td>9fb670ba765879e36f94a6c4527aec62</td>\n",
       "      <td>9fb620917ee52ea86549b2f9139e88c9</td>\n",
       "      <td>2024-05-13T18:11:08.353519</td>\n",
       "      <td>{'last_updated': {'sender': '2024-05-13T18:11:...</td>\n",
       "      <td>{'instruction': 'tell me a 10 word story'}</td>\n",
       "      <td>{'in': {'ln_id': '4e3d92ce31661a6f38b519be4496...</td>\n",
       "      <td>user</td>\n",
       "    </tr>\n",
       "    <tr>\n",
       "      <th>2</th>\n",
       "      <td>9fb670ba765879e36f94a6c4527aec62</td>\n",
       "      <td>user</td>\n",
       "      <td>33af953d256d3e76a03fbd4f0ad968ca</td>\n",
       "      <td>2024-05-13T18:11:09.221767</td>\n",
       "      <td>{'last_updated': {'sender': '2024-05-13T18:11:...</td>\n",
       "      <td>{'assistant_response': 'A lost dog found its w...</td>\n",
       "      <td>{'in': {'ln_id': 'e98857b463e00a32da3cff1d0b5c...</td>\n",
       "      <td>assistant</td>\n",
       "    </tr>\n",
       "  </tbody>\n",
       "</table>\n",
       "</div>"
      ],
      "text/plain": [
       "                             sender                         recipient  \\\n",
       "0                            system  9fb670ba765879e36f94a6c4527aec62   \n",
       "1                              user  9fb670ba765879e36f94a6c4527aec62   \n",
       "2  9fb670ba765879e36f94a6c4527aec62                              user   \n",
       "\n",
       "                              ln_id                     created  \\\n",
       "0  d23fb4f944e1f35f99e60267a13b553a  2024-05-13T18:11:08.351550   \n",
       "1  9fb620917ee52ea86549b2f9139e88c9  2024-05-13T18:11:08.353519   \n",
       "2  33af953d256d3e76a03fbd4f0ad968ca  2024-05-13T18:11:09.221767   \n",
       "\n",
       "                                            metadata  \\\n",
       "0  {'last_updated': {'recipient': '2024-05-13T18:...   \n",
       "1  {'last_updated': {'sender': '2024-05-13T18:11:...   \n",
       "2  {'last_updated': {'sender': '2024-05-13T18:11:...   \n",
       "\n",
       "                                             content  \\\n",
       "0  {'system_info': 'You are a helpful assistant, ...   \n",
       "1         {'instruction': 'tell me a 10 word story'}   \n",
       "2  {'assistant_response': 'A lost dog found its w...   \n",
       "\n",
       "                                           relations       role  \n",
       "0  {'in': {'ln_id': '7e51a2ccfefeafd79f24b50ce552...     system  \n",
       "1  {'in': {'ln_id': '4e3d92ce31661a6f38b519be4496...       user  \n",
       "2  {'in': {'ln_id': 'e98857b463e00a32da3cff1d0b5c...  assistant  "
      ]
     },
     "execution_count": 8,
     "metadata": {},
     "output_type": "execute_result"
    }
   ],
   "source": [
    "a.messages.to_df()"
   ]
  },
  {
   "cell_type": "code",
   "execution_count": 9,
   "metadata": {},
   "outputs": [
    {
     "data": {
      "text/plain": [
       "{'last_updated': {'sender': '2024-05-13T18:11:09.221843',\n",
       "  'recipient': '2024-05-13T18:11:09.221852'},\n",
       " 'extra': {'id': 'chatcmpl-9OUQev0f2vDRPdvvdS9JZCgn6h6Bp',\n",
       "  'object': 'chat.completion',\n",
       "  'created': 1715623868,\n",
       "  'model': 'gpt-4o-2024-05-13',\n",
       "  'usage': {'prompt_tokens': 40, 'completion_tokens': 12, 'total_tokens': 52},\n",
       "  'system_fingerprint': 'fp_729ea513f7',\n",
       "  'index': 0,\n",
       "  'logprobs': None,\n",
       "  'finish_reason': 'stop'}}"
      ]
     },
     "execution_count": 9,
     "metadata": {},
     "output_type": "execute_result"
    }
   ],
   "source": [
    "a.messages[2].metadata"
   ]
  },
  {
   "cell_type": "code",
   "execution_count": 10,
   "metadata": {},
   "outputs": [],
   "source": [
    "a._meta_insert([\"extra\"], 1)"
   ]
  },
  {
   "cell_type": "code",
   "execution_count": 11,
   "metadata": {},
   "outputs": [
    {
     "data": {
      "text/plain": [
       "{'last_updated': {'system': '2024-05-13T18:11:08.351415',\n",
       "  'user': '2024-05-13T18:11:08.351424',\n",
       "  'messages': '2024-05-13T18:11:08.351448',\n",
       "  'progre': '2024-05-13T18:11:08.351465',\n",
       "  'tool_manager': '2024-05-13T18:11:08.351471',\n",
       "  'mailbox': '2024-05-13T18:11:08.351506',\n",
       "  'imodel': '2024-05-13T18:11:08.351529'},\n",
       " 'extra': 1}"
      ]
     },
     "execution_count": 11,
     "metadata": {},
     "output_type": "execute_result"
    }
   ],
   "source": [
    "a.metadata"
   ]
  },
  {
   "cell_type": "code",
   "execution_count": 12,
   "metadata": {},
   "outputs": [],
   "source": [
    "import lionagi as li"
   ]
  },
  {
   "cell_type": "code",
   "execution_count": 13,
   "metadata": {},
   "outputs": [],
   "source": [
    "async def multiply(number1: float, number2: float, number3: float = 1):\n",
    "    \"\"\"\n",
    "    multiply three numbers.\n",
    "\n",
    "    Args:\n",
    "        number1: First number to multiply.\n",
    "        number2: Second number to multiply.\n",
    "        number3: third number to multiply\n",
    "\n",
    "    Returns:\n",
    "        The product of number1, number2, number3\n",
    "\n",
    "    \"\"\"\n",
    "    return number1 * number2 * number3\n",
    "\n",
    "instruction = \"\"\"\n",
    "solve the following problem\n",
    "\"\"\"\n",
    "\n",
    "context = \"\"\"\n",
    "    I have 730_000 trees, with average 123 apples per tree, each weigh 0.4 lbs. \n",
    "    20 percent are bad and sold for 0.1 dollar per lbs, 30 percent are sold to \n",
    "    brewery for 0.3 dollar per apple, what is my revenue?\n",
    "\"\"\""
   ]
  },
  {
   "cell_type": "code",
   "execution_count": 14,
   "metadata": {},
   "outputs": [],
   "source": [
    "branch = li.Branch(\"act like a calculator, invoke tool uses\", tools=[multiply])"
   ]
  },
  {
   "cell_type": "code",
   "execution_count": 15,
   "metadata": {},
   "outputs": [],
   "source": [
    "await branch.chat(instruction=instruction, context=context, tools=True);"
   ]
  },
  {
   "cell_type": "code",
   "execution_count": 16,
   "metadata": {},
   "outputs": [
    {
     "data": {
      "text/html": [
       "<div>\n",
       "<style scoped>\n",
       "    .dataframe tbody tr th:only-of-type {\n",
       "        vertical-align: middle;\n",
       "    }\n",
       "\n",
       "    .dataframe tbody tr th {\n",
       "        vertical-align: top;\n",
       "    }\n",
       "\n",
       "    .dataframe thead th {\n",
       "        text-align: right;\n",
       "    }\n",
       "</style>\n",
       "<table border=\"1\" class=\"dataframe\">\n",
       "  <thead>\n",
       "    <tr style=\"text-align: right;\">\n",
       "      <th></th>\n",
       "      <th>ln_id</th>\n",
       "      <th>message_type</th>\n",
       "      <th>timestamp</th>\n",
       "      <th>role</th>\n",
       "      <th>content</th>\n",
       "      <th>metadata</th>\n",
       "      <th>sender</th>\n",
       "      <th>recipient</th>\n",
       "    </tr>\n",
       "  </thead>\n",
       "  <tbody>\n",
       "    <tr>\n",
       "      <th>0</th>\n",
       "      <td>cfb708f4707498d86c3f7d6b3672bae4</td>\n",
       "      <td>System</td>\n",
       "      <td>2024-05-13T18:11:09.282733</td>\n",
       "      <td>system</td>\n",
       "      <td>{'system_info': 'act like a calculator, invoke...</td>\n",
       "      <td>{'last_updated': {'recipient': '2024-05-13T18:...</td>\n",
       "      <td>system</td>\n",
       "      <td>b6b4748aa2861f2790d86d40607d1beb</td>\n",
       "    </tr>\n",
       "    <tr>\n",
       "      <th>1</th>\n",
       "      <td>9d9f6aecd59730af668e3ec6f7370b4c</td>\n",
       "      <td>Instruction</td>\n",
       "      <td>2024-05-13T18:11:09.285931</td>\n",
       "      <td>user</td>\n",
       "      <td>{'instruction': '\n",
       "solve the following problem\n",
       "...</td>\n",
       "      <td>{'last_updated': {'sender': '2024-05-13T18:11:...</td>\n",
       "      <td>user</td>\n",
       "      <td>b6b4748aa2861f2790d86d40607d1beb</td>\n",
       "    </tr>\n",
       "    <tr>\n",
       "      <th>2</th>\n",
       "      <td>28b68e5e7edef4b4c121834727803ffc</td>\n",
       "      <td>AssistantResponse</td>\n",
       "      <td>2024-05-13T18:11:10.890642</td>\n",
       "      <td>assistant</td>\n",
       "      <td>{'assistant_response': None}</td>\n",
       "      <td>{'last_updated': {'sender': '2024-05-13T18:11:...</td>\n",
       "      <td>b6b4748aa2861f2790d86d40607d1beb</td>\n",
       "      <td>user</td>\n",
       "    </tr>\n",
       "    <tr>\n",
       "      <th>3</th>\n",
       "      <td>a76a61fd4a1c2666319c30316f6ddf62</td>\n",
       "      <td>ActionRequest</td>\n",
       "      <td>2024-05-13T18:11:10.890952</td>\n",
       "      <td>assistant</td>\n",
       "      <td>{'action_request': {'function': 'multiply', 'a...</td>\n",
       "      <td>{'last_updated': {'function': '2024-05-13T18:1...</td>\n",
       "      <td>b6b4748aa2861f2790d86d40607d1beb</td>\n",
       "      <td>1ac2eaa96617fac960efadac37a51d26</td>\n",
       "    </tr>\n",
       "    <tr>\n",
       "      <th>4</th>\n",
       "      <td>7cc80b2a70d4f9a057723068f56f5efc</td>\n",
       "      <td>ActionRequest</td>\n",
       "      <td>2024-05-13T18:11:10.891061</td>\n",
       "      <td>assistant</td>\n",
       "      <td>{'action_request': {'function': 'multiply', 'a...</td>\n",
       "      <td>{'last_updated': {'function': '2024-05-13T18:1...</td>\n",
       "      <td>b6b4748aa2861f2790d86d40607d1beb</td>\n",
       "      <td>1ac2eaa96617fac960efadac37a51d26</td>\n",
       "    </tr>\n",
       "    <tr>\n",
       "      <th>5</th>\n",
       "      <td>b3a12adb68d6d2ddbbb9bcc2e1375820</td>\n",
       "      <td>ActionRequest</td>\n",
       "      <td>2024-05-13T18:11:10.891126</td>\n",
       "      <td>assistant</td>\n",
       "      <td>{'action_request': {'function': 'multiply', 'a...</td>\n",
       "      <td>{'last_updated': {'function': '2024-05-13T18:1...</td>\n",
       "      <td>b6b4748aa2861f2790d86d40607d1beb</td>\n",
       "      <td>1ac2eaa96617fac960efadac37a51d26</td>\n",
       "    </tr>\n",
       "    <tr>\n",
       "      <th>6</th>\n",
       "      <td>4c4f173b6aba6264623073808a9d7e1b</td>\n",
       "      <td>ActionResponse</td>\n",
       "      <td>2024-05-13T18:11:10.891659</td>\n",
       "      <td>assistant</td>\n",
       "      <td>{'action_response': {'function': 'multiply', '...</td>\n",
       "      <td>{'last_updated': {'function': '2024-05-13T18:1...</td>\n",
       "      <td>1ac2eaa96617fac960efadac37a51d26</td>\n",
       "      <td>b6b4748aa2861f2790d86d40607d1beb</td>\n",
       "    </tr>\n",
       "    <tr>\n",
       "      <th>7</th>\n",
       "      <td>be4b1860cad01147939e7ca0dfc8c359</td>\n",
       "      <td>ActionResponse</td>\n",
       "      <td>2024-05-13T18:11:10.891892</td>\n",
       "      <td>assistant</td>\n",
       "      <td>{'action_response': {'function': 'multiply', '...</td>\n",
       "      <td>{'last_updated': {'function': '2024-05-13T18:1...</td>\n",
       "      <td>1ac2eaa96617fac960efadac37a51d26</td>\n",
       "      <td>b6b4748aa2861f2790d86d40607d1beb</td>\n",
       "    </tr>\n",
       "    <tr>\n",
       "      <th>8</th>\n",
       "      <td>812f0adcc4bf9b1a06649701e5dc0091</td>\n",
       "      <td>ActionResponse</td>\n",
       "      <td>2024-05-13T18:11:10.892017</td>\n",
       "      <td>assistant</td>\n",
       "      <td>{'action_response': {'function': 'multiply', '...</td>\n",
       "      <td>{'last_updated': {'function': '2024-05-13T18:1...</td>\n",
       "      <td>1ac2eaa96617fac960efadac37a51d26</td>\n",
       "      <td>b6b4748aa2861f2790d86d40607d1beb</td>\n",
       "    </tr>\n",
       "  </tbody>\n",
       "</table>\n",
       "</div>"
      ],
      "text/plain": [
       "                              ln_id       message_type  \\\n",
       "0  cfb708f4707498d86c3f7d6b3672bae4             System   \n",
       "1  9d9f6aecd59730af668e3ec6f7370b4c        Instruction   \n",
       "2  28b68e5e7edef4b4c121834727803ffc  AssistantResponse   \n",
       "3  a76a61fd4a1c2666319c30316f6ddf62      ActionRequest   \n",
       "4  7cc80b2a70d4f9a057723068f56f5efc      ActionRequest   \n",
       "5  b3a12adb68d6d2ddbbb9bcc2e1375820      ActionRequest   \n",
       "6  4c4f173b6aba6264623073808a9d7e1b     ActionResponse   \n",
       "7  be4b1860cad01147939e7ca0dfc8c359     ActionResponse   \n",
       "8  812f0adcc4bf9b1a06649701e5dc0091     ActionResponse   \n",
       "\n",
       "                    timestamp       role  \\\n",
       "0  2024-05-13T18:11:09.282733     system   \n",
       "1  2024-05-13T18:11:09.285931       user   \n",
       "2  2024-05-13T18:11:10.890642  assistant   \n",
       "3  2024-05-13T18:11:10.890952  assistant   \n",
       "4  2024-05-13T18:11:10.891061  assistant   \n",
       "5  2024-05-13T18:11:10.891126  assistant   \n",
       "6  2024-05-13T18:11:10.891659  assistant   \n",
       "7  2024-05-13T18:11:10.891892  assistant   \n",
       "8  2024-05-13T18:11:10.892017  assistant   \n",
       "\n",
       "                                             content  \\\n",
       "0  {'system_info': 'act like a calculator, invoke...   \n",
       "1  {'instruction': '\n",
       "solve the following problem\n",
       "...   \n",
       "2                       {'assistant_response': None}   \n",
       "3  {'action_request': {'function': 'multiply', 'a...   \n",
       "4  {'action_request': {'function': 'multiply', 'a...   \n",
       "5  {'action_request': {'function': 'multiply', 'a...   \n",
       "6  {'action_response': {'function': 'multiply', '...   \n",
       "7  {'action_response': {'function': 'multiply', '...   \n",
       "8  {'action_response': {'function': 'multiply', '...   \n",
       "\n",
       "                                            metadata  \\\n",
       "0  {'last_updated': {'recipient': '2024-05-13T18:...   \n",
       "1  {'last_updated': {'sender': '2024-05-13T18:11:...   \n",
       "2  {'last_updated': {'sender': '2024-05-13T18:11:...   \n",
       "3  {'last_updated': {'function': '2024-05-13T18:1...   \n",
       "4  {'last_updated': {'function': '2024-05-13T18:1...   \n",
       "5  {'last_updated': {'function': '2024-05-13T18:1...   \n",
       "6  {'last_updated': {'function': '2024-05-13T18:1...   \n",
       "7  {'last_updated': {'function': '2024-05-13T18:1...   \n",
       "8  {'last_updated': {'function': '2024-05-13T18:1...   \n",
       "\n",
       "                             sender                         recipient  \n",
       "0                            system  b6b4748aa2861f2790d86d40607d1beb  \n",
       "1                              user  b6b4748aa2861f2790d86d40607d1beb  \n",
       "2  b6b4748aa2861f2790d86d40607d1beb                              user  \n",
       "3  b6b4748aa2861f2790d86d40607d1beb  1ac2eaa96617fac960efadac37a51d26  \n",
       "4  b6b4748aa2861f2790d86d40607d1beb  1ac2eaa96617fac960efadac37a51d26  \n",
       "5  b6b4748aa2861f2790d86d40607d1beb  1ac2eaa96617fac960efadac37a51d26  \n",
       "6  1ac2eaa96617fac960efadac37a51d26  b6b4748aa2861f2790d86d40607d1beb  \n",
       "7  1ac2eaa96617fac960efadac37a51d26  b6b4748aa2861f2790d86d40607d1beb  \n",
       "8  1ac2eaa96617fac960efadac37a51d26  b6b4748aa2861f2790d86d40607d1beb  "
      ]
     },
     "execution_count": 16,
     "metadata": {},
     "output_type": "execute_result"
    }
   ],
   "source": [
    "branch.to_df()"
   ]
  },
  {
   "cell_type": "code",
   "execution_count": 17,
   "metadata": {},
   "outputs": [
    {
     "data": {
      "text/plain": [
       "{'last_updated': {'sender': '2024-05-13T18:11:10.890754',\n",
       "  'recipient': '2024-05-13T18:11:10.890769'},\n",
       " 'extra': {'id': 'chatcmpl-9OUQfKiO2HielGgkNltMWK4r0F2BS',\n",
       "  'object': 'chat.completion',\n",
       "  'created': 1715623869,\n",
       "  'model': 'gpt-4o-2024-05-13',\n",
       "  'usage': {'prompt_tokens': 167,\n",
       "   'completion_tokens': 97,\n",
       "   'total_tokens': 264},\n",
       "  'system_fingerprint': 'fp_729ea513f7',\n",
       "  'index': 0,\n",
       "  'logprobs': None,\n",
       "  'finish_reason': 'tool_calls'}}"
      ]
     },
     "execution_count": 17,
     "metadata": {},
     "output_type": "execute_result"
    }
   ],
   "source": [
    "branch.messages[2].metadata"
   ]
  }
 ],
 "metadata": {
  "kernelspec": {
   "display_name": ".venv",
   "language": "python",
   "name": "python3"
  },
  "language_info": {
   "codemirror_mode": {
    "name": "ipython",
    "version": 3
   },
   "file_extension": ".py",
   "mimetype": "text/x-python",
   "name": "python",
   "nbconvert_exporter": "python",
   "pygments_lexer": "ipython3",
   "version": "3.11.6"
  }
 },
 "nbformat": 4,
 "nbformat_minor": 2
}
