{
 "cells": [
  {
   "cell_type": "code",
   "execution_count": 1,
   "metadata": {},
   "outputs": [],
   "source": [
    "import lionagi as li"
   ]
  },
  {
   "cell_type": "code",
   "execution_count": 2,
   "metadata": {},
   "outputs": [],
   "source": [
    "a = li.Branch()"
   ]
  },
  {
   "cell_type": "code",
   "execution_count": 3,
   "metadata": {},
   "outputs": [
    {
     "data": {
      "text/plain": [
       "'A lost cat found its way home after many days wandering.'"
      ]
     },
     "execution_count": 3,
     "metadata": {},
     "output_type": "execute_result"
    }
   ],
   "source": [
    "a = li.Branch()\n",
    "\n",
    "await a.chat(\"tell me a 10 word story\")"
   ]
  },
  {
   "cell_type": "code",
   "execution_count": null,
   "metadata": {},
   "outputs": [],
   "source": []
  },
  {
   "cell_type": "code",
   "execution_count": 4,
   "metadata": {},
   "outputs": [],
   "source": [
    "b = [\n",
    "    {\n",
    "        \"index\": 0,\n",
    "        \"message\": {\n",
    "            \"role\": \"assistant\",\n",
    "            \"content\": \"Lost dog returned home, bringing another new friend along. Joy!\",\n",
    "        },\n",
    "        \"logprobs\": None,\n",
    "        \"finish_reason\": \"stop\",\n",
    "    }\n",
    "]"
   ]
  },
  {
   "cell_type": "code",
   "execution_count": 5,
   "metadata": {},
   "outputs": [
    {
     "data": {
      "text/plain": [
       "{'index': 0,\n",
       " 'message': {'role': 'assistant',\n",
       "  'content': 'Lost dog returned home, bringing another new friend along. Joy!'},\n",
       " 'logprobs': None,\n",
       " 'finish_reason': 'stop'}"
      ]
     },
     "execution_count": 5,
     "metadata": {},
     "output_type": "execute_result"
    }
   ],
   "source": [
    "b[0]"
   ]
  },
  {
   "cell_type": "code",
   "execution_count": 6,
   "metadata": {},
   "outputs": [
    {
     "data": {
      "text/html": [
       "<div>\n",
       "<style scoped>\n",
       "    .dataframe tbody tr th:only-of-type {\n",
       "        vertical-align: middle;\n",
       "    }\n",
       "\n",
       "    .dataframe tbody tr th {\n",
       "        vertical-align: top;\n",
       "    }\n",
       "\n",
       "    .dataframe thead th {\n",
       "        text-align: right;\n",
       "    }\n",
       "</style>\n",
       "<table border=\"1\" class=\"dataframe\">\n",
       "  <thead>\n",
       "    <tr style=\"text-align: right;\">\n",
       "      <th></th>\n",
       "      <th>sender</th>\n",
       "      <th>recipient</th>\n",
       "      <th>ln_id</th>\n",
       "      <th>created</th>\n",
       "      <th>metadata</th>\n",
       "      <th>content</th>\n",
       "      <th>relations</th>\n",
       "      <th>role</th>\n",
       "    </tr>\n",
       "  </thead>\n",
       "  <tbody>\n",
       "    <tr>\n",
       "      <th>0</th>\n",
       "      <td>system</td>\n",
       "      <td>1c6970cfbbf05c03fa404ccccf0eebba</td>\n",
       "      <td>045c541ad29f5086a943c9fb66191524</td>\n",
       "      <td>2024-05-14T02:06:34.919730</td>\n",
       "      <td>{'last_updated': {'recipient': '2024-05-14T02:...</td>\n",
       "      <td>{'system_info': 'You are a helpful assistant, ...</td>\n",
       "      <td>{'in': {'ln_id': 'a786c58a3846745c532fdb849e29...</td>\n",
       "      <td>system</td>\n",
       "    </tr>\n",
       "    <tr>\n",
       "      <th>1</th>\n",
       "      <td>user</td>\n",
       "      <td>1c6970cfbbf05c03fa404ccccf0eebba</td>\n",
       "      <td>ef7db441695faeedc7bf2b6959a2ddda</td>\n",
       "      <td>2024-05-14T02:06:34.930917</td>\n",
       "      <td>{'last_updated': {'sender': '2024-05-14T02:06:...</td>\n",
       "      <td>{'instruction': 'tell me a 10 word story'}</td>\n",
       "      <td>{'in': {'ln_id': '928c2e7ca2b51e57b949e4e9b2e5...</td>\n",
       "      <td>user</td>\n",
       "    </tr>\n",
       "    <tr>\n",
       "      <th>2</th>\n",
       "      <td>1c6970cfbbf05c03fa404ccccf0eebba</td>\n",
       "      <td>user</td>\n",
       "      <td>9bc711c68059565a05ecfae9a0585d0c</td>\n",
       "      <td>2024-05-14T02:06:35.583582</td>\n",
       "      <td>{'last_updated': {'sender': '2024-05-14T02:06:...</td>\n",
       "      <td>{'assistant_response': 'A lost cat found its w...</td>\n",
       "      <td>{'in': {'ln_id': 'f93bb8b14db8537cd5e480a56d43...</td>\n",
       "      <td>assistant</td>\n",
       "    </tr>\n",
       "  </tbody>\n",
       "</table>\n",
       "</div>"
      ],
      "text/plain": [
       "                             sender                         recipient  \\\n",
       "0                            system  1c6970cfbbf05c03fa404ccccf0eebba   \n",
       "1                              user  1c6970cfbbf05c03fa404ccccf0eebba   \n",
       "2  1c6970cfbbf05c03fa404ccccf0eebba                              user   \n",
       "\n",
       "                              ln_id                     created  \\\n",
       "0  045c541ad29f5086a943c9fb66191524  2024-05-14T02:06:34.919730   \n",
       "1  ef7db441695faeedc7bf2b6959a2ddda  2024-05-14T02:06:34.930917   \n",
       "2  9bc711c68059565a05ecfae9a0585d0c  2024-05-14T02:06:35.583582   \n",
       "\n",
       "                                            metadata  \\\n",
       "0  {'last_updated': {'recipient': '2024-05-14T02:...   \n",
       "1  {'last_updated': {'sender': '2024-05-14T02:06:...   \n",
       "2  {'last_updated': {'sender': '2024-05-14T02:06:...   \n",
       "\n",
       "                                             content  \\\n",
       "0  {'system_info': 'You are a helpful assistant, ...   \n",
       "1         {'instruction': 'tell me a 10 word story'}   \n",
       "2  {'assistant_response': 'A lost cat found its w...   \n",
       "\n",
       "                                           relations       role  \n",
       "0  {'in': {'ln_id': 'a786c58a3846745c532fdb849e29...     system  \n",
       "1  {'in': {'ln_id': '928c2e7ca2b51e57b949e4e9b2e5...       user  \n",
       "2  {'in': {'ln_id': 'f93bb8b14db8537cd5e480a56d43...  assistant  "
      ]
     },
     "execution_count": 6,
     "metadata": {},
     "output_type": "execute_result"
    }
   ],
   "source": [
    "a.messages.to_df()"
   ]
  },
  {
   "cell_type": "code",
   "execution_count": 7,
   "metadata": {},
   "outputs": [
    {
     "data": {
      "text/plain": [
       "{'last_updated': {'sender': '2024-05-14T02:06:34.930967',\n",
       "  'recipient': '2024-05-14T02:06:34.930978'},\n",
       " 'extra': {'model': 'gpt-4o',\n",
       "  'frequency_penalty': 0,\n",
       "  'n': 1,\n",
       "  'presence_penalty': 0,\n",
       "  'response_format': {'type': 'text'},\n",
       "  'temperature': 0.7,\n",
       "  'top_p': 1}}"
      ]
     },
     "execution_count": 7,
     "metadata": {},
     "output_type": "execute_result"
    }
   ],
   "source": [
    "a.messages[1].metadata"
   ]
  },
  {
   "cell_type": "code",
   "execution_count": 8,
   "metadata": {},
   "outputs": [
    {
     "data": {
      "text/html": [
       "<div>\n",
       "<style scoped>\n",
       "    .dataframe tbody tr th:only-of-type {\n",
       "        vertical-align: middle;\n",
       "    }\n",
       "\n",
       "    .dataframe tbody tr th {\n",
       "        vertical-align: top;\n",
       "    }\n",
       "\n",
       "    .dataframe thead th {\n",
       "        text-align: right;\n",
       "    }\n",
       "</style>\n",
       "<table border=\"1\" class=\"dataframe\">\n",
       "  <thead>\n",
       "    <tr style=\"text-align: right;\">\n",
       "      <th></th>\n",
       "      <th>sender</th>\n",
       "      <th>recipient</th>\n",
       "      <th>ln_id</th>\n",
       "      <th>created</th>\n",
       "      <th>metadata</th>\n",
       "      <th>content</th>\n",
       "      <th>relations</th>\n",
       "      <th>role</th>\n",
       "    </tr>\n",
       "  </thead>\n",
       "  <tbody>\n",
       "    <tr>\n",
       "      <th>0</th>\n",
       "      <td>system</td>\n",
       "      <td>1c6970cfbbf05c03fa404ccccf0eebba</td>\n",
       "      <td>045c541ad29f5086a943c9fb66191524</td>\n",
       "      <td>2024-05-14T02:06:34.919730</td>\n",
       "      <td>{'last_updated': {'recipient': '2024-05-14T02:...</td>\n",
       "      <td>{'system_info': 'You are a helpful assistant, ...</td>\n",
       "      <td>{'in': {'ln_id': 'a786c58a3846745c532fdb849e29...</td>\n",
       "      <td>system</td>\n",
       "    </tr>\n",
       "    <tr>\n",
       "      <th>1</th>\n",
       "      <td>user</td>\n",
       "      <td>1c6970cfbbf05c03fa404ccccf0eebba</td>\n",
       "      <td>ef7db441695faeedc7bf2b6959a2ddda</td>\n",
       "      <td>2024-05-14T02:06:34.930917</td>\n",
       "      <td>{'last_updated': {'sender': '2024-05-14T02:06:...</td>\n",
       "      <td>{'instruction': 'tell me a 10 word story'}</td>\n",
       "      <td>{'in': {'ln_id': '928c2e7ca2b51e57b949e4e9b2e5...</td>\n",
       "      <td>user</td>\n",
       "    </tr>\n",
       "    <tr>\n",
       "      <th>2</th>\n",
       "      <td>1c6970cfbbf05c03fa404ccccf0eebba</td>\n",
       "      <td>user</td>\n",
       "      <td>9bc711c68059565a05ecfae9a0585d0c</td>\n",
       "      <td>2024-05-14T02:06:35.583582</td>\n",
       "      <td>{'last_updated': {'sender': '2024-05-14T02:06:...</td>\n",
       "      <td>{'assistant_response': 'A lost cat found its w...</td>\n",
       "      <td>{'in': {'ln_id': 'f93bb8b14db8537cd5e480a56d43...</td>\n",
       "      <td>assistant</td>\n",
       "    </tr>\n",
       "  </tbody>\n",
       "</table>\n",
       "</div>"
      ],
      "text/plain": [
       "                             sender                         recipient  \\\n",
       "0                            system  1c6970cfbbf05c03fa404ccccf0eebba   \n",
       "1                              user  1c6970cfbbf05c03fa404ccccf0eebba   \n",
       "2  1c6970cfbbf05c03fa404ccccf0eebba                              user   \n",
       "\n",
       "                              ln_id                     created  \\\n",
       "0  045c541ad29f5086a943c9fb66191524  2024-05-14T02:06:34.919730   \n",
       "1  ef7db441695faeedc7bf2b6959a2ddda  2024-05-14T02:06:34.930917   \n",
       "2  9bc711c68059565a05ecfae9a0585d0c  2024-05-14T02:06:35.583582   \n",
       "\n",
       "                                            metadata  \\\n",
       "0  {'last_updated': {'recipient': '2024-05-14T02:...   \n",
       "1  {'last_updated': {'sender': '2024-05-14T02:06:...   \n",
       "2  {'last_updated': {'sender': '2024-05-14T02:06:...   \n",
       "\n",
       "                                             content  \\\n",
       "0  {'system_info': 'You are a helpful assistant, ...   \n",
       "1         {'instruction': 'tell me a 10 word story'}   \n",
       "2  {'assistant_response': 'A lost cat found its w...   \n",
       "\n",
       "                                           relations       role  \n",
       "0  {'in': {'ln_id': 'a786c58a3846745c532fdb849e29...     system  \n",
       "1  {'in': {'ln_id': '928c2e7ca2b51e57b949e4e9b2e5...       user  \n",
       "2  {'in': {'ln_id': 'f93bb8b14db8537cd5e480a56d43...  assistant  "
      ]
     },
     "execution_count": 8,
     "metadata": {},
     "output_type": "execute_result"
    }
   ],
   "source": [
    "a.messages.to_df()"
   ]
  },
  {
   "cell_type": "code",
   "execution_count": 9,
   "metadata": {},
   "outputs": [
    {
     "data": {
      "text/plain": [
       "{'last_updated': {'sender': '2024-05-14T02:06:35.583715',\n",
       "  'recipient': '2024-05-14T02:06:35.583735'},\n",
       " 'extra': {'id': 'chatcmpl-9ObqlEPY6VU1cjobFxUlh2s6Rr86x',\n",
       "  'object': 'chat.completion',\n",
       "  'created': 1715652395,\n",
       "  'model': 'gpt-4o-2024-05-13',\n",
       "  'usage': {'prompt_tokens': 40, 'completion_tokens': 12, 'total_tokens': 52},\n",
       "  'system_fingerprint': 'fp_729ea513f7',\n",
       "  'index': 0,\n",
       "  'logprobs': None,\n",
       "  'finish_reason': 'stop'}}"
      ]
     },
     "execution_count": 9,
     "metadata": {},
     "output_type": "execute_result"
    }
   ],
   "source": [
    "a.messages[2].metadata"
   ]
  },
  {
   "cell_type": "code",
   "execution_count": 10,
   "metadata": {},
   "outputs": [],
   "source": [
    "a._meta_insert([\"extra\"], 1)"
   ]
  },
  {
   "cell_type": "code",
   "execution_count": 11,
   "metadata": {},
   "outputs": [
    {
     "data": {
      "text/plain": [
       "{'last_updated': {'system': '2024-05-14T02:06:34.919575',\n",
       "  'user': '2024-05-14T02:06:34.919588',\n",
       "  'messages': '2024-05-14T02:06:34.919615',\n",
       "  'progre': '2024-05-14T02:06:34.919631',\n",
       "  'tool_manager': '2024-05-14T02:06:34.919638',\n",
       "  'mailbox': '2024-05-14T02:06:34.919677',\n",
       "  'imodel': '2024-05-14T02:06:34.919705'},\n",
       " 'extra': 1}"
      ]
     },
     "execution_count": 11,
     "metadata": {},
     "output_type": "execute_result"
    }
   ],
   "source": [
    "a.metadata"
   ]
  },
  {
   "cell_type": "code",
   "execution_count": 12,
   "metadata": {},
   "outputs": [],
   "source": [
    "import lionagi as li"
   ]
  },
  {
   "cell_type": "code",
   "execution_count": 13,
   "metadata": {},
   "outputs": [],
   "source": [
    "async def multiply(number1: float, number2: float, number3: float = 1):\n",
    "    \"\"\"\n",
    "    multiply three numbers.\n",
    "\n",
    "    Args:\n",
    "        number1: First number to multiply.\n",
    "        number2: Second number to multiply.\n",
    "        number3: third number to multiply\n",
    "\n",
    "    Returns:\n",
    "        The product of number1, number2, number3\n",
    "\n",
    "    \"\"\"\n",
    "    return number1 * number2 * number3\n",
    "\n",
    "\n",
    "instruction = \"\"\"\n",
    "solve the following problem\n",
    "\"\"\"\n",
    "\n",
    "context = \"\"\"\n",
    "    I have 730_000 trees, with average 123 apples per tree, each weigh 0.4 lbs. \n",
    "    20 percent are bad and sold for 0.1 dollar per lbs, 30 percent are sold to \n",
    "    brewery for 0.3 dollar per apple, what is my revenue?\n",
    "\"\"\""
   ]
  },
  {
   "cell_type": "code",
   "execution_count": 14,
   "metadata": {},
   "outputs": [],
   "source": [
    "branch = li.Branch(\"act like a calculator, invoke tool uses\", tools=[multiply])"
   ]
  },
  {
   "cell_type": "code",
   "execution_count": 15,
   "metadata": {},
   "outputs": [],
   "source": [
    "await branch.chat(instruction=instruction, context=context, tools=True);"
   ]
  },
  {
   "cell_type": "code",
   "execution_count": 16,
   "metadata": {},
   "outputs": [
    {
     "data": {
      "text/html": [
       "<div>\n",
       "<style scoped>\n",
       "    .dataframe tbody tr th:only-of-type {\n",
       "        vertical-align: middle;\n",
       "    }\n",
       "\n",
       "    .dataframe tbody tr th {\n",
       "        vertical-align: top;\n",
       "    }\n",
       "\n",
       "    .dataframe thead th {\n",
       "        text-align: right;\n",
       "    }\n",
       "</style>\n",
       "<table border=\"1\" class=\"dataframe\">\n",
       "  <thead>\n",
       "    <tr style=\"text-align: right;\">\n",
       "      <th></th>\n",
       "      <th>ln_id</th>\n",
       "      <th>message_type</th>\n",
       "      <th>timestamp</th>\n",
       "      <th>role</th>\n",
       "      <th>content</th>\n",
       "      <th>metadata</th>\n",
       "      <th>sender</th>\n",
       "      <th>recipient</th>\n",
       "    </tr>\n",
       "  </thead>\n",
       "  <tbody>\n",
       "    <tr>\n",
       "      <th>0</th>\n",
       "      <td>d99288d0c41a0a538310d065e7bea3d6</td>\n",
       "      <td>System</td>\n",
       "      <td>2024-05-14T02:06:35.645019</td>\n",
       "      <td>system</td>\n",
       "      <td>{'system_info': 'act like a calculator, invoke...</td>\n",
       "      <td>{'last_updated': {'recipient': '2024-05-14T02:...</td>\n",
       "      <td>system</td>\n",
       "      <td>32577b8296a107711d936d36b7d528bd</td>\n",
       "    </tr>\n",
       "    <tr>\n",
       "      <th>1</th>\n",
       "      <td>3f6b5a861bd4e3c7549f9e961904aa35</td>\n",
       "      <td>Instruction</td>\n",
       "      <td>2024-05-14T02:06:35.648015</td>\n",
       "      <td>user</td>\n",
       "      <td>{'instruction': '\n",
       "solve the following problem\n",
       "...</td>\n",
       "      <td>{'last_updated': {'sender': '2024-05-14T02:06:...</td>\n",
       "      <td>user</td>\n",
       "      <td>32577b8296a107711d936d36b7d528bd</td>\n",
       "    </tr>\n",
       "    <tr>\n",
       "      <th>2</th>\n",
       "      <td>94cab808f2425f27854120880f106aae</td>\n",
       "      <td>AssistantResponse</td>\n",
       "      <td>2024-05-14T02:06:36.888384</td>\n",
       "      <td>assistant</td>\n",
       "      <td>{'assistant_response': None}</td>\n",
       "      <td>{'last_updated': {'sender': '2024-05-14T02:06:...</td>\n",
       "      <td>32577b8296a107711d936d36b7d528bd</td>\n",
       "      <td>user</td>\n",
       "    </tr>\n",
       "    <tr>\n",
       "      <th>3</th>\n",
       "      <td>e5578959bf007d6743bd01f30aefd94a</td>\n",
       "      <td>ActionRequest</td>\n",
       "      <td>2024-05-14T02:06:36.888564</td>\n",
       "      <td>assistant</td>\n",
       "      <td>{'action_request': {'function': 'multiply', 'a...</td>\n",
       "      <td>{'last_updated': {'function': '2024-05-14T02:0...</td>\n",
       "      <td>32577b8296a107711d936d36b7d528bd</td>\n",
       "      <td>046b25cb4971159f8dc38f8b75653ba7</td>\n",
       "    </tr>\n",
       "    <tr>\n",
       "      <th>4</th>\n",
       "      <td>97505dd4182af26376ca166436ffd8ef</td>\n",
       "      <td>ActionRequest</td>\n",
       "      <td>2024-05-14T02:06:36.888655</td>\n",
       "      <td>assistant</td>\n",
       "      <td>{'action_request': {'function': 'multiply', 'a...</td>\n",
       "      <td>{'last_updated': {'function': '2024-05-14T02:0...</td>\n",
       "      <td>32577b8296a107711d936d36b7d528bd</td>\n",
       "      <td>046b25cb4971159f8dc38f8b75653ba7</td>\n",
       "    </tr>\n",
       "    <tr>\n",
       "      <th>5</th>\n",
       "      <td>8effc79dfec8c6fc5618c222c48d87e9</td>\n",
       "      <td>ActionRequest</td>\n",
       "      <td>2024-05-14T02:06:36.888714</td>\n",
       "      <td>assistant</td>\n",
       "      <td>{'action_request': {'function': 'multiply', 'a...</td>\n",
       "      <td>{'last_updated': {'function': '2024-05-14T02:0...</td>\n",
       "      <td>32577b8296a107711d936d36b7d528bd</td>\n",
       "      <td>046b25cb4971159f8dc38f8b75653ba7</td>\n",
       "    </tr>\n",
       "    <tr>\n",
       "      <th>6</th>\n",
       "      <td>173904ca9d3ccc360f5badcfa066b389</td>\n",
       "      <td>ActionResponse</td>\n",
       "      <td>2024-05-14T02:06:36.889075</td>\n",
       "      <td>assistant</td>\n",
       "      <td>{'action_response': {'function': 'multiply', '...</td>\n",
       "      <td>{'last_updated': {'function': '2024-05-14T02:0...</td>\n",
       "      <td>046b25cb4971159f8dc38f8b75653ba7</td>\n",
       "      <td>32577b8296a107711d936d36b7d528bd</td>\n",
       "    </tr>\n",
       "    <tr>\n",
       "      <th>7</th>\n",
       "      <td>8325d6ee42448e2c8285be7e8b86c571</td>\n",
       "      <td>ActionResponse</td>\n",
       "      <td>2024-05-14T02:06:36.889215</td>\n",
       "      <td>assistant</td>\n",
       "      <td>{'action_response': {'function': 'multiply', '...</td>\n",
       "      <td>{'last_updated': {'function': '2024-05-14T02:0...</td>\n",
       "      <td>046b25cb4971159f8dc38f8b75653ba7</td>\n",
       "      <td>32577b8296a107711d936d36b7d528bd</td>\n",
       "    </tr>\n",
       "    <tr>\n",
       "      <th>8</th>\n",
       "      <td>f75b37dac43e6d19277965c625a15bf4</td>\n",
       "      <td>ActionResponse</td>\n",
       "      <td>2024-05-14T02:06:36.889313</td>\n",
       "      <td>assistant</td>\n",
       "      <td>{'action_response': {'function': 'multiply', '...</td>\n",
       "      <td>{'last_updated': {'function': '2024-05-14T02:0...</td>\n",
       "      <td>046b25cb4971159f8dc38f8b75653ba7</td>\n",
       "      <td>32577b8296a107711d936d36b7d528bd</td>\n",
       "    </tr>\n",
       "  </tbody>\n",
       "</table>\n",
       "</div>"
      ],
      "text/plain": [
       "                              ln_id       message_type  \\\n",
       "0  d99288d0c41a0a538310d065e7bea3d6             System   \n",
       "1  3f6b5a861bd4e3c7549f9e961904aa35        Instruction   \n",
       "2  94cab808f2425f27854120880f106aae  AssistantResponse   \n",
       "3  e5578959bf007d6743bd01f30aefd94a      ActionRequest   \n",
       "4  97505dd4182af26376ca166436ffd8ef      ActionRequest   \n",
       "5  8effc79dfec8c6fc5618c222c48d87e9      ActionRequest   \n",
       "6  173904ca9d3ccc360f5badcfa066b389     ActionResponse   \n",
       "7  8325d6ee42448e2c8285be7e8b86c571     ActionResponse   \n",
       "8  f75b37dac43e6d19277965c625a15bf4     ActionResponse   \n",
       "\n",
       "                    timestamp       role  \\\n",
       "0  2024-05-14T02:06:35.645019     system   \n",
       "1  2024-05-14T02:06:35.648015       user   \n",
       "2  2024-05-14T02:06:36.888384  assistant   \n",
       "3  2024-05-14T02:06:36.888564  assistant   \n",
       "4  2024-05-14T02:06:36.888655  assistant   \n",
       "5  2024-05-14T02:06:36.888714  assistant   \n",
       "6  2024-05-14T02:06:36.889075  assistant   \n",
       "7  2024-05-14T02:06:36.889215  assistant   \n",
       "8  2024-05-14T02:06:36.889313  assistant   \n",
       "\n",
       "                                             content  \\\n",
       "0  {'system_info': 'act like a calculator, invoke...   \n",
       "1  {'instruction': '\n",
       "solve the following problem\n",
       "...   \n",
       "2                       {'assistant_response': None}   \n",
       "3  {'action_request': {'function': 'multiply', 'a...   \n",
       "4  {'action_request': {'function': 'multiply', 'a...   \n",
       "5  {'action_request': {'function': 'multiply', 'a...   \n",
       "6  {'action_response': {'function': 'multiply', '...   \n",
       "7  {'action_response': {'function': 'multiply', '...   \n",
       "8  {'action_response': {'function': 'multiply', '...   \n",
       "\n",
       "                                            metadata  \\\n",
       "0  {'last_updated': {'recipient': '2024-05-14T02:...   \n",
       "1  {'last_updated': {'sender': '2024-05-14T02:06:...   \n",
       "2  {'last_updated': {'sender': '2024-05-14T02:06:...   \n",
       "3  {'last_updated': {'function': '2024-05-14T02:0...   \n",
       "4  {'last_updated': {'function': '2024-05-14T02:0...   \n",
       "5  {'last_updated': {'function': '2024-05-14T02:0...   \n",
       "6  {'last_updated': {'function': '2024-05-14T02:0...   \n",
       "7  {'last_updated': {'function': '2024-05-14T02:0...   \n",
       "8  {'last_updated': {'function': '2024-05-14T02:0...   \n",
       "\n",
       "                             sender                         recipient  \n",
       "0                            system  32577b8296a107711d936d36b7d528bd  \n",
       "1                              user  32577b8296a107711d936d36b7d528bd  \n",
       "2  32577b8296a107711d936d36b7d528bd                              user  \n",
       "3  32577b8296a107711d936d36b7d528bd  046b25cb4971159f8dc38f8b75653ba7  \n",
       "4  32577b8296a107711d936d36b7d528bd  046b25cb4971159f8dc38f8b75653ba7  \n",
       "5  32577b8296a107711d936d36b7d528bd  046b25cb4971159f8dc38f8b75653ba7  \n",
       "6  046b25cb4971159f8dc38f8b75653ba7  32577b8296a107711d936d36b7d528bd  \n",
       "7  046b25cb4971159f8dc38f8b75653ba7  32577b8296a107711d936d36b7d528bd  \n",
       "8  046b25cb4971159f8dc38f8b75653ba7  32577b8296a107711d936d36b7d528bd  "
      ]
     },
     "execution_count": 16,
     "metadata": {},
     "output_type": "execute_result"
    }
   ],
   "source": [
    "branch.to_df()"
   ]
  },
  {
   "cell_type": "code",
   "execution_count": 17,
   "metadata": {},
   "outputs": [
    {
     "data": {
      "text/plain": [
       "{'last_updated': {'sender': '2024-05-14T02:06:36.888449',\n",
       "  'recipient': '2024-05-14T02:06:36.888462'},\n",
       " 'extra': {'id': 'chatcmpl-9Obqlb4oxsetRmd4zQcIOKY7dQiRj',\n",
       "  'object': 'chat.completion',\n",
       "  'created': 1715652395,\n",
       "  'model': 'gpt-4o-2024-05-13',\n",
       "  'usage': {'prompt_tokens': 167,\n",
       "   'completion_tokens': 97,\n",
       "   'total_tokens': 264},\n",
       "  'system_fingerprint': 'fp_729ea513f7',\n",
       "  'index': 0,\n",
       "  'logprobs': None,\n",
       "  'finish_reason': 'tool_calls'}}"
      ]
     },
     "execution_count": 17,
     "metadata": {},
     "output_type": "execute_result"
    }
   ],
   "source": [
    "branch.messages[2].metadata"
   ]
  }
 ],
 "metadata": {
  "kernelspec": {
   "display_name": ".venv",
   "language": "python",
   "name": "python3"
  },
  "language_info": {
   "codemirror_mode": {
    "name": "ipython",
    "version": 3
   },
   "file_extension": ".py",
   "mimetype": "text/x-python",
   "name": "python",
   "nbconvert_exporter": "python",
   "pygments_lexer": "ipython3",
   "version": "3.11.6"
  }
 },
 "nbformat": 4,
 "nbformat_minor": 2
}
