{
 "cells": [
  {
   "cell_type": "code",
   "execution_count": 1,
   "metadata": {},
   "outputs": [],
   "source": [
    "import lionagi as li"
   ]
  },
  {
   "cell_type": "code",
   "execution_count": 2,
   "metadata": {},
   "outputs": [],
   "source": [
    "a = li.Branch()"
   ]
  },
  {
   "cell_type": "code",
   "execution_count": 3,
   "metadata": {},
   "outputs": [
    {
     "data": {
      "text/plain": [
       "'Lost kitten found. Family reunion under the autumn golden leaves.'"
      ]
     },
     "execution_count": 3,
     "metadata": {},
     "output_type": "execute_result"
    }
   ],
   "source": [
    "a = li.Branch()\n",
    "\n",
    "await a.chat(\"tell me a 10 word story\")"
   ]
  },
  {
   "cell_type": "code",
   "execution_count": null,
   "metadata": {},
   "outputs": [],
   "source": []
  },
  {
   "cell_type": "code",
   "execution_count": 4,
   "metadata": {},
   "outputs": [],
   "source": [
    "b = [\n",
    "    {\n",
    "        \"index\": 0,\n",
    "        \"message\": {\n",
    "            \"role\": \"assistant\",\n",
    "            \"content\": \"Lost dog returned home, bringing another new friend along. Joy!\",\n",
    "        },\n",
    "        \"logprobs\": None,\n",
    "        \"finish_reason\": \"stop\",\n",
    "    }\n",
    "]"
   ]
  },
  {
   "cell_type": "code",
   "execution_count": 5,
   "metadata": {},
   "outputs": [
    {
     "data": {
      "text/plain": [
       "{'index': 0,\n",
       " 'message': {'role': 'assistant',\n",
       "  'content': 'Lost dog returned home, bringing another new friend along. Joy!'},\n",
       " 'logprobs': None,\n",
       " 'finish_reason': 'stop'}"
      ]
     },
     "execution_count": 5,
     "metadata": {},
     "output_type": "execute_result"
    }
   ],
   "source": [
    "b[0]"
   ]
  },
  {
   "cell_type": "code",
   "execution_count": 6,
   "metadata": {},
   "outputs": [
    {
     "data": {
      "text/html": [
       "<div>\n",
       "<style scoped>\n",
       "    .dataframe tbody tr th:only-of-type {\n",
       "        vertical-align: middle;\n",
       "    }\n",
       "\n",
       "    .dataframe tbody tr th {\n",
       "        vertical-align: top;\n",
       "    }\n",
       "\n",
       "    .dataframe thead th {\n",
       "        text-align: right;\n",
       "    }\n",
       "</style>\n",
       "<table border=\"1\" class=\"dataframe\">\n",
       "  <thead>\n",
       "    <tr style=\"text-align: right;\">\n",
       "      <th></th>\n",
       "      <th>sender</th>\n",
       "      <th>recipient</th>\n",
       "      <th>ln_id</th>\n",
       "      <th>created</th>\n",
       "      <th>metadata</th>\n",
       "      <th>content</th>\n",
       "      <th>relations</th>\n",
       "      <th>role</th>\n",
       "    </tr>\n",
       "  </thead>\n",
       "  <tbody>\n",
       "    <tr>\n",
       "      <th>0</th>\n",
       "      <td>system</td>\n",
       "      <td>05a707ce5dfda25313a04a99be8ace98</td>\n",
       "      <td>be508ee5fbd2e5cb8c5aca336aaaab8b</td>\n",
       "      <td>2024-05-11T18:18:22.729858</td>\n",
       "      <td>{'last_updated': {'recipient': '2024-05-11T18:...</td>\n",
       "      <td>{'system_info': 'You are a helpful assistant, ...</td>\n",
       "      <td>{'in': {'ln_id': 'ad62e53a6200576f87a3ae86c2dd...</td>\n",
       "      <td>system</td>\n",
       "    </tr>\n",
       "    <tr>\n",
       "      <th>1</th>\n",
       "      <td>user</td>\n",
       "      <td>05a707ce5dfda25313a04a99be8ace98</td>\n",
       "      <td>2931dd27b32b9fd608af25406b65fb40</td>\n",
       "      <td>2024-05-11T18:18:22.729972</td>\n",
       "      <td>{'last_updated': {'sender': '2024-05-11T18:18:...</td>\n",
       "      <td>{'instruction': 'tell me a 10 word story'}</td>\n",
       "      <td>{'in': {'ln_id': 'c7afcd4613de16fec4e53ef1a999...</td>\n",
       "      <td>user</td>\n",
       "    </tr>\n",
       "    <tr>\n",
       "      <th>2</th>\n",
       "      <td>05a707ce5dfda25313a04a99be8ace98</td>\n",
       "      <td>user</td>\n",
       "      <td>53da8586b8f72c0b9bd543c625270283</td>\n",
       "      <td>2024-05-11T18:18:24.016669</td>\n",
       "      <td>{'last_updated': {'sender': '2024-05-11T18:18:...</td>\n",
       "      <td>{'assistant_response': 'Lost kitten found. Fam...</td>\n",
       "      <td>{'in': {'ln_id': 'd33ea74c979c8125239b52a7d200...</td>\n",
       "      <td>assistant</td>\n",
       "    </tr>\n",
       "  </tbody>\n",
       "</table>\n",
       "</div>"
      ],
      "text/plain": [
       "                             sender                         recipient  \\\n",
       "0                            system  05a707ce5dfda25313a04a99be8ace98   \n",
       "1                              user  05a707ce5dfda25313a04a99be8ace98   \n",
       "2  05a707ce5dfda25313a04a99be8ace98                              user   \n",
       "\n",
       "                              ln_id                     created  \\\n",
       "0  be508ee5fbd2e5cb8c5aca336aaaab8b  2024-05-11T18:18:22.729858   \n",
       "1  2931dd27b32b9fd608af25406b65fb40  2024-05-11T18:18:22.729972   \n",
       "2  53da8586b8f72c0b9bd543c625270283  2024-05-11T18:18:24.016669   \n",
       "\n",
       "                                            metadata  \\\n",
       "0  {'last_updated': {'recipient': '2024-05-11T18:...   \n",
       "1  {'last_updated': {'sender': '2024-05-11T18:18:...   \n",
       "2  {'last_updated': {'sender': '2024-05-11T18:18:...   \n",
       "\n",
       "                                             content  \\\n",
       "0  {'system_info': 'You are a helpful assistant, ...   \n",
       "1         {'instruction': 'tell me a 10 word story'}   \n",
       "2  {'assistant_response': 'Lost kitten found. Fam...   \n",
       "\n",
       "                                           relations       role  \n",
       "0  {'in': {'ln_id': 'ad62e53a6200576f87a3ae86c2dd...     system  \n",
       "1  {'in': {'ln_id': 'c7afcd4613de16fec4e53ef1a999...       user  \n",
       "2  {'in': {'ln_id': 'd33ea74c979c8125239b52a7d200...  assistant  "
      ]
     },
     "execution_count": 6,
     "metadata": {},
     "output_type": "execute_result"
    }
   ],
   "source": [
    "a.messages.to_df()"
   ]
  },
  {
   "cell_type": "code",
   "execution_count": 7,
   "metadata": {},
   "outputs": [
    {
     "data": {
      "text/plain": [
       "{'last_updated': {'sender': '2024-05-11T18:18:22.730003',\n",
       "  'recipient': '2024-05-11T18:18:22.730009'},\n",
       " 'extra': {'model': 'gpt-4-turbo',\n",
       "  'frequency_penalty': 0,\n",
       "  'n': 1,\n",
       "  'presence_penalty': 0,\n",
       "  'response_format': {'type': 'text'},\n",
       "  'temperature': 0.7,\n",
       "  'top_p': 1}}"
      ]
     },
     "execution_count": 7,
     "metadata": {},
     "output_type": "execute_result"
    }
   ],
   "source": [
    "a.messages[1].metadata"
   ]
  },
  {
   "cell_type": "code",
   "execution_count": 8,
   "metadata": {},
   "outputs": [
    {
     "data": {
      "text/html": [
       "<div>\n",
       "<style scoped>\n",
       "    .dataframe tbody tr th:only-of-type {\n",
       "        vertical-align: middle;\n",
       "    }\n",
       "\n",
       "    .dataframe tbody tr th {\n",
       "        vertical-align: top;\n",
       "    }\n",
       "\n",
       "    .dataframe thead th {\n",
       "        text-align: right;\n",
       "    }\n",
       "</style>\n",
       "<table border=\"1\" class=\"dataframe\">\n",
       "  <thead>\n",
       "    <tr style=\"text-align: right;\">\n",
       "      <th></th>\n",
       "      <th>sender</th>\n",
       "      <th>recipient</th>\n",
       "      <th>ln_id</th>\n",
       "      <th>created</th>\n",
       "      <th>metadata</th>\n",
       "      <th>content</th>\n",
       "      <th>relations</th>\n",
       "      <th>role</th>\n",
       "    </tr>\n",
       "  </thead>\n",
       "  <tbody>\n",
       "    <tr>\n",
       "      <th>0</th>\n",
       "      <td>system</td>\n",
       "      <td>05a707ce5dfda25313a04a99be8ace98</td>\n",
       "      <td>be508ee5fbd2e5cb8c5aca336aaaab8b</td>\n",
       "      <td>2024-05-11T18:18:22.729858</td>\n",
       "      <td>{'last_updated': {'recipient': '2024-05-11T18:...</td>\n",
       "      <td>{'system_info': 'You are a helpful assistant, ...</td>\n",
       "      <td>{'in': {'ln_id': 'ad62e53a6200576f87a3ae86c2dd...</td>\n",
       "      <td>system</td>\n",
       "    </tr>\n",
       "    <tr>\n",
       "      <th>1</th>\n",
       "      <td>user</td>\n",
       "      <td>05a707ce5dfda25313a04a99be8ace98</td>\n",
       "      <td>2931dd27b32b9fd608af25406b65fb40</td>\n",
       "      <td>2024-05-11T18:18:22.729972</td>\n",
       "      <td>{'last_updated': {'sender': '2024-05-11T18:18:...</td>\n",
       "      <td>{'instruction': 'tell me a 10 word story'}</td>\n",
       "      <td>{'in': {'ln_id': 'c7afcd4613de16fec4e53ef1a999...</td>\n",
       "      <td>user</td>\n",
       "    </tr>\n",
       "    <tr>\n",
       "      <th>2</th>\n",
       "      <td>05a707ce5dfda25313a04a99be8ace98</td>\n",
       "      <td>user</td>\n",
       "      <td>53da8586b8f72c0b9bd543c625270283</td>\n",
       "      <td>2024-05-11T18:18:24.016669</td>\n",
       "      <td>{'last_updated': {'sender': '2024-05-11T18:18:...</td>\n",
       "      <td>{'assistant_response': 'Lost kitten found. Fam...</td>\n",
       "      <td>{'in': {'ln_id': 'd33ea74c979c8125239b52a7d200...</td>\n",
       "      <td>assistant</td>\n",
       "    </tr>\n",
       "  </tbody>\n",
       "</table>\n",
       "</div>"
      ],
      "text/plain": [
       "                             sender                         recipient  \\\n",
       "0                            system  05a707ce5dfda25313a04a99be8ace98   \n",
       "1                              user  05a707ce5dfda25313a04a99be8ace98   \n",
       "2  05a707ce5dfda25313a04a99be8ace98                              user   \n",
       "\n",
       "                              ln_id                     created  \\\n",
       "0  be508ee5fbd2e5cb8c5aca336aaaab8b  2024-05-11T18:18:22.729858   \n",
       "1  2931dd27b32b9fd608af25406b65fb40  2024-05-11T18:18:22.729972   \n",
       "2  53da8586b8f72c0b9bd543c625270283  2024-05-11T18:18:24.016669   \n",
       "\n",
       "                                            metadata  \\\n",
       "0  {'last_updated': {'recipient': '2024-05-11T18:...   \n",
       "1  {'last_updated': {'sender': '2024-05-11T18:18:...   \n",
       "2  {'last_updated': {'sender': '2024-05-11T18:18:...   \n",
       "\n",
       "                                             content  \\\n",
       "0  {'system_info': 'You are a helpful assistant, ...   \n",
       "1         {'instruction': 'tell me a 10 word story'}   \n",
       "2  {'assistant_response': 'Lost kitten found. Fam...   \n",
       "\n",
       "                                           relations       role  \n",
       "0  {'in': {'ln_id': 'ad62e53a6200576f87a3ae86c2dd...     system  \n",
       "1  {'in': {'ln_id': 'c7afcd4613de16fec4e53ef1a999...       user  \n",
       "2  {'in': {'ln_id': 'd33ea74c979c8125239b52a7d200...  assistant  "
      ]
     },
     "execution_count": 8,
     "metadata": {},
     "output_type": "execute_result"
    }
   ],
   "source": [
    "a.messages.to_df()"
   ]
  },
  {
   "cell_type": "code",
   "execution_count": 9,
   "metadata": {},
   "outputs": [
    {
     "data": {
      "text/plain": [
       "{'last_updated': {'sender': '2024-05-11T18:18:24.016768',\n",
       "  'recipient': '2024-05-11T18:18:24.016779'},\n",
       " 'extra': {'id': 'chatcmpl-9NlaZ0JrleyYxfVkopYG51EL8TCp6',\n",
       "  'object': 'chat.completion',\n",
       "  'created': 1715451503,\n",
       "  'model': 'gpt-4-turbo-2024-04-09',\n",
       "  'usage': {'prompt_tokens': 41, 'completion_tokens': 12, 'total_tokens': 53},\n",
       "  'system_fingerprint': 'fp_294de9593d',\n",
       "  'index': 0,\n",
       "  'logprobs': None,\n",
       "  'finish_reason': 'stop'}}"
      ]
     },
     "execution_count": 9,
     "metadata": {},
     "output_type": "execute_result"
    }
   ],
   "source": [
    "a.messages[2].metadata"
   ]
  },
  {
   "cell_type": "code",
   "execution_count": 10,
   "metadata": {},
   "outputs": [],
   "source": [
    "a._meta_insert([\"extra\"], 1)"
   ]
  },
  {
   "cell_type": "code",
   "execution_count": 11,
   "metadata": {},
   "outputs": [
    {
     "data": {
      "text/plain": [
       "{'last_updated': {'system': '2024-05-11T18:18:22.729723',\n",
       "  'user': '2024-05-11T18:18:22.729733',\n",
       "  'messages': '2024-05-11T18:18:22.729756',\n",
       "  'progre': '2024-05-11T18:18:22.729772',\n",
       "  'tool_manager': '2024-05-11T18:18:22.729778',\n",
       "  'mailbox': '2024-05-11T18:18:22.729809',\n",
       "  'model': '2024-05-11T18:18:22.729835'},\n",
       " 'extra': 1}"
      ]
     },
     "execution_count": 11,
     "metadata": {},
     "output_type": "execute_result"
    }
   ],
   "source": [
    "a.metadata"
   ]
  },
  {
   "cell_type": "code",
   "execution_count": 1,
   "metadata": {},
   "outputs": [],
   "source": [
    "import lionagi as li"
   ]
  },
  {
   "cell_type": "code",
   "execution_count": 2,
   "metadata": {},
   "outputs": [],
   "source": [
    "async def multiply(number1: float, number2: float, number3: float = 1):\n",
    "    \"\"\"\n",
    "    multiply three numbers.\n",
    "\n",
    "    Args:\n",
    "        number1: First number to multiply.\n",
    "        number2: Second number to multiply.\n",
    "        number3: third number to multiply\n",
    "\n",
    "    Returns:\n",
    "        The product of number1, number2, number3\n",
    "\n",
    "    \"\"\"\n",
    "    return number1 * number2 * number3\n",
    "\n",
    "\n",
    "instruction = \"\"\"\n",
    "solve the following problem\n",
    "\"\"\"\n",
    "\n",
    "context = \"\"\"\n",
    "    I have 730_000 trees, with average 123 apples per tree, each weigh 0.4 lbs. \n",
    "    20 percent are bad and sold for 0.1 dollar per lbs, 30 percent are sold to \n",
    "    brewery for 0.3 dollar per apple, what is my revenue?\n",
    "\"\"\""
   ]
  },
  {
   "cell_type": "code",
   "execution_count": 3,
   "metadata": {},
   "outputs": [],
   "source": [
    "branch = li.Branch(\"act like a calculator, invoke tool uses\", tools=[multiply])"
   ]
  },
  {
   "cell_type": "code",
   "execution_count": 4,
   "metadata": {},
   "outputs": [
    {
     "name": "stdout",
     "output_type": "stream",
     "text": [
      "66c98cdd6428583c0f3b1637a740e470\n",
      "ef7948d3a6aa7d96d552c7883fa17ddd\n",
      "66c98cdd6428583c0f3b1637a740e470\n",
      "ef7948d3a6aa7d96d552c7883fa17ddd\n"
     ]
    }
   ],
   "source": [
    "await branch.chat(instruction=instruction, context=context, tools=True)"
   ]
  },
  {
   "cell_type": "code",
   "execution_count": 5,
   "metadata": {},
   "outputs": [
    {
     "data": {
      "text/html": [
       "<div>\n",
       "<style scoped>\n",
       "    .dataframe tbody tr th:only-of-type {\n",
       "        vertical-align: middle;\n",
       "    }\n",
       "\n",
       "    .dataframe tbody tr th {\n",
       "        vertical-align: top;\n",
       "    }\n",
       "\n",
       "    .dataframe thead th {\n",
       "        text-align: right;\n",
       "    }\n",
       "</style>\n",
       "<table border=\"1\" class=\"dataframe\">\n",
       "  <thead>\n",
       "    <tr style=\"text-align: right;\">\n",
       "      <th></th>\n",
       "      <th>ln_id</th>\n",
       "      <th>message_type</th>\n",
       "      <th>timestamp</th>\n",
       "      <th>role</th>\n",
       "      <th>content</th>\n",
       "      <th>metadata</th>\n",
       "      <th>sender</th>\n",
       "      <th>recipient</th>\n",
       "    </tr>\n",
       "  </thead>\n",
       "  <tbody>\n",
       "    <tr>\n",
       "      <th>0</th>\n",
       "      <td>4f64fc1cb6a5df24470122907257f326</td>\n",
       "      <td>System</td>\n",
       "      <td>2024-05-11T20:02:12.876875</td>\n",
       "      <td>system</td>\n",
       "      <td>{'system_info': 'act like a calculator, invoke...</td>\n",
       "      <td>{'last_updated': {'recipient': '2024-05-11T20:...</td>\n",
       "      <td>system</td>\n",
       "      <td>ef7948d3a6aa7d96d552c7883fa17ddd</td>\n",
       "    </tr>\n",
       "    <tr>\n",
       "      <th>1</th>\n",
       "      <td>fdc57cb68bef9d498374c0b91a6db6a1</td>\n",
       "      <td>Instruction</td>\n",
       "      <td>2024-05-11T20:02:12.880740</td>\n",
       "      <td>user</td>\n",
       "      <td>{'instruction': '\n",
       "solve the following problem\n",
       "...</td>\n",
       "      <td>{'last_updated': {'sender': '2024-05-11T20:02:...</td>\n",
       "      <td>user</td>\n",
       "      <td>ef7948d3a6aa7d96d552c7883fa17ddd</td>\n",
       "    </tr>\n",
       "    <tr>\n",
       "      <th>2</th>\n",
       "      <td>5d1010428807e3a8483058a4c4a3cd13</td>\n",
       "      <td>AssistantResponse</td>\n",
       "      <td>2024-05-11T20:02:15.085368</td>\n",
       "      <td>assistant</td>\n",
       "      <td>{'assistant_response': None}</td>\n",
       "      <td>{'last_updated': {'sender': '2024-05-11T20:02:...</td>\n",
       "      <td>ef7948d3a6aa7d96d552c7883fa17ddd</td>\n",
       "      <td>user</td>\n",
       "    </tr>\n",
       "    <tr>\n",
       "      <th>3</th>\n",
       "      <td>eda4f50b714862cf3dc07dcaa843418f</td>\n",
       "      <td>ActionRequest</td>\n",
       "      <td>2024-05-11T20:02:15.085683</td>\n",
       "      <td>assistant</td>\n",
       "      <td>{'action_request': {'function': 'multiply', 'a...</td>\n",
       "      <td>{'last_updated': {'function': '2024-05-11T20:0...</td>\n",
       "      <td>ef7948d3a6aa7d96d552c7883fa17ddd</td>\n",
       "      <td>66c98cdd6428583c0f3b1637a740e470</td>\n",
       "    </tr>\n",
       "    <tr>\n",
       "      <th>4</th>\n",
       "      <td>850999bd01a33b673945356a3714c14f</td>\n",
       "      <td>ActionRequest</td>\n",
       "      <td>2024-05-11T20:02:15.085920</td>\n",
       "      <td>assistant</td>\n",
       "      <td>{'action_request': {'function': 'multiply', 'a...</td>\n",
       "      <td>{'last_updated': {'function': '2024-05-11T20:0...</td>\n",
       "      <td>ef7948d3a6aa7d96d552c7883fa17ddd</td>\n",
       "      <td>66c98cdd6428583c0f3b1637a740e470</td>\n",
       "    </tr>\n",
       "    <tr>\n",
       "      <th>5</th>\n",
       "      <td>d96bda605d5ab548ba726d07e8eb60fb</td>\n",
       "      <td>ActionResponse</td>\n",
       "      <td>2024-05-11T20:02:15.086348</td>\n",
       "      <td>assistant</td>\n",
       "      <td>{'action_response': {'function': 'multiply', '...</td>\n",
       "      <td>{'last_updated': {'function': '2024-05-11T20:0...</td>\n",
       "      <td>66c98cdd6428583c0f3b1637a740e470</td>\n",
       "      <td>ef7948d3a6aa7d96d552c7883fa17ddd</td>\n",
       "    </tr>\n",
       "    <tr>\n",
       "      <th>6</th>\n",
       "      <td>a5ec58793f49268e387a01596ced404e</td>\n",
       "      <td>ActionResponse</td>\n",
       "      <td>2024-05-11T20:02:15.086525</td>\n",
       "      <td>assistant</td>\n",
       "      <td>{'action_response': {'function': 'multiply', '...</td>\n",
       "      <td>{'last_updated': {'function': '2024-05-11T20:0...</td>\n",
       "      <td>66c98cdd6428583c0f3b1637a740e470</td>\n",
       "      <td>ef7948d3a6aa7d96d552c7883fa17ddd</td>\n",
       "    </tr>\n",
       "  </tbody>\n",
       "</table>\n",
       "</div>"
      ],
      "text/plain": [
       "                              ln_id       message_type  \\\n",
       "0  4f64fc1cb6a5df24470122907257f326             System   \n",
       "1  fdc57cb68bef9d498374c0b91a6db6a1        Instruction   \n",
       "2  5d1010428807e3a8483058a4c4a3cd13  AssistantResponse   \n",
       "3  eda4f50b714862cf3dc07dcaa843418f      ActionRequest   \n",
       "4  850999bd01a33b673945356a3714c14f      ActionRequest   \n",
       "5  d96bda605d5ab548ba726d07e8eb60fb     ActionResponse   \n",
       "6  a5ec58793f49268e387a01596ced404e     ActionResponse   \n",
       "\n",
       "                    timestamp       role  \\\n",
       "0  2024-05-11T20:02:12.876875     system   \n",
       "1  2024-05-11T20:02:12.880740       user   \n",
       "2  2024-05-11T20:02:15.085368  assistant   \n",
       "3  2024-05-11T20:02:15.085683  assistant   \n",
       "4  2024-05-11T20:02:15.085920  assistant   \n",
       "5  2024-05-11T20:02:15.086348  assistant   \n",
       "6  2024-05-11T20:02:15.086525  assistant   \n",
       "\n",
       "                                             content  \\\n",
       "0  {'system_info': 'act like a calculator, invoke...   \n",
       "1  {'instruction': '\n",
       "solve the following problem\n",
       "...   \n",
       "2                       {'assistant_response': None}   \n",
       "3  {'action_request': {'function': 'multiply', 'a...   \n",
       "4  {'action_request': {'function': 'multiply', 'a...   \n",
       "5  {'action_response': {'function': 'multiply', '...   \n",
       "6  {'action_response': {'function': 'multiply', '...   \n",
       "\n",
       "                                            metadata  \\\n",
       "0  {'last_updated': {'recipient': '2024-05-11T20:...   \n",
       "1  {'last_updated': {'sender': '2024-05-11T20:02:...   \n",
       "2  {'last_updated': {'sender': '2024-05-11T20:02:...   \n",
       "3  {'last_updated': {'function': '2024-05-11T20:0...   \n",
       "4  {'last_updated': {'function': '2024-05-11T20:0...   \n",
       "5  {'last_updated': {'function': '2024-05-11T20:0...   \n",
       "6  {'last_updated': {'function': '2024-05-11T20:0...   \n",
       "\n",
       "                             sender                         recipient  \n",
       "0                            system  ef7948d3a6aa7d96d552c7883fa17ddd  \n",
       "1                              user  ef7948d3a6aa7d96d552c7883fa17ddd  \n",
       "2  ef7948d3a6aa7d96d552c7883fa17ddd                              user  \n",
       "3  ef7948d3a6aa7d96d552c7883fa17ddd  66c98cdd6428583c0f3b1637a740e470  \n",
       "4  ef7948d3a6aa7d96d552c7883fa17ddd  66c98cdd6428583c0f3b1637a740e470  \n",
       "5  66c98cdd6428583c0f3b1637a740e470  ef7948d3a6aa7d96d552c7883fa17ddd  \n",
       "6  66c98cdd6428583c0f3b1637a740e470  ef7948d3a6aa7d96d552c7883fa17ddd  "
      ]
     },
     "execution_count": 5,
     "metadata": {},
     "output_type": "execute_result"
    }
   ],
   "source": [
    "branch.to_df()"
   ]
  },
  {
   "cell_type": "markdown",
   "metadata": {},
   "source": []
  }
 ],
 "metadata": {
  "kernelspec": {
   "display_name": ".venv",
   "language": "python",
   "name": "python3"
  },
  "language_info": {
   "codemirror_mode": {
    "name": "ipython",
    "version": 3
   },
   "file_extension": ".py",
   "mimetype": "text/x-python",
   "name": "python",
   "nbconvert_exporter": "python",
   "pygments_lexer": "ipython3",
   "version": "3.11.6"
  }
 },
 "nbformat": 4,
 "nbformat_minor": 2
}
