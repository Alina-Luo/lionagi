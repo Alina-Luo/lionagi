{
 "cells": [
  {
   "cell_type": "code",
   "execution_count": 1,
   "metadata": {},
   "outputs": [],
   "source": [
    "import lionagi as li"
   ]
  },
  {
   "cell_type": "code",
   "execution_count": 2,
   "metadata": {},
   "outputs": [],
   "source": [
    "a = li.Branch()"
   ]
  },
  {
   "cell_type": "code",
   "execution_count": 3,
   "metadata": {},
   "outputs": [
    {
     "data": {
      "text/plain": [
       "'Lost in the woods, she found hope in a glowing lantern.'"
      ]
     },
     "execution_count": 3,
     "metadata": {},
     "output_type": "execute_result"
    }
   ],
   "source": [
    "a = li.Branch()\n",
    "\n",
    "await a.chat(\"tell me a 10 word story\")"
   ]
  },
  {
   "cell_type": "code",
   "execution_count": null,
   "metadata": {},
   "outputs": [],
   "source": []
  },
  {
   "cell_type": "code",
   "execution_count": 4,
   "metadata": {},
   "outputs": [],
   "source": [
    "b = [\n",
    "    {\n",
    "        \"index\": 0,\n",
    "        \"message\": {\n",
    "            \"role\": \"assistant\",\n",
    "            \"content\": \"Lost dog returned home, bringing another new friend along. Joy!\",\n",
    "        },\n",
    "        \"logprobs\": None,\n",
    "        \"finish_reason\": \"stop\",\n",
    "    }\n",
    "]"
   ]
  },
  {
   "cell_type": "code",
   "execution_count": 5,
   "metadata": {},
   "outputs": [
    {
     "data": {
      "text/plain": [
       "{'index': 0,\n",
       " 'message': {'role': 'assistant',\n",
       "  'content': 'Lost dog returned home, bringing another new friend along. Joy!'},\n",
       " 'logprobs': None,\n",
       " 'finish_reason': 'stop'}"
      ]
     },
     "execution_count": 5,
     "metadata": {},
     "output_type": "execute_result"
    }
   ],
   "source": [
    "b[0]"
   ]
  },
  {
   "cell_type": "code",
   "execution_count": 6,
   "metadata": {},
   "outputs": [
    {
     "data": {
      "text/html": [
       "<div>\n",
       "<style scoped>\n",
       "    .dataframe tbody tr th:only-of-type {\n",
       "        vertical-align: middle;\n",
       "    }\n",
       "\n",
       "    .dataframe tbody tr th {\n",
       "        vertical-align: top;\n",
       "    }\n",
       "\n",
       "    .dataframe thead th {\n",
       "        text-align: right;\n",
       "    }\n",
       "</style>\n",
       "<table border=\"1\" class=\"dataframe\">\n",
       "  <thead>\n",
       "    <tr style=\"text-align: right;\">\n",
       "      <th></th>\n",
       "      <th>sender</th>\n",
       "      <th>recipient</th>\n",
       "      <th>ln_id</th>\n",
       "      <th>created</th>\n",
       "      <th>metadata</th>\n",
       "      <th>content</th>\n",
       "      <th>embedding</th>\n",
       "      <th>relations</th>\n",
       "      <th>role</th>\n",
       "      <th>system</th>\n",
       "      <th>lion_class</th>\n",
       "    </tr>\n",
       "  </thead>\n",
       "  <tbody>\n",
       "    <tr>\n",
       "      <th>0</th>\n",
       "      <td>system</td>\n",
       "      <td>30334e8ea082a211391781ece6af6d78</td>\n",
       "      <td>0a5cc49d5ee87fd0f32e36894fe10ef6</td>\n",
       "      <td>2024-05-28T21:50:38.359035</td>\n",
       "      <td>{'last_updated': {'recipient': '2024-05-28T21:...</td>\n",
       "      <td>{'system_info': 'You are a helpful assistant.'}</td>\n",
       "      <td>[]</td>\n",
       "      <td>{'in': {'ln_id': '28d4b9326676be37a6b8841ae63b...</td>\n",
       "      <td>system</td>\n",
       "      <td>You are a helpful assistant.</td>\n",
       "      <td>System</td>\n",
       "    </tr>\n",
       "    <tr>\n",
       "      <th>1</th>\n",
       "      <td>user</td>\n",
       "      <td>30334e8ea082a211391781ece6af6d78</td>\n",
       "      <td>767278c6504c72692a461f3b3761ee4e</td>\n",
       "      <td>2024-05-28T21:50:38.359647</td>\n",
       "      <td>{'last_updated': {'sender': '2024-05-28T21:50:...</td>\n",
       "      <td>{'instruction': 'tell me a 10 word story'}</td>\n",
       "      <td>[]</td>\n",
       "      <td>{'in': {'ln_id': 'bb1089c628a117bff4f10200e138...</td>\n",
       "      <td>user</td>\n",
       "      <td>NaN</td>\n",
       "      <td>Instruction</td>\n",
       "    </tr>\n",
       "    <tr>\n",
       "      <th>2</th>\n",
       "      <td>30334e8ea082a211391781ece6af6d78</td>\n",
       "      <td>user</td>\n",
       "      <td>70ae721e6d1dbab9974e3a3344dac309</td>\n",
       "      <td>2024-05-28T21:50:39.517121</td>\n",
       "      <td>{'last_updated': {'sender': '2024-05-28T21:50:...</td>\n",
       "      <td>{'assistant_response': 'Lost in the woods, she...</td>\n",
       "      <td>[]</td>\n",
       "      <td>{'in': {'ln_id': 'c62b5133c68e708fd2273b15cabc...</td>\n",
       "      <td>assistant</td>\n",
       "      <td>NaN</td>\n",
       "      <td>AssistantResponse</td>\n",
       "    </tr>\n",
       "  </tbody>\n",
       "</table>\n",
       "</div>"
      ],
      "text/plain": [
       "                             sender                         recipient  \\\n",
       "0                            system  30334e8ea082a211391781ece6af6d78   \n",
       "1                              user  30334e8ea082a211391781ece6af6d78   \n",
       "2  30334e8ea082a211391781ece6af6d78                              user   \n",
       "\n",
       "                              ln_id                     created  \\\n",
       "0  0a5cc49d5ee87fd0f32e36894fe10ef6  2024-05-28T21:50:38.359035   \n",
       "1  767278c6504c72692a461f3b3761ee4e  2024-05-28T21:50:38.359647   \n",
       "2  70ae721e6d1dbab9974e3a3344dac309  2024-05-28T21:50:39.517121   \n",
       "\n",
       "                                            metadata  \\\n",
       "0  {'last_updated': {'recipient': '2024-05-28T21:...   \n",
       "1  {'last_updated': {'sender': '2024-05-28T21:50:...   \n",
       "2  {'last_updated': {'sender': '2024-05-28T21:50:...   \n",
       "\n",
       "                                             content embedding  \\\n",
       "0    {'system_info': 'You are a helpful assistant.'}        []   \n",
       "1         {'instruction': 'tell me a 10 word story'}        []   \n",
       "2  {'assistant_response': 'Lost in the woods, she...        []   \n",
       "\n",
       "                                           relations       role  \\\n",
       "0  {'in': {'ln_id': '28d4b9326676be37a6b8841ae63b...     system   \n",
       "1  {'in': {'ln_id': 'bb1089c628a117bff4f10200e138...       user   \n",
       "2  {'in': {'ln_id': 'c62b5133c68e708fd2273b15cabc...  assistant   \n",
       "\n",
       "                         system         lion_class  \n",
       "0  You are a helpful assistant.             System  \n",
       "1                           NaN        Instruction  \n",
       "2                           NaN  AssistantResponse  "
      ]
     },
     "execution_count": 6,
     "metadata": {},
     "output_type": "execute_result"
    }
   ],
   "source": [
    "a.messages.to_df()"
   ]
  },
  {
   "cell_type": "code",
   "execution_count": 7,
   "metadata": {},
   "outputs": [
    {
     "data": {
      "text/plain": [
       "{'last_updated': {'sender': '2024-05-28T21:50:38.359703',\n",
       "  'recipient': '2024-05-28T21:50:38.359710'},\n",
       " 'extra': {'model': 'gpt-4o',\n",
       "  'frequency_penalty': 0,\n",
       "  'n': 1,\n",
       "  'presence_penalty': 0,\n",
       "  'response_format': {'type': 'text'},\n",
       "  'temperature': 0.1,\n",
       "  'top_p': 1}}"
      ]
     },
     "execution_count": 7,
     "metadata": {},
     "output_type": "execute_result"
    }
   ],
   "source": [
    "a.messages[1].metadata"
   ]
  },
  {
   "cell_type": "code",
   "execution_count": 8,
   "metadata": {},
   "outputs": [
    {
     "data": {
      "text/html": [
       "<div>\n",
       "<style scoped>\n",
       "    .dataframe tbody tr th:only-of-type {\n",
       "        vertical-align: middle;\n",
       "    }\n",
       "\n",
       "    .dataframe tbody tr th {\n",
       "        vertical-align: top;\n",
       "    }\n",
       "\n",
       "    .dataframe thead th {\n",
       "        text-align: right;\n",
       "    }\n",
       "</style>\n",
       "<table border=\"1\" class=\"dataframe\">\n",
       "  <thead>\n",
       "    <tr style=\"text-align: right;\">\n",
       "      <th></th>\n",
       "      <th>sender</th>\n",
       "      <th>recipient</th>\n",
       "      <th>ln_id</th>\n",
       "      <th>created</th>\n",
       "      <th>metadata</th>\n",
       "      <th>content</th>\n",
       "      <th>embedding</th>\n",
       "      <th>relations</th>\n",
       "      <th>role</th>\n",
       "      <th>system</th>\n",
       "      <th>lion_class</th>\n",
       "    </tr>\n",
       "  </thead>\n",
       "  <tbody>\n",
       "    <tr>\n",
       "      <th>0</th>\n",
       "      <td>system</td>\n",
       "      <td>30334e8ea082a211391781ece6af6d78</td>\n",
       "      <td>0a5cc49d5ee87fd0f32e36894fe10ef6</td>\n",
       "      <td>2024-05-28T21:50:38.359035</td>\n",
       "      <td>{'last_updated': {'recipient': '2024-05-28T21:...</td>\n",
       "      <td>{'system_info': 'You are a helpful assistant.'}</td>\n",
       "      <td>[]</td>\n",
       "      <td>{'in': {'ln_id': '28d4b9326676be37a6b8841ae63b...</td>\n",
       "      <td>system</td>\n",
       "      <td>You are a helpful assistant.</td>\n",
       "      <td>System</td>\n",
       "    </tr>\n",
       "    <tr>\n",
       "      <th>1</th>\n",
       "      <td>user</td>\n",
       "      <td>30334e8ea082a211391781ece6af6d78</td>\n",
       "      <td>767278c6504c72692a461f3b3761ee4e</td>\n",
       "      <td>2024-05-28T21:50:38.359647</td>\n",
       "      <td>{'last_updated': {'sender': '2024-05-28T21:50:...</td>\n",
       "      <td>{'instruction': 'tell me a 10 word story'}</td>\n",
       "      <td>[]</td>\n",
       "      <td>{'in': {'ln_id': 'bb1089c628a117bff4f10200e138...</td>\n",
       "      <td>user</td>\n",
       "      <td>NaN</td>\n",
       "      <td>Instruction</td>\n",
       "    </tr>\n",
       "    <tr>\n",
       "      <th>2</th>\n",
       "      <td>30334e8ea082a211391781ece6af6d78</td>\n",
       "      <td>user</td>\n",
       "      <td>70ae721e6d1dbab9974e3a3344dac309</td>\n",
       "      <td>2024-05-28T21:50:39.517121</td>\n",
       "      <td>{'last_updated': {'sender': '2024-05-28T21:50:...</td>\n",
       "      <td>{'assistant_response': 'Lost in the woods, she...</td>\n",
       "      <td>[]</td>\n",
       "      <td>{'in': {'ln_id': 'c62b5133c68e708fd2273b15cabc...</td>\n",
       "      <td>assistant</td>\n",
       "      <td>NaN</td>\n",
       "      <td>AssistantResponse</td>\n",
       "    </tr>\n",
       "  </tbody>\n",
       "</table>\n",
       "</div>"
      ],
      "text/plain": [
       "                             sender                         recipient  \\\n",
       "0                            system  30334e8ea082a211391781ece6af6d78   \n",
       "1                              user  30334e8ea082a211391781ece6af6d78   \n",
       "2  30334e8ea082a211391781ece6af6d78                              user   \n",
       "\n",
       "                              ln_id                     created  \\\n",
       "0  0a5cc49d5ee87fd0f32e36894fe10ef6  2024-05-28T21:50:38.359035   \n",
       "1  767278c6504c72692a461f3b3761ee4e  2024-05-28T21:50:38.359647   \n",
       "2  70ae721e6d1dbab9974e3a3344dac309  2024-05-28T21:50:39.517121   \n",
       "\n",
       "                                            metadata  \\\n",
       "0  {'last_updated': {'recipient': '2024-05-28T21:...   \n",
       "1  {'last_updated': {'sender': '2024-05-28T21:50:...   \n",
       "2  {'last_updated': {'sender': '2024-05-28T21:50:...   \n",
       "\n",
       "                                             content embedding  \\\n",
       "0    {'system_info': 'You are a helpful assistant.'}        []   \n",
       "1         {'instruction': 'tell me a 10 word story'}        []   \n",
       "2  {'assistant_response': 'Lost in the woods, she...        []   \n",
       "\n",
       "                                           relations       role  \\\n",
       "0  {'in': {'ln_id': '28d4b9326676be37a6b8841ae63b...     system   \n",
       "1  {'in': {'ln_id': 'bb1089c628a117bff4f10200e138...       user   \n",
       "2  {'in': {'ln_id': 'c62b5133c68e708fd2273b15cabc...  assistant   \n",
       "\n",
       "                         system         lion_class  \n",
       "0  You are a helpful assistant.             System  \n",
       "1                           NaN        Instruction  \n",
       "2                           NaN  AssistantResponse  "
      ]
     },
     "execution_count": 8,
     "metadata": {},
     "output_type": "execute_result"
    }
   ],
   "source": [
    "a.messages.to_df()"
   ]
  },
  {
   "cell_type": "code",
   "execution_count": 9,
   "metadata": {},
   "outputs": [
    {
     "data": {
      "text/plain": [
       "{'last_updated': {'sender': '2024-05-28T21:50:39.517238',\n",
       "  'recipient': '2024-05-28T21:50:39.517249'},\n",
       " 'extra': {'id': 'chatcmpl-9Tz0I21EyiCXMykWhmI1Ui46QUIIK',\n",
       "  'object': 'chat.completion',\n",
       "  'created': 1716933038,\n",
       "  'model': 'gpt-4o-2024-05-13',\n",
       "  'usage': {'prompt_tokens': 24,\n",
       "   'completion_tokens': 13,\n",
       "   'total_tokens': 37,\n",
       "   'expense': 0.000315},\n",
       "  'system_fingerprint': 'fp_43dfabdef1',\n",
       "  'index': 0,\n",
       "  'logprobs': None,\n",
       "  'finish_reason': 'stop'}}"
      ]
     },
     "execution_count": 9,
     "metadata": {},
     "output_type": "execute_result"
    }
   ],
   "source": [
    "a.messages[2].metadata"
   ]
  },
  {
   "cell_type": "code",
   "execution_count": 10,
   "metadata": {},
   "outputs": [],
   "source": [
    "a._meta_insert([\"extra\"], 1)"
   ]
  },
  {
   "cell_type": "code",
   "execution_count": 11,
   "metadata": {},
   "outputs": [
    {
     "data": {
      "text/plain": [
       "{'last_updated': {'system': '2024-05-28T21:50:38.358887',\n",
       "  'user': '2024-05-28T21:50:38.358899',\n",
       "  'messages': '2024-05-28T21:50:38.358923',\n",
       "  'progress': '2024-05-28T21:50:38.358940',\n",
       "  'tool_manager': '2024-05-28T21:50:38.358947',\n",
       "  'mailbox': '2024-05-28T21:50:38.358982',\n",
       "  'imodel': '2024-05-28T21:50:38.359013'},\n",
       " 'extra': 1}"
      ]
     },
     "execution_count": 11,
     "metadata": {},
     "output_type": "execute_result"
    }
   ],
   "source": [
    "a.metadata"
   ]
  },
  {
   "cell_type": "code",
   "execution_count": 12,
   "metadata": {},
   "outputs": [],
   "source": [
    "import lionagi as li"
   ]
  },
  {
   "cell_type": "code",
   "execution_count": 13,
   "metadata": {},
   "outputs": [],
   "source": [
    "async def multiply(number1: float, number2: float, number3: float = 1):\n",
    "    \"\"\"\n",
    "    multiply three numbers.\n",
    "\n",
    "    Args:\n",
    "        number1: First number to multiply.\n",
    "        number2: Second number to multiply.\n",
    "        number3: third number to multiply\n",
    "\n",
    "    Returns:\n",
    "        The product of number1, number2, number3\n",
    "\n",
    "    \"\"\"\n",
    "    return number1 * number2 * number3\n",
    "\n",
    "\n",
    "instruction = \"\"\"\n",
    "solve the following problem\n",
    "\"\"\"\n",
    "\n",
    "context = \"\"\"\n",
    "    I have 730_000 trees, with average 123 apples per tree, each weigh 0.4 lbs. \n",
    "    20 percent are bad and sold for 0.1 dollar per lbs, 30 percent are sold to \n",
    "    brewery for 0.3 dollar per apple, what is my revenue?\n",
    "\"\"\""
   ]
  },
  {
   "cell_type": "code",
   "execution_count": 14,
   "metadata": {},
   "outputs": [],
   "source": [
    "branch = li.Branch(\"act like a calculator, invoke tool uses\", tools=[multiply])"
   ]
  },
  {
   "cell_type": "code",
   "execution_count": 15,
   "metadata": {},
   "outputs": [],
   "source": [
    "await branch.chat(instruction=instruction, context=context, tools=True);"
   ]
  },
  {
   "cell_type": "code",
   "execution_count": 16,
   "metadata": {},
   "outputs": [
    {
     "data": {
      "text/html": [
       "<div>\n",
       "<style scoped>\n",
       "    .dataframe tbody tr th:only-of-type {\n",
       "        vertical-align: middle;\n",
       "    }\n",
       "\n",
       "    .dataframe tbody tr th {\n",
       "        vertical-align: top;\n",
       "    }\n",
       "\n",
       "    .dataframe thead th {\n",
       "        text-align: right;\n",
       "    }\n",
       "</style>\n",
       "<table border=\"1\" class=\"dataframe\">\n",
       "  <thead>\n",
       "    <tr style=\"text-align: right;\">\n",
       "      <th></th>\n",
       "      <th>ln_id</th>\n",
       "      <th>message_type</th>\n",
       "      <th>timestamp</th>\n",
       "      <th>role</th>\n",
       "      <th>content</th>\n",
       "      <th>metadata</th>\n",
       "      <th>sender</th>\n",
       "      <th>recipient</th>\n",
       "    </tr>\n",
       "  </thead>\n",
       "  <tbody>\n",
       "    <tr>\n",
       "      <th>0</th>\n",
       "      <td>3e637b9f4b70023c45af142dbc9ba49b</td>\n",
       "      <td>System</td>\n",
       "      <td>2024-05-28T21:50:39.573710</td>\n",
       "      <td>system</td>\n",
       "      <td>{'system_info': 'act like a calculator, invoke...</td>\n",
       "      <td>{'last_updated': {'recipient': '2024-05-28T21:...</td>\n",
       "      <td>system</td>\n",
       "      <td>a72dbb09d3174ce3eaf9ec786b7ce6e3</td>\n",
       "    </tr>\n",
       "    <tr>\n",
       "      <th>1</th>\n",
       "      <td>4a292a78de78c725d520e7d63f236b59</td>\n",
       "      <td>Instruction</td>\n",
       "      <td>2024-05-28T21:50:39.577337</td>\n",
       "      <td>user</td>\n",
       "      <td>{'instruction': '\n",
       "solve the following problem\n",
       "...</td>\n",
       "      <td>{'last_updated': {'sender': '2024-05-28T21:50:...</td>\n",
       "      <td>user</td>\n",
       "      <td>a72dbb09d3174ce3eaf9ec786b7ce6e3</td>\n",
       "    </tr>\n",
       "    <tr>\n",
       "      <th>2</th>\n",
       "      <td>fa05a51ab67b305325823efdf4578158</td>\n",
       "      <td>AssistantResponse</td>\n",
       "      <td>2024-05-28T21:50:41.824381</td>\n",
       "      <td>assistant</td>\n",
       "      <td>{'assistant_response': None}</td>\n",
       "      <td>{'last_updated': {'sender': '2024-05-28T21:50:...</td>\n",
       "      <td>a72dbb09d3174ce3eaf9ec786b7ce6e3</td>\n",
       "      <td>user</td>\n",
       "    </tr>\n",
       "    <tr>\n",
       "      <th>3</th>\n",
       "      <td>ac904e97acaef891b81392f98f847f90</td>\n",
       "      <td>ActionRequest</td>\n",
       "      <td>2024-05-28T21:50:41.824670</td>\n",
       "      <td>assistant</td>\n",
       "      <td>{'action_request': {'function': 'multiply', 'a...</td>\n",
       "      <td>{'last_updated': {'function': '2024-05-28T21:5...</td>\n",
       "      <td>a72dbb09d3174ce3eaf9ec786b7ce6e3</td>\n",
       "      <td>1797f81074b2298cc72eb28ff013eaff</td>\n",
       "    </tr>\n",
       "    <tr>\n",
       "      <th>4</th>\n",
       "      <td>12e1da887a9e5143e7b62c94c77b42e4</td>\n",
       "      <td>ActionRequest</td>\n",
       "      <td>2024-05-28T21:50:41.824790</td>\n",
       "      <td>assistant</td>\n",
       "      <td>{'action_request': {'function': 'multiply', 'a...</td>\n",
       "      <td>{'last_updated': {'function': '2024-05-28T21:5...</td>\n",
       "      <td>a72dbb09d3174ce3eaf9ec786b7ce6e3</td>\n",
       "      <td>1797f81074b2298cc72eb28ff013eaff</td>\n",
       "    </tr>\n",
       "    <tr>\n",
       "      <th>5</th>\n",
       "      <td>73157d57fc64e2f2920a7e9d6f4a87dd</td>\n",
       "      <td>ActionRequest</td>\n",
       "      <td>2024-05-28T21:50:41.824881</td>\n",
       "      <td>assistant</td>\n",
       "      <td>{'action_request': {'function': 'multiply', 'a...</td>\n",
       "      <td>{'last_updated': {'function': '2024-05-28T21:5...</td>\n",
       "      <td>a72dbb09d3174ce3eaf9ec786b7ce6e3</td>\n",
       "      <td>1797f81074b2298cc72eb28ff013eaff</td>\n",
       "    </tr>\n",
       "    <tr>\n",
       "      <th>6</th>\n",
       "      <td>abacaab477912942a05db1a8b1c37cc3</td>\n",
       "      <td>ActionResponse</td>\n",
       "      <td>2024-05-28T21:50:41.825396</td>\n",
       "      <td>assistant</td>\n",
       "      <td>{'action_response': {'function': 'multiply', '...</td>\n",
       "      <td>{'last_updated': {'function': '2024-05-28T21:5...</td>\n",
       "      <td>1797f81074b2298cc72eb28ff013eaff</td>\n",
       "      <td>a72dbb09d3174ce3eaf9ec786b7ce6e3</td>\n",
       "    </tr>\n",
       "    <tr>\n",
       "      <th>7</th>\n",
       "      <td>bba57f5fd2a43d31949a678186f16537</td>\n",
       "      <td>ActionResponse</td>\n",
       "      <td>2024-05-28T21:50:41.825820</td>\n",
       "      <td>assistant</td>\n",
       "      <td>{'action_response': {'function': 'multiply', '...</td>\n",
       "      <td>{'last_updated': {'function': '2024-05-28T21:5...</td>\n",
       "      <td>1797f81074b2298cc72eb28ff013eaff</td>\n",
       "      <td>a72dbb09d3174ce3eaf9ec786b7ce6e3</td>\n",
       "    </tr>\n",
       "    <tr>\n",
       "      <th>8</th>\n",
       "      <td>cf8bf9d72871911b837b8d9ceccd2ff0</td>\n",
       "      <td>ActionResponse</td>\n",
       "      <td>2024-05-28T21:50:41.826015</td>\n",
       "      <td>assistant</td>\n",
       "      <td>{'action_response': {'function': 'multiply', '...</td>\n",
       "      <td>{'last_updated': {'function': '2024-05-28T21:5...</td>\n",
       "      <td>1797f81074b2298cc72eb28ff013eaff</td>\n",
       "      <td>a72dbb09d3174ce3eaf9ec786b7ce6e3</td>\n",
       "    </tr>\n",
       "  </tbody>\n",
       "</table>\n",
       "</div>"
      ],
      "text/plain": [
       "                              ln_id       message_type  \\\n",
       "0  3e637b9f4b70023c45af142dbc9ba49b             System   \n",
       "1  4a292a78de78c725d520e7d63f236b59        Instruction   \n",
       "2  fa05a51ab67b305325823efdf4578158  AssistantResponse   \n",
       "3  ac904e97acaef891b81392f98f847f90      ActionRequest   \n",
       "4  12e1da887a9e5143e7b62c94c77b42e4      ActionRequest   \n",
       "5  73157d57fc64e2f2920a7e9d6f4a87dd      ActionRequest   \n",
       "6  abacaab477912942a05db1a8b1c37cc3     ActionResponse   \n",
       "7  bba57f5fd2a43d31949a678186f16537     ActionResponse   \n",
       "8  cf8bf9d72871911b837b8d9ceccd2ff0     ActionResponse   \n",
       "\n",
       "                    timestamp       role  \\\n",
       "0  2024-05-28T21:50:39.573710     system   \n",
       "1  2024-05-28T21:50:39.577337       user   \n",
       "2  2024-05-28T21:50:41.824381  assistant   \n",
       "3  2024-05-28T21:50:41.824670  assistant   \n",
       "4  2024-05-28T21:50:41.824790  assistant   \n",
       "5  2024-05-28T21:50:41.824881  assistant   \n",
       "6  2024-05-28T21:50:41.825396  assistant   \n",
       "7  2024-05-28T21:50:41.825820  assistant   \n",
       "8  2024-05-28T21:50:41.826015  assistant   \n",
       "\n",
       "                                             content  \\\n",
       "0  {'system_info': 'act like a calculator, invoke...   \n",
       "1  {'instruction': '\n",
       "solve the following problem\n",
       "...   \n",
       "2                       {'assistant_response': None}   \n",
       "3  {'action_request': {'function': 'multiply', 'a...   \n",
       "4  {'action_request': {'function': 'multiply', 'a...   \n",
       "5  {'action_request': {'function': 'multiply', 'a...   \n",
       "6  {'action_response': {'function': 'multiply', '...   \n",
       "7  {'action_response': {'function': 'multiply', '...   \n",
       "8  {'action_response': {'function': 'multiply', '...   \n",
       "\n",
       "                                            metadata  \\\n",
       "0  {'last_updated': {'recipient': '2024-05-28T21:...   \n",
       "1  {'last_updated': {'sender': '2024-05-28T21:50:...   \n",
       "2  {'last_updated': {'sender': '2024-05-28T21:50:...   \n",
       "3  {'last_updated': {'function': '2024-05-28T21:5...   \n",
       "4  {'last_updated': {'function': '2024-05-28T21:5...   \n",
       "5  {'last_updated': {'function': '2024-05-28T21:5...   \n",
       "6  {'last_updated': {'function': '2024-05-28T21:5...   \n",
       "7  {'last_updated': {'function': '2024-05-28T21:5...   \n",
       "8  {'last_updated': {'function': '2024-05-28T21:5...   \n",
       "\n",
       "                             sender                         recipient  \n",
       "0                            system  a72dbb09d3174ce3eaf9ec786b7ce6e3  \n",
       "1                              user  a72dbb09d3174ce3eaf9ec786b7ce6e3  \n",
       "2  a72dbb09d3174ce3eaf9ec786b7ce6e3                              user  \n",
       "3  a72dbb09d3174ce3eaf9ec786b7ce6e3  1797f81074b2298cc72eb28ff013eaff  \n",
       "4  a72dbb09d3174ce3eaf9ec786b7ce6e3  1797f81074b2298cc72eb28ff013eaff  \n",
       "5  a72dbb09d3174ce3eaf9ec786b7ce6e3  1797f81074b2298cc72eb28ff013eaff  \n",
       "6  1797f81074b2298cc72eb28ff013eaff  a72dbb09d3174ce3eaf9ec786b7ce6e3  \n",
       "7  1797f81074b2298cc72eb28ff013eaff  a72dbb09d3174ce3eaf9ec786b7ce6e3  \n",
       "8  1797f81074b2298cc72eb28ff013eaff  a72dbb09d3174ce3eaf9ec786b7ce6e3  "
      ]
     },
     "execution_count": 16,
     "metadata": {},
     "output_type": "execute_result"
    }
   ],
   "source": [
    "branch.to_df()"
   ]
  },
  {
   "cell_type": "code",
   "execution_count": 17,
   "metadata": {},
   "outputs": [
    {
     "data": {
      "text/plain": [
       "{'last_updated': {'sender': '2024-05-28T21:50:41.824521',\n",
       "  'recipient': '2024-05-28T21:50:41.824536'},\n",
       " 'extra': {'id': 'chatcmpl-9Tz0J9haG9YKZyeVHnNoNGNxQHTGd',\n",
       "  'object': 'chat.completion',\n",
       "  'created': 1716933039,\n",
       "  'model': 'gpt-4o-2024-05-13',\n",
       "  'usage': {'prompt_tokens': 162,\n",
       "   'completion_tokens': 97,\n",
       "   'total_tokens': 259,\n",
       "   'expense': 0.002265},\n",
       "  'system_fingerprint': 'fp_43dfabdef1',\n",
       "  'index': 0,\n",
       "  'logprobs': None,\n",
       "  'finish_reason': 'tool_calls'}}"
      ]
     },
     "execution_count": 17,
     "metadata": {},
     "output_type": "execute_result"
    }
   ],
   "source": [
    "branch.messages[2].metadata"
   ]
  }
 ],
 "metadata": {
  "kernelspec": {
   "display_name": ".venv",
   "language": "python",
   "name": "python3"
  },
  "language_info": {
   "codemirror_mode": {
    "name": "ipython",
    "version": 3
   },
   "file_extension": ".py",
   "mimetype": "text/x-python",
   "name": "python",
   "nbconvert_exporter": "python",
   "pygments_lexer": "ipython3",
   "version": "3.12.1"
  }
 },
 "nbformat": 4,
 "nbformat_minor": 2
}
