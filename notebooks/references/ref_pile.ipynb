{
 "cells": [
  {
   "cell_type": "markdown",
   "metadata": {},
   "source": [
    "### LionAGI pile\n",
    "\n",
    "pile object is used throughout lionagi system"
   ]
  },
  {
   "cell_type": "code",
   "execution_count": 1,
   "metadata": {},
   "outputs": [],
   "source": [
    "import lionagi as li"
   ]
  },
  {
   "cell_type": "code",
   "execution_count": 2,
   "metadata": {},
   "outputs": [],
   "source": [
    "# let us create some nodes and put into pile\n",
    "\n",
    "nodes1 = [li.Node(content=i) for i in [\"A\", \"B\", \"C\"]]\n",
    "nodes2 = [li.Node(content=i) for i in [\"D\", \"E\", \"F\"]]\n",
    "\n",
    "p1 = li.pile(nodes1)\n",
    "p2 = li.pile(nodes2)"
   ]
  },
  {
   "cell_type": "code",
   "execution_count": 3,
   "metadata": {},
   "outputs": [
    {
     "data": {
      "text/html": [
       "<div>\n",
       "<style scoped>\n",
       "    .dataframe tbody tr th:only-of-type {\n",
       "        vertical-align: middle;\n",
       "    }\n",
       "\n",
       "    .dataframe tbody tr th {\n",
       "        vertical-align: top;\n",
       "    }\n",
       "\n",
       "    .dataframe thead th {\n",
       "        text-align: right;\n",
       "    }\n",
       "</style>\n",
       "<table border=\"1\" class=\"dataframe\">\n",
       "  <thead>\n",
       "    <tr style=\"text-align: right;\">\n",
       "      <th></th>\n",
       "      <th>ln_id</th>\n",
       "      <th>created</th>\n",
       "      <th>metadata</th>\n",
       "      <th>content</th>\n",
       "      <th>relations</th>\n",
       "    </tr>\n",
       "  </thead>\n",
       "  <tbody>\n",
       "    <tr>\n",
       "      <th>0</th>\n",
       "      <td>9cc22499e5fad28542b1d5c4e174b41c</td>\n",
       "      <td>2024-05-12T14:53:27.561884</td>\n",
       "      <td>{}</td>\n",
       "      <td>A</td>\n",
       "      <td>{'in': {'ln_id': '6c774e4f7521075e3aab3b25dbf4...</td>\n",
       "    </tr>\n",
       "    <tr>\n",
       "      <th>1</th>\n",
       "      <td>0d8f525609a97ac657ec71883a236864</td>\n",
       "      <td>2024-05-12T14:53:27.561964</td>\n",
       "      <td>{}</td>\n",
       "      <td>B</td>\n",
       "      <td>{'in': {'ln_id': '9c9febb439c519dc1afac30029bd...</td>\n",
       "    </tr>\n",
       "    <tr>\n",
       "      <th>2</th>\n",
       "      <td>76a3edf9bc1a7fdee1409c3a094bab33</td>\n",
       "      <td>2024-05-12T14:53:27.562190</td>\n",
       "      <td>{}</td>\n",
       "      <td>C</td>\n",
       "      <td>{'in': {'ln_id': '2de00b2784e45056d694a0f23eb7...</td>\n",
       "    </tr>\n",
       "  </tbody>\n",
       "</table>\n",
       "</div>"
      ],
      "text/plain": [
       "                              ln_id                     created metadata  \\\n",
       "0  9cc22499e5fad28542b1d5c4e174b41c  2024-05-12T14:53:27.561884       {}   \n",
       "1  0d8f525609a97ac657ec71883a236864  2024-05-12T14:53:27.561964       {}   \n",
       "2  76a3edf9bc1a7fdee1409c3a094bab33  2024-05-12T14:53:27.562190       {}   \n",
       "\n",
       "  content                                          relations  \n",
       "0       A  {'in': {'ln_id': '6c774e4f7521075e3aab3b25dbf4...  \n",
       "1       B  {'in': {'ln_id': '9c9febb439c519dc1afac30029bd...  \n",
       "2       C  {'in': {'ln_id': '2de00b2784e45056d694a0f23eb7...  "
      ]
     },
     "execution_count": 3,
     "metadata": {},
     "output_type": "execute_result"
    }
   ],
   "source": [
    "p1.to_df()"
   ]
  },
  {
   "cell_type": "code",
   "execution_count": 4,
   "metadata": {},
   "outputs": [
    {
     "data": {
      "text/html": [
       "<div>\n",
       "<style scoped>\n",
       "    .dataframe tbody tr th:only-of-type {\n",
       "        vertical-align: middle;\n",
       "    }\n",
       "\n",
       "    .dataframe tbody tr th {\n",
       "        vertical-align: top;\n",
       "    }\n",
       "\n",
       "    .dataframe thead th {\n",
       "        text-align: right;\n",
       "    }\n",
       "</style>\n",
       "<table border=\"1\" class=\"dataframe\">\n",
       "  <thead>\n",
       "    <tr style=\"text-align: right;\">\n",
       "      <th></th>\n",
       "      <th>ln_id</th>\n",
       "      <th>created</th>\n",
       "      <th>metadata</th>\n",
       "      <th>content</th>\n",
       "      <th>relations</th>\n",
       "    </tr>\n",
       "  </thead>\n",
       "  <tbody>\n",
       "    <tr>\n",
       "      <th>0</th>\n",
       "      <td>9cc22499e5fad28542b1d5c4e174b41c</td>\n",
       "      <td>2024-05-12T14:53:27.561884</td>\n",
       "      <td>{}</td>\n",
       "      <td>A</td>\n",
       "      <td>{'in': {'ln_id': '6c774e4f7521075e3aab3b25dbf4...</td>\n",
       "    </tr>\n",
       "    <tr>\n",
       "      <th>1</th>\n",
       "      <td>0d8f525609a97ac657ec71883a236864</td>\n",
       "      <td>2024-05-12T14:53:27.561964</td>\n",
       "      <td>{}</td>\n",
       "      <td>B</td>\n",
       "      <td>{'in': {'ln_id': '9c9febb439c519dc1afac30029bd...</td>\n",
       "    </tr>\n",
       "    <tr>\n",
       "      <th>2</th>\n",
       "      <td>76a3edf9bc1a7fdee1409c3a094bab33</td>\n",
       "      <td>2024-05-12T14:53:27.562190</td>\n",
       "      <td>{}</td>\n",
       "      <td>C</td>\n",
       "      <td>{'in': {'ln_id': '2de00b2784e45056d694a0f23eb7...</td>\n",
       "    </tr>\n",
       "    <tr>\n",
       "      <th>3</th>\n",
       "      <td>52e4341238d0856c66aee124923386cd</td>\n",
       "      <td>2024-05-12T14:53:27.562337</td>\n",
       "      <td>{}</td>\n",
       "      <td>D</td>\n",
       "      <td>{'in': {'ln_id': 'b1c174cbb8776a2503bd48814de6...</td>\n",
       "    </tr>\n",
       "    <tr>\n",
       "      <th>4</th>\n",
       "      <td>973c962151f28e536b6fdb1d8d6cc921</td>\n",
       "      <td>2024-05-12T14:53:27.562359</td>\n",
       "      <td>{}</td>\n",
       "      <td>E</td>\n",
       "      <td>{'in': {'ln_id': '0146eff4a22e9cf9c5667a3fde9b...</td>\n",
       "    </tr>\n",
       "    <tr>\n",
       "      <th>5</th>\n",
       "      <td>bd9fd87cfdd7a9355c17ac76e1e6e927</td>\n",
       "      <td>2024-05-12T14:53:27.562382</td>\n",
       "      <td>{}</td>\n",
       "      <td>F</td>\n",
       "      <td>{'in': {'ln_id': 'c42b0b17666ffba086ba0506fbed...</td>\n",
       "    </tr>\n",
       "  </tbody>\n",
       "</table>\n",
       "</div>"
      ],
      "text/plain": [
       "                              ln_id                     created metadata  \\\n",
       "0  9cc22499e5fad28542b1d5c4e174b41c  2024-05-12T14:53:27.561884       {}   \n",
       "1  0d8f525609a97ac657ec71883a236864  2024-05-12T14:53:27.561964       {}   \n",
       "2  76a3edf9bc1a7fdee1409c3a094bab33  2024-05-12T14:53:27.562190       {}   \n",
       "3  52e4341238d0856c66aee124923386cd  2024-05-12T14:53:27.562337       {}   \n",
       "4  973c962151f28e536b6fdb1d8d6cc921  2024-05-12T14:53:27.562359       {}   \n",
       "5  bd9fd87cfdd7a9355c17ac76e1e6e927  2024-05-12T14:53:27.562382       {}   \n",
       "\n",
       "  content                                          relations  \n",
       "0       A  {'in': {'ln_id': '6c774e4f7521075e3aab3b25dbf4...  \n",
       "1       B  {'in': {'ln_id': '9c9febb439c519dc1afac30029bd...  \n",
       "2       C  {'in': {'ln_id': '2de00b2784e45056d694a0f23eb7...  \n",
       "3       D  {'in': {'ln_id': 'b1c174cbb8776a2503bd48814de6...  \n",
       "4       E  {'in': {'ln_id': '0146eff4a22e9cf9c5667a3fde9b...  \n",
       "5       F  {'in': {'ln_id': 'c42b0b17666ffba086ba0506fbed...  "
      ]
     },
     "execution_count": 4,
     "metadata": {},
     "output_type": "execute_result"
    }
   ],
   "source": [
    "## addition\n",
    "\n",
    "(p1 + p2).to_df()"
   ]
  },
  {
   "cell_type": "code",
   "execution_count": 5,
   "metadata": {},
   "outputs": [
    {
     "data": {
      "text/html": [
       "<div>\n",
       "<style scoped>\n",
       "    .dataframe tbody tr th:only-of-type {\n",
       "        vertical-align: middle;\n",
       "    }\n",
       "\n",
       "    .dataframe tbody tr th {\n",
       "        vertical-align: top;\n",
       "    }\n",
       "\n",
       "    .dataframe thead th {\n",
       "        text-align: right;\n",
       "    }\n",
       "</style>\n",
       "<table border=\"1\" class=\"dataframe\">\n",
       "  <thead>\n",
       "    <tr style=\"text-align: right;\">\n",
       "      <th></th>\n",
       "      <th>ln_id</th>\n",
       "      <th>created</th>\n",
       "      <th>metadata</th>\n",
       "      <th>content</th>\n",
       "      <th>relations</th>\n",
       "    </tr>\n",
       "  </thead>\n",
       "  <tbody>\n",
       "    <tr>\n",
       "      <th>0</th>\n",
       "      <td>9cc22499e5fad28542b1d5c4e174b41c</td>\n",
       "      <td>2024-05-12T14:53:27.561884</td>\n",
       "      <td>{}</td>\n",
       "      <td>A</td>\n",
       "      <td>{'in': {'ln_id': '6c774e4f7521075e3aab3b25dbf4...</td>\n",
       "    </tr>\n",
       "    <tr>\n",
       "      <th>1</th>\n",
       "      <td>0d8f525609a97ac657ec71883a236864</td>\n",
       "      <td>2024-05-12T14:53:27.561964</td>\n",
       "      <td>{}</td>\n",
       "      <td>B</td>\n",
       "      <td>{'in': {'ln_id': '9c9febb439c519dc1afac30029bd...</td>\n",
       "    </tr>\n",
       "    <tr>\n",
       "      <th>2</th>\n",
       "      <td>76a3edf9bc1a7fdee1409c3a094bab33</td>\n",
       "      <td>2024-05-12T14:53:27.562190</td>\n",
       "      <td>{}</td>\n",
       "      <td>C</td>\n",
       "      <td>{'in': {'ln_id': '2de00b2784e45056d694a0f23eb7...</td>\n",
       "    </tr>\n",
       "  </tbody>\n",
       "</table>\n",
       "</div>"
      ],
      "text/plain": [
       "                              ln_id                     created metadata  \\\n",
       "0  9cc22499e5fad28542b1d5c4e174b41c  2024-05-12T14:53:27.561884       {}   \n",
       "1  0d8f525609a97ac657ec71883a236864  2024-05-12T14:53:27.561964       {}   \n",
       "2  76a3edf9bc1a7fdee1409c3a094bab33  2024-05-12T14:53:27.562190       {}   \n",
       "\n",
       "  content                                          relations  \n",
       "0       A  {'in': {'ln_id': '6c774e4f7521075e3aab3b25dbf4...  \n",
       "1       B  {'in': {'ln_id': '9c9febb439c519dc1afac30029bd...  \n",
       "2       C  {'in': {'ln_id': '2de00b2784e45056d694a0f23eb7...  "
      ]
     },
     "execution_count": 5,
     "metadata": {},
     "output_type": "execute_result"
    }
   ],
   "source": [
    "p1.to_df()"
   ]
  },
  {
   "cell_type": "code",
   "execution_count": 6,
   "metadata": {},
   "outputs": [
    {
     "name": "stdout",
     "output_type": "stream",
     "text": [
      "Item not found. Item: '                              ln_id                     created metadata  \\\n",
      "0  52e4341238d0856c66aee124923386cd  2024-05-12T14:53:27.562337       {}   \n",
      "1  973c962151f28e536b6fdb1d8d6cc921  2024-05-12T14:53:27.562359       {}   \n",
      "2  bd9fd87cfdd7a9355c17ac76e1e6e927  2024-05-12T14:53:27.562382       {}   \n",
      "\n",
      "  content                                          relations  \n",
      "0       D  {'in': {'ln_id': 'b1c174cbb8776a2503bd48814de6...  \n",
      "1       E  {'in': {'ln_id': '0146eff4a22e9cf9c5667a3fde9b...  \n",
      "2       F  {'in': {'ln_id': 'c42b0b17666ffba086ba0506fbed...  '.\n"
     ]
    }
   ],
   "source": [
    "## subtraction\n",
    "\n",
    "try:\n",
    "    (p1-p2).to_df()\n",
    "except Exception as e:\n",
    "    print(e)"
   ]
  },
  {
   "cell_type": "code",
   "execution_count": 7,
   "metadata": {},
   "outputs": [
    {
     "data": {
      "text/plain": [
       "False"
      ]
     },
     "execution_count": 7,
     "metadata": {},
     "output_type": "execute_result"
    }
   ],
   "source": [
    "## containment\n",
    "\n",
    "p1 in p2"
   ]
  },
  {
   "cell_type": "code",
   "execution_count": 8,
   "metadata": {},
   "outputs": [
    {
     "name": "stdout",
     "output_type": "stream",
     "text": [
      "True\n"
     ]
    },
    {
     "data": {
      "text/html": [
       "<div>\n",
       "<style scoped>\n",
       "    .dataframe tbody tr th:only-of-type {\n",
       "        vertical-align: middle;\n",
       "    }\n",
       "\n",
       "    .dataframe tbody tr th {\n",
       "        vertical-align: top;\n",
       "    }\n",
       "\n",
       "    .dataframe thead th {\n",
       "        text-align: right;\n",
       "    }\n",
       "</style>\n",
       "<table border=\"1\" class=\"dataframe\">\n",
       "  <thead>\n",
       "    <tr style=\"text-align: right;\">\n",
       "      <th></th>\n",
       "      <th>ln_id</th>\n",
       "      <th>created</th>\n",
       "      <th>metadata</th>\n",
       "      <th>content</th>\n",
       "      <th>relations</th>\n",
       "    </tr>\n",
       "  </thead>\n",
       "  <tbody>\n",
       "    <tr>\n",
       "      <th>0</th>\n",
       "      <td>9cc22499e5fad28542b1d5c4e174b41c</td>\n",
       "      <td>2024-05-12T14:53:27.561884</td>\n",
       "      <td>{}</td>\n",
       "      <td>A</td>\n",
       "      <td>{'in': {'ln_id': '6c774e4f7521075e3aab3b25dbf4...</td>\n",
       "    </tr>\n",
       "    <tr>\n",
       "      <th>1</th>\n",
       "      <td>0d8f525609a97ac657ec71883a236864</td>\n",
       "      <td>2024-05-12T14:53:27.561964</td>\n",
       "      <td>{}</td>\n",
       "      <td>B</td>\n",
       "      <td>{'in': {'ln_id': '9c9febb439c519dc1afac30029bd...</td>\n",
       "    </tr>\n",
       "    <tr>\n",
       "      <th>2</th>\n",
       "      <td>76a3edf9bc1a7fdee1409c3a094bab33</td>\n",
       "      <td>2024-05-12T14:53:27.562190</td>\n",
       "      <td>{}</td>\n",
       "      <td>C</td>\n",
       "      <td>{'in': {'ln_id': '2de00b2784e45056d694a0f23eb7...</td>\n",
       "    </tr>\n",
       "    <tr>\n",
       "      <th>3</th>\n",
       "      <td>52e4341238d0856c66aee124923386cd</td>\n",
       "      <td>2024-05-12T14:53:27.562337</td>\n",
       "      <td>{}</td>\n",
       "      <td>D</td>\n",
       "      <td>{'in': {'ln_id': 'b1c174cbb8776a2503bd48814de6...</td>\n",
       "    </tr>\n",
       "    <tr>\n",
       "      <th>4</th>\n",
       "      <td>973c962151f28e536b6fdb1d8d6cc921</td>\n",
       "      <td>2024-05-12T14:53:27.562359</td>\n",
       "      <td>{}</td>\n",
       "      <td>E</td>\n",
       "      <td>{'in': {'ln_id': '0146eff4a22e9cf9c5667a3fde9b...</td>\n",
       "    </tr>\n",
       "    <tr>\n",
       "      <th>5</th>\n",
       "      <td>bd9fd87cfdd7a9355c17ac76e1e6e927</td>\n",
       "      <td>2024-05-12T14:53:27.562382</td>\n",
       "      <td>{}</td>\n",
       "      <td>F</td>\n",
       "      <td>{'in': {'ln_id': 'c42b0b17666ffba086ba0506fbed...</td>\n",
       "    </tr>\n",
       "  </tbody>\n",
       "</table>\n",
       "</div>"
      ],
      "text/plain": [
       "                              ln_id                     created metadata  \\\n",
       "0  9cc22499e5fad28542b1d5c4e174b41c  2024-05-12T14:53:27.561884       {}   \n",
       "1  0d8f525609a97ac657ec71883a236864  2024-05-12T14:53:27.561964       {}   \n",
       "2  76a3edf9bc1a7fdee1409c3a094bab33  2024-05-12T14:53:27.562190       {}   \n",
       "3  52e4341238d0856c66aee124923386cd  2024-05-12T14:53:27.562337       {}   \n",
       "4  973c962151f28e536b6fdb1d8d6cc921  2024-05-12T14:53:27.562359       {}   \n",
       "5  bd9fd87cfdd7a9355c17ac76e1e6e927  2024-05-12T14:53:27.562382       {}   \n",
       "\n",
       "  content                                          relations  \n",
       "0       A  {'in': {'ln_id': '6c774e4f7521075e3aab3b25dbf4...  \n",
       "1       B  {'in': {'ln_id': '9c9febb439c519dc1afac30029bd...  \n",
       "2       C  {'in': {'ln_id': '2de00b2784e45056d694a0f23eb7...  \n",
       "3       D  {'in': {'ln_id': 'b1c174cbb8776a2503bd48814de6...  \n",
       "4       E  {'in': {'ln_id': '0146eff4a22e9cf9c5667a3fde9b...  \n",
       "5       F  {'in': {'ln_id': 'c42b0b17666ffba086ba0506fbed...  "
      ]
     },
     "execution_count": 8,
     "metadata": {},
     "output_type": "execute_result"
    }
   ],
   "source": [
    "## inclusion\n",
    "\n",
    "print(p1.include(p2))\n",
    "p1.to_df()"
   ]
  },
  {
   "cell_type": "code",
   "execution_count": 9,
   "metadata": {},
   "outputs": [
    {
     "name": "stdout",
     "output_type": "stream",
     "text": [
      "True\n"
     ]
    },
    {
     "data": {
      "text/html": [
       "<div>\n",
       "<style scoped>\n",
       "    .dataframe tbody tr th:only-of-type {\n",
       "        vertical-align: middle;\n",
       "    }\n",
       "\n",
       "    .dataframe tbody tr th {\n",
       "        vertical-align: top;\n",
       "    }\n",
       "\n",
       "    .dataframe thead th {\n",
       "        text-align: right;\n",
       "    }\n",
       "</style>\n",
       "<table border=\"1\" class=\"dataframe\">\n",
       "  <thead>\n",
       "    <tr style=\"text-align: right;\">\n",
       "      <th></th>\n",
       "      <th>ln_id</th>\n",
       "      <th>created</th>\n",
       "      <th>metadata</th>\n",
       "      <th>content</th>\n",
       "      <th>relations</th>\n",
       "    </tr>\n",
       "  </thead>\n",
       "  <tbody>\n",
       "    <tr>\n",
       "      <th>0</th>\n",
       "      <td>9cc22499e5fad28542b1d5c4e174b41c</td>\n",
       "      <td>2024-05-12T14:53:27.561884</td>\n",
       "      <td>{}</td>\n",
       "      <td>A</td>\n",
       "      <td>{'in': {'ln_id': '6c774e4f7521075e3aab3b25dbf4...</td>\n",
       "    </tr>\n",
       "    <tr>\n",
       "      <th>1</th>\n",
       "      <td>0d8f525609a97ac657ec71883a236864</td>\n",
       "      <td>2024-05-12T14:53:27.561964</td>\n",
       "      <td>{}</td>\n",
       "      <td>B</td>\n",
       "      <td>{'in': {'ln_id': '9c9febb439c519dc1afac30029bd...</td>\n",
       "    </tr>\n",
       "    <tr>\n",
       "      <th>2</th>\n",
       "      <td>76a3edf9bc1a7fdee1409c3a094bab33</td>\n",
       "      <td>2024-05-12T14:53:27.562190</td>\n",
       "      <td>{}</td>\n",
       "      <td>C</td>\n",
       "      <td>{'in': {'ln_id': '2de00b2784e45056d694a0f23eb7...</td>\n",
       "    </tr>\n",
       "    <tr>\n",
       "      <th>3</th>\n",
       "      <td>973c962151f28e536b6fdb1d8d6cc921</td>\n",
       "      <td>2024-05-12T14:53:27.562359</td>\n",
       "      <td>{}</td>\n",
       "      <td>E</td>\n",
       "      <td>{'in': {'ln_id': '0146eff4a22e9cf9c5667a3fde9b...</td>\n",
       "    </tr>\n",
       "    <tr>\n",
       "      <th>4</th>\n",
       "      <td>bd9fd87cfdd7a9355c17ac76e1e6e927</td>\n",
       "      <td>2024-05-12T14:53:27.562382</td>\n",
       "      <td>{}</td>\n",
       "      <td>F</td>\n",
       "      <td>{'in': {'ln_id': 'c42b0b17666ffba086ba0506fbed...</td>\n",
       "    </tr>\n",
       "  </tbody>\n",
       "</table>\n",
       "</div>"
      ],
      "text/plain": [
       "                              ln_id                     created metadata  \\\n",
       "0  9cc22499e5fad28542b1d5c4e174b41c  2024-05-12T14:53:27.561884       {}   \n",
       "1  0d8f525609a97ac657ec71883a236864  2024-05-12T14:53:27.561964       {}   \n",
       "2  76a3edf9bc1a7fdee1409c3a094bab33  2024-05-12T14:53:27.562190       {}   \n",
       "3  973c962151f28e536b6fdb1d8d6cc921  2024-05-12T14:53:27.562359       {}   \n",
       "4  bd9fd87cfdd7a9355c17ac76e1e6e927  2024-05-12T14:53:27.562382       {}   \n",
       "\n",
       "  content                                          relations  \n",
       "0       A  {'in': {'ln_id': '6c774e4f7521075e3aab3b25dbf4...  \n",
       "1       B  {'in': {'ln_id': '9c9febb439c519dc1afac30029bd...  \n",
       "2       C  {'in': {'ln_id': '2de00b2784e45056d694a0f23eb7...  \n",
       "3       E  {'in': {'ln_id': '0146eff4a22e9cf9c5667a3fde9b...  \n",
       "4       F  {'in': {'ln_id': 'c42b0b17666ffba086ba0506fbed...  "
      ]
     },
     "execution_count": 9,
     "metadata": {},
     "output_type": "execute_result"
    }
   ],
   "source": [
    "## exclusion\n",
    "\n",
    "print(p1.exclude(p2))\n",
    "p1.to_df()"
   ]
  },
  {
   "cell_type": "code",
   "execution_count": 10,
   "metadata": {},
   "outputs": [
    {
     "data": {
      "text/plain": [
       "ln_id        52e4341238d0856c66aee124923386cd\n",
       "created            2024-05-12T14:53:27.562337\n",
       "metadata                                   {}\n",
       "content                                     D\n",
       "relations                              [0, 0]\n",
       "dtype: object"
      ]
     },
     "execution_count": 10,
     "metadata": {},
     "output_type": "execute_result"
    }
   ],
   "source": [
    "## get item\n",
    "\n",
    "aa = p2[0]\n",
    "aa"
   ]
  },
  {
   "cell_type": "code",
   "execution_count": 11,
   "metadata": {},
   "outputs": [
    {
     "data": {
      "text/html": [
       "<div>\n",
       "<style scoped>\n",
       "    .dataframe tbody tr th:only-of-type {\n",
       "        vertical-align: middle;\n",
       "    }\n",
       "\n",
       "    .dataframe tbody tr th {\n",
       "        vertical-align: top;\n",
       "    }\n",
       "\n",
       "    .dataframe thead th {\n",
       "        text-align: right;\n",
       "    }\n",
       "</style>\n",
       "<table border=\"1\" class=\"dataframe\">\n",
       "  <thead>\n",
       "    <tr style=\"text-align: right;\">\n",
       "      <th></th>\n",
       "      <th>ln_id</th>\n",
       "      <th>created</th>\n",
       "      <th>metadata</th>\n",
       "      <th>content</th>\n",
       "      <th>relations</th>\n",
       "    </tr>\n",
       "  </thead>\n",
       "  <tbody>\n",
       "    <tr>\n",
       "      <th>0</th>\n",
       "      <td>50f2fc2d54b4dad9388033f7bdfc0b1a</td>\n",
       "      <td>2024-05-12T14:53:27.624192</td>\n",
       "      <td>{}</td>\n",
       "      <td>have a good day</td>\n",
       "      <td>{'in': {'ln_id': '00ae24773a491163ad0d21d2289e...</td>\n",
       "    </tr>\n",
       "    <tr>\n",
       "      <th>1</th>\n",
       "      <td>0d8f525609a97ac657ec71883a236864</td>\n",
       "      <td>2024-05-12T14:53:27.561964</td>\n",
       "      <td>{}</td>\n",
       "      <td>B</td>\n",
       "      <td>{'in': {'ln_id': '9c9febb439c519dc1afac30029bd...</td>\n",
       "    </tr>\n",
       "    <tr>\n",
       "      <th>2</th>\n",
       "      <td>76a3edf9bc1a7fdee1409c3a094bab33</td>\n",
       "      <td>2024-05-12T14:53:27.562190</td>\n",
       "      <td>{}</td>\n",
       "      <td>C</td>\n",
       "      <td>{'in': {'ln_id': '2de00b2784e45056d694a0f23eb7...</td>\n",
       "    </tr>\n",
       "    <tr>\n",
       "      <th>3</th>\n",
       "      <td>973c962151f28e536b6fdb1d8d6cc921</td>\n",
       "      <td>2024-05-12T14:53:27.562359</td>\n",
       "      <td>{}</td>\n",
       "      <td>E</td>\n",
       "      <td>{'in': {'ln_id': '0146eff4a22e9cf9c5667a3fde9b...</td>\n",
       "    </tr>\n",
       "    <tr>\n",
       "      <th>4</th>\n",
       "      <td>bd9fd87cfdd7a9355c17ac76e1e6e927</td>\n",
       "      <td>2024-05-12T14:53:27.562382</td>\n",
       "      <td>{}</td>\n",
       "      <td>F</td>\n",
       "      <td>{'in': {'ln_id': 'c42b0b17666ffba086ba0506fbed...</td>\n",
       "    </tr>\n",
       "  </tbody>\n",
       "</table>\n",
       "</div>"
      ],
      "text/plain": [
       "                              ln_id                     created metadata  \\\n",
       "0  50f2fc2d54b4dad9388033f7bdfc0b1a  2024-05-12T14:53:27.624192       {}   \n",
       "1  0d8f525609a97ac657ec71883a236864  2024-05-12T14:53:27.561964       {}   \n",
       "2  76a3edf9bc1a7fdee1409c3a094bab33  2024-05-12T14:53:27.562190       {}   \n",
       "3  973c962151f28e536b6fdb1d8d6cc921  2024-05-12T14:53:27.562359       {}   \n",
       "4  bd9fd87cfdd7a9355c17ac76e1e6e927  2024-05-12T14:53:27.562382       {}   \n",
       "\n",
       "           content                                          relations  \n",
       "0  have a good day  {'in': {'ln_id': '00ae24773a491163ad0d21d2289e...  \n",
       "1                B  {'in': {'ln_id': '9c9febb439c519dc1afac30029bd...  \n",
       "2                C  {'in': {'ln_id': '2de00b2784e45056d694a0f23eb7...  \n",
       "3                E  {'in': {'ln_id': '0146eff4a22e9cf9c5667a3fde9b...  \n",
       "4                F  {'in': {'ln_id': 'c42b0b17666ffba086ba0506fbed...  "
      ]
     },
     "execution_count": 11,
     "metadata": {},
     "output_type": "execute_result"
    }
   ],
   "source": [
    "## set item\n",
    "\n",
    "p1[0] = li.Node(content=\"have a good day\")\n",
    "p1.to_df()"
   ]
  },
  {
   "cell_type": "code",
   "execution_count": 12,
   "metadata": {},
   "outputs": [],
   "source": [
    "# p1[:4] = li.pile([li.Node(content=\"have a good day\") for i in range(4)])"
   ]
  },
  {
   "cell_type": "code",
   "execution_count": 13,
   "metadata": {},
   "outputs": [],
   "source": [
    "p1.insert(0, li.Node(content=\"have a good day\"))"
   ]
  },
  {
   "cell_type": "code",
   "execution_count": 14,
   "metadata": {},
   "outputs": [
    {
     "data": {
      "text/html": [
       "<div>\n",
       "<style scoped>\n",
       "    .dataframe tbody tr th:only-of-type {\n",
       "        vertical-align: middle;\n",
       "    }\n",
       "\n",
       "    .dataframe tbody tr th {\n",
       "        vertical-align: top;\n",
       "    }\n",
       "\n",
       "    .dataframe thead th {\n",
       "        text-align: right;\n",
       "    }\n",
       "</style>\n",
       "<table border=\"1\" class=\"dataframe\">\n",
       "  <thead>\n",
       "    <tr style=\"text-align: right;\">\n",
       "      <th></th>\n",
       "      <th>ln_id</th>\n",
       "      <th>created</th>\n",
       "      <th>metadata</th>\n",
       "      <th>content</th>\n",
       "      <th>relations</th>\n",
       "    </tr>\n",
       "  </thead>\n",
       "  <tbody>\n",
       "    <tr>\n",
       "      <th>0</th>\n",
       "      <td>09ca17aa126b55eceb6fc6144129563e</td>\n",
       "      <td>2024-05-12T14:53:27.635205</td>\n",
       "      <td>{}</td>\n",
       "      <td>have a good day</td>\n",
       "      <td>{'in': {'ln_id': 'a1da511cb7b9e91d801eb0fe7f89...</td>\n",
       "    </tr>\n",
       "    <tr>\n",
       "      <th>1</th>\n",
       "      <td>50f2fc2d54b4dad9388033f7bdfc0b1a</td>\n",
       "      <td>2024-05-12T14:53:27.624192</td>\n",
       "      <td>{}</td>\n",
       "      <td>have a good day</td>\n",
       "      <td>{'in': {'ln_id': '00ae24773a491163ad0d21d2289e...</td>\n",
       "    </tr>\n",
       "    <tr>\n",
       "      <th>2</th>\n",
       "      <td>0d8f525609a97ac657ec71883a236864</td>\n",
       "      <td>2024-05-12T14:53:27.561964</td>\n",
       "      <td>{}</td>\n",
       "      <td>B</td>\n",
       "      <td>{'in': {'ln_id': '9c9febb439c519dc1afac30029bd...</td>\n",
       "    </tr>\n",
       "    <tr>\n",
       "      <th>3</th>\n",
       "      <td>76a3edf9bc1a7fdee1409c3a094bab33</td>\n",
       "      <td>2024-05-12T14:53:27.562190</td>\n",
       "      <td>{}</td>\n",
       "      <td>C</td>\n",
       "      <td>{'in': {'ln_id': '2de00b2784e45056d694a0f23eb7...</td>\n",
       "    </tr>\n",
       "    <tr>\n",
       "      <th>4</th>\n",
       "      <td>973c962151f28e536b6fdb1d8d6cc921</td>\n",
       "      <td>2024-05-12T14:53:27.562359</td>\n",
       "      <td>{}</td>\n",
       "      <td>E</td>\n",
       "      <td>{'in': {'ln_id': '0146eff4a22e9cf9c5667a3fde9b...</td>\n",
       "    </tr>\n",
       "    <tr>\n",
       "      <th>5</th>\n",
       "      <td>bd9fd87cfdd7a9355c17ac76e1e6e927</td>\n",
       "      <td>2024-05-12T14:53:27.562382</td>\n",
       "      <td>{}</td>\n",
       "      <td>F</td>\n",
       "      <td>{'in': {'ln_id': 'c42b0b17666ffba086ba0506fbed...</td>\n",
       "    </tr>\n",
       "  </tbody>\n",
       "</table>\n",
       "</div>"
      ],
      "text/plain": [
       "                              ln_id                     created metadata  \\\n",
       "0  09ca17aa126b55eceb6fc6144129563e  2024-05-12T14:53:27.635205       {}   \n",
       "1  50f2fc2d54b4dad9388033f7bdfc0b1a  2024-05-12T14:53:27.624192       {}   \n",
       "2  0d8f525609a97ac657ec71883a236864  2024-05-12T14:53:27.561964       {}   \n",
       "3  76a3edf9bc1a7fdee1409c3a094bab33  2024-05-12T14:53:27.562190       {}   \n",
       "4  973c962151f28e536b6fdb1d8d6cc921  2024-05-12T14:53:27.562359       {}   \n",
       "5  bd9fd87cfdd7a9355c17ac76e1e6e927  2024-05-12T14:53:27.562382       {}   \n",
       "\n",
       "           content                                          relations  \n",
       "0  have a good day  {'in': {'ln_id': 'a1da511cb7b9e91d801eb0fe7f89...  \n",
       "1  have a good day  {'in': {'ln_id': '00ae24773a491163ad0d21d2289e...  \n",
       "2                B  {'in': {'ln_id': '9c9febb439c519dc1afac30029bd...  \n",
       "3                C  {'in': {'ln_id': '2de00b2784e45056d694a0f23eb7...  \n",
       "4                E  {'in': {'ln_id': '0146eff4a22e9cf9c5667a3fde9b...  \n",
       "5                F  {'in': {'ln_id': 'c42b0b17666ffba086ba0506fbed...  "
      ]
     },
     "execution_count": 14,
     "metadata": {},
     "output_type": "execute_result"
    }
   ],
   "source": [
    "p1.to_df()"
   ]
  },
  {
   "cell_type": "code",
   "execution_count": 15,
   "metadata": {},
   "outputs": [
    {
     "data": {
      "text/html": [
       "<div>\n",
       "<style scoped>\n",
       "    .dataframe tbody tr th:only-of-type {\n",
       "        vertical-align: middle;\n",
       "    }\n",
       "\n",
       "    .dataframe tbody tr th {\n",
       "        vertical-align: top;\n",
       "    }\n",
       "\n",
       "    .dataframe thead th {\n",
       "        text-align: right;\n",
       "    }\n",
       "</style>\n",
       "<table border=\"1\" class=\"dataframe\">\n",
       "  <thead>\n",
       "    <tr style=\"text-align: right;\">\n",
       "      <th></th>\n",
       "      <th>ln_id</th>\n",
       "      <th>created</th>\n",
       "      <th>metadata</th>\n",
       "      <th>content</th>\n",
       "      <th>relations</th>\n",
       "    </tr>\n",
       "  </thead>\n",
       "  <tbody>\n",
       "    <tr>\n",
       "      <th>0</th>\n",
       "      <td>09ca17aa126b55eceb6fc6144129563e</td>\n",
       "      <td>2024-05-12T14:53:27.635205</td>\n",
       "      <td>{}</td>\n",
       "      <td>have a good day</td>\n",
       "      <td>{'in': {'ln_id': 'a1da511cb7b9e91d801eb0fe7f89...</td>\n",
       "    </tr>\n",
       "    <tr>\n",
       "      <th>1</th>\n",
       "      <td>50f2fc2d54b4dad9388033f7bdfc0b1a</td>\n",
       "      <td>2024-05-12T14:53:27.624192</td>\n",
       "      <td>{}</td>\n",
       "      <td>have a good day</td>\n",
       "      <td>{'in': {'ln_id': '00ae24773a491163ad0d21d2289e...</td>\n",
       "    </tr>\n",
       "    <tr>\n",
       "      <th>2</th>\n",
       "      <td>0d8f525609a97ac657ec71883a236864</td>\n",
       "      <td>2024-05-12T14:53:27.561964</td>\n",
       "      <td>{}</td>\n",
       "      <td>B</td>\n",
       "      <td>{'in': {'ln_id': '9c9febb439c519dc1afac30029bd...</td>\n",
       "    </tr>\n",
       "    <tr>\n",
       "      <th>3</th>\n",
       "      <td>76a3edf9bc1a7fdee1409c3a094bab33</td>\n",
       "      <td>2024-05-12T14:53:27.562190</td>\n",
       "      <td>{}</td>\n",
       "      <td>C</td>\n",
       "      <td>{'in': {'ln_id': '2de00b2784e45056d694a0f23eb7...</td>\n",
       "    </tr>\n",
       "    <tr>\n",
       "      <th>4</th>\n",
       "      <td>973c962151f28e536b6fdb1d8d6cc921</td>\n",
       "      <td>2024-05-12T14:53:27.562359</td>\n",
       "      <td>{}</td>\n",
       "      <td>E</td>\n",
       "      <td>{'in': {'ln_id': '0146eff4a22e9cf9c5667a3fde9b...</td>\n",
       "    </tr>\n",
       "    <tr>\n",
       "      <th>5</th>\n",
       "      <td>bd9fd87cfdd7a9355c17ac76e1e6e927</td>\n",
       "      <td>2024-05-12T14:53:27.562382</td>\n",
       "      <td>{}</td>\n",
       "      <td>F</td>\n",
       "      <td>{'in': {'ln_id': 'c42b0b17666ffba086ba0506fbed...</td>\n",
       "    </tr>\n",
       "    <tr>\n",
       "      <th>6</th>\n",
       "      <td>c81f07f74769e42b4c68b1b10e6ceaad</td>\n",
       "      <td>2024-05-12T14:53:27.647044</td>\n",
       "      <td>{}</td>\n",
       "      <td>hello world</td>\n",
       "      <td>{'in': {'ln_id': 'e50f085e2c006f82c2fd2fb4ac70...</td>\n",
       "    </tr>\n",
       "  </tbody>\n",
       "</table>\n",
       "</div>"
      ],
      "text/plain": [
       "                              ln_id                     created metadata  \\\n",
       "0  09ca17aa126b55eceb6fc6144129563e  2024-05-12T14:53:27.635205       {}   \n",
       "1  50f2fc2d54b4dad9388033f7bdfc0b1a  2024-05-12T14:53:27.624192       {}   \n",
       "2  0d8f525609a97ac657ec71883a236864  2024-05-12T14:53:27.561964       {}   \n",
       "3  76a3edf9bc1a7fdee1409c3a094bab33  2024-05-12T14:53:27.562190       {}   \n",
       "4  973c962151f28e536b6fdb1d8d6cc921  2024-05-12T14:53:27.562359       {}   \n",
       "5  bd9fd87cfdd7a9355c17ac76e1e6e927  2024-05-12T14:53:27.562382       {}   \n",
       "6  c81f07f74769e42b4c68b1b10e6ceaad  2024-05-12T14:53:27.647044       {}   \n",
       "\n",
       "           content                                          relations  \n",
       "0  have a good day  {'in': {'ln_id': 'a1da511cb7b9e91d801eb0fe7f89...  \n",
       "1  have a good day  {'in': {'ln_id': '00ae24773a491163ad0d21d2289e...  \n",
       "2                B  {'in': {'ln_id': '9c9febb439c519dc1afac30029bd...  \n",
       "3                C  {'in': {'ln_id': '2de00b2784e45056d694a0f23eb7...  \n",
       "4                E  {'in': {'ln_id': '0146eff4a22e9cf9c5667a3fde9b...  \n",
       "5                F  {'in': {'ln_id': 'c42b0b17666ffba086ba0506fbed...  \n",
       "6      hello world  {'in': {'ln_id': 'e50f085e2c006f82c2fd2fb4ac70...  "
      ]
     },
     "execution_count": 15,
     "metadata": {},
     "output_type": "execute_result"
    }
   ],
   "source": [
    "## other\n",
    "node = li.Node(content=\"hello world\")\n",
    "p1 += node\n",
    "p1.to_df()"
   ]
  },
  {
   "cell_type": "code",
   "execution_count": 16,
   "metadata": {},
   "outputs": [
    {
     "data": {
      "text/html": [
       "<div>\n",
       "<style scoped>\n",
       "    .dataframe tbody tr th:only-of-type {\n",
       "        vertical-align: middle;\n",
       "    }\n",
       "\n",
       "    .dataframe tbody tr th {\n",
       "        vertical-align: top;\n",
       "    }\n",
       "\n",
       "    .dataframe thead th {\n",
       "        text-align: right;\n",
       "    }\n",
       "</style>\n",
       "<table border=\"1\" class=\"dataframe\">\n",
       "  <thead>\n",
       "    <tr style=\"text-align: right;\">\n",
       "      <th></th>\n",
       "      <th>ln_id</th>\n",
       "      <th>created</th>\n",
       "      <th>metadata</th>\n",
       "      <th>content</th>\n",
       "      <th>relations</th>\n",
       "    </tr>\n",
       "  </thead>\n",
       "  <tbody>\n",
       "    <tr>\n",
       "      <th>0</th>\n",
       "      <td>09ca17aa126b55eceb6fc6144129563e</td>\n",
       "      <td>2024-05-12T14:53:27.635205</td>\n",
       "      <td>{}</td>\n",
       "      <td>have a good day</td>\n",
       "      <td>{'in': {'ln_id': 'a1da511cb7b9e91d801eb0fe7f89...</td>\n",
       "    </tr>\n",
       "    <tr>\n",
       "      <th>1</th>\n",
       "      <td>50f2fc2d54b4dad9388033f7bdfc0b1a</td>\n",
       "      <td>2024-05-12T14:53:27.624192</td>\n",
       "      <td>{}</td>\n",
       "      <td>have a good day</td>\n",
       "      <td>{'in': {'ln_id': '00ae24773a491163ad0d21d2289e...</td>\n",
       "    </tr>\n",
       "    <tr>\n",
       "      <th>2</th>\n",
       "      <td>76a3edf9bc1a7fdee1409c3a094bab33</td>\n",
       "      <td>2024-05-12T14:53:27.562190</td>\n",
       "      <td>{}</td>\n",
       "      <td>C</td>\n",
       "      <td>{'in': {'ln_id': '2de00b2784e45056d694a0f23eb7...</td>\n",
       "    </tr>\n",
       "    <tr>\n",
       "      <th>3</th>\n",
       "      <td>973c962151f28e536b6fdb1d8d6cc921</td>\n",
       "      <td>2024-05-12T14:53:27.562359</td>\n",
       "      <td>{}</td>\n",
       "      <td>E</td>\n",
       "      <td>{'in': {'ln_id': '0146eff4a22e9cf9c5667a3fde9b...</td>\n",
       "    </tr>\n",
       "    <tr>\n",
       "      <th>4</th>\n",
       "      <td>bd9fd87cfdd7a9355c17ac76e1e6e927</td>\n",
       "      <td>2024-05-12T14:53:27.562382</td>\n",
       "      <td>{}</td>\n",
       "      <td>F</td>\n",
       "      <td>{'in': {'ln_id': 'c42b0b17666ffba086ba0506fbed...</td>\n",
       "    </tr>\n",
       "    <tr>\n",
       "      <th>5</th>\n",
       "      <td>c81f07f74769e42b4c68b1b10e6ceaad</td>\n",
       "      <td>2024-05-12T14:53:27.647044</td>\n",
       "      <td>{}</td>\n",
       "      <td>hello world</td>\n",
       "      <td>{'in': {'ln_id': 'e50f085e2c006f82c2fd2fb4ac70...</td>\n",
       "    </tr>\n",
       "  </tbody>\n",
       "</table>\n",
       "</div>"
      ],
      "text/plain": [
       "                              ln_id                     created metadata  \\\n",
       "0  09ca17aa126b55eceb6fc6144129563e  2024-05-12T14:53:27.635205       {}   \n",
       "1  50f2fc2d54b4dad9388033f7bdfc0b1a  2024-05-12T14:53:27.624192       {}   \n",
       "2  76a3edf9bc1a7fdee1409c3a094bab33  2024-05-12T14:53:27.562190       {}   \n",
       "3  973c962151f28e536b6fdb1d8d6cc921  2024-05-12T14:53:27.562359       {}   \n",
       "4  bd9fd87cfdd7a9355c17ac76e1e6e927  2024-05-12T14:53:27.562382       {}   \n",
       "5  c81f07f74769e42b4c68b1b10e6ceaad  2024-05-12T14:53:27.647044       {}   \n",
       "\n",
       "           content                                          relations  \n",
       "0  have a good day  {'in': {'ln_id': 'a1da511cb7b9e91d801eb0fe7f89...  \n",
       "1  have a good day  {'in': {'ln_id': '00ae24773a491163ad0d21d2289e...  \n",
       "2                C  {'in': {'ln_id': '2de00b2784e45056d694a0f23eb7...  \n",
       "3                E  {'in': {'ln_id': '0146eff4a22e9cf9c5667a3fde9b...  \n",
       "4                F  {'in': {'ln_id': 'c42b0b17666ffba086ba0506fbed...  \n",
       "5      hello world  {'in': {'ln_id': 'e50f085e2c006f82c2fd2fb4ac70...  "
      ]
     },
     "execution_count": 16,
     "metadata": {},
     "output_type": "execute_result"
    }
   ],
   "source": [
    "# you can remove an element from the pile by -= an object directly\n",
    "p1 -= nodes1[1] # the original sequence second element was B\n",
    "p1.to_df()"
   ]
  },
  {
   "cell_type": "code",
   "execution_count": 17,
   "metadata": {},
   "outputs": [],
   "source": [
    "# p1.to_graph()"
   ]
  },
  {
   "cell_type": "code",
   "execution_count": 18,
   "metadata": {},
   "outputs": [
    {
     "data": {
      "text/plain": [
       "False"
      ]
     },
     "execution_count": 18,
     "metadata": {},
     "output_type": "execute_result"
    }
   ],
   "source": [
    "nodes1[1] in p1"
   ]
  },
  {
   "cell_type": "code",
   "execution_count": 19,
   "metadata": {},
   "outputs": [
    {
     "name": "stdout",
     "output_type": "stream",
     "text": [
      "Item not found. Item: 'ln_id        0d8f525609a97ac657ec71883a236864\n",
      "created            2024-05-12T14:53:27.561964\n",
      "metadata                                   {}\n",
      "content                                     B\n",
      "relations                              [0, 0]\n",
      "dtype: object'.\n"
     ]
    }
   ],
   "source": [
    "try:\n",
    "    p1 - nodes1[1]\n",
    "except Exception as e:\n",
    "    print(e)\n",
    "    "
   ]
  },
  {
   "cell_type": "code",
   "execution_count": 20,
   "metadata": {},
   "outputs": [
    {
     "data": {
      "text/plain": [
       "[]"
      ]
     },
     "execution_count": 20,
     "metadata": {},
     "output_type": "execute_result"
    }
   ],
   "source": [
    "a = li.pile()\n",
    "b = li.pile()\n",
    "\n",
    "list(a + b)"
   ]
  },
  {
   "cell_type": "code",
   "execution_count": 21,
   "metadata": {},
   "outputs": [
    {
     "data": {
      "text/plain": [
       "2"
      ]
     },
     "execution_count": 21,
     "metadata": {},
     "output_type": "execute_result"
    }
   ],
   "source": [
    "len([True, True])"
   ]
  },
  {
   "cell_type": "code",
   "execution_count": null,
   "metadata": {},
   "outputs": [],
   "source": []
  }
 ],
 "metadata": {
  "kernelspec": {
   "display_name": ".venv",
   "language": "python",
   "name": "python3"
  },
  "language_info": {
   "codemirror_mode": {
    "name": "ipython",
    "version": 3
   },
   "file_extension": ".py",
   "mimetype": "text/x-python",
   "name": "python",
   "nbconvert_exporter": "python",
   "pygments_lexer": "ipython3",
   "version": "3.11.6"
  }
 },
 "nbformat": 4,
 "nbformat_minor": 2
}
