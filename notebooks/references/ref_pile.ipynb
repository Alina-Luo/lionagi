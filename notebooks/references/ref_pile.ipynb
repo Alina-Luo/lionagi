{
 "cells": [
  {
   "cell_type": "markdown",
   "metadata": {},
   "source": [
    "### LionAGI pile\n",
    "\n",
    "pile object is used throughout lionagi system"
   ]
  },
  {
   "cell_type": "code",
   "execution_count": 1,
   "metadata": {},
   "outputs": [],
   "source": [
    "import lionagi as li"
   ]
  },
  {
   "cell_type": "code",
   "execution_count": 2,
   "metadata": {},
   "outputs": [],
   "source": [
    "# let us create some nodes and put into pile\n",
    "\n",
    "nodes1 = [li.Node(content=i) for i in [\"A\", \"B\", \"C\"]]\n",
    "nodes2 = [li.Node(content=i) for i in [\"D\", \"E\", \"F\"]]\n",
    "\n",
    "p1 = li.pile(nodes1)\n",
    "p2 = li.pile(nodes2)"
   ]
  },
  {
   "cell_type": "code",
   "execution_count": 3,
   "metadata": {},
   "outputs": [
    {
     "data": {
      "text/html": [
       "<div>\n",
       "<style scoped>\n",
       "    .dataframe tbody tr th:only-of-type {\n",
       "        vertical-align: middle;\n",
       "    }\n",
       "\n",
       "    .dataframe tbody tr th {\n",
       "        vertical-align: top;\n",
       "    }\n",
       "\n",
       "    .dataframe thead th {\n",
       "        text-align: right;\n",
       "    }\n",
       "</style>\n",
       "<table border=\"1\" class=\"dataframe\">\n",
       "  <thead>\n",
       "    <tr style=\"text-align: right;\">\n",
       "      <th></th>\n",
       "      <th>ln_id</th>\n",
       "      <th>created</th>\n",
       "      <th>metadata</th>\n",
       "      <th>content</th>\n",
       "      <th>relations</th>\n",
       "    </tr>\n",
       "  </thead>\n",
       "  <tbody>\n",
       "    <tr>\n",
       "      <th>0</th>\n",
       "      <td>fe113f7535d5fc7a13c2a39cf4988a85</td>\n",
       "      <td>2024-05-14T02:08:19.627716</td>\n",
       "      <td>{}</td>\n",
       "      <td>A</td>\n",
       "      <td>{'in': {'ln_id': '9614a5b636f38b686b16a55e9a68...</td>\n",
       "    </tr>\n",
       "    <tr>\n",
       "      <th>1</th>\n",
       "      <td>8ba59c0be228e9d6f95777ba4ce8fe0e</td>\n",
       "      <td>2024-05-14T02:08:19.627765</td>\n",
       "      <td>{}</td>\n",
       "      <td>B</td>\n",
       "      <td>{'in': {'ln_id': '168347c994109b7506c2a586e24a...</td>\n",
       "    </tr>\n",
       "    <tr>\n",
       "      <th>2</th>\n",
       "      <td>0f11633a9f33e7866c6bd8c7c9d574ec</td>\n",
       "      <td>2024-05-14T02:08:19.627794</td>\n",
       "      <td>{}</td>\n",
       "      <td>C</td>\n",
       "      <td>{'in': {'ln_id': 'dc68605d002dedf62e9918d4edbe...</td>\n",
       "    </tr>\n",
       "  </tbody>\n",
       "</table>\n",
       "</div>"
      ],
      "text/plain": [
       "                              ln_id                     created metadata  \\\n",
       "0  fe113f7535d5fc7a13c2a39cf4988a85  2024-05-14T02:08:19.627716       {}   \n",
       "1  8ba59c0be228e9d6f95777ba4ce8fe0e  2024-05-14T02:08:19.627765       {}   \n",
       "2  0f11633a9f33e7866c6bd8c7c9d574ec  2024-05-14T02:08:19.627794       {}   \n",
       "\n",
       "  content                                          relations  \n",
       "0       A  {'in': {'ln_id': '9614a5b636f38b686b16a55e9a68...  \n",
       "1       B  {'in': {'ln_id': '168347c994109b7506c2a586e24a...  \n",
       "2       C  {'in': {'ln_id': 'dc68605d002dedf62e9918d4edbe...  "
      ]
     },
     "execution_count": 3,
     "metadata": {},
     "output_type": "execute_result"
    }
   ],
   "source": [
    "p1.to_df()"
   ]
  },
  {
   "cell_type": "code",
   "execution_count": 4,
   "metadata": {},
   "outputs": [
    {
     "data": {
      "text/html": [
       "<div>\n",
       "<style scoped>\n",
       "    .dataframe tbody tr th:only-of-type {\n",
       "        vertical-align: middle;\n",
       "    }\n",
       "\n",
       "    .dataframe tbody tr th {\n",
       "        vertical-align: top;\n",
       "    }\n",
       "\n",
       "    .dataframe thead th {\n",
       "        text-align: right;\n",
       "    }\n",
       "</style>\n",
       "<table border=\"1\" class=\"dataframe\">\n",
       "  <thead>\n",
       "    <tr style=\"text-align: right;\">\n",
       "      <th></th>\n",
       "      <th>ln_id</th>\n",
       "      <th>created</th>\n",
       "      <th>metadata</th>\n",
       "      <th>content</th>\n",
       "      <th>relations</th>\n",
       "    </tr>\n",
       "  </thead>\n",
       "  <tbody>\n",
       "    <tr>\n",
       "      <th>0</th>\n",
       "      <td>fe113f7535d5fc7a13c2a39cf4988a85</td>\n",
       "      <td>2024-05-14T02:08:19.627716</td>\n",
       "      <td>{}</td>\n",
       "      <td>A</td>\n",
       "      <td>{'in': {'ln_id': '9614a5b636f38b686b16a55e9a68...</td>\n",
       "    </tr>\n",
       "    <tr>\n",
       "      <th>1</th>\n",
       "      <td>8ba59c0be228e9d6f95777ba4ce8fe0e</td>\n",
       "      <td>2024-05-14T02:08:19.627765</td>\n",
       "      <td>{}</td>\n",
       "      <td>B</td>\n",
       "      <td>{'in': {'ln_id': '168347c994109b7506c2a586e24a...</td>\n",
       "    </tr>\n",
       "    <tr>\n",
       "      <th>2</th>\n",
       "      <td>0f11633a9f33e7866c6bd8c7c9d574ec</td>\n",
       "      <td>2024-05-14T02:08:19.627794</td>\n",
       "      <td>{}</td>\n",
       "      <td>C</td>\n",
       "      <td>{'in': {'ln_id': 'dc68605d002dedf62e9918d4edbe...</td>\n",
       "    </tr>\n",
       "    <tr>\n",
       "      <th>3</th>\n",
       "      <td>465808ddaedb3584f7142e90795b5792</td>\n",
       "      <td>2024-05-14T02:08:19.627859</td>\n",
       "      <td>{}</td>\n",
       "      <td>D</td>\n",
       "      <td>{'in': {'ln_id': '858859716aad49bc9689281f49eb...</td>\n",
       "    </tr>\n",
       "    <tr>\n",
       "      <th>4</th>\n",
       "      <td>1719cfdb3758af5e1d459ec2c6068f7a</td>\n",
       "      <td>2024-05-14T02:08:19.627884</td>\n",
       "      <td>{}</td>\n",
       "      <td>E</td>\n",
       "      <td>{'in': {'ln_id': '41bafe78e6bea8a923bf63558e20...</td>\n",
       "    </tr>\n",
       "    <tr>\n",
       "      <th>5</th>\n",
       "      <td>5db3bd0ce6cacbad02131cc06b51c8f6</td>\n",
       "      <td>2024-05-14T02:08:19.627907</td>\n",
       "      <td>{}</td>\n",
       "      <td>F</td>\n",
       "      <td>{'in': {'ln_id': '8cb744ddd688adbca33cc90ce3d7...</td>\n",
       "    </tr>\n",
       "  </tbody>\n",
       "</table>\n",
       "</div>"
      ],
      "text/plain": [
       "                              ln_id                     created metadata  \\\n",
       "0  fe113f7535d5fc7a13c2a39cf4988a85  2024-05-14T02:08:19.627716       {}   \n",
       "1  8ba59c0be228e9d6f95777ba4ce8fe0e  2024-05-14T02:08:19.627765       {}   \n",
       "2  0f11633a9f33e7866c6bd8c7c9d574ec  2024-05-14T02:08:19.627794       {}   \n",
       "3  465808ddaedb3584f7142e90795b5792  2024-05-14T02:08:19.627859       {}   \n",
       "4  1719cfdb3758af5e1d459ec2c6068f7a  2024-05-14T02:08:19.627884       {}   \n",
       "5  5db3bd0ce6cacbad02131cc06b51c8f6  2024-05-14T02:08:19.627907       {}   \n",
       "\n",
       "  content                                          relations  \n",
       "0       A  {'in': {'ln_id': '9614a5b636f38b686b16a55e9a68...  \n",
       "1       B  {'in': {'ln_id': '168347c994109b7506c2a586e24a...  \n",
       "2       C  {'in': {'ln_id': 'dc68605d002dedf62e9918d4edbe...  \n",
       "3       D  {'in': {'ln_id': '858859716aad49bc9689281f49eb...  \n",
       "4       E  {'in': {'ln_id': '41bafe78e6bea8a923bf63558e20...  \n",
       "5       F  {'in': {'ln_id': '8cb744ddd688adbca33cc90ce3d7...  "
      ]
     },
     "execution_count": 4,
     "metadata": {},
     "output_type": "execute_result"
    }
   ],
   "source": [
    "## addition\n",
    "\n",
    "(p1 + p2).to_df()"
   ]
  },
  {
   "cell_type": "code",
   "execution_count": 5,
   "metadata": {},
   "outputs": [
    {
     "data": {
      "text/html": [
       "<div>\n",
       "<style scoped>\n",
       "    .dataframe tbody tr th:only-of-type {\n",
       "        vertical-align: middle;\n",
       "    }\n",
       "\n",
       "    .dataframe tbody tr th {\n",
       "        vertical-align: top;\n",
       "    }\n",
       "\n",
       "    .dataframe thead th {\n",
       "        text-align: right;\n",
       "    }\n",
       "</style>\n",
       "<table border=\"1\" class=\"dataframe\">\n",
       "  <thead>\n",
       "    <tr style=\"text-align: right;\">\n",
       "      <th></th>\n",
       "      <th>ln_id</th>\n",
       "      <th>created</th>\n",
       "      <th>metadata</th>\n",
       "      <th>content</th>\n",
       "      <th>relations</th>\n",
       "    </tr>\n",
       "  </thead>\n",
       "  <tbody>\n",
       "    <tr>\n",
       "      <th>0</th>\n",
       "      <td>fe113f7535d5fc7a13c2a39cf4988a85</td>\n",
       "      <td>2024-05-14T02:08:19.627716</td>\n",
       "      <td>{}</td>\n",
       "      <td>A</td>\n",
       "      <td>{'in': {'ln_id': '9614a5b636f38b686b16a55e9a68...</td>\n",
       "    </tr>\n",
       "    <tr>\n",
       "      <th>1</th>\n",
       "      <td>8ba59c0be228e9d6f95777ba4ce8fe0e</td>\n",
       "      <td>2024-05-14T02:08:19.627765</td>\n",
       "      <td>{}</td>\n",
       "      <td>B</td>\n",
       "      <td>{'in': {'ln_id': '168347c994109b7506c2a586e24a...</td>\n",
       "    </tr>\n",
       "    <tr>\n",
       "      <th>2</th>\n",
       "      <td>0f11633a9f33e7866c6bd8c7c9d574ec</td>\n",
       "      <td>2024-05-14T02:08:19.627794</td>\n",
       "      <td>{}</td>\n",
       "      <td>C</td>\n",
       "      <td>{'in': {'ln_id': 'dc68605d002dedf62e9918d4edbe...</td>\n",
       "    </tr>\n",
       "  </tbody>\n",
       "</table>\n",
       "</div>"
      ],
      "text/plain": [
       "                              ln_id                     created metadata  \\\n",
       "0  fe113f7535d5fc7a13c2a39cf4988a85  2024-05-14T02:08:19.627716       {}   \n",
       "1  8ba59c0be228e9d6f95777ba4ce8fe0e  2024-05-14T02:08:19.627765       {}   \n",
       "2  0f11633a9f33e7866c6bd8c7c9d574ec  2024-05-14T02:08:19.627794       {}   \n",
       "\n",
       "  content                                          relations  \n",
       "0       A  {'in': {'ln_id': '9614a5b636f38b686b16a55e9a68...  \n",
       "1       B  {'in': {'ln_id': '168347c994109b7506c2a586e24a...  \n",
       "2       C  {'in': {'ln_id': 'dc68605d002dedf62e9918d4edbe...  "
      ]
     },
     "execution_count": 5,
     "metadata": {},
     "output_type": "execute_result"
    }
   ],
   "source": [
    "p1.to_df()"
   ]
  },
  {
   "cell_type": "code",
   "execution_count": 6,
   "metadata": {},
   "outputs": [
    {
     "name": "stdout",
     "output_type": "stream",
     "text": [
      "Item not found. Item: '                              ln_id                     created metadata  \\\n",
      "0  465808ddaedb3584f7142e90795b5792  2024-05-14T02:08:19.627859       {}   \n",
      "1  1719cfdb3758af5e1d459ec2c6068f7a  2024-05-14T02:08:19.627884       {}   \n",
      "2  5db3bd0ce6cacbad02131cc06b51c8f6  2024-05-14T02:08:19.627907       {}   \n",
      "\n",
      "  content                                          relations  \n",
      "0       D  {'in': {'ln_id': '858859716aad49bc9689281f49eb...  \n",
      "1       E  {'in': {'ln_id': '41bafe78e6bea8a923bf63558e20...  \n",
      "2       F  {'in': {'ln_id': '8cb744ddd688adbca33cc90ce3d7...  '.\n"
     ]
    }
   ],
   "source": [
    "## subtraction\n",
    "\n",
    "try:\n",
    "    (p1-p2).to_df()\n",
    "except Exception as e:\n",
    "    print(e)"
   ]
  },
  {
   "cell_type": "code",
   "execution_count": 7,
   "metadata": {},
   "outputs": [
    {
     "data": {
      "text/plain": [
       "False"
      ]
     },
     "execution_count": 7,
     "metadata": {},
     "output_type": "execute_result"
    }
   ],
   "source": [
    "## containment\n",
    "\n",
    "p1 in p2"
   ]
  },
  {
   "cell_type": "code",
   "execution_count": 8,
   "metadata": {},
   "outputs": [
    {
     "name": "stdout",
     "output_type": "stream",
     "text": [
      "True\n"
     ]
    },
    {
     "data": {
      "text/html": [
       "<div>\n",
       "<style scoped>\n",
       "    .dataframe tbody tr th:only-of-type {\n",
       "        vertical-align: middle;\n",
       "    }\n",
       "\n",
       "    .dataframe tbody tr th {\n",
       "        vertical-align: top;\n",
       "    }\n",
       "\n",
       "    .dataframe thead th {\n",
       "        text-align: right;\n",
       "    }\n",
       "</style>\n",
       "<table border=\"1\" class=\"dataframe\">\n",
       "  <thead>\n",
       "    <tr style=\"text-align: right;\">\n",
       "      <th></th>\n",
       "      <th>ln_id</th>\n",
       "      <th>created</th>\n",
       "      <th>metadata</th>\n",
       "      <th>content</th>\n",
       "      <th>relations</th>\n",
       "    </tr>\n",
       "  </thead>\n",
       "  <tbody>\n",
       "    <tr>\n",
       "      <th>0</th>\n",
       "      <td>fe113f7535d5fc7a13c2a39cf4988a85</td>\n",
       "      <td>2024-05-14T02:08:19.627716</td>\n",
       "      <td>{}</td>\n",
       "      <td>A</td>\n",
       "      <td>{'in': {'ln_id': '9614a5b636f38b686b16a55e9a68...</td>\n",
       "    </tr>\n",
       "    <tr>\n",
       "      <th>1</th>\n",
       "      <td>8ba59c0be228e9d6f95777ba4ce8fe0e</td>\n",
       "      <td>2024-05-14T02:08:19.627765</td>\n",
       "      <td>{}</td>\n",
       "      <td>B</td>\n",
       "      <td>{'in': {'ln_id': '168347c994109b7506c2a586e24a...</td>\n",
       "    </tr>\n",
       "    <tr>\n",
       "      <th>2</th>\n",
       "      <td>0f11633a9f33e7866c6bd8c7c9d574ec</td>\n",
       "      <td>2024-05-14T02:08:19.627794</td>\n",
       "      <td>{}</td>\n",
       "      <td>C</td>\n",
       "      <td>{'in': {'ln_id': 'dc68605d002dedf62e9918d4edbe...</td>\n",
       "    </tr>\n",
       "    <tr>\n",
       "      <th>3</th>\n",
       "      <td>465808ddaedb3584f7142e90795b5792</td>\n",
       "      <td>2024-05-14T02:08:19.627859</td>\n",
       "      <td>{}</td>\n",
       "      <td>D</td>\n",
       "      <td>{'in': {'ln_id': '858859716aad49bc9689281f49eb...</td>\n",
       "    </tr>\n",
       "    <tr>\n",
       "      <th>4</th>\n",
       "      <td>1719cfdb3758af5e1d459ec2c6068f7a</td>\n",
       "      <td>2024-05-14T02:08:19.627884</td>\n",
       "      <td>{}</td>\n",
       "      <td>E</td>\n",
       "      <td>{'in': {'ln_id': '41bafe78e6bea8a923bf63558e20...</td>\n",
       "    </tr>\n",
       "    <tr>\n",
       "      <th>5</th>\n",
       "      <td>5db3bd0ce6cacbad02131cc06b51c8f6</td>\n",
       "      <td>2024-05-14T02:08:19.627907</td>\n",
       "      <td>{}</td>\n",
       "      <td>F</td>\n",
       "      <td>{'in': {'ln_id': '8cb744ddd688adbca33cc90ce3d7...</td>\n",
       "    </tr>\n",
       "  </tbody>\n",
       "</table>\n",
       "</div>"
      ],
      "text/plain": [
       "                              ln_id                     created metadata  \\\n",
       "0  fe113f7535d5fc7a13c2a39cf4988a85  2024-05-14T02:08:19.627716       {}   \n",
       "1  8ba59c0be228e9d6f95777ba4ce8fe0e  2024-05-14T02:08:19.627765       {}   \n",
       "2  0f11633a9f33e7866c6bd8c7c9d574ec  2024-05-14T02:08:19.627794       {}   \n",
       "3  465808ddaedb3584f7142e90795b5792  2024-05-14T02:08:19.627859       {}   \n",
       "4  1719cfdb3758af5e1d459ec2c6068f7a  2024-05-14T02:08:19.627884       {}   \n",
       "5  5db3bd0ce6cacbad02131cc06b51c8f6  2024-05-14T02:08:19.627907       {}   \n",
       "\n",
       "  content                                          relations  \n",
       "0       A  {'in': {'ln_id': '9614a5b636f38b686b16a55e9a68...  \n",
       "1       B  {'in': {'ln_id': '168347c994109b7506c2a586e24a...  \n",
       "2       C  {'in': {'ln_id': 'dc68605d002dedf62e9918d4edbe...  \n",
       "3       D  {'in': {'ln_id': '858859716aad49bc9689281f49eb...  \n",
       "4       E  {'in': {'ln_id': '41bafe78e6bea8a923bf63558e20...  \n",
       "5       F  {'in': {'ln_id': '8cb744ddd688adbca33cc90ce3d7...  "
      ]
     },
     "execution_count": 8,
     "metadata": {},
     "output_type": "execute_result"
    }
   ],
   "source": [
    "## inclusion\n",
    "\n",
    "print(p1.include(p2))\n",
    "p1.to_df()"
   ]
  },
  {
   "cell_type": "code",
   "execution_count": 9,
   "metadata": {},
   "outputs": [
    {
     "name": "stdout",
     "output_type": "stream",
     "text": [
      "True\n"
     ]
    },
    {
     "data": {
      "text/html": [
       "<div>\n",
       "<style scoped>\n",
       "    .dataframe tbody tr th:only-of-type {\n",
       "        vertical-align: middle;\n",
       "    }\n",
       "\n",
       "    .dataframe tbody tr th {\n",
       "        vertical-align: top;\n",
       "    }\n",
       "\n",
       "    .dataframe thead th {\n",
       "        text-align: right;\n",
       "    }\n",
       "</style>\n",
       "<table border=\"1\" class=\"dataframe\">\n",
       "  <thead>\n",
       "    <tr style=\"text-align: right;\">\n",
       "      <th></th>\n",
       "      <th>ln_id</th>\n",
       "      <th>created</th>\n",
       "      <th>metadata</th>\n",
       "      <th>content</th>\n",
       "      <th>relations</th>\n",
       "    </tr>\n",
       "  </thead>\n",
       "  <tbody>\n",
       "    <tr>\n",
       "      <th>0</th>\n",
       "      <td>fe113f7535d5fc7a13c2a39cf4988a85</td>\n",
       "      <td>2024-05-14T02:08:19.627716</td>\n",
       "      <td>{}</td>\n",
       "      <td>A</td>\n",
       "      <td>{'in': {'ln_id': '9614a5b636f38b686b16a55e9a68...</td>\n",
       "    </tr>\n",
       "    <tr>\n",
       "      <th>1</th>\n",
       "      <td>8ba59c0be228e9d6f95777ba4ce8fe0e</td>\n",
       "      <td>2024-05-14T02:08:19.627765</td>\n",
       "      <td>{}</td>\n",
       "      <td>B</td>\n",
       "      <td>{'in': {'ln_id': '168347c994109b7506c2a586e24a...</td>\n",
       "    </tr>\n",
       "    <tr>\n",
       "      <th>2</th>\n",
       "      <td>0f11633a9f33e7866c6bd8c7c9d574ec</td>\n",
       "      <td>2024-05-14T02:08:19.627794</td>\n",
       "      <td>{}</td>\n",
       "      <td>C</td>\n",
       "      <td>{'in': {'ln_id': 'dc68605d002dedf62e9918d4edbe...</td>\n",
       "    </tr>\n",
       "    <tr>\n",
       "      <th>3</th>\n",
       "      <td>1719cfdb3758af5e1d459ec2c6068f7a</td>\n",
       "      <td>2024-05-14T02:08:19.627884</td>\n",
       "      <td>{}</td>\n",
       "      <td>E</td>\n",
       "      <td>{'in': {'ln_id': '41bafe78e6bea8a923bf63558e20...</td>\n",
       "    </tr>\n",
       "    <tr>\n",
       "      <th>4</th>\n",
       "      <td>5db3bd0ce6cacbad02131cc06b51c8f6</td>\n",
       "      <td>2024-05-14T02:08:19.627907</td>\n",
       "      <td>{}</td>\n",
       "      <td>F</td>\n",
       "      <td>{'in': {'ln_id': '8cb744ddd688adbca33cc90ce3d7...</td>\n",
       "    </tr>\n",
       "  </tbody>\n",
       "</table>\n",
       "</div>"
      ],
      "text/plain": [
       "                              ln_id                     created metadata  \\\n",
       "0  fe113f7535d5fc7a13c2a39cf4988a85  2024-05-14T02:08:19.627716       {}   \n",
       "1  8ba59c0be228e9d6f95777ba4ce8fe0e  2024-05-14T02:08:19.627765       {}   \n",
       "2  0f11633a9f33e7866c6bd8c7c9d574ec  2024-05-14T02:08:19.627794       {}   \n",
       "3  1719cfdb3758af5e1d459ec2c6068f7a  2024-05-14T02:08:19.627884       {}   \n",
       "4  5db3bd0ce6cacbad02131cc06b51c8f6  2024-05-14T02:08:19.627907       {}   \n",
       "\n",
       "  content                                          relations  \n",
       "0       A  {'in': {'ln_id': '9614a5b636f38b686b16a55e9a68...  \n",
       "1       B  {'in': {'ln_id': '168347c994109b7506c2a586e24a...  \n",
       "2       C  {'in': {'ln_id': 'dc68605d002dedf62e9918d4edbe...  \n",
       "3       E  {'in': {'ln_id': '41bafe78e6bea8a923bf63558e20...  \n",
       "4       F  {'in': {'ln_id': '8cb744ddd688adbca33cc90ce3d7...  "
      ]
     },
     "execution_count": 9,
     "metadata": {},
     "output_type": "execute_result"
    }
   ],
   "source": [
    "## exclusion\n",
    "\n",
    "print(p1.exclude(p2))\n",
    "p1.to_df()"
   ]
  },
  {
   "cell_type": "code",
   "execution_count": 10,
   "metadata": {},
   "outputs": [
    {
     "data": {
      "text/plain": [
       "ln_id        465808ddaedb3584f7142e90795b5792\n",
       "created            2024-05-14T02:08:19.627859\n",
       "metadata                                   {}\n",
       "content                                     D\n",
       "relations                              [0, 0]\n",
       "dtype: object"
      ]
     },
     "execution_count": 10,
     "metadata": {},
     "output_type": "execute_result"
    }
   ],
   "source": [
    "## get item\n",
    "\n",
    "aa = p2[0]\n",
    "aa"
   ]
  },
  {
   "cell_type": "code",
   "execution_count": 11,
   "metadata": {},
   "outputs": [
    {
     "data": {
      "text/html": [
       "<div>\n",
       "<style scoped>\n",
       "    .dataframe tbody tr th:only-of-type {\n",
       "        vertical-align: middle;\n",
       "    }\n",
       "\n",
       "    .dataframe tbody tr th {\n",
       "        vertical-align: top;\n",
       "    }\n",
       "\n",
       "    .dataframe thead th {\n",
       "        text-align: right;\n",
       "    }\n",
       "</style>\n",
       "<table border=\"1\" class=\"dataframe\">\n",
       "  <thead>\n",
       "    <tr style=\"text-align: right;\">\n",
       "      <th></th>\n",
       "      <th>ln_id</th>\n",
       "      <th>created</th>\n",
       "      <th>metadata</th>\n",
       "      <th>content</th>\n",
       "      <th>relations</th>\n",
       "    </tr>\n",
       "  </thead>\n",
       "  <tbody>\n",
       "    <tr>\n",
       "      <th>0</th>\n",
       "      <td>59e43c92f08df845e20d080bbc6866c2</td>\n",
       "      <td>2024-05-14T02:08:19.687793</td>\n",
       "      <td>{}</td>\n",
       "      <td>have a good day</td>\n",
       "      <td>{'in': {'ln_id': '420b25b5b1cc011dec9b2b3b9328...</td>\n",
       "    </tr>\n",
       "    <tr>\n",
       "      <th>1</th>\n",
       "      <td>8ba59c0be228e9d6f95777ba4ce8fe0e</td>\n",
       "      <td>2024-05-14T02:08:19.627765</td>\n",
       "      <td>{}</td>\n",
       "      <td>B</td>\n",
       "      <td>{'in': {'ln_id': '168347c994109b7506c2a586e24a...</td>\n",
       "    </tr>\n",
       "    <tr>\n",
       "      <th>2</th>\n",
       "      <td>0f11633a9f33e7866c6bd8c7c9d574ec</td>\n",
       "      <td>2024-05-14T02:08:19.627794</td>\n",
       "      <td>{}</td>\n",
       "      <td>C</td>\n",
       "      <td>{'in': {'ln_id': 'dc68605d002dedf62e9918d4edbe...</td>\n",
       "    </tr>\n",
       "    <tr>\n",
       "      <th>3</th>\n",
       "      <td>1719cfdb3758af5e1d459ec2c6068f7a</td>\n",
       "      <td>2024-05-14T02:08:19.627884</td>\n",
       "      <td>{}</td>\n",
       "      <td>E</td>\n",
       "      <td>{'in': {'ln_id': '41bafe78e6bea8a923bf63558e20...</td>\n",
       "    </tr>\n",
       "    <tr>\n",
       "      <th>4</th>\n",
       "      <td>5db3bd0ce6cacbad02131cc06b51c8f6</td>\n",
       "      <td>2024-05-14T02:08:19.627907</td>\n",
       "      <td>{}</td>\n",
       "      <td>F</td>\n",
       "      <td>{'in': {'ln_id': '8cb744ddd688adbca33cc90ce3d7...</td>\n",
       "    </tr>\n",
       "  </tbody>\n",
       "</table>\n",
       "</div>"
      ],
      "text/plain": [
       "                              ln_id                     created metadata  \\\n",
       "0  59e43c92f08df845e20d080bbc6866c2  2024-05-14T02:08:19.687793       {}   \n",
       "1  8ba59c0be228e9d6f95777ba4ce8fe0e  2024-05-14T02:08:19.627765       {}   \n",
       "2  0f11633a9f33e7866c6bd8c7c9d574ec  2024-05-14T02:08:19.627794       {}   \n",
       "3  1719cfdb3758af5e1d459ec2c6068f7a  2024-05-14T02:08:19.627884       {}   \n",
       "4  5db3bd0ce6cacbad02131cc06b51c8f6  2024-05-14T02:08:19.627907       {}   \n",
       "\n",
       "           content                                          relations  \n",
       "0  have a good day  {'in': {'ln_id': '420b25b5b1cc011dec9b2b3b9328...  \n",
       "1                B  {'in': {'ln_id': '168347c994109b7506c2a586e24a...  \n",
       "2                C  {'in': {'ln_id': 'dc68605d002dedf62e9918d4edbe...  \n",
       "3                E  {'in': {'ln_id': '41bafe78e6bea8a923bf63558e20...  \n",
       "4                F  {'in': {'ln_id': '8cb744ddd688adbca33cc90ce3d7...  "
      ]
     },
     "execution_count": 11,
     "metadata": {},
     "output_type": "execute_result"
    }
   ],
   "source": [
    "## set item\n",
    "\n",
    "p1[0] = li.Node(content=\"have a good day\")\n",
    "p1.to_df()"
   ]
  },
  {
   "cell_type": "code",
   "execution_count": 12,
   "metadata": {},
   "outputs": [],
   "source": [
    "# p1[:4] = li.pile([li.Node(content=\"have a good day\") for i in range(4)])"
   ]
  },
  {
   "cell_type": "code",
   "execution_count": 13,
   "metadata": {},
   "outputs": [],
   "source": [
    "p1.insert(0, li.Node(content=\"have a good day\"))"
   ]
  },
  {
   "cell_type": "code",
   "execution_count": 14,
   "metadata": {},
   "outputs": [
    {
     "data": {
      "text/html": [
       "<div>\n",
       "<style scoped>\n",
       "    .dataframe tbody tr th:only-of-type {\n",
       "        vertical-align: middle;\n",
       "    }\n",
       "\n",
       "    .dataframe tbody tr th {\n",
       "        vertical-align: top;\n",
       "    }\n",
       "\n",
       "    .dataframe thead th {\n",
       "        text-align: right;\n",
       "    }\n",
       "</style>\n",
       "<table border=\"1\" class=\"dataframe\">\n",
       "  <thead>\n",
       "    <tr style=\"text-align: right;\">\n",
       "      <th></th>\n",
       "      <th>ln_id</th>\n",
       "      <th>created</th>\n",
       "      <th>metadata</th>\n",
       "      <th>content</th>\n",
       "      <th>relations</th>\n",
       "    </tr>\n",
       "  </thead>\n",
       "  <tbody>\n",
       "    <tr>\n",
       "      <th>0</th>\n",
       "      <td>099cf0b20fc92ad173e3d25ddb8f886c</td>\n",
       "      <td>2024-05-14T02:08:19.699664</td>\n",
       "      <td>{}</td>\n",
       "      <td>have a good day</td>\n",
       "      <td>{'in': {'ln_id': '54b6fbef6f8df99b0c4cc986c334...</td>\n",
       "    </tr>\n",
       "    <tr>\n",
       "      <th>1</th>\n",
       "      <td>59e43c92f08df845e20d080bbc6866c2</td>\n",
       "      <td>2024-05-14T02:08:19.687793</td>\n",
       "      <td>{}</td>\n",
       "      <td>have a good day</td>\n",
       "      <td>{'in': {'ln_id': '420b25b5b1cc011dec9b2b3b9328...</td>\n",
       "    </tr>\n",
       "    <tr>\n",
       "      <th>2</th>\n",
       "      <td>8ba59c0be228e9d6f95777ba4ce8fe0e</td>\n",
       "      <td>2024-05-14T02:08:19.627765</td>\n",
       "      <td>{}</td>\n",
       "      <td>B</td>\n",
       "      <td>{'in': {'ln_id': '168347c994109b7506c2a586e24a...</td>\n",
       "    </tr>\n",
       "    <tr>\n",
       "      <th>3</th>\n",
       "      <td>0f11633a9f33e7866c6bd8c7c9d574ec</td>\n",
       "      <td>2024-05-14T02:08:19.627794</td>\n",
       "      <td>{}</td>\n",
       "      <td>C</td>\n",
       "      <td>{'in': {'ln_id': 'dc68605d002dedf62e9918d4edbe...</td>\n",
       "    </tr>\n",
       "    <tr>\n",
       "      <th>4</th>\n",
       "      <td>1719cfdb3758af5e1d459ec2c6068f7a</td>\n",
       "      <td>2024-05-14T02:08:19.627884</td>\n",
       "      <td>{}</td>\n",
       "      <td>E</td>\n",
       "      <td>{'in': {'ln_id': '41bafe78e6bea8a923bf63558e20...</td>\n",
       "    </tr>\n",
       "    <tr>\n",
       "      <th>5</th>\n",
       "      <td>5db3bd0ce6cacbad02131cc06b51c8f6</td>\n",
       "      <td>2024-05-14T02:08:19.627907</td>\n",
       "      <td>{}</td>\n",
       "      <td>F</td>\n",
       "      <td>{'in': {'ln_id': '8cb744ddd688adbca33cc90ce3d7...</td>\n",
       "    </tr>\n",
       "  </tbody>\n",
       "</table>\n",
       "</div>"
      ],
      "text/plain": [
       "                              ln_id                     created metadata  \\\n",
       "0  099cf0b20fc92ad173e3d25ddb8f886c  2024-05-14T02:08:19.699664       {}   \n",
       "1  59e43c92f08df845e20d080bbc6866c2  2024-05-14T02:08:19.687793       {}   \n",
       "2  8ba59c0be228e9d6f95777ba4ce8fe0e  2024-05-14T02:08:19.627765       {}   \n",
       "3  0f11633a9f33e7866c6bd8c7c9d574ec  2024-05-14T02:08:19.627794       {}   \n",
       "4  1719cfdb3758af5e1d459ec2c6068f7a  2024-05-14T02:08:19.627884       {}   \n",
       "5  5db3bd0ce6cacbad02131cc06b51c8f6  2024-05-14T02:08:19.627907       {}   \n",
       "\n",
       "           content                                          relations  \n",
       "0  have a good day  {'in': {'ln_id': '54b6fbef6f8df99b0c4cc986c334...  \n",
       "1  have a good day  {'in': {'ln_id': '420b25b5b1cc011dec9b2b3b9328...  \n",
       "2                B  {'in': {'ln_id': '168347c994109b7506c2a586e24a...  \n",
       "3                C  {'in': {'ln_id': 'dc68605d002dedf62e9918d4edbe...  \n",
       "4                E  {'in': {'ln_id': '41bafe78e6bea8a923bf63558e20...  \n",
       "5                F  {'in': {'ln_id': '8cb744ddd688adbca33cc90ce3d7...  "
      ]
     },
     "execution_count": 14,
     "metadata": {},
     "output_type": "execute_result"
    }
   ],
   "source": [
    "p1.to_df()"
   ]
  },
  {
   "cell_type": "code",
   "execution_count": 15,
   "metadata": {},
   "outputs": [
    {
     "data": {
      "text/html": [
       "<div>\n",
       "<style scoped>\n",
       "    .dataframe tbody tr th:only-of-type {\n",
       "        vertical-align: middle;\n",
       "    }\n",
       "\n",
       "    .dataframe tbody tr th {\n",
       "        vertical-align: top;\n",
       "    }\n",
       "\n",
       "    .dataframe thead th {\n",
       "        text-align: right;\n",
       "    }\n",
       "</style>\n",
       "<table border=\"1\" class=\"dataframe\">\n",
       "  <thead>\n",
       "    <tr style=\"text-align: right;\">\n",
       "      <th></th>\n",
       "      <th>ln_id</th>\n",
       "      <th>created</th>\n",
       "      <th>metadata</th>\n",
       "      <th>content</th>\n",
       "      <th>relations</th>\n",
       "    </tr>\n",
       "  </thead>\n",
       "  <tbody>\n",
       "    <tr>\n",
       "      <th>0</th>\n",
       "      <td>099cf0b20fc92ad173e3d25ddb8f886c</td>\n",
       "      <td>2024-05-14T02:08:19.699664</td>\n",
       "      <td>{}</td>\n",
       "      <td>have a good day</td>\n",
       "      <td>{'in': {'ln_id': '54b6fbef6f8df99b0c4cc986c334...</td>\n",
       "    </tr>\n",
       "    <tr>\n",
       "      <th>1</th>\n",
       "      <td>59e43c92f08df845e20d080bbc6866c2</td>\n",
       "      <td>2024-05-14T02:08:19.687793</td>\n",
       "      <td>{}</td>\n",
       "      <td>have a good day</td>\n",
       "      <td>{'in': {'ln_id': '420b25b5b1cc011dec9b2b3b9328...</td>\n",
       "    </tr>\n",
       "    <tr>\n",
       "      <th>2</th>\n",
       "      <td>8ba59c0be228e9d6f95777ba4ce8fe0e</td>\n",
       "      <td>2024-05-14T02:08:19.627765</td>\n",
       "      <td>{}</td>\n",
       "      <td>B</td>\n",
       "      <td>{'in': {'ln_id': '168347c994109b7506c2a586e24a...</td>\n",
       "    </tr>\n",
       "    <tr>\n",
       "      <th>3</th>\n",
       "      <td>0f11633a9f33e7866c6bd8c7c9d574ec</td>\n",
       "      <td>2024-05-14T02:08:19.627794</td>\n",
       "      <td>{}</td>\n",
       "      <td>C</td>\n",
       "      <td>{'in': {'ln_id': 'dc68605d002dedf62e9918d4edbe...</td>\n",
       "    </tr>\n",
       "    <tr>\n",
       "      <th>4</th>\n",
       "      <td>1719cfdb3758af5e1d459ec2c6068f7a</td>\n",
       "      <td>2024-05-14T02:08:19.627884</td>\n",
       "      <td>{}</td>\n",
       "      <td>E</td>\n",
       "      <td>{'in': {'ln_id': '41bafe78e6bea8a923bf63558e20...</td>\n",
       "    </tr>\n",
       "    <tr>\n",
       "      <th>5</th>\n",
       "      <td>5db3bd0ce6cacbad02131cc06b51c8f6</td>\n",
       "      <td>2024-05-14T02:08:19.627907</td>\n",
       "      <td>{}</td>\n",
       "      <td>F</td>\n",
       "      <td>{'in': {'ln_id': '8cb744ddd688adbca33cc90ce3d7...</td>\n",
       "    </tr>\n",
       "    <tr>\n",
       "      <th>6</th>\n",
       "      <td>1fa0a179f4746aacc5885a9608d6ff0d</td>\n",
       "      <td>2024-05-14T02:08:19.711415</td>\n",
       "      <td>{}</td>\n",
       "      <td>hello world</td>\n",
       "      <td>{'in': {'ln_id': '60fc4e543b9f2d390000f02157b2...</td>\n",
       "    </tr>\n",
       "  </tbody>\n",
       "</table>\n",
       "</div>"
      ],
      "text/plain": [
       "                              ln_id                     created metadata  \\\n",
       "0  099cf0b20fc92ad173e3d25ddb8f886c  2024-05-14T02:08:19.699664       {}   \n",
       "1  59e43c92f08df845e20d080bbc6866c2  2024-05-14T02:08:19.687793       {}   \n",
       "2  8ba59c0be228e9d6f95777ba4ce8fe0e  2024-05-14T02:08:19.627765       {}   \n",
       "3  0f11633a9f33e7866c6bd8c7c9d574ec  2024-05-14T02:08:19.627794       {}   \n",
       "4  1719cfdb3758af5e1d459ec2c6068f7a  2024-05-14T02:08:19.627884       {}   \n",
       "5  5db3bd0ce6cacbad02131cc06b51c8f6  2024-05-14T02:08:19.627907       {}   \n",
       "6  1fa0a179f4746aacc5885a9608d6ff0d  2024-05-14T02:08:19.711415       {}   \n",
       "\n",
       "           content                                          relations  \n",
       "0  have a good day  {'in': {'ln_id': '54b6fbef6f8df99b0c4cc986c334...  \n",
       "1  have a good day  {'in': {'ln_id': '420b25b5b1cc011dec9b2b3b9328...  \n",
       "2                B  {'in': {'ln_id': '168347c994109b7506c2a586e24a...  \n",
       "3                C  {'in': {'ln_id': 'dc68605d002dedf62e9918d4edbe...  \n",
       "4                E  {'in': {'ln_id': '41bafe78e6bea8a923bf63558e20...  \n",
       "5                F  {'in': {'ln_id': '8cb744ddd688adbca33cc90ce3d7...  \n",
       "6      hello world  {'in': {'ln_id': '60fc4e543b9f2d390000f02157b2...  "
      ]
     },
     "execution_count": 15,
     "metadata": {},
     "output_type": "execute_result"
    }
   ],
   "source": [
    "## other\n",
    "node = li.Node(content=\"hello world\")\n",
    "p1 += node\n",
    "p1.to_df()"
   ]
  },
  {
   "cell_type": "code",
   "execution_count": 16,
   "metadata": {},
   "outputs": [
    {
     "data": {
      "text/html": [
       "<div>\n",
       "<style scoped>\n",
       "    .dataframe tbody tr th:only-of-type {\n",
       "        vertical-align: middle;\n",
       "    }\n",
       "\n",
       "    .dataframe tbody tr th {\n",
       "        vertical-align: top;\n",
       "    }\n",
       "\n",
       "    .dataframe thead th {\n",
       "        text-align: right;\n",
       "    }\n",
       "</style>\n",
       "<table border=\"1\" class=\"dataframe\">\n",
       "  <thead>\n",
       "    <tr style=\"text-align: right;\">\n",
       "      <th></th>\n",
       "      <th>ln_id</th>\n",
       "      <th>created</th>\n",
       "      <th>metadata</th>\n",
       "      <th>content</th>\n",
       "      <th>relations</th>\n",
       "    </tr>\n",
       "  </thead>\n",
       "  <tbody>\n",
       "    <tr>\n",
       "      <th>0</th>\n",
       "      <td>099cf0b20fc92ad173e3d25ddb8f886c</td>\n",
       "      <td>2024-05-14T02:08:19.699664</td>\n",
       "      <td>{}</td>\n",
       "      <td>have a good day</td>\n",
       "      <td>{'in': {'ln_id': '54b6fbef6f8df99b0c4cc986c334...</td>\n",
       "    </tr>\n",
       "    <tr>\n",
       "      <th>1</th>\n",
       "      <td>59e43c92f08df845e20d080bbc6866c2</td>\n",
       "      <td>2024-05-14T02:08:19.687793</td>\n",
       "      <td>{}</td>\n",
       "      <td>have a good day</td>\n",
       "      <td>{'in': {'ln_id': '420b25b5b1cc011dec9b2b3b9328...</td>\n",
       "    </tr>\n",
       "    <tr>\n",
       "      <th>2</th>\n",
       "      <td>0f11633a9f33e7866c6bd8c7c9d574ec</td>\n",
       "      <td>2024-05-14T02:08:19.627794</td>\n",
       "      <td>{}</td>\n",
       "      <td>C</td>\n",
       "      <td>{'in': {'ln_id': 'dc68605d002dedf62e9918d4edbe...</td>\n",
       "    </tr>\n",
       "    <tr>\n",
       "      <th>3</th>\n",
       "      <td>1719cfdb3758af5e1d459ec2c6068f7a</td>\n",
       "      <td>2024-05-14T02:08:19.627884</td>\n",
       "      <td>{}</td>\n",
       "      <td>E</td>\n",
       "      <td>{'in': {'ln_id': '41bafe78e6bea8a923bf63558e20...</td>\n",
       "    </tr>\n",
       "    <tr>\n",
       "      <th>4</th>\n",
       "      <td>5db3bd0ce6cacbad02131cc06b51c8f6</td>\n",
       "      <td>2024-05-14T02:08:19.627907</td>\n",
       "      <td>{}</td>\n",
       "      <td>F</td>\n",
       "      <td>{'in': {'ln_id': '8cb744ddd688adbca33cc90ce3d7...</td>\n",
       "    </tr>\n",
       "    <tr>\n",
       "      <th>5</th>\n",
       "      <td>1fa0a179f4746aacc5885a9608d6ff0d</td>\n",
       "      <td>2024-05-14T02:08:19.711415</td>\n",
       "      <td>{}</td>\n",
       "      <td>hello world</td>\n",
       "      <td>{'in': {'ln_id': '60fc4e543b9f2d390000f02157b2...</td>\n",
       "    </tr>\n",
       "  </tbody>\n",
       "</table>\n",
       "</div>"
      ],
      "text/plain": [
       "                              ln_id                     created metadata  \\\n",
       "0  099cf0b20fc92ad173e3d25ddb8f886c  2024-05-14T02:08:19.699664       {}   \n",
       "1  59e43c92f08df845e20d080bbc6866c2  2024-05-14T02:08:19.687793       {}   \n",
       "2  0f11633a9f33e7866c6bd8c7c9d574ec  2024-05-14T02:08:19.627794       {}   \n",
       "3  1719cfdb3758af5e1d459ec2c6068f7a  2024-05-14T02:08:19.627884       {}   \n",
       "4  5db3bd0ce6cacbad02131cc06b51c8f6  2024-05-14T02:08:19.627907       {}   \n",
       "5  1fa0a179f4746aacc5885a9608d6ff0d  2024-05-14T02:08:19.711415       {}   \n",
       "\n",
       "           content                                          relations  \n",
       "0  have a good day  {'in': {'ln_id': '54b6fbef6f8df99b0c4cc986c334...  \n",
       "1  have a good day  {'in': {'ln_id': '420b25b5b1cc011dec9b2b3b9328...  \n",
       "2                C  {'in': {'ln_id': 'dc68605d002dedf62e9918d4edbe...  \n",
       "3                E  {'in': {'ln_id': '41bafe78e6bea8a923bf63558e20...  \n",
       "4                F  {'in': {'ln_id': '8cb744ddd688adbca33cc90ce3d7...  \n",
       "5      hello world  {'in': {'ln_id': '60fc4e543b9f2d390000f02157b2...  "
      ]
     },
     "execution_count": 16,
     "metadata": {},
     "output_type": "execute_result"
    }
   ],
   "source": [
    "# you can remove an element from the pile by -= an object directly\n",
    "p1 -= nodes1[1] # the original sequence second element was B\n",
    "p1.to_df()"
   ]
  },
  {
   "cell_type": "code",
   "execution_count": 17,
   "metadata": {},
   "outputs": [],
   "source": [
    "# p1.to_graph()"
   ]
  },
  {
   "cell_type": "code",
   "execution_count": 18,
   "metadata": {},
   "outputs": [
    {
     "data": {
      "text/plain": [
       "False"
      ]
     },
     "execution_count": 18,
     "metadata": {},
     "output_type": "execute_result"
    }
   ],
   "source": [
    "nodes1[1] in p1"
   ]
  },
  {
   "cell_type": "code",
   "execution_count": 19,
   "metadata": {},
   "outputs": [
    {
     "name": "stdout",
     "output_type": "stream",
     "text": [
      "Item not found. Item: 'ln_id        8ba59c0be228e9d6f95777ba4ce8fe0e\n",
      "created            2024-05-14T02:08:19.627765\n",
      "metadata                                   {}\n",
      "content                                     B\n",
      "relations                              [0, 0]\n",
      "dtype: object'.\n"
     ]
    }
   ],
   "source": [
    "try:\n",
    "    p1 - nodes1[1]\n",
    "except Exception as e:\n",
    "    print(e)\n",
    "    "
   ]
  },
  {
   "cell_type": "code",
   "execution_count": 20,
   "metadata": {},
   "outputs": [
    {
     "data": {
      "text/plain": [
       "[]"
      ]
     },
     "execution_count": 20,
     "metadata": {},
     "output_type": "execute_result"
    }
   ],
   "source": [
    "a = li.pile()\n",
    "b = li.pile()\n",
    "\n",
    "list(a + b)"
   ]
  },
  {
   "cell_type": "code",
   "execution_count": 21,
   "metadata": {},
   "outputs": [
    {
     "data": {
      "text/plain": [
       "2"
      ]
     },
     "execution_count": 21,
     "metadata": {},
     "output_type": "execute_result"
    }
   ],
   "source": [
    "len([True, True])"
   ]
  },
  {
   "cell_type": "code",
   "execution_count": null,
   "metadata": {},
   "outputs": [],
   "source": []
  }
 ],
 "metadata": {
  "kernelspec": {
   "display_name": ".venv",
   "language": "python",
   "name": "python3"
  },
  "language_info": {
   "codemirror_mode": {
    "name": "ipython",
    "version": 3
   },
   "file_extension": ".py",
   "mimetype": "text/x-python",
   "name": "python",
   "nbconvert_exporter": "python",
   "pygments_lexer": "ipython3",
   "version": "3.11.6"
  }
 },
 "nbformat": 4,
 "nbformat_minor": 2
}
