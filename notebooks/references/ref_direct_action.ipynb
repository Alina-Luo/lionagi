{
 "cells": [
  {
   "cell_type": "code",
   "execution_count": 1,
   "metadata": {},
   "outputs": [],
   "source": [
    "import lionagi as li"
   ]
  },
  {
   "cell_type": "code",
   "execution_count": 2,
   "metadata": {},
   "outputs": [],
   "source": [
    "branch = li.Branch()"
   ]
  },
  {
   "cell_type": "code",
   "execution_count": 3,
   "metadata": {},
   "outputs": [],
   "source": [
    "from IPython.display import display, Markdown\n",
    "def nice_print(form):\n",
    "    for k, v in form.work_fields.items():\n",
    "        display(Markdown(f\"{k}: \\n{v}\\n\"))"
   ]
  },
  {
   "cell_type": "code",
   "execution_count": 4,
   "metadata": {},
   "outputs": [],
   "source": [
    "question1 = \"A school is ordering laptops for its students. If each classroom has 25 students and the school wants to provide a laptop for each student in its 8 classrooms, how many laptops in total does the school need to order?\"\n",
    "question2 = \"A bakery sells cupcakes in boxes of 6. If a customer wants to buy 8 boxes, with each person getting one cupcake, how many people can the customer serve cupcake to?\"\n",
    "\n",
    "import json\n",
    "\n",
    "context = {\"Question1\": question1, \"question2\": question2}\n",
    "context = json.dumps(context)"
   ]
  },
  {
   "cell_type": "code",
   "execution_count": 5,
   "metadata": {},
   "outputs": [],
   "source": [
    "from lionagi.core.action import func_to_tool"
   ]
  },
  {
   "cell_type": "code",
   "execution_count": 6,
   "metadata": {},
   "outputs": [],
   "source": [
    "def multiply(number1: float, number2: float):\n",
    "    \"\"\"\n",
    "    Perform multiplication on two numbers.\n",
    "    such as 2, 3.5, etc.\n",
    "\n",
    "    Args:\n",
    "        number1: First number to multiply.\n",
    "        number2: Second number to multiply.\n",
    "\n",
    "    Returns:\n",
    "        The product of number1 and number2.\n",
    "\n",
    "    \"\"\"\n",
    "    return number1 * number2\n",
    "\n",
    "\n",
    "tool_m = func_to_tool(multiply)"
   ]
  },
  {
   "cell_type": "code",
   "execution_count": 7,
   "metadata": {},
   "outputs": [],
   "source": [
    "branch.register_tools(multiply)"
   ]
  },
  {
   "cell_type": "code",
   "execution_count": 8,
   "metadata": {},
   "outputs": [
    {
     "name": "stdout",
     "output_type": "stream",
     "text": [
      "{'action_1': {'function': 'functions.multiply', 'arguments': {'number1': 25, 'number2': 8}}, 'action_2': {'function': 'functions.multiply', 'arguments': {'number1': 6, 'number2': 8}}}\n"
     ]
    }
   ],
   "source": [
    "out_ = await branch.direct(\n",
    "    instruction = \"Think step by step, understand the following basic math question and provide parameters for function calling.\",\n",
    "    context = context,\n",
    "    tools = tool_m,\n",
    "    reason= True, \n",
    "    score = True,\n",
    "    allow_action = True,\n",
    ")"
   ]
  },
  {
   "cell_type": "code",
   "execution_count": 9,
   "metadata": {},
   "outputs": [
    {
     "data": {
      "text/markdown": [
       "task: \n",
       "Follow the prompt and provide the necessary output.\n",
       "- Additional instruction: Think step by step, understand the following basic math question and provide parameters for function calling.\n",
       "- Additional context: {\"Question1\": \"A school is ordering laptops for its students. If each classroom has 25 students and the school wants to provide a laptop for each student in its 8 classrooms, how many laptops in total does the school need to order?\", \"question2\": \"A bakery sells cupcakes in boxes of 6. If a customer wants to buy 8 boxes, with each person getting one cupcake, how many people can the customer serve cupcake to?\"}\n",
       "- Perform reasoning and prepare actions with GIVEN TOOLS ONLY.\n",
       "- Perform scoring according to score range: [0, 10] and precision: integer.\n",
       "\n"
      ],
      "text/plain": [
       "<IPython.core.display.Markdown object>"
      ]
     },
     "metadata": {},
     "output_type": "display_data"
    },
    {
     "data": {
      "text/markdown": [
       "reason: \n",
       "Let's think step by step, because for Question 1, we need to multiply the number of students per classroom by the number of classrooms. For Question 2, we need to multiply the number of boxes by the number of cupcakes per box.\n"
      ],
      "text/plain": [
       "<IPython.core.display.Markdown object>"
      ]
     },
     "metadata": {},
     "output_type": "display_data"
    },
    {
     "data": {
      "text/markdown": [
       "actions: \n",
       "{'action_1': {'function': 'functions.multiply', 'arguments': {'number1': 25, 'number2': 8}}, 'action_2': {'function': 'functions.multiply', 'arguments': {'number1': 6, 'number2': 8}}}\n"
      ],
      "text/plain": [
       "<IPython.core.display.Markdown object>"
      ]
     },
     "metadata": {},
     "output_type": "display_data"
    },
    {
     "data": {
      "text/markdown": [
       "action_required: \n",
       "True\n"
      ],
      "text/plain": [
       "<IPython.core.display.Markdown object>"
      ]
     },
     "metadata": {},
     "output_type": "display_data"
    },
    {
     "data": {
      "text/markdown": [
       "answer: \n",
       "The school needs to order 200 laptops. The customer can serve 48 people with cupcakes.\n"
      ],
      "text/plain": [
       "<IPython.core.display.Markdown object>"
      ]
     },
     "metadata": {},
     "output_type": "display_data"
    },
    {
     "data": {
      "text/markdown": [
       "score: \n",
       "10\n"
      ],
      "text/plain": [
       "<IPython.core.display.Markdown object>"
      ]
     },
     "metadata": {},
     "output_type": "display_data"
    },
    {
     "data": {
      "text/markdown": [
       "action_response: \n",
       "[{'function': 'multiply', 'arguments': {'number1': 25, 'number2': 8}, 'func_outputs': 200}, {'function': 'multiply', 'arguments': {'number1': 6, 'number2': 8}, 'func_outputs': 48}]\n"
      ],
      "text/plain": [
       "<IPython.core.display.Markdown object>"
      ]
     },
     "metadata": {},
     "output_type": "display_data"
    }
   ],
   "source": [
    "nice_print(out_)"
   ]
  },
  {
   "cell_type": "code",
   "execution_count": 10,
   "metadata": {},
   "outputs": [
    {
     "data": {
      "text/html": [
       "<div>\n",
       "<style scoped>\n",
       "    .dataframe tbody tr th:only-of-type {\n",
       "        vertical-align: middle;\n",
       "    }\n",
       "\n",
       "    .dataframe tbody tr th {\n",
       "        vertical-align: top;\n",
       "    }\n",
       "\n",
       "    .dataframe thead th {\n",
       "        text-align: right;\n",
       "    }\n",
       "</style>\n",
       "<table border=\"1\" class=\"dataframe\">\n",
       "  <thead>\n",
       "    <tr style=\"text-align: right;\">\n",
       "      <th></th>\n",
       "      <th>ln_id</th>\n",
       "      <th>message_type</th>\n",
       "      <th>timestamp</th>\n",
       "      <th>role</th>\n",
       "      <th>content</th>\n",
       "      <th>metadata</th>\n",
       "      <th>sender</th>\n",
       "      <th>recipient</th>\n",
       "    </tr>\n",
       "  </thead>\n",
       "  <tbody>\n",
       "    <tr>\n",
       "      <th>0</th>\n",
       "      <td>77f88809ae63b8340403a52613b7a1f5</td>\n",
       "      <td>System</td>\n",
       "      <td>2024-05-19T20:08:23.753542</td>\n",
       "      <td>system</td>\n",
       "      <td>{'system_info': 'You are a helpful assistant, ...</td>\n",
       "      <td>{'last_updated': {'recipient': '2024-05-19T20:...</td>\n",
       "      <td>system</td>\n",
       "      <td>12f22b73c87273c31097d515c9076f1b</td>\n",
       "    </tr>\n",
       "    <tr>\n",
       "      <th>1</th>\n",
       "      <td>bf392f3c637545318753e1e0cdbbff1a</td>\n",
       "      <td>Instruction</td>\n",
       "      <td>2024-05-19T20:08:23.772406</td>\n",
       "      <td>user</td>\n",
       "      <td>{'instruction': '\n",
       "0. Your in is Follow the pro...</td>\n",
       "      <td>{'last_updated': {'sender': '2024-05-19T20:08:...</td>\n",
       "      <td>user</td>\n",
       "      <td>12f22b73c87273c31097d515c9076f1b</td>\n",
       "    </tr>\n",
       "    <tr>\n",
       "      <th>2</th>\n",
       "      <td>128aa474b509abd6b7ee9aab8af80572</td>\n",
       "      <td>AssistantResponse</td>\n",
       "      <td>2024-05-19T20:08:27.397152</td>\n",
       "      <td>assistant</td>\n",
       "      <td>{'assistant_response': '```json\n",
       "{\n",
       "  \"answer\": ...</td>\n",
       "      <td>{'last_updated': {'sender': '2024-05-19T20:08:...</td>\n",
       "      <td>12f22b73c87273c31097d515c9076f1b</td>\n",
       "      <td>user</td>\n",
       "    </tr>\n",
       "    <tr>\n",
       "      <th>3</th>\n",
       "      <td>dd15aea07b4ce650fea8c8e96be4e90f</td>\n",
       "      <td>ActionRequest</td>\n",
       "      <td>2024-05-19T20:08:27.401752</td>\n",
       "      <td>assistant</td>\n",
       "      <td>{'action_request': {'function': 'multiply', 'a...</td>\n",
       "      <td>{'last_updated': {'function': '2024-05-19T20:0...</td>\n",
       "      <td>12f22b73c87273c31097d515c9076f1b</td>\n",
       "      <td>24fd2a625787b107299da26fb50fbe2f</td>\n",
       "    </tr>\n",
       "    <tr>\n",
       "      <th>4</th>\n",
       "      <td>859fb34a064afcc77b0ab87515cc221f</td>\n",
       "      <td>ActionRequest</td>\n",
       "      <td>2024-05-19T20:08:27.402266</td>\n",
       "      <td>assistant</td>\n",
       "      <td>{'action_request': {'function': 'multiply', 'a...</td>\n",
       "      <td>{'last_updated': {'function': '2024-05-19T20:0...</td>\n",
       "      <td>12f22b73c87273c31097d515c9076f1b</td>\n",
       "      <td>24fd2a625787b107299da26fb50fbe2f</td>\n",
       "    </tr>\n",
       "    <tr>\n",
       "      <th>5</th>\n",
       "      <td>a3bfb937be65103503e4c923fe689ce6</td>\n",
       "      <td>ActionResponse</td>\n",
       "      <td>2024-05-19T20:08:27.402955</td>\n",
       "      <td>assistant</td>\n",
       "      <td>{'action_response': {'function': 'multiply', '...</td>\n",
       "      <td>{'last_updated': {'function': '2024-05-19T20:0...</td>\n",
       "      <td>24fd2a625787b107299da26fb50fbe2f</td>\n",
       "      <td>12f22b73c87273c31097d515c9076f1b</td>\n",
       "    </tr>\n",
       "    <tr>\n",
       "      <th>6</th>\n",
       "      <td>9aff8205047495469c126fd2f049bfff</td>\n",
       "      <td>ActionResponse</td>\n",
       "      <td>2024-05-19T20:08:27.403478</td>\n",
       "      <td>assistant</td>\n",
       "      <td>{'action_response': {'function': 'multiply', '...</td>\n",
       "      <td>{'last_updated': {'function': '2024-05-19T20:0...</td>\n",
       "      <td>24fd2a625787b107299da26fb50fbe2f</td>\n",
       "      <td>12f22b73c87273c31097d515c9076f1b</td>\n",
       "    </tr>\n",
       "  </tbody>\n",
       "</table>\n",
       "</div>"
      ],
      "text/plain": [
       "                              ln_id       message_type  \\\n",
       "0  77f88809ae63b8340403a52613b7a1f5             System   \n",
       "1  bf392f3c637545318753e1e0cdbbff1a        Instruction   \n",
       "2  128aa474b509abd6b7ee9aab8af80572  AssistantResponse   \n",
       "3  dd15aea07b4ce650fea8c8e96be4e90f      ActionRequest   \n",
       "4  859fb34a064afcc77b0ab87515cc221f      ActionRequest   \n",
       "5  a3bfb937be65103503e4c923fe689ce6     ActionResponse   \n",
       "6  9aff8205047495469c126fd2f049bfff     ActionResponse   \n",
       "\n",
       "                    timestamp       role  \\\n",
       "0  2024-05-19T20:08:23.753542     system   \n",
       "1  2024-05-19T20:08:23.772406       user   \n",
       "2  2024-05-19T20:08:27.397152  assistant   \n",
       "3  2024-05-19T20:08:27.401752  assistant   \n",
       "4  2024-05-19T20:08:27.402266  assistant   \n",
       "5  2024-05-19T20:08:27.402955  assistant   \n",
       "6  2024-05-19T20:08:27.403478  assistant   \n",
       "\n",
       "                                             content  \\\n",
       "0  {'system_info': 'You are a helpful assistant, ...   \n",
       "1  {'instruction': '\n",
       "0. Your in is Follow the pro...   \n",
       "2  {'assistant_response': '```json\n",
       "{\n",
       "  \"answer\": ...   \n",
       "3  {'action_request': {'function': 'multiply', 'a...   \n",
       "4  {'action_request': {'function': 'multiply', 'a...   \n",
       "5  {'action_response': {'function': 'multiply', '...   \n",
       "6  {'action_response': {'function': 'multiply', '...   \n",
       "\n",
       "                                            metadata  \\\n",
       "0  {'last_updated': {'recipient': '2024-05-19T20:...   \n",
       "1  {'last_updated': {'sender': '2024-05-19T20:08:...   \n",
       "2  {'last_updated': {'sender': '2024-05-19T20:08:...   \n",
       "3  {'last_updated': {'function': '2024-05-19T20:0...   \n",
       "4  {'last_updated': {'function': '2024-05-19T20:0...   \n",
       "5  {'last_updated': {'function': '2024-05-19T20:0...   \n",
       "6  {'last_updated': {'function': '2024-05-19T20:0...   \n",
       "\n",
       "                             sender                         recipient  \n",
       "0                            system  12f22b73c87273c31097d515c9076f1b  \n",
       "1                              user  12f22b73c87273c31097d515c9076f1b  \n",
       "2  12f22b73c87273c31097d515c9076f1b                              user  \n",
       "3  12f22b73c87273c31097d515c9076f1b  24fd2a625787b107299da26fb50fbe2f  \n",
       "4  12f22b73c87273c31097d515c9076f1b  24fd2a625787b107299da26fb50fbe2f  \n",
       "5  24fd2a625787b107299da26fb50fbe2f  12f22b73c87273c31097d515c9076f1b  \n",
       "6  24fd2a625787b107299da26fb50fbe2f  12f22b73c87273c31097d515c9076f1b  "
      ]
     },
     "execution_count": 10,
     "metadata": {},
     "output_type": "execute_result"
    }
   ],
   "source": [
    "branch.to_df()"
   ]
  }
 ],
 "metadata": {
  "kernelspec": {
   "display_name": ".venv",
   "language": "python",
   "name": "python3"
  },
  "language_info": {
   "codemirror_mode": {
    "name": "ipython",
    "version": 3
   },
   "file_extension": ".py",
   "mimetype": "text/x-python",
   "name": "python",
   "nbconvert_exporter": "python",
   "pygments_lexer": "ipython3",
   "version": "3.11.6"
  }
 },
 "nbformat": 4,
 "nbformat_minor": 2
}
