{
 "cells": [
  {
   "cell_type": "code",
   "execution_count": 1,
   "metadata": {},
   "outputs": [],
   "source": [
    "import lionagi as li"
   ]
  },
  {
   "cell_type": "code",
   "execution_count": 2,
   "metadata": {},
   "outputs": [],
   "source": [
    "branch = li.Branch()"
   ]
  },
  {
   "cell_type": "code",
   "execution_count": 3,
   "metadata": {},
   "outputs": [],
   "source": [
    "from IPython.display import display, Markdown\n",
    "\n",
    "\n",
    "def nice_print(form):\n",
    "    for k, v in form.work_fields.items():\n",
    "        display(Markdown(f\"{k}: \\n{v}\\n\"))"
   ]
  },
  {
   "cell_type": "code",
   "execution_count": 4,
   "metadata": {},
   "outputs": [],
   "source": [
    "question1 = \"A school is ordering laptops for its students. If each classroom has 25 students and the school wants to provide a laptop for each student in its 8 classrooms, how many laptops in total does the school need to order?\"\n",
    "question2 = \"A bakery sells cupcakes in boxes of 6. If a customer wants to buy 8 boxes, with each person getting one cupcake, how many people can the customer serve cupcake to?\"\n",
    "\n",
    "import json\n",
    "\n",
    "context = {\"Question1\": question1, \"question2\": question2}\n",
    "context = json.dumps(context)"
   ]
  },
  {
   "cell_type": "code",
   "execution_count": 5,
   "metadata": {},
   "outputs": [],
   "source": [
    "from lionagi.core.action import func_to_tool"
   ]
  },
  {
   "cell_type": "code",
   "execution_count": 6,
   "metadata": {},
   "outputs": [],
   "source": [
    "def multiply(number1: float, number2: float):\n",
    "    \"\"\"\n",
    "    Perform multiplication on two numbers.\n",
    "    such as 2, 3.5, etc.\n",
    "\n",
    "    Args:\n",
    "        number1: First number to multiply.\n",
    "        number2: Second number to multiply.\n",
    "\n",
    "    Returns:\n",
    "        The product of number1 and number2.\n",
    "\n",
    "    \"\"\"\n",
    "    return number1 * number2\n",
    "\n",
    "\n",
    "tool_m = func_to_tool(multiply)"
   ]
  },
  {
   "cell_type": "code",
   "execution_count": 7,
   "metadata": {},
   "outputs": [],
   "source": [
    "branch.register_tools(multiply)"
   ]
  },
  {
   "cell_type": "code",
   "execution_count": 8,
   "metadata": {},
   "outputs": [],
   "source": [
    "out_ = await branch.direct(\n",
    "    instruction=\"Think step by step, understand the following basic math question and provide parameters for function calling.\",\n",
    "    context=context,\n",
    "    tools=tool_m,\n",
    "    reason=True,\n",
    "    score=True,\n",
    "    allow_action=True,\n",
    ")"
   ]
  },
  {
   "cell_type": "code",
   "execution_count": 9,
   "metadata": {},
   "outputs": [
    {
     "data": {
      "text/markdown": [
       "task: \n",
       "Follow the prompt and provide the necessary output.\n",
       "- Additional instruction: Think step by step, understand the following basic math question and provide parameters for function calling.\n",
       "- Additional context: {\"Question1\": \"A school is ordering laptops for its students. If each classroom has 25 students and the school wants to provide a laptop for each student in its 8 classrooms, how many laptops in total does the school need to order?\", \"question2\": \"A bakery sells cupcakes in boxes of 6. If a customer wants to buy 8 boxes, with each person getting one cupcake, how many people can the customer serve cupcake to?\"}\n",
       "- Reason and prepare actions with GIVEN TOOLS ONLY.\n",
       "- Give a numeric score in [0, 10] and precision of 0 decimal places.\n",
       "\n"
      ],
      "text/plain": [
       "<IPython.core.display.Markdown object>"
      ]
     },
     "metadata": {},
     "output_type": "display_data"
    },
    {
     "data": {
      "text/markdown": [
       "reason: \n",
       "Let's think step by step. For Question1, we need to calculate the total number of laptops by multiplying the number of students per classroom by the number of classrooms. For Question2, we need to calculate the total number of cupcakes by multiplying the number of boxes by the number of cupcakes per box. Then, we can determine how many people can be served by the total number of cupcakes.\n"
      ],
      "text/plain": [
       "<IPython.core.display.Markdown object>"
      ]
     },
     "metadata": {},
     "output_type": "display_data"
    },
    {
     "data": {
      "text/markdown": [
       "actions: \n",
       "{'action_1': {'function': 'multiply', 'arguments': {'number1': 25, 'number2': 8}}, 'action_2': {'function': 'multiply', 'arguments': {'number1': 6, 'number2': 8}}}\n"
      ],
      "text/plain": [
       "<IPython.core.display.Markdown object>"
      ]
     },
     "metadata": {},
     "output_type": "display_data"
    },
    {
     "data": {
      "text/markdown": [
       "action_required: \n",
       "True\n"
      ],
      "text/plain": [
       "<IPython.core.display.Markdown object>"
      ]
     },
     "metadata": {},
     "output_type": "display_data"
    },
    {
     "data": {
      "text/markdown": [
       "answer: \n",
       "The school needs to order 200 laptops. The customer can serve cupcakes to 48 people.\n"
      ],
      "text/plain": [
       "<IPython.core.display.Markdown object>"
      ]
     },
     "metadata": {},
     "output_type": "display_data"
    },
    {
     "data": {
      "text/markdown": [
       "score: \n",
       "8\n"
      ],
      "text/plain": [
       "<IPython.core.display.Markdown object>"
      ]
     },
     "metadata": {},
     "output_type": "display_data"
    },
    {
     "data": {
      "text/markdown": [
       "tool_schema: \n",
       "{'tools': [{'type': 'function', 'function': {'name': 'multiply', 'description': 'Perform multiplication on two numbers.', 'parameters': {'type': 'object', 'properties': {'number1': {'type': 'number', 'description': 'First number to multiply.'}, 'number2': {'type': 'number', 'description': 'Second number to multiply.'}}, 'required': ['number1', 'number2']}}}]}\n"
      ],
      "text/plain": [
       "<IPython.core.display.Markdown object>"
      ]
     },
     "metadata": {},
     "output_type": "display_data"
    },
    {
     "data": {
      "text/markdown": [
       "action_response: \n",
       "{'action_1': {'function': 'multiply', 'arguments': {'number1': 6, 'number2': 8}, 'output': 48}, 'action_2': {'function': 'multiply', 'arguments': {'number1': 6, 'number2': 8}, 'output': 48}, 'action_0': {'function': 'multiply', 'arguments': {'number1': 25, 'number2': 8}, 'output': 200}}\n"
      ],
      "text/plain": [
       "<IPython.core.display.Markdown object>"
      ]
     },
     "metadata": {},
     "output_type": "display_data"
    },
    {
     "data": {
      "text/markdown": [
       "action_performed: \n",
       "True\n"
      ],
      "text/plain": [
       "<IPython.core.display.Markdown object>"
      ]
     },
     "metadata": {},
     "output_type": "display_data"
    }
   ],
   "source": [
    "nice_print(out_)"
   ]
  },
  {
   "cell_type": "code",
   "execution_count": 10,
   "metadata": {},
   "outputs": [
    {
     "data": {
      "text/html": [
       "<div>\n",
       "<style scoped>\n",
       "    .dataframe tbody tr th:only-of-type {\n",
       "        vertical-align: middle;\n",
       "    }\n",
       "\n",
       "    .dataframe tbody tr th {\n",
       "        vertical-align: top;\n",
       "    }\n",
       "\n",
       "    .dataframe thead th {\n",
       "        text-align: right;\n",
       "    }\n",
       "</style>\n",
       "<table border=\"1\" class=\"dataframe\">\n",
       "  <thead>\n",
       "    <tr style=\"text-align: right;\">\n",
       "      <th></th>\n",
       "      <th>ln_id</th>\n",
       "      <th>message_type</th>\n",
       "      <th>timestamp</th>\n",
       "      <th>role</th>\n",
       "      <th>content</th>\n",
       "      <th>metadata</th>\n",
       "      <th>sender</th>\n",
       "      <th>recipient</th>\n",
       "    </tr>\n",
       "  </thead>\n",
       "  <tbody>\n",
       "    <tr>\n",
       "      <th>0</th>\n",
       "      <td>8eb1f10a46b0fb66ff30f83e329cc29a</td>\n",
       "      <td>System</td>\n",
       "      <td>2024-05-28T21:52:06.451286</td>\n",
       "      <td>system</td>\n",
       "      <td>{'system_info': 'You are a helpful assistant.'}</td>\n",
       "      <td>{'last_updated': {'recipient': '2024-05-28T21:...</td>\n",
       "      <td>system</td>\n",
       "      <td>051d7f7cdd4e73aae41e24540096de43</td>\n",
       "    </tr>\n",
       "    <tr>\n",
       "      <th>1</th>\n",
       "      <td>29660b96bf1ab5d80eacb5599305a463</td>\n",
       "      <td>Instruction</td>\n",
       "      <td>2024-05-28T21:52:06.469572</td>\n",
       "      <td>user</td>\n",
       "      <td>{'instruction': '\n",
       "        ## Task Instructions...</td>\n",
       "      <td>{'last_updated': {'sender': '2024-05-28T21:52:...</td>\n",
       "      <td>user</td>\n",
       "      <td>051d7f7cdd4e73aae41e24540096de43</td>\n",
       "    </tr>\n",
       "    <tr>\n",
       "      <th>2</th>\n",
       "      <td>ba9a4a6d67c5f58efa50f96b37b17baa</td>\n",
       "      <td>AssistantResponse</td>\n",
       "      <td>2024-05-28T21:52:10.044955</td>\n",
       "      <td>assistant</td>\n",
       "      <td>{'assistant_response': '```json\n",
       "{\n",
       "  \"answer\": ...</td>\n",
       "      <td>{'last_updated': {'sender': '2024-05-28T21:52:...</td>\n",
       "      <td>051d7f7cdd4e73aae41e24540096de43</td>\n",
       "      <td>user</td>\n",
       "    </tr>\n",
       "    <tr>\n",
       "      <th>3</th>\n",
       "      <td>a5cbec146cebcd4245810cae72c70f80</td>\n",
       "      <td>ActionRequest</td>\n",
       "      <td>2024-05-28T21:52:10.049667</td>\n",
       "      <td>assistant</td>\n",
       "      <td>{'action_request': {'function': 'multiply', 'a...</td>\n",
       "      <td>{'last_updated': {'function': '2024-05-28T21:5...</td>\n",
       "      <td>051d7f7cdd4e73aae41e24540096de43</td>\n",
       "      <td>3631bca0a41a7bfd2d7747232d2ae773</td>\n",
       "    </tr>\n",
       "    <tr>\n",
       "      <th>4</th>\n",
       "      <td>fa9dc9a19098693ccc73ea730db9c35e</td>\n",
       "      <td>ActionRequest</td>\n",
       "      <td>2024-05-28T21:52:10.050085</td>\n",
       "      <td>assistant</td>\n",
       "      <td>{'action_request': {'function': 'multiply', 'a...</td>\n",
       "      <td>{'last_updated': {'function': '2024-05-28T21:5...</td>\n",
       "      <td>051d7f7cdd4e73aae41e24540096de43</td>\n",
       "      <td>3631bca0a41a7bfd2d7747232d2ae773</td>\n",
       "    </tr>\n",
       "    <tr>\n",
       "      <th>5</th>\n",
       "      <td>9f7034c17f23063b7929d849e218368c</td>\n",
       "      <td>ActionResponse</td>\n",
       "      <td>2024-05-28T21:52:10.050635</td>\n",
       "      <td>assistant</td>\n",
       "      <td>{'action_response': {'function': 'multiply', '...</td>\n",
       "      <td>{'last_updated': {'function': '2024-05-28T21:5...</td>\n",
       "      <td>3631bca0a41a7bfd2d7747232d2ae773</td>\n",
       "      <td>051d7f7cdd4e73aae41e24540096de43</td>\n",
       "    </tr>\n",
       "    <tr>\n",
       "      <th>6</th>\n",
       "      <td>be1ddfdfcf14fafe7cc8fc75b919f292</td>\n",
       "      <td>ActionResponse</td>\n",
       "      <td>2024-05-28T21:52:10.050969</td>\n",
       "      <td>assistant</td>\n",
       "      <td>{'action_response': {'function': 'multiply', '...</td>\n",
       "      <td>{'last_updated': {'function': '2024-05-28T21:5...</td>\n",
       "      <td>3631bca0a41a7bfd2d7747232d2ae773</td>\n",
       "      <td>051d7f7cdd4e73aae41e24540096de43</td>\n",
       "    </tr>\n",
       "    <tr>\n",
       "      <th>7</th>\n",
       "      <td>963a6b9b3435ccd40cb5dd54e96aec08</td>\n",
       "      <td>Instruction</td>\n",
       "      <td>2024-05-28T21:52:10.051610</td>\n",
       "      <td>user</td>\n",
       "      <td>{'instruction': 'please provide final answer b...</td>\n",
       "      <td>{'last_updated': {'sender': '2024-05-28T21:52:...</td>\n",
       "      <td>user</td>\n",
       "      <td>051d7f7cdd4e73aae41e24540096de43</td>\n",
       "    </tr>\n",
       "    <tr>\n",
       "      <th>8</th>\n",
       "      <td>87519de0d667fba9ab2f2022ee5ce48e</td>\n",
       "      <td>AssistantResponse</td>\n",
       "      <td>2024-05-28T21:52:10.814823</td>\n",
       "      <td>assistant</td>\n",
       "      <td>{'assistant_response': 'The school needs to or...</td>\n",
       "      <td>{'last_updated': {'sender': '2024-05-28T21:52:...</td>\n",
       "      <td>051d7f7cdd4e73aae41e24540096de43</td>\n",
       "      <td>user</td>\n",
       "    </tr>\n",
       "  </tbody>\n",
       "</table>\n",
       "</div>"
      ],
      "text/plain": [
       "                              ln_id       message_type  \\\n",
       "0  8eb1f10a46b0fb66ff30f83e329cc29a             System   \n",
       "1  29660b96bf1ab5d80eacb5599305a463        Instruction   \n",
       "2  ba9a4a6d67c5f58efa50f96b37b17baa  AssistantResponse   \n",
       "3  a5cbec146cebcd4245810cae72c70f80      ActionRequest   \n",
       "4  fa9dc9a19098693ccc73ea730db9c35e      ActionRequest   \n",
       "5  9f7034c17f23063b7929d849e218368c     ActionResponse   \n",
       "6  be1ddfdfcf14fafe7cc8fc75b919f292     ActionResponse   \n",
       "7  963a6b9b3435ccd40cb5dd54e96aec08        Instruction   \n",
       "8  87519de0d667fba9ab2f2022ee5ce48e  AssistantResponse   \n",
       "\n",
       "                    timestamp       role  \\\n",
       "0  2024-05-28T21:52:06.451286     system   \n",
       "1  2024-05-28T21:52:06.469572       user   \n",
       "2  2024-05-28T21:52:10.044955  assistant   \n",
       "3  2024-05-28T21:52:10.049667  assistant   \n",
       "4  2024-05-28T21:52:10.050085  assistant   \n",
       "5  2024-05-28T21:52:10.050635  assistant   \n",
       "6  2024-05-28T21:52:10.050969  assistant   \n",
       "7  2024-05-28T21:52:10.051610       user   \n",
       "8  2024-05-28T21:52:10.814823  assistant   \n",
       "\n",
       "                                             content  \\\n",
       "0    {'system_info': 'You are a helpful assistant.'}   \n",
       "1  {'instruction': '\n",
       "        ## Task Instructions...   \n",
       "2  {'assistant_response': '```json\n",
       "{\n",
       "  \"answer\": ...   \n",
       "3  {'action_request': {'function': 'multiply', 'a...   \n",
       "4  {'action_request': {'function': 'multiply', 'a...   \n",
       "5  {'action_response': {'function': 'multiply', '...   \n",
       "6  {'action_response': {'function': 'multiply', '...   \n",
       "7  {'instruction': 'please provide final answer b...   \n",
       "8  {'assistant_response': 'The school needs to or...   \n",
       "\n",
       "                                            metadata  \\\n",
       "0  {'last_updated': {'recipient': '2024-05-28T21:...   \n",
       "1  {'last_updated': {'sender': '2024-05-28T21:52:...   \n",
       "2  {'last_updated': {'sender': '2024-05-28T21:52:...   \n",
       "3  {'last_updated': {'function': '2024-05-28T21:5...   \n",
       "4  {'last_updated': {'function': '2024-05-28T21:5...   \n",
       "5  {'last_updated': {'function': '2024-05-28T21:5...   \n",
       "6  {'last_updated': {'function': '2024-05-28T21:5...   \n",
       "7  {'last_updated': {'sender': '2024-05-28T21:52:...   \n",
       "8  {'last_updated': {'sender': '2024-05-28T21:52:...   \n",
       "\n",
       "                             sender                         recipient  \n",
       "0                            system  051d7f7cdd4e73aae41e24540096de43  \n",
       "1                              user  051d7f7cdd4e73aae41e24540096de43  \n",
       "2  051d7f7cdd4e73aae41e24540096de43                              user  \n",
       "3  051d7f7cdd4e73aae41e24540096de43  3631bca0a41a7bfd2d7747232d2ae773  \n",
       "4  051d7f7cdd4e73aae41e24540096de43  3631bca0a41a7bfd2d7747232d2ae773  \n",
       "5  3631bca0a41a7bfd2d7747232d2ae773  051d7f7cdd4e73aae41e24540096de43  \n",
       "6  3631bca0a41a7bfd2d7747232d2ae773  051d7f7cdd4e73aae41e24540096de43  \n",
       "7                              user  051d7f7cdd4e73aae41e24540096de43  \n",
       "8  051d7f7cdd4e73aae41e24540096de43                              user  "
      ]
     },
     "execution_count": 10,
     "metadata": {},
     "output_type": "execute_result"
    }
   ],
   "source": [
    "branch.to_df()"
   ]
  }
 ],
 "metadata": {
  "kernelspec": {
   "display_name": ".venv",
   "language": "python",
   "name": "python3"
  },
  "language_info": {
   "codemirror_mode": {
    "name": "ipython",
    "version": 3
   },
   "file_extension": ".py",
   "mimetype": "text/x-python",
   "name": "python",
   "nbconvert_exporter": "python",
   "pygments_lexer": "ipython3",
   "version": "3.12.1"
  }
 },
 "nbformat": 4,
 "nbformat_minor": 2
}
