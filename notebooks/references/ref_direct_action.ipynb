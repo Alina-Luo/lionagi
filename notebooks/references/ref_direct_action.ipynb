{
 "cells": [
  {
   "cell_type": "code",
   "execution_count": 1,
   "metadata": {},
   "outputs": [],
   "source": [
    "import lionagi as li"
   ]
  },
  {
   "cell_type": "code",
   "execution_count": 2,
   "metadata": {},
   "outputs": [],
   "source": [
    "branch = li.Branch()"
   ]
  },
  {
   "cell_type": "code",
   "execution_count": 3,
   "metadata": {},
   "outputs": [],
   "source": [
    "from IPython.display import display, Markdown\n",
    "def nice_print(form):\n",
    "    for k, v in form.work_fields.items():\n",
    "        display(Markdown(f\"{k}: \\n{v}\\n\"))"
   ]
  },
  {
   "cell_type": "code",
   "execution_count": 4,
   "metadata": {},
   "outputs": [],
   "source": [
    "question1 = \"A school is ordering laptops for its students. If each classroom has 25 students and the school wants to provide a laptop for each student in its 8 classrooms, how many laptops in total does the school need to order?\"\n",
    "question2 = \"A bakery sells cupcakes in boxes of 6. If a customer wants to buy 8 boxes, with each person getting one cupcake, how many people can the customer serve cupcake to?\"\n",
    "\n",
    "import json\n",
    "\n",
    "context = {\"Question1\": question1, \"question2\": question2}\n",
    "context = json.dumps(context)"
   ]
  },
  {
   "cell_type": "code",
   "execution_count": 5,
   "metadata": {},
   "outputs": [],
   "source": [
    "from lionagi.core.action import func_to_tool"
   ]
  },
  {
   "cell_type": "code",
   "execution_count": 6,
   "metadata": {},
   "outputs": [],
   "source": [
    "def multiply(number1: float, number2: float):\n",
    "    \"\"\"\n",
    "    Perform multiplication on two numbers.\n",
    "    such as 2, 3.5, etc.\n",
    "\n",
    "    Args:\n",
    "        number1: First number to multiply.\n",
    "        number2: Second number to multiply.\n",
    "\n",
    "    Returns:\n",
    "        The product of number1 and number2.\n",
    "\n",
    "    \"\"\"\n",
    "    return number1 * number2\n",
    "\n",
    "\n",
    "tool_m = func_to_tool(multiply)"
   ]
  },
  {
   "cell_type": "code",
   "execution_count": 7,
   "metadata": {},
   "outputs": [],
   "source": [
    "branch.register_tools(multiply)"
   ]
  },
  {
   "cell_type": "code",
   "execution_count": 8,
   "metadata": {},
   "outputs": [],
   "source": [
    "out_ = await branch.direct(\n",
    "    instruction = \"Think step by step, understand the following basic math question and provide parameters for function calling.\",\n",
    "    context = context,\n",
    "    tools = tool_m,\n",
    "    reason= True, \n",
    "    score = True,\n",
    "    allow_action = True,\n",
    ")"
   ]
  },
  {
   "cell_type": "code",
   "execution_count": 9,
   "metadata": {},
   "outputs": [
    {
     "data": {
      "text/markdown": [
       "task: \n",
       "Follow the prompt and provide the necessary output.\n",
       "- Additional instruction: Think step by step, understand the following basic math question and provide parameters for function calling.\n",
       "- Additional context: {\"Question1\": \"A school is ordering laptops for its students. If each classroom has 25 students and the school wants to provide a laptop for each student in its 8 classrooms, how many laptops in total does the school need to order?\", \"question2\": \"A bakery sells cupcakes in boxes of 6. If a customer wants to buy 8 boxes, with each person getting one cupcake, how many people can the customer serve cupcake to?\"}\n",
       "- Perform reasoning and prepare actions with GIVEN TOOLS ONLY.\n",
       "- Perform scoring according to score range: [0, 10] and precision: integer.\n",
       "\n"
      ],
      "text/plain": [
       "<IPython.core.display.Markdown object>"
      ]
     },
     "metadata": {},
     "output_type": "display_data"
    },
    {
     "data": {
      "text/markdown": [
       "reason: \n",
       "Let's think step by step, because we need to perform multiplication to find the answers to both questions.\n"
      ],
      "text/plain": [
       "<IPython.core.display.Markdown object>"
      ]
     },
     "metadata": {},
     "output_type": "display_data"
    },
    {
     "data": {
      "text/markdown": [
       "actions: \n",
       "{'action_1': {'function': 'functions.multiply', 'arguments': {'number1': 25, 'number2': 8}}, 'action_2': {'function': 'functions.multiply', 'arguments': {'number1': 6, 'number2': 8}}}\n"
      ],
      "text/plain": [
       "<IPython.core.display.Markdown object>"
      ]
     },
     "metadata": {},
     "output_type": "display_data"
    },
    {
     "data": {
      "text/markdown": [
       "action_required: \n",
       "True\n"
      ],
      "text/plain": [
       "<IPython.core.display.Markdown object>"
      ]
     },
     "metadata": {},
     "output_type": "display_data"
    },
    {
     "data": {
      "text/markdown": [
       "answer: \n",
       "The school needs to order 200 laptops. The customer can serve cupcakes to 48 people.\n"
      ],
      "text/plain": [
       "<IPython.core.display.Markdown object>"
      ]
     },
     "metadata": {},
     "output_type": "display_data"
    },
    {
     "data": {
      "text/markdown": [
       "score: \n",
       "10\n"
      ],
      "text/plain": [
       "<IPython.core.display.Markdown object>"
      ]
     },
     "metadata": {},
     "output_type": "display_data"
    },
    {
     "data": {
      "text/markdown": [
       "action_response: \n",
       "{'action_1': {'function': 'multiply', 'arguments': {'number1': 25, 'number2': 8}, 'output': 200}, 'action_2': {'function': 'multiply', 'arguments': {'number1': 6, 'number2': 8}, 'output': 48}}\n"
      ],
      "text/plain": [
       "<IPython.core.display.Markdown object>"
      ]
     },
     "metadata": {},
     "output_type": "display_data"
    },
    {
     "data": {
      "text/markdown": [
       "action_performed: \n",
       "True\n"
      ],
      "text/plain": [
       "<IPython.core.display.Markdown object>"
      ]
     },
     "metadata": {},
     "output_type": "display_data"
    }
   ],
   "source": [
    "nice_print(out_)"
   ]
  },
  {
   "cell_type": "code",
   "execution_count": 10,
   "metadata": {},
   "outputs": [
    {
     "data": {
      "text/html": [
       "<div>\n",
       "<style scoped>\n",
       "    .dataframe tbody tr th:only-of-type {\n",
       "        vertical-align: middle;\n",
       "    }\n",
       "\n",
       "    .dataframe tbody tr th {\n",
       "        vertical-align: top;\n",
       "    }\n",
       "\n",
       "    .dataframe thead th {\n",
       "        text-align: right;\n",
       "    }\n",
       "</style>\n",
       "<table border=\"1\" class=\"dataframe\">\n",
       "  <thead>\n",
       "    <tr style=\"text-align: right;\">\n",
       "      <th></th>\n",
       "      <th>ln_id</th>\n",
       "      <th>message_type</th>\n",
       "      <th>timestamp</th>\n",
       "      <th>role</th>\n",
       "      <th>content</th>\n",
       "      <th>metadata</th>\n",
       "      <th>sender</th>\n",
       "      <th>recipient</th>\n",
       "    </tr>\n",
       "  </thead>\n",
       "  <tbody>\n",
       "    <tr>\n",
       "      <th>0</th>\n",
       "      <td>53534e100128d9c1632e443bf4308cd6</td>\n",
       "      <td>System</td>\n",
       "      <td>2024-05-19T20:32:34.096024</td>\n",
       "      <td>system</td>\n",
       "      <td>{'system_info': 'You are a helpful assistant, ...</td>\n",
       "      <td>{'last_updated': {'recipient': '2024-05-19T20:...</td>\n",
       "      <td>system</td>\n",
       "      <td>ab62c550f6d8a5f2d9b63e8980330314</td>\n",
       "    </tr>\n",
       "    <tr>\n",
       "      <th>1</th>\n",
       "      <td>d1250c9b63ac4b0ec2769baf3eb7355f</td>\n",
       "      <td>Instruction</td>\n",
       "      <td>2024-05-19T20:32:34.120116</td>\n",
       "      <td>user</td>\n",
       "      <td>{'instruction': '\n",
       "0. Your in is Follow the pro...</td>\n",
       "      <td>{'last_updated': {'sender': '2024-05-19T20:32:...</td>\n",
       "      <td>user</td>\n",
       "      <td>ab62c550f6d8a5f2d9b63e8980330314</td>\n",
       "    </tr>\n",
       "    <tr>\n",
       "      <th>2</th>\n",
       "      <td>73e1f19a16cac7ca7d4195e65462a4bd</td>\n",
       "      <td>AssistantResponse</td>\n",
       "      <td>2024-05-19T20:32:36.798181</td>\n",
       "      <td>assistant</td>\n",
       "      <td>{'assistant_response': '```json\n",
       "{\n",
       "  \"answer\": ...</td>\n",
       "      <td>{'last_updated': {'sender': '2024-05-19T20:32:...</td>\n",
       "      <td>ab62c550f6d8a5f2d9b63e8980330314</td>\n",
       "      <td>user</td>\n",
       "    </tr>\n",
       "    <tr>\n",
       "      <th>3</th>\n",
       "      <td>ab3767151cdb1f534784964f9352c9c5</td>\n",
       "      <td>ActionRequest</td>\n",
       "      <td>2024-05-19T20:32:36.799381</td>\n",
       "      <td>assistant</td>\n",
       "      <td>{'action_request': {'function': 'multiply', 'a...</td>\n",
       "      <td>{'last_updated': {'function': '2024-05-19T20:3...</td>\n",
       "      <td>ab62c550f6d8a5f2d9b63e8980330314</td>\n",
       "      <td>2a78c77fce759f3036518cffb4ba7997</td>\n",
       "    </tr>\n",
       "    <tr>\n",
       "      <th>4</th>\n",
       "      <td>eb5b103094123e74446f1f0f081cc522</td>\n",
       "      <td>ActionRequest</td>\n",
       "      <td>2024-05-19T20:32:36.799501</td>\n",
       "      <td>assistant</td>\n",
       "      <td>{'action_request': {'function': 'multiply', 'a...</td>\n",
       "      <td>{'last_updated': {'function': '2024-05-19T20:3...</td>\n",
       "      <td>ab62c550f6d8a5f2d9b63e8980330314</td>\n",
       "      <td>2a78c77fce759f3036518cffb4ba7997</td>\n",
       "    </tr>\n",
       "    <tr>\n",
       "      <th>5</th>\n",
       "      <td>5f47fe330ee2685b6c963a37ddc80ed3</td>\n",
       "      <td>ActionResponse</td>\n",
       "      <td>2024-05-19T20:32:36.799753</td>\n",
       "      <td>assistant</td>\n",
       "      <td>{'action_response': {'function': 'multiply', '...</td>\n",
       "      <td>{'last_updated': {'function': '2024-05-19T20:3...</td>\n",
       "      <td>2a78c77fce759f3036518cffb4ba7997</td>\n",
       "      <td>ab62c550f6d8a5f2d9b63e8980330314</td>\n",
       "    </tr>\n",
       "    <tr>\n",
       "      <th>6</th>\n",
       "      <td>91bb4583a5e9bb1f2d9659b7a09bf7d6</td>\n",
       "      <td>ActionResponse</td>\n",
       "      <td>2024-05-19T20:32:36.799903</td>\n",
       "      <td>assistant</td>\n",
       "      <td>{'action_response': {'function': 'multiply', '...</td>\n",
       "      <td>{'last_updated': {'function': '2024-05-19T20:3...</td>\n",
       "      <td>2a78c77fce759f3036518cffb4ba7997</td>\n",
       "      <td>ab62c550f6d8a5f2d9b63e8980330314</td>\n",
       "    </tr>\n",
       "    <tr>\n",
       "      <th>7</th>\n",
       "      <td>cadc66a3d5a034eb2a82831d9e25b0c9</td>\n",
       "      <td>Instruction</td>\n",
       "      <td>2024-05-19T20:32:36.800120</td>\n",
       "      <td>user</td>\n",
       "      <td>{'instruction': 'please provide final answer b...</td>\n",
       "      <td>{'last_updated': {'sender': '2024-05-19T20:32:...</td>\n",
       "      <td>user</td>\n",
       "      <td>ab62c550f6d8a5f2d9b63e8980330314</td>\n",
       "    </tr>\n",
       "    <tr>\n",
       "      <th>8</th>\n",
       "      <td>fb58ccfc7559ec54a0a63e5c6a35409b</td>\n",
       "      <td>AssistantResponse</td>\n",
       "      <td>2024-05-19T20:32:37.588696</td>\n",
       "      <td>assistant</td>\n",
       "      <td>{'assistant_response': '{\"answer\": \"The school...</td>\n",
       "      <td>{'last_updated': {'sender': '2024-05-19T20:32:...</td>\n",
       "      <td>ab62c550f6d8a5f2d9b63e8980330314</td>\n",
       "      <td>user</td>\n",
       "    </tr>\n",
       "  </tbody>\n",
       "</table>\n",
       "</div>"
      ],
      "text/plain": [
       "                              ln_id       message_type  \\\n",
       "0  53534e100128d9c1632e443bf4308cd6             System   \n",
       "1  d1250c9b63ac4b0ec2769baf3eb7355f        Instruction   \n",
       "2  73e1f19a16cac7ca7d4195e65462a4bd  AssistantResponse   \n",
       "3  ab3767151cdb1f534784964f9352c9c5      ActionRequest   \n",
       "4  eb5b103094123e74446f1f0f081cc522      ActionRequest   \n",
       "5  5f47fe330ee2685b6c963a37ddc80ed3     ActionResponse   \n",
       "6  91bb4583a5e9bb1f2d9659b7a09bf7d6     ActionResponse   \n",
       "7  cadc66a3d5a034eb2a82831d9e25b0c9        Instruction   \n",
       "8  fb58ccfc7559ec54a0a63e5c6a35409b  AssistantResponse   \n",
       "\n",
       "                    timestamp       role  \\\n",
       "0  2024-05-19T20:32:34.096024     system   \n",
       "1  2024-05-19T20:32:34.120116       user   \n",
       "2  2024-05-19T20:32:36.798181  assistant   \n",
       "3  2024-05-19T20:32:36.799381  assistant   \n",
       "4  2024-05-19T20:32:36.799501  assistant   \n",
       "5  2024-05-19T20:32:36.799753  assistant   \n",
       "6  2024-05-19T20:32:36.799903  assistant   \n",
       "7  2024-05-19T20:32:36.800120       user   \n",
       "8  2024-05-19T20:32:37.588696  assistant   \n",
       "\n",
       "                                             content  \\\n",
       "0  {'system_info': 'You are a helpful assistant, ...   \n",
       "1  {'instruction': '\n",
       "0. Your in is Follow the pro...   \n",
       "2  {'assistant_response': '```json\n",
       "{\n",
       "  \"answer\": ...   \n",
       "3  {'action_request': {'function': 'multiply', 'a...   \n",
       "4  {'action_request': {'function': 'multiply', 'a...   \n",
       "5  {'action_response': {'function': 'multiply', '...   \n",
       "6  {'action_response': {'function': 'multiply', '...   \n",
       "7  {'instruction': 'please provide final answer b...   \n",
       "8  {'assistant_response': '{\"answer\": \"The school...   \n",
       "\n",
       "                                            metadata  \\\n",
       "0  {'last_updated': {'recipient': '2024-05-19T20:...   \n",
       "1  {'last_updated': {'sender': '2024-05-19T20:32:...   \n",
       "2  {'last_updated': {'sender': '2024-05-19T20:32:...   \n",
       "3  {'last_updated': {'function': '2024-05-19T20:3...   \n",
       "4  {'last_updated': {'function': '2024-05-19T20:3...   \n",
       "5  {'last_updated': {'function': '2024-05-19T20:3...   \n",
       "6  {'last_updated': {'function': '2024-05-19T20:3...   \n",
       "7  {'last_updated': {'sender': '2024-05-19T20:32:...   \n",
       "8  {'last_updated': {'sender': '2024-05-19T20:32:...   \n",
       "\n",
       "                             sender                         recipient  \n",
       "0                            system  ab62c550f6d8a5f2d9b63e8980330314  \n",
       "1                              user  ab62c550f6d8a5f2d9b63e8980330314  \n",
       "2  ab62c550f6d8a5f2d9b63e8980330314                              user  \n",
       "3  ab62c550f6d8a5f2d9b63e8980330314  2a78c77fce759f3036518cffb4ba7997  \n",
       "4  ab62c550f6d8a5f2d9b63e8980330314  2a78c77fce759f3036518cffb4ba7997  \n",
       "5  2a78c77fce759f3036518cffb4ba7997  ab62c550f6d8a5f2d9b63e8980330314  \n",
       "6  2a78c77fce759f3036518cffb4ba7997  ab62c550f6d8a5f2d9b63e8980330314  \n",
       "7                              user  ab62c550f6d8a5f2d9b63e8980330314  \n",
       "8  ab62c550f6d8a5f2d9b63e8980330314                              user  "
      ]
     },
     "execution_count": 10,
     "metadata": {},
     "output_type": "execute_result"
    }
   ],
   "source": [
    "branch.to_df()"
   ]
  }
 ],
 "metadata": {
  "kernelspec": {
   "display_name": ".venv",
   "language": "python",
   "name": "python3"
  },
  "language_info": {
   "codemirror_mode": {
    "name": "ipython",
    "version": 3
   },
   "file_extension": ".py",
   "mimetype": "text/x-python",
   "name": "python",
   "nbconvert_exporter": "python",
   "pygments_lexer": "ipython3",
   "version": "3.11.6"
  }
 },
 "nbformat": 4,
 "nbformat_minor": 2
}
