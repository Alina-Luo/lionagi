{
 "cells": [
  {
   "cell_type": "code",
   "execution_count": 1,
   "metadata": {},
   "outputs": [],
   "source": [
    "import asyncio\n",
    "from lionagi import CallDecorator as cd"
   ]
  },
  {
   "cell_type": "markdown",
   "metadata": {},
   "source": [
    "the decorator works with both sync and async functions"
   ]
  },
  {
   "cell_type": "markdown",
   "metadata": {},
   "source": [
    "`@cd.cache`\n",
    "\n",
    "keep function result in memory"
   ]
  },
  {
   "cell_type": "code",
   "execution_count": 2,
   "metadata": {},
   "outputs": [
    {
     "name": "stdout",
     "output_type": "stream",
     "text": [
      "result: 100_000_000, elapse: 1.002 seconds\n",
      "result: 100_000_000, elapse: 0.000 seconds\n"
     ]
    }
   ],
   "source": [
    "import time\n",
    "\n",
    "@cd.cache\n",
    "def square_data(x):\n",
    "    time.sleep(1)\n",
    "    return x**2\n",
    "\n",
    "result, elapse = await li.tcall(input_=10_000, func=square_data, sleep=0, include_timing=True)\n",
    "print(f\"result: {result:_}, elapse: {elapse:.03f} seconds\")\n",
    "\n",
    "# the second time when the function runs with same parameter, it will return the result directly\n",
    "result, elapse = await li.tcall(input_=10_000, func=square_data, sleep=0, include_timing=True)\n",
    "print(f\"result: {result:_}, elapse: {elapse:.03f} seconds\")"
   ]
  },
  {
   "cell_type": "code",
   "execution_count": 3,
   "metadata": {},
   "outputs": [
    {
     "name": "stdout",
     "output_type": "stream",
     "text": [
      "result: 100_000_000, elapse: 1.002 seconds\n",
      "result: 100_000_000, elapse: 0.000 seconds\n"
     ]
    }
   ],
   "source": [
    "@cd.cache\n",
    "async def asquare_data(x):\n",
    "    await asyncio.sleep(1)\n",
    "    return x * x\n",
    "\n",
    "result, elapse = await li.tcall(input_=10_000, func=asquare_data, sleep=0, include_timing=True)\n",
    "print(f\"result: {result:_}, elapse: {elapse:.03f} seconds\")\n",
    "\n",
    "result, elapse = await li.tcall(input_=10_000, func=asquare_data, sleep=0, include_timing=True)\n",
    "print(f\"result: {result:_}, elapse: {elapse:.03f} seconds\")"
   ]
  },
  {
   "cell_type": "markdown",
   "metadata": {},
   "source": [
    "`@cd.filter`"
   ]
  },
  {
   "cell_type": "code",
   "execution_count": 4,
   "metadata": {},
   "outputs": [
    {
     "data": {
      "text/plain": [
       "[0]"
      ]
     },
     "execution_count": 4,
     "metadata": {},
     "output_type": "execute_result"
    }
   ],
   "source": [
    "@cd.filter(predicate=lambda x: x<10)\n",
    "def square_data(x):\n",
    "    return [0, x**2]\n",
    "    \n",
    "square_data(5)"
   ]
  },
  {
   "cell_type": "markdown",
   "metadata": {},
   "source": [
    "`@cd.throttle` "
   ]
  },
  {
   "cell_type": "code",
   "execution_count": 5,
   "metadata": {},
   "outputs": [
    {
     "name": "stdout",
     "output_type": "stream",
     "text": [
      "[0, 1, 4, 9, 16]\n"
     ]
    }
   ],
   "source": [
    "# sync\n",
    "# this block should take 5 seconds to run\n",
    "@cd.throttle(1)\n",
    "def square_data(x):\n",
    "    return(x**2)\n",
    "\n",
    "print(li.lcall(range(5), square_data))"
   ]
  },
  {
   "cell_type": "code",
   "execution_count": 6,
   "metadata": {},
   "outputs": [
    {
     "name": "stdout",
     "output_type": "stream",
     "text": [
      "[0, 1, 4, 9, 16]\n"
     ]
    }
   ],
   "source": [
    "# async\n",
    "# this block should take one second to run\n",
    "@cd.throttle(1)\n",
    "async def square_data(x):\n",
    "    return(x**2)\n",
    "\n",
    "print(await li.alcall(range(5), await square_data))"
   ]
  },
  {
   "cell_type": "markdown",
   "metadata": {},
   "source": [
    "`@cd.pre_post_process`"
   ]
  },
  {
   "cell_type": "code",
   "execution_count": 7,
   "metadata": {},
   "outputs": [
    {
     "name": "stdout",
     "output_type": "stream",
     "text": [
      "36\n",
      "64\n"
     ]
    }
   ],
   "source": [
    "# sync\n",
    "@cd.pre_post_process(preprocess=lambda x: x+1, postprocess=lambda x: x**2)\n",
    "def get_5(x):\n",
    "    return x\n",
    "\n",
    "print(get_5(5))\n",
    "\n",
    "# async\n",
    "@cd.pre_post_process(preprocess=lambda x: x-1, postprocess=lambda x: x**3)\n",
    "async def get_5(x):\n",
    "    return x\n",
    "\n",
    "print(await get_5(5))"
   ]
  },
  {
   "cell_type": "markdown",
   "metadata": {},
   "source": [
    "`@cd.timeout`"
   ]
  },
  {
   "cell_type": "code",
   "execution_count": 8,
   "metadata": {},
   "outputs": [
    {
     "name": "stdout",
     "output_type": "stream",
     "text": [
      "Function call timed out\n"
     ]
    }
   ],
   "source": [
    "@cd.timeout(1)\n",
    "async def timeout_function():\n",
    "    await asyncio.sleep(2)\n",
    "    return \"Completed\"\n",
    "\n",
    "try:\n",
    "    result = await timeout_function()\n",
    "    print(result)\n",
    "except asyncio.TimeoutError:\n",
    "    print(\"Function call timed out\")"
   ]
  },
  {
   "cell_type": "markdown",
   "metadata": {},
   "source": [
    "`@cd.retry`"
   ]
  },
  {
   "cell_type": "code",
   "execution_count": 9,
   "metadata": {},
   "outputs": [
    {
     "name": "stdout",
     "output_type": "stream",
     "text": [
      "Function call failed after retries: Simulated error\n"
     ]
    }
   ],
   "source": [
    "@cd.retry(retries=3, initial_delay=1)\n",
    "async def retry_function(attempt):\n",
    "    if attempt < 3:\n",
    "        raise ValueError(\"Simulated error\")\n",
    "    return \"Success\"\n",
    "\n",
    "try:\n",
    "    result = await retry_function(1)\n",
    "    print(result)\n",
    "except ValueError as e:\n",
    "    print(f\"Function call failed after retries: {e}\")"
   ]
  },
  {
   "cell_type": "markdown",
   "metadata": {},
   "source": [
    "`@cd.default`"
   ]
  },
  {
   "cell_type": "code",
   "execution_count": 10,
   "metadata": {},
   "outputs": [
    {
     "name": "stdout",
     "output_type": "stream",
     "text": [
      "Default Result\n"
     ]
    }
   ],
   "source": [
    "@cd.default(default_value=\"Default Result\")\n",
    "async def default_function(may_fail):\n",
    "    if may_fail:\n",
    "        raise ValueError(\"Simulated error\")\n",
    "    return \"Success\"\n",
    "\n",
    "result = await default_function(True)\n",
    "print(result)"
   ]
  },
  {
   "cell_type": "markdown",
   "metadata": {},
   "source": [
    "`@cd.compose`"
   ]
  },
  {
   "cell_type": "code",
   "execution_count": 11,
   "metadata": {},
   "outputs": [
    {
     "name": "stdout",
     "output_type": "stream",
     "text": [
      "8\n"
     ]
    }
   ],
   "source": [
    "f1 = lambda x: x+1\n",
    "f2 = lambda x: x*2\n",
    "\n",
    "@cd.compose(f1, f2)\n",
    "def increment_and_double(x):\n",
    "    return x\n",
    "\n",
    "result = increment_and_double(3)\n",
    "print(result)"
   ]
  },
  {
   "cell_type": "markdown",
   "metadata": {},
   "source": [
    "`@cd.max_concurrency`"
   ]
  },
  {
   "cell_type": "code",
   "execution_count": 12,
   "metadata": {},
   "outputs": [
    {
     "name": "stdout",
     "output_type": "stream",
     "text": [
      "[0, 2, 4, 6, 8]\n"
     ]
    }
   ],
   "source": [
    "# this should take 3 seconds to run\n",
    "@cd.max_concurrency(limit=2)\n",
    "async def limited_concurrency_function(x):\n",
    "    await asyncio.sleep(1)\n",
    "    return x * 2\n",
    "\n",
    "async def run_max_concurrency_example():\n",
    "    tasks = [limited_concurrency_function(i) for i in range(5)]\n",
    "    results = await asyncio.gather(*tasks)\n",
    "    print(results)\n",
    "\n",
    "await run_max_concurrency_example()"
   ]
  },
  {
   "cell_type": "markdown",
   "metadata": {},
   "source": [
    "`@cd.memorize`"
   ]
  },
  {
   "cell_type": "code",
   "execution_count": 13,
   "metadata": {},
   "outputs": [
    {
     "name": "stdout",
     "output_type": "stream",
     "text": [
      "First call result: 4, Duration: 1.001\n",
      "Second call result: 4, Duration: 0.000\n"
     ]
    }
   ],
   "source": [
    "# you can specify how many function calls to remember\n",
    "@cd.memorize(maxsize=10)\n",
    "def memorized_function(x):\n",
    "    time.sleep(1)\n",
    "    return x * x\n",
    "\n",
    "start_time = time.time()\n",
    "result1 = memorized_function(2)\n",
    "duration1 = time.time() - start_time\n",
    "print(f\"First call result: {result1}, Duration: {duration1:.03f}\")\n",
    "\n",
    "start_time = time.time()\n",
    "result2 = memorized_function(2)\n",
    "duration2 = time.time() - start_time\n",
    "print(f\"Second call result: {result2}, Duration: {duration2:.03f}\")"
   ]
  },
  {
   "cell_type": "markdown",
   "metadata": {},
   "source": [
    "`@cd.map`"
   ]
  },
  {
   "cell_type": "code",
   "execution_count": 14,
   "metadata": {},
   "outputs": [
    {
     "name": "stdout",
     "output_type": "stream",
     "text": [
      "[1, 4, 9, 16, 25]\n"
     ]
    }
   ],
   "source": [
    "@cd.map(lambda x: x * x)\n",
    "def square_numbers(numbers):\n",
    "    return numbers\n",
    "\n",
    "numbers = [1, 2, 3, 4, 5]\n",
    "squared_numbers = square_numbers(numbers)\n",
    "print(squared_numbers)"
   ]
  },
  {
   "cell_type": "markdown",
   "metadata": {},
   "source": [
    "`@cd.reduce`"
   ]
  },
  {
   "cell_type": "code",
   "execution_count": 15,
   "metadata": {},
   "outputs": [
    {
     "name": "stdout",
     "output_type": "stream",
     "text": [
      "15\n"
     ]
    }
   ],
   "source": [
    "@cd.reduce(lambda x, y: x + y, 0)\n",
    "def sum_numbers(numbers):\n",
    "    return numbers\n",
    "\n",
    "numbers = [1, 2, 3, 4, 5]\n",
    "total = sum_numbers(numbers)\n",
    "print(total)"
   ]
  }
 ],
 "metadata": {
  "kernelspec": {
   "display_name": "hub_test",
   "language": "python",
   "name": "python3"
  },
  "language_info": {
   "codemirror_mode": {
    "name": "ipython",
    "version": 3
   },
   "file_extension": ".py",
   "mimetype": "text/x-python",
   "name": "python",
   "nbconvert_exporter": "python",
   "pygments_lexer": "ipython3",
   "version": "3.11.7"
  }
 },
 "nbformat": 4,
 "nbformat_minor": 2
}
