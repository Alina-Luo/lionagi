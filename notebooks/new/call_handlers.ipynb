{
 "cells": [
  {
   "cell_type": "code",
   "execution_count": 1,
   "metadata": {},
   "outputs": [],
   "source": [
    "import lionagi as li"
   ]
  },
  {
   "cell_type": "markdown",
   "metadata": {},
   "source": [
    "# Special function calls"
   ]
  },
  {
   "cell_type": "markdown",
   "metadata": {},
   "source": [
    "Complicated loops and iterations are a pain for large data sets, and complex data structure \n",
    "\n",
    "special function call handlers are designed to reduce that pain to stay focus on the workflow"
   ]
  },
  {
   "cell_type": "markdown",
   "metadata": {},
   "source": [
    "## to_list & lcall (list call)\n",
    "\n",
    "lcall is the only sync special call handler"
   ]
  },
  {
   "cell_type": "code",
   "execution_count": 2,
   "metadata": {},
   "outputs": [
    {
     "data": {
      "text/plain": [
       "[1, 2, 3, 4, 5, 6]"
      ]
     },
     "execution_count": 2,
     "metadata": {},
     "output_type": "execute_result"
    }
   ],
   "source": [
    "# we use to_list, a helpful type converter\n",
    "# it flattens a nested list, and also dropna\n",
    "\n",
    "a = [1, None, 2, 3, [4], [5, None, 6]]\n",
    "li.to_list(a, flatten=True, dropna=True)"
   ]
  },
  {
   "cell_type": "code",
   "execution_count": 3,
   "metadata": {},
   "outputs": [
    {
     "data": {
      "text/plain": [
       "[1, 4, 9, 16, 25]"
      ]
     },
     "execution_count": 3,
     "metadata": {},
     "output_type": "execute_result"
    }
   ],
   "source": [
    "# create a test input list\n",
    "a = range(1,6)\n",
    "\n",
    "# create some test functions\n",
    "f1 = lambda x: x**2\n",
    "\n",
    "# the first special function calling method is called l_call (list call)\n",
    "# you can operate a single function on the whole set of input list\n",
    "li.lcall(a, f1)"
   ]
  },
  {
   "cell_type": "code",
   "execution_count": 4,
   "metadata": {},
   "outputs": [
    {
     "name": "stdout",
     "output_type": "stream",
     "text": [
      "2\n",
      "3\n",
      "4\n",
      "5\n",
      "6\n"
     ]
    }
   ],
   "source": [
    "# lcall can do more than just that,\n",
    "\n",
    "li.lcall(a, lambda x: print(x+1));"
   ]
  },
  {
   "cell_type": "markdown",
   "metadata": {},
   "source": [
    "## Async call handlers\n",
    "\n",
    "LionAGI is designed to be async only, (sync functions also works)\n",
    "\n",
    "there are many handlers for async operations"
   ]
  },
  {
   "cell_type": "markdown",
   "metadata": {},
   "source": [
    "#### alcall (async list call)"
   ]
  },
  {
   "cell_type": "code",
   "execution_count": 5,
   "metadata": {},
   "outputs": [
    {
     "data": {
      "text/plain": [
       "<coroutine object aadd_1 at 0x11185e500>"
      ]
     },
     "execution_count": 5,
     "metadata": {},
     "output_type": "execute_result"
    }
   ],
   "source": [
    "# define an asynchorous function by adding async \n",
    "# in front of the function definiton\n",
    "\n",
    "async def aadd_1(x):\n",
    "    return x+1\n",
    "\n",
    "# now let's try to run it as usual \n",
    "aadd_1(2)"
   ]
  },
  {
   "cell_type": "code",
   "execution_count": 6,
   "metadata": {},
   "outputs": [
    {
     "data": {
      "text/plain": [
       "3"
      ]
     },
     "execution_count": 6,
     "metadata": {},
     "output_type": "execute_result"
    }
   ],
   "source": [
    "# it is not executing, that is because we \n",
    "# need to use await syntax for async function\n",
    "\n",
    "await aadd_1(2)"
   ]
  },
  {
   "cell_type": "code",
   "execution_count": 7,
   "metadata": {},
   "outputs": [
    {
     "data": {
      "text/plain": [
       "[2, 3, 4, 5, 6]"
      ]
     },
     "execution_count": 7,
     "metadata": {},
     "output_type": "execute_result"
    }
   ],
   "source": [
    "# you can use alcall just like lcall, except now the functions execute asynchronously\n",
    "\n",
    "await li.alcall(a, aadd_1)"
   ]
  },
  {
   "cell_type": "markdown",
   "metadata": {},
   "source": [
    "#### mcall (mapped call)"
   ]
  },
  {
   "cell_type": "code",
   "execution_count": 8,
   "metadata": {},
   "outputs": [
    {
     "data": {
      "text/plain": [
       "[2, 4, 6, 8, 10]"
      ]
     },
     "execution_count": 8,
     "metadata": {},
     "output_type": "execute_result"
    }
   ],
   "source": [
    "# mcall can map elements and perform multiple functions on them\n",
    "a = [1,2,3,4,5]\n",
    "\n",
    "f1 = lambda x: x+1\n",
    "f2 = lambda x: x+2\n",
    "f3 = lambda x: x+3\n",
    "f4 = lambda x: x+4\n",
    "f5 = lambda x: x+5\n",
    "\n",
    "# put these functions into a list\n",
    "f = [f1,f2,f3,f4,f5]\n",
    "\n",
    "# each element map each function\n",
    "await li.mcall(a,f)"
   ]
  },
  {
   "cell_type": "code",
   "execution_count": 9,
   "metadata": {},
   "outputs": [
    {
     "data": {
      "text/plain": [
       "[[2, 3, 4, 5, 6],\n",
       " [3, 4, 5, 6, 7],\n",
       " [4, 5, 6, 7, 8],\n",
       " [5, 6, 7, 8, 9],\n",
       " [6, 7, 8, 9, 10]]"
      ]
     },
     "execution_count": 9,
     "metadata": {},
     "output_type": "execute_result"
    }
   ],
   "source": [
    "await li.mcall(a,f, explode=True)"
   ]
  },
  {
   "cell_type": "markdown",
   "metadata": {},
   "source": [
    "#### tcall (timed call)\n",
    "\n",
    "Handle both synchronous and asynchronous calls with optional delay, error handling, and execution timing."
   ]
  },
  {
   "cell_type": "code",
   "execution_count": 10,
   "metadata": {},
   "outputs": [
    {
     "data": {
      "text/plain": [
       "2"
      ]
     },
     "execution_count": 10,
     "metadata": {},
     "output_type": "execute_result"
    }
   ],
   "source": [
    "await li.tcall(1, aadd_1, sleep=1)"
   ]
  },
  {
   "cell_type": "code",
   "execution_count": 14,
   "metadata": {},
   "outputs": [
    {
     "name": "stdout",
     "output_type": "stream",
     "text": [
      "Here is an error:  Error: error\n"
     ]
    },
    {
     "ename": "Exception",
     "evalue": "error",
     "output_type": "error",
     "traceback": [
      "\u001b[0;31m---------------------------------------------------------------------------\u001b[0m",
      "\u001b[0;31mException\u001b[0m                                 Traceback (most recent call last)",
      "Cell \u001b[0;32mIn[14], line 4\u001b[0m\n\u001b[1;32m      1\u001b[0m \u001b[38;5;28;01mdef\u001b[39;00m \u001b[38;5;21merror_func\u001b[39m(x):\n\u001b[1;32m      2\u001b[0m     \u001b[38;5;28;01mraise\u001b[39;00m \u001b[38;5;167;01mException\u001b[39;00m(\u001b[38;5;124m\"\u001b[39m\u001b[38;5;124merror\u001b[39m\u001b[38;5;124m\"\u001b[39m)\n\u001b[0;32m----> 4\u001b[0m \u001b[38;5;28;01mawait\u001b[39;00m li\u001b[38;5;241m.\u001b[39mtcall(\u001b[38;5;241m1\u001b[39m, error_func, sleep\u001b[38;5;241m=\u001b[39m\u001b[38;5;241m1\u001b[39m, ignore_error\u001b[38;5;241m=\u001b[39m\u001b[38;5;28;01mFalse\u001b[39;00m, message\u001b[38;5;241m=\u001b[39m\u001b[38;5;124m\"\u001b[39m\u001b[38;5;124mHere is an error: \u001b[39m\u001b[38;5;124m\"\u001b[39m)\n",
      "File \u001b[0;32m~/Documents/GitHub/lionagi/lionagi/utils/call_util.py:142\u001b[0m, in \u001b[0;36mtcall\u001b[0;34m(input_, func, sleep, message, ignore_error, include_timing, **kwargs)\u001b[0m\n\u001b[1;32m    140\u001b[0m     \u001b[38;5;28;01mreturn\u001b[39;00m \u001b[38;5;28;01mawait\u001b[39;00m async_call()\n\u001b[1;32m    141\u001b[0m \u001b[38;5;28;01melse\u001b[39;00m:\n\u001b[0;32m--> 142\u001b[0m     \u001b[38;5;28;01mreturn\u001b[39;00m \u001b[43msync_call\u001b[49m\u001b[43m(\u001b[49m\u001b[43m)\u001b[49m\n",
      "File \u001b[0;32m~/Documents/GitHub/lionagi/lionagi/utils/call_util.py:131\u001b[0m, in \u001b[0;36mtcall.<locals>.sync_call\u001b[0;34m()\u001b[0m\n\u001b[1;32m    129\u001b[0m     \u001b[38;5;28;01mreturn\u001b[39;00m (result, duration) \u001b[38;5;28;01mif\u001b[39;00m include_timing \u001b[38;5;28;01melse\u001b[39;00m result\n\u001b[1;32m    130\u001b[0m \u001b[38;5;28;01mexcept\u001b[39;00m \u001b[38;5;167;01mException\u001b[39;00m \u001b[38;5;28;01mas\u001b[39;00m e:\n\u001b[0;32m--> 131\u001b[0m     \u001b[43mhandle_error\u001b[49m\u001b[43m(\u001b[49m\u001b[43me\u001b[49m\u001b[43m)\u001b[49m\n",
      "File \u001b[0;32m~/Documents/GitHub/lionagi/lionagi/utils/call_util.py:127\u001b[0m, in \u001b[0;36mtcall.<locals>.sync_call\u001b[0;34m()\u001b[0m\n\u001b[1;32m    125\u001b[0m \u001b[38;5;28;01mtry\u001b[39;00m:\n\u001b[1;32m    126\u001b[0m     time\u001b[38;5;241m.\u001b[39msleep(sleep)\n\u001b[0;32m--> 127\u001b[0m     result \u001b[38;5;241m=\u001b[39m \u001b[43mfunc\u001b[49m\u001b[43m(\u001b[49m\u001b[43minput_\u001b[49m\u001b[43m,\u001b[49m\u001b[43m \u001b[49m\u001b[38;5;241;43m*\u001b[39;49m\u001b[38;5;241;43m*\u001b[39;49m\u001b[43mkwargs\u001b[49m\u001b[43m)\u001b[49m\n\u001b[1;32m    128\u001b[0m     duration \u001b[38;5;241m=\u001b[39m time\u001b[38;5;241m.\u001b[39mtime() \u001b[38;5;241m-\u001b[39m start_time\n\u001b[1;32m    129\u001b[0m     \u001b[38;5;28;01mreturn\u001b[39;00m (result, duration) \u001b[38;5;28;01mif\u001b[39;00m include_timing \u001b[38;5;28;01melse\u001b[39;00m result\n",
      "Cell \u001b[0;32mIn[14], line 2\u001b[0m, in \u001b[0;36merror_func\u001b[0;34m(x)\u001b[0m\n\u001b[1;32m      1\u001b[0m \u001b[38;5;28;01mdef\u001b[39;00m \u001b[38;5;21merror_func\u001b[39m(x):\n\u001b[0;32m----> 2\u001b[0m     \u001b[38;5;28;01mraise\u001b[39;00m \u001b[38;5;167;01mException\u001b[39;00m(\u001b[38;5;124m\"\u001b[39m\u001b[38;5;124merror\u001b[39m\u001b[38;5;124m\"\u001b[39m)\n",
      "\u001b[0;31mException\u001b[0m: error"
     ]
    }
   ],
   "source": [
    "def error_func(x):\n",
    "    raise Exception(\"error\")\n",
    "\n",
    "await li.tcall(1, error_func, sleep=1, ignore_error=False, message=\"Here is an error: \")"
   ]
  },
  {
   "cell_type": "code",
   "execution_count": 12,
   "metadata": {},
   "outputs": [
    {
     "name": "stdout",
     "output_type": "stream",
     "text": [
      "Here is an error:  Error: error\n"
     ]
    }
   ],
   "source": [
    "await li.tcall(1, error_func, sleep=1, ignore_error=True, message=\"Here is an error: \")"
   ]
  },
  {
   "cell_type": "code",
   "execution_count": 13,
   "metadata": {},
   "outputs": [
    {
     "name": "stdout",
     "output_type": "stream",
     "text": [
      "2\n",
      "None     1.005 seconds\n"
     ]
    }
   ],
   "source": [
    "import time\n",
    "\n",
    "async def aadd_1(x):\n",
    "    time.sleep(1)\n",
    "    print(x+1)\n",
    "\n",
    "result, elapse = await li.tcall(1, aadd_1, sleep=0, include_timing=True)\n",
    "print(result, f\"    {elapse:.03f} seconds\")"
   ]
  }
 ],
 "metadata": {
  "kernelspec": {
   "display_name": "lion_dev",
   "language": "python",
   "name": "python3"
  },
  "language_info": {
   "codemirror_mode": {
    "name": "ipython",
    "version": 3
   },
   "file_extension": ".py",
   "mimetype": "text/x-python",
   "name": "python",
   "nbconvert_exporter": "python",
   "pygments_lexer": "ipython3",
   "version": "3.11.7"
  }
 },
 "nbformat": 4,
 "nbformat_minor": 2
}
