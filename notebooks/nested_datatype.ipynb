{
 "cells": [
  {
   "cell_type": "code",
   "execution_count": 1,
   "metadata": {},
   "outputs": [],
   "source": [
    "import lionagi as li"
   ]
  },
  {
   "cell_type": "code",
   "execution_count": 8,
   "metadata": {},
   "outputs": [
    {
     "name": "stdout",
     "output_type": "stream",
     "text": [
      "{'aa': 1, 'bb_cc': 2, 'bb_dd': 3, 'ee_ff': 4, 'ee_gg_hh': 5}\n",
      "{'aa': 1, 'bb|cc': 2, 'bb|dd': 3, 'ee|ff': 4, 'ee|gg|hh': 5}\n",
      "{'pk.aa': 1, 'pk.bb.cc': 2, 'pk.bb.dd': 3, 'pk.ee.ff': 4, 'pk.ee.gg.hh': 5}\n"
     ]
    }
   ],
   "source": [
    "a = {\n",
    "    'aa': 1,\n",
    "    'bb': {\n",
    "        'cc': 2,\n",
    "        'dd': 3\n",
    "        },\n",
    "    'ee': {\n",
    "        'ff': 4,\n",
    "        'gg': {\n",
    "            'hh': 5\n",
    "            }\n",
    "        }   \n",
    "    }\n",
    "\n",
    "print(li.flatten_dict(a))\n",
    "print(li.flatten_dict(a, sep='|'))\n",
    "print(li.flatten_dict(a, parent_key='pk', sep='.'))"
   ]
  },
  {
   "cell_type": "code",
   "execution_count": 5,
   "metadata": {},
   "outputs": [
    {
     "name": "stdout",
     "output_type": "stream",
     "text": [
      "[1, 3, 'a', 'z', 3, 1]\n",
      "[1, 3, 'a', None, None, 'z', 3, 1, None]\n"
     ]
    }
   ],
   "source": [
    "b = [\n",
    "    [1,3,\"a\", None], \n",
    "    None, \"z\", 3,\n",
    "    [1, [None]]\n",
    "]\n",
    "\n",
    "print(li.flatten_list(b, dropna=True))\n",
    "print(li.flatten_list(b, dropna=False))"
   ]
  },
  {
   "cell_type": "code",
   "execution_count": 14,
   "metadata": {},
   "outputs": [
    {
     "name": "stdout",
     "output_type": "stream",
     "text": [
      "{'aa': 1, 'bb_cc': 2, 'bb_dd': 3, 'ee_ff': 4, 'ee_gg_hh': 5}\n",
      "{'aa': 1, 'bb': {'cc': 2, 'dd': 3}, 'ee': {'ff': 4, 'gg': {'hh': 5}}}\n"
     ]
    }
   ],
   "source": [
    "flat_a = li.flatten_dict(a)\n",
    "unflat_a = li.unflatten_dict(flat_a)\n",
    "\n",
    "print(flat_a)\n",
    "print(unflat_a)"
   ]
  },
  {
   "cell_type": "code",
   "execution_count": 12,
   "metadata": {},
   "outputs": [
    {
     "name": "stdout",
     "output_type": "stream",
     "text": [
      "('dict_aa', 1)\n",
      "('dict_bb_cc', 2)\n",
      "('dict_bb_dd', 3)\n",
      "('dict_ee_ff', 4)\n",
      "('dict_ee_gg_hh', 5)\n",
      "('list_0_0', 1)\n",
      "('list_0_1', 3)\n",
      "('list_0_2', 'a')\n",
      "('list_0_3', None)\n",
      "('list_1', None)\n",
      "('list_2', 'z')\n",
      "('list_3', 3)\n",
      "('list_4_0', 1)\n",
      "('list_4_1_0', None)\n"
     ]
    }
   ],
   "source": [
    "c = {\n",
    "    \"dict\": a, \n",
    "    'list': b\n",
    "}\n",
    "\n",
    "for i in li.dynamic_flatten(c).items():\n",
    "    print(i)"
   ]
  },
  {
   "cell_type": "code",
   "execution_count": 13,
   "metadata": {},
   "outputs": [
    {
     "name": "stdout",
     "output_type": "stream",
     "text": [
      "('dict_aa', 1)\n",
      "('dict_bb', {'cc': 2, 'dd': 3})\n",
      "('dict_ee', {'ff': 4, 'gg': {'hh': 5}})\n",
      "('list_0', [1, 3, 'a', None])\n",
      "('list_1', None)\n",
      "('list_2', 'z')\n",
      "('list_3', 3)\n",
      "('list_4', [1, [None]])\n"
     ]
    }
   ],
   "source": [
    "for i in li.dynamic_flatten(c, max_depth=1).items():\n",
    "    print(i)"
   ]
  }
 ],
 "metadata": {
  "kernelspec": {
   "display_name": "lion_dev",
   "language": "python",
   "name": "python3"
  },
  "language_info": {
   "codemirror_mode": {
    "name": "ipython",
    "version": 3
   },
   "file_extension": ".py",
   "mimetype": "text/x-python",
   "name": "python",
   "nbconvert_exporter": "python",
   "pygments_lexer": "ipython3",
   "version": "3.11.5"
  }
 },
 "nbformat": 4,
 "nbformat_minor": 2
}
