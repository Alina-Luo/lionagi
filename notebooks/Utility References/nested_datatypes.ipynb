{
 "cells": [
  {
   "cell_type": "code",
   "execution_count": 1,
   "metadata": {},
   "outputs": [],
   "source": [
    "import lionagi as li"
   ]
  },
  {
   "cell_type": "markdown",
   "metadata": {},
   "source": [
    "#### nfilter"
   ]
  },
  {
   "cell_type": "code",
   "execution_count": 2,
   "metadata": {},
   "outputs": [
    {
     "name": "stdout",
     "output_type": "stream",
     "text": [
      "{'b': 15, 'c': 20}\n",
      "[1, 3, 5]\n"
     ]
    }
   ],
   "source": [
    "dictionary = {'a': 5, 'b': 15, 'c': 20}\n",
    "lst = [1, 2, 3, 4, 5, 6]\n",
    "\n",
    "filtered_dict = li.nfilter(dictionary, lambda x: x[1] > 10)\n",
    "print(filtered_dict)\n",
    "\n",
    "filtered_list = li.nfilter(lst, lambda x: x % 2 != 0)\n",
    "print(filtered_list)"
   ]
  },
  {
   "cell_type": "markdown",
   "metadata": {},
   "source": [
    "#### nset"
   ]
  },
  {
   "cell_type": "code",
   "execution_count": 3,
   "metadata": {},
   "outputs": [
    {
     "name": "stdout",
     "output_type": "stream",
     "text": [
      "{'a': {'b': {'c': 2}}}\n",
      "[[1, 2, 3], [4, 5, 7]]\n"
     ]
    }
   ],
   "source": [
    "# set value of a nested dictionary\n",
    "# change the value of \"a\" -> \"b\" -> \"c\" value from 1 to 2\n",
    "nested_dict = {'a': {'b': {'c': 1}}}\n",
    "li.nset(nested_dict, ['a', 'b', 'c'], 2)\n",
    "print(nested_dict)\n",
    "\n",
    "# set value of a nested list\n",
    "# change the second list's third element from 6 to 7\n",
    "nested_list = [[1, 2, 3], [4, 5, 6]]\n",
    "li.nset(nested_list, [1, 2], 7)\n",
    "print(nested_list)"
   ]
  },
  {
   "cell_type": "markdown",
   "metadata": {},
   "source": [
    "#### nget"
   ]
  },
  {
   "cell_type": "code",
   "execution_count": 4,
   "metadata": {},
   "outputs": [
    {
     "name": "stdout",
     "output_type": "stream",
     "text": [
      "2\n",
      "2\n"
     ]
    }
   ],
   "source": [
    "# getting value from a nested dictionary\n",
    "value = li.nget(nested_dict, ['a', 'b', 'c'])\n",
    "print(value)\n",
    "\n",
    "# Getting a value from a nested list\n",
    "value = li.nget(nested_list, [0, 1])\n",
    "print(value)"
   ]
  },
  {
   "cell_type": "code",
   "execution_count": 5,
   "metadata": {},
   "outputs": [
    {
     "name": "stdout",
     "output_type": "stream",
     "text": [
      "'<=' not supported between instances of 'int' and 'str'\n",
      "None\n"
     ]
    }
   ],
   "source": [
    "# Attempting to set a value using an incorrect type for an index\n",
    "try:\n",
    "    li.nset(nested_list, [0, 'x'], 10)\n",
    "except TypeError as e:\n",
    "    print(e)\n",
    "\n",
    "# non-exsistent index\n",
    "value = li.nget(nested_dict, ['a', 'b', 'x'])\n",
    "print(value)"
   ]
  },
  {
   "cell_type": "markdown",
   "metadata": {},
   "source": [
    "#### ninsert"
   ]
  },
  {
   "cell_type": "code",
   "execution_count": 6,
   "metadata": {},
   "outputs": [
    {
     "name": "stdout",
     "output_type": "stream",
     "text": [
      "{'a': {'b': {'c': 1, 'd': 2}, 'e': 3}, 'f': 4}\n"
     ]
    }
   ],
   "source": [
    "# create a nested structure by inserting value, key will be created as a nested manner\n",
    "nested_structure = {}\n",
    "li.ninsert(nested_structure, ['a', 'b', 'c'], value=1)\n",
    "li.ninsert(nested_structure, ['a', 'b', 'd'], value=2)\n",
    "li.ninsert(nested_structure, ['a', 'e'], value=3)\n",
    "li.ninsert(nested_structure, ['f'], value=4)\n",
    "print(nested_structure)"
   ]
  },
  {
   "cell_type": "markdown",
   "metadata": {},
   "source": [
    "#### nmerge"
   ]
  },
  {
   "cell_type": "code",
   "execution_count": 7,
   "metadata": {},
   "outputs": [
    {
     "name": "stdout",
     "output_type": "stream",
     "text": [
      "{'a': 2, 'b': 3}\n",
      "{'a': 1, 'a_1': 2, 'b': 3}\n"
     ]
    }
   ],
   "source": [
    "# merge dictionary\n",
    "\n",
    "# with overwriting front elemeents with same key\n",
    "dicts = [{'a': 1}, {'a': 2}, {'b': 3}]\n",
    "merged = li.nmerge(dicts, dict_update=True)\n",
    "print(merged)  \n",
    "\n",
    "# Example 2: Merging dictionaries without overwriting, (add sequence number to keys to indicate)\n",
    "dicts = [{'a': 1}, {'a': 2}, {'b': 3}]\n",
    "merged = li.nmerge(dicts, dict_sequence=True, sequence_separator='_')\n",
    "print(merged)"
   ]
  },
  {
   "cell_type": "code",
   "execution_count": 8,
   "metadata": {},
   "outputs": [
    {
     "name": "stdout",
     "output_type": "stream",
     "text": [
      "[1, 5, 2, 4, 3, 6]\n",
      "[1, 2, 3, 4, 5, 6]\n",
      "['fig', 'date', 'apple', 'banana', 'cherry']\n"
     ]
    }
   ],
   "source": [
    "# merge list\n",
    "# without sorting\n",
    "lists = [[1, 5], [2, 4], [3, 6]]\n",
    "merged = li.nmerge(lists)\n",
    "print(merged)  \n",
    "\n",
    "# with sorting\n",
    "lists = [[3, 1], [6, 4], [5, 2]]\n",
    "merged = li.nmerge(lists, sort_list=True)\n",
    "print(merged)\n",
    "\n",
    "# custom sorting (e.g., sort by length of elements if they are strings)\n",
    "lists = [['apple', 'fig'], ['banana'], ['cherry', 'date']]\n",
    "merged = li.nmerge(lists, sort_list=True, custom_sort=len)\n",
    "print(merged)  "
   ]
  },
  {
   "cell_type": "markdown",
   "metadata": {},
   "source": [
    "#### flatten"
   ]
  },
  {
   "cell_type": "code",
   "execution_count": 9,
   "metadata": {},
   "outputs": [
    {
     "data": {
      "text/plain": [
       "[3, 5, 77, 11, 99, 11, 22, 33, 77, 21, 32]"
      ]
     },
     "execution_count": 9,
     "metadata": {},
     "output_type": "execute_result"
    }
   ],
   "source": [
    "nested_list = [\n",
    "  3,5,77,11,\n",
    "  [99], [\n",
    "    11,22,33, \n",
    "    [\n",
    "      77,21,32\n",
    "    ]\n",
    "  ]\n",
    "]\n",
    "\n",
    "li.to_list(nested_list, flatten=True)"
   ]
  },
  {
   "cell_type": "code",
   "execution_count": 10,
   "metadata": {},
   "outputs": [
    {
     "name": "stdout",
     "output_type": "stream",
     "text": [
      "{'a': 1, 'b_c': 2, 'b_d_e': 3}\n",
      "{'a': 1, 'b|c': 2, 'b|d|e': 3}\n",
      "{'a': 1, 'b_c': 2, 'b_d': {'e': 3}}\n",
      "{'pk_a': 1, 'pk_b_c': 2, 'pk_b_d_e': 3}\n"
     ]
    }
   ],
   "source": [
    "# Flatten a nested dictionary\n",
    "nested_dict = {\n",
    "  'a': 1,\n",
    "  'b': {\n",
    "    'c': 2,\n",
    "    'd': {\n",
    "      'e': 3\n",
    "    }\n",
    "  }\n",
    "}\n",
    "\n",
    "flattened_dict = li.flatten(nested_dict)\n",
    "print(flattened_dict) \n",
    "\n",
    "# Flatten with a different separator\n",
    "flattened_dict = li.flatten(nested_dict, sep='|')\n",
    "print(flattened_dict)\n",
    "\n",
    "# flatten with custom depth\n",
    "flattened_dict = li.flatten(nested_dict, max_depth=1)\n",
    "print(flattened_dict)\n",
    "\n",
    "# flatten with custom parent key\n",
    "flattened_dict = li.flatten(nested_dict, parent_key=\"pk\")\n",
    "print(flattened_dict)"
   ]
  },
  {
   "cell_type": "code",
   "execution_count": 11,
   "metadata": {},
   "outputs": [
    {
     "name": "stdout",
     "output_type": "stream",
     "text": [
      "{'a': 1, 'b_c': 2, 'b_d_e': 3}\n"
     ]
    }
   ],
   "source": [
    "nested_dict1 = nested_dict.copy()\n",
    "\n",
    "li.flatten(nested_dict1, inplace=True)\n",
    "print(nested_dict1)"
   ]
  },
  {
   "cell_type": "code",
   "execution_count": 12,
   "metadata": {},
   "outputs": [
    {
     "name": "stdout",
     "output_type": "stream",
     "text": [
      "{'nested_dict_a': 1, 'nested_dict_b_b_c': 2, 'nested_dict_b_b_d_e': 3, 'nested_list_0': 3, 'nested_list_1': 5, 'nested_list_2': 77, 'nested_list_3': 11, 'nested_list_4_0': 99, 'nested_list_5_0': 11, 'nested_list_5_1': 22, 'nested_list_5_2': 33, 'nested_list_5_3_0': 77, 'nested_list_5_3_1': 21, 'nested_list_5_3_2': 32}\n"
     ]
    }
   ],
   "source": [
    "# flatten dict with nested lists\n",
    "mixed_structure = {\n",
    "    \"nested_dict\": nested_dict, \n",
    "    \"nested_list\": nested_list\n",
    "}\n",
    "\n",
    "flattened_dict = li.flatten(mixed_structure)\n",
    "print(flattened_dict)"
   ]
  },
  {
   "cell_type": "code",
   "execution_count": 13,
   "metadata": {},
   "outputs": [
    {
     "data": {
      "text/plain": [
       "['nested_dict_a',\n",
       " 'nested_dict_b_b_c',\n",
       " 'nested_dict_b_b_d_e',\n",
       " 'nested_list_0',\n",
       " 'nested_list_1',\n",
       " 'nested_list_2',\n",
       " 'nested_list_3',\n",
       " 'nested_list_4_0',\n",
       " 'nested_list_5_0',\n",
       " 'nested_list_5_1',\n",
       " 'nested_list_5_2',\n",
       " 'nested_list_5_3_0',\n",
       " 'nested_list_5_3_1',\n",
       " 'nested_list_5_3_2']"
      ]
     },
     "execution_count": 13,
     "metadata": {},
     "output_type": "execute_result"
    }
   ],
   "source": [
    "li.get_flattened_keys(mixed_structure)"
   ]
  },
  {
   "cell_type": "code",
   "execution_count": 14,
   "metadata": {},
   "outputs": [
    {
     "name": "stdout",
     "output_type": "stream",
     "text": [
      "{'nested_dict_a': 1, 'nested_dict_b_b_c': 2, 'nested_dict_b_b_d_e': 3, 'nested_list': [3, 5, 77, 11, [99], [11, 22, 33, [77, 21, 32]]]}\n"
     ]
    }
   ],
   "source": [
    "# only flatten dictionary\n",
    "flattened_dict = li.flatten(mixed_structure, dict_only=True)\n",
    "print(flattened_dict)"
   ]
  },
  {
   "cell_type": "code",
   "execution_count": 15,
   "metadata": {},
   "outputs": [
    {
     "data": {
      "text/plain": [
       "(True, list)"
      ]
     },
     "execution_count": 15,
     "metadata": {},
     "output_type": "execute_result"
    }
   ],
   "source": [
    "# you can check the structure types of a nested structure for whether they are mixed\n",
    "li.is_structure_homogeneous(nested_list, return_structure_type=True)"
   ]
  },
  {
   "cell_type": "markdown",
   "metadata": {},
   "source": [
    "#### unflatten"
   ]
  },
  {
   "cell_type": "code",
   "execution_count": 16,
   "metadata": {},
   "outputs": [
    {
     "name": "stdout",
     "output_type": "stream",
     "text": [
      "{'a': {'b': {'c': 1, 'd': 2}, 'e': 3}, 'f': 4, 'g': [5, 6, [7, 8]]}\n"
     ]
    }
   ],
   "source": [
    "# unflatten a flat dict (with key as path)\n",
    "flat_dict = {\n",
    "    'a_b_c': 1,\n",
    "    'a_b_d': 2,\n",
    "    'a_e': 3,\n",
    "    'f': 4,\n",
    "    'g_0': 5,\n",
    "    'g_1': 6,\n",
    "    'g_2_0': 7,\n",
    "    'g_2_1': 8\n",
    "}\n",
    "unflattened_dict = li.unflatten(flat_dict)\n",
    "print(unflattened_dict) "
   ]
  },
  {
   "cell_type": "code",
   "execution_count": 17,
   "metadata": {},
   "outputs": [
    {
     "name": "stdout",
     "output_type": "stream",
     "text": [
      "{'a': [{'c': 1, 'd': 2}, 3], 'f': 4}\n"
     ]
    }
   ],
   "source": [
    "# unflatten with custom logic\n",
    "def custom_key_processor(key_part):\n",
    "    if key_part.startswith('list'):\n",
    "        return int(key_part[4:])\n",
    "    return key_part\n",
    "\n",
    "flat_dict_custom = {\n",
    "    'a_list0_c': 1,\n",
    "    'a_list0_d': 2,\n",
    "    'a_list1': 3,\n",
    "    'f': 4\n",
    "}\n",
    "unflattened_dict_custom = li.unflatten(flat_dict_custom, custom_logic=custom_key_processor)\n",
    "print(unflattened_dict_custom)"
   ]
  },
  {
   "cell_type": "code",
   "execution_count": 18,
   "metadata": {},
   "outputs": [
    {
     "name": "stdout",
     "output_type": "stream",
     "text": [
      "{'d': 1, 'e': 2, 'f': 3, 'h': 4}\n",
      "{'a': {'d': 1, 'e': 2, 'f': 3}, 'g': {'h': 4}}\n",
      "{'a': {'b': {'d': 1, 'e': 2}, 'f': 3}, 'g': {'h': 4}}\n"
     ]
    }
   ],
   "source": [
    "# Example with max_depth:\n",
    "flat_dict_max_depth = {\n",
    "    'a_b_c_d': 1,\n",
    "    'a_b_c_e': 2,\n",
    "    'a_f': 3,\n",
    "    'g_h': 4\n",
    "}\n",
    "\n",
    "for i in range(3):\n",
    "  unflattened_dict_max_depth = li.unflatten(flat_dict_max_depth, max_depth=i)\n",
    "  print(unflattened_dict_max_depth)"
   ]
  }
 ],
 "metadata": {
  "kernelspec": {
   "display_name": "hub_test",
   "language": "python",
   "name": "python3"
  },
  "language_info": {
   "codemirror_mode": {
    "name": "ipython",
    "version": 3
   },
   "file_extension": ".py",
   "mimetype": "text/x-python",
   "name": "python",
   "nbconvert_exporter": "python",
   "pygments_lexer": "ipython3",
   "version": "3.11.7"
  }
 },
 "nbformat": 4,
 "nbformat_minor": 2
}
