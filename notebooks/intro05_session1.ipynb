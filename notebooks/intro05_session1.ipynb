{
 "cells": [
  {
   "cell_type": "markdown",
   "metadata": {},
   "source": [
    "## Understanding Session 1"
   ]
  },
  {
   "cell_type": "markdown",
   "metadata": {},
   "source": [
    "The `Session` object is at the core of lionagi.\n",
    "\n",
    "A session is an interface to\n",
    "- manages and logs various messages (system, user, assistant) in a conversation, \n",
    "- call API with rate_limit, and \n",
    "- enable effortless multi-round exchange between many participants. \n",
    "\n",
    "A Session object contains a `Conversation` object, which contains an `Message` object. \n",
    "- `Conversation`: create, manage, keep track of messages in a single conversation\n",
    "- `Message`: The smallest unit of data with a role"
   ]
  },
  {
   "cell_type": "code",
   "execution_count": 1,
   "metadata": {},
   "outputs": [],
   "source": [
    "import lionagi as li"
   ]
  },
  {
   "cell_type": "code",
   "execution_count": 2,
   "metadata": {},
   "outputs": [
    {
     "data": {
      "text/plain": [
       "{'model': 'gpt-4-1106-preview',\n",
       " 'frequency_penalty': 0,\n",
       " 'max_tokens': None,\n",
       " 'n': 1,\n",
       " 'presence_penalty': 0,\n",
       " 'response_format': {'type': 'text'},\n",
       " 'seed': None,\n",
       " 'stop': None,\n",
       " 'stream': False,\n",
       " 'temperature': 0.7,\n",
       " 'top_p': 1,\n",
       " 'tools': None,\n",
       " 'tool_choice': 'none',\n",
       " 'user': None}"
      ]
     },
     "execution_count": 2,
     "metadata": {},
     "output_type": "execute_result"
    }
   ],
   "source": [
    "# default\n",
    "from lionagi.configs import oai_schema\n",
    "\n",
    "oai_schema['chat/completions']['config']"
   ]
  },
  {
   "cell_type": "code",
   "execution_count": 3,
   "metadata": {},
   "outputs": [],
   "source": [
    "# create some messages\n",
    "sys_comedian = \"As a comedian, you are sarcastically funny\"\n",
    "instruct1 = \"very short joke: a blue whale and a big shark meet at the bar and start dancing\""
   ]
  },
  {
   "cell_type": "code",
   "execution_count": 4,
   "metadata": {},
   "outputs": [],
   "source": [
    "# create a llm conversation with OpenAI gpt-4\n",
    "comedian1 = li.Session(system=sys_comedian)\n",
    "joke1 = await comedian1.initiate(instruction=instruct1, max_token=50)"
   ]
  },
  {
   "cell_type": "code",
   "execution_count": 5,
   "metadata": {},
   "outputs": [
    {
     "data": {
      "text/markdown": [
       "A blue whale and a big shark meet at the bar and start dancing. The bartender looks over, shakes his head, and says, \"Well, there goes the neighborhood... and the dance floor... and the structural integrity of this establishment.\""
      ],
      "text/plain": [
       "<IPython.core.display.Markdown object>"
      ]
     },
     "execution_count": 5,
     "metadata": {},
     "output_type": "execute_result"
    }
   ],
   "source": [
    "from IPython.display import Markdown\n",
    "Markdown(joke1)"
   ]
  },
  {
   "cell_type": "markdown",
   "metadata": {},
   "source": [
    "You can change a LLM provider by choosing a pre-configured service, or create your own"
   ]
  },
  {
   "cell_type": "code",
   "execution_count": 6,
   "metadata": {},
   "outputs": [],
   "source": [
    "# default endpoint is chat/completions\n",
    "service = li.Services.OpenRouter(max_tokens=1000, max_requests=10, interval=60)\n",
    "\n",
    "# use any model from openrouter, you need an openrouter api key\n",
    "model = \"nousresearch/nous-hermes-yi-34b\""
   ]
  },
  {
   "cell_type": "code",
   "execution_count": 7,
   "metadata": {},
   "outputs": [],
   "source": [
    "comedian2 = li.Session(system=sys_comedian, dir=\"data/logs/comedian/\", service=service)\n",
    "joke2 = await comedian2.initiate(instruction=instruct1, model=model, max_token=50)"
   ]
  },
  {
   "cell_type": "code",
   "execution_count": 8,
   "metadata": {},
   "outputs": [
    {
     "data": {
      "text/markdown": [
       "\n",
       "{\"joke\": \"The blue whale and the big shark had a whale of a time at the bar!\"}"
      ],
      "text/plain": [
       "<IPython.core.display.Markdown object>"
      ]
     },
     "execution_count": 8,
     "metadata": {},
     "output_type": "execute_result"
    }
   ],
   "source": [
    "Markdown(joke2)"
   ]
  },
  {
   "cell_type": "code",
   "execution_count": 9,
   "metadata": {},
   "outputs": [
    {
     "data": {
      "text/html": [
       "<div>\n",
       "<style scoped>\n",
       "    .dataframe tbody tr th:only-of-type {\n",
       "        vertical-align: middle;\n",
       "    }\n",
       "\n",
       "    .dataframe tbody tr th {\n",
       "        vertical-align: top;\n",
       "    }\n",
       "\n",
       "    .dataframe thead th {\n",
       "        text-align: right;\n",
       "    }\n",
       "</style>\n",
       "<table border=\"1\" class=\"dataframe\">\n",
       "  <thead>\n",
       "    <tr style=\"text-align: right;\">\n",
       "      <th></th>\n",
       "      <th>node_id</th>\n",
       "      <th>role</th>\n",
       "      <th>name</th>\n",
       "      <th>timestamp</th>\n",
       "      <th>content</th>\n",
       "    </tr>\n",
       "  </thead>\n",
       "  <tbody>\n",
       "    <tr>\n",
       "      <th>0</th>\n",
       "      <td>ac6cfc4df0914941161171b333771c3d</td>\n",
       "      <td>system</td>\n",
       "      <td>system</td>\n",
       "      <td>2024-01-18 13:15:20.380715</td>\n",
       "      <td>{\"system_info\": \"As a comedian, you are sarcas...</td>\n",
       "    </tr>\n",
       "    <tr>\n",
       "      <th>1</th>\n",
       "      <td>f536c4c76c862dee8ec133756e67098f</td>\n",
       "      <td>user</td>\n",
       "      <td>user</td>\n",
       "      <td>2024-01-18 13:15:20.381720</td>\n",
       "      <td>{\"instruction\": \"very short joke: a blue whale...</td>\n",
       "    </tr>\n",
       "    <tr>\n",
       "      <th>2</th>\n",
       "      <td>b38068a7e532dd71a74e2441791a817f</td>\n",
       "      <td>assistant</td>\n",
       "      <td>assistant</td>\n",
       "      <td>2024-01-18 13:15:21.981097</td>\n",
       "      <td>{\"response\": \"\\n{\\\"joke\\\": \\\"The blue whale an...</td>\n",
       "    </tr>\n",
       "  </tbody>\n",
       "</table>\n",
       "</div>"
      ],
      "text/plain": [
       "                            node_id       role       name  \\\n",
       "0  ac6cfc4df0914941161171b333771c3d     system     system   \n",
       "1  f536c4c76c862dee8ec133756e67098f       user       user   \n",
       "2  b38068a7e532dd71a74e2441791a817f  assistant  assistant   \n",
       "\n",
       "                   timestamp  \\\n",
       "0 2024-01-18 13:15:20.380715   \n",
       "1 2024-01-18 13:15:20.381720   \n",
       "2 2024-01-18 13:15:21.981097   \n",
       "\n",
       "                                             content  \n",
       "0  {\"system_info\": \"As a comedian, you are sarcas...  \n",
       "1  {\"instruction\": \"very short joke: a blue whale...  \n",
       "2  {\"response\": \"\\n{\\\"joke\\\": \\\"The blue whale an...  "
      ]
     },
     "execution_count": 9,
     "metadata": {},
     "output_type": "execute_result"
    }
   ],
   "source": [
    "comedian2.conversation.messages"
   ]
  }
 ],
 "metadata": {
  "kernelspec": {
   "display_name": "lion_dev",
   "language": "python",
   "name": "python3"
  },
  "language_info": {
   "codemirror_mode": {
    "name": "ipython",
    "version": 3
   },
   "file_extension": ".py",
   "mimetype": "text/x-python",
   "name": "python",
   "nbconvert_exporter": "python",
   "pygments_lexer": "ipython3",
   "version": "3.11.7"
  }
 },
 "nbformat": 4,
 "nbformat_minor": 2
}
