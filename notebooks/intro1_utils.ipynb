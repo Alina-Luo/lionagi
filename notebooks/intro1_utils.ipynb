{
 "cells": [
  {
   "cell_type": "markdown",
   "metadata": {},
   "source": [
    "# LionAGI Introduction 1: Utils\n",
    "\n",
    "LionAGI is equipped with a set of powerful system tools"
   ]
  },
  {
   "cell_type": "code",
   "execution_count": 1,
   "metadata": {},
   "outputs": [],
   "source": [
    "import lionagi as li"
   ]
  },
  {
   "cell_type": "markdown",
   "metadata": {},
   "source": [
    "### Special function calls"
   ]
  },
  {
   "cell_type": "markdown",
   "metadata": {},
   "source": [
    "Complicated loops and iterations are a pain for large data sets, and complex data structure \n",
    "\n",
    "special function call handlers are designed to reduce that pain to stay focus on the workflow"
   ]
  },
  {
   "cell_type": "code",
   "execution_count": 2,
   "metadata": {},
   "outputs": [],
   "source": [
    "# create a test input list\n",
    "a = [1,2,3,4,5]\n",
    "\n",
    "# create some test functions\n",
    "f1 = lambda x: x**2"
   ]
  },
  {
   "cell_type": "code",
   "execution_count": 3,
   "metadata": {},
   "outputs": [
    {
     "data": {
      "text/plain": [
       "[1, 4, 9, 16, 25]"
      ]
     },
     "execution_count": 3,
     "metadata": {},
     "output_type": "execute_result"
    }
   ],
   "source": [
    "# the first special function calling method is called l_call (list call)\n",
    "# you can operate a single function on the whole set of input list\n",
    "\n",
    "li.l_call(a, f1)"
   ]
  },
  {
   "cell_type": "code",
   "execution_count": 4,
   "metadata": {},
   "outputs": [
    {
     "data": {
      "text/plain": [
       "[2, 4, 6, 8, 10]"
      ]
     },
     "execution_count": 4,
     "metadata": {},
     "output_type": "execute_result"
    }
   ],
   "source": [
    "# the second is called m_call (map call) \n",
    "# provide a list of inputs and a list of functions of same length\n",
    "# output element-wise results,\n",
    "\n",
    "a = [1,2,3,4,5]\n",
    "\n",
    "f1 = lambda x: x+1\n",
    "f2 = lambda x: x+2\n",
    "f3 = lambda x: x+3\n",
    "f4 = lambda x: x+4\n",
    "f5 = lambda x: x+5\n",
    "\n",
    "# put these functions into a list\n",
    "f = [f1,f2,f3,f4,f5]\n",
    "\n",
    "li.m_call(a,f)"
   ]
  },
  {
   "cell_type": "code",
   "execution_count": 5,
   "metadata": {},
   "outputs": [
    {
     "data": {
      "text/plain": [
       "[[2, 3, 4, 5, 6],\n",
       " [3, 4, 5, 6, 7],\n",
       " [4, 5, 6, 7, 8],\n",
       " [5, 6, 7, 8, 9],\n",
       " [6, 7, 8, 9, 10]]"
      ]
     },
     "execution_count": 5,
     "metadata": {},
     "output_type": "execute_result"
    }
   ],
   "source": [
    "# e_call, explode call, it creates a 2-dimensional list\n",
    "# of each element applied with each function\n",
    "\n",
    "li.e_call(a,f)"
   ]
  },
  {
   "cell_type": "markdown",
   "metadata": {},
   "source": [
    "### Flatten nested dictionary"
   ]
  },
  {
   "cell_type": "code",
   "execution_count": 6,
   "metadata": {},
   "outputs": [
    {
     "data": {
      "text/plain": [
       "{'aa': 1, 'bb_cc': 2, 'bb_dd': 3, 'ee_ff': 4, 'ee_gg_hh': 5}"
      ]
     },
     "execution_count": 6,
     "metadata": {},
     "output_type": "execute_result"
    }
   ],
   "source": [
    "# get all nested dict outside return as an unnested dict, \n",
    "# preserve parent-child relationship, and key order\n",
    "\n",
    "a = {\n",
    "    'aa': 1,\n",
    "    'bb': {\n",
    "        'cc': 2,\n",
    "        'dd': 3\n",
    "        },\n",
    "    'ee': {\n",
    "        'ff': 4,\n",
    "        'gg': {\n",
    "            'hh': 5\n",
    "            }\n",
    "        }   \n",
    "    }\n",
    "\n",
    "li.to_flat_dict(a)"
   ]
  },
  {
   "cell_type": "code",
   "execution_count": 7,
   "metadata": {},
   "outputs": [
    {
     "data": {
      "text/plain": [
       "{'aa': 1, 'bb.cc': 2, 'bb.dd': 3, 'ee.ff': 4, 'ee.gg.hh': 5}"
      ]
     },
     "execution_count": 7,
     "metadata": {},
     "output_type": "execute_result"
    }
   ],
   "source": [
    "li.to_flat_dict(a, sep='.') # change separator"
   ]
  },
  {
   "cell_type": "markdown",
   "metadata": {},
   "source": [
    "### Type conversion and validation"
   ]
  },
  {
   "cell_type": "code",
   "execution_count": 8,
   "metadata": {},
   "outputs": [
    {
     "data": {
      "text/plain": [
       "[1, 2, 3, 4, 5]"
      ]
     },
     "execution_count": 8,
     "metadata": {},
     "output_type": "execute_result"
    }
   ],
   "source": [
    "# to_list can convert given object to list with many special features\n",
    "\n",
    "a1 = [[1,2],[[3],4],5]\n",
    "li.to_list(a1, flat=True) # flatten the list"
   ]
  },
  {
   "cell_type": "code",
   "execution_count": 9,
   "metadata": {},
   "outputs": [
    {
     "data": {
      "text/plain": [
       "['a', 1, 2.0, True]"
      ]
     },
     "execution_count": 9,
     "metadata": {},
     "output_type": "execute_result"
    }
   ],
   "source": [
    "a1 = [['a',1, [None,2.0]], True]\n",
    "\n",
    "li.to_list(a1, dropna=True) # also drop None"
   ]
  },
  {
   "cell_type": "code",
   "execution_count": 10,
   "metadata": {},
   "outputs": [
    {
     "data": {
      "text/plain": [
       "['a',\n",
       " 1,\n",
       " None,\n",
       " 2.0,\n",
       " True,\n",
       " {'aa': 1},\n",
       " {'bb_cc': 2},\n",
       " {'bb_dd': 3},\n",
       " {'ee_ff': 4},\n",
       " {'ee_gg_hh': 5}]"
      ]
     },
     "execution_count": 10,
     "metadata": {},
     "output_type": "execute_result"
    }
   ],
   "source": [
    "# combining to_list calls using different features can be very powerful\n",
    "a1 = [['a',1, [None, 2.0]], True] + li.to_list(a, flatten_dict=True)\n",
    "\n",
    "li.to_list(a1, flat=True, dropna=False)"
   ]
  },
  {
   "cell_type": "code",
   "execution_count": 11,
   "metadata": {},
   "outputs": [
    {
     "data": {
      "text/plain": [
       "1"
      ]
     },
     "execution_count": 11,
     "metadata": {},
     "output_type": "execute_result"
    }
   ],
   "source": [
    "# keep all numeric from a string return as a positive int (will have error if encouter .)\n",
    "li.str_to_num('1d24e', upper_bound=100, lower_bound=1)"
   ]
  },
  {
   "cell_type": "code",
   "execution_count": 12,
   "metadata": {},
   "outputs": [
    {
     "data": {
      "text/plain": [
       "1.0"
      ]
     },
     "execution_count": 12,
     "metadata": {},
     "output_type": "execute_result"
    }
   ],
   "source": [
    "# keep all numeric from a string return as a positive float (. must be behind a number immiediately)\n",
    "li.str_to_num('1d2.4df21234257e', upper_bound=100, lower_bound=0, num_type=float, precision=3)"
   ]
  },
  {
   "cell_type": "markdown",
   "metadata": {},
   "source": [
    "### Others"
   ]
  },
  {
   "cell_type": "code",
   "execution_count": 13,
   "metadata": {},
   "outputs": [
    {
     "data": {
      "text/plain": [
       "[{'aa': 1, 'bb': {'cc': 2, 'dd': 3}, 'ee': {'ff': 4, 'gg': {'hh': 5}}},\n",
       " {'aa': 1, 'bb': {'cc': 2, 'dd': 3}, 'ee': {'ff': 4, 'gg': {'hh': 5}}},\n",
       " {'aa': 1, 'bb': {'cc': 2, 'dd': 3}, 'ee': {'ff': 4, 'gg': {'hh': 5}}}]"
      ]
     },
     "execution_count": 13,
     "metadata": {},
     "output_type": "execute_result"
    }
   ],
   "source": [
    "# create deep copies of any object\n",
    "li.make_copy(a,3)"
   ]
  },
  {
   "cell_type": "code",
   "execution_count": 14,
   "metadata": {},
   "outputs": [
    {
     "data": {
      "text/plain": [
       "3"
      ]
     },
     "execution_count": 14,
     "metadata": {},
     "output_type": "execute_result"
    }
   ],
   "source": [
    "len(a)"
   ]
  },
  {
   "cell_type": "code",
   "execution_count": 15,
   "metadata": {},
   "outputs": [
    {
     "data": {
      "text/plain": [
       "{'aa': 1, 'bb.cc': 2, 'bb.dd': 3, 'ee.ff': 4, 'ee.gg.hh': 5}"
      ]
     },
     "execution_count": 15,
     "metadata": {},
     "output_type": "execute_result"
    }
   ],
   "source": [
    "f = lambda x: li.to_flat_dict(a, sep='.')\n",
    "li.hold_call(a, f, sleep=1)"
   ]
  },
  {
   "cell_type": "code",
   "execution_count": 16,
   "metadata": {},
   "outputs": [
    {
     "name": "stdout",
     "output_type": "stream",
     "text": [
      "exception ignored  Error: test\n"
     ]
    }
   ],
   "source": [
    "def ff(x):\n",
    "    raise Exception('test')\n",
    "\n",
    "li.hold_call(a, ff, sleep=1, ignore_error=True, message='exception ignored ')"
   ]
  },
  {
   "cell_type": "code",
   "execution_count": 17,
   "metadata": {},
   "outputs": [
    {
     "name": "stdout",
     "output_type": "stream",
     "text": [
      "exception not ignored  Error: test\n"
     ]
    },
    {
     "ename": "Exception",
     "evalue": "test",
     "output_type": "error",
     "traceback": [
      "\u001b[0;31m---------------------------------------------------------------------------\u001b[0m",
      "\u001b[0;31mException\u001b[0m                                 Traceback (most recent call last)",
      "\u001b[1;32m/Users/lion/Documents/GitHub/lionagi/notebooks/intro1_utils.ipynb Cell 23\u001b[0m line \u001b[0;36m1\n\u001b[0;32m----> <a href='vscode-notebook-cell:/Users/lion/Documents/GitHub/lionagi/notebooks/intro1_utils.ipynb#X31sZmlsZQ%3D%3D?line=0'>1</a>\u001b[0m li\u001b[39m.\u001b[39;49mhold_call(a, ff, sleep\u001b[39m=\u001b[39;49m\u001b[39m1\u001b[39;49m, ignore_error\u001b[39m=\u001b[39;49m\u001b[39mFalse\u001b[39;49;00m, message\u001b[39m=\u001b[39;49m\u001b[39m'\u001b[39;49m\u001b[39mexception not ignored \u001b[39;49m\u001b[39m'\u001b[39;49m)\n",
      "File \u001b[0;32m~/anaconda3/envs/test312/lib/python3.12/site-packages/lionagi/utils/sys_util.py:369\u001b[0m, in \u001b[0;36mhold_call\u001b[0;34m(input, func, sleep, message, ignore_error, **kwargs)\u001b[0m\n\u001b[1;32m    367\u001b[0m \u001b[39mtry\u001b[39;00m:\n\u001b[1;32m    368\u001b[0m     time\u001b[39m.\u001b[39msleep(sleep)\n\u001b[0;32m--> 369\u001b[0m     \u001b[39mreturn\u001b[39;00m func(\u001b[39minput\u001b[39;49m, \u001b[39m*\u001b[39;49m\u001b[39m*\u001b[39;49mkwargs)\n\u001b[1;32m    370\u001b[0m \u001b[39mexcept\u001b[39;00m \u001b[39mException\u001b[39;00m \u001b[39mas\u001b[39;00m e:\n\u001b[1;32m    371\u001b[0m     \u001b[39mif\u001b[39;00m message:\n",
      "\u001b[1;32m/Users/lion/Documents/GitHub/lionagi/notebooks/intro1_utils.ipynb Cell 23\u001b[0m line \u001b[0;36m2\n\u001b[1;32m      <a href='vscode-notebook-cell:/Users/lion/Documents/GitHub/lionagi/notebooks/intro1_utils.ipynb#X31sZmlsZQ%3D%3D?line=0'>1</a>\u001b[0m \u001b[39mdef\u001b[39;00m \u001b[39mff\u001b[39m(x):\n\u001b[0;32m----> <a href='vscode-notebook-cell:/Users/lion/Documents/GitHub/lionagi/notebooks/intro1_utils.ipynb#X31sZmlsZQ%3D%3D?line=1'>2</a>\u001b[0m     \u001b[39mraise\u001b[39;00m \u001b[39mException\u001b[39;00m(\u001b[39m'\u001b[39m\u001b[39mtest\u001b[39m\u001b[39m'\u001b[39m)\n",
      "\u001b[0;31mException\u001b[0m: test"
     ]
    }
   ],
   "source": [
    "li.hold_call(a, ff, sleep=1, ignore_error=False, message='exception not ignored ')"
   ]
  }
 ],
 "metadata": {
  "kernelspec": {
   "display_name": "lionagi",
   "language": "python",
   "name": "python3"
  },
  "language_info": {
   "codemirror_mode": {
    "name": "ipython",
    "version": 3
   },
   "file_extension": ".py",
   "mimetype": "text/x-python",
   "name": "python",
   "nbconvert_exporter": "python",
   "pygments_lexer": "ipython3",
   "version": "3.12.0"
  }
 },
 "nbformat": 4,
 "nbformat_minor": 2
}
