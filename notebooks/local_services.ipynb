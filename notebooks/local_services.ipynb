{
 "cells": [
  {
   "cell_type": "code",
   "execution_count": 1,
   "metadata": {},
   "outputs": [],
   "source": [
    "import lionagi as li"
   ]
  },
  {
   "cell_type": "markdown",
   "metadata": {},
   "source": [
    "### mlx_lm"
   ]
  },
  {
   "cell_type": "code",
   "execution_count": 2,
   "metadata": {},
   "outputs": [
    {
     "data": {
      "application/vnd.jupyter.widget-view+json": {
       "model_id": "df992120fdb4467fbc89093a0a48f601",
       "version_major": 2,
       "version_minor": 0
      },
      "text/plain": [
       "Fetching 9 files:   0%|          | 0/9 [00:00<?, ?it/s]"
      ]
     },
     "metadata": {},
     "output_type": "display_data"
    }
   ],
   "source": [
    "mlx_service = li.Services.MLX(\n",
    "    model = \"mlx-community/OLMo-7B-hf-4bit-mlx\")\n",
    "\n",
    "session = li.Session(system='this is a test', service=mlx_service)\n",
    "\n",
    "response = await session.chat(\n",
    "    \"Similarity between pizza and quantum mechanics, in few words, use rhymes\", \n",
    "    max_tokens=100\n",
    ")"
   ]
  },
  {
   "cell_type": "code",
   "execution_count": 3,
   "metadata": {},
   "outputs": [
    {
     "name": "stdout",
     "output_type": "stream",
     "text": [
      "\n",
      "```\n",
      "pizza is similar to quantum mechanics\n",
      "because they both have a lot of rules\n",
      "and they both have a lot of things that are the same\n",
      "```\n",
      "\n",
      "## Usage\n",
      "\n",
      "```\n",
      "Usage:\n",
      "  pizza [OPTIONS]\n",
      "\n",
      "Options:\n",
      "  -h, --help  Show this help text\n",
      "```\n",
      "\n",
      "## License\n",
      "\n",
      "MIT\n"
     ]
    }
   ],
   "source": [
    "print(response)"
   ]
  },
  {
   "cell_type": "markdown",
   "metadata": {},
   "source": [
    "### Transformers"
   ]
  },
  {
   "cell_type": "code",
   "execution_count": 4,
   "metadata": {},
   "outputs": [
    {
     "data": {
      "application/vnd.jupyter.widget-view+json": {
       "model_id": "a84b82ad87794a029b0a461dd841301d",
       "version_major": 2,
       "version_minor": 0
      },
      "text/plain": [
       "Loading checkpoint shards:   0%|          | 0/2 [00:00<?, ?it/s]"
      ]
     },
     "metadata": {},
     "output_type": "display_data"
    },
    {
     "name": "stderr",
     "output_type": "stream",
     "text": [
      "Special tokens have been added in the vocabulary, make sure the associated word embeddings are fine-tuned or trained.\n"
     ]
    }
   ],
   "source": [
    "tf_service = li.Services.Transformers(\n",
    "    model='g-ronimo/phi-2-OpenHermes-2.5', \n",
    "    device='mps:0'\n",
    ")\n",
    "\n",
    "session = li.Session(system='a test', service=tf_service)\n",
    "\n",
    "response = await session.chat('how are you?', max_new_tokens=100)"
   ]
  },
  {
   "cell_type": "code",
   "execution_count": 5,
   "metadata": {},
   "outputs": [
    {
     "name": "stdout",
     "output_type": "stream",
     "text": [
      "You can use the following code to parse and extract data from JSON objects in Python: import jsonjson_data = '[{\"id\": 1, \"name\": \"John\", \"age\": 30, \"city\": \"New York\"}, {\"id\": 2, \"name\": \"Jane\", \"age\": 25, \"city\": \"Chicago\"}', \"'parsed_data = json.loads(json_data)for item in parsed_data:    print\"]\n"
     ]
    }
   ],
   "source": [
    "print(response)"
   ]
  },
  {
   "cell_type": "code",
   "execution_count": null,
   "metadata": {},
   "outputs": [],
   "source": []
  },
  {
   "cell_type": "markdown",
   "metadata": {},
   "source": [
    "### Ollama"
   ]
  },
  {
   "cell_type": "code",
   "execution_count": 6,
   "metadata": {},
   "outputs": [],
   "source": [
    "ollama_service = li.Services.Ollama(model='llama2')\n",
    "ollama_service = li.Services.Ollama(model='gemma')\n",
    "ollama_service = li.Services.Ollama(model='mixtral')\n",
    "\n",
    "session = li.Session(system='a test', service=ollama_service)\n",
    "session = li.Session(system='a test', service=ollama_service)\n",
    "session = li.Session(system='a test', service=ollama_service)\n",
    "\n",
    "llama2_response = await session.chat('how are you')\n",
    "gemma_response = await session.chat('how are you')\n",
    "mixtral_response = await session.chat('how are you')\n",
    "\n",
    "print(f\"llama2: {llama2_response}\")\n",
    "print(f\"gemma: {gemma_response}\")\n",
    "print(f\"mixtral: {mixtral_response}\")"
   ]
  },
  {
   "cell_type": "code",
   "execution_count": null,
   "metadata": {},
   "outputs": [],
   "source": [
    "\n",
    "\n",
    "\n"
   ]
  },
  {
   "cell_type": "code",
   "execution_count": null,
   "metadata": {},
   "outputs": [],
   "source": [
    "\n",
    "\n",
    "\n"
   ]
  }
 ],
 "metadata": {
  "kernelspec": {
   "display_name": "import_test1",
   "language": "python",
   "name": "python3"
  },
  "language_info": {
   "codemirror_mode": {
    "name": "ipython",
    "version": 3
   },
   "file_extension": ".py",
   "mimetype": "text/x-python",
   "name": "python",
   "nbconvert_exporter": "python",
   "pygments_lexer": "ipython3",
   "version": "3.11.7"
  }
 },
 "nbformat": 4,
 "nbformat_minor": 2
}
