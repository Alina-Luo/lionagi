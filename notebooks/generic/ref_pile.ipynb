{
 "cells": [
  {
   "cell_type": "code",
   "execution_count": 1,
   "metadata": {},
   "outputs": [],
   "source": [
    "from lionagi.core.generic._pile import pile"
   ]
  },
  {
   "cell_type": "code",
   "execution_count": 2,
   "metadata": {},
   "outputs": [],
   "source": [
    "# you can create a pile object by calling the constructor directly\n",
    "# Pile class constructor takes only keyword arguments\n",
    "\n",
    "items = [pile() for _ in range(10)]  # first we create 10 pile objects\n",
    "item1 = items[0]"
   ]
  },
  {
   "cell_type": "code",
   "execution_count": 3,
   "metadata": {},
   "outputs": [],
   "source": [
    "# or you can use the pile function\n",
    "# you can specify the type of the items in the pile,\n",
    "\n",
    "a = pile(items)"
   ]
  },
  {
   "cell_type": "code",
   "execution_count": 4,
   "metadata": {},
   "outputs": [
    {
     "data": {
      "text/plain": [
       "10"
      ]
     },
     "execution_count": 4,
     "metadata": {},
     "output_type": "execute_result"
    }
   ],
   "source": [
    "len(a)"
   ]
  },
  {
   "cell_type": "markdown",
   "metadata": {},
   "source": [
    "### Dictionary-like methods"
   ]
  },
  {
   "cell_type": "code",
   "execution_count": 5,
   "metadata": {},
   "outputs": [
    {
     "name": "stdout",
     "output_type": "stream",
     "text": [
      "3828771f8a7aed45a13cb2a022145f1d\n",
      "c8e2b8cca8fe84792b0ed97216be5960\n",
      "fff4be5dc484498b89c1a46149e879ca\n",
      "d7717e67b85110024719f2893d6b37ee\n",
      "9a0aaf9cb8fbeee31c06c5f74c4f8202\n",
      "5f30a1080d0ee29715d576ce945d356c\n",
      "38f8e1c174a45201352cbc17ecf67c28\n",
      "714196f44143f4a6b309f751427b3076\n",
      "584b6e0a567eed057495d9e66b183984\n",
      "9edac073ac53e0a34da960d7ca5ad9f6\n"
     ]
    }
   ],
   "source": [
    "for i in a.keys():\n",
    "    print(i)"
   ]
  },
  {
   "cell_type": "code",
   "execution_count": 6,
   "metadata": {},
   "outputs": [
    {
     "data": {
      "text/plain": [
       "[Pile(ln_id='3828771f8a7aed45a13cb2a022145f1d', timestamp='2024-05-03T20:09:49.843797', metadata={}, extra_fields={}, content=None, pile={}, item_type=None),\n",
       " Pile(ln_id='c8e2b8cca8fe84792b0ed97216be5960', timestamp='2024-05-03T20:09:49.843816', metadata={}, extra_fields={}, content=None, pile={}, item_type=None),\n",
       " Pile(ln_id='fff4be5dc484498b89c1a46149e879ca', timestamp='2024-05-03T20:09:49.843826', metadata={}, extra_fields={}, content=None, pile={}, item_type=None),\n",
       " Pile(ln_id='d7717e67b85110024719f2893d6b37ee', timestamp='2024-05-03T20:09:49.843840', metadata={}, extra_fields={}, content=None, pile={}, item_type=None),\n",
       " Pile(ln_id='9a0aaf9cb8fbeee31c06c5f74c4f8202', timestamp='2024-05-03T20:09:49.843849', metadata={}, extra_fields={}, content=None, pile={}, item_type=None),\n",
       " Pile(ln_id='5f30a1080d0ee29715d576ce945d356c', timestamp='2024-05-03T20:09:49.843862', metadata={}, extra_fields={}, content=None, pile={}, item_type=None),\n",
       " Pile(ln_id='38f8e1c174a45201352cbc17ecf67c28', timestamp='2024-05-03T20:09:49.843871', metadata={}, extra_fields={}, content=None, pile={}, item_type=None),\n",
       " Pile(ln_id='714196f44143f4a6b309f751427b3076', timestamp='2024-05-03T20:09:49.843883', metadata={}, extra_fields={}, content=None, pile={}, item_type=None),\n",
       " Pile(ln_id='584b6e0a567eed057495d9e66b183984', timestamp='2024-05-03T20:09:49.843891', metadata={}, extra_fields={}, content=None, pile={}, item_type=None),\n",
       " Pile(ln_id='9edac073ac53e0a34da960d7ca5ad9f6', timestamp='2024-05-03T20:09:49.843900', metadata={}, extra_fields={}, content=None, pile={}, item_type=None)]"
      ]
     },
     "execution_count": 6,
     "metadata": {},
     "output_type": "execute_result"
    }
   ],
   "source": [
    "values = a.values()\n",
    "list(values)"
   ]
  },
  {
   "cell_type": "code",
   "execution_count": 7,
   "metadata": {},
   "outputs": [
    {
     "data": {
      "text/plain": [
       "[('3828771f8a7aed45a13cb2a022145f1d',\n",
       "  Pile(ln_id='3828771f8a7aed45a13cb2a022145f1d', timestamp='2024-05-03T20:09:49.843797', metadata={}, extra_fields={}, content=None, pile={}, item_type=None)),\n",
       " ('c8e2b8cca8fe84792b0ed97216be5960',\n",
       "  Pile(ln_id='c8e2b8cca8fe84792b0ed97216be5960', timestamp='2024-05-03T20:09:49.843816', metadata={}, extra_fields={}, content=None, pile={}, item_type=None)),\n",
       " ('fff4be5dc484498b89c1a46149e879ca',\n",
       "  Pile(ln_id='fff4be5dc484498b89c1a46149e879ca', timestamp='2024-05-03T20:09:49.843826', metadata={}, extra_fields={}, content=None, pile={}, item_type=None)),\n",
       " ('d7717e67b85110024719f2893d6b37ee',\n",
       "  Pile(ln_id='d7717e67b85110024719f2893d6b37ee', timestamp='2024-05-03T20:09:49.843840', metadata={}, extra_fields={}, content=None, pile={}, item_type=None)),\n",
       " ('9a0aaf9cb8fbeee31c06c5f74c4f8202',\n",
       "  Pile(ln_id='9a0aaf9cb8fbeee31c06c5f74c4f8202', timestamp='2024-05-03T20:09:49.843849', metadata={}, extra_fields={}, content=None, pile={}, item_type=None)),\n",
       " ('5f30a1080d0ee29715d576ce945d356c',\n",
       "  Pile(ln_id='5f30a1080d0ee29715d576ce945d356c', timestamp='2024-05-03T20:09:49.843862', metadata={}, extra_fields={}, content=None, pile={}, item_type=None)),\n",
       " ('38f8e1c174a45201352cbc17ecf67c28',\n",
       "  Pile(ln_id='38f8e1c174a45201352cbc17ecf67c28', timestamp='2024-05-03T20:09:49.843871', metadata={}, extra_fields={}, content=None, pile={}, item_type=None)),\n",
       " ('714196f44143f4a6b309f751427b3076',\n",
       "  Pile(ln_id='714196f44143f4a6b309f751427b3076', timestamp='2024-05-03T20:09:49.843883', metadata={}, extra_fields={}, content=None, pile={}, item_type=None)),\n",
       " ('584b6e0a567eed057495d9e66b183984',\n",
       "  Pile(ln_id='584b6e0a567eed057495d9e66b183984', timestamp='2024-05-03T20:09:49.843891', metadata={}, extra_fields={}, content=None, pile={}, item_type=None)),\n",
       " ('9edac073ac53e0a34da960d7ca5ad9f6',\n",
       "  Pile(ln_id='9edac073ac53e0a34da960d7ca5ad9f6', timestamp='2024-05-03T20:09:49.843900', metadata={}, extra_fields={}, content=None, pile={}, item_type=None))]"
      ]
     },
     "execution_count": 7,
     "metadata": {},
     "output_type": "execute_result"
    }
   ],
   "source": [
    "items = a.items()\n",
    "list(items)"
   ]
  },
  {
   "cell_type": "markdown",
   "metadata": {},
   "source": [
    "#### get methods"
   ]
  },
  {
   "cell_type": "code",
   "execution_count": 8,
   "metadata": {},
   "outputs": [
    {
     "data": {
      "text/plain": [
       "True"
      ]
     },
     "execution_count": 8,
     "metadata": {},
     "output_type": "execute_result"
    }
   ],
   "source": [
    "# all equivalent ways to get an item from a pile\n",
    "get_a = a[item1]\n",
    "get_b = a[item1.ln_id]\n",
    "get_c = a.get(item1)\n",
    "get_d = a.get(item1.ln_id)\n",
    "\n",
    "all([i == item1 for i in [get_a, get_b, get_c, get_d]])"
   ]
  },
  {
   "cell_type": "markdown",
   "metadata": {},
   "source": [
    "#### set methods"
   ]
  },
  {
   "cell_type": "code",
   "execution_count": 9,
   "metadata": {},
   "outputs": [
    {
     "name": "stdout",
     "output_type": "stream",
     "text": [
      "True\n",
      "True\n"
     ]
    }
   ],
   "source": [
    "pile_2 = pile()\n",
    "\n",
    "a[pile_2] = pile_2\n",
    "a[pile_2.ln_id] = pile_2\n",
    "\n",
    "# containment checks an LionIDable object\n",
    "print(pile_2 in a)\n",
    "print(pile_2.ln_id in a)"
   ]
  },
  {
   "cell_type": "code",
   "execution_count": 10,
   "metadata": {},
   "outputs": [
    {
     "name": "stdout",
     "output_type": "stream",
     "text": [
      "True\n"
     ]
    }
   ],
   "source": [
    "pile_3 = pile()\n",
    "\n",
    "a.include(pile_3)\n",
    "\n",
    "print(pile_3 in a)"
   ]
  },
  {
   "cell_type": "markdown",
   "metadata": {},
   "source": [
    "#### remove methods"
   ]
  },
  {
   "cell_type": "code",
   "execution_count": 11,
   "metadata": {},
   "outputs": [
    {
     "data": {
      "text/plain": [
       "Pile(ln_id='f354272b1400106c143208c2ddbf7d4b', timestamp='2024-05-03T20:09:49.875682', metadata={}, extra_fields={}, content=None, pile={}, item_type=None)"
      ]
     },
     "execution_count": 11,
     "metadata": {},
     "output_type": "execute_result"
    }
   ],
   "source": [
    "# pop will return an obj\n",
    "a.pop(pile_3)"
   ]
  },
  {
   "cell_type": "code",
   "execution_count": 12,
   "metadata": {},
   "outputs": [
    {
     "data": {
      "text/plain": [
       "False"
      ]
     },
     "execution_count": 12,
     "metadata": {},
     "output_type": "execute_result"
    }
   ],
   "source": [
    "pile_3 in a"
   ]
  },
  {
   "cell_type": "code",
   "execution_count": 13,
   "metadata": {},
   "outputs": [
    {
     "data": {
      "text/plain": [
       "False"
      ]
     },
     "execution_count": 13,
     "metadata": {},
     "output_type": "execute_result"
    }
   ],
   "source": [
    "# remove won't return anything\n",
    "a.remove(pile_2)\n",
    "pile_2 in a"
   ]
  },
  {
   "cell_type": "code",
   "execution_count": 14,
   "metadata": {},
   "outputs": [
    {
     "name": "stdout",
     "output_type": "stream",
     "text": [
      "Item not found. Item: 'Pile(id: 88ab589ce019b4680a7f8c6b11bde53d, created: 2024-05-03T20:09:49, updated: [])'.\n"
     ]
    }
   ],
   "source": [
    "# you cannot remove an object that is not in the pile\n",
    "try:\n",
    "    a.remove(pile_2)\n",
    "except Exception as e:\n",
    "    print(e)"
   ]
  },
  {
   "cell_type": "code",
   "execution_count": 15,
   "metadata": {},
   "outputs": [
    {
     "data": {
      "text/plain": [
       "True"
      ]
     },
     "execution_count": 15,
     "metadata": {},
     "output_type": "execute_result"
    }
   ],
   "source": [
    "# but using exclude will not raise an error\n",
    "a.exclude(pile_2)"
   ]
  },
  {
   "cell_type": "code",
   "execution_count": 16,
   "metadata": {},
   "outputs": [
    {
     "data": {
      "text/plain": [
       "False"
      ]
     },
     "execution_count": 16,
     "metadata": {},
     "output_type": "execute_result"
    }
   ],
   "source": [
    "a.exclude(item1)\n",
    "item1 in a"
   ]
  },
  {
   "cell_type": "markdown",
   "metadata": {},
   "source": [
    "### Utility methods"
   ]
  },
  {
   "cell_type": "code",
   "execution_count": 17,
   "metadata": {},
   "outputs": [
    {
     "data": {
      "text/plain": [
       "True"
      ]
     },
     "execution_count": 17,
     "metadata": {},
     "output_type": "execute_result"
    }
   ],
   "source": [
    "a.is_homogenous()"
   ]
  },
  {
   "cell_type": "code",
   "execution_count": 18,
   "metadata": {},
   "outputs": [],
   "source": [
    "a.clear()"
   ]
  },
  {
   "cell_type": "code",
   "execution_count": 19,
   "metadata": {},
   "outputs": [
    {
     "data": {
      "text/plain": [
       "True"
      ]
     },
     "execution_count": 19,
     "metadata": {},
     "output_type": "execute_result"
    }
   ],
   "source": [
    "a.is_empty()"
   ]
  },
  {
   "cell_type": "markdown",
   "metadata": {},
   "source": [
    "## Magic Methods"
   ]
  },
  {
   "cell_type": "code",
   "execution_count": 20,
   "metadata": {},
   "outputs": [],
   "source": [
    "pile1 = pile()\n",
    "pile2 = pile()\n",
    "pile3 = pile()"
   ]
  },
  {
   "cell_type": "code",
   "execution_count": 21,
   "metadata": {},
   "outputs": [
    {
     "data": {
      "text/plain": [
       "True"
      ]
     },
     "execution_count": 21,
     "metadata": {},
     "output_type": "execute_result"
    }
   ],
   "source": [
    "# include an item\n",
    "\n",
    "for i in [pile1, pile2, pile3]:\n",
    "    a += i\n",
    "\n",
    "pile1 in a"
   ]
  },
  {
   "cell_type": "code",
   "execution_count": 22,
   "metadata": {},
   "outputs": [
    {
     "data": {
      "text/plain": [
       "3"
      ]
     },
     "execution_count": 22,
     "metadata": {},
     "output_type": "execute_result"
    }
   ],
   "source": [
    "# when including items already included, we ignore them\n",
    "\n",
    "a += pile1\n",
    "len(a)"
   ]
  },
  {
   "cell_type": "code",
   "execution_count": 23,
   "metadata": {},
   "outputs": [
    {
     "data": {
      "text/plain": [
       "False"
      ]
     },
     "execution_count": 23,
     "metadata": {},
     "output_type": "execute_result"
    }
   ],
   "source": [
    "a -= pile1\n",
    "pile1 in a"
   ]
  },
  {
   "cell_type": "code",
   "execution_count": 24,
   "metadata": {},
   "outputs": [
    {
     "data": {
      "text/plain": [
       "2"
      ]
     },
     "execution_count": 24,
     "metadata": {},
     "output_type": "execute_result"
    }
   ],
   "source": [
    "len(a)"
   ]
  }
 ],
 "metadata": {
  "kernelspec": {
   "display_name": ".venv",
   "language": "python",
   "name": "python3"
  },
  "language_info": {
   "codemirror_mode": {
    "name": "ipython",
    "version": 3
   },
   "file_extension": ".py",
   "mimetype": "text/x-python",
   "name": "python",
   "nbconvert_exporter": "python",
   "pygments_lexer": "ipython3",
   "version": "3.11.6"
  }
 },
 "nbformat": 4,
 "nbformat_minor": 2
}
