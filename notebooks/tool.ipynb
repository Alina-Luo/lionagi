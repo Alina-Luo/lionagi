{
 "cells": [
  {
   "cell_type": "markdown",
   "metadata": {},
   "source": [
    "# Tool\n",
    "\n",
    "To ensure the smooth execution of function calls within the `Session` object, it is essential to register tools through the `Tool` object. This approach facilitates effective management and application of tools."
   ]
  },
  {
   "cell_type": "code",
   "execution_count": 1,
   "metadata": {},
   "outputs": [],
   "source": [
    "from lionagi import Tool"
   ]
  },
  {
   "cell_type": "markdown",
   "metadata": {},
   "source": [
    "## Tool Construction"
   ]
  },
  {
   "cell_type": "markdown",
   "metadata": {},
   "source": [
    "If you already have a well structured schema, you may directly construct a `Tool` object using the function and the corresponding schema."
   ]
  },
  {
   "cell_type": "code",
   "execution_count": 2,
   "metadata": {},
   "outputs": [],
   "source": [
    "tool_1=[\n",
    "    {\n",
    "        \"type\": \"function\",\n",
    "        \"function\": {\n",
    "            \"name\": \"multiply\",\n",
    "            \"description\": \"Perform multiplication on two numbers\",\n",
    "            \"parameters\": {\n",
    "                \"type\": \"object\",\n",
    "                \"properties\": {\n",
    "                    \"number1\": {\n",
    "                        \"type\": \"number\",\n",
    "                        \"description\": \"a number to multiply, e.g. 5.34\",\n",
    "                    },\n",
    "                    \"number2\": {\n",
    "                        \"type\": \"number\",\n",
    "                        \"description\": \"a number to multiply, e.g. 17\",\n",
    "                    },\n",
    "                },\n",
    "                # specify which parameters are required for the model to respond when function calling\n",
    "                \"required\": [\"number1\", \"number2\"],\n",
    "            },\n",
    "        }\n",
    "    }\n",
    "]\n",
    "\n",
    "def multiply(number1, number2):\n",
    "    return number1*number2"
   ]
  },
  {
   "cell_type": "code",
   "execution_count": 3,
   "metadata": {},
   "outputs": [],
   "source": [
    "tool_mul = Tool(func=multiply, schema_=tool_1[0])"
   ]
  },
  {
   "cell_type": "markdown",
   "metadata": {},
   "source": [
    "If you do not want to be bothered by writing a schema, `func_to_tool` can help you generate a schema and construct a `Tool` object for you. \n",
    "\n",
    "In the generated schema, parameter types are inferred from the function type hints, and descriptions are based on the docstring.\n",
    "\n",
    "Since the schema is crucial for function calling, a well-structured docstring is essential for the quality of the schema constructed for you. We currently support Google and reST style docstrings."
   ]
  },
  {
   "cell_type": "code",
   "execution_count": 4,
   "metadata": {},
   "outputs": [],
   "source": [
    "from lionagi import func_to_tool"
   ]
  },
  {
   "cell_type": "code",
   "execution_count": 5,
   "metadata": {},
   "outputs": [
    {
     "data": {
      "text/plain": [
       "{'type': 'function',\n",
       " 'function': {'name': 'add_v1',\n",
       "  'description': 'No description available.',\n",
       "  'parameters': {'type': 'object',\n",
       "   'properties': {'number1': {'type': 'string',\n",
       "     'description': 'No description available.'},\n",
       "    'number2': {'type': 'string', 'description': 'No description available.'}},\n",
       "   'required': ['number1', 'number2']}}}"
      ]
     },
     "execution_count": 5,
     "metadata": {},
     "output_type": "execute_result"
    }
   ],
   "source": [
    "# No docstring and type hints\n",
    "def add_v1(number1, number2):\n",
    "    return number1+number2\n",
    "\n",
    "tool_add_v1 = func_to_tool(add_v1)\n",
    "tool_add_v1.schema_"
   ]
  },
  {
   "cell_type": "code",
   "execution_count": 6,
   "metadata": {},
   "outputs": [
    {
     "data": {
      "text/plain": [
       "{'type': 'function',\n",
       " 'function': {'name': 'add_v2',\n",
       "  'description': 'Add up two numbers.',\n",
       "  'parameters': {'type': 'object',\n",
       "   'properties': {'number1': {'type': 'number',\n",
       "     'description': 'First number to add.'},\n",
       "    'number2': {'type': 'number', 'description': 'Second number to add.'}},\n",
       "   'required': ['number1', 'number2']}}}"
      ]
     },
     "execution_count": 6,
     "metadata": {},
     "output_type": "execute_result"
    }
   ],
   "source": [
    "# google style docstring (default)\n",
    "def add_v2(number1:float, number2:float):\n",
    "    '''\n",
    "    Add up two numbers.\n",
    "\n",
    "    Args:\n",
    "        number1: First number to add.\n",
    "        number2: Second number to add.\n",
    "    \n",
    "    Returns:\n",
    "        The sum of number1 and number2.\n",
    "\n",
    "    '''\n",
    "    return number1+number2\n",
    "\n",
    "tool_add_v2 = func_to_tool(add_v2)\n",
    "tool_add_v2.schema_"
   ]
  },
  {
   "cell_type": "code",
   "execution_count": 7,
   "metadata": {},
   "outputs": [
    {
     "data": {
      "text/plain": [
       "{'type': 'function',\n",
       " 'function': {'name': 'add_v3',\n",
       "  'description': 'Add up two numbers.',\n",
       "  'parameters': {'type': 'object',\n",
       "   'properties': {'number1': {'type': 'number',\n",
       "     'description': 'First number to add.'},\n",
       "    'number2': {'type': 'number', 'description': 'Second number to add.'}},\n",
       "   'required': ['number1', 'number2']}}}"
      ]
     },
     "execution_count": 7,
     "metadata": {},
     "output_type": "execute_result"
    }
   ],
   "source": [
    "# reST style docstring\n",
    "def add_v3(number1:float, number2:float):\n",
    "    '''\n",
    "    Add up two numbers.\n",
    "\n",
    "    :param number1: First number to add.\n",
    "    :param number2: Second number to add.\n",
    "    :returns:  The sum of number1 and number2.\n",
    "    '''\n",
    "    return number1+number2\n",
    "\n",
    "tool_add_v3 = func_to_tool(add_v3, docstring_style='reST')\n",
    "tool_add_v3.schema_"
   ]
  },
  {
   "cell_type": "markdown",
   "metadata": {},
   "source": [
    "## Tools in Session"
   ]
  },
  {
   "cell_type": "markdown",
   "metadata": {},
   "source": [
    "It is crucial to register all tools needed for each session before using them. In the following steps, you can specify which tool or set of tools you want to use in that step."
   ]
  },
  {
   "cell_type": "code",
   "execution_count": 8,
   "metadata": {},
   "outputs": [],
   "source": [
    "import lionagi as li"
   ]
  },
  {
   "cell_type": "code",
   "execution_count": 9,
   "metadata": {},
   "outputs": [],
   "source": [
    "# and now some messages\n",
    "system = \"you are asked to perform as a function picker and parameter provider\"\n",
    "task = \"Think step by step, understand the following basic math question and provide parameters for function calling.\"\n",
    "\n",
    "# when using respond_mode as json to enforce output format, you need to provide specifying details in instruction\n",
    "json_format = {\"number1\": \"x\", \"number2\": \"y\"}\n",
    "\n",
    "instruct1 = {\"Task\": task, \"json_format\": json_format}"
   ]
  },
  {
   "cell_type": "code",
   "execution_count": 10,
   "metadata": {},
   "outputs": [],
   "source": [
    "question1 = \"There are [basketball, football, backpack, water bottle, strawberry, tennis ball, rockets]. each comes in four different colors, what is the number of unique kinds of ball?\"\n",
    "question2 = \"There are three fruits in total, each with 2 different colors, how many unique kinds of fruits are there?\"\n",
    "question3 = \"There are three cards facing up and two cards facing down. How many cards are there in total?\""
   ]
  },
  {
   "cell_type": "code",
   "execution_count": 11,
   "metadata": {},
   "outputs": [],
   "source": [
    "session = li.Session(system=system)\n",
    "\n",
    "session.register_tools([tool_mul, tool_add_v3])\n",
    "session.llmconfig.update({\n",
    "    \"temperature\":0.35,\n",
    "    \"tool_choice\": \"auto\", \n",
    "    \"response_format\": {'type':'json_object'}\n",
    "})"
   ]
  },
  {
   "cell_type": "markdown",
   "metadata": {},
   "source": [
    "If you want to specify a single tool to be used in this step, you can pass in:\n",
    "\n",
    "- the name of the tool (str)\n",
    "- the `Tool` object\n",
    "- a tool schema\n",
    "\n",
    "If you want to specify a subset of tools, you can pass in a list containing any of these three types."
   ]
  },
  {
   "cell_type": "code",
   "execution_count": 12,
   "metadata": {},
   "outputs": [],
   "source": [
    "response1 = await session.initiate(instruction=instruct1, context=question1, tools='multiply')"
   ]
  },
  {
   "cell_type": "code",
   "execution_count": 13,
   "metadata": {},
   "outputs": [],
   "source": [
    "response2 = await session.followup(instruction=instruct1, context=question2, tools=tool_1[0])"
   ]
  },
  {
   "cell_type": "code",
   "execution_count": 14,
   "metadata": {},
   "outputs": [],
   "source": [
    "response3 = await session.followup(instruction=instruct1, context=question3, tools=tool_add_v3)"
   ]
  },
  {
   "cell_type": "code",
   "execution_count": 15,
   "metadata": {},
   "outputs": [
    {
     "name": "stdout",
     "output_type": "stream",
     "text": [
      "Message(role=system, name=system, content='{'system': 'you are asked to perform as a function picker and parameter provider'}') \n",
      "\n",
      "Message(role=user, name=user, content='{'instruction': {'Task': 'Think step by step, understand the following basic math question and provide parameters for function calling.', 'json_format': {'number1': 'x', 'number2': 'y'}}, 'context': 'There are [basketball, football, backpack, water bottle, strawberry, tennis ball, rockets]. each comes in four different colors, what is the number of unique kinds of ball?'}') \n",
      "\n",
      "Message(role=assistant, name=assistant, content='{\n",
      "  \"tool_uses\": [\n",
      "    {\n",
      "      \"recipient_name\": \"functions.multiply\",\n",
      "    ...') \n",
      "\n",
      "Message(role=assistant, name=func_call, content='{'function': 'multiply', 'arguments': {'number1': 3, 'number2': 4}, 'output': 12}') \n",
      "\n",
      "Message(role=user, name=user, content='{'instruction': {'Task': 'Think step by step, understand the following basic math question and provide parameters for function calling.', 'json_format': {'number1': 'x', 'number2': 'y'}}, 'context': 'There are three fruits in total, each with 2 different colors, how many unique kinds of fruits are there?'}') \n",
      "\n",
      "Message(role=assistant, name=assistant, content='{\n",
      "  \"tool_uses\": [\n",
      "    {\n",
      "      \"recipient_name\": \"functions.multiply\",\n",
      "    ...') \n",
      "\n",
      "Message(role=assistant, name=func_call, content='{'function': 'multiply', 'arguments': {'number1': 3, 'number2': 2}, 'output': 6}') \n",
      "\n",
      "Message(role=user, name=user, content='{'instruction': {'Task': 'Think step by step, understand the following basic math question and provide parameters for function calling.', 'json_format': {'number1': 'x', 'number2': 'y'}}, 'context': 'There are three cards facing up and two cards facing down. How many cards are there in total?'}') \n",
      "\n",
      "Message(role=assistant, name=func_request, content='{'function_list': [{'function': 'func_add_v3', 'arguments': '{\\n  \"number1\": 3,\\n  \"number2\": 2\\n}'}]}') \n",
      "\n",
      "Message(role=assistant, name=func_call, content='{'function': 'add_v3', 'arguments': {'number1': 3, 'number2': 2}, 'output': 5}') \n",
      "\n"
     ]
    }
   ],
   "source": [
    "li.lcall(session.conversation.messages, lambda x: print(f'{x} \\n'));"
   ]
  }
 ],
 "metadata": {
  "kernelspec": {
   "display_name": ".venv",
   "language": "python",
   "name": "python3"
  },
  "language_info": {
   "codemirror_mode": {
    "name": "ipython",
    "version": 3
   },
   "file_extension": ".py",
   "mimetype": "text/x-python",
   "name": "python",
   "nbconvert_exporter": "python",
   "pygments_lexer": "ipython3",
   "version": "3.10.6"
  }
 },
 "nbformat": 4,
 "nbformat_minor": 2
}
